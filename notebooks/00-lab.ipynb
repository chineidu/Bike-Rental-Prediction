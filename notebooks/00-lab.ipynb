{
 "cells": [
  {
   "cell_type": "markdown",
   "id": "236f62b9",
   "metadata": {},
   "source": [
    "# Lab For Experimentation"
   ]
  },
  {
   "cell_type": "code",
   "execution_count": 4,
   "id": "917effb0",
   "metadata": {},
   "outputs": [
    {
     "name": "stdout",
     "output_type": "stream",
     "text": [
      "The lab_black extension is already loaded. To reload it, use:\n",
      "  %reload_ext lab_black\n",
      "The autoreload extension is already loaded. To reload it, use:\n",
      "  %reload_ext autoreload\n"
     ]
    }
   ],
   "source": [
    "import warnings\n",
    "from typing import Any\n",
    "\n",
    "import numpy as np\n",
    "import pandas as pd\n",
    "import polars as pl\n",
    "import polars.selectors as cs\n",
    "from rich.console import Console\n",
    "from rich.theme import Theme\n",
    "\n",
    "custom_theme = Theme(\n",
    "    {\n",
    "        \"white\": \"#FFFFFF\",  # Bright white\n",
    "        \"info\": \"#00FF00\",  # Bright green\n",
    "        \"warning\": \"#FFD700\",  # Bright gold\n",
    "        \"error\": \"#FF1493\",  # Deep pink\n",
    "        \"success\": \"#00FFFF\",  # Cyan\n",
    "        \"highlight\": \"#FF4500\",  # Orange-red\n",
    "    }\n",
    ")\n",
    "console = Console(theme=custom_theme)\n",
    "\n",
    "# Visualization\n",
    "# import matplotlib.pyplot as plt\n",
    "\n",
    "# NumPy settings\n",
    "np.set_printoptions(precision=4)\n",
    "\n",
    "# Pandas settings\n",
    "pd.options.display.max_rows = 1_000\n",
    "pd.options.display.max_columns = 1_000\n",
    "pd.options.display.max_colwidth = 600\n",
    "\n",
    "# Polars settings\n",
    "pl.Config.set_fmt_str_lengths(1_000)\n",
    "pl.Config.set_tbl_cols(n=1_000)\n",
    "pl.Config.set_tbl_rows(n=200)\n",
    "\n",
    "warnings.filterwarnings(\"ignore\")\n",
    "\n",
    "# Black code formatter (Optional)\n",
    "%load_ext lab_black\n",
    "\n",
    "# auto reload imports\n",
    "%load_ext autoreload\n",
    "%autoreload 2"
   ]
  },
  {
   "cell_type": "code",
   "execution_count": 2,
   "id": "228c8d0e",
   "metadata": {},
   "outputs": [],
   "source": [
    "def go_up_from_current_directory(*, go_up: int = 1) -> None:\n",
    "    \"\"\"This is used to up a number of directories.\n",
    "\n",
    "    Params:\n",
    "    -------\n",
    "    go_up: int, default=1\n",
    "        This indicates the number of times to go back up from the current directory.\n",
    "\n",
    "    Returns:\n",
    "    --------\n",
    "    None\n",
    "    \"\"\"\n",
    "    import os\n",
    "    import sys\n",
    "\n",
    "    CONST: str = \"../\"\n",
    "    NUM: str = CONST * go_up\n",
    "\n",
    "    # Goto the previous directory\n",
    "    prev_directory = os.path.join(os.path.dirname(__name__), NUM)\n",
    "    # Get the 'absolute path' of the previous directory\n",
    "    abs_path_prev_directory = os.path.abspath(prev_directory)\n",
    "\n",
    "    # Add the path to the System paths\n",
    "    sys.path.insert(0, abs_path_prev_directory)\n",
    "    print(abs_path_prev_directory)"
   ]
  },
  {
   "cell_type": "code",
   "execution_count": 3,
   "id": "651f550e",
   "metadata": {},
   "outputs": [
    {
     "name": "stdout",
     "output_type": "stream",
     "text": [
      "/Users/mac/Desktop/Projects/Bike-Rental-Prediction\n"
     ]
    }
   ],
   "source": [
    "go_up_from_current_directory(go_up=1)"
   ]
  },
  {
   "cell_type": "code",
   "execution_count": 5,
   "id": "23621787",
   "metadata": {},
   "outputs": [
    {
     "data": {
      "text/html": [
       "<div><style>\n",
       ".dataframe > thead > tr,\n",
       ".dataframe > tbody > tr {\n",
       "  text-align: right;\n",
       "  white-space: pre-wrap;\n",
       "}\n",
       "</style>\n",
       "<small>shape: (5, 6)</small><table border=\"1\" class=\"dataframe\"><thead><tr><th>age</th><th>salary</th><th>score</th><th>department</th><th>experience</th><th>target</th></tr><tr><td>f64</td><td>f64</td><td>f64</td><td>str</td><td>str</td><td>f64</td></tr></thead><tbody><tr><td>38.047171</td><td>19259.722733</td><td>50.454524</td><td>&quot;Sales&quot;</td><td>&quot;Junior&quot;</td><td>89.792611</td></tr><tr><td>24.600159</td><td>11388.44911</td><td>85.953079</td><td>&quot;Engineering&quot;</td><td>&quot;Mid&quot;</td><td>83.077468</td></tr><tr><td>42.504512</td><td>15860.245889</td><td>44.825235</td><td>&quot;Sales&quot;</td><td>&quot;Junior&quot;</td><td>74.819551</td></tr><tr><td>44.405647</td><td>6392.342913</td><td>27.948737</td><td>&quot;Sales&quot;</td><td>&quot;Junior&quot;</td><td>70.27595</td></tr><tr><td>15.489648</td><td>54707.920841</td><td>85.547536</td><td>&quot;Engineering&quot;</td><td>&quot;Mid&quot;</td><td>111.400016</td></tr></tbody></table></div>"
      ],
      "text/plain": [
       "shape: (5, 6)\n",
       "┌───────────┬──────────────┬───────────┬─────────────┬────────────┬────────────┐\n",
       "│ age       ┆ salary       ┆ score     ┆ department  ┆ experience ┆ target     │\n",
       "│ ---       ┆ ---          ┆ ---       ┆ ---         ┆ ---        ┆ ---        │\n",
       "│ f64       ┆ f64          ┆ f64       ┆ str         ┆ str        ┆ f64        │\n",
       "╞═══════════╪══════════════╪═══════════╪═════════════╪════════════╪════════════╡\n",
       "│ 38.047171 ┆ 19259.722733 ┆ 50.454524 ┆ Sales       ┆ Junior     ┆ 89.792611  │\n",
       "│ 24.600159 ┆ 11388.44911  ┆ 85.953079 ┆ Engineering ┆ Mid        ┆ 83.077468  │\n",
       "│ 42.504512 ┆ 15860.245889 ┆ 44.825235 ┆ Sales       ┆ Junior     ┆ 74.819551  │\n",
       "│ 44.405647 ┆ 6392.342913  ┆ 27.948737 ┆ Sales       ┆ Junior     ┆ 70.27595   │\n",
       "│ 15.489648 ┆ 54707.920841 ┆ 85.547536 ┆ Engineering ┆ Mid        ┆ 111.400016 │\n",
       "└───────────┴──────────────┴───────────┴─────────────┴────────────┴────────────┘"
      ]
     },
     "execution_count": 5,
     "metadata": {},
     "output_type": "execute_result"
    }
   ],
   "source": [
    "# Create sample data\n",
    "rng = np.random.default_rng(42)\n",
    "dummy_data = pl.DataFrame(\n",
    "    {\n",
    "        \"age\": rng.normal(35, 10, 1000),\n",
    "        \"salary\": rng.exponential(50000, 1000),\n",
    "        \"score\": rng.uniform(0, 100, 1000),\n",
    "        \"department\": rng.choice([\"Sales\", \"Engineering\", \"Marketing\"], 1000),\n",
    "        \"experience\": rng.choice([\"Junior\", \"Mid\", \"Senior\"], 1000, p=[0.4, 0.4, 0.2]),\n",
    "        \"target\": rng.normal(75, 15, 1000),\n",
    "    }\n",
    ")\n",
    "dummy_data.head()"
   ]
  },
  {
   "cell_type": "code",
   "execution_count": 8,
   "id": "eb62b79a",
   "metadata": {},
   "outputs": [
    {
     "data": {
      "text/html": [
       "<pre style=\"white-space:pre;overflow-x:auto;line-height:normal;font-family:Menlo,'DejaVu Sans Mono',consolas,'Courier New',monospace\"><span style=\"font-weight: bold\">{</span>\n",
       "    <span style=\"color: #008000; text-decoration-color: #008000\">'data_schema'</span>: <span style=\"font-weight: bold\">{</span>\n",
       "        <span style=\"color: #008000; text-decoration-color: #008000\">'numeric_schema'</span>: <span style=\"font-weight: bold\">{</span><span style=\"color: #008000; text-decoration-color: #008000\">'age'</span>: <span style=\"color: #008000; text-decoration-color: #008000\">'Float64'</span>, <span style=\"color: #008000; text-decoration-color: #008000\">'salary'</span>: <span style=\"color: #008000; text-decoration-color: #008000\">'Float64'</span>, <span style=\"color: #008000; text-decoration-color: #008000\">'score'</span>: <span style=\"color: #008000; text-decoration-color: #008000\">'Float64'</span>, <span style=\"color: #008000; text-decoration-color: #008000\">'target'</span>: <span style=\"color: #008000; text-decoration-color: #008000\">'Float64'</span><span style=\"font-weight: bold\">}</span>,\n",
       "        <span style=\"color: #008000; text-decoration-color: #008000\">'string_schema'</span>: <span style=\"font-weight: bold\">{</span><span style=\"color: #008000; text-decoration-color: #008000\">'department'</span>: <span style=\"color: #008000; text-decoration-color: #008000\">'String'</span>, <span style=\"color: #008000; text-decoration-color: #008000\">'experience'</span>: <span style=\"color: #008000; text-decoration-color: #008000\">'String'</span><span style=\"font-weight: bold\">}</span>\n",
       "    <span style=\"font-weight: bold\">}</span>,\n",
       "    <span style=\"color: #008000; text-decoration-color: #008000\">'data_shape'</span>: <span style=\"font-weight: bold\">{</span>\n",
       "        <span style=\"color: #008000; text-decoration-color: #008000\">'total_rows'</span>: <span style=\"color: #008080; text-decoration-color: #008080; font-weight: bold\">1000</span>,\n",
       "        <span style=\"color: #008000; text-decoration-color: #008000\">'total_columns'</span>: <span style=\"color: #008080; text-decoration-color: #008080; font-weight: bold\">6</span>,\n",
       "        <span style=\"color: #008000; text-decoration-color: #008000\">'number_of_numeric_columns'</span>: <span style=\"color: #008080; text-decoration-color: #008080; font-weight: bold\">4</span>,\n",
       "        <span style=\"color: #008000; text-decoration-color: #008000\">'number_of_string_columns'</span>: <span style=\"color: #008080; text-decoration-color: #008080; font-weight: bold\">2</span>\n",
       "    <span style=\"font-weight: bold\">}</span>,\n",
       "    <span style=\"color: #008000; text-decoration-color: #008000\">'nulls_info'</span>: <span style=\"font-weight: bold\">{</span>\n",
       "        <span style=\"color: #008000; text-decoration-color: #008000\">'data_nulls'</span>: <span style=\"font-weight: bold\">{</span><span style=\"color: #008000; text-decoration-color: #008000\">'age'</span>: <span style=\"color: #008080; text-decoration-color: #008080; font-weight: bold\">0</span>, <span style=\"color: #008000; text-decoration-color: #008000\">'salary'</span>: <span style=\"color: #008080; text-decoration-color: #008080; font-weight: bold\">0</span>, <span style=\"color: #008000; text-decoration-color: #008000\">'score'</span>: <span style=\"color: #008080; text-decoration-color: #008080; font-weight: bold\">0</span>, <span style=\"color: #008000; text-decoration-color: #008000\">'department'</span>: <span style=\"color: #008080; text-decoration-color: #008080; font-weight: bold\">0</span>, <span style=\"color: #008000; text-decoration-color: #008000\">'experience'</span>: <span style=\"color: #008080; text-decoration-color: #008080; font-weight: bold\">0</span>, <span style=\"color: #008000; text-decoration-color: #008000\">'target'</span>: <span style=\"color: #008080; text-decoration-color: #008080; font-weight: bold\">0</span><span style=\"font-weight: bold\">}</span>,\n",
       "        <span style=\"color: #008000; text-decoration-color: #008000\">'total_nulls'</span>: <span style=\"color: #008080; text-decoration-color: #008080; font-weight: bold\">0</span>\n",
       "    <span style=\"font-weight: bold\">}</span>,\n",
       "    <span style=\"color: #008000; text-decoration-color: #008000\">'num_duplicated_rows'</span>: <span style=\"color: #008080; text-decoration-color: #008080; font-weight: bold\">0</span>,\n",
       "    <span style=\"color: #008000; text-decoration-color: #008000\">'validation_timestamp'</span>: <span style=\"color: #008000; text-decoration-color: #008000\">'2025-09-26T23:37:06+01:00'</span>\n",
       "<span style=\"font-weight: bold\">}</span>\n",
       "</pre>\n"
      ],
      "text/plain": [
       "\u001b[1m{\u001b[0m\n",
       "    \u001b[32m'data_schema'\u001b[0m: \u001b[1m{\u001b[0m\n",
       "        \u001b[32m'numeric_schema'\u001b[0m: \u001b[1m{\u001b[0m\u001b[32m'age'\u001b[0m: \u001b[32m'Float64'\u001b[0m, \u001b[32m'salary'\u001b[0m: \u001b[32m'Float64'\u001b[0m, \u001b[32m'score'\u001b[0m: \u001b[32m'Float64'\u001b[0m, \u001b[32m'target'\u001b[0m: \u001b[32m'Float64'\u001b[0m\u001b[1m}\u001b[0m,\n",
       "        \u001b[32m'string_schema'\u001b[0m: \u001b[1m{\u001b[0m\u001b[32m'department'\u001b[0m: \u001b[32m'String'\u001b[0m, \u001b[32m'experience'\u001b[0m: \u001b[32m'String'\u001b[0m\u001b[1m}\u001b[0m\n",
       "    \u001b[1m}\u001b[0m,\n",
       "    \u001b[32m'data_shape'\u001b[0m: \u001b[1m{\u001b[0m\n",
       "        \u001b[32m'total_rows'\u001b[0m: \u001b[1;36m1000\u001b[0m,\n",
       "        \u001b[32m'total_columns'\u001b[0m: \u001b[1;36m6\u001b[0m,\n",
       "        \u001b[32m'number_of_numeric_columns'\u001b[0m: \u001b[1;36m4\u001b[0m,\n",
       "        \u001b[32m'number_of_string_columns'\u001b[0m: \u001b[1;36m2\u001b[0m\n",
       "    \u001b[1m}\u001b[0m,\n",
       "    \u001b[32m'nulls_info'\u001b[0m: \u001b[1m{\u001b[0m\n",
       "        \u001b[32m'data_nulls'\u001b[0m: \u001b[1m{\u001b[0m\u001b[32m'age'\u001b[0m: \u001b[1;36m0\u001b[0m, \u001b[32m'salary'\u001b[0m: \u001b[1;36m0\u001b[0m, \u001b[32m'score'\u001b[0m: \u001b[1;36m0\u001b[0m, \u001b[32m'department'\u001b[0m: \u001b[1;36m0\u001b[0m, \u001b[32m'experience'\u001b[0m: \u001b[1;36m0\u001b[0m, \u001b[32m'target'\u001b[0m: \u001b[1;36m0\u001b[0m\u001b[1m}\u001b[0m,\n",
       "        \u001b[32m'total_nulls'\u001b[0m: \u001b[1;36m0\u001b[0m\n",
       "    \u001b[1m}\u001b[0m,\n",
       "    \u001b[32m'num_duplicated_rows'\u001b[0m: \u001b[1;36m0\u001b[0m,\n",
       "    \u001b[32m'validation_timestamp'\u001b[0m: \u001b[32m'2025-09-26T23:37:06+01:00'\u001b[0m\n",
       "\u001b[1m}\u001b[0m\n"
      ]
     },
     "metadata": {},
     "output_type": "display_data"
    }
   ],
   "source": [
    "import pendulum\n",
    "\n",
    "\n",
    "def data_validator(data: pl.DataFrame) -> dict[str, Any]:\n",
    "    numeric_schema: dict[str, Any] = {\n",
    "        k: str(v) for k, v in data.select(cs.numeric()).collect_schema().items()\n",
    "    }\n",
    "    string_schema: dict[str, Any] = {\n",
    "        k: str(v) for k, v in data.select(cs.string()).collect_schema().items()\n",
    "    }\n",
    "    data_types: dict[str, Any] = {\n",
    "        \"numeric_schema\": numeric_schema,\n",
    "        \"string_schema\": string_schema,\n",
    "    }\n",
    "    data_shape: dict[str, int] = {\n",
    "        \"total_rows\": data.height,\n",
    "        \"total_columns\": data.width,\n",
    "        \"number_of_numeric_columns\": len(numeric_schema),\n",
    "        \"number_of_string_columns\": len(string_schema),\n",
    "    }\n",
    "    data_nulls: dict[str, int] = data.null_count().sum().to_dicts()[0]\n",
    "    total_nulls = data.null_count().sum_horizontal().item()\n",
    "    nulls_info: dict[str, Any] = {\"data_nulls\": data_nulls, \"total_nulls\": total_nulls}\n",
    "    num_duplicated_rows = data.is_duplicated().sum()\n",
    "\n",
    "    return {\n",
    "        \"data_schema\": data_types,\n",
    "        \"data_shape\": data_shape,\n",
    "        \"nulls_info\": nulls_info,\n",
    "        \"num_duplicated_rows\": num_duplicated_rows,\n",
    "        \"validation_timestamp\": pendulum.now().isoformat(timespec=\"seconds\"),\n",
    "    }\n",
    "\n",
    "\n",
    "res = data_validator(dummy_data)\n",
    "console.print(res)"
   ]
  },
  {
   "cell_type": "code",
   "execution_count": null,
   "id": "dafcd1ff",
   "metadata": {},
   "outputs": [],
   "source": []
  },
  {
   "cell_type": "code",
   "execution_count": null,
   "id": "7fb27b941602401d91542211134fc71a",
   "metadata": {},
   "outputs": [],
   "source": []
  },
  {
   "cell_type": "code",
   "execution_count": null,
   "id": "5428fb74",
   "metadata": {},
   "outputs": [],
   "source": []
  }
 ],
 "metadata": {
  "kernelspec": {
   "display_name": "Bike-Rental-Prediction (3.12.11)",
   "language": "python",
   "name": "python3"
  },
  "language_info": {
   "codemirror_mode": {
    "name": "ipython",
    "version": 3
   },
   "file_extension": ".py",
   "mimetype": "text/x-python",
   "name": "python",
   "nbconvert_exporter": "python",
   "pygments_lexer": "ipython3",
   "version": "3.12.11"
  }
 },
 "nbformat": 4,
 "nbformat_minor": 5
}
