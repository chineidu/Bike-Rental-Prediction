{
 "cells": [
  {
   "cell_type": "markdown",
   "id": "236f62b9",
   "metadata": {},
   "source": [
    "# Lab For Experimentation"
   ]
  },
  {
   "cell_type": "code",
   "execution_count": 1,
   "id": "917effb0",
   "metadata": {},
   "outputs": [],
   "source": [
    "import warnings\n",
    "from typing import Any, Literal\n",
    "\n",
    "import numpy as np\n",
    "import pandas as pd\n",
    "import polars as pl\n",
    "from rich.console import Console\n",
    "from rich.theme import Theme\n",
    "\n",
    "custom_theme = Theme(\n",
    "    {\n",
    "        \"white\": \"#FFFFFF\",  # Bright white\n",
    "        \"info\": \"#00FF00\",  # Bright green\n",
    "        \"warning\": \"#FFD700\",  # Bright gold\n",
    "        \"error\": \"#FF1493\",  # Deep pink\n",
    "        \"success\": \"#00FFFF\",  # Cyan\n",
    "        \"highlight\": \"#FF4500\",  # Orange-red\n",
    "    }\n",
    ")\n",
    "console = Console(theme=custom_theme)\n",
    "\n",
    "# Visualization\n",
    "# import matplotlib.pyplot as plt\n",
    "\n",
    "# NumPy settings\n",
    "np.set_printoptions(precision=4)\n",
    "\n",
    "# Pandas settings\n",
    "pd.options.display.max_rows = 1_000\n",
    "pd.options.display.max_columns = 1_000\n",
    "pd.options.display.max_colwidth = 600\n",
    "\n",
    "# Polars settings\n",
    "pl.Config.set_fmt_str_lengths(1_000)\n",
    "pl.Config.set_tbl_cols(n=1_000)\n",
    "pl.Config.set_tbl_rows(n=200)\n",
    "\n",
    "warnings.filterwarnings(\"ignore\")\n",
    "\n",
    "# Black code formatter (Optional)\n",
    "%load_ext lab_black\n",
    "\n",
    "# auto reload imports\n",
    "%load_ext autoreload\n",
    "%autoreload 2"
   ]
  },
  {
   "cell_type": "code",
   "execution_count": 2,
   "id": "228c8d0e",
   "metadata": {},
   "outputs": [],
   "source": [
    "def go_up_from_current_directory(*, go_up: int = 1) -> None:\n",
    "    \"\"\"This is used to up a number of directories.\n",
    "\n",
    "    Params:\n",
    "    -------\n",
    "    go_up: int, default=1\n",
    "        This indicates the number of times to go back up from the current directory.\n",
    "\n",
    "    Returns:\n",
    "    --------\n",
    "    None\n",
    "    \"\"\"\n",
    "    import os\n",
    "    import sys\n",
    "\n",
    "    CONST: str = \"../\"\n",
    "    NUM: str = CONST * go_up\n",
    "\n",
    "    # Goto the previous directory\n",
    "    prev_directory = os.path.join(os.path.dirname(__name__), NUM)\n",
    "    # Get the 'absolute path' of the previous directory\n",
    "    abs_path_prev_directory = os.path.abspath(prev_directory)\n",
    "\n",
    "    # Add the path to the System paths\n",
    "    sys.path.insert(0, abs_path_prev_directory)\n",
    "    print(abs_path_prev_directory)\n",
    "\n",
    "\n",
    "# Demo (Prevents ruff from removing the unused module import)\n",
    "name: Any\n",
    "category: Literal[\"A\", \"B\", \"C\"]"
   ]
  },
  {
   "cell_type": "code",
   "execution_count": 3,
   "id": "651f550e",
   "metadata": {},
   "outputs": [
    {
     "name": "stdout",
     "output_type": "stream",
     "text": [
      "/Users/mac/Desktop/Projects/Bike-Rental-Prediction\n"
     ]
    }
   ],
   "source": [
    "go_up_from_current_directory(go_up=1)"
   ]
  },
  {
   "cell_type": "markdown",
   "id": "5de2551d",
   "metadata": {},
   "source": [
    "# Table of Contents\n",
    "- [Dataset Preparation](#Dataset-Preparation)\n",
    "  - [Load Data](#load-data)\n",
    "  - [Validate Data](#validate-data)\n",
    "- [Baseline Model](#Baseline-Model)\n",
    "- [Baseline Model With Lagged Target Features](#baseline-model-with-lagged-target-features)\n",
    "- [Gradient Boosting With Hyperparameters Tuning](#Gradient-Boosting-with-Hyperparameters-Tuning)\n",
    "- [Conclusions](#Conclusions)"
   ]
  },
  {
   "cell_type": "code",
   "execution_count": 4,
   "id": "7cc46afe",
   "metadata": {},
   "outputs": [],
   "source": [
    "from src.utilities.data_validator import data_validator"
   ]
  },
  {
   "cell_type": "code",
   "execution_count": null,
   "id": "38954065",
   "metadata": {},
   "outputs": [],
   "source": []
  },
  {
   "cell_type": "markdown",
   "id": "23621787",
   "metadata": {},
   "source": [
    "# Dataset Preparation\n",
    "\n",
    "### Load data"
   ]
  },
  {
   "cell_type": "code",
   "execution_count": 5,
   "id": "4c70fe62",
   "metadata": {},
   "outputs": [
    {
     "data": {
      "text/html": [
       "<pre style=\"white-space:pre;overflow-x:auto;line-height:normal;font-family:Menlo,'DejaVu Sans Mono',consolas,'Courier New',monospace\"><span style=\"color: #00ff00; text-decoration-color: #00ff00\">Shape: </span><span style=\"color: #00ff00; text-decoration-color: #00ff00; font-weight: bold\">(</span><span style=\"color: #008080; text-decoration-color: #008080; font-weight: bold\">13903</span><span style=\"color: #00ff00; text-decoration-color: #00ff00\">, </span><span style=\"color: #008080; text-decoration-color: #008080; font-weight: bold\">16</span><span style=\"color: #00ff00; text-decoration-color: #00ff00; font-weight: bold\">)</span>\n",
       "</pre>\n"
      ],
      "text/plain": [
       "\u001b[38;2;0;255;0mShape: \u001b[0m\u001b[1;38;2;0;255;0m(\u001b[0m\u001b[1;36m13903\u001b[0m\u001b[38;2;0;255;0m, \u001b[0m\u001b[1;36m16\u001b[0m\u001b[1;38;2;0;255;0m)\u001b[0m\n"
      ]
     },
     "metadata": {},
     "output_type": "display_data"
    },
    {
     "data": {
      "text/html": [
       "<div><style>\n",
       ".dataframe > thead > tr,\n",
       ".dataframe > tbody > tr {\n",
       "  text-align: right;\n",
       "  white-space: pre-wrap;\n",
       "}\n",
       "</style>\n",
       "<small>shape: (5, 16)</small><table border=\"1\" class=\"dataframe\"><thead><tr><th>datetime</th><th>season</th><th>yr</th><th>mnth</th><th>hr</th><th>holiday</th><th>weekday</th><th>workingday</th><th>weathersit</th><th>temp</th><th>atemp</th><th>hum</th><th>windspeed</th><th>casual</th><th>registered</th><th>cnt</th></tr><tr><td>str</td><td>i64</td><td>i64</td><td>i64</td><td>i64</td><td>i64</td><td>i64</td><td>i64</td><td>i64</td><td>f64</td><td>f64</td><td>f64</td><td>f64</td><td>i64</td><td>i64</td><td>i64</td></tr></thead><tbody><tr><td>&quot;2011-01-01 00:00:00&quot;</td><td>1</td><td>0</td><td>1</td><td>0</td><td>0</td><td>6</td><td>0</td><td>1</td><td>0.24</td><td>0.2879</td><td>0.81</td><td>0.0</td><td>3</td><td>13</td><td>16</td></tr><tr><td>&quot;2011-01-01 01:00:00&quot;</td><td>1</td><td>0</td><td>1</td><td>1</td><td>0</td><td>6</td><td>0</td><td>1</td><td>0.22</td><td>0.2727</td><td>0.8</td><td>0.0</td><td>8</td><td>32</td><td>40</td></tr><tr><td>&quot;2011-01-01 02:00:00&quot;</td><td>1</td><td>0</td><td>1</td><td>2</td><td>0</td><td>6</td><td>0</td><td>1</td><td>0.22</td><td>0.2727</td><td>0.8</td><td>0.0</td><td>5</td><td>27</td><td>32</td></tr><tr><td>&quot;2011-01-01 03:00:00&quot;</td><td>1</td><td>0</td><td>1</td><td>3</td><td>0</td><td>6</td><td>0</td><td>1</td><td>0.24</td><td>0.2879</td><td>0.75</td><td>0.0</td><td>3</td><td>10</td><td>13</td></tr><tr><td>&quot;2011-01-01 04:00:00&quot;</td><td>1</td><td>0</td><td>1</td><td>4</td><td>0</td><td>6</td><td>0</td><td>1</td><td>0.24</td><td>0.2879</td><td>0.75</td><td>0.0</td><td>0</td><td>1</td><td>1</td></tr></tbody></table></div>"
      ],
      "text/plain": [
       "shape: (5, 16)\n",
       "┌─────┬─────┬─────┬─────┬─────┬─────┬─────┬─────┬─────┬─────┬─────┬─────┬─────┬─────┬────────┬─────┐\n",
       "│ dat ┆ sea ┆ yr  ┆ mnt ┆ hr  ┆ hol ┆ wee ┆ wor ┆ wea ┆ tem ┆ ate ┆ hum ┆ win ┆ cas ┆ regist ┆ cnt │\n",
       "│ eti ┆ son ┆ --- ┆ h   ┆ --- ┆ ida ┆ kda ┆ kin ┆ the ┆ p   ┆ mp  ┆ --- ┆ dsp ┆ ual ┆ ered   ┆ --- │\n",
       "│ me  ┆ --- ┆ i64 ┆ --- ┆ i64 ┆ y   ┆ y   ┆ gda ┆ rsi ┆ --- ┆ --- ┆ f64 ┆ eed ┆ --- ┆ ---    ┆ i64 │\n",
       "│ --- ┆ i64 ┆     ┆ i64 ┆     ┆ --- ┆ --- ┆ y   ┆ t   ┆ f64 ┆ f64 ┆     ┆ --- ┆ i64 ┆ i64    ┆     │\n",
       "│ str ┆     ┆     ┆     ┆     ┆ i64 ┆ i64 ┆ --- ┆ --- ┆     ┆     ┆     ┆ f64 ┆     ┆        ┆     │\n",
       "│     ┆     ┆     ┆     ┆     ┆     ┆     ┆ i64 ┆ i64 ┆     ┆     ┆     ┆     ┆     ┆        ┆     │\n",
       "╞═════╪═════╪═════╪═════╪═════╪═════╪═════╪═════╪═════╪═════╪═════╪═════╪═════╪═════╪════════╪═════╡\n",
       "│ 201 ┆ 1   ┆ 0   ┆ 1   ┆ 0   ┆ 0   ┆ 6   ┆ 0   ┆ 1   ┆ 0.2 ┆ 0.2 ┆ 0.8 ┆ 0.0 ┆ 3   ┆ 13     ┆ 16  │\n",
       "│ 1-0 ┆     ┆     ┆     ┆     ┆     ┆     ┆     ┆     ┆ 4   ┆ 879 ┆ 1   ┆     ┆     ┆        ┆     │\n",
       "│ 1-0 ┆     ┆     ┆     ┆     ┆     ┆     ┆     ┆     ┆     ┆     ┆     ┆     ┆     ┆        ┆     │\n",
       "│ 1   ┆     ┆     ┆     ┆     ┆     ┆     ┆     ┆     ┆     ┆     ┆     ┆     ┆     ┆        ┆     │\n",
       "│ 00: ┆     ┆     ┆     ┆     ┆     ┆     ┆     ┆     ┆     ┆     ┆     ┆     ┆     ┆        ┆     │\n",
       "│ 00: ┆     ┆     ┆     ┆     ┆     ┆     ┆     ┆     ┆     ┆     ┆     ┆     ┆     ┆        ┆     │\n",
       "│ 00  ┆     ┆     ┆     ┆     ┆     ┆     ┆     ┆     ┆     ┆     ┆     ┆     ┆     ┆        ┆     │\n",
       "│ 201 ┆ 1   ┆ 0   ┆ 1   ┆ 1   ┆ 0   ┆ 6   ┆ 0   ┆ 1   ┆ 0.2 ┆ 0.2 ┆ 0.8 ┆ 0.0 ┆ 8   ┆ 32     ┆ 40  │\n",
       "│ 1-0 ┆     ┆     ┆     ┆     ┆     ┆     ┆     ┆     ┆ 2   ┆ 727 ┆     ┆     ┆     ┆        ┆     │\n",
       "│ 1-0 ┆     ┆     ┆     ┆     ┆     ┆     ┆     ┆     ┆     ┆     ┆     ┆     ┆     ┆        ┆     │\n",
       "│ 1   ┆     ┆     ┆     ┆     ┆     ┆     ┆     ┆     ┆     ┆     ┆     ┆     ┆     ┆        ┆     │\n",
       "│ 01: ┆     ┆     ┆     ┆     ┆     ┆     ┆     ┆     ┆     ┆     ┆     ┆     ┆     ┆        ┆     │\n",
       "│ 00: ┆     ┆     ┆     ┆     ┆     ┆     ┆     ┆     ┆     ┆     ┆     ┆     ┆     ┆        ┆     │\n",
       "│ 00  ┆     ┆     ┆     ┆     ┆     ┆     ┆     ┆     ┆     ┆     ┆     ┆     ┆     ┆        ┆     │\n",
       "│ 201 ┆ 1   ┆ 0   ┆ 1   ┆ 2   ┆ 0   ┆ 6   ┆ 0   ┆ 1   ┆ 0.2 ┆ 0.2 ┆ 0.8 ┆ 0.0 ┆ 5   ┆ 27     ┆ 32  │\n",
       "│ 1-0 ┆     ┆     ┆     ┆     ┆     ┆     ┆     ┆     ┆ 2   ┆ 727 ┆     ┆     ┆     ┆        ┆     │\n",
       "│ 1-0 ┆     ┆     ┆     ┆     ┆     ┆     ┆     ┆     ┆     ┆     ┆     ┆     ┆     ┆        ┆     │\n",
       "│ 1   ┆     ┆     ┆     ┆     ┆     ┆     ┆     ┆     ┆     ┆     ┆     ┆     ┆     ┆        ┆     │\n",
       "│ 02: ┆     ┆     ┆     ┆     ┆     ┆     ┆     ┆     ┆     ┆     ┆     ┆     ┆     ┆        ┆     │\n",
       "│ 00: ┆     ┆     ┆     ┆     ┆     ┆     ┆     ┆     ┆     ┆     ┆     ┆     ┆     ┆        ┆     │\n",
       "│ 00  ┆     ┆     ┆     ┆     ┆     ┆     ┆     ┆     ┆     ┆     ┆     ┆     ┆     ┆        ┆     │\n",
       "│ 201 ┆ 1   ┆ 0   ┆ 1   ┆ 3   ┆ 0   ┆ 6   ┆ 0   ┆ 1   ┆ 0.2 ┆ 0.2 ┆ 0.7 ┆ 0.0 ┆ 3   ┆ 10     ┆ 13  │\n",
       "│ 1-0 ┆     ┆     ┆     ┆     ┆     ┆     ┆     ┆     ┆ 4   ┆ 879 ┆ 5   ┆     ┆     ┆        ┆     │\n",
       "│ 1-0 ┆     ┆     ┆     ┆     ┆     ┆     ┆     ┆     ┆     ┆     ┆     ┆     ┆     ┆        ┆     │\n",
       "│ 1   ┆     ┆     ┆     ┆     ┆     ┆     ┆     ┆     ┆     ┆     ┆     ┆     ┆     ┆        ┆     │\n",
       "│ 03: ┆     ┆     ┆     ┆     ┆     ┆     ┆     ┆     ┆     ┆     ┆     ┆     ┆     ┆        ┆     │\n",
       "│ 00: ┆     ┆     ┆     ┆     ┆     ┆     ┆     ┆     ┆     ┆     ┆     ┆     ┆     ┆        ┆     │\n",
       "│ 00  ┆     ┆     ┆     ┆     ┆     ┆     ┆     ┆     ┆     ┆     ┆     ┆     ┆     ┆        ┆     │\n",
       "│ 201 ┆ 1   ┆ 0   ┆ 1   ┆ 4   ┆ 0   ┆ 6   ┆ 0   ┆ 1   ┆ 0.2 ┆ 0.2 ┆ 0.7 ┆ 0.0 ┆ 0   ┆ 1      ┆ 1   │\n",
       "│ 1-0 ┆     ┆     ┆     ┆     ┆     ┆     ┆     ┆     ┆ 4   ┆ 879 ┆ 5   ┆     ┆     ┆        ┆     │\n",
       "│ 1-0 ┆     ┆     ┆     ┆     ┆     ┆     ┆     ┆     ┆     ┆     ┆     ┆     ┆     ┆        ┆     │\n",
       "│ 1   ┆     ┆     ┆     ┆     ┆     ┆     ┆     ┆     ┆     ┆     ┆     ┆     ┆     ┆        ┆     │\n",
       "│ 04: ┆     ┆     ┆     ┆     ┆     ┆     ┆     ┆     ┆     ┆     ┆     ┆     ┆     ┆        ┆     │\n",
       "│ 00: ┆     ┆     ┆     ┆     ┆     ┆     ┆     ┆     ┆     ┆     ┆     ┆     ┆     ┆        ┆     │\n",
       "│ 00  ┆     ┆     ┆     ┆     ┆     ┆     ┆     ┆     ┆     ┆     ┆     ┆     ┆     ┆        ┆     │\n",
       "└─────┴─────┴─────┴─────┴─────┴─────┴─────┴─────┴─────┴─────┴─────┴─────┴─────┴─────┴────────┴─────┘"
      ]
     },
     "execution_count": 5,
     "metadata": {},
     "output_type": "execute_result"
    }
   ],
   "source": [
    "fp: str = \"../../../../Documents/data_dump/bike_data/database.parquet\"\n",
    "data: pl.DataFrame = pl.read_parquet(fp)\n",
    "console.print(f\"Shape: {data.shape}\", style=\"info\")\n",
    "\n",
    "data.head()"
   ]
  },
  {
   "cell_type": "markdown",
   "id": "afab353a",
   "metadata": {},
   "source": [
    "### Validate Data"
   ]
  },
  {
   "cell_type": "code",
   "execution_count": 6,
   "id": "a7513bc7",
   "metadata": {},
   "outputs": [
    {
     "data": {
      "text/html": [
       "<pre style=\"white-space:pre;overflow-x:auto;line-height:normal;font-family:Menlo,'DejaVu Sans Mono',consolas,'Courier New',monospace\"><span style=\"font-weight: bold\">{</span>\n",
       "    <span style=\"color: #008000; text-decoration-color: #008000\">'data_schema'</span>: <span style=\"font-weight: bold\">{</span>\n",
       "        <span style=\"color: #008000; text-decoration-color: #008000\">'numeric'</span>: <span style=\"font-weight: bold\">{</span>\n",
       "            <span style=\"color: #008000; text-decoration-color: #008000\">'season'</span>: <span style=\"color: #008000; text-decoration-color: #008000\">'Int64'</span>,\n",
       "            <span style=\"color: #008000; text-decoration-color: #008000\">'yr'</span>: <span style=\"color: #008000; text-decoration-color: #008000\">'Int64'</span>,\n",
       "            <span style=\"color: #008000; text-decoration-color: #008000\">'mnth'</span>: <span style=\"color: #008000; text-decoration-color: #008000\">'Int64'</span>,\n",
       "            <span style=\"color: #008000; text-decoration-color: #008000\">'hr'</span>: <span style=\"color: #008000; text-decoration-color: #008000\">'Int64'</span>,\n",
       "            <span style=\"color: #008000; text-decoration-color: #008000\">'holiday'</span>: <span style=\"color: #008000; text-decoration-color: #008000\">'Int64'</span>,\n",
       "            <span style=\"color: #008000; text-decoration-color: #008000\">'weekday'</span>: <span style=\"color: #008000; text-decoration-color: #008000\">'Int64'</span>,\n",
       "            <span style=\"color: #008000; text-decoration-color: #008000\">'workingday'</span>: <span style=\"color: #008000; text-decoration-color: #008000\">'Int64'</span>,\n",
       "            <span style=\"color: #008000; text-decoration-color: #008000\">'weathersit'</span>: <span style=\"color: #008000; text-decoration-color: #008000\">'Int64'</span>,\n",
       "            <span style=\"color: #008000; text-decoration-color: #008000\">'temp'</span>: <span style=\"color: #008000; text-decoration-color: #008000\">'Float64'</span>,\n",
       "            <span style=\"color: #008000; text-decoration-color: #008000\">'atemp'</span>: <span style=\"color: #008000; text-decoration-color: #008000\">'Float64'</span>,\n",
       "            <span style=\"color: #008000; text-decoration-color: #008000\">'hum'</span>: <span style=\"color: #008000; text-decoration-color: #008000\">'Float64'</span>,\n",
       "            <span style=\"color: #008000; text-decoration-color: #008000\">'windspeed'</span>: <span style=\"color: #008000; text-decoration-color: #008000\">'Float64'</span>,\n",
       "            <span style=\"color: #008000; text-decoration-color: #008000\">'casual'</span>: <span style=\"color: #008000; text-decoration-color: #008000\">'Int64'</span>,\n",
       "            <span style=\"color: #008000; text-decoration-color: #008000\">'registered'</span>: <span style=\"color: #008000; text-decoration-color: #008000\">'Int64'</span>,\n",
       "            <span style=\"color: #008000; text-decoration-color: #008000\">'cnt'</span>: <span style=\"color: #008000; text-decoration-color: #008000\">'Int64'</span>\n",
       "        <span style=\"font-weight: bold\">}</span>,\n",
       "        <span style=\"color: #008000; text-decoration-color: #008000\">'string'</span>: <span style=\"font-weight: bold\">{</span><span style=\"color: #008000; text-decoration-color: #008000\">'datetime'</span>: <span style=\"color: #008000; text-decoration-color: #008000\">'String'</span><span style=\"font-weight: bold\">}</span>\n",
       "    <span style=\"font-weight: bold\">}</span>,\n",
       "    <span style=\"color: #008000; text-decoration-color: #008000\">'data_shape'</span>: <span style=\"font-weight: bold\">{</span>\n",
       "        <span style=\"color: #008000; text-decoration-color: #008000\">'total_rows'</span>: <span style=\"color: #008080; text-decoration-color: #008080; font-weight: bold\">13903</span>,\n",
       "        <span style=\"color: #008000; text-decoration-color: #008000\">'total_columns'</span>: <span style=\"color: #008080; text-decoration-color: #008080; font-weight: bold\">16</span>,\n",
       "        <span style=\"color: #008000; text-decoration-color: #008000\">'number_of_numeric_columns'</span>: <span style=\"color: #008080; text-decoration-color: #008080; font-weight: bold\">15</span>,\n",
       "        <span style=\"color: #008000; text-decoration-color: #008000\">'number_of_string_columns'</span>: <span style=\"color: #008080; text-decoration-color: #008080; font-weight: bold\">1</span>\n",
       "    <span style=\"font-weight: bold\">}</span>,\n",
       "    <span style=\"color: #008000; text-decoration-color: #008000\">'summary_statistics'</span>: <span style=\"font-weight: bold\">{</span>\n",
       "        <span style=\"color: #008000; text-decoration-color: #008000\">'numeric'</span>: <span style=\"font-weight: bold\">[</span>\n",
       "            <span style=\"font-weight: bold\">{</span>\n",
       "                <span style=\"color: #008000; text-decoration-color: #008000\">'column'</span>: <span style=\"color: #008000; text-decoration-color: #008000\">'season'</span>,\n",
       "                <span style=\"color: #008000; text-decoration-color: #008000\">'mean'</span>: <span style=\"color: #008080; text-decoration-color: #008080; font-weight: bold\">2.26</span>,\n",
       "                <span style=\"color: #008000; text-decoration-color: #008000\">'median'</span>: <span style=\"color: #008080; text-decoration-color: #008080; font-weight: bold\">2.0</span>,\n",
       "                <span style=\"color: #008000; text-decoration-color: #008000\">'mode'</span>: <span style=\"font-weight: bold\">[</span><span style=\"color: #008080; text-decoration-color: #008080; font-weight: bold\">2</span><span style=\"font-weight: bold\">]</span>,\n",
       "                <span style=\"color: #008000; text-decoration-color: #008000\">'std'</span>: <span style=\"color: #008080; text-decoration-color: #008080; font-weight: bold\">1.04</span>,\n",
       "                <span style=\"color: #008000; text-decoration-color: #008000\">'variance'</span>: <span style=\"color: #008080; text-decoration-color: #008080; font-weight: bold\">1.07</span>,\n",
       "                <span style=\"color: #008000; text-decoration-color: #008000\">'range'</span>: <span style=\"color: #008080; text-decoration-color: #008080; font-weight: bold\">3</span>,\n",
       "                <span style=\"color: #008000; text-decoration-color: #008000\">'min'</span>: <span style=\"color: #008080; text-decoration-color: #008080; font-weight: bold\">1</span>,\n",
       "                <span style=\"color: #008000; text-decoration-color: #008000\">'max'</span>: <span style=\"color: #008080; text-decoration-color: #008080; font-weight: bold\">4</span>,\n",
       "                <span style=\"color: #008000; text-decoration-color: #008000\">'count'</span>: <span style=\"color: #008080; text-decoration-color: #008080; font-weight: bold\">13903</span>,\n",
       "                <span style=\"color: #008000; text-decoration-color: #008000\">'missing_values'</span>: <span style=\"color: #008080; text-decoration-color: #008080; font-weight: bold\">0</span>,\n",
       "                <span style=\"color: #008000; text-decoration-color: #008000\">'missing_pct'</span>: <span style=\"color: #008080; text-decoration-color: #008080; font-weight: bold\">0.0</span>,\n",
       "                <span style=\"color: #008000; text-decoration-color: #008000\">'unique_values'</span>: <span style=\"color: #008080; text-decoration-color: #008080; font-weight: bold\">4</span>\n",
       "            <span style=\"font-weight: bold\">}</span>,\n",
       "            <span style=\"font-weight: bold\">{</span>\n",
       "                <span style=\"color: #008000; text-decoration-color: #008000\">'column'</span>: <span style=\"color: #008000; text-decoration-color: #008000\">'yr'</span>,\n",
       "                <span style=\"color: #008000; text-decoration-color: #008000\">'mean'</span>: <span style=\"color: #008080; text-decoration-color: #008080; font-weight: bold\">0.38</span>,\n",
       "                <span style=\"color: #008000; text-decoration-color: #008000\">'median'</span>: <span style=\"color: #008080; text-decoration-color: #008080; font-weight: bold\">0.0</span>,\n",
       "                <span style=\"color: #008000; text-decoration-color: #008000\">'mode'</span>: <span style=\"font-weight: bold\">[</span><span style=\"color: #008080; text-decoration-color: #008080; font-weight: bold\">0</span><span style=\"font-weight: bold\">]</span>,\n",
       "                <span style=\"color: #008000; text-decoration-color: #008000\">'std'</span>: <span style=\"color: #008080; text-decoration-color: #008080; font-weight: bold\">0.48</span>,\n",
       "                <span style=\"color: #008000; text-decoration-color: #008000\">'variance'</span>: <span style=\"color: #008080; text-decoration-color: #008080; font-weight: bold\">0.24</span>,\n",
       "                <span style=\"color: #008000; text-decoration-color: #008000\">'range'</span>: <span style=\"color: #008080; text-decoration-color: #008080; font-weight: bold\">1</span>,\n",
       "                <span style=\"color: #008000; text-decoration-color: #008000\">'min'</span>: <span style=\"color: #008080; text-decoration-color: #008080; font-weight: bold\">0</span>,\n",
       "                <span style=\"color: #008000; text-decoration-color: #008000\">'max'</span>: <span style=\"color: #008080; text-decoration-color: #008080; font-weight: bold\">1</span>,\n",
       "                <span style=\"color: #008000; text-decoration-color: #008000\">'count'</span>: <span style=\"color: #008080; text-decoration-color: #008080; font-weight: bold\">13903</span>,\n",
       "                <span style=\"color: #008000; text-decoration-color: #008000\">'missing_values'</span>: <span style=\"color: #008080; text-decoration-color: #008080; font-weight: bold\">0</span>,\n",
       "                <span style=\"color: #008000; text-decoration-color: #008000\">'missing_pct'</span>: <span style=\"color: #008080; text-decoration-color: #008080; font-weight: bold\">0.0</span>,\n",
       "                <span style=\"color: #008000; text-decoration-color: #008000\">'unique_values'</span>: <span style=\"color: #008080; text-decoration-color: #008080; font-weight: bold\">2</span>\n",
       "            <span style=\"font-weight: bold\">}</span>,\n",
       "            <span style=\"font-weight: bold\">{</span>\n",
       "                <span style=\"color: #008000; text-decoration-color: #008000\">'column'</span>: <span style=\"color: #008000; text-decoration-color: #008000\">'mnth'</span>,\n",
       "                <span style=\"color: #008000; text-decoration-color: #008000\">'mean'</span>: <span style=\"color: #008080; text-decoration-color: #008080; font-weight: bold\">5.65</span>,\n",
       "                <span style=\"color: #008000; text-decoration-color: #008000\">'median'</span>: <span style=\"color: #008080; text-decoration-color: #008080; font-weight: bold\">5.0</span>,\n",
       "                <span style=\"color: #008000; text-decoration-color: #008000\">'mode'</span>: <span style=\"font-weight: bold\">[</span><span style=\"color: #008080; text-decoration-color: #008080; font-weight: bold\">7</span>, <span style=\"color: #008080; text-decoration-color: #008080; font-weight: bold\">5</span><span style=\"font-weight: bold\">]</span>,\n",
       "                <span style=\"color: #008000; text-decoration-color: #008000\">'std'</span>: <span style=\"color: #008080; text-decoration-color: #008080; font-weight: bold\">3.22</span>,\n",
       "                <span style=\"color: #008000; text-decoration-color: #008000\">'variance'</span>: <span style=\"color: #008080; text-decoration-color: #008080; font-weight: bold\">10.36</span>,\n",
       "                <span style=\"color: #008000; text-decoration-color: #008000\">'range'</span>: <span style=\"color: #008080; text-decoration-color: #008080; font-weight: bold\">11</span>,\n",
       "                <span style=\"color: #008000; text-decoration-color: #008000\">'min'</span>: <span style=\"color: #008080; text-decoration-color: #008080; font-weight: bold\">1</span>,\n",
       "                <span style=\"color: #008000; text-decoration-color: #008000\">'max'</span>: <span style=\"color: #008080; text-decoration-color: #008080; font-weight: bold\">12</span>,\n",
       "                <span style=\"color: #008000; text-decoration-color: #008000\">'count'</span>: <span style=\"color: #008080; text-decoration-color: #008080; font-weight: bold\">13903</span>,\n",
       "                <span style=\"color: #008000; text-decoration-color: #008000\">'missing_values'</span>: <span style=\"color: #008080; text-decoration-color: #008080; font-weight: bold\">0</span>,\n",
       "                <span style=\"color: #008000; text-decoration-color: #008000\">'missing_pct'</span>: <span style=\"color: #008080; text-decoration-color: #008080; font-weight: bold\">0.0</span>,\n",
       "                <span style=\"color: #008000; text-decoration-color: #008000\">'unique_values'</span>: <span style=\"color: #008080; text-decoration-color: #008080; font-weight: bold\">12</span>\n",
       "            <span style=\"font-weight: bold\">}</span>,\n",
       "            <span style=\"font-weight: bold\">{</span>\n",
       "                <span style=\"color: #008000; text-decoration-color: #008000\">'column'</span>: <span style=\"color: #008000; text-decoration-color: #008000\">'hr'</span>,\n",
       "                <span style=\"color: #008000; text-decoration-color: #008000\">'mean'</span>: <span style=\"color: #008080; text-decoration-color: #008080; font-weight: bold\">11.55</span>,\n",
       "                <span style=\"color: #008000; text-decoration-color: #008000\">'median'</span>: <span style=\"color: #008080; text-decoration-color: #008080; font-weight: bold\">12.0</span>,\n",
       "                <span style=\"color: #008000; text-decoration-color: #008000\">'mode'</span>: <span style=\"font-weight: bold\">[</span><span style=\"color: #008080; text-decoration-color: #008080; font-weight: bold\">16</span>, <span style=\"color: #008080; text-decoration-color: #008080; font-weight: bold\">17</span><span style=\"font-weight: bold\">]</span>,\n",
       "                <span style=\"color: #008000; text-decoration-color: #008000\">'std'</span>: <span style=\"color: #008080; text-decoration-color: #008080; font-weight: bold\">6.91</span>,\n",
       "                <span style=\"color: #008000; text-decoration-color: #008000\">'variance'</span>: <span style=\"color: #008080; text-decoration-color: #008080; font-weight: bold\">47.78</span>,\n",
       "                <span style=\"color: #008000; text-decoration-color: #008000\">'range'</span>: <span style=\"color: #008080; text-decoration-color: #008080; font-weight: bold\">23</span>,\n",
       "                <span style=\"color: #008000; text-decoration-color: #008000\">'min'</span>: <span style=\"color: #008080; text-decoration-color: #008080; font-weight: bold\">0</span>,\n",
       "                <span style=\"color: #008000; text-decoration-color: #008000\">'max'</span>: <span style=\"color: #008080; text-decoration-color: #008080; font-weight: bold\">23</span>,\n",
       "                <span style=\"color: #008000; text-decoration-color: #008000\">'count'</span>: <span style=\"color: #008080; text-decoration-color: #008080; font-weight: bold\">13903</span>,\n",
       "                <span style=\"color: #008000; text-decoration-color: #008000\">'missing_values'</span>: <span style=\"color: #008080; text-decoration-color: #008080; font-weight: bold\">0</span>,\n",
       "                <span style=\"color: #008000; text-decoration-color: #008000\">'missing_pct'</span>: <span style=\"color: #008080; text-decoration-color: #008080; font-weight: bold\">0.0</span>,\n",
       "                <span style=\"color: #008000; text-decoration-color: #008000\">'unique_values'</span>: <span style=\"color: #008080; text-decoration-color: #008080; font-weight: bold\">24</span>\n",
       "            <span style=\"font-weight: bold\">}</span>,\n",
       "            <span style=\"font-weight: bold\">{</span>\n",
       "                <span style=\"color: #008000; text-decoration-color: #008000\">'column'</span>: <span style=\"color: #008000; text-decoration-color: #008000\">'holiday'</span>,\n",
       "                <span style=\"color: #008000; text-decoration-color: #008000\">'mean'</span>: <span style=\"color: #008080; text-decoration-color: #008080; font-weight: bold\">0.03</span>,\n",
       "                <span style=\"color: #008000; text-decoration-color: #008000\">'median'</span>: <span style=\"color: #008080; text-decoration-color: #008080; font-weight: bold\">0.0</span>,\n",
       "                <span style=\"color: #008000; text-decoration-color: #008000\">'mode'</span>: <span style=\"font-weight: bold\">[</span><span style=\"color: #008080; text-decoration-color: #008080; font-weight: bold\">0</span><span style=\"font-weight: bold\">]</span>,\n",
       "                <span style=\"color: #008000; text-decoration-color: #008000\">'std'</span>: <span style=\"color: #008080; text-decoration-color: #008080; font-weight: bold\">0.16</span>,\n",
       "                <span style=\"color: #008000; text-decoration-color: #008000\">'variance'</span>: <span style=\"color: #008080; text-decoration-color: #008080; font-weight: bold\">0.03</span>,\n",
       "                <span style=\"color: #008000; text-decoration-color: #008000\">'range'</span>: <span style=\"color: #008080; text-decoration-color: #008080; font-weight: bold\">1</span>,\n",
       "                <span style=\"color: #008000; text-decoration-color: #008000\">'min'</span>: <span style=\"color: #008080; text-decoration-color: #008080; font-weight: bold\">0</span>,\n",
       "                <span style=\"color: #008000; text-decoration-color: #008000\">'max'</span>: <span style=\"color: #008080; text-decoration-color: #008080; font-weight: bold\">1</span>,\n",
       "                <span style=\"color: #008000; text-decoration-color: #008000\">'count'</span>: <span style=\"color: #008080; text-decoration-color: #008080; font-weight: bold\">13903</span>,\n",
       "                <span style=\"color: #008000; text-decoration-color: #008000\">'missing_values'</span>: <span style=\"color: #008080; text-decoration-color: #008080; font-weight: bold\">0</span>,\n",
       "                <span style=\"color: #008000; text-decoration-color: #008000\">'missing_pct'</span>: <span style=\"color: #008080; text-decoration-color: #008080; font-weight: bold\">0.0</span>,\n",
       "                <span style=\"color: #008000; text-decoration-color: #008000\">'unique_values'</span>: <span style=\"color: #008080; text-decoration-color: #008080; font-weight: bold\">2</span>\n",
       "            <span style=\"font-weight: bold\">}</span>,\n",
       "            <span style=\"font-weight: bold\">{</span>\n",
       "                <span style=\"color: #008000; text-decoration-color: #008000\">'column'</span>: <span style=\"color: #008000; text-decoration-color: #008000\">'weekday'</span>,\n",
       "                <span style=\"color: #008000; text-decoration-color: #008000\">'mean'</span>: <span style=\"color: #008080; text-decoration-color: #008080; font-weight: bold\">3.0</span>,\n",
       "                <span style=\"color: #008000; text-decoration-color: #008000\">'median'</span>: <span style=\"color: #008080; text-decoration-color: #008080; font-weight: bold\">3.0</span>,\n",
       "                <span style=\"color: #008000; text-decoration-color: #008000\">'mode'</span>: <span style=\"font-weight: bold\">[</span><span style=\"color: #008080; text-decoration-color: #008080; font-weight: bold\">6</span><span style=\"font-weight: bold\">]</span>,\n",
       "                <span style=\"color: #008000; text-decoration-color: #008000\">'std'</span>: <span style=\"color: #008080; text-decoration-color: #008080; font-weight: bold\">2.01</span>,\n",
       "                <span style=\"color: #008000; text-decoration-color: #008000\">'variance'</span>: <span style=\"color: #008080; text-decoration-color: #008080; font-weight: bold\">4.02</span>,\n",
       "                <span style=\"color: #008000; text-decoration-color: #008000\">'range'</span>: <span style=\"color: #008080; text-decoration-color: #008080; font-weight: bold\">6</span>,\n",
       "                <span style=\"color: #008000; text-decoration-color: #008000\">'min'</span>: <span style=\"color: #008080; text-decoration-color: #008080; font-weight: bold\">0</span>,\n",
       "                <span style=\"color: #008000; text-decoration-color: #008000\">'max'</span>: <span style=\"color: #008080; text-decoration-color: #008080; font-weight: bold\">6</span>,\n",
       "                <span style=\"color: #008000; text-decoration-color: #008000\">'count'</span>: <span style=\"color: #008080; text-decoration-color: #008080; font-weight: bold\">13903</span>,\n",
       "                <span style=\"color: #008000; text-decoration-color: #008000\">'missing_values'</span>: <span style=\"color: #008080; text-decoration-color: #008080; font-weight: bold\">0</span>,\n",
       "                <span style=\"color: #008000; text-decoration-color: #008000\">'missing_pct'</span>: <span style=\"color: #008080; text-decoration-color: #008080; font-weight: bold\">0.0</span>,\n",
       "                <span style=\"color: #008000; text-decoration-color: #008000\">'unique_values'</span>: <span style=\"color: #008080; text-decoration-color: #008080; font-weight: bold\">7</span>\n",
       "            <span style=\"font-weight: bold\">}</span>,\n",
       "            <span style=\"font-weight: bold\">{</span>\n",
       "                <span style=\"color: #008000; text-decoration-color: #008000\">'column'</span>: <span style=\"color: #008000; text-decoration-color: #008000\">'workingday'</span>,\n",
       "                <span style=\"color: #008000; text-decoration-color: #008000\">'mean'</span>: <span style=\"color: #008080; text-decoration-color: #008080; font-weight: bold\">0.68</span>,\n",
       "                <span style=\"color: #008000; text-decoration-color: #008000\">'median'</span>: <span style=\"color: #008080; text-decoration-color: #008080; font-weight: bold\">1.0</span>,\n",
       "                <span style=\"color: #008000; text-decoration-color: #008000\">'mode'</span>: <span style=\"font-weight: bold\">[</span><span style=\"color: #008080; text-decoration-color: #008080; font-weight: bold\">1</span><span style=\"font-weight: bold\">]</span>,\n",
       "                <span style=\"color: #008000; text-decoration-color: #008000\">'std'</span>: <span style=\"color: #008080; text-decoration-color: #008080; font-weight: bold\">0.46</span>,\n",
       "                <span style=\"color: #008000; text-decoration-color: #008000\">'variance'</span>: <span style=\"color: #008080; text-decoration-color: #008080; font-weight: bold\">0.22</span>,\n",
       "                <span style=\"color: #008000; text-decoration-color: #008000\">'range'</span>: <span style=\"color: #008080; text-decoration-color: #008080; font-weight: bold\">1</span>,\n",
       "                <span style=\"color: #008000; text-decoration-color: #008000\">'min'</span>: <span style=\"color: #008080; text-decoration-color: #008080; font-weight: bold\">0</span>,\n",
       "                <span style=\"color: #008000; text-decoration-color: #008000\">'max'</span>: <span style=\"color: #008080; text-decoration-color: #008080; font-weight: bold\">1</span>,\n",
       "                <span style=\"color: #008000; text-decoration-color: #008000\">'count'</span>: <span style=\"color: #008080; text-decoration-color: #008080; font-weight: bold\">13903</span>,\n",
       "                <span style=\"color: #008000; text-decoration-color: #008000\">'missing_values'</span>: <span style=\"color: #008080; text-decoration-color: #008080; font-weight: bold\">0</span>,\n",
       "                <span style=\"color: #008000; text-decoration-color: #008000\">'missing_pct'</span>: <span style=\"color: #008080; text-decoration-color: #008080; font-weight: bold\">0.0</span>,\n",
       "                <span style=\"color: #008000; text-decoration-color: #008000\">'unique_values'</span>: <span style=\"color: #008080; text-decoration-color: #008080; font-weight: bold\">2</span>\n",
       "            <span style=\"font-weight: bold\">}</span>,\n",
       "            <span style=\"font-weight: bold\">{</span>\n",
       "                <span style=\"color: #008000; text-decoration-color: #008000\">'column'</span>: <span style=\"color: #008000; text-decoration-color: #008000\">'weathersit'</span>,\n",
       "                <span style=\"color: #008000; text-decoration-color: #008000\">'mean'</span>: <span style=\"color: #008080; text-decoration-color: #008080; font-weight: bold\">1.42</span>,\n",
       "                <span style=\"color: #008000; text-decoration-color: #008000\">'median'</span>: <span style=\"color: #008080; text-decoration-color: #008080; font-weight: bold\">1.0</span>,\n",
       "                <span style=\"color: #008000; text-decoration-color: #008000\">'mode'</span>: <span style=\"font-weight: bold\">[</span><span style=\"color: #008080; text-decoration-color: #008080; font-weight: bold\">1</span><span style=\"font-weight: bold\">]</span>,\n",
       "                <span style=\"color: #008000; text-decoration-color: #008000\">'std'</span>: <span style=\"color: #008080; text-decoration-color: #008080; font-weight: bold\">0.64</span>,\n",
       "                <span style=\"color: #008000; text-decoration-color: #008000\">'variance'</span>: <span style=\"color: #008080; text-decoration-color: #008080; font-weight: bold\">0.41</span>,\n",
       "                <span style=\"color: #008000; text-decoration-color: #008000\">'range'</span>: <span style=\"color: #008080; text-decoration-color: #008080; font-weight: bold\">3</span>,\n",
       "                <span style=\"color: #008000; text-decoration-color: #008000\">'min'</span>: <span style=\"color: #008080; text-decoration-color: #008080; font-weight: bold\">1</span>,\n",
       "                <span style=\"color: #008000; text-decoration-color: #008000\">'max'</span>: <span style=\"color: #008080; text-decoration-color: #008080; font-weight: bold\">4</span>,\n",
       "                <span style=\"color: #008000; text-decoration-color: #008000\">'count'</span>: <span style=\"color: #008080; text-decoration-color: #008080; font-weight: bold\">13903</span>,\n",
       "                <span style=\"color: #008000; text-decoration-color: #008000\">'missing_values'</span>: <span style=\"color: #008080; text-decoration-color: #008080; font-weight: bold\">0</span>,\n",
       "                <span style=\"color: #008000; text-decoration-color: #008000\">'missing_pct'</span>: <span style=\"color: #008080; text-decoration-color: #008080; font-weight: bold\">0.0</span>,\n",
       "                <span style=\"color: #008000; text-decoration-color: #008000\">'unique_values'</span>: <span style=\"color: #008080; text-decoration-color: #008080; font-weight: bold\">4</span>\n",
       "            <span style=\"font-weight: bold\">}</span>,\n",
       "            <span style=\"font-weight: bold\">{</span>\n",
       "                <span style=\"color: #008000; text-decoration-color: #008000\">'column'</span>: <span style=\"color: #008000; text-decoration-color: #008000\">'temp'</span>,\n",
       "                <span style=\"color: #008000; text-decoration-color: #008000\">'mean'</span>: <span style=\"color: #008080; text-decoration-color: #008080; font-weight: bold\">0.5</span>,\n",
       "                <span style=\"color: #008000; text-decoration-color: #008000\">'median'</span>: <span style=\"color: #008080; text-decoration-color: #008080; font-weight: bold\">0.5</span>,\n",
       "                <span style=\"color: #008000; text-decoration-color: #008000\">'mode'</span>: <span style=\"font-weight: bold\">[</span><span style=\"color: #008080; text-decoration-color: #008080; font-weight: bold\">0.62</span><span style=\"font-weight: bold\">]</span>,\n",
       "                <span style=\"color: #008000; text-decoration-color: #008000\">'std'</span>: <span style=\"color: #008080; text-decoration-color: #008080; font-weight: bold\">0.2</span>,\n",
       "                <span style=\"color: #008000; text-decoration-color: #008000\">'variance'</span>: <span style=\"color: #008080; text-decoration-color: #008080; font-weight: bold\">0.04</span>,\n",
       "                <span style=\"color: #008000; text-decoration-color: #008000\">'range'</span>: <span style=\"color: #008080; text-decoration-color: #008080; font-weight: bold\">0.98</span>,\n",
       "                <span style=\"color: #008000; text-decoration-color: #008000\">'min'</span>: <span style=\"color: #008080; text-decoration-color: #008080; font-weight: bold\">0.02</span>,\n",
       "                <span style=\"color: #008000; text-decoration-color: #008000\">'max'</span>: <span style=\"color: #008080; text-decoration-color: #008080; font-weight: bold\">1.0</span>,\n",
       "                <span style=\"color: #008000; text-decoration-color: #008000\">'count'</span>: <span style=\"color: #008080; text-decoration-color: #008080; font-weight: bold\">13903</span>,\n",
       "                <span style=\"color: #008000; text-decoration-color: #008000\">'missing_values'</span>: <span style=\"color: #008080; text-decoration-color: #008080; font-weight: bold\">0</span>,\n",
       "                <span style=\"color: #008000; text-decoration-color: #008000\">'missing_pct'</span>: <span style=\"color: #008080; text-decoration-color: #008080; font-weight: bold\">0.0</span>,\n",
       "                <span style=\"color: #008000; text-decoration-color: #008000\">'unique_values'</span>: <span style=\"color: #008080; text-decoration-color: #008080; font-weight: bold\">50</span>\n",
       "            <span style=\"font-weight: bold\">}</span>,\n",
       "            <span style=\"font-weight: bold\">{</span>\n",
       "                <span style=\"color: #008000; text-decoration-color: #008000\">'column'</span>: <span style=\"color: #008000; text-decoration-color: #008000\">'atemp'</span>,\n",
       "                <span style=\"color: #008000; text-decoration-color: #008000\">'mean'</span>: <span style=\"color: #008080; text-decoration-color: #008080; font-weight: bold\">0.48</span>,\n",
       "                <span style=\"color: #008000; text-decoration-color: #008000\">'median'</span>: <span style=\"color: #008080; text-decoration-color: #008080; font-weight: bold\">0.48</span>,\n",
       "                <span style=\"color: #008000; text-decoration-color: #008000\">'mode'</span>: <span style=\"font-weight: bold\">[</span><span style=\"color: #008080; text-decoration-color: #008080; font-weight: bold\">0.6212</span><span style=\"font-weight: bold\">]</span>,\n",
       "                <span style=\"color: #008000; text-decoration-color: #008000\">'std'</span>: <span style=\"color: #008080; text-decoration-color: #008080; font-weight: bold\">0.18</span>,\n",
       "                <span style=\"color: #008000; text-decoration-color: #008000\">'variance'</span>: <span style=\"color: #008080; text-decoration-color: #008080; font-weight: bold\">0.03</span>,\n",
       "                <span style=\"color: #008000; text-decoration-color: #008000\">'range'</span>: <span style=\"color: #008080; text-decoration-color: #008080; font-weight: bold\">1.0</span>,\n",
       "                <span style=\"color: #008000; text-decoration-color: #008000\">'min'</span>: <span style=\"color: #008080; text-decoration-color: #008080; font-weight: bold\">0.0</span>,\n",
       "                <span style=\"color: #008000; text-decoration-color: #008000\">'max'</span>: <span style=\"color: #008080; text-decoration-color: #008080; font-weight: bold\">1.0</span>,\n",
       "                <span style=\"color: #008000; text-decoration-color: #008000\">'count'</span>: <span style=\"color: #008080; text-decoration-color: #008080; font-weight: bold\">13903</span>,\n",
       "                <span style=\"color: #008000; text-decoration-color: #008000\">'missing_values'</span>: <span style=\"color: #008080; text-decoration-color: #008080; font-weight: bold\">0</span>,\n",
       "                <span style=\"color: #008000; text-decoration-color: #008000\">'missing_pct'</span>: <span style=\"color: #008080; text-decoration-color: #008080; font-weight: bold\">0.0</span>,\n",
       "                <span style=\"color: #008000; text-decoration-color: #008000\">'unique_values'</span>: <span style=\"color: #008080; text-decoration-color: #008080; font-weight: bold\">65</span>\n",
       "            <span style=\"font-weight: bold\">}</span>,\n",
       "            <span style=\"font-weight: bold\">{</span>\n",
       "                <span style=\"color: #008000; text-decoration-color: #008000\">'column'</span>: <span style=\"color: #008000; text-decoration-color: #008000\">'hum'</span>,\n",
       "                <span style=\"color: #008000; text-decoration-color: #008000\">'mean'</span>: <span style=\"color: #008080; text-decoration-color: #008080; font-weight: bold\">0.62</span>,\n",
       "                <span style=\"color: #008000; text-decoration-color: #008000\">'median'</span>: <span style=\"color: #008080; text-decoration-color: #008080; font-weight: bold\">0.62</span>,\n",
       "                <span style=\"color: #008000; text-decoration-color: #008000\">'mode'</span>: <span style=\"font-weight: bold\">[</span><span style=\"color: #008080; text-decoration-color: #008080; font-weight: bold\">0.88</span><span style=\"font-weight: bold\">]</span>,\n",
       "                <span style=\"color: #008000; text-decoration-color: #008000\">'std'</span>: <span style=\"color: #008080; text-decoration-color: #008080; font-weight: bold\">0.2</span>,\n",
       "                <span style=\"color: #008000; text-decoration-color: #008000\">'variance'</span>: <span style=\"color: #008080; text-decoration-color: #008080; font-weight: bold\">0.04</span>,\n",
       "                <span style=\"color: #008000; text-decoration-color: #008000\">'range'</span>: <span style=\"color: #008080; text-decoration-color: #008080; font-weight: bold\">1.0</span>,\n",
       "                <span style=\"color: #008000; text-decoration-color: #008000\">'min'</span>: <span style=\"color: #008080; text-decoration-color: #008080; font-weight: bold\">0.0</span>,\n",
       "                <span style=\"color: #008000; text-decoration-color: #008000\">'max'</span>: <span style=\"color: #008080; text-decoration-color: #008080; font-weight: bold\">1.0</span>,\n",
       "                <span style=\"color: #008000; text-decoration-color: #008000\">'count'</span>: <span style=\"color: #008080; text-decoration-color: #008080; font-weight: bold\">13903</span>,\n",
       "                <span style=\"color: #008000; text-decoration-color: #008000\">'missing_values'</span>: <span style=\"color: #008080; text-decoration-color: #008080; font-weight: bold\">0</span>,\n",
       "                <span style=\"color: #008000; text-decoration-color: #008000\">'missing_pct'</span>: <span style=\"color: #008080; text-decoration-color: #008080; font-weight: bold\">0.0</span>,\n",
       "                <span style=\"color: #008000; text-decoration-color: #008000\">'unique_values'</span>: <span style=\"color: #008080; text-decoration-color: #008080; font-weight: bold\">88</span>\n",
       "            <span style=\"font-weight: bold\">}</span>,\n",
       "            <span style=\"font-weight: bold\">{</span>\n",
       "                <span style=\"color: #008000; text-decoration-color: #008000\">'column'</span>: <span style=\"color: #008000; text-decoration-color: #008000\">'windspeed'</span>,\n",
       "                <span style=\"color: #008000; text-decoration-color: #008000\">'mean'</span>: <span style=\"color: #008080; text-decoration-color: #008080; font-weight: bold\">0.19</span>,\n",
       "                <span style=\"color: #008000; text-decoration-color: #008000\">'median'</span>: <span style=\"color: #008080; text-decoration-color: #008080; font-weight: bold\">0.19</span>,\n",
       "                <span style=\"color: #008000; text-decoration-color: #008000\">'mode'</span>: <span style=\"font-weight: bold\">[</span><span style=\"color: #008080; text-decoration-color: #008080; font-weight: bold\">0.0</span><span style=\"font-weight: bold\">]</span>,\n",
       "                <span style=\"color: #008000; text-decoration-color: #008000\">'std'</span>: <span style=\"color: #008080; text-decoration-color: #008080; font-weight: bold\">0.12</span>,\n",
       "                <span style=\"color: #008000; text-decoration-color: #008000\">'variance'</span>: <span style=\"color: #008080; text-decoration-color: #008080; font-weight: bold\">0.02</span>,\n",
       "                <span style=\"color: #008000; text-decoration-color: #008000\">'range'</span>: <span style=\"color: #008080; text-decoration-color: #008080; font-weight: bold\">0.85</span>,\n",
       "                <span style=\"color: #008000; text-decoration-color: #008000\">'min'</span>: <span style=\"color: #008080; text-decoration-color: #008080; font-weight: bold\">0.0</span>,\n",
       "                <span style=\"color: #008000; text-decoration-color: #008000\">'max'</span>: <span style=\"color: #008080; text-decoration-color: #008080; font-weight: bold\">0.8507</span>,\n",
       "                <span style=\"color: #008000; text-decoration-color: #008000\">'count'</span>: <span style=\"color: #008080; text-decoration-color: #008080; font-weight: bold\">13903</span>,\n",
       "                <span style=\"color: #008000; text-decoration-color: #008000\">'missing_values'</span>: <span style=\"color: #008080; text-decoration-color: #008080; font-weight: bold\">0</span>,\n",
       "                <span style=\"color: #008000; text-decoration-color: #008000\">'missing_pct'</span>: <span style=\"color: #008080; text-decoration-color: #008080; font-weight: bold\">0.0</span>,\n",
       "                <span style=\"color: #008000; text-decoration-color: #008000\">'unique_values'</span>: <span style=\"color: #008080; text-decoration-color: #008080; font-weight: bold\">30</span>\n",
       "            <span style=\"font-weight: bold\">}</span>,\n",
       "            <span style=\"font-weight: bold\">{</span>\n",
       "                <span style=\"color: #008000; text-decoration-color: #008000\">'column'</span>: <span style=\"color: #008000; text-decoration-color: #008000\">'casual'</span>,\n",
       "                <span style=\"color: #008000; text-decoration-color: #008000\">'mean'</span>: <span style=\"color: #008080; text-decoration-color: #008080; font-weight: bold\">34.04</span>,\n",
       "                <span style=\"color: #008000; text-decoration-color: #008000\">'median'</span>: <span style=\"color: #008080; text-decoration-color: #008080; font-weight: bold\">15.0</span>,\n",
       "                <span style=\"color: #008000; text-decoration-color: #008000\">'mode'</span>: <span style=\"font-weight: bold\">[</span><span style=\"color: #008080; text-decoration-color: #008080; font-weight: bold\">0</span><span style=\"font-weight: bold\">]</span>,\n",
       "                <span style=\"color: #008000; text-decoration-color: #008000\">'std'</span>: <span style=\"color: #008080; text-decoration-color: #008080; font-weight: bold\">47.34</span>,\n",
       "                <span style=\"color: #008000; text-decoration-color: #008000\">'variance'</span>: <span style=\"color: #008080; text-decoration-color: #008080; font-weight: bold\">2241.19</span>,\n",
       "                <span style=\"color: #008000; text-decoration-color: #008000\">'range'</span>: <span style=\"color: #008080; text-decoration-color: #008080; font-weight: bold\">367</span>,\n",
       "                <span style=\"color: #008000; text-decoration-color: #008000\">'min'</span>: <span style=\"color: #008080; text-decoration-color: #008080; font-weight: bold\">0</span>,\n",
       "                <span style=\"color: #008000; text-decoration-color: #008000\">'max'</span>: <span style=\"color: #008080; text-decoration-color: #008080; font-weight: bold\">367</span>,\n",
       "                <span style=\"color: #008000; text-decoration-color: #008000\">'count'</span>: <span style=\"color: #008080; text-decoration-color: #008080; font-weight: bold\">13903</span>,\n",
       "                <span style=\"color: #008000; text-decoration-color: #008000\">'missing_values'</span>: <span style=\"color: #008080; text-decoration-color: #008080; font-weight: bold\">0</span>,\n",
       "                <span style=\"color: #008000; text-decoration-color: #008000\">'missing_pct'</span>: <span style=\"color: #008080; text-decoration-color: #008080; font-weight: bold\">0.0</span>,\n",
       "                <span style=\"color: #008000; text-decoration-color: #008000\">'unique_values'</span>: <span style=\"color: #008080; text-decoration-color: #008080; font-weight: bold\">303</span>\n",
       "            <span style=\"font-weight: bold\">}</span>,\n",
       "            <span style=\"font-weight: bold\">{</span>\n",
       "                <span style=\"color: #008000; text-decoration-color: #008000\">'column'</span>: <span style=\"color: #008000; text-decoration-color: #008000\">'registered'</span>,\n",
       "                <span style=\"color: #008000; text-decoration-color: #008000\">'mean'</span>: <span style=\"color: #008080; text-decoration-color: #008080; font-weight: bold\">140.6</span>,\n",
       "                <span style=\"color: #008000; text-decoration-color: #008000\">'median'</span>: <span style=\"color: #008080; text-decoration-color: #008080; font-weight: bold\">107.0</span>,\n",
       "                <span style=\"color: #008000; text-decoration-color: #008000\">'mode'</span>: <span style=\"font-weight: bold\">[</span><span style=\"color: #008080; text-decoration-color: #008080; font-weight: bold\">4</span><span style=\"font-weight: bold\">]</span>,\n",
       "                <span style=\"color: #008000; text-decoration-color: #008000\">'std'</span>: <span style=\"color: #008080; text-decoration-color: #008080; font-weight: bold\">137.51</span>,\n",
       "                <span style=\"color: #008000; text-decoration-color: #008000\">'variance'</span>: <span style=\"color: #008080; text-decoration-color: #008080; font-weight: bold\">18909.65</span>,\n",
       "                <span style=\"color: #008000; text-decoration-color: #008000\">'range'</span>: <span style=\"color: #008080; text-decoration-color: #008080; font-weight: bold\">796</span>,\n",
       "                <span style=\"color: #008000; text-decoration-color: #008000\">'min'</span>: <span style=\"color: #008080; text-decoration-color: #008080; font-weight: bold\">0</span>,\n",
       "                <span style=\"color: #008000; text-decoration-color: #008000\">'max'</span>: <span style=\"color: #008080; text-decoration-color: #008080; font-weight: bold\">796</span>,\n",
       "                <span style=\"color: #008000; text-decoration-color: #008000\">'count'</span>: <span style=\"color: #008080; text-decoration-color: #008080; font-weight: bold\">13903</span>,\n",
       "                <span style=\"color: #008000; text-decoration-color: #008000\">'missing_values'</span>: <span style=\"color: #008080; text-decoration-color: #008080; font-weight: bold\">0</span>,\n",
       "                <span style=\"color: #008000; text-decoration-color: #008000\">'missing_pct'</span>: <span style=\"color: #008080; text-decoration-color: #008080; font-weight: bold\">0.0</span>,\n",
       "                <span style=\"color: #008000; text-decoration-color: #008000\">'unique_values'</span>: <span style=\"color: #008080; text-decoration-color: #008080; font-weight: bold\">701</span>\n",
       "            <span style=\"font-weight: bold\">}</span>,\n",
       "            <span style=\"font-weight: bold\">{</span>\n",
       "                <span style=\"color: #008000; text-decoration-color: #008000\">'column'</span>: <span style=\"color: #008000; text-decoration-color: #008000\">'cnt'</span>,\n",
       "                <span style=\"color: #008000; text-decoration-color: #008000\">'mean'</span>: <span style=\"color: #008080; text-decoration-color: #008080; font-weight: bold\">174.64</span>,\n",
       "                <span style=\"color: #008000; text-decoration-color: #008000\">'median'</span>: <span style=\"color: #008080; text-decoration-color: #008080; font-weight: bold\">130.0</span>,\n",
       "                <span style=\"color: #008000; text-decoration-color: #008000\">'mode'</span>: <span style=\"font-weight: bold\">[</span><span style=\"color: #008080; text-decoration-color: #008080; font-weight: bold\">5</span><span style=\"font-weight: bold\">]</span>,\n",
       "                <span style=\"color: #008000; text-decoration-color: #008000\">'std'</span>: <span style=\"color: #008080; text-decoration-color: #008080; font-weight: bold\">166.96</span>,\n",
       "                <span style=\"color: #008000; text-decoration-color: #008000\">'variance'</span>: <span style=\"color: #008080; text-decoration-color: #008080; font-weight: bold\">27874.11</span>,\n",
       "                <span style=\"color: #008000; text-decoration-color: #008000\">'range'</span>: <span style=\"color: #008080; text-decoration-color: #008080; font-weight: bold\">956</span>,\n",
       "                <span style=\"color: #008000; text-decoration-color: #008000\">'min'</span>: <span style=\"color: #008080; text-decoration-color: #008080; font-weight: bold\">1</span>,\n",
       "                <span style=\"color: #008000; text-decoration-color: #008000\">'max'</span>: <span style=\"color: #008080; text-decoration-color: #008080; font-weight: bold\">957</span>,\n",
       "                <span style=\"color: #008000; text-decoration-color: #008000\">'count'</span>: <span style=\"color: #008080; text-decoration-color: #008080; font-weight: bold\">13903</span>,\n",
       "                <span style=\"color: #008000; text-decoration-color: #008000\">'missing_values'</span>: <span style=\"color: #008080; text-decoration-color: #008080; font-weight: bold\">0</span>,\n",
       "                <span style=\"color: #008000; text-decoration-color: #008000\">'missing_pct'</span>: <span style=\"color: #008080; text-decoration-color: #008080; font-weight: bold\">0.0</span>,\n",
       "                <span style=\"color: #008000; text-decoration-color: #008000\">'unique_values'</span>: <span style=\"color: #008080; text-decoration-color: #008080; font-weight: bold\">789</span>\n",
       "            <span style=\"font-weight: bold\">}</span>\n",
       "        <span style=\"font-weight: bold\">]</span>,\n",
       "        <span style=\"color: #008000; text-decoration-color: #008000\">'categorical'</span>: <span style=\"font-weight: bold\">[</span>\n",
       "            <span style=\"font-weight: bold\">{</span>\n",
       "                <span style=\"color: #008000; text-decoration-color: #008000\">'column'</span>: <span style=\"color: #008000; text-decoration-color: #008000\">'datetime'</span>,\n",
       "                <span style=\"color: #008000; text-decoration-color: #008000\">'total_count'</span>: <span style=\"color: #008080; text-decoration-color: #008080; font-weight: bold\">13903</span>,\n",
       "                <span style=\"color: #008000; text-decoration-color: #008000\">'unique_values'</span>: <span style=\"color: #008080; text-decoration-color: #008080; font-weight: bold\">13903</span>,\n",
       "                <span style=\"color: #008000; text-decoration-color: #008000\">'value_counts'</span>: <span style=\"font-weight: bold\">[</span>\n",
       "                    <span style=\"font-weight: bold\">[</span><span style=\"color: #008000; text-decoration-color: #008000\">'2011-01-01 00:00:00'</span>, <span style=\"color: #008080; text-decoration-color: #008080; font-weight: bold\">1</span><span style=\"font-weight: bold\">]</span>,\n",
       "                    <span style=\"font-weight: bold\">[</span><span style=\"color: #008000; text-decoration-color: #008000\">'2011-01-01 01:00:00'</span>, <span style=\"color: #008080; text-decoration-color: #008080; font-weight: bold\">1</span><span style=\"font-weight: bold\">]</span>,\n",
       "                    <span style=\"font-weight: bold\">[</span><span style=\"color: #008000; text-decoration-color: #008000\">'2011-01-01 02:00:00'</span>, <span style=\"color: #008080; text-decoration-color: #008080; font-weight: bold\">1</span><span style=\"font-weight: bold\">]</span>,\n",
       "                    <span style=\"font-weight: bold\">[</span><span style=\"color: #008000; text-decoration-color: #008000\">'2011-01-01 03:00:00'</span>, <span style=\"color: #008080; text-decoration-color: #008080; font-weight: bold\">1</span><span style=\"font-weight: bold\">]</span>,\n",
       "                    <span style=\"font-weight: bold\">[</span><span style=\"color: #008000; text-decoration-color: #008000\">'2011-01-01 04:00:00'</span>, <span style=\"color: #008080; text-decoration-color: #008080; font-weight: bold\">1</span><span style=\"font-weight: bold\">]</span>,\n",
       "                    <span style=\"font-weight: bold\">[</span><span style=\"color: #008000; text-decoration-color: #008000\">'2011-01-01 05:00:00'</span>, <span style=\"color: #008080; text-decoration-color: #008080; font-weight: bold\">1</span><span style=\"font-weight: bold\">]</span>,\n",
       "                    <span style=\"font-weight: bold\">[</span><span style=\"color: #008000; text-decoration-color: #008000\">'2011-01-01 06:00:00'</span>, <span style=\"color: #008080; text-decoration-color: #008080; font-weight: bold\">1</span><span style=\"font-weight: bold\">]</span>,\n",
       "                    <span style=\"font-weight: bold\">[</span><span style=\"color: #008000; text-decoration-color: #008000\">'2011-01-01 07:00:00'</span>, <span style=\"color: #008080; text-decoration-color: #008080; font-weight: bold\">1</span><span style=\"font-weight: bold\">]</span>,\n",
       "                    <span style=\"font-weight: bold\">[</span><span style=\"color: #008000; text-decoration-color: #008000\">'2011-01-01 08:00:00'</span>, <span style=\"color: #008080; text-decoration-color: #008080; font-weight: bold\">1</span><span style=\"font-weight: bold\">]</span>,\n",
       "                    <span style=\"font-weight: bold\">[</span><span style=\"color: #008000; text-decoration-color: #008000\">'2011-01-01 09:00:00'</span>, <span style=\"color: #008080; text-decoration-color: #008080; font-weight: bold\">1</span><span style=\"font-weight: bold\">]</span>\n",
       "                <span style=\"font-weight: bold\">]</span>,\n",
       "                <span style=\"color: #008000; text-decoration-color: #008000\">'missing_values'</span>: <span style=\"color: #008080; text-decoration-color: #008080; font-weight: bold\">0</span>,\n",
       "                <span style=\"color: #008000; text-decoration-color: #008000\">'missing_pct'</span>: <span style=\"color: #008080; text-decoration-color: #008080; font-weight: bold\">0.0</span>\n",
       "            <span style=\"font-weight: bold\">}</span>\n",
       "        <span style=\"font-weight: bold\">]</span>\n",
       "    <span style=\"font-weight: bold\">}</span>,\n",
       "    <span style=\"color: #008000; text-decoration-color: #008000\">'other_info'</span>: <span style=\"font-weight: bold\">{</span>\n",
       "        <span style=\"color: #008000; text-decoration-color: #008000\">'num_unique_numeric_rows'</span>: <span style=\"font-weight: bold\">{</span>\n",
       "            <span style=\"color: #008000; text-decoration-color: #008000\">'season'</span>: <span style=\"color: #008080; text-decoration-color: #008080; font-weight: bold\">4</span>,\n",
       "            <span style=\"color: #008000; text-decoration-color: #008000\">'yr'</span>: <span style=\"color: #008080; text-decoration-color: #008080; font-weight: bold\">2</span>,\n",
       "            <span style=\"color: #008000; text-decoration-color: #008000\">'mnth'</span>: <span style=\"color: #008080; text-decoration-color: #008080; font-weight: bold\">12</span>,\n",
       "            <span style=\"color: #008000; text-decoration-color: #008000\">'hr'</span>: <span style=\"color: #008080; text-decoration-color: #008080; font-weight: bold\">24</span>,\n",
       "            <span style=\"color: #008000; text-decoration-color: #008000\">'holiday'</span>: <span style=\"color: #008080; text-decoration-color: #008080; font-weight: bold\">2</span>,\n",
       "            <span style=\"color: #008000; text-decoration-color: #008000\">'weekday'</span>: <span style=\"color: #008080; text-decoration-color: #008080; font-weight: bold\">7</span>,\n",
       "            <span style=\"color: #008000; text-decoration-color: #008000\">'workingday'</span>: <span style=\"color: #008080; text-decoration-color: #008080; font-weight: bold\">2</span>,\n",
       "            <span style=\"color: #008000; text-decoration-color: #008000\">'weathersit'</span>: <span style=\"color: #008080; text-decoration-color: #008080; font-weight: bold\">4</span>,\n",
       "            <span style=\"color: #008000; text-decoration-color: #008000\">'temp'</span>: <span style=\"color: #008080; text-decoration-color: #008080; font-weight: bold\">50</span>,\n",
       "            <span style=\"color: #008000; text-decoration-color: #008000\">'atemp'</span>: <span style=\"color: #008080; text-decoration-color: #008080; font-weight: bold\">65</span>,\n",
       "            <span style=\"color: #008000; text-decoration-color: #008000\">'hum'</span>: <span style=\"color: #008080; text-decoration-color: #008080; font-weight: bold\">88</span>,\n",
       "            <span style=\"color: #008000; text-decoration-color: #008000\">'windspeed'</span>: <span style=\"color: #008080; text-decoration-color: #008080; font-weight: bold\">30</span>,\n",
       "            <span style=\"color: #008000; text-decoration-color: #008000\">'casual'</span>: <span style=\"color: #008080; text-decoration-color: #008080; font-weight: bold\">303</span>,\n",
       "            <span style=\"color: #008000; text-decoration-color: #008000\">'registered'</span>: <span style=\"color: #008080; text-decoration-color: #008080; font-weight: bold\">701</span>,\n",
       "            <span style=\"color: #008000; text-decoration-color: #008000\">'cnt'</span>: <span style=\"color: #008080; text-decoration-color: #008080; font-weight: bold\">789</span>\n",
       "        <span style=\"font-weight: bold\">}</span>,\n",
       "        <span style=\"color: #008000; text-decoration-color: #008000\">'num_unique_string_rows'</span>: <span style=\"font-weight: bold\">{</span><span style=\"color: #008000; text-decoration-color: #008000\">'datetime'</span>: <span style=\"color: #008080; text-decoration-color: #008080; font-weight: bold\">13903</span><span style=\"font-weight: bold\">}</span>,\n",
       "        <span style=\"color: #008000; text-decoration-color: #008000\">'data_nulls'</span>: <span style=\"font-weight: bold\">{</span>\n",
       "            <span style=\"color: #008000; text-decoration-color: #008000\">'datetime'</span>: <span style=\"color: #008080; text-decoration-color: #008080; font-weight: bold\">0</span>,\n",
       "            <span style=\"color: #008000; text-decoration-color: #008000\">'season'</span>: <span style=\"color: #008080; text-decoration-color: #008080; font-weight: bold\">0</span>,\n",
       "            <span style=\"color: #008000; text-decoration-color: #008000\">'yr'</span>: <span style=\"color: #008080; text-decoration-color: #008080; font-weight: bold\">0</span>,\n",
       "            <span style=\"color: #008000; text-decoration-color: #008000\">'mnth'</span>: <span style=\"color: #008080; text-decoration-color: #008080; font-weight: bold\">0</span>,\n",
       "            <span style=\"color: #008000; text-decoration-color: #008000\">'hr'</span>: <span style=\"color: #008080; text-decoration-color: #008080; font-weight: bold\">0</span>,\n",
       "            <span style=\"color: #008000; text-decoration-color: #008000\">'holiday'</span>: <span style=\"color: #008080; text-decoration-color: #008080; font-weight: bold\">0</span>,\n",
       "            <span style=\"color: #008000; text-decoration-color: #008000\">'weekday'</span>: <span style=\"color: #008080; text-decoration-color: #008080; font-weight: bold\">0</span>,\n",
       "            <span style=\"color: #008000; text-decoration-color: #008000\">'workingday'</span>: <span style=\"color: #008080; text-decoration-color: #008080; font-weight: bold\">0</span>,\n",
       "            <span style=\"color: #008000; text-decoration-color: #008000\">'weathersit'</span>: <span style=\"color: #008080; text-decoration-color: #008080; font-weight: bold\">0</span>,\n",
       "            <span style=\"color: #008000; text-decoration-color: #008000\">'temp'</span>: <span style=\"color: #008080; text-decoration-color: #008080; font-weight: bold\">0</span>,\n",
       "            <span style=\"color: #008000; text-decoration-color: #008000\">'atemp'</span>: <span style=\"color: #008080; text-decoration-color: #008080; font-weight: bold\">0</span>,\n",
       "            <span style=\"color: #008000; text-decoration-color: #008000\">'hum'</span>: <span style=\"color: #008080; text-decoration-color: #008080; font-weight: bold\">0</span>,\n",
       "            <span style=\"color: #008000; text-decoration-color: #008000\">'windspeed'</span>: <span style=\"color: #008080; text-decoration-color: #008080; font-weight: bold\">0</span>,\n",
       "            <span style=\"color: #008000; text-decoration-color: #008000\">'casual'</span>: <span style=\"color: #008080; text-decoration-color: #008080; font-weight: bold\">0</span>,\n",
       "            <span style=\"color: #008000; text-decoration-color: #008000\">'registered'</span>: <span style=\"color: #008080; text-decoration-color: #008080; font-weight: bold\">0</span>,\n",
       "            <span style=\"color: #008000; text-decoration-color: #008000\">'cnt'</span>: <span style=\"color: #008080; text-decoration-color: #008080; font-weight: bold\">0</span>\n",
       "        <span style=\"font-weight: bold\">}</span>,\n",
       "        <span style=\"color: #008000; text-decoration-color: #008000\">'total_nulls'</span>: <span style=\"color: #008080; text-decoration-color: #008080; font-weight: bold\">0</span>,\n",
       "        <span style=\"color: #008000; text-decoration-color: #008000\">'num_duplicated_rows'</span>: <span style=\"color: #008080; text-decoration-color: #008080; font-weight: bold\">0</span>,\n",
       "        <span style=\"color: #008000; text-decoration-color: #008000\">'memory_usage_MB'</span>: <span style=\"color: #008080; text-decoration-color: #008080; font-weight: bold\">1.84</span>,\n",
       "        <span style=\"color: #008000; text-decoration-color: #008000\">'validation_timestamp'</span>: <span style=\"color: #008000; text-decoration-color: #008000\">'2025-09-27T17:28:49+01:00'</span>\n",
       "    <span style=\"font-weight: bold\">}</span>\n",
       "<span style=\"font-weight: bold\">}</span>\n",
       "</pre>\n"
      ],
      "text/plain": [
       "\u001b[1m{\u001b[0m\n",
       "    \u001b[32m'data_schema'\u001b[0m: \u001b[1m{\u001b[0m\n",
       "        \u001b[32m'numeric'\u001b[0m: \u001b[1m{\u001b[0m\n",
       "            \u001b[32m'season'\u001b[0m: \u001b[32m'Int64'\u001b[0m,\n",
       "            \u001b[32m'yr'\u001b[0m: \u001b[32m'Int64'\u001b[0m,\n",
       "            \u001b[32m'mnth'\u001b[0m: \u001b[32m'Int64'\u001b[0m,\n",
       "            \u001b[32m'hr'\u001b[0m: \u001b[32m'Int64'\u001b[0m,\n",
       "            \u001b[32m'holiday'\u001b[0m: \u001b[32m'Int64'\u001b[0m,\n",
       "            \u001b[32m'weekday'\u001b[0m: \u001b[32m'Int64'\u001b[0m,\n",
       "            \u001b[32m'workingday'\u001b[0m: \u001b[32m'Int64'\u001b[0m,\n",
       "            \u001b[32m'weathersit'\u001b[0m: \u001b[32m'Int64'\u001b[0m,\n",
       "            \u001b[32m'temp'\u001b[0m: \u001b[32m'Float64'\u001b[0m,\n",
       "            \u001b[32m'atemp'\u001b[0m: \u001b[32m'Float64'\u001b[0m,\n",
       "            \u001b[32m'hum'\u001b[0m: \u001b[32m'Float64'\u001b[0m,\n",
       "            \u001b[32m'windspeed'\u001b[0m: \u001b[32m'Float64'\u001b[0m,\n",
       "            \u001b[32m'casual'\u001b[0m: \u001b[32m'Int64'\u001b[0m,\n",
       "            \u001b[32m'registered'\u001b[0m: \u001b[32m'Int64'\u001b[0m,\n",
       "            \u001b[32m'cnt'\u001b[0m: \u001b[32m'Int64'\u001b[0m\n",
       "        \u001b[1m}\u001b[0m,\n",
       "        \u001b[32m'string'\u001b[0m: \u001b[1m{\u001b[0m\u001b[32m'datetime'\u001b[0m: \u001b[32m'String'\u001b[0m\u001b[1m}\u001b[0m\n",
       "    \u001b[1m}\u001b[0m,\n",
       "    \u001b[32m'data_shape'\u001b[0m: \u001b[1m{\u001b[0m\n",
       "        \u001b[32m'total_rows'\u001b[0m: \u001b[1;36m13903\u001b[0m,\n",
       "        \u001b[32m'total_columns'\u001b[0m: \u001b[1;36m16\u001b[0m,\n",
       "        \u001b[32m'number_of_numeric_columns'\u001b[0m: \u001b[1;36m15\u001b[0m,\n",
       "        \u001b[32m'number_of_string_columns'\u001b[0m: \u001b[1;36m1\u001b[0m\n",
       "    \u001b[1m}\u001b[0m,\n",
       "    \u001b[32m'summary_statistics'\u001b[0m: \u001b[1m{\u001b[0m\n",
       "        \u001b[32m'numeric'\u001b[0m: \u001b[1m[\u001b[0m\n",
       "            \u001b[1m{\u001b[0m\n",
       "                \u001b[32m'column'\u001b[0m: \u001b[32m'season'\u001b[0m,\n",
       "                \u001b[32m'mean'\u001b[0m: \u001b[1;36m2.26\u001b[0m,\n",
       "                \u001b[32m'median'\u001b[0m: \u001b[1;36m2.0\u001b[0m,\n",
       "                \u001b[32m'mode'\u001b[0m: \u001b[1m[\u001b[0m\u001b[1;36m2\u001b[0m\u001b[1m]\u001b[0m,\n",
       "                \u001b[32m'std'\u001b[0m: \u001b[1;36m1.04\u001b[0m,\n",
       "                \u001b[32m'variance'\u001b[0m: \u001b[1;36m1.07\u001b[0m,\n",
       "                \u001b[32m'range'\u001b[0m: \u001b[1;36m3\u001b[0m,\n",
       "                \u001b[32m'min'\u001b[0m: \u001b[1;36m1\u001b[0m,\n",
       "                \u001b[32m'max'\u001b[0m: \u001b[1;36m4\u001b[0m,\n",
       "                \u001b[32m'count'\u001b[0m: \u001b[1;36m13903\u001b[0m,\n",
       "                \u001b[32m'missing_values'\u001b[0m: \u001b[1;36m0\u001b[0m,\n",
       "                \u001b[32m'missing_pct'\u001b[0m: \u001b[1;36m0.0\u001b[0m,\n",
       "                \u001b[32m'unique_values'\u001b[0m: \u001b[1;36m4\u001b[0m\n",
       "            \u001b[1m}\u001b[0m,\n",
       "            \u001b[1m{\u001b[0m\n",
       "                \u001b[32m'column'\u001b[0m: \u001b[32m'yr'\u001b[0m,\n",
       "                \u001b[32m'mean'\u001b[0m: \u001b[1;36m0.38\u001b[0m,\n",
       "                \u001b[32m'median'\u001b[0m: \u001b[1;36m0.0\u001b[0m,\n",
       "                \u001b[32m'mode'\u001b[0m: \u001b[1m[\u001b[0m\u001b[1;36m0\u001b[0m\u001b[1m]\u001b[0m,\n",
       "                \u001b[32m'std'\u001b[0m: \u001b[1;36m0.48\u001b[0m,\n",
       "                \u001b[32m'variance'\u001b[0m: \u001b[1;36m0.24\u001b[0m,\n",
       "                \u001b[32m'range'\u001b[0m: \u001b[1;36m1\u001b[0m,\n",
       "                \u001b[32m'min'\u001b[0m: \u001b[1;36m0\u001b[0m,\n",
       "                \u001b[32m'max'\u001b[0m: \u001b[1;36m1\u001b[0m,\n",
       "                \u001b[32m'count'\u001b[0m: \u001b[1;36m13903\u001b[0m,\n",
       "                \u001b[32m'missing_values'\u001b[0m: \u001b[1;36m0\u001b[0m,\n",
       "                \u001b[32m'missing_pct'\u001b[0m: \u001b[1;36m0.0\u001b[0m,\n",
       "                \u001b[32m'unique_values'\u001b[0m: \u001b[1;36m2\u001b[0m\n",
       "            \u001b[1m}\u001b[0m,\n",
       "            \u001b[1m{\u001b[0m\n",
       "                \u001b[32m'column'\u001b[0m: \u001b[32m'mnth'\u001b[0m,\n",
       "                \u001b[32m'mean'\u001b[0m: \u001b[1;36m5.65\u001b[0m,\n",
       "                \u001b[32m'median'\u001b[0m: \u001b[1;36m5.0\u001b[0m,\n",
       "                \u001b[32m'mode'\u001b[0m: \u001b[1m[\u001b[0m\u001b[1;36m7\u001b[0m, \u001b[1;36m5\u001b[0m\u001b[1m]\u001b[0m,\n",
       "                \u001b[32m'std'\u001b[0m: \u001b[1;36m3.22\u001b[0m,\n",
       "                \u001b[32m'variance'\u001b[0m: \u001b[1;36m10.36\u001b[0m,\n",
       "                \u001b[32m'range'\u001b[0m: \u001b[1;36m11\u001b[0m,\n",
       "                \u001b[32m'min'\u001b[0m: \u001b[1;36m1\u001b[0m,\n",
       "                \u001b[32m'max'\u001b[0m: \u001b[1;36m12\u001b[0m,\n",
       "                \u001b[32m'count'\u001b[0m: \u001b[1;36m13903\u001b[0m,\n",
       "                \u001b[32m'missing_values'\u001b[0m: \u001b[1;36m0\u001b[0m,\n",
       "                \u001b[32m'missing_pct'\u001b[0m: \u001b[1;36m0.0\u001b[0m,\n",
       "                \u001b[32m'unique_values'\u001b[0m: \u001b[1;36m12\u001b[0m\n",
       "            \u001b[1m}\u001b[0m,\n",
       "            \u001b[1m{\u001b[0m\n",
       "                \u001b[32m'column'\u001b[0m: \u001b[32m'hr'\u001b[0m,\n",
       "                \u001b[32m'mean'\u001b[0m: \u001b[1;36m11.55\u001b[0m,\n",
       "                \u001b[32m'median'\u001b[0m: \u001b[1;36m12.0\u001b[0m,\n",
       "                \u001b[32m'mode'\u001b[0m: \u001b[1m[\u001b[0m\u001b[1;36m16\u001b[0m, \u001b[1;36m17\u001b[0m\u001b[1m]\u001b[0m,\n",
       "                \u001b[32m'std'\u001b[0m: \u001b[1;36m6.91\u001b[0m,\n",
       "                \u001b[32m'variance'\u001b[0m: \u001b[1;36m47.78\u001b[0m,\n",
       "                \u001b[32m'range'\u001b[0m: \u001b[1;36m23\u001b[0m,\n",
       "                \u001b[32m'min'\u001b[0m: \u001b[1;36m0\u001b[0m,\n",
       "                \u001b[32m'max'\u001b[0m: \u001b[1;36m23\u001b[0m,\n",
       "                \u001b[32m'count'\u001b[0m: \u001b[1;36m13903\u001b[0m,\n",
       "                \u001b[32m'missing_values'\u001b[0m: \u001b[1;36m0\u001b[0m,\n",
       "                \u001b[32m'missing_pct'\u001b[0m: \u001b[1;36m0.0\u001b[0m,\n",
       "                \u001b[32m'unique_values'\u001b[0m: \u001b[1;36m24\u001b[0m\n",
       "            \u001b[1m}\u001b[0m,\n",
       "            \u001b[1m{\u001b[0m\n",
       "                \u001b[32m'column'\u001b[0m: \u001b[32m'holiday'\u001b[0m,\n",
       "                \u001b[32m'mean'\u001b[0m: \u001b[1;36m0.03\u001b[0m,\n",
       "                \u001b[32m'median'\u001b[0m: \u001b[1;36m0.0\u001b[0m,\n",
       "                \u001b[32m'mode'\u001b[0m: \u001b[1m[\u001b[0m\u001b[1;36m0\u001b[0m\u001b[1m]\u001b[0m,\n",
       "                \u001b[32m'std'\u001b[0m: \u001b[1;36m0.16\u001b[0m,\n",
       "                \u001b[32m'variance'\u001b[0m: \u001b[1;36m0.03\u001b[0m,\n",
       "                \u001b[32m'range'\u001b[0m: \u001b[1;36m1\u001b[0m,\n",
       "                \u001b[32m'min'\u001b[0m: \u001b[1;36m0\u001b[0m,\n",
       "                \u001b[32m'max'\u001b[0m: \u001b[1;36m1\u001b[0m,\n",
       "                \u001b[32m'count'\u001b[0m: \u001b[1;36m13903\u001b[0m,\n",
       "                \u001b[32m'missing_values'\u001b[0m: \u001b[1;36m0\u001b[0m,\n",
       "                \u001b[32m'missing_pct'\u001b[0m: \u001b[1;36m0.0\u001b[0m,\n",
       "                \u001b[32m'unique_values'\u001b[0m: \u001b[1;36m2\u001b[0m\n",
       "            \u001b[1m}\u001b[0m,\n",
       "            \u001b[1m{\u001b[0m\n",
       "                \u001b[32m'column'\u001b[0m: \u001b[32m'weekday'\u001b[0m,\n",
       "                \u001b[32m'mean'\u001b[0m: \u001b[1;36m3.0\u001b[0m,\n",
       "                \u001b[32m'median'\u001b[0m: \u001b[1;36m3.0\u001b[0m,\n",
       "                \u001b[32m'mode'\u001b[0m: \u001b[1m[\u001b[0m\u001b[1;36m6\u001b[0m\u001b[1m]\u001b[0m,\n",
       "                \u001b[32m'std'\u001b[0m: \u001b[1;36m2.01\u001b[0m,\n",
       "                \u001b[32m'variance'\u001b[0m: \u001b[1;36m4.02\u001b[0m,\n",
       "                \u001b[32m'range'\u001b[0m: \u001b[1;36m6\u001b[0m,\n",
       "                \u001b[32m'min'\u001b[0m: \u001b[1;36m0\u001b[0m,\n",
       "                \u001b[32m'max'\u001b[0m: \u001b[1;36m6\u001b[0m,\n",
       "                \u001b[32m'count'\u001b[0m: \u001b[1;36m13903\u001b[0m,\n",
       "                \u001b[32m'missing_values'\u001b[0m: \u001b[1;36m0\u001b[0m,\n",
       "                \u001b[32m'missing_pct'\u001b[0m: \u001b[1;36m0.0\u001b[0m,\n",
       "                \u001b[32m'unique_values'\u001b[0m: \u001b[1;36m7\u001b[0m\n",
       "            \u001b[1m}\u001b[0m,\n",
       "            \u001b[1m{\u001b[0m\n",
       "                \u001b[32m'column'\u001b[0m: \u001b[32m'workingday'\u001b[0m,\n",
       "                \u001b[32m'mean'\u001b[0m: \u001b[1;36m0.68\u001b[0m,\n",
       "                \u001b[32m'median'\u001b[0m: \u001b[1;36m1.0\u001b[0m,\n",
       "                \u001b[32m'mode'\u001b[0m: \u001b[1m[\u001b[0m\u001b[1;36m1\u001b[0m\u001b[1m]\u001b[0m,\n",
       "                \u001b[32m'std'\u001b[0m: \u001b[1;36m0.46\u001b[0m,\n",
       "                \u001b[32m'variance'\u001b[0m: \u001b[1;36m0.22\u001b[0m,\n",
       "                \u001b[32m'range'\u001b[0m: \u001b[1;36m1\u001b[0m,\n",
       "                \u001b[32m'min'\u001b[0m: \u001b[1;36m0\u001b[0m,\n",
       "                \u001b[32m'max'\u001b[0m: \u001b[1;36m1\u001b[0m,\n",
       "                \u001b[32m'count'\u001b[0m: \u001b[1;36m13903\u001b[0m,\n",
       "                \u001b[32m'missing_values'\u001b[0m: \u001b[1;36m0\u001b[0m,\n",
       "                \u001b[32m'missing_pct'\u001b[0m: \u001b[1;36m0.0\u001b[0m,\n",
       "                \u001b[32m'unique_values'\u001b[0m: \u001b[1;36m2\u001b[0m\n",
       "            \u001b[1m}\u001b[0m,\n",
       "            \u001b[1m{\u001b[0m\n",
       "                \u001b[32m'column'\u001b[0m: \u001b[32m'weathersit'\u001b[0m,\n",
       "                \u001b[32m'mean'\u001b[0m: \u001b[1;36m1.42\u001b[0m,\n",
       "                \u001b[32m'median'\u001b[0m: \u001b[1;36m1.0\u001b[0m,\n",
       "                \u001b[32m'mode'\u001b[0m: \u001b[1m[\u001b[0m\u001b[1;36m1\u001b[0m\u001b[1m]\u001b[0m,\n",
       "                \u001b[32m'std'\u001b[0m: \u001b[1;36m0.64\u001b[0m,\n",
       "                \u001b[32m'variance'\u001b[0m: \u001b[1;36m0.41\u001b[0m,\n",
       "                \u001b[32m'range'\u001b[0m: \u001b[1;36m3\u001b[0m,\n",
       "                \u001b[32m'min'\u001b[0m: \u001b[1;36m1\u001b[0m,\n",
       "                \u001b[32m'max'\u001b[0m: \u001b[1;36m4\u001b[0m,\n",
       "                \u001b[32m'count'\u001b[0m: \u001b[1;36m13903\u001b[0m,\n",
       "                \u001b[32m'missing_values'\u001b[0m: \u001b[1;36m0\u001b[0m,\n",
       "                \u001b[32m'missing_pct'\u001b[0m: \u001b[1;36m0.0\u001b[0m,\n",
       "                \u001b[32m'unique_values'\u001b[0m: \u001b[1;36m4\u001b[0m\n",
       "            \u001b[1m}\u001b[0m,\n",
       "            \u001b[1m{\u001b[0m\n",
       "                \u001b[32m'column'\u001b[0m: \u001b[32m'temp'\u001b[0m,\n",
       "                \u001b[32m'mean'\u001b[0m: \u001b[1;36m0.5\u001b[0m,\n",
       "                \u001b[32m'median'\u001b[0m: \u001b[1;36m0.5\u001b[0m,\n",
       "                \u001b[32m'mode'\u001b[0m: \u001b[1m[\u001b[0m\u001b[1;36m0.62\u001b[0m\u001b[1m]\u001b[0m,\n",
       "                \u001b[32m'std'\u001b[0m: \u001b[1;36m0.2\u001b[0m,\n",
       "                \u001b[32m'variance'\u001b[0m: \u001b[1;36m0.04\u001b[0m,\n",
       "                \u001b[32m'range'\u001b[0m: \u001b[1;36m0.98\u001b[0m,\n",
       "                \u001b[32m'min'\u001b[0m: \u001b[1;36m0.02\u001b[0m,\n",
       "                \u001b[32m'max'\u001b[0m: \u001b[1;36m1.0\u001b[0m,\n",
       "                \u001b[32m'count'\u001b[0m: \u001b[1;36m13903\u001b[0m,\n",
       "                \u001b[32m'missing_values'\u001b[0m: \u001b[1;36m0\u001b[0m,\n",
       "                \u001b[32m'missing_pct'\u001b[0m: \u001b[1;36m0.0\u001b[0m,\n",
       "                \u001b[32m'unique_values'\u001b[0m: \u001b[1;36m50\u001b[0m\n",
       "            \u001b[1m}\u001b[0m,\n",
       "            \u001b[1m{\u001b[0m\n",
       "                \u001b[32m'column'\u001b[0m: \u001b[32m'atemp'\u001b[0m,\n",
       "                \u001b[32m'mean'\u001b[0m: \u001b[1;36m0.48\u001b[0m,\n",
       "                \u001b[32m'median'\u001b[0m: \u001b[1;36m0.48\u001b[0m,\n",
       "                \u001b[32m'mode'\u001b[0m: \u001b[1m[\u001b[0m\u001b[1;36m0.6212\u001b[0m\u001b[1m]\u001b[0m,\n",
       "                \u001b[32m'std'\u001b[0m: \u001b[1;36m0.18\u001b[0m,\n",
       "                \u001b[32m'variance'\u001b[0m: \u001b[1;36m0.03\u001b[0m,\n",
       "                \u001b[32m'range'\u001b[0m: \u001b[1;36m1.0\u001b[0m,\n",
       "                \u001b[32m'min'\u001b[0m: \u001b[1;36m0.0\u001b[0m,\n",
       "                \u001b[32m'max'\u001b[0m: \u001b[1;36m1.0\u001b[0m,\n",
       "                \u001b[32m'count'\u001b[0m: \u001b[1;36m13903\u001b[0m,\n",
       "                \u001b[32m'missing_values'\u001b[0m: \u001b[1;36m0\u001b[0m,\n",
       "                \u001b[32m'missing_pct'\u001b[0m: \u001b[1;36m0.0\u001b[0m,\n",
       "                \u001b[32m'unique_values'\u001b[0m: \u001b[1;36m65\u001b[0m\n",
       "            \u001b[1m}\u001b[0m,\n",
       "            \u001b[1m{\u001b[0m\n",
       "                \u001b[32m'column'\u001b[0m: \u001b[32m'hum'\u001b[0m,\n",
       "                \u001b[32m'mean'\u001b[0m: \u001b[1;36m0.62\u001b[0m,\n",
       "                \u001b[32m'median'\u001b[0m: \u001b[1;36m0.62\u001b[0m,\n",
       "                \u001b[32m'mode'\u001b[0m: \u001b[1m[\u001b[0m\u001b[1;36m0.88\u001b[0m\u001b[1m]\u001b[0m,\n",
       "                \u001b[32m'std'\u001b[0m: \u001b[1;36m0.2\u001b[0m,\n",
       "                \u001b[32m'variance'\u001b[0m: \u001b[1;36m0.04\u001b[0m,\n",
       "                \u001b[32m'range'\u001b[0m: \u001b[1;36m1.0\u001b[0m,\n",
       "                \u001b[32m'min'\u001b[0m: \u001b[1;36m0.0\u001b[0m,\n",
       "                \u001b[32m'max'\u001b[0m: \u001b[1;36m1.0\u001b[0m,\n",
       "                \u001b[32m'count'\u001b[0m: \u001b[1;36m13903\u001b[0m,\n",
       "                \u001b[32m'missing_values'\u001b[0m: \u001b[1;36m0\u001b[0m,\n",
       "                \u001b[32m'missing_pct'\u001b[0m: \u001b[1;36m0.0\u001b[0m,\n",
       "                \u001b[32m'unique_values'\u001b[0m: \u001b[1;36m88\u001b[0m\n",
       "            \u001b[1m}\u001b[0m,\n",
       "            \u001b[1m{\u001b[0m\n",
       "                \u001b[32m'column'\u001b[0m: \u001b[32m'windspeed'\u001b[0m,\n",
       "                \u001b[32m'mean'\u001b[0m: \u001b[1;36m0.19\u001b[0m,\n",
       "                \u001b[32m'median'\u001b[0m: \u001b[1;36m0.19\u001b[0m,\n",
       "                \u001b[32m'mode'\u001b[0m: \u001b[1m[\u001b[0m\u001b[1;36m0.0\u001b[0m\u001b[1m]\u001b[0m,\n",
       "                \u001b[32m'std'\u001b[0m: \u001b[1;36m0.12\u001b[0m,\n",
       "                \u001b[32m'variance'\u001b[0m: \u001b[1;36m0.02\u001b[0m,\n",
       "                \u001b[32m'range'\u001b[0m: \u001b[1;36m0.85\u001b[0m,\n",
       "                \u001b[32m'min'\u001b[0m: \u001b[1;36m0.0\u001b[0m,\n",
       "                \u001b[32m'max'\u001b[0m: \u001b[1;36m0.8507\u001b[0m,\n",
       "                \u001b[32m'count'\u001b[0m: \u001b[1;36m13903\u001b[0m,\n",
       "                \u001b[32m'missing_values'\u001b[0m: \u001b[1;36m0\u001b[0m,\n",
       "                \u001b[32m'missing_pct'\u001b[0m: \u001b[1;36m0.0\u001b[0m,\n",
       "                \u001b[32m'unique_values'\u001b[0m: \u001b[1;36m30\u001b[0m\n",
       "            \u001b[1m}\u001b[0m,\n",
       "            \u001b[1m{\u001b[0m\n",
       "                \u001b[32m'column'\u001b[0m: \u001b[32m'casual'\u001b[0m,\n",
       "                \u001b[32m'mean'\u001b[0m: \u001b[1;36m34.04\u001b[0m,\n",
       "                \u001b[32m'median'\u001b[0m: \u001b[1;36m15.0\u001b[0m,\n",
       "                \u001b[32m'mode'\u001b[0m: \u001b[1m[\u001b[0m\u001b[1;36m0\u001b[0m\u001b[1m]\u001b[0m,\n",
       "                \u001b[32m'std'\u001b[0m: \u001b[1;36m47.34\u001b[0m,\n",
       "                \u001b[32m'variance'\u001b[0m: \u001b[1;36m2241.19\u001b[0m,\n",
       "                \u001b[32m'range'\u001b[0m: \u001b[1;36m367\u001b[0m,\n",
       "                \u001b[32m'min'\u001b[0m: \u001b[1;36m0\u001b[0m,\n",
       "                \u001b[32m'max'\u001b[0m: \u001b[1;36m367\u001b[0m,\n",
       "                \u001b[32m'count'\u001b[0m: \u001b[1;36m13903\u001b[0m,\n",
       "                \u001b[32m'missing_values'\u001b[0m: \u001b[1;36m0\u001b[0m,\n",
       "                \u001b[32m'missing_pct'\u001b[0m: \u001b[1;36m0.0\u001b[0m,\n",
       "                \u001b[32m'unique_values'\u001b[0m: \u001b[1;36m303\u001b[0m\n",
       "            \u001b[1m}\u001b[0m,\n",
       "            \u001b[1m{\u001b[0m\n",
       "                \u001b[32m'column'\u001b[0m: \u001b[32m'registered'\u001b[0m,\n",
       "                \u001b[32m'mean'\u001b[0m: \u001b[1;36m140.6\u001b[0m,\n",
       "                \u001b[32m'median'\u001b[0m: \u001b[1;36m107.0\u001b[0m,\n",
       "                \u001b[32m'mode'\u001b[0m: \u001b[1m[\u001b[0m\u001b[1;36m4\u001b[0m\u001b[1m]\u001b[0m,\n",
       "                \u001b[32m'std'\u001b[0m: \u001b[1;36m137.51\u001b[0m,\n",
       "                \u001b[32m'variance'\u001b[0m: \u001b[1;36m18909.65\u001b[0m,\n",
       "                \u001b[32m'range'\u001b[0m: \u001b[1;36m796\u001b[0m,\n",
       "                \u001b[32m'min'\u001b[0m: \u001b[1;36m0\u001b[0m,\n",
       "                \u001b[32m'max'\u001b[0m: \u001b[1;36m796\u001b[0m,\n",
       "                \u001b[32m'count'\u001b[0m: \u001b[1;36m13903\u001b[0m,\n",
       "                \u001b[32m'missing_values'\u001b[0m: \u001b[1;36m0\u001b[0m,\n",
       "                \u001b[32m'missing_pct'\u001b[0m: \u001b[1;36m0.0\u001b[0m,\n",
       "                \u001b[32m'unique_values'\u001b[0m: \u001b[1;36m701\u001b[0m\n",
       "            \u001b[1m}\u001b[0m,\n",
       "            \u001b[1m{\u001b[0m\n",
       "                \u001b[32m'column'\u001b[0m: \u001b[32m'cnt'\u001b[0m,\n",
       "                \u001b[32m'mean'\u001b[0m: \u001b[1;36m174.64\u001b[0m,\n",
       "                \u001b[32m'median'\u001b[0m: \u001b[1;36m130.0\u001b[0m,\n",
       "                \u001b[32m'mode'\u001b[0m: \u001b[1m[\u001b[0m\u001b[1;36m5\u001b[0m\u001b[1m]\u001b[0m,\n",
       "                \u001b[32m'std'\u001b[0m: \u001b[1;36m166.96\u001b[0m,\n",
       "                \u001b[32m'variance'\u001b[0m: \u001b[1;36m27874.11\u001b[0m,\n",
       "                \u001b[32m'range'\u001b[0m: \u001b[1;36m956\u001b[0m,\n",
       "                \u001b[32m'min'\u001b[0m: \u001b[1;36m1\u001b[0m,\n",
       "                \u001b[32m'max'\u001b[0m: \u001b[1;36m957\u001b[0m,\n",
       "                \u001b[32m'count'\u001b[0m: \u001b[1;36m13903\u001b[0m,\n",
       "                \u001b[32m'missing_values'\u001b[0m: \u001b[1;36m0\u001b[0m,\n",
       "                \u001b[32m'missing_pct'\u001b[0m: \u001b[1;36m0.0\u001b[0m,\n",
       "                \u001b[32m'unique_values'\u001b[0m: \u001b[1;36m789\u001b[0m\n",
       "            \u001b[1m}\u001b[0m\n",
       "        \u001b[1m]\u001b[0m,\n",
       "        \u001b[32m'categorical'\u001b[0m: \u001b[1m[\u001b[0m\n",
       "            \u001b[1m{\u001b[0m\n",
       "                \u001b[32m'column'\u001b[0m: \u001b[32m'datetime'\u001b[0m,\n",
       "                \u001b[32m'total_count'\u001b[0m: \u001b[1;36m13903\u001b[0m,\n",
       "                \u001b[32m'unique_values'\u001b[0m: \u001b[1;36m13903\u001b[0m,\n",
       "                \u001b[32m'value_counts'\u001b[0m: \u001b[1m[\u001b[0m\n",
       "                    \u001b[1m[\u001b[0m\u001b[32m'2011-01-01 00:00:00'\u001b[0m, \u001b[1;36m1\u001b[0m\u001b[1m]\u001b[0m,\n",
       "                    \u001b[1m[\u001b[0m\u001b[32m'2011-01-01 01:00:00'\u001b[0m, \u001b[1;36m1\u001b[0m\u001b[1m]\u001b[0m,\n",
       "                    \u001b[1m[\u001b[0m\u001b[32m'2011-01-01 02:00:00'\u001b[0m, \u001b[1;36m1\u001b[0m\u001b[1m]\u001b[0m,\n",
       "                    \u001b[1m[\u001b[0m\u001b[32m'2011-01-01 03:00:00'\u001b[0m, \u001b[1;36m1\u001b[0m\u001b[1m]\u001b[0m,\n",
       "                    \u001b[1m[\u001b[0m\u001b[32m'2011-01-01 04:00:00'\u001b[0m, \u001b[1;36m1\u001b[0m\u001b[1m]\u001b[0m,\n",
       "                    \u001b[1m[\u001b[0m\u001b[32m'2011-01-01 05:00:00'\u001b[0m, \u001b[1;36m1\u001b[0m\u001b[1m]\u001b[0m,\n",
       "                    \u001b[1m[\u001b[0m\u001b[32m'2011-01-01 06:00:00'\u001b[0m, \u001b[1;36m1\u001b[0m\u001b[1m]\u001b[0m,\n",
       "                    \u001b[1m[\u001b[0m\u001b[32m'2011-01-01 07:00:00'\u001b[0m, \u001b[1;36m1\u001b[0m\u001b[1m]\u001b[0m,\n",
       "                    \u001b[1m[\u001b[0m\u001b[32m'2011-01-01 08:00:00'\u001b[0m, \u001b[1;36m1\u001b[0m\u001b[1m]\u001b[0m,\n",
       "                    \u001b[1m[\u001b[0m\u001b[32m'2011-01-01 09:00:00'\u001b[0m, \u001b[1;36m1\u001b[0m\u001b[1m]\u001b[0m\n",
       "                \u001b[1m]\u001b[0m,\n",
       "                \u001b[32m'missing_values'\u001b[0m: \u001b[1;36m0\u001b[0m,\n",
       "                \u001b[32m'missing_pct'\u001b[0m: \u001b[1;36m0.0\u001b[0m\n",
       "            \u001b[1m}\u001b[0m\n",
       "        \u001b[1m]\u001b[0m\n",
       "    \u001b[1m}\u001b[0m,\n",
       "    \u001b[32m'other_info'\u001b[0m: \u001b[1m{\u001b[0m\n",
       "        \u001b[32m'num_unique_numeric_rows'\u001b[0m: \u001b[1m{\u001b[0m\n",
       "            \u001b[32m'season'\u001b[0m: \u001b[1;36m4\u001b[0m,\n",
       "            \u001b[32m'yr'\u001b[0m: \u001b[1;36m2\u001b[0m,\n",
       "            \u001b[32m'mnth'\u001b[0m: \u001b[1;36m12\u001b[0m,\n",
       "            \u001b[32m'hr'\u001b[0m: \u001b[1;36m24\u001b[0m,\n",
       "            \u001b[32m'holiday'\u001b[0m: \u001b[1;36m2\u001b[0m,\n",
       "            \u001b[32m'weekday'\u001b[0m: \u001b[1;36m7\u001b[0m,\n",
       "            \u001b[32m'workingday'\u001b[0m: \u001b[1;36m2\u001b[0m,\n",
       "            \u001b[32m'weathersit'\u001b[0m: \u001b[1;36m4\u001b[0m,\n",
       "            \u001b[32m'temp'\u001b[0m: \u001b[1;36m50\u001b[0m,\n",
       "            \u001b[32m'atemp'\u001b[0m: \u001b[1;36m65\u001b[0m,\n",
       "            \u001b[32m'hum'\u001b[0m: \u001b[1;36m88\u001b[0m,\n",
       "            \u001b[32m'windspeed'\u001b[0m: \u001b[1;36m30\u001b[0m,\n",
       "            \u001b[32m'casual'\u001b[0m: \u001b[1;36m303\u001b[0m,\n",
       "            \u001b[32m'registered'\u001b[0m: \u001b[1;36m701\u001b[0m,\n",
       "            \u001b[32m'cnt'\u001b[0m: \u001b[1;36m789\u001b[0m\n",
       "        \u001b[1m}\u001b[0m,\n",
       "        \u001b[32m'num_unique_string_rows'\u001b[0m: \u001b[1m{\u001b[0m\u001b[32m'datetime'\u001b[0m: \u001b[1;36m13903\u001b[0m\u001b[1m}\u001b[0m,\n",
       "        \u001b[32m'data_nulls'\u001b[0m: \u001b[1m{\u001b[0m\n",
       "            \u001b[32m'datetime'\u001b[0m: \u001b[1;36m0\u001b[0m,\n",
       "            \u001b[32m'season'\u001b[0m: \u001b[1;36m0\u001b[0m,\n",
       "            \u001b[32m'yr'\u001b[0m: \u001b[1;36m0\u001b[0m,\n",
       "            \u001b[32m'mnth'\u001b[0m: \u001b[1;36m0\u001b[0m,\n",
       "            \u001b[32m'hr'\u001b[0m: \u001b[1;36m0\u001b[0m,\n",
       "            \u001b[32m'holiday'\u001b[0m: \u001b[1;36m0\u001b[0m,\n",
       "            \u001b[32m'weekday'\u001b[0m: \u001b[1;36m0\u001b[0m,\n",
       "            \u001b[32m'workingday'\u001b[0m: \u001b[1;36m0\u001b[0m,\n",
       "            \u001b[32m'weathersit'\u001b[0m: \u001b[1;36m0\u001b[0m,\n",
       "            \u001b[32m'temp'\u001b[0m: \u001b[1;36m0\u001b[0m,\n",
       "            \u001b[32m'atemp'\u001b[0m: \u001b[1;36m0\u001b[0m,\n",
       "            \u001b[32m'hum'\u001b[0m: \u001b[1;36m0\u001b[0m,\n",
       "            \u001b[32m'windspeed'\u001b[0m: \u001b[1;36m0\u001b[0m,\n",
       "            \u001b[32m'casual'\u001b[0m: \u001b[1;36m0\u001b[0m,\n",
       "            \u001b[32m'registered'\u001b[0m: \u001b[1;36m0\u001b[0m,\n",
       "            \u001b[32m'cnt'\u001b[0m: \u001b[1;36m0\u001b[0m\n",
       "        \u001b[1m}\u001b[0m,\n",
       "        \u001b[32m'total_nulls'\u001b[0m: \u001b[1;36m0\u001b[0m,\n",
       "        \u001b[32m'num_duplicated_rows'\u001b[0m: \u001b[1;36m0\u001b[0m,\n",
       "        \u001b[32m'memory_usage_MB'\u001b[0m: \u001b[1;36m1.84\u001b[0m,\n",
       "        \u001b[32m'validation_timestamp'\u001b[0m: \u001b[32m'2025-09-27T17:28:49+01:00'\u001b[0m\n",
       "    \u001b[1m}\u001b[0m\n",
       "\u001b[1m}\u001b[0m\n"
      ]
     },
     "metadata": {},
     "output_type": "display_data"
    }
   ],
   "source": [
    "# Validate the data\n",
    "data_report: dict[str, Any] = data_validator(data)\n",
    "console.print(data_report)"
   ]
  },
  {
   "cell_type": "code",
   "execution_count": 7,
   "id": "72eea5119410473aa328ad9291626812",
   "metadata": {},
   "outputs": [
    {
     "data": {
      "text/html": [
       "<div><style>\n",
       ".dataframe > thead > tr,\n",
       ".dataframe > tbody > tr {\n",
       "  text-align: right;\n",
       "  white-space: pre-wrap;\n",
       "}\n",
       "</style>\n",
       "<small>shape: (5, 16)</small><table border=\"1\" class=\"dataframe\"><thead><tr><th>datetime</th><th>season</th><th>yr</th><th>mnth</th><th>hr</th><th>holiday</th><th>weekday</th><th>workingday</th><th>weathersit</th><th>temp</th><th>atemp</th><th>hum</th><th>windspeed</th><th>casual</th><th>registered</th><th>cnt</th></tr><tr><td>str</td><td>i64</td><td>i64</td><td>i64</td><td>i64</td><td>i64</td><td>i64</td><td>i64</td><td>i64</td><td>f64</td><td>f64</td><td>f64</td><td>f64</td><td>i64</td><td>i64</td><td>i64</td></tr></thead><tbody><tr><td>&quot;2011-01-01 00:00:00&quot;</td><td>1</td><td>0</td><td>1</td><td>0</td><td>0</td><td>6</td><td>0</td><td>1</td><td>0.24</td><td>0.2879</td><td>0.81</td><td>0.0</td><td>3</td><td>13</td><td>16</td></tr><tr><td>&quot;2011-01-01 01:00:00&quot;</td><td>1</td><td>0</td><td>1</td><td>1</td><td>0</td><td>6</td><td>0</td><td>1</td><td>0.22</td><td>0.2727</td><td>0.8</td><td>0.0</td><td>8</td><td>32</td><td>40</td></tr><tr><td>&quot;2011-01-01 02:00:00&quot;</td><td>1</td><td>0</td><td>1</td><td>2</td><td>0</td><td>6</td><td>0</td><td>1</td><td>0.22</td><td>0.2727</td><td>0.8</td><td>0.0</td><td>5</td><td>27</td><td>32</td></tr><tr><td>&quot;2011-01-01 03:00:00&quot;</td><td>1</td><td>0</td><td>1</td><td>3</td><td>0</td><td>6</td><td>0</td><td>1</td><td>0.24</td><td>0.2879</td><td>0.75</td><td>0.0</td><td>3</td><td>10</td><td>13</td></tr><tr><td>&quot;2011-01-01 04:00:00&quot;</td><td>1</td><td>0</td><td>1</td><td>4</td><td>0</td><td>6</td><td>0</td><td>1</td><td>0.24</td><td>0.2879</td><td>0.75</td><td>0.0</td><td>0</td><td>1</td><td>1</td></tr></tbody></table></div>"
      ],
      "text/plain": [
       "shape: (5, 16)\n",
       "┌─────┬─────┬─────┬─────┬─────┬─────┬─────┬─────┬─────┬─────┬─────┬─────┬─────┬─────┬────────┬─────┐\n",
       "│ dat ┆ sea ┆ yr  ┆ mnt ┆ hr  ┆ hol ┆ wee ┆ wor ┆ wea ┆ tem ┆ ate ┆ hum ┆ win ┆ cas ┆ regist ┆ cnt │\n",
       "│ eti ┆ son ┆ --- ┆ h   ┆ --- ┆ ida ┆ kda ┆ kin ┆ the ┆ p   ┆ mp  ┆ --- ┆ dsp ┆ ual ┆ ered   ┆ --- │\n",
       "│ me  ┆ --- ┆ i64 ┆ --- ┆ i64 ┆ y   ┆ y   ┆ gda ┆ rsi ┆ --- ┆ --- ┆ f64 ┆ eed ┆ --- ┆ ---    ┆ i64 │\n",
       "│ --- ┆ i64 ┆     ┆ i64 ┆     ┆ --- ┆ --- ┆ y   ┆ t   ┆ f64 ┆ f64 ┆     ┆ --- ┆ i64 ┆ i64    ┆     │\n",
       "│ str ┆     ┆     ┆     ┆     ┆ i64 ┆ i64 ┆ --- ┆ --- ┆     ┆     ┆     ┆ f64 ┆     ┆        ┆     │\n",
       "│     ┆     ┆     ┆     ┆     ┆     ┆     ┆ i64 ┆ i64 ┆     ┆     ┆     ┆     ┆     ┆        ┆     │\n",
       "╞═════╪═════╪═════╪═════╪═════╪═════╪═════╪═════╪═════╪═════╪═════╪═════╪═════╪═════╪════════╪═════╡\n",
       "│ 201 ┆ 1   ┆ 0   ┆ 1   ┆ 0   ┆ 0   ┆ 6   ┆ 0   ┆ 1   ┆ 0.2 ┆ 0.2 ┆ 0.8 ┆ 0.0 ┆ 3   ┆ 13     ┆ 16  │\n",
       "│ 1-0 ┆     ┆     ┆     ┆     ┆     ┆     ┆     ┆     ┆ 4   ┆ 879 ┆ 1   ┆     ┆     ┆        ┆     │\n",
       "│ 1-0 ┆     ┆     ┆     ┆     ┆     ┆     ┆     ┆     ┆     ┆     ┆     ┆     ┆     ┆        ┆     │\n",
       "│ 1   ┆     ┆     ┆     ┆     ┆     ┆     ┆     ┆     ┆     ┆     ┆     ┆     ┆     ┆        ┆     │\n",
       "│ 00: ┆     ┆     ┆     ┆     ┆     ┆     ┆     ┆     ┆     ┆     ┆     ┆     ┆     ┆        ┆     │\n",
       "│ 00: ┆     ┆     ┆     ┆     ┆     ┆     ┆     ┆     ┆     ┆     ┆     ┆     ┆     ┆        ┆     │\n",
       "│ 00  ┆     ┆     ┆     ┆     ┆     ┆     ┆     ┆     ┆     ┆     ┆     ┆     ┆     ┆        ┆     │\n",
       "│ 201 ┆ 1   ┆ 0   ┆ 1   ┆ 1   ┆ 0   ┆ 6   ┆ 0   ┆ 1   ┆ 0.2 ┆ 0.2 ┆ 0.8 ┆ 0.0 ┆ 8   ┆ 32     ┆ 40  │\n",
       "│ 1-0 ┆     ┆     ┆     ┆     ┆     ┆     ┆     ┆     ┆ 2   ┆ 727 ┆     ┆     ┆     ┆        ┆     │\n",
       "│ 1-0 ┆     ┆     ┆     ┆     ┆     ┆     ┆     ┆     ┆     ┆     ┆     ┆     ┆     ┆        ┆     │\n",
       "│ 1   ┆     ┆     ┆     ┆     ┆     ┆     ┆     ┆     ┆     ┆     ┆     ┆     ┆     ┆        ┆     │\n",
       "│ 01: ┆     ┆     ┆     ┆     ┆     ┆     ┆     ┆     ┆     ┆     ┆     ┆     ┆     ┆        ┆     │\n",
       "│ 00: ┆     ┆     ┆     ┆     ┆     ┆     ┆     ┆     ┆     ┆     ┆     ┆     ┆     ┆        ┆     │\n",
       "│ 00  ┆     ┆     ┆     ┆     ┆     ┆     ┆     ┆     ┆     ┆     ┆     ┆     ┆     ┆        ┆     │\n",
       "│ 201 ┆ 1   ┆ 0   ┆ 1   ┆ 2   ┆ 0   ┆ 6   ┆ 0   ┆ 1   ┆ 0.2 ┆ 0.2 ┆ 0.8 ┆ 0.0 ┆ 5   ┆ 27     ┆ 32  │\n",
       "│ 1-0 ┆     ┆     ┆     ┆     ┆     ┆     ┆     ┆     ┆ 2   ┆ 727 ┆     ┆     ┆     ┆        ┆     │\n",
       "│ 1-0 ┆     ┆     ┆     ┆     ┆     ┆     ┆     ┆     ┆     ┆     ┆     ┆     ┆     ┆        ┆     │\n",
       "│ 1   ┆     ┆     ┆     ┆     ┆     ┆     ┆     ┆     ┆     ┆     ┆     ┆     ┆     ┆        ┆     │\n",
       "│ 02: ┆     ┆     ┆     ┆     ┆     ┆     ┆     ┆     ┆     ┆     ┆     ┆     ┆     ┆        ┆     │\n",
       "│ 00: ┆     ┆     ┆     ┆     ┆     ┆     ┆     ┆     ┆     ┆     ┆     ┆     ┆     ┆        ┆     │\n",
       "│ 00  ┆     ┆     ┆     ┆     ┆     ┆     ┆     ┆     ┆     ┆     ┆     ┆     ┆     ┆        ┆     │\n",
       "│ 201 ┆ 1   ┆ 0   ┆ 1   ┆ 3   ┆ 0   ┆ 6   ┆ 0   ┆ 1   ┆ 0.2 ┆ 0.2 ┆ 0.7 ┆ 0.0 ┆ 3   ┆ 10     ┆ 13  │\n",
       "│ 1-0 ┆     ┆     ┆     ┆     ┆     ┆     ┆     ┆     ┆ 4   ┆ 879 ┆ 5   ┆     ┆     ┆        ┆     │\n",
       "│ 1-0 ┆     ┆     ┆     ┆     ┆     ┆     ┆     ┆     ┆     ┆     ┆     ┆     ┆     ┆        ┆     │\n",
       "│ 1   ┆     ┆     ┆     ┆     ┆     ┆     ┆     ┆     ┆     ┆     ┆     ┆     ┆     ┆        ┆     │\n",
       "│ 03: ┆     ┆     ┆     ┆     ┆     ┆     ┆     ┆     ┆     ┆     ┆     ┆     ┆     ┆        ┆     │\n",
       "│ 00: ┆     ┆     ┆     ┆     ┆     ┆     ┆     ┆     ┆     ┆     ┆     ┆     ┆     ┆        ┆     │\n",
       "│ 00  ┆     ┆     ┆     ┆     ┆     ┆     ┆     ┆     ┆     ┆     ┆     ┆     ┆     ┆        ┆     │\n",
       "│ 201 ┆ 1   ┆ 0   ┆ 1   ┆ 4   ┆ 0   ┆ 6   ┆ 0   ┆ 1   ┆ 0.2 ┆ 0.2 ┆ 0.7 ┆ 0.0 ┆ 0   ┆ 1      ┆ 1   │\n",
       "│ 1-0 ┆     ┆     ┆     ┆     ┆     ┆     ┆     ┆     ┆ 4   ┆ 879 ┆ 5   ┆     ┆     ┆        ┆     │\n",
       "│ 1-0 ┆     ┆     ┆     ┆     ┆     ┆     ┆     ┆     ┆     ┆     ┆     ┆     ┆     ┆        ┆     │\n",
       "│ 1   ┆     ┆     ┆     ┆     ┆     ┆     ┆     ┆     ┆     ┆     ┆     ┆     ┆     ┆        ┆     │\n",
       "│ 04: ┆     ┆     ┆     ┆     ┆     ┆     ┆     ┆     ┆     ┆     ┆     ┆     ┆     ┆        ┆     │\n",
       "│ 00: ┆     ┆     ┆     ┆     ┆     ┆     ┆     ┆     ┆     ┆     ┆     ┆     ┆     ┆        ┆     │\n",
       "│ 00  ┆     ┆     ┆     ┆     ┆     ┆     ┆     ┆     ┆     ┆     ┆     ┆     ┆     ┆        ┆     │\n",
       "└─────┴─────┴─────┴─────┴─────┴─────┴─────┴─────┴─────┴─────┴─────┴─────┴─────┴─────┴────────┴─────┘"
      ]
     },
     "execution_count": 7,
     "metadata": {},
     "output_type": "execute_result"
    }
   ],
   "source": [
    "data.head()"
   ]
  },
  {
   "cell_type": "markdown",
   "id": "436b0cf9",
   "metadata": {},
   "source": [
    "### Comment\n",
    "\n",
    "- Drop the columns with high cardinality\n",
    "    - `datetime`\n",
    "\n",
    "- Drop irrelevant columns\n",
    "    - `casual` (used to create the target)\n",
    "    - `registered` (used to create the target)\n",
    "    - `atemp` (highly correlated with `temp`) \n",
    "    - `yr` (not relevant)\n"
   ]
  },
  {
   "cell_type": "code",
   "execution_count": 8,
   "id": "b17c2d49",
   "metadata": {},
   "outputs": [
    {
     "data": {
      "text/html": [
       "<pre style=\"white-space:pre;overflow-x:auto;line-height:normal;font-family:Menlo,'DejaVu Sans Mono',consolas,'Courier New',monospace\">Numeric:\n",
       "<span style=\"font-weight: bold\">{</span><span style=\"color: #008000; text-decoration-color: #008000\">'column'</span>: <span style=\"color: #008000; text-decoration-color: #008000\">'yr'</span>, <span style=\"color: #008000; text-decoration-color: #008000\">'mean'</span>: <span style=\"color: #008080; text-decoration-color: #008080; font-weight: bold\">0.38</span>, <span style=\"color: #008000; text-decoration-color: #008000\">'median'</span>: <span style=\"color: #008080; text-decoration-color: #008080; font-weight: bold\">0.0</span>, <span style=\"color: #008000; text-decoration-color: #008000\">'mode'</span>: <span style=\"font-weight: bold\">[</span><span style=\"color: #008080; text-decoration-color: #008080; font-weight: bold\">0</span><span style=\"font-weight: bold\">]</span>, <span style=\"color: #008000; text-decoration-color: #008000\">'std'</span>: <span style=\"color: #008080; text-decoration-color: #008080; font-weight: bold\">0.48</span>, <span style=\"color: #008000; text-decoration-color: #008000\">'variance'</span>: <span style=\"color: #008080; text-decoration-color: #008080; font-weight: bold\">0.24</span>, <span style=\"color: #008000; text-decoration-color: #008000\">'range'</span>: <span style=\"color: #008080; text-decoration-color: #008080; font-weight: bold\">1</span>, <span style=\"color: #008000; text-decoration-color: #008000\">'min'</span>: <span style=\"color: #008080; text-decoration-color: #008080; font-weight: bold\">0</span>, \n",
       "<span style=\"color: #008000; text-decoration-color: #008000\">'max'</span>: <span style=\"color: #008080; text-decoration-color: #008080; font-weight: bold\">1</span>, <span style=\"color: #008000; text-decoration-color: #008000\">'count'</span>: <span style=\"color: #008080; text-decoration-color: #008080; font-weight: bold\">13903</span>, <span style=\"color: #008000; text-decoration-color: #008000\">'missing_values'</span>: <span style=\"color: #008080; text-decoration-color: #008080; font-weight: bold\">0</span>, <span style=\"color: #008000; text-decoration-color: #008000\">'missing_pct'</span>: <span style=\"color: #008080; text-decoration-color: #008080; font-weight: bold\">0.0</span>, <span style=\"color: #008000; text-decoration-color: #008000\">'unique_values'</span>: <span style=\"color: #008080; text-decoration-color: #008080; font-weight: bold\">2</span><span style=\"font-weight: bold\">}</span>\n",
       "\n",
       "<span style=\"font-weight: bold\">{</span><span style=\"color: #008000; text-decoration-color: #008000\">'column'</span>: <span style=\"color: #008000; text-decoration-color: #008000\">'atemp'</span>, <span style=\"color: #008000; text-decoration-color: #008000\">'mean'</span>: <span style=\"color: #008080; text-decoration-color: #008080; font-weight: bold\">0.48</span>, <span style=\"color: #008000; text-decoration-color: #008000\">'median'</span>: <span style=\"color: #008080; text-decoration-color: #008080; font-weight: bold\">0.48</span>, <span style=\"color: #008000; text-decoration-color: #008000\">'mode'</span>: <span style=\"font-weight: bold\">[</span><span style=\"color: #008080; text-decoration-color: #008080; font-weight: bold\">0.6212</span><span style=\"font-weight: bold\">]</span>, <span style=\"color: #008000; text-decoration-color: #008000\">'std'</span>: <span style=\"color: #008080; text-decoration-color: #008080; font-weight: bold\">0.18</span>, <span style=\"color: #008000; text-decoration-color: #008000\">'variance'</span>: <span style=\"color: #008080; text-decoration-color: #008080; font-weight: bold\">0.03</span>, <span style=\"color: #008000; text-decoration-color: #008000\">'range'</span>: <span style=\"color: #008080; text-decoration-color: #008080; font-weight: bold\">1.0</span>, \n",
       "<span style=\"color: #008000; text-decoration-color: #008000\">'min'</span>: <span style=\"color: #008080; text-decoration-color: #008080; font-weight: bold\">0.0</span>, <span style=\"color: #008000; text-decoration-color: #008000\">'max'</span>: <span style=\"color: #008080; text-decoration-color: #008080; font-weight: bold\">1.0</span>, <span style=\"color: #008000; text-decoration-color: #008000\">'count'</span>: <span style=\"color: #008080; text-decoration-color: #008080; font-weight: bold\">13903</span>, <span style=\"color: #008000; text-decoration-color: #008000\">'missing_values'</span>: <span style=\"color: #008080; text-decoration-color: #008080; font-weight: bold\">0</span>, <span style=\"color: #008000; text-decoration-color: #008000\">'missing_pct'</span>: <span style=\"color: #008080; text-decoration-color: #008080; font-weight: bold\">0.0</span>, <span style=\"color: #008000; text-decoration-color: #008000\">'unique_values'</span>: <span style=\"color: #008080; text-decoration-color: #008080; font-weight: bold\">65</span><span style=\"font-weight: bold\">}</span>\n",
       "\n",
       "<span style=\"font-weight: bold\">{</span><span style=\"color: #008000; text-decoration-color: #008000\">'column'</span>: <span style=\"color: #008000; text-decoration-color: #008000\">'registered'</span>, <span style=\"color: #008000; text-decoration-color: #008000\">'mean'</span>: <span style=\"color: #008080; text-decoration-color: #008080; font-weight: bold\">140.6</span>, <span style=\"color: #008000; text-decoration-color: #008000\">'median'</span>: <span style=\"color: #008080; text-decoration-color: #008080; font-weight: bold\">107.0</span>, <span style=\"color: #008000; text-decoration-color: #008000\">'mode'</span>: <span style=\"font-weight: bold\">[</span><span style=\"color: #008080; text-decoration-color: #008080; font-weight: bold\">4</span><span style=\"font-weight: bold\">]</span>, <span style=\"color: #008000; text-decoration-color: #008000\">'std'</span>: <span style=\"color: #008080; text-decoration-color: #008080; font-weight: bold\">137.51</span>, <span style=\"color: #008000; text-decoration-color: #008000\">'variance'</span>: <span style=\"color: #008080; text-decoration-color: #008080; font-weight: bold\">18909.65</span>, <span style=\"color: #008000; text-decoration-color: #008000\">'range'</span>:\n",
       "<span style=\"color: #008080; text-decoration-color: #008080; font-weight: bold\">796</span>, <span style=\"color: #008000; text-decoration-color: #008000\">'min'</span>: <span style=\"color: #008080; text-decoration-color: #008080; font-weight: bold\">0</span>, <span style=\"color: #008000; text-decoration-color: #008000\">'max'</span>: <span style=\"color: #008080; text-decoration-color: #008080; font-weight: bold\">796</span>, <span style=\"color: #008000; text-decoration-color: #008000\">'count'</span>: <span style=\"color: #008080; text-decoration-color: #008080; font-weight: bold\">13903</span>, <span style=\"color: #008000; text-decoration-color: #008000\">'missing_values'</span>: <span style=\"color: #008080; text-decoration-color: #008080; font-weight: bold\">0</span>, <span style=\"color: #008000; text-decoration-color: #008000\">'missing_pct'</span>: <span style=\"color: #008080; text-decoration-color: #008080; font-weight: bold\">0.0</span>, <span style=\"color: #008000; text-decoration-color: #008000\">'unique_values'</span>: <span style=\"color: #008080; text-decoration-color: #008080; font-weight: bold\">701</span><span style=\"font-weight: bold\">}</span>\n",
       "\n",
       "<span style=\"font-weight: bold\">{</span><span style=\"color: #008000; text-decoration-color: #008000\">'column'</span>: <span style=\"color: #008000; text-decoration-color: #008000\">'cnt'</span>, <span style=\"color: #008000; text-decoration-color: #008000\">'mean'</span>: <span style=\"color: #008080; text-decoration-color: #008080; font-weight: bold\">174.64</span>, <span style=\"color: #008000; text-decoration-color: #008000\">'median'</span>: <span style=\"color: #008080; text-decoration-color: #008080; font-weight: bold\">130.0</span>, <span style=\"color: #008000; text-decoration-color: #008000\">'mode'</span>: <span style=\"font-weight: bold\">[</span><span style=\"color: #008080; text-decoration-color: #008080; font-weight: bold\">5</span><span style=\"font-weight: bold\">]</span>, <span style=\"color: #008000; text-decoration-color: #008000\">'std'</span>: <span style=\"color: #008080; text-decoration-color: #008080; font-weight: bold\">166.96</span>, <span style=\"color: #008000; text-decoration-color: #008000\">'variance'</span>: <span style=\"color: #008080; text-decoration-color: #008080; font-weight: bold\">27874.11</span>, <span style=\"color: #008000; text-decoration-color: #008000\">'range'</span>: <span style=\"color: #008080; text-decoration-color: #008080; font-weight: bold\">956</span>, \n",
       "<span style=\"color: #008000; text-decoration-color: #008000\">'min'</span>: <span style=\"color: #008080; text-decoration-color: #008080; font-weight: bold\">1</span>, <span style=\"color: #008000; text-decoration-color: #008000\">'max'</span>: <span style=\"color: #008080; text-decoration-color: #008080; font-weight: bold\">957</span>, <span style=\"color: #008000; text-decoration-color: #008000\">'count'</span>: <span style=\"color: #008080; text-decoration-color: #008080; font-weight: bold\">13903</span>, <span style=\"color: #008000; text-decoration-color: #008000\">'missing_values'</span>: <span style=\"color: #008080; text-decoration-color: #008080; font-weight: bold\">0</span>, <span style=\"color: #008000; text-decoration-color: #008000\">'missing_pct'</span>: <span style=\"color: #008080; text-decoration-color: #008080; font-weight: bold\">0.0</span>, <span style=\"color: #008000; text-decoration-color: #008000\">'unique_values'</span>: <span style=\"color: #008080; text-decoration-color: #008080; font-weight: bold\">789</span><span style=\"font-weight: bold\">}</span>\n",
       "\n",
       "Categorical: \n",
       "<span style=\"font-weight: bold\">{</span><span style=\"color: #008000; text-decoration-color: #008000\">'column'</span>: <span style=\"color: #008000; text-decoration-color: #008000\">'datetime'</span>, <span style=\"color: #008000; text-decoration-color: #008000\">'total_count'</span>: <span style=\"color: #008080; text-decoration-color: #008080; font-weight: bold\">13903</span>, <span style=\"color: #008000; text-decoration-color: #008000\">'unique_values'</span>: <span style=\"color: #008080; text-decoration-color: #008080; font-weight: bold\">13903</span>, <span style=\"color: #008000; text-decoration-color: #008000\">'value_counts'</span>: <span style=\"font-weight: bold\">[[</span><span style=\"color: #008000; text-decoration-color: #008000\">'2011-01-01 00:00:00'</span>, <span style=\"color: #008080; text-decoration-color: #008080; font-weight: bold\">1</span><span style=\"font-weight: bold\">]</span>, \n",
       "<span style=\"font-weight: bold\">[</span><span style=\"color: #008000; text-decoration-color: #008000\">'2011-01-01 01:00:00'</span>, <span style=\"color: #008080; text-decoration-color: #008080; font-weight: bold\">1</span><span style=\"font-weight: bold\">]</span>, <span style=\"font-weight: bold\">[</span><span style=\"color: #008000; text-decoration-color: #008000\">'2011-01-01 02:00:00'</span>, <span style=\"color: #008080; text-decoration-color: #008080; font-weight: bold\">1</span><span style=\"font-weight: bold\">]</span>, <span style=\"font-weight: bold\">[</span><span style=\"color: #008000; text-decoration-color: #008000\">'2011-01-01 03:00:00'</span>, <span style=\"color: #008080; text-decoration-color: #008080; font-weight: bold\">1</span><span style=\"font-weight: bold\">]</span>, <span style=\"font-weight: bold\">[</span><span style=\"color: #008000; text-decoration-color: #008000\">'2011-01-01 04:00:00'</span>, <span style=\"color: #008080; text-decoration-color: #008080; font-weight: bold\">1</span><span style=\"font-weight: bold\">]</span>, \n",
       "<span style=\"font-weight: bold\">[</span><span style=\"color: #008000; text-decoration-color: #008000\">'2011-01-01 05:00:00'</span>, <span style=\"color: #008080; text-decoration-color: #008080; font-weight: bold\">1</span><span style=\"font-weight: bold\">]</span>, <span style=\"font-weight: bold\">[</span><span style=\"color: #008000; text-decoration-color: #008000\">'2011-01-01 06:00:00'</span>, <span style=\"color: #008080; text-decoration-color: #008080; font-weight: bold\">1</span><span style=\"font-weight: bold\">]</span>, <span style=\"font-weight: bold\">[</span><span style=\"color: #008000; text-decoration-color: #008000\">'2011-01-01 07:00:00'</span>, <span style=\"color: #008080; text-decoration-color: #008080; font-weight: bold\">1</span><span style=\"font-weight: bold\">]</span>, <span style=\"font-weight: bold\">[</span><span style=\"color: #008000; text-decoration-color: #008000\">'2011-01-01 08:00:00'</span>, <span style=\"color: #008080; text-decoration-color: #008080; font-weight: bold\">1</span><span style=\"font-weight: bold\">]</span>, \n",
       "<span style=\"font-weight: bold\">[</span><span style=\"color: #008000; text-decoration-color: #008000\">'2011-01-01 09:00:00'</span>, <span style=\"color: #008080; text-decoration-color: #008080; font-weight: bold\">1</span><span style=\"font-weight: bold\">]]</span>, <span style=\"color: #008000; text-decoration-color: #008000\">'missing_values'</span>: <span style=\"color: #008080; text-decoration-color: #008080; font-weight: bold\">0</span>, <span style=\"color: #008000; text-decoration-color: #008000\">'missing_pct'</span>: <span style=\"color: #008080; text-decoration-color: #008080; font-weight: bold\">0.0</span><span style=\"font-weight: bold\">}</span>\n",
       "</pre>\n"
      ],
      "text/plain": [
       "Numeric:\n",
       "\u001b[1m{\u001b[0m\u001b[32m'column'\u001b[0m: \u001b[32m'yr'\u001b[0m, \u001b[32m'mean'\u001b[0m: \u001b[1;36m0.38\u001b[0m, \u001b[32m'median'\u001b[0m: \u001b[1;36m0.0\u001b[0m, \u001b[32m'mode'\u001b[0m: \u001b[1m[\u001b[0m\u001b[1;36m0\u001b[0m\u001b[1m]\u001b[0m, \u001b[32m'std'\u001b[0m: \u001b[1;36m0.48\u001b[0m, \u001b[32m'variance'\u001b[0m: \u001b[1;36m0.24\u001b[0m, \u001b[32m'range'\u001b[0m: \u001b[1;36m1\u001b[0m, \u001b[32m'min'\u001b[0m: \u001b[1;36m0\u001b[0m, \n",
       "\u001b[32m'max'\u001b[0m: \u001b[1;36m1\u001b[0m, \u001b[32m'count'\u001b[0m: \u001b[1;36m13903\u001b[0m, \u001b[32m'missing_values'\u001b[0m: \u001b[1;36m0\u001b[0m, \u001b[32m'missing_pct'\u001b[0m: \u001b[1;36m0.0\u001b[0m, \u001b[32m'unique_values'\u001b[0m: \u001b[1;36m2\u001b[0m\u001b[1m}\u001b[0m\n",
       "\n",
       "\u001b[1m{\u001b[0m\u001b[32m'column'\u001b[0m: \u001b[32m'atemp'\u001b[0m, \u001b[32m'mean'\u001b[0m: \u001b[1;36m0.48\u001b[0m, \u001b[32m'median'\u001b[0m: \u001b[1;36m0.48\u001b[0m, \u001b[32m'mode'\u001b[0m: \u001b[1m[\u001b[0m\u001b[1;36m0.6212\u001b[0m\u001b[1m]\u001b[0m, \u001b[32m'std'\u001b[0m: \u001b[1;36m0.18\u001b[0m, \u001b[32m'variance'\u001b[0m: \u001b[1;36m0.03\u001b[0m, \u001b[32m'range'\u001b[0m: \u001b[1;36m1.0\u001b[0m, \n",
       "\u001b[32m'min'\u001b[0m: \u001b[1;36m0.0\u001b[0m, \u001b[32m'max'\u001b[0m: \u001b[1;36m1.0\u001b[0m, \u001b[32m'count'\u001b[0m: \u001b[1;36m13903\u001b[0m, \u001b[32m'missing_values'\u001b[0m: \u001b[1;36m0\u001b[0m, \u001b[32m'missing_pct'\u001b[0m: \u001b[1;36m0.0\u001b[0m, \u001b[32m'unique_values'\u001b[0m: \u001b[1;36m65\u001b[0m\u001b[1m}\u001b[0m\n",
       "\n",
       "\u001b[1m{\u001b[0m\u001b[32m'column'\u001b[0m: \u001b[32m'registered'\u001b[0m, \u001b[32m'mean'\u001b[0m: \u001b[1;36m140.6\u001b[0m, \u001b[32m'median'\u001b[0m: \u001b[1;36m107.0\u001b[0m, \u001b[32m'mode'\u001b[0m: \u001b[1m[\u001b[0m\u001b[1;36m4\u001b[0m\u001b[1m]\u001b[0m, \u001b[32m'std'\u001b[0m: \u001b[1;36m137.51\u001b[0m, \u001b[32m'variance'\u001b[0m: \u001b[1;36m18909.65\u001b[0m, \u001b[32m'range'\u001b[0m:\n",
       "\u001b[1;36m796\u001b[0m, \u001b[32m'min'\u001b[0m: \u001b[1;36m0\u001b[0m, \u001b[32m'max'\u001b[0m: \u001b[1;36m796\u001b[0m, \u001b[32m'count'\u001b[0m: \u001b[1;36m13903\u001b[0m, \u001b[32m'missing_values'\u001b[0m: \u001b[1;36m0\u001b[0m, \u001b[32m'missing_pct'\u001b[0m: \u001b[1;36m0.0\u001b[0m, \u001b[32m'unique_values'\u001b[0m: \u001b[1;36m701\u001b[0m\u001b[1m}\u001b[0m\n",
       "\n",
       "\u001b[1m{\u001b[0m\u001b[32m'column'\u001b[0m: \u001b[32m'cnt'\u001b[0m, \u001b[32m'mean'\u001b[0m: \u001b[1;36m174.64\u001b[0m, \u001b[32m'median'\u001b[0m: \u001b[1;36m130.0\u001b[0m, \u001b[32m'mode'\u001b[0m: \u001b[1m[\u001b[0m\u001b[1;36m5\u001b[0m\u001b[1m]\u001b[0m, \u001b[32m'std'\u001b[0m: \u001b[1;36m166.96\u001b[0m, \u001b[32m'variance'\u001b[0m: \u001b[1;36m27874.11\u001b[0m, \u001b[32m'range'\u001b[0m: \u001b[1;36m956\u001b[0m, \n",
       "\u001b[32m'min'\u001b[0m: \u001b[1;36m1\u001b[0m, \u001b[32m'max'\u001b[0m: \u001b[1;36m957\u001b[0m, \u001b[32m'count'\u001b[0m: \u001b[1;36m13903\u001b[0m, \u001b[32m'missing_values'\u001b[0m: \u001b[1;36m0\u001b[0m, \u001b[32m'missing_pct'\u001b[0m: \u001b[1;36m0.0\u001b[0m, \u001b[32m'unique_values'\u001b[0m: \u001b[1;36m789\u001b[0m\u001b[1m}\u001b[0m\n",
       "\n",
       "Categorical: \n",
       "\u001b[1m{\u001b[0m\u001b[32m'column'\u001b[0m: \u001b[32m'datetime'\u001b[0m, \u001b[32m'total_count'\u001b[0m: \u001b[1;36m13903\u001b[0m, \u001b[32m'unique_values'\u001b[0m: \u001b[1;36m13903\u001b[0m, \u001b[32m'value_counts'\u001b[0m: \u001b[1m[\u001b[0m\u001b[1m[\u001b[0m\u001b[32m'2011-01-01 00:00:00'\u001b[0m, \u001b[1;36m1\u001b[0m\u001b[1m]\u001b[0m, \n",
       "\u001b[1m[\u001b[0m\u001b[32m'2011-01-01 01:00:00'\u001b[0m, \u001b[1;36m1\u001b[0m\u001b[1m]\u001b[0m, \u001b[1m[\u001b[0m\u001b[32m'2011-01-01 02:00:00'\u001b[0m, \u001b[1;36m1\u001b[0m\u001b[1m]\u001b[0m, \u001b[1m[\u001b[0m\u001b[32m'2011-01-01 03:00:00'\u001b[0m, \u001b[1;36m1\u001b[0m\u001b[1m]\u001b[0m, \u001b[1m[\u001b[0m\u001b[32m'2011-01-01 04:00:00'\u001b[0m, \u001b[1;36m1\u001b[0m\u001b[1m]\u001b[0m, \n",
       "\u001b[1m[\u001b[0m\u001b[32m'2011-01-01 05:00:00'\u001b[0m, \u001b[1;36m1\u001b[0m\u001b[1m]\u001b[0m, \u001b[1m[\u001b[0m\u001b[32m'2011-01-01 06:00:00'\u001b[0m, \u001b[1;36m1\u001b[0m\u001b[1m]\u001b[0m, \u001b[1m[\u001b[0m\u001b[32m'2011-01-01 07:00:00'\u001b[0m, \u001b[1;36m1\u001b[0m\u001b[1m]\u001b[0m, \u001b[1m[\u001b[0m\u001b[32m'2011-01-01 08:00:00'\u001b[0m, \u001b[1;36m1\u001b[0m\u001b[1m]\u001b[0m, \n",
       "\u001b[1m[\u001b[0m\u001b[32m'2011-01-01 09:00:00'\u001b[0m, \u001b[1;36m1\u001b[0m\u001b[1m]\u001b[0m\u001b[1m]\u001b[0m, \u001b[32m'missing_values'\u001b[0m: \u001b[1;36m0\u001b[0m, \u001b[32m'missing_pct'\u001b[0m: \u001b[1;36m0.0\u001b[0m\u001b[1m}\u001b[0m\n"
      ]
     },
     "metadata": {},
     "output_type": "display_data"
    }
   ],
   "source": [
    "year: dict[str, Any] = data_report.get(\"summary_statistics\").get(\"numeric\")[1]\n",
    "atemp: dict[str, Any] = data_report.get(\"summary_statistics\").get(\"numeric\")[9]\n",
    "casual: dict[str, Any] = data_report.get(\"summary_statistics\").get(\"numeric\")[-2]\n",
    "registered: dict[str, Any] = data_report.get(\"summary_statistics\").get(\"numeric\")[-1]\n",
    "datetime: dict[str, Any] = data_report.get(\"summary_statistics\").get(\"categorical\")[0]\n",
    "\n",
    "console.print(\n",
    "    f\"Numeric:\\n{year}\\n\\n{atemp}\\n\\n{casual}\\n\\n{registered}\\n\\nCategorical: \\n{datetime}\"\n",
    ")"
   ]
  },
  {
   "cell_type": "code",
   "execution_count": 9,
   "id": "8edb47106e1a46a883d545849b8ab81b",
   "metadata": {},
   "outputs": [
    {
     "data": {
      "text/html": [
       "<div><style>\n",
       ".dataframe > thead > tr,\n",
       ".dataframe > tbody > tr {\n",
       "  text-align: right;\n",
       "  white-space: pre-wrap;\n",
       "}\n",
       "</style>\n",
       "<small>shape: (3, 11)</small><table border=\"1\" class=\"dataframe\"><thead><tr><th>season</th><th>mnth</th><th>hr</th><th>holiday</th><th>weekday</th><th>workingday</th><th>weathersit</th><th>temp</th><th>hum</th><th>windspeed</th><th>cnt</th></tr><tr><td>i64</td><td>i64</td><td>i64</td><td>i64</td><td>i64</td><td>i64</td><td>i64</td><td>f64</td><td>f64</td><td>f64</td><td>i64</td></tr></thead><tbody><tr><td>1</td><td>1</td><td>0</td><td>0</td><td>6</td><td>0</td><td>1</td><td>0.24</td><td>0.81</td><td>0.0</td><td>16</td></tr><tr><td>1</td><td>1</td><td>1</td><td>0</td><td>6</td><td>0</td><td>1</td><td>0.22</td><td>0.8</td><td>0.0</td><td>40</td></tr><tr><td>1</td><td>1</td><td>2</td><td>0</td><td>6</td><td>0</td><td>1</td><td>0.22</td><td>0.8</td><td>0.0</td><td>32</td></tr></tbody></table></div>"
      ],
      "text/plain": [
       "shape: (3, 11)\n",
       "┌────────┬──────┬─────┬─────────┬─────────┬────────────┬───────────┬──────┬──────┬───────────┬─────┐\n",
       "│ season ┆ mnth ┆ hr  ┆ holiday ┆ weekday ┆ workingday ┆ weathersi ┆ temp ┆ hum  ┆ windspeed ┆ cnt │\n",
       "│ ---    ┆ ---  ┆ --- ┆ ---     ┆ ---     ┆ ---        ┆ t         ┆ ---  ┆ ---  ┆ ---       ┆ --- │\n",
       "│ i64    ┆ i64  ┆ i64 ┆ i64     ┆ i64     ┆ i64        ┆ ---       ┆ f64  ┆ f64  ┆ f64       ┆ i64 │\n",
       "│        ┆      ┆     ┆         ┆         ┆            ┆ i64       ┆      ┆      ┆           ┆     │\n",
       "╞════════╪══════╪═════╪═════════╪═════════╪════════════╪═══════════╪══════╪══════╪═══════════╪═════╡\n",
       "│ 1      ┆ 1    ┆ 0   ┆ 0       ┆ 6       ┆ 0          ┆ 1         ┆ 0.24 ┆ 0.81 ┆ 0.0       ┆ 16  │\n",
       "│ 1      ┆ 1    ┆ 1   ┆ 0       ┆ 6       ┆ 0          ┆ 1         ┆ 0.22 ┆ 0.8  ┆ 0.0       ┆ 40  │\n",
       "│ 1      ┆ 1    ┆ 2   ┆ 0       ┆ 6       ┆ 0          ┆ 1         ┆ 0.22 ┆ 0.8  ┆ 0.0       ┆ 32  │\n",
       "└────────┴──────┴─────┴─────────┴─────────┴────────────┴───────────┴──────┴──────┴───────────┴─────┘"
      ]
     },
     "execution_count": 9,
     "metadata": {},
     "output_type": "execute_result"
    }
   ],
   "source": [
    "columns_to_drop: list[str] = [\"yr\", \"atemp\", \"casual\", \"registered\", \"datetime\"]\n",
    "df: pl.DataFrame = data.clone().drop(columns_to_drop)\n",
    "\n",
    "df.head(3)"
   ]
  },
  {
   "cell_type": "code",
   "execution_count": 10,
   "id": "e38d823f",
   "metadata": {},
   "outputs": [
    {
     "data": {
      "text/plain": [
       "((12512, 11), (1391, 11))"
      ]
     },
     "execution_count": 10,
     "metadata": {},
     "output_type": "execute_result"
    }
   ],
   "source": [
    "# Since we want to maintain the temporal order, we'll\n",
    "# use a custom function for splitting the data\n",
    "\n",
    "# it's assumed the data has been sorted in ascending order of time\n",
    "# get the train, val, test ratios\n",
    "# -10% of the training data is used for validation\n",
    "train_size: float = 0.9\n",
    "data_array: np.ndarray = df.to_numpy()\n",
    "train_array: np.ndarray = data_array[: int(train_size * data_array.shape[0])]\n",
    "test_array: np.ndarray = data_array[train_array.shape[0] :]\n",
    "\n",
    "train_array.shape, test_array.shape\n",
    "# convert the ratios to int values and select a slice of the data corresponding to the ratio"
   ]
  },
  {
   "cell_type": "code",
   "execution_count": null,
   "id": "7cfbd853",
   "metadata": {},
   "outputs": [],
   "source": [
    "from sklearn.metrics._regression import mean_absolute_error, root_mean_squared_error\n",
    "\n",
    "\n",
    "def split_temporal_data(\n",
    "    data: pl.DataFrame, test_size: float = 0.2\n",
    ") -> tuple[pl.DataFrame, pl.DataFrame]:\n",
    "    feature_names: list[str] = data.columns\n",
    "    data_array: np.ndarray = data.to_numpy()\n",
    "    train_size: float = int((1 - test_size) * data_array.shape[0])\n",
    "\n",
    "    train_array: np.ndarray = data_array[:train_size]\n",
    "    test_array: np.ndarray = data_array[train_size:]\n",
    "\n",
    "    return pl.DataFrame(train_array, schema=feature_names), pl.DataFrame(\n",
    "        test_array, schema=feature_names\n",
    "    )\n",
    "\n",
    "\n",
    "def compute_metrics(\n",
    "    y_true: np.ndarray | list, y_pred: np.ndarray | list\n",
    ") -> dict[str, float]:\n",
    "    \"\"\"\n",
    "    Compute evaluation metrics between true and predicted values.\n",
    "\n",
    "    Metrics returned:\n",
    "    - MAPE: Mean Absolute Percentage Error (in %)\n",
    "    - MAE: Mean Absolute Error\n",
    "    - RMSE: Root Mean Squared Error\n",
    "\n",
    "    Parameters:\n",
    "    ----------\n",
    "    y_true : array-like\n",
    "        Ground truth values.\n",
    "    y_pred : array-like\n",
    "        Predicted values.\n",
    "\n",
    "    Returns:\n",
    "    -------\n",
    "    dict\n",
    "        Dictionary with keys 'MAPE', 'MAE', and 'RMSE' and their float values.\n",
    "    \"\"\"\n",
    "    mae = mean_absolute_error(y_true, y_pred)\n",
    "    rmse = root_mean_squared_error(y_true, y_pred)\n",
    "\n",
    "    y_true = np.array(y_true)\n",
    "    y_pred = np.array(y_pred)\n",
    "\n",
    "    mape: float = (\n",
    "        np.mean(np.abs((y_true - y_pred) / np.where(y_true == 0, 0.01, y_true))) * 100\n",
    "    ).item()\n",
    "\n",
    "    return {\n",
    "        \"MAE\": round(mae, 2),\n",
    "        \"RMSE\": round(rmse, 2),\n",
    "        \"MAPE\": round(mape, 2),\n",
    "    }"
   ]
  },
  {
   "cell_type": "markdown",
   "id": "f62ae101",
   "metadata": {},
   "source": [
    "### Target Definition\n",
    "\n",
    "- We'll use the next hour `cnt` as the target variable to predict bike rentals.\n",
    "- This is because bike rental services typically operate on an hourly basis, and predicting the next hour's demand can help in resource allocation and planning.\n",
    "- We'll shift the `cnt` column by one hour to create the target variable, ensuring that our model learns to predict future demand based on current and past data.\n",
    "- i.e. `df[\"target\"] = df[\"cnt\"].shift(-1)` if `cnt`=[5, 10, 15, 20] then `target`=[10, 15, 20, NaN]\n",
    "  - i.e. instead of predicting the current hour's demand, we are training the model to predict the demand for the next hour based on the current and past data."
   ]
  },
  {
   "cell_type": "code",
   "execution_count": 12,
   "id": "4b2b4b3b",
   "metadata": {},
   "outputs": [
    {
     "data": {
      "text/html": [
       "<div><style>\n",
       ".dataframe > thead > tr,\n",
       ".dataframe > tbody > tr {\n",
       "  text-align: right;\n",
       "  white-space: pre-wrap;\n",
       "}\n",
       "</style>\n",
       "<small>shape: (3, 12)</small><table border=\"1\" class=\"dataframe\"><thead><tr><th>season</th><th>mnth</th><th>hr</th><th>holiday</th><th>weekday</th><th>workingday</th><th>weathersit</th><th>temp</th><th>hum</th><th>windspeed</th><th>cnt</th><th>target</th></tr><tr><td>i64</td><td>i64</td><td>i64</td><td>i64</td><td>i64</td><td>i64</td><td>i64</td><td>f64</td><td>f64</td><td>f64</td><td>i64</td><td>i64</td></tr></thead><tbody><tr><td>1</td><td>1</td><td>0</td><td>0</td><td>6</td><td>0</td><td>1</td><td>0.24</td><td>0.81</td><td>0.0</td><td>16</td><td>40</td></tr><tr><td>1</td><td>1</td><td>1</td><td>0</td><td>6</td><td>0</td><td>1</td><td>0.22</td><td>0.8</td><td>0.0</td><td>40</td><td>32</td></tr><tr><td>1</td><td>1</td><td>2</td><td>0</td><td>6</td><td>0</td><td>1</td><td>0.22</td><td>0.8</td><td>0.0</td><td>32</td><td>13</td></tr></tbody></table></div>"
      ],
      "text/plain": [
       "shape: (3, 12)\n",
       "┌────────┬──────┬─────┬─────────┬─────────┬─────────┬────────┬──────┬──────┬────────┬─────┬────────┐\n",
       "│ season ┆ mnth ┆ hr  ┆ holiday ┆ weekday ┆ working ┆ weathe ┆ temp ┆ hum  ┆ windsp ┆ cnt ┆ target │\n",
       "│ ---    ┆ ---  ┆ --- ┆ ---     ┆ ---     ┆ day     ┆ rsit   ┆ ---  ┆ ---  ┆ eed    ┆ --- ┆ ---    │\n",
       "│ i64    ┆ i64  ┆ i64 ┆ i64     ┆ i64     ┆ ---     ┆ ---    ┆ f64  ┆ f64  ┆ ---    ┆ i64 ┆ i64    │\n",
       "│        ┆      ┆     ┆         ┆         ┆ i64     ┆ i64    ┆      ┆      ┆ f64    ┆     ┆        │\n",
       "╞════════╪══════╪═════╪═════════╪═════════╪═════════╪════════╪══════╪══════╪════════╪═════╪════════╡\n",
       "│ 1      ┆ 1    ┆ 0   ┆ 0       ┆ 6       ┆ 0       ┆ 1      ┆ 0.24 ┆ 0.81 ┆ 0.0    ┆ 16  ┆ 40     │\n",
       "│ 1      ┆ 1    ┆ 1   ┆ 0       ┆ 6       ┆ 0       ┆ 1      ┆ 0.22 ┆ 0.8  ┆ 0.0    ┆ 40  ┆ 32     │\n",
       "│ 1      ┆ 1    ┆ 2   ┆ 0       ┆ 6       ┆ 0       ┆ 1      ┆ 0.22 ┆ 0.8  ┆ 0.0    ┆ 32  ┆ 13     │\n",
       "└────────┴──────┴─────┴─────────┴─────────┴─────────┴────────┴──────┴──────┴────────┴─────┴────────┘"
      ]
     },
     "execution_count": 12,
     "metadata": {},
     "output_type": "execute_result"
    }
   ],
   "source": [
    "df = df.with_columns(pl.col(\"cnt\").shift(-1).alias(\"target\")).with_columns(\n",
    "    pl.col(\"target\").fill_null(strategy=\"forward\")\n",
    ")\n",
    "\n",
    "df.head(3)"
   ]
  },
  {
   "cell_type": "code",
   "execution_count": 13,
   "id": "50fe93e7",
   "metadata": {},
   "outputs": [
    {
     "data": {
      "text/html": [
       "<div><style>\n",
       ".dataframe > thead > tr,\n",
       ".dataframe > tbody > tr {\n",
       "  text-align: right;\n",
       "  white-space: pre-wrap;\n",
       "}\n",
       "</style>\n",
       "<small>shape: (1, 12)</small><table border=\"1\" class=\"dataframe\"><thead><tr><th>season</th><th>mnth</th><th>hr</th><th>holiday</th><th>weekday</th><th>workingday</th><th>weathersit</th><th>temp</th><th>hum</th><th>windspeed</th><th>cnt</th><th>target</th></tr><tr><td>u32</td><td>u32</td><td>u32</td><td>u32</td><td>u32</td><td>u32</td><td>u32</td><td>u32</td><td>u32</td><td>u32</td><td>u32</td><td>u32</td></tr></thead><tbody><tr><td>0</td><td>0</td><td>0</td><td>0</td><td>0</td><td>0</td><td>0</td><td>0</td><td>0</td><td>0</td><td>0</td><td>0</td></tr></tbody></table></div>"
      ],
      "text/plain": [
       "shape: (1, 12)\n",
       "┌────────┬──────┬─────┬─────────┬─────────┬─────────┬─────────┬──────┬─────┬────────┬─────┬────────┐\n",
       "│ season ┆ mnth ┆ hr  ┆ holiday ┆ weekday ┆ working ┆ weather ┆ temp ┆ hum ┆ windsp ┆ cnt ┆ target │\n",
       "│ ---    ┆ ---  ┆ --- ┆ ---     ┆ ---     ┆ day     ┆ sit     ┆ ---  ┆ --- ┆ eed    ┆ --- ┆ ---    │\n",
       "│ u32    ┆ u32  ┆ u32 ┆ u32     ┆ u32     ┆ ---     ┆ ---     ┆ u32  ┆ u32 ┆ ---    ┆ u32 ┆ u32    │\n",
       "│        ┆      ┆     ┆         ┆         ┆ u32     ┆ u32     ┆      ┆     ┆ u32    ┆     ┆        │\n",
       "╞════════╪══════╪═════╪═════════╪═════════╪═════════╪═════════╪══════╪═════╪════════╪═════╪════════╡\n",
       "│ 0      ┆ 0    ┆ 0   ┆ 0       ┆ 0       ┆ 0       ┆ 0       ┆ 0    ┆ 0   ┆ 0      ┆ 0   ┆ 0      │\n",
       "└────────┴──────┴─────┴─────────┴─────────┴─────────┴─────────┴──────┴─────┴────────┴─────┴────────┘"
      ]
     },
     "execution_count": 13,
     "metadata": {},
     "output_type": "execute_result"
    }
   ],
   "source": [
    "df.null_count()"
   ]
  },
  {
   "cell_type": "code",
   "execution_count": 14,
   "id": "6d9b5b19",
   "metadata": {},
   "outputs": [
    {
     "data": {
      "text/plain": [
       "((11122, 10), (11122,), (2781, 10), (2781,))"
      ]
     },
     "execution_count": 14,
     "metadata": {},
     "output_type": "execute_result"
    }
   ],
   "source": [
    "df = df.drop(\"cnt\")\n",
    "\n",
    "train_df, test_df = split_temporal_data(df)\n",
    "\n",
    "x_train = train_df.drop(\"target\").to_numpy()\n",
    "y_train = train_df[\"target\"].to_numpy()\n",
    "\n",
    "x_test = test_df.drop(\"target\").to_numpy()\n",
    "y_test = test_df[\"target\"].to_numpy()\n",
    "\n",
    "x_train.shape, y_train.shape, x_test.shape, y_test.shape"
   ]
  },
  {
   "cell_type": "code",
   "execution_count": null,
   "id": "f913bcf2",
   "metadata": {},
   "outputs": [],
   "source": []
  },
  {
   "cell_type": "markdown",
   "id": "0ca48ef3",
   "metadata": {},
   "source": [
    "<br>\n",
    "\n",
    "# Baseline Model\n",
    "\n",
    "- Create a simple and basic ML model to be used as reference.\n",
    "- I used a `RandomForestRegressor` because it requires little tuning."
   ]
  },
  {
   "cell_type": "code",
   "execution_count": 15,
   "id": "58dfe155",
   "metadata": {},
   "outputs": [],
   "source": [
    "from sklearn.ensemble import RandomForestRegressor\n",
    "\n",
    "rf_reg = RandomForestRegressor(random_state=123)\n",
    "rf_reg.fit(x_train, y_train)\n",
    "rf_reg.score(x_test, y_test)\n",
    "\n",
    "y_pred = rf_reg.predict(x_test)"
   ]
  },
  {
   "cell_type": "code",
   "execution_count": 20,
   "id": "ce193524",
   "metadata": {},
   "outputs": [
    {
     "data": {
      "text/plain": [
       "{'MAE': 84.78, 'RMSE': 116.41, 'MAPE': 34.11}"
      ]
     },
     "execution_count": 20,
     "metadata": {},
     "output_type": "execute_result"
    }
   ],
   "source": [
    "metrics_base = compute_metrics(y_test, y_pred)\n",
    "metrics_base"
   ]
  },
  {
   "cell_type": "markdown",
   "id": "86d5b998",
   "metadata": {},
   "source": [
    "### Comment\n",
    "\n",
    "- The model tends to underpredict during most of the high-peak periods.\n",
    "- This suggests that the model is underestimating the number of bike rentals."
   ]
  },
  {
   "cell_type": "code",
   "execution_count": 22,
   "id": "757ab72c",
   "metadata": {},
   "outputs": [
    {
     "data": {
      "application/vnd.plotly.v1+json": {
       "config": {
        "plotlyServerURL": "https://plot.ly"
       },
       "data": [
        {
         "line": {
          "color": "blue",
          "width": 2
         },
         "mode": "lines",
         "name": "y_test (Actual)",
         "type": "scatter",
         "x": [
          0,
          1,
          2,
          3,
          4,
          5,
          6,
          7,
          8,
          9,
          10,
          11,
          12,
          13,
          14,
          15,
          16,
          17,
          18,
          19,
          20,
          21,
          22,
          23,
          24,
          25,
          26,
          27,
          28,
          29,
          30,
          31,
          32,
          33,
          34,
          35,
          36,
          37,
          38,
          39,
          40,
          41,
          42,
          43,
          44,
          45,
          46,
          47,
          48,
          49,
          50,
          51,
          52,
          53,
          54,
          55,
          56,
          57,
          58,
          59,
          60,
          61,
          62,
          63,
          64,
          65,
          66,
          67,
          68,
          69,
          70,
          71,
          72,
          73,
          74,
          75,
          76,
          77,
          78,
          79,
          80,
          81,
          82,
          83,
          84,
          85,
          86,
          87,
          88,
          89,
          90,
          91,
          92,
          93,
          94,
          95,
          96,
          97,
          98,
          99,
          100,
          101,
          102,
          103,
          104,
          105,
          106,
          107,
          108,
          109,
          110,
          111,
          112,
          113,
          114,
          115,
          116,
          117,
          118,
          119,
          120,
          121,
          122,
          123,
          124,
          125,
          126,
          127,
          128,
          129,
          130,
          131,
          132,
          133,
          134,
          135,
          136,
          137,
          138,
          139,
          140,
          141,
          142,
          143,
          144,
          145,
          146,
          147,
          148,
          149,
          150,
          151,
          152,
          153,
          154,
          155,
          156,
          157,
          158,
          159,
          160,
          161,
          162,
          163,
          164,
          165,
          166,
          167,
          168,
          169,
          170,
          171,
          172,
          173,
          174,
          175,
          176,
          177,
          178,
          179,
          180,
          181,
          182,
          183,
          184,
          185,
          186,
          187,
          188,
          189,
          190,
          191,
          192,
          193,
          194,
          195,
          196,
          197,
          198,
          199,
          200,
          201,
          202,
          203,
          204,
          205,
          206,
          207,
          208,
          209,
          210,
          211,
          212,
          213,
          214,
          215,
          216,
          217,
          218,
          219,
          220,
          221,
          222,
          223,
          224,
          225,
          226,
          227,
          228,
          229,
          230,
          231,
          232,
          233,
          234,
          235,
          236,
          237,
          238,
          239,
          240,
          241,
          242,
          243,
          244,
          245,
          246,
          247,
          248,
          249,
          250,
          251,
          252,
          253,
          254,
          255,
          256,
          257,
          258,
          259,
          260,
          261,
          262,
          263,
          264,
          265,
          266,
          267,
          268,
          269,
          270,
          271,
          272,
          273,
          274,
          275,
          276,
          277,
          278,
          279,
          280,
          281,
          282,
          283,
          284,
          285,
          286,
          287,
          288,
          289,
          290,
          291,
          292,
          293,
          294,
          295,
          296,
          297,
          298,
          299
         ],
         "y": {
          "bdata": "AAAAAADwfEAAAAAAABCHQAAAAAAA+IRAAAAAAACwekAAAAAAAOBxQAAAAAAAoGdAAAAAAADgakAAAAAAAMBoQAAAAAAAAFhAAAAAAACAUUAAAAAAAABMQAAAAAAAAEBAAAAAAAAALEAAAAAAAAAcQAAAAAAAADVAAAAAAAAAUEAAAAAAAABkQAAAAAAAkHBAAAAAAABgeUAAAAAAAKCBQAAAAAAAMIVAAAAAAAAwhUAAAAAAAKCEQAAAAAAAkIRAAAAAAAAwgkAAAAAAAICBQAAAAAAAEH5AAAAAAACwfEAAAAAAABB0QAAAAAAAgGtAAAAAAACAakAAAAAAAIBoQAAAAAAAAF9AAAAAAACAWkAAAAAAAIBSQAAAAAAAgEZAAAAAAAAAKEAAAAAAAAAkQAAAAAAAADBAAAAAAAAAR0AAAAAAAEBYQAAAAAAAYG9AAAAAAABQekAAAAAAAICAQAAAAAAA2INAAAAAAABIhUAAAAAAAKCDQAAAAAAASINAAAAAAABAg0AAAAAAAHiDQAAAAAAA8H1AAAAAAACwd0AAAAAAADByQAAAAAAAoGxAAAAAAADAYEAAAAAAAIBWQAAAAAAAgERAAAAAAAAAPEAAAAAAAAAsQAAAAAAAACBAAAAAAAAAGEAAAAAAAABDQAAAAAAAoGBAAAAAAAAweEAAAAAAAKiCQAAAAAAAkHJAAAAAAAAAbEAAAAAAAGBvQAAAAAAA8HBAAAAAAABwcEAAAAAAAAByQAAAAAAAMHFAAAAAAABgdkAAAAAAAECGQAAAAAAAIIVAAAAAAABQgEAAAAAAAHB3QAAAAAAA8HBAAAAAAADAakAAAAAAAEBeQAAAAAAAgEVAAAAAAAAAJkAAAAAAAAAQQAAAAAAAABhAAAAAAAAAIkAAAAAAAAA+QAAAAAAAAGJAAAAAAADQfEAAAAAAAAiFQAAAAAAAAHlAAAAAAAAga0AAAAAAAOBtQAAAAAAAgG5AAAAAAADgbUAAAAAAABBwQAAAAAAAQHNAAAAAAAAgd0AAAAAAAGiIQAAAAAAAOIhAAAAAAADIgEAAAAAAACB5QAAAAAAAkHJAAAAAAABAZEAAAAAAAIBUQAAAAAAAAENAAAAAAAAALEAAAAAAAAAiQAAAAAAAABhAAAAAAAAAHEAAAAAAAABBQAAAAAAAwGBAAAAAAAAgekAAAAAAAACCQAAAAAAAkHBAAAAAAABgYkAAAAAAAMBdQAAAAAAAgFtAAAAAAAAAUEAAAAAAAIBJQAAAAAAAgFhAAAAAAABgbUAAAAAAAIB+QAAAAAAAkH9AAAAAAAAAd0AAAAAAAEBwQAAAAAAAoGdAAAAAAABAZEAAAAAAAIBRQAAAAAAAADlAAAAAAAAAKkAAAAAAAAAYQAAAAAAAABBAAAAAAAAAEEAAAAAAAAA+QAAAAAAAAF5AAAAAAABgeUAAAAAAACiFQAAAAAAA0HJAAAAAAACgZ0AAAAAAAKBsQAAAAAAAgHBAAAAAAADAbUAAAAAAAKBtQAAAAAAAYHBAAAAAAAAweEAAAAAAAGCHQAAAAAAAQIhAAAAAAABQgkAAAAAAAEB5QAAAAAAAsHBAAAAAAAAAb0AAAAAAAABiQAAAAAAAAFBAAAAAAAAAOUAAAAAAAAA1QAAAAAAAACRAAAAAAAAACEAAAAAAAAA5QAAAAAAAQFxAAAAAAABwdkAAAAAAAOCFQAAAAAAAcHZAAAAAAACgbUAAAAAAAMBvQAAAAAAAoHZAAAAAAADQd0AAAAAAAKB4QAAAAAAAcHlAAAAAAAAggkAAAAAAAJiJQAAAAAAA4IRAAAAAAADAfkAAAAAAAFB1QAAAAAAA8HFAAAAAAABAaUAAAAAAAGBnQAAAAAAAwGFAAAAAAAAAVkAAAAAAAEBUQAAAAAAAAD1AAAAAAAAAIkAAAAAAAADwPwAAAAAAAD9AAAAAAAAAU0AAAAAAACBpQAAAAAAAsHRAAAAAAAAgfkAAAAAAAACDQAAAAAAAAIRAAAAAAABIhEAAAAAAAAiDQAAAAAAAoINAAAAAAAD4g0AAAAAAAMCBQAAAAAAAAHpAAAAAAAAAS0AAAAAAAIBDQAAAAAAAgFlAAAAAAACAW0AAAAAAAMBWQAAAAAAAQF1AAAAAAABAUkAAAAAAAABMQAAAAAAAAERAAAAAAAAAHEAAAAAAAAAYQAAAAAAAAChAAAAAAAAAOEAAAAAAAIBJQAAAAAAAwFNAAAAAAAAAUUAAAAAAAEBTQAAAAAAAgE5AAAAAAAAASkAAAAAAAIBKQAAAAAAAAENAAAAAAAAAQkAAAAAAAAA7QAAAAAAAgENAAAAAAACAQUAAAAAAAIBBQAAAAAAAACZAAAAAAAAAKkAAAAAAAAAxQAAAAAAAABhAAAAAAAAAAEAAAAAAAAAQQAAAAAAAAPA/AAAAAAAACEAAAAAAAAAsQAAAAAAAgEZAAAAAAADgaUAAAAAAACB+QAAAAAAAAHFAAAAAAAAAWUAAAAAAAEBZQAAAAAAAIGBAAAAAAADAWkAAAAAAAIBcQAAAAAAAAFxAAAAAAADAWUAAAAAAAABtQAAAAAAAsHdAAAAAAACgckAAAAAAAGBpQAAAAAAAAGNAAAAAAABAVkAAAAAAAIBNQAAAAAAAACpAAAAAAAAAHEAAAAAAAAAIQAAAAAAAAABAAAAAAAAACEAAAAAAAAA2QAAAAAAAAF5AAAAAAABgeEAAAAAAABiDQAAAAAAAQHNAAAAAAABAZEAAAAAAAABnQAAAAAAAAGxAAAAAAAAAbEAAAAAAAABrQAAAAAAAgG1AAAAAAACgdkAAAAAAAJiFQAAAAAAAwINAAAAAAAAgfkAAAAAAANBxQAAAAAAAQGxAAAAAAACgY0AAAAAAAEBSQAAAAAAAAEJAAAAAAAAAOUAAAAAAAAAcQAAAAAAAAAhAAAAAAAAAGEAAAAAAAAA4QAAAAAAAgFpAAAAAAABQeEAAAAAAAHCEQAAAAAAAEHRAAAAAAADAZkAAAAAAAGBrQAAAAAAA0HBAAAAAAACAbEAAAAAAAOBrQAAAAAAAoGxAAAAAAACAd0AAAAAAAOCGQAAAAAAAKIZAAAAAAAD4gEAAAAAAAMB3QAAAAAAA4G1AAAAAAAAAaEAAAAAAAABaQAAAAAAAgEVAAAAAAAAAN0AAAAAAAAAqQAAAAAAAABhA",
          "dtype": "f8"
         }
        },
        {
         "line": {
          "color": "red",
          "width": 2
         },
         "mode": "lines",
         "name": "y_pred (Predicted)",
         "type": "scatter",
         "x": [
          0,
          1,
          2,
          3,
          4,
          5,
          6,
          7,
          8,
          9,
          10,
          11,
          12,
          13,
          14,
          15,
          16,
          17,
          18,
          19,
          20,
          21,
          22,
          23,
          24,
          25,
          26,
          27,
          28,
          29,
          30,
          31,
          32,
          33,
          34,
          35,
          36,
          37,
          38,
          39,
          40,
          41,
          42,
          43,
          44,
          45,
          46,
          47,
          48,
          49,
          50,
          51,
          52,
          53,
          54,
          55,
          56,
          57,
          58,
          59,
          60,
          61,
          62,
          63,
          64,
          65,
          66,
          67,
          68,
          69,
          70,
          71,
          72,
          73,
          74,
          75,
          76,
          77,
          78,
          79,
          80,
          81,
          82,
          83,
          84,
          85,
          86,
          87,
          88,
          89,
          90,
          91,
          92,
          93,
          94,
          95,
          96,
          97,
          98,
          99,
          100,
          101,
          102,
          103,
          104,
          105,
          106,
          107,
          108,
          109,
          110,
          111,
          112,
          113,
          114,
          115,
          116,
          117,
          118,
          119,
          120,
          121,
          122,
          123,
          124,
          125,
          126,
          127,
          128,
          129,
          130,
          131,
          132,
          133,
          134,
          135,
          136,
          137,
          138,
          139,
          140,
          141,
          142,
          143,
          144,
          145,
          146,
          147,
          148,
          149,
          150,
          151,
          152,
          153,
          154,
          155,
          156,
          157,
          158,
          159,
          160,
          161,
          162,
          163,
          164,
          165,
          166,
          167,
          168,
          169,
          170,
          171,
          172,
          173,
          174,
          175,
          176,
          177,
          178,
          179,
          180,
          181,
          182,
          183,
          184,
          185,
          186,
          187,
          188,
          189,
          190,
          191,
          192,
          193,
          194,
          195,
          196,
          197,
          198,
          199,
          200,
          201,
          202,
          203,
          204,
          205,
          206,
          207,
          208,
          209,
          210,
          211,
          212,
          213,
          214,
          215,
          216,
          217,
          218,
          219,
          220,
          221,
          222,
          223,
          224,
          225,
          226,
          227,
          228,
          229,
          230,
          231,
          232,
          233,
          234,
          235,
          236,
          237,
          238,
          239,
          240,
          241,
          242,
          243,
          244,
          245,
          246,
          247,
          248,
          249,
          250,
          251,
          252,
          253,
          254,
          255,
          256,
          257,
          258,
          259,
          260,
          261,
          262,
          263,
          264,
          265,
          266,
          267,
          268,
          269,
          270,
          271,
          272,
          273,
          274,
          275,
          276,
          277,
          278,
          279,
          280,
          281,
          282,
          283,
          284,
          285,
          286,
          287,
          288,
          289,
          290,
          291,
          292,
          293,
          294,
          295,
          296,
          297,
          298,
          299
         ],
         "y": {
          "bdata": "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",
          "dtype": "f8"
         }
        }
       ],
       "layout": {
        "height": 500,
        "hovermode": "x unified",
        "template": {
         "data": {
          "bar": [
           {
            "error_x": {
             "color": "#2a3f5f"
            },
            "error_y": {
             "color": "#2a3f5f"
            },
            "marker": {
             "line": {
              "color": "white",
              "width": 0.5
             },
             "pattern": {
              "fillmode": "overlay",
              "size": 10,
              "solidity": 0.2
             }
            },
            "type": "bar"
           }
          ],
          "barpolar": [
           {
            "marker": {
             "line": {
              "color": "white",
              "width": 0.5
             },
             "pattern": {
              "fillmode": "overlay",
              "size": 10,
              "solidity": 0.2
             }
            },
            "type": "barpolar"
           }
          ],
          "carpet": [
           {
            "aaxis": {
             "endlinecolor": "#2a3f5f",
             "gridcolor": "#C8D4E3",
             "linecolor": "#C8D4E3",
             "minorgridcolor": "#C8D4E3",
             "startlinecolor": "#2a3f5f"
            },
            "baxis": {
             "endlinecolor": "#2a3f5f",
             "gridcolor": "#C8D4E3",
             "linecolor": "#C8D4E3",
             "minorgridcolor": "#C8D4E3",
             "startlinecolor": "#2a3f5f"
            },
            "type": "carpet"
           }
          ],
          "choropleth": [
           {
            "colorbar": {
             "outlinewidth": 0,
             "ticks": ""
            },
            "type": "choropleth"
           }
          ],
          "contour": [
           {
            "colorbar": {
             "outlinewidth": 0,
             "ticks": ""
            },
            "colorscale": [
             [
              0,
              "#0d0887"
             ],
             [
              0.1111111111111111,
              "#46039f"
             ],
             [
              0.2222222222222222,
              "#7201a8"
             ],
             [
              0.3333333333333333,
              "#9c179e"
             ],
             [
              0.4444444444444444,
              "#bd3786"
             ],
             [
              0.5555555555555556,
              "#d8576b"
             ],
             [
              0.6666666666666666,
              "#ed7953"
             ],
             [
              0.7777777777777778,
              "#fb9f3a"
             ],
             [
              0.8888888888888888,
              "#fdca26"
             ],
             [
              1,
              "#f0f921"
             ]
            ],
            "type": "contour"
           }
          ],
          "contourcarpet": [
           {
            "colorbar": {
             "outlinewidth": 0,
             "ticks": ""
            },
            "type": "contourcarpet"
           }
          ],
          "heatmap": [
           {
            "colorbar": {
             "outlinewidth": 0,
             "ticks": ""
            },
            "colorscale": [
             [
              0,
              "#0d0887"
             ],
             [
              0.1111111111111111,
              "#46039f"
             ],
             [
              0.2222222222222222,
              "#7201a8"
             ],
             [
              0.3333333333333333,
              "#9c179e"
             ],
             [
              0.4444444444444444,
              "#bd3786"
             ],
             [
              0.5555555555555556,
              "#d8576b"
             ],
             [
              0.6666666666666666,
              "#ed7953"
             ],
             [
              0.7777777777777778,
              "#fb9f3a"
             ],
             [
              0.8888888888888888,
              "#fdca26"
             ],
             [
              1,
              "#f0f921"
             ]
            ],
            "type": "heatmap"
           }
          ],
          "histogram": [
           {
            "marker": {
             "pattern": {
              "fillmode": "overlay",
              "size": 10,
              "solidity": 0.2
             }
            },
            "type": "histogram"
           }
          ],
          "histogram2d": [
           {
            "colorbar": {
             "outlinewidth": 0,
             "ticks": ""
            },
            "colorscale": [
             [
              0,
              "#0d0887"
             ],
             [
              0.1111111111111111,
              "#46039f"
             ],
             [
              0.2222222222222222,
              "#7201a8"
             ],
             [
              0.3333333333333333,
              "#9c179e"
             ],
             [
              0.4444444444444444,
              "#bd3786"
             ],
             [
              0.5555555555555556,
              "#d8576b"
             ],
             [
              0.6666666666666666,
              "#ed7953"
             ],
             [
              0.7777777777777778,
              "#fb9f3a"
             ],
             [
              0.8888888888888888,
              "#fdca26"
             ],
             [
              1,
              "#f0f921"
             ]
            ],
            "type": "histogram2d"
           }
          ],
          "histogram2dcontour": [
           {
            "colorbar": {
             "outlinewidth": 0,
             "ticks": ""
            },
            "colorscale": [
             [
              0,
              "#0d0887"
             ],
             [
              0.1111111111111111,
              "#46039f"
             ],
             [
              0.2222222222222222,
              "#7201a8"
             ],
             [
              0.3333333333333333,
              "#9c179e"
             ],
             [
              0.4444444444444444,
              "#bd3786"
             ],
             [
              0.5555555555555556,
              "#d8576b"
             ],
             [
              0.6666666666666666,
              "#ed7953"
             ],
             [
              0.7777777777777778,
              "#fb9f3a"
             ],
             [
              0.8888888888888888,
              "#fdca26"
             ],
             [
              1,
              "#f0f921"
             ]
            ],
            "type": "histogram2dcontour"
           }
          ],
          "mesh3d": [
           {
            "colorbar": {
             "outlinewidth": 0,
             "ticks": ""
            },
            "type": "mesh3d"
           }
          ],
          "parcoords": [
           {
            "line": {
             "colorbar": {
              "outlinewidth": 0,
              "ticks": ""
             }
            },
            "type": "parcoords"
           }
          ],
          "pie": [
           {
            "automargin": true,
            "type": "pie"
           }
          ],
          "scatter": [
           {
            "fillpattern": {
             "fillmode": "overlay",
             "size": 10,
             "solidity": 0.2
            },
            "type": "scatter"
           }
          ],
          "scatter3d": [
           {
            "line": {
             "colorbar": {
              "outlinewidth": 0,
              "ticks": ""
             }
            },
            "marker": {
             "colorbar": {
              "outlinewidth": 0,
              "ticks": ""
             }
            },
            "type": "scatter3d"
           }
          ],
          "scattercarpet": [
           {
            "marker": {
             "colorbar": {
              "outlinewidth": 0,
              "ticks": ""
             }
            },
            "type": "scattercarpet"
           }
          ],
          "scattergeo": [
           {
            "marker": {
             "colorbar": {
              "outlinewidth": 0,
              "ticks": ""
             }
            },
            "type": "scattergeo"
           }
          ],
          "scattergl": [
           {
            "marker": {
             "colorbar": {
              "outlinewidth": 0,
              "ticks": ""
             }
            },
            "type": "scattergl"
           }
          ],
          "scattermap": [
           {
            "marker": {
             "colorbar": {
              "outlinewidth": 0,
              "ticks": ""
             }
            },
            "type": "scattermap"
           }
          ],
          "scattermapbox": [
           {
            "marker": {
             "colorbar": {
              "outlinewidth": 0,
              "ticks": ""
             }
            },
            "type": "scattermapbox"
           }
          ],
          "scatterpolar": [
           {
            "marker": {
             "colorbar": {
              "outlinewidth": 0,
              "ticks": ""
             }
            },
            "type": "scatterpolar"
           }
          ],
          "scatterpolargl": [
           {
            "marker": {
             "colorbar": {
              "outlinewidth": 0,
              "ticks": ""
             }
            },
            "type": "scatterpolargl"
           }
          ],
          "scatterternary": [
           {
            "marker": {
             "colorbar": {
              "outlinewidth": 0,
              "ticks": ""
             }
            },
            "type": "scatterternary"
           }
          ],
          "surface": [
           {
            "colorbar": {
             "outlinewidth": 0,
             "ticks": ""
            },
            "colorscale": [
             [
              0,
              "#0d0887"
             ],
             [
              0.1111111111111111,
              "#46039f"
             ],
             [
              0.2222222222222222,
              "#7201a8"
             ],
             [
              0.3333333333333333,
              "#9c179e"
             ],
             [
              0.4444444444444444,
              "#bd3786"
             ],
             [
              0.5555555555555556,
              "#d8576b"
             ],
             [
              0.6666666666666666,
              "#ed7953"
             ],
             [
              0.7777777777777778,
              "#fb9f3a"
             ],
             [
              0.8888888888888888,
              "#fdca26"
             ],
             [
              1,
              "#f0f921"
             ]
            ],
            "type": "surface"
           }
          ],
          "table": [
           {
            "cells": {
             "fill": {
              "color": "#EBF0F8"
             },
             "line": {
              "color": "white"
             }
            },
            "header": {
             "fill": {
              "color": "#C8D4E3"
             },
             "line": {
              "color": "white"
             }
            },
            "type": "table"
           }
          ]
         },
         "layout": {
          "annotationdefaults": {
           "arrowcolor": "#2a3f5f",
           "arrowhead": 0,
           "arrowwidth": 1
          },
          "autotypenumbers": "strict",
          "coloraxis": {
           "colorbar": {
            "outlinewidth": 0,
            "ticks": ""
           }
          },
          "colorscale": {
           "diverging": [
            [
             0,
             "#8e0152"
            ],
            [
             0.1,
             "#c51b7d"
            ],
            [
             0.2,
             "#de77ae"
            ],
            [
             0.3,
             "#f1b6da"
            ],
            [
             0.4,
             "#fde0ef"
            ],
            [
             0.5,
             "#f7f7f7"
            ],
            [
             0.6,
             "#e6f5d0"
            ],
            [
             0.7,
             "#b8e186"
            ],
            [
             0.8,
             "#7fbc41"
            ],
            [
             0.9,
             "#4d9221"
            ],
            [
             1,
             "#276419"
            ]
           ],
           "sequential": [
            [
             0,
             "#0d0887"
            ],
            [
             0.1111111111111111,
             "#46039f"
            ],
            [
             0.2222222222222222,
             "#7201a8"
            ],
            [
             0.3333333333333333,
             "#9c179e"
            ],
            [
             0.4444444444444444,
             "#bd3786"
            ],
            [
             0.5555555555555556,
             "#d8576b"
            ],
            [
             0.6666666666666666,
             "#ed7953"
            ],
            [
             0.7777777777777778,
             "#fb9f3a"
            ],
            [
             0.8888888888888888,
             "#fdca26"
            ],
            [
             1,
             "#f0f921"
            ]
           ],
           "sequentialminus": [
            [
             0,
             "#0d0887"
            ],
            [
             0.1111111111111111,
             "#46039f"
            ],
            [
             0.2222222222222222,
             "#7201a8"
            ],
            [
             0.3333333333333333,
             "#9c179e"
            ],
            [
             0.4444444444444444,
             "#bd3786"
            ],
            [
             0.5555555555555556,
             "#d8576b"
            ],
            [
             0.6666666666666666,
             "#ed7953"
            ],
            [
             0.7777777777777778,
             "#fb9f3a"
            ],
            [
             0.8888888888888888,
             "#fdca26"
            ],
            [
             1,
             "#f0f921"
            ]
           ]
          },
          "colorway": [
           "#636efa",
           "#EF553B",
           "#00cc96",
           "#ab63fa",
           "#FFA15A",
           "#19d3f3",
           "#FF6692",
           "#B6E880",
           "#FF97FF",
           "#FECB52"
          ],
          "font": {
           "color": "#2a3f5f"
          },
          "geo": {
           "bgcolor": "white",
           "lakecolor": "white",
           "landcolor": "white",
           "showlakes": true,
           "showland": true,
           "subunitcolor": "#C8D4E3"
          },
          "hoverlabel": {
           "align": "left"
          },
          "hovermode": "closest",
          "mapbox": {
           "style": "light"
          },
          "paper_bgcolor": "white",
          "plot_bgcolor": "white",
          "polar": {
           "angularaxis": {
            "gridcolor": "#EBF0F8",
            "linecolor": "#EBF0F8",
            "ticks": ""
           },
           "bgcolor": "white",
           "radialaxis": {
            "gridcolor": "#EBF0F8",
            "linecolor": "#EBF0F8",
            "ticks": ""
           }
          },
          "scene": {
           "xaxis": {
            "backgroundcolor": "white",
            "gridcolor": "#DFE8F3",
            "gridwidth": 2,
            "linecolor": "#EBF0F8",
            "showbackground": true,
            "ticks": "",
            "zerolinecolor": "#EBF0F8"
           },
           "yaxis": {
            "backgroundcolor": "white",
            "gridcolor": "#DFE8F3",
            "gridwidth": 2,
            "linecolor": "#EBF0F8",
            "showbackground": true,
            "ticks": "",
            "zerolinecolor": "#EBF0F8"
           },
           "zaxis": {
            "backgroundcolor": "white",
            "gridcolor": "#DFE8F3",
            "gridwidth": 2,
            "linecolor": "#EBF0F8",
            "showbackground": true,
            "ticks": "",
            "zerolinecolor": "#EBF0F8"
           }
          },
          "shapedefaults": {
           "line": {
            "color": "#2a3f5f"
           }
          },
          "ternary": {
           "aaxis": {
            "gridcolor": "#DFE8F3",
            "linecolor": "#A2B1C6",
            "ticks": ""
           },
           "baxis": {
            "gridcolor": "#DFE8F3",
            "linecolor": "#A2B1C6",
            "ticks": ""
           },
           "bgcolor": "white",
           "caxis": {
            "gridcolor": "#DFE8F3",
            "linecolor": "#A2B1C6",
            "ticks": ""
           }
          },
          "title": {
           "x": 0.05
          },
          "xaxis": {
           "automargin": true,
           "gridcolor": "#EBF0F8",
           "linecolor": "#EBF0F8",
           "ticks": "",
           "title": {
            "standoff": 15
           },
           "zerolinecolor": "#EBF0F8",
           "zerolinewidth": 2
          },
          "yaxis": {
           "automargin": true,
           "gridcolor": "#EBF0F8",
           "linecolor": "#EBF0F8",
           "ticks": "",
           "title": {
            "standoff": 15
           },
           "zerolinecolor": "#EBF0F8",
           "zerolinewidth": 2
          }
         }
        },
        "title": {
         "text": "Actual vs Predicted Bike Rental Counts"
        },
        "width": 800,
        "xaxis": {
         "title": {
          "text": "Time Steps"
         }
        },
        "yaxis": {
         "title": {
          "text": "Bike Rental Count"
         }
        }
       }
      }
     },
     "metadata": {},
     "output_type": "display_data"
    }
   ],
   "source": [
    "import plotly.graph_objects as go\n",
    "\n",
    "n: int = 300\n",
    "\n",
    "fig = go.Figure()\n",
    "\n",
    "# Add actual values trace\n",
    "fig.add_trace(\n",
    "    go.Scatter(\n",
    "        x=list(range(n)),\n",
    "        y=y_test[:n],\n",
    "        mode=\"lines\",\n",
    "        name=\"y_test (Actual)\",\n",
    "        line={\"color\": \"blue\", \"width\": 2},\n",
    "    )\n",
    ")\n",
    "\n",
    "# Add predicted values trace\n",
    "fig.add_trace(\n",
    "    go.Scatter(\n",
    "        x=list(range(n)),\n",
    "        y=y_pred[:n],\n",
    "        mode=\"lines\",\n",
    "        name=\"y_pred (Predicted)\",\n",
    "        line={\"color\": \"red\", \"width\": 2},\n",
    "    )\n",
    ")\n",
    "\n",
    "# Update layout for better visualization\n",
    "fig.update_layout(\n",
    "    title=\"Actual vs Predicted Bike Rental Counts\",\n",
    "    xaxis_title=\"Time Steps\",\n",
    "    yaxis_title=\"Bike Rental Count\",\n",
    "    hovermode=\"x unified\",\n",
    "    template=\"plotly_white\",\n",
    "    width=800,\n",
    "    height=500,\n",
    ")\n",
    "\n",
    "# Show the interactive plot\n",
    "fig.show()"
   ]
  },
  {
   "cell_type": "markdown",
   "id": "10185d26023b46108eb7d9f57d49d2b3",
   "metadata": {},
   "source": [
    "### Dummy Model\n",
    "\n",
    "- Let's create a dummy model that predicts the next hour's bike rentals based on exactly the same hour of the previous day."
   ]
  },
  {
   "cell_type": "code",
   "execution_count": 26,
   "id": "b22321e2",
   "metadata": {},
   "outputs": [
    {
     "data": {
      "text/plain": [
       "array([463., 463., 738., ..., 327., 250., 214.], shape=(2781,))"
      ]
     },
     "execution_count": 26,
     "metadata": {},
     "output_type": "execute_result"
    }
   ],
   "source": [
    "y_dummy = pl.Series(y_test).shift(1).fill_null(strategy=\"backward\").to_numpy()\n",
    "y_dummy"
   ]
  },
  {
   "cell_type": "code",
   "execution_count": 27,
   "id": "d469c703",
   "metadata": {},
   "outputs": [
    {
     "data": {
      "text/html": [
       "<pre style=\"white-space:pre;overflow-x:auto;line-height:normal;font-family:Menlo,'DejaVu Sans Mono',consolas,'Courier New',monospace\"><span style=\"color: #00ff00; text-decoration-color: #00ff00\">Metrics </span><span style=\"color: #00ff00; text-decoration-color: #00ff00; font-weight: bold\">(</span><span style=\"color: #00ff00; text-decoration-color: #00ff00\">Base Model</span><span style=\"color: #00ff00; text-decoration-color: #00ff00; font-weight: bold\">)</span><span style=\"color: #00ff00; text-decoration-color: #00ff00\">: </span><span style=\"color: #00ff00; text-decoration-color: #00ff00; font-weight: bold\">{</span><span style=\"color: #008000; text-decoration-color: #008000\">'MAE'</span><span style=\"color: #00ff00; text-decoration-color: #00ff00\">: </span><span style=\"color: #008080; text-decoration-color: #008080; font-weight: bold\">84.78</span><span style=\"color: #00ff00; text-decoration-color: #00ff00\">, </span><span style=\"color: #008000; text-decoration-color: #008000\">'RMSE'</span><span style=\"color: #00ff00; text-decoration-color: #00ff00\">: </span><span style=\"color: #008080; text-decoration-color: #008080; font-weight: bold\">116.41</span><span style=\"color: #00ff00; text-decoration-color: #00ff00\">, </span><span style=\"color: #008000; text-decoration-color: #008000\">'MAPE'</span><span style=\"color: #00ff00; text-decoration-color: #00ff00\">: </span><span style=\"color: #008080; text-decoration-color: #008080; font-weight: bold\">34.11</span><span style=\"color: #00ff00; text-decoration-color: #00ff00; font-weight: bold\">}</span>\n",
       "</pre>\n"
      ],
      "text/plain": [
       "\u001b[38;2;0;255;0mMetrics \u001b[0m\u001b[1;38;2;0;255;0m(\u001b[0m\u001b[38;2;0;255;0mBase Model\u001b[0m\u001b[1;38;2;0;255;0m)\u001b[0m\u001b[38;2;0;255;0m: \u001b[0m\u001b[1;38;2;0;255;0m{\u001b[0m\u001b[32m'MAE'\u001b[0m\u001b[38;2;0;255;0m: \u001b[0m\u001b[1;36m84.78\u001b[0m\u001b[38;2;0;255;0m, \u001b[0m\u001b[32m'RMSE'\u001b[0m\u001b[38;2;0;255;0m: \u001b[0m\u001b[1;36m116.41\u001b[0m\u001b[38;2;0;255;0m, \u001b[0m\u001b[32m'MAPE'\u001b[0m\u001b[38;2;0;255;0m: \u001b[0m\u001b[1;36m34.11\u001b[0m\u001b[1;38;2;0;255;0m}\u001b[0m\n"
      ]
     },
     "metadata": {},
     "output_type": "display_data"
    },
    {
     "data": {
      "text/html": [
       "<pre style=\"white-space:pre;overflow-x:auto;line-height:normal;font-family:Menlo,'DejaVu Sans Mono',consolas,'Courier New',monospace\"><span style=\"color: #00ff00; text-decoration-color: #00ff00\">Metrics </span><span style=\"color: #00ff00; text-decoration-color: #00ff00; font-weight: bold\">(</span><span style=\"color: #00ff00; text-decoration-color: #00ff00\">Dummy Model</span><span style=\"color: #00ff00; text-decoration-color: #00ff00; font-weight: bold\">)</span><span style=\"color: #00ff00; text-decoration-color: #00ff00\">: </span><span style=\"color: #00ff00; text-decoration-color: #00ff00; font-weight: bold\">{</span><span style=\"color: #008000; text-decoration-color: #008000\">'MAE'</span><span style=\"color: #00ff00; text-decoration-color: #00ff00\">: </span><span style=\"color: #008080; text-decoration-color: #008080; font-weight: bold\">87.01</span><span style=\"color: #00ff00; text-decoration-color: #00ff00\">, </span><span style=\"color: #008000; text-decoration-color: #008000\">'RMSE'</span><span style=\"color: #00ff00; text-decoration-color: #00ff00\">: </span><span style=\"color: #008080; text-decoration-color: #008080; font-weight: bold\">128.17</span><span style=\"color: #00ff00; text-decoration-color: #00ff00\">, </span><span style=\"color: #008000; text-decoration-color: #008000\">'MAPE'</span><span style=\"color: #00ff00; text-decoration-color: #00ff00\">: </span><span style=\"color: #008080; text-decoration-color: #008080; font-weight: bold\">55.4</span><span style=\"color: #00ff00; text-decoration-color: #00ff00; font-weight: bold\">}</span>\n",
       "</pre>\n"
      ],
      "text/plain": [
       "\u001b[38;2;0;255;0mMetrics \u001b[0m\u001b[1;38;2;0;255;0m(\u001b[0m\u001b[38;2;0;255;0mDummy Model\u001b[0m\u001b[1;38;2;0;255;0m)\u001b[0m\u001b[38;2;0;255;0m: \u001b[0m\u001b[1;38;2;0;255;0m{\u001b[0m\u001b[32m'MAE'\u001b[0m\u001b[38;2;0;255;0m: \u001b[0m\u001b[1;36m87.01\u001b[0m\u001b[38;2;0;255;0m, \u001b[0m\u001b[32m'RMSE'\u001b[0m\u001b[38;2;0;255;0m: \u001b[0m\u001b[1;36m128.17\u001b[0m\u001b[38;2;0;255;0m, \u001b[0m\u001b[32m'MAPE'\u001b[0m\u001b[38;2;0;255;0m: \u001b[0m\u001b[1;36m55.4\u001b[0m\u001b[1;38;2;0;255;0m}\u001b[0m\n"
      ]
     },
     "metadata": {},
     "output_type": "display_data"
    }
   ],
   "source": [
    "metrics_dummy: dict[str, float] = compute_metrics(y_test, y_dummy)\n",
    "\n",
    "console.print(f\"Metrics (Base Model): {metrics_base}\", style=\"info\")\n",
    "console.print(f\"Metrics (Dummy Model): {metrics_dummy}\", style=\"info\")"
   ]
  },
  {
   "cell_type": "markdown",
   "id": "c204b8b1",
   "metadata": {},
   "source": [
    "### Comment\n",
    "\n",
    "- The baseline model's performance is not a significant improvement over the dummy model. \n",
    "\n",
    "- While the Mean Absolute Percentage Error (`MAPE`) improved notably, the Mean Absolute Error (`MAE`) and other metrics show little change, suggesting that feature engineering is necessary to improve the model."
   ]
  },
  {
   "cell_type": "code",
   "execution_count": 36,
   "id": "fbb52e8e",
   "metadata": {},
   "outputs": [
    {
     "data": {
      "text/html": [
       "<pre style=\"white-space:pre;overflow-x:auto;line-height:normal;font-family:Menlo,'DejaVu Sans Mono',consolas,'Courier New',monospace\"><span style=\"color: #ff4500; text-decoration-color: #ff4500\">MAE Change: </span><span style=\"color: #008080; text-decoration-color: #008080; font-weight: bold\">2.63</span><span style=\"color: #ff4500; text-decoration-color: #ff4500\">%</span>\n",
       "</pre>\n"
      ],
      "text/plain": [
       "\u001b[38;2;255;69;0mMAE Change: \u001b[0m\u001b[1;36m2.63\u001b[0m\u001b[38;2;255;69;0m%\u001b[0m\n"
      ]
     },
     "metadata": {},
     "output_type": "display_data"
    },
    {
     "data": {
      "text/html": [
       "<pre style=\"white-space:pre;overflow-x:auto;line-height:normal;font-family:Menlo,'DejaVu Sans Mono',consolas,'Courier New',monospace\"><span style=\"color: #ff4500; text-decoration-color: #ff4500\">RMSE Change: </span><span style=\"color: #008080; text-decoration-color: #008080; font-weight: bold\">10.10</span><span style=\"color: #ff4500; text-decoration-color: #ff4500\">%</span>\n",
       "</pre>\n"
      ],
      "text/plain": [
       "\u001b[38;2;255;69;0mRMSE Change: \u001b[0m\u001b[1;36m10.10\u001b[0m\u001b[38;2;255;69;0m%\u001b[0m\n"
      ]
     },
     "metadata": {},
     "output_type": "display_data"
    },
    {
     "data": {
      "text/html": [
       "<pre style=\"white-space:pre;overflow-x:auto;line-height:normal;font-family:Menlo,'DejaVu Sans Mono',consolas,'Courier New',monospace\"><span style=\"color: #ff4500; text-decoration-color: #ff4500\">MAPE Change: </span><span style=\"color: #008080; text-decoration-color: #008080; font-weight: bold\">62.42</span><span style=\"color: #ff4500; text-decoration-color: #ff4500\">%</span>\n",
       "</pre>\n"
      ],
      "text/plain": [
       "\u001b[38;2;255;69;0mMAPE Change: \u001b[0m\u001b[1;36m62.42\u001b[0m\u001b[38;2;255;69;0m%\u001b[0m\n"
      ]
     },
     "metadata": {},
     "output_type": "display_data"
    }
   ],
   "source": [
    "def pct_change(old: float, new: float) -> float:\n",
    "    \"\"\"Calculate the percentage change from old to new value.\"\"\"\n",
    "    if old == 0:\n",
    "        return float(\"inf\")  # Avoid division by zero\n",
    "    return (abs(new - old) / old) * 100\n",
    "\n",
    "\n",
    "mae_base, mae_dummy = metrics_base.get(\"MAE\"), metrics_dummy.get(\"MAE\")\n",
    "rmse_base, rmse_dummy = metrics_base.get(\"RMSE\"), metrics_dummy.get(\"RMSE\")\n",
    "mape_base, mape_dummy = metrics_base.get(\"MAPE\"), metrics_dummy.get(\"MAPE\")\n",
    "\n",
    "console.print(\n",
    "    f\"MAE Change: {pct_change(old=mae_base, new=mae_dummy):.2f}%\", style=\"highlight\"\n",
    ")\n",
    "console.print(\n",
    "    f\"RMSE Change: {pct_change(old=rmse_base, new=rmse_dummy):.2f}%\", style=\"highlight\"\n",
    ")\n",
    "console.print(\n",
    "    f\"MAPE Change: {pct_change(old=mape_base, new=mape_dummy):.2f}%\", style=\"highlight\"\n",
    ")"
   ]
  },
  {
   "cell_type": "code",
   "execution_count": null,
   "id": "fe60c14b",
   "metadata": {},
   "outputs": [],
   "source": []
  },
  {
   "cell_type": "markdown",
   "id": "7ee873cb",
   "metadata": {},
   "source": [
    "# Baseline Model With Lagged Target Features\n",
    "\n",
    "- Lagged features are past values of a time series used to capture autocorrelation (i.e. the relationship between a data point and its previous values). \n",
    "\n",
    "- This is based on the idea that the past influences the future.\n",
    "\n",
    "- By including lagged features, the model gains a historical context that helps it identify:\n",
    "\n",
    "  - `Trends`: Long-term upward or downward movements.\n",
    "\n",
    "  - `Seasonality`: Regular, repeating patterns, such as daily or weekly cycles.\n",
    "\n",
    "  - `Temporal dependencies`: How a value at one time step is directly related to its value at a previous time step."
   ]
  },
  {
   "cell_type": "code",
   "execution_count": 70,
   "id": "b4bad795",
   "metadata": {},
   "outputs": [],
   "source": [
    "import narwhals as nw\n",
    "\n",
    "\n",
    "def _calculate_corr(x: list[float] | np.ndarray, y: list[float] | np.ndarray) -> float:\n",
    "    return np.corrcoef(x, y)[0][1].item()\n",
    "\n",
    "\n",
    "def compute_autocorrelation(series: nw.Series, max_lag: int = 24) -> dict[int, float]:\n",
    "    \"\"\"\n",
    "    Compute autocorrelation for a time series using Polars.\n",
    "\n",
    "    Parameters\n",
    "    ----------\n",
    "    series : pl.Series\n",
    "        The time series data.\n",
    "    max_lag : int, default=24\n",
    "        Maximum lag to compute autocorrelation for.\n",
    "\n",
    "    Returns\n",
    "    -------\n",
    "    dict[int, float]\n",
    "        Dictionary mapping lag to autocorrelation value.\n",
    "    \"\"\"\n",
    "    autocorr_values: dict[int, float] = {}\n",
    "\n",
    "    for lag in range(1, max_lag + 1):\n",
    "        try:\n",
    "            # Create a DataFrame with original and lagged series\n",
    "            df_corr: nw.DataFrame = nw.from_native(\n",
    "                pl.DataFrame({\"original\": series, \"lagged\": series.shift(lag)})\n",
    "            ).drop_nulls()\n",
    "\n",
    "            # Compute correlation if we have sufficient data\n",
    "            if df_corr.shape[0] > 1:\n",
    "                correlation = _calculate_corr(df_corr[\"original\"], df_corr[\"lagged\"])\n",
    "                autocorr_values[lag] = correlation\n",
    "            else:\n",
    "                autocorr_values[lag] = None\n",
    "\n",
    "        except Exception as e:\n",
    "            console.print(f\"Error computing lag {lag}: {e}\", style=\"error\")\n",
    "            autocorr_values[lag] = None\n",
    "\n",
    "    return autocorr_values"
   ]
  },
  {
   "cell_type": "code",
   "execution_count": 121,
   "id": "d5e2a4ef",
   "metadata": {},
   "outputs": [
    {
     "data": {
      "text/html": [
       "<pre style=\"white-space:pre;overflow-x:auto;line-height:normal;font-family:Menlo,'DejaVu Sans Mono',consolas,'Courier New',monospace\"><span style=\"color: #00ff00; text-decoration-color: #00ff00\">Lag </span><span style=\"color: #008080; text-decoration-color: #008080; font-weight: bold\">1</span><span style=\"color: #00ff00; text-decoration-color: #00ff00\">: Autocorrelation = </span><span style=\"color: #008080; text-decoration-color: #008080; font-weight: bold\">0.845</span>\n",
       "</pre>\n"
      ],
      "text/plain": [
       "\u001b[38;2;0;255;0mLag \u001b[0m\u001b[1;36m1\u001b[0m\u001b[38;2;0;255;0m: Autocorrelation = \u001b[0m\u001b[1;36m0.845\u001b[0m\n"
      ]
     },
     "metadata": {},
     "output_type": "display_data"
    },
    {
     "data": {
      "text/html": [
       "<pre style=\"white-space:pre;overflow-x:auto;line-height:normal;font-family:Menlo,'DejaVu Sans Mono',consolas,'Courier New',monospace\"><span style=\"color: #00ff00; text-decoration-color: #00ff00\">Lag </span><span style=\"color: #008080; text-decoration-color: #008080; font-weight: bold\">2</span><span style=\"color: #00ff00; text-decoration-color: #00ff00\">: Autocorrelation = </span><span style=\"color: #008080; text-decoration-color: #008080; font-weight: bold\">0.597</span>\n",
       "</pre>\n"
      ],
      "text/plain": [
       "\u001b[38;2;0;255;0mLag \u001b[0m\u001b[1;36m2\u001b[0m\u001b[38;2;0;255;0m: Autocorrelation = \u001b[0m\u001b[1;36m0.597\u001b[0m\n"
      ]
     },
     "metadata": {},
     "output_type": "display_data"
    },
    {
     "data": {
      "text/html": [
       "<pre style=\"white-space:pre;overflow-x:auto;line-height:normal;font-family:Menlo,'DejaVu Sans Mono',consolas,'Courier New',monospace\"><span style=\"color: #00ff00; text-decoration-color: #00ff00\">Lag </span><span style=\"color: #008080; text-decoration-color: #008080; font-weight: bold\">3</span><span style=\"color: #00ff00; text-decoration-color: #00ff00\">: Autocorrelation = </span><span style=\"color: #008080; text-decoration-color: #008080; font-weight: bold\">0.407</span>\n",
       "</pre>\n"
      ],
      "text/plain": [
       "\u001b[38;2;0;255;0mLag \u001b[0m\u001b[1;36m3\u001b[0m\u001b[38;2;0;255;0m: Autocorrelation = \u001b[0m\u001b[1;36m0.407\u001b[0m\n"
      ]
     },
     "metadata": {},
     "output_type": "display_data"
    },
    {
     "data": {
      "text/html": [
       "<pre style=\"white-space:pre;overflow-x:auto;line-height:normal;font-family:Menlo,'DejaVu Sans Mono',consolas,'Courier New',monospace\"><span style=\"color: #00ff00; text-decoration-color: #00ff00\">Lag </span><span style=\"color: #008080; text-decoration-color: #008080; font-weight: bold\">4</span><span style=\"color: #00ff00; text-decoration-color: #00ff00\">: Autocorrelation = </span><span style=\"color: #008080; text-decoration-color: #008080; font-weight: bold\">0.274</span>\n",
       "</pre>\n"
      ],
      "text/plain": [
       "\u001b[38;2;0;255;0mLag \u001b[0m\u001b[1;36m4\u001b[0m\u001b[38;2;0;255;0m: Autocorrelation = \u001b[0m\u001b[1;36m0.274\u001b[0m\n"
      ]
     },
     "metadata": {},
     "output_type": "display_data"
    },
    {
     "data": {
      "text/html": [
       "<pre style=\"white-space:pre;overflow-x:auto;line-height:normal;font-family:Menlo,'DejaVu Sans Mono',consolas,'Courier New',monospace\"><span style=\"color: #00ff00; text-decoration-color: #00ff00\">Lag </span><span style=\"color: #008080; text-decoration-color: #008080; font-weight: bold\">5</span><span style=\"color: #00ff00; text-decoration-color: #00ff00\">: Autocorrelation = </span><span style=\"color: #008080; text-decoration-color: #008080; font-weight: bold\">0.146</span>\n",
       "</pre>\n"
      ],
      "text/plain": [
       "\u001b[38;2;0;255;0mLag \u001b[0m\u001b[1;36m5\u001b[0m\u001b[38;2;0;255;0m: Autocorrelation = \u001b[0m\u001b[1;36m0.146\u001b[0m\n"
      ]
     },
     "metadata": {},
     "output_type": "display_data"
    },
    {
     "data": {
      "text/html": [
       "<pre style=\"white-space:pre;overflow-x:auto;line-height:normal;font-family:Menlo,'DejaVu Sans Mono',consolas,'Courier New',monospace\"><span style=\"color: #00ff00; text-decoration-color: #00ff00\">Lag </span><span style=\"color: #008080; text-decoration-color: #008080; font-weight: bold\">6</span><span style=\"color: #00ff00; text-decoration-color: #00ff00\">: Autocorrelation = </span><span style=\"color: #008080; text-decoration-color: #008080; font-weight: bold\">0.010</span>\n",
       "</pre>\n"
      ],
      "text/plain": [
       "\u001b[38;2;0;255;0mLag \u001b[0m\u001b[1;36m6\u001b[0m\u001b[38;2;0;255;0m: Autocorrelation = \u001b[0m\u001b[1;36m0.010\u001b[0m\n"
      ]
     },
     "metadata": {},
     "output_type": "display_data"
    },
    {
     "data": {
      "text/html": [
       "<pre style=\"white-space:pre;overflow-x:auto;line-height:normal;font-family:Menlo,'DejaVu Sans Mono',consolas,'Courier New',monospace\"><span style=\"color: #00ff00; text-decoration-color: #00ff00\">Lag </span><span style=\"color: #008080; text-decoration-color: #008080; font-weight: bold\">7</span><span style=\"color: #00ff00; text-decoration-color: #00ff00\">: Autocorrelation = </span><span style=\"color: #008080; text-decoration-color: #008080; font-weight: bold\">-0.094</span>\n",
       "</pre>\n"
      ],
      "text/plain": [
       "\u001b[38;2;0;255;0mLag \u001b[0m\u001b[1;36m7\u001b[0m\u001b[38;2;0;255;0m: Autocorrelation = \u001b[0m\u001b[1;36m-0.094\u001b[0m\n"
      ]
     },
     "metadata": {},
     "output_type": "display_data"
    },
    {
     "data": {
      "text/html": [
       "<pre style=\"white-space:pre;overflow-x:auto;line-height:normal;font-family:Menlo,'DejaVu Sans Mono',consolas,'Courier New',monospace\"><span style=\"color: #00ff00; text-decoration-color: #00ff00\">Lag </span><span style=\"color: #008080; text-decoration-color: #008080; font-weight: bold\">8</span><span style=\"color: #00ff00; text-decoration-color: #00ff00\">: Autocorrelation = </span><span style=\"color: #008080; text-decoration-color: #008080; font-weight: bold\">-0.114</span>\n",
       "</pre>\n"
      ],
      "text/plain": [
       "\u001b[38;2;0;255;0mLag \u001b[0m\u001b[1;36m8\u001b[0m\u001b[38;2;0;255;0m: Autocorrelation = \u001b[0m\u001b[1;36m-0.114\u001b[0m\n"
      ]
     },
     "metadata": {},
     "output_type": "display_data"
    },
    {
     "data": {
      "text/html": [
       "<pre style=\"white-space:pre;overflow-x:auto;line-height:normal;font-family:Menlo,'DejaVu Sans Mono',consolas,'Courier New',monospace\"><span style=\"color: #00ff00; text-decoration-color: #00ff00\">Lag </span><span style=\"color: #008080; text-decoration-color: #008080; font-weight: bold\">9</span><span style=\"color: #00ff00; text-decoration-color: #00ff00\">: Autocorrelation = </span><span style=\"color: #008080; text-decoration-color: #008080; font-weight: bold\">-0.058</span>\n",
       "</pre>\n"
      ],
      "text/plain": [
       "\u001b[38;2;0;255;0mLag \u001b[0m\u001b[1;36m9\u001b[0m\u001b[38;2;0;255;0m: Autocorrelation = \u001b[0m\u001b[1;36m-0.058\u001b[0m\n"
      ]
     },
     "metadata": {},
     "output_type": "display_data"
    },
    {
     "data": {
      "text/html": [
       "<pre style=\"white-space:pre;overflow-x:auto;line-height:normal;font-family:Menlo,'DejaVu Sans Mono',consolas,'Courier New',monospace\"><span style=\"color: #00ff00; text-decoration-color: #00ff00\">Lag </span><span style=\"color: #008080; text-decoration-color: #008080; font-weight: bold\">10</span><span style=\"color: #00ff00; text-decoration-color: #00ff00\">: Autocorrelation = </span><span style=\"color: #008080; text-decoration-color: #008080; font-weight: bold\">-0.049</span>\n",
       "</pre>\n"
      ],
      "text/plain": [
       "\u001b[38;2;0;255;0mLag \u001b[0m\u001b[1;36m10\u001b[0m\u001b[38;2;0;255;0m: Autocorrelation = \u001b[0m\u001b[1;36m-0.049\u001b[0m\n"
      ]
     },
     "metadata": {},
     "output_type": "display_data"
    },
    {
     "data": {
      "text/html": [
       "<pre style=\"white-space:pre;overflow-x:auto;line-height:normal;font-family:Menlo,'DejaVu Sans Mono',consolas,'Courier New',monospace\"><span style=\"color: #00ff00; text-decoration-color: #00ff00\">Lag </span><span style=\"color: #008080; text-decoration-color: #008080; font-weight: bold\">11</span><span style=\"color: #00ff00; text-decoration-color: #00ff00\">: Autocorrelation = </span><span style=\"color: #008080; text-decoration-color: #008080; font-weight: bold\">-0.100</span>\n",
       "</pre>\n"
      ],
      "text/plain": [
       "\u001b[38;2;0;255;0mLag \u001b[0m\u001b[1;36m11\u001b[0m\u001b[38;2;0;255;0m: Autocorrelation = \u001b[0m\u001b[1;36m-0.100\u001b[0m\n"
      ]
     },
     "metadata": {},
     "output_type": "display_data"
    },
    {
     "data": {
      "text/html": [
       "<pre style=\"white-space:pre;overflow-x:auto;line-height:normal;font-family:Menlo,'DejaVu Sans Mono',consolas,'Courier New',monospace\"><span style=\"color: #00ff00; text-decoration-color: #00ff00\">Lag </span><span style=\"color: #008080; text-decoration-color: #008080; font-weight: bold\">12</span><span style=\"color: #00ff00; text-decoration-color: #00ff00\">: Autocorrelation = </span><span style=\"color: #008080; text-decoration-color: #008080; font-weight: bold\">-0.131</span>\n",
       "</pre>\n"
      ],
      "text/plain": [
       "\u001b[38;2;0;255;0mLag \u001b[0m\u001b[1;36m12\u001b[0m\u001b[38;2;0;255;0m: Autocorrelation = \u001b[0m\u001b[1;36m-0.131\u001b[0m\n"
      ]
     },
     "metadata": {},
     "output_type": "display_data"
    },
    {
     "data": {
      "text/html": [
       "<pre style=\"white-space:pre;overflow-x:auto;line-height:normal;font-family:Menlo,'DejaVu Sans Mono',consolas,'Courier New',monospace\"><span style=\"color: #00ff00; text-decoration-color: #00ff00\">Lag </span><span style=\"color: #008080; text-decoration-color: #008080; font-weight: bold\">13</span><span style=\"color: #00ff00; text-decoration-color: #00ff00\">: Autocorrelation = </span><span style=\"color: #008080; text-decoration-color: #008080; font-weight: bold\">-0.105</span>\n",
       "</pre>\n"
      ],
      "text/plain": [
       "\u001b[38;2;0;255;0mLag \u001b[0m\u001b[1;36m13\u001b[0m\u001b[38;2;0;255;0m: Autocorrelation = \u001b[0m\u001b[1;36m-0.105\u001b[0m\n"
      ]
     },
     "metadata": {},
     "output_type": "display_data"
    },
    {
     "data": {
      "text/html": [
       "<pre style=\"white-space:pre;overflow-x:auto;line-height:normal;font-family:Menlo,'DejaVu Sans Mono',consolas,'Courier New',monospace\"><span style=\"color: #00ff00; text-decoration-color: #00ff00\">Lag </span><span style=\"color: #008080; text-decoration-color: #008080; font-weight: bold\">14</span><span style=\"color: #00ff00; text-decoration-color: #00ff00\">: Autocorrelation = </span><span style=\"color: #008080; text-decoration-color: #008080; font-weight: bold\">-0.057</span>\n",
       "</pre>\n"
      ],
      "text/plain": [
       "\u001b[38;2;0;255;0mLag \u001b[0m\u001b[1;36m14\u001b[0m\u001b[38;2;0;255;0m: Autocorrelation = \u001b[0m\u001b[1;36m-0.057\u001b[0m\n"
      ]
     },
     "metadata": {},
     "output_type": "display_data"
    },
    {
     "data": {
      "text/html": [
       "<pre style=\"white-space:pre;overflow-x:auto;line-height:normal;font-family:Menlo,'DejaVu Sans Mono',consolas,'Courier New',monospace\"><span style=\"color: #00ff00; text-decoration-color: #00ff00\">Lag </span><span style=\"color: #008080; text-decoration-color: #008080; font-weight: bold\">15</span><span style=\"color: #00ff00; text-decoration-color: #00ff00\">: Autocorrelation = </span><span style=\"color: #008080; text-decoration-color: #008080; font-weight: bold\">-0.058</span>\n",
       "</pre>\n"
      ],
      "text/plain": [
       "\u001b[38;2;0;255;0mLag \u001b[0m\u001b[1;36m15\u001b[0m\u001b[38;2;0;255;0m: Autocorrelation = \u001b[0m\u001b[1;36m-0.058\u001b[0m\n"
      ]
     },
     "metadata": {},
     "output_type": "display_data"
    },
    {
     "data": {
      "text/html": [
       "<pre style=\"white-space:pre;overflow-x:auto;line-height:normal;font-family:Menlo,'DejaVu Sans Mono',consolas,'Courier New',monospace\"><span style=\"color: #00ff00; text-decoration-color: #00ff00\">Lag </span><span style=\"color: #008080; text-decoration-color: #008080; font-weight: bold\">16</span><span style=\"color: #00ff00; text-decoration-color: #00ff00\">: Autocorrelation = </span><span style=\"color: #008080; text-decoration-color: #008080; font-weight: bold\">-0.094</span>\n",
       "</pre>\n"
      ],
      "text/plain": [
       "\u001b[38;2;0;255;0mLag \u001b[0m\u001b[1;36m16\u001b[0m\u001b[38;2;0;255;0m: Autocorrelation = \u001b[0m\u001b[1;36m-0.094\u001b[0m\n"
      ]
     },
     "metadata": {},
     "output_type": "display_data"
    },
    {
     "data": {
      "text/html": [
       "<pre style=\"white-space:pre;overflow-x:auto;line-height:normal;font-family:Menlo,'DejaVu Sans Mono',consolas,'Courier New',monospace\"><span style=\"color: #00ff00; text-decoration-color: #00ff00\">Lag </span><span style=\"color: #008080; text-decoration-color: #008080; font-weight: bold\">17</span><span style=\"color: #00ff00; text-decoration-color: #00ff00\">: Autocorrelation = </span><span style=\"color: #008080; text-decoration-color: #008080; font-weight: bold\">-0.065</span>\n",
       "</pre>\n"
      ],
      "text/plain": [
       "\u001b[38;2;0;255;0mLag \u001b[0m\u001b[1;36m17\u001b[0m\u001b[38;2;0;255;0m: Autocorrelation = \u001b[0m\u001b[1;36m-0.065\u001b[0m\n"
      ]
     },
     "metadata": {},
     "output_type": "display_data"
    },
    {
     "data": {
      "text/html": [
       "<pre style=\"white-space:pre;overflow-x:auto;line-height:normal;font-family:Menlo,'DejaVu Sans Mono',consolas,'Courier New',monospace\"><span style=\"color: #00ff00; text-decoration-color: #00ff00\">Lag </span><span style=\"color: #008080; text-decoration-color: #008080; font-weight: bold\">18</span><span style=\"color: #00ff00; text-decoration-color: #00ff00\">: Autocorrelation = </span><span style=\"color: #008080; text-decoration-color: #008080; font-weight: bold\">0.033</span>\n",
       "</pre>\n"
      ],
      "text/plain": [
       "\u001b[38;2;0;255;0mLag \u001b[0m\u001b[1;36m18\u001b[0m\u001b[38;2;0;255;0m: Autocorrelation = \u001b[0m\u001b[1;36m0.033\u001b[0m\n"
      ]
     },
     "metadata": {},
     "output_type": "display_data"
    },
    {
     "data": {
      "text/html": [
       "<pre style=\"white-space:pre;overflow-x:auto;line-height:normal;font-family:Menlo,'DejaVu Sans Mono',consolas,'Courier New',monospace\"><span style=\"color: #00ff00; text-decoration-color: #00ff00\">Lag </span><span style=\"color: #008080; text-decoration-color: #008080; font-weight: bold\">19</span><span style=\"color: #00ff00; text-decoration-color: #00ff00\">: Autocorrelation = </span><span style=\"color: #008080; text-decoration-color: #008080; font-weight: bold\">0.153</span>\n",
       "</pre>\n"
      ],
      "text/plain": [
       "\u001b[38;2;0;255;0mLag \u001b[0m\u001b[1;36m19\u001b[0m\u001b[38;2;0;255;0m: Autocorrelation = \u001b[0m\u001b[1;36m0.153\u001b[0m\n"
      ]
     },
     "metadata": {},
     "output_type": "display_data"
    },
    {
     "data": {
      "text/html": [
       "<pre style=\"white-space:pre;overflow-x:auto;line-height:normal;font-family:Menlo,'DejaVu Sans Mono',consolas,'Courier New',monospace\"><span style=\"color: #00ff00; text-decoration-color: #00ff00\">Lag </span><span style=\"color: #008080; text-decoration-color: #008080; font-weight: bold\">20</span><span style=\"color: #00ff00; text-decoration-color: #00ff00\">: Autocorrelation = </span><span style=\"color: #008080; text-decoration-color: #008080; font-weight: bold\">0.262</span>\n",
       "</pre>\n"
      ],
      "text/plain": [
       "\u001b[38;2;0;255;0mLag \u001b[0m\u001b[1;36m20\u001b[0m\u001b[38;2;0;255;0m: Autocorrelation = \u001b[0m\u001b[1;36m0.262\u001b[0m\n"
      ]
     },
     "metadata": {},
     "output_type": "display_data"
    },
    {
     "data": {
      "text/html": [
       "<pre style=\"white-space:pre;overflow-x:auto;line-height:normal;font-family:Menlo,'DejaVu Sans Mono',consolas,'Courier New',monospace\"><span style=\"color: #00ff00; text-decoration-color: #00ff00\">Lag </span><span style=\"color: #008080; text-decoration-color: #008080; font-weight: bold\">21</span><span style=\"color: #00ff00; text-decoration-color: #00ff00\">: Autocorrelation = </span><span style=\"color: #008080; text-decoration-color: #008080; font-weight: bold\">0.371</span>\n",
       "</pre>\n"
      ],
      "text/plain": [
       "\u001b[38;2;0;255;0mLag \u001b[0m\u001b[1;36m21\u001b[0m\u001b[38;2;0;255;0m: Autocorrelation = \u001b[0m\u001b[1;36m0.371\u001b[0m\n"
      ]
     },
     "metadata": {},
     "output_type": "display_data"
    },
    {
     "data": {
      "text/html": [
       "<pre style=\"white-space:pre;overflow-x:auto;line-height:normal;font-family:Menlo,'DejaVu Sans Mono',consolas,'Courier New',monospace\"><span style=\"color: #00ff00; text-decoration-color: #00ff00\">Lag </span><span style=\"color: #008080; text-decoration-color: #008080; font-weight: bold\">22</span><span style=\"color: #00ff00; text-decoration-color: #00ff00\">: Autocorrelation = </span><span style=\"color: #008080; text-decoration-color: #008080; font-weight: bold\">0.520</span>\n",
       "</pre>\n"
      ],
      "text/plain": [
       "\u001b[38;2;0;255;0mLag \u001b[0m\u001b[1;36m22\u001b[0m\u001b[38;2;0;255;0m: Autocorrelation = \u001b[0m\u001b[1;36m0.520\u001b[0m\n"
      ]
     },
     "metadata": {},
     "output_type": "display_data"
    },
    {
     "data": {
      "text/html": [
       "<pre style=\"white-space:pre;overflow-x:auto;line-height:normal;font-family:Menlo,'DejaVu Sans Mono',consolas,'Courier New',monospace\"><span style=\"color: #00ff00; text-decoration-color: #00ff00\">Lag </span><span style=\"color: #008080; text-decoration-color: #008080; font-weight: bold\">23</span><span style=\"color: #00ff00; text-decoration-color: #00ff00\">: Autocorrelation = </span><span style=\"color: #008080; text-decoration-color: #008080; font-weight: bold\">0.705</span>\n",
       "</pre>\n"
      ],
      "text/plain": [
       "\u001b[38;2;0;255;0mLag \u001b[0m\u001b[1;36m23\u001b[0m\u001b[38;2;0;255;0m: Autocorrelation = \u001b[0m\u001b[1;36m0.705\u001b[0m\n"
      ]
     },
     "metadata": {},
     "output_type": "display_data"
    },
    {
     "data": {
      "text/html": [
       "<pre style=\"white-space:pre;overflow-x:auto;line-height:normal;font-family:Menlo,'DejaVu Sans Mono',consolas,'Courier New',monospace\"><span style=\"color: #00ff00; text-decoration-color: #00ff00\">Lag </span><span style=\"color: #008080; text-decoration-color: #008080; font-weight: bold\">24</span><span style=\"color: #00ff00; text-decoration-color: #00ff00\">: Autocorrelation = </span><span style=\"color: #008080; text-decoration-color: #008080; font-weight: bold\">0.809</span>\n",
       "</pre>\n"
      ],
      "text/plain": [
       "\u001b[38;2;0;255;0mLag \u001b[0m\u001b[1;36m24\u001b[0m\u001b[38;2;0;255;0m: Autocorrelation = \u001b[0m\u001b[1;36m0.809\u001b[0m\n"
      ]
     },
     "metadata": {},
     "output_type": "display_data"
    }
   ],
   "source": [
    "# Compute autocorrelation of the target variable\n",
    "auto_correlation: dict[int, float] = compute_autocorrelation(\n",
    "    series=df[\"target\"], max_lag=24\n",
    ")\n",
    "for lag, autocorr in auto_correlation.items():\n",
    "    console.print(f\"Lag {lag}: Autocorrelation = {autocorr:.3f}\", style=\"info\")"
   ]
  },
  {
   "cell_type": "markdown",
   "id": "cb51c13a",
   "metadata": {},
   "source": [
    "### Comment\n",
    "\n",
    "- **Strong Hourly Dependency**: The high correlation at Lag 1 (r=0.845) shows that bike rentals are highly dependent on the previous hour's count.\n",
    "\n",
    "- **Clear Daily Seasonality**: The strong correlation at Lag 24 (r=0.809) confirms a predictable daily pattern in bike usage.\n",
    "\n",
    "- **Inverse Peak/Off-Peak Relationship**: The negative correlations between 6 and 18 hours apart indicate that peak and off-peak periods are inversely related.\n",
    "\n",
    "- **Modeling Strategy**: Lagged features (especially 1, 2, 23, and 24 hours) and time-of-day features will be essential for building an effective model."
   ]
  },
  {
   "cell_type": "code",
   "execution_count": 110,
   "id": "f52638a3",
   "metadata": {},
   "outputs": [
    {
     "data": {
      "text/html": [
       "<div><style>\n",
       ".dataframe > thead > tr,\n",
       ".dataframe > tbody > tr {\n",
       "  text-align: right;\n",
       "  white-space: pre-wrap;\n",
       "}\n",
       "</style>\n",
       "<small>shape: (3, 11)</small><table border=\"1\" class=\"dataframe\"><thead><tr><th>season</th><th>mnth</th><th>hr</th><th>holiday</th><th>weekday</th><th>workingday</th><th>weathersit</th><th>temp</th><th>hum</th><th>windspeed</th><th>cnt</th></tr><tr><td>i64</td><td>i64</td><td>i64</td><td>i64</td><td>i64</td><td>i64</td><td>i64</td><td>f64</td><td>f64</td><td>f64</td><td>i64</td></tr></thead><tbody><tr><td>1</td><td>1</td><td>0</td><td>0</td><td>6</td><td>0</td><td>1</td><td>0.24</td><td>0.81</td><td>0.0</td><td>16</td></tr><tr><td>1</td><td>1</td><td>1</td><td>0</td><td>6</td><td>0</td><td>1</td><td>0.22</td><td>0.8</td><td>0.0</td><td>40</td></tr><tr><td>1</td><td>1</td><td>2</td><td>0</td><td>6</td><td>0</td><td>1</td><td>0.22</td><td>0.8</td><td>0.0</td><td>32</td></tr></tbody></table></div>"
      ],
      "text/plain": [
       "shape: (3, 11)\n",
       "┌────────┬──────┬─────┬─────────┬─────────┬────────────┬───────────┬──────┬──────┬───────────┬─────┐\n",
       "│ season ┆ mnth ┆ hr  ┆ holiday ┆ weekday ┆ workingday ┆ weathersi ┆ temp ┆ hum  ┆ windspeed ┆ cnt │\n",
       "│ ---    ┆ ---  ┆ --- ┆ ---     ┆ ---     ┆ ---        ┆ t         ┆ ---  ┆ ---  ┆ ---       ┆ --- │\n",
       "│ i64    ┆ i64  ┆ i64 ┆ i64     ┆ i64     ┆ i64        ┆ ---       ┆ f64  ┆ f64  ┆ f64       ┆ i64 │\n",
       "│        ┆      ┆     ┆         ┆         ┆            ┆ i64       ┆      ┆      ┆           ┆     │\n",
       "╞════════╪══════╪═════╪═════════╪═════════╪════════════╪═══════════╪══════╪══════╪═══════════╪═════╡\n",
       "│ 1      ┆ 1    ┆ 0   ┆ 0       ┆ 6       ┆ 0          ┆ 1         ┆ 0.24 ┆ 0.81 ┆ 0.0       ┆ 16  │\n",
       "│ 1      ┆ 1    ┆ 1   ┆ 0       ┆ 6       ┆ 0          ┆ 1         ┆ 0.22 ┆ 0.8  ┆ 0.0       ┆ 40  │\n",
       "│ 1      ┆ 1    ┆ 2   ┆ 0       ┆ 6       ┆ 0          ┆ 1         ┆ 0.22 ┆ 0.8  ┆ 0.0       ┆ 32  │\n",
       "└────────┴──────┴─────┴─────────┴─────────┴────────────┴───────────┴──────┴──────┴───────────┴─────┘"
      ]
     },
     "execution_count": 110,
     "metadata": {},
     "output_type": "execute_result"
    }
   ],
   "source": [
    "columns_to_drop: list[str] = [\"yr\", \"atemp\", \"casual\", \"registered\", \"datetime\"]\n",
    "df: pl.DataFrame = data.clone().drop(columns_to_drop)\n",
    "\n",
    "df.head(3)"
   ]
  },
  {
   "cell_type": "code",
   "execution_count": 111,
   "id": "55e674f0",
   "metadata": {},
   "outputs": [
    {
     "data": {
      "text/html": [
       "<div><style>\n",
       ".dataframe > thead > tr,\n",
       ".dataframe > tbody > tr {\n",
       "  text-align: right;\n",
       "  white-space: pre-wrap;\n",
       "}\n",
       "</style>\n",
       "<small>shape: (5, 12)</small><table border=\"1\" class=\"dataframe\"><thead><tr><th>season</th><th>mnth</th><th>hr</th><th>holiday</th><th>weekday</th><th>workingday</th><th>weathersit</th><th>temp</th><th>hum</th><th>windspeed</th><th>cnt</th><th>target</th></tr><tr><td>i64</td><td>i64</td><td>i64</td><td>i64</td><td>i64</td><td>i64</td><td>i64</td><td>f64</td><td>f64</td><td>f64</td><td>i64</td><td>i64</td></tr></thead><tbody><tr><td>1</td><td>1</td><td>0</td><td>0</td><td>6</td><td>0</td><td>1</td><td>0.24</td><td>0.81</td><td>0.0</td><td>16</td><td>40</td></tr><tr><td>1</td><td>1</td><td>1</td><td>0</td><td>6</td><td>0</td><td>1</td><td>0.22</td><td>0.8</td><td>0.0</td><td>40</td><td>32</td></tr><tr><td>1</td><td>1</td><td>2</td><td>0</td><td>6</td><td>0</td><td>1</td><td>0.22</td><td>0.8</td><td>0.0</td><td>32</td><td>13</td></tr><tr><td>1</td><td>1</td><td>3</td><td>0</td><td>6</td><td>0</td><td>1</td><td>0.24</td><td>0.75</td><td>0.0</td><td>13</td><td>1</td></tr><tr><td>1</td><td>1</td><td>4</td><td>0</td><td>6</td><td>0</td><td>1</td><td>0.24</td><td>0.75</td><td>0.0</td><td>1</td><td>1</td></tr></tbody></table></div>"
      ],
      "text/plain": [
       "shape: (5, 12)\n",
       "┌────────┬──────┬─────┬─────────┬─────────┬─────────┬────────┬──────┬──────┬────────┬─────┬────────┐\n",
       "│ season ┆ mnth ┆ hr  ┆ holiday ┆ weekday ┆ working ┆ weathe ┆ temp ┆ hum  ┆ windsp ┆ cnt ┆ target │\n",
       "│ ---    ┆ ---  ┆ --- ┆ ---     ┆ ---     ┆ day     ┆ rsit   ┆ ---  ┆ ---  ┆ eed    ┆ --- ┆ ---    │\n",
       "│ i64    ┆ i64  ┆ i64 ┆ i64     ┆ i64     ┆ ---     ┆ ---    ┆ f64  ┆ f64  ┆ ---    ┆ i64 ┆ i64    │\n",
       "│        ┆      ┆     ┆         ┆         ┆ i64     ┆ i64    ┆      ┆      ┆ f64    ┆     ┆        │\n",
       "╞════════╪══════╪═════╪═════════╪═════════╪═════════╪════════╪══════╪══════╪════════╪═════╪════════╡\n",
       "│ 1      ┆ 1    ┆ 0   ┆ 0       ┆ 6       ┆ 0       ┆ 1      ┆ 0.24 ┆ 0.81 ┆ 0.0    ┆ 16  ┆ 40     │\n",
       "│ 1      ┆ 1    ┆ 1   ┆ 0       ┆ 6       ┆ 0       ┆ 1      ┆ 0.22 ┆ 0.8  ┆ 0.0    ┆ 40  ┆ 32     │\n",
       "│ 1      ┆ 1    ┆ 2   ┆ 0       ┆ 6       ┆ 0       ┆ 1      ┆ 0.22 ┆ 0.8  ┆ 0.0    ┆ 32  ┆ 13     │\n",
       "│ 1      ┆ 1    ┆ 3   ┆ 0       ┆ 6       ┆ 0       ┆ 1      ┆ 0.24 ┆ 0.75 ┆ 0.0    ┆ 13  ┆ 1      │\n",
       "│ 1      ┆ 1    ┆ 4   ┆ 0       ┆ 6       ┆ 0       ┆ 1      ┆ 0.24 ┆ 0.75 ┆ 0.0    ┆ 1   ┆ 1      │\n",
       "└────────┴──────┴─────┴─────────┴─────────┴─────────┴────────┴──────┴──────┴────────┴─────┴────────┘"
      ]
     },
     "execution_count": 111,
     "metadata": {},
     "output_type": "execute_result"
    }
   ],
   "source": [
    "# Shift the `cnt` column by one hour to create the target variable\n",
    "# i.e. predict the next hour's demand based on current and past data\n",
    "df = df.with_columns(pl.col(\"cnt\").shift(-1).alias(\"target\")).with_columns(\n",
    "    pl.col(\"target\").fill_null(strategy=\"forward\")\n",
    ")\n",
    "df.head()"
   ]
  },
  {
   "cell_type": "code",
   "execution_count": 112,
   "id": "607a8f8e",
   "metadata": {},
   "outputs": [
    {
     "name": "stdout",
     "output_type": "stream",
     "text": [
      "Check for null values after adding lag features:\n"
     ]
    },
    {
     "data": {
      "text/html": [
       "<div><style>\n",
       ".dataframe > thead > tr,\n",
       ".dataframe > tbody > tr {\n",
       "  text-align: right;\n",
       "  white-space: pre-wrap;\n",
       "}\n",
       "</style>\n",
       "<small>shape: (1, 16)</small><table border=\"1\" class=\"dataframe\"><thead><tr><th>season</th><th>mnth</th><th>hr</th><th>holiday</th><th>weekday</th><th>workingday</th><th>weathersit</th><th>temp</th><th>hum</th><th>windspeed</th><th>cnt</th><th>target</th><th>current</th><th>lag_1</th><th>lag_23</th><th>lag_24</th></tr><tr><td>u32</td><td>u32</td><td>u32</td><td>u32</td><td>u32</td><td>u32</td><td>u32</td><td>u32</td><td>u32</td><td>u32</td><td>u32</td><td>u32</td><td>u32</td><td>u32</td><td>u32</td><td>u32</td></tr></thead><tbody><tr><td>0</td><td>0</td><td>0</td><td>0</td><td>0</td><td>0</td><td>0</td><td>0</td><td>0</td><td>0</td><td>0</td><td>0</td><td>0</td><td>0</td><td>0</td><td>0</td></tr></tbody></table></div>"
      ],
      "text/plain": [
       "shape: (1, 16)\n",
       "┌─────┬─────┬─────┬─────┬─────┬─────┬─────┬─────┬─────┬─────┬─────┬─────┬─────┬─────┬─────┬────────┐\n",
       "│ sea ┆ mnt ┆ hr  ┆ hol ┆ wee ┆ wor ┆ wea ┆ tem ┆ hum ┆ win ┆ cnt ┆ tar ┆ cur ┆ lag ┆ lag ┆ lag_24 │\n",
       "│ son ┆ h   ┆ --- ┆ ida ┆ kda ┆ kin ┆ the ┆ p   ┆ --- ┆ dsp ┆ --- ┆ get ┆ ren ┆ _1  ┆ _23 ┆ ---    │\n",
       "│ --- ┆ --- ┆ u32 ┆ y   ┆ y   ┆ gda ┆ rsi ┆ --- ┆ u32 ┆ eed ┆ u32 ┆ --- ┆ t   ┆ --- ┆ --- ┆ u32    │\n",
       "│ u32 ┆ u32 ┆     ┆ --- ┆ --- ┆ y   ┆ t   ┆ u32 ┆     ┆ --- ┆     ┆ u32 ┆ --- ┆ u32 ┆ u32 ┆        │\n",
       "│     ┆     ┆     ┆ u32 ┆ u32 ┆ --- ┆ --- ┆     ┆     ┆ u32 ┆     ┆     ┆ u32 ┆     ┆     ┆        │\n",
       "│     ┆     ┆     ┆     ┆     ┆ u32 ┆ u32 ┆     ┆     ┆     ┆     ┆     ┆     ┆     ┆     ┆        │\n",
       "╞═════╪═════╪═════╪═════╪═════╪═════╪═════╪═════╪═════╪═════╪═════╪═════╪═════╪═════╪═════╪════════╡\n",
       "│ 0   ┆ 0   ┆ 0   ┆ 0   ┆ 0   ┆ 0   ┆ 0   ┆ 0   ┆ 0   ┆ 0   ┆ 0   ┆ 0   ┆ 0   ┆ 0   ┆ 0   ┆ 0      │\n",
       "└─────┴─────┴─────┴─────┴─────┴─────┴─────┴─────┴─────┴─────┴─────┴─────┴─────┴─────┴─────┴────────┘"
      ]
     },
     "metadata": {},
     "output_type": "display_data"
    },
    {
     "data": {
      "text/html": [
       "<div><style>\n",
       ".dataframe > thead > tr,\n",
       ".dataframe > tbody > tr {\n",
       "  text-align: right;\n",
       "  white-space: pre-wrap;\n",
       "}\n",
       "</style>\n",
       "<small>shape: (5, 16)</small><table border=\"1\" class=\"dataframe\"><thead><tr><th>season</th><th>mnth</th><th>hr</th><th>holiday</th><th>weekday</th><th>workingday</th><th>weathersit</th><th>temp</th><th>hum</th><th>windspeed</th><th>cnt</th><th>target</th><th>current</th><th>lag_1</th><th>lag_23</th><th>lag_24</th></tr><tr><td>i64</td><td>i64</td><td>i64</td><td>i64</td><td>i64</td><td>i64</td><td>i64</td><td>f64</td><td>f64</td><td>f64</td><td>i64</td><td>i64</td><td>i64</td><td>i64</td><td>i64</td><td>i64</td></tr></thead><tbody><tr><td>1</td><td>1</td><td>0</td><td>0</td><td>6</td><td>0</td><td>1</td><td>0.24</td><td>0.81</td><td>0.0</td><td>16</td><td>40</td><td>16</td><td>16</td><td>16</td><td>16</td></tr><tr><td>1</td><td>1</td><td>1</td><td>0</td><td>6</td><td>0</td><td>1</td><td>0.22</td><td>0.8</td><td>0.0</td><td>40</td><td>32</td><td>40</td><td>16</td><td>16</td><td>16</td></tr><tr><td>1</td><td>1</td><td>2</td><td>0</td><td>6</td><td>0</td><td>1</td><td>0.22</td><td>0.8</td><td>0.0</td><td>32</td><td>13</td><td>32</td><td>40</td><td>16</td><td>16</td></tr><tr><td>1</td><td>1</td><td>3</td><td>0</td><td>6</td><td>0</td><td>1</td><td>0.24</td><td>0.75</td><td>0.0</td><td>13</td><td>1</td><td>13</td><td>32</td><td>16</td><td>16</td></tr><tr><td>1</td><td>1</td><td>4</td><td>0</td><td>6</td><td>0</td><td>1</td><td>0.24</td><td>0.75</td><td>0.0</td><td>1</td><td>1</td><td>1</td><td>13</td><td>16</td><td>16</td></tr></tbody></table></div>"
      ],
      "text/plain": [
       "shape: (5, 16)\n",
       "┌─────┬─────┬─────┬─────┬─────┬─────┬─────┬─────┬─────┬─────┬─────┬─────┬─────┬─────┬─────┬────────┐\n",
       "│ sea ┆ mnt ┆ hr  ┆ hol ┆ wee ┆ wor ┆ wea ┆ tem ┆ hum ┆ win ┆ cnt ┆ tar ┆ cur ┆ lag ┆ lag ┆ lag_24 │\n",
       "│ son ┆ h   ┆ --- ┆ ida ┆ kda ┆ kin ┆ the ┆ p   ┆ --- ┆ dsp ┆ --- ┆ get ┆ ren ┆ _1  ┆ _23 ┆ ---    │\n",
       "│ --- ┆ --- ┆ i64 ┆ y   ┆ y   ┆ gda ┆ rsi ┆ --- ┆ f64 ┆ eed ┆ i64 ┆ --- ┆ t   ┆ --- ┆ --- ┆ i64    │\n",
       "│ i64 ┆ i64 ┆     ┆ --- ┆ --- ┆ y   ┆ t   ┆ f64 ┆     ┆ --- ┆     ┆ i64 ┆ --- ┆ i64 ┆ i64 ┆        │\n",
       "│     ┆     ┆     ┆ i64 ┆ i64 ┆ --- ┆ --- ┆     ┆     ┆ f64 ┆     ┆     ┆ i64 ┆     ┆     ┆        │\n",
       "│     ┆     ┆     ┆     ┆     ┆ i64 ┆ i64 ┆     ┆     ┆     ┆     ┆     ┆     ┆     ┆     ┆        │\n",
       "╞═════╪═════╪═════╪═════╪═════╪═════╪═════╪═════╪═════╪═════╪═════╪═════╪═════╪═════╪═════╪════════╡\n",
       "│ 1   ┆ 1   ┆ 0   ┆ 0   ┆ 6   ┆ 0   ┆ 1   ┆ 0.2 ┆ 0.8 ┆ 0.0 ┆ 16  ┆ 40  ┆ 16  ┆ 16  ┆ 16  ┆ 16     │\n",
       "│     ┆     ┆     ┆     ┆     ┆     ┆     ┆ 4   ┆ 1   ┆     ┆     ┆     ┆     ┆     ┆     ┆        │\n",
       "│ 1   ┆ 1   ┆ 1   ┆ 0   ┆ 6   ┆ 0   ┆ 1   ┆ 0.2 ┆ 0.8 ┆ 0.0 ┆ 40  ┆ 32  ┆ 40  ┆ 16  ┆ 16  ┆ 16     │\n",
       "│     ┆     ┆     ┆     ┆     ┆     ┆     ┆ 2   ┆     ┆     ┆     ┆     ┆     ┆     ┆     ┆        │\n",
       "│ 1   ┆ 1   ┆ 2   ┆ 0   ┆ 6   ┆ 0   ┆ 1   ┆ 0.2 ┆ 0.8 ┆ 0.0 ┆ 32  ┆ 13  ┆ 32  ┆ 40  ┆ 16  ┆ 16     │\n",
       "│     ┆     ┆     ┆     ┆     ┆     ┆     ┆ 2   ┆     ┆     ┆     ┆     ┆     ┆     ┆     ┆        │\n",
       "│ 1   ┆ 1   ┆ 3   ┆ 0   ┆ 6   ┆ 0   ┆ 1   ┆ 0.2 ┆ 0.7 ┆ 0.0 ┆ 13  ┆ 1   ┆ 13  ┆ 32  ┆ 16  ┆ 16     │\n",
       "│     ┆     ┆     ┆     ┆     ┆     ┆     ┆ 4   ┆ 5   ┆     ┆     ┆     ┆     ┆     ┆     ┆        │\n",
       "│ 1   ┆ 1   ┆ 4   ┆ 0   ┆ 6   ┆ 0   ┆ 1   ┆ 0.2 ┆ 0.7 ┆ 0.0 ┆ 1   ┆ 1   ┆ 1   ┆ 13  ┆ 16  ┆ 16     │\n",
       "│     ┆     ┆     ┆     ┆     ┆     ┆     ┆ 4   ┆ 5   ┆     ┆     ┆     ┆     ┆     ┆     ┆        │\n",
       "└─────┴─────┴─────┴─────┴─────┴─────┴─────┴─────┴─────┴─────┴─────┴─────┴─────┴─────┴─────┴────────┘"
      ]
     },
     "execution_count": 112,
     "metadata": {},
     "output_type": "execute_result"
    }
   ],
   "source": [
    "# Add lags 1, 23 and 24 hours\n",
    "df = df.with_columns(\n",
    "    [\n",
    "        pl.col(\"cnt\").alias(\"current\"),\n",
    "        pl.col(\"cnt\").shift(1).alias(\"lag_1\"),\n",
    "        pl.col(\"cnt\").shift(23).alias(\"lag_23\"),\n",
    "        pl.col(\"cnt\").shift(24).alias(\"lag_24\"),\n",
    "    ]\n",
    ").fill_null(strategy=\"backward\")\n",
    "print(\"Check for null values after adding lag features:\")\n",
    "display(df.null_count())\n",
    "df.head()"
   ]
  },
  {
   "cell_type": "code",
   "execution_count": 113,
   "id": "c9901ebe",
   "metadata": {},
   "outputs": [
    {
     "data": {
      "text/plain": [
       "((11122, 14), (11122,), (2781, 14), (2781,))"
      ]
     },
     "execution_count": 113,
     "metadata": {},
     "output_type": "execute_result"
    }
   ],
   "source": [
    "df = df.drop([\"cnt\"])\n",
    "\n",
    "train_df, test_df = split_temporal_data(df)\n",
    "\n",
    "x_train = train_df.drop(\"target\").to_numpy()\n",
    "y_train = train_df[\"target\"].to_numpy()\n",
    "\n",
    "x_test = test_df.drop(\"target\").to_numpy()\n",
    "y_test = test_df[\"target\"].to_numpy()\n",
    "\n",
    "x_train.shape, y_train.shape, x_test.shape, y_test.shape"
   ]
  },
  {
   "cell_type": "code",
   "execution_count": 114,
   "id": "b919e9dd",
   "metadata": {},
   "outputs": [],
   "source": [
    "rf_reg = RandomForestRegressor(random_state=123)\n",
    "rf_reg.fit(x_train, y_train)\n",
    "rf_reg.score(x_test, y_test)\n",
    "\n",
    "y_pred = rf_reg.predict(x_test)"
   ]
  },
  {
   "cell_type": "code",
   "execution_count": 115,
   "id": "96b8bf42",
   "metadata": {},
   "outputs": [
    {
     "data": {
      "text/plain": [
       "{'MAE': 43.39, 'RMSE': 70.61, 'MAPE': 24.28}"
      ]
     },
     "execution_count": 115,
     "metadata": {},
     "output_type": "execute_result"
    }
   ],
   "source": [
    "metrics_base_with_lagged_feats = compute_metrics(y_test, y_pred)\n",
    "metrics_base_with_lagged_feats"
   ]
  },
  {
   "cell_type": "code",
   "execution_count": 116,
   "id": "1b1c03a9",
   "metadata": {},
   "outputs": [
    {
     "data": {
      "application/vnd.plotly.v1+json": {
       "config": {
        "plotlyServerURL": "https://plot.ly"
       },
       "data": [
        {
         "line": {
          "color": "blue",
          "width": 2
         },
         "mode": "lines",
         "name": "y_test (Actual)",
         "type": "scatter",
         "x": [
          0,
          1,
          2,
          3,
          4,
          5,
          6,
          7,
          8,
          9,
          10,
          11,
          12,
          13,
          14,
          15,
          16,
          17,
          18,
          19,
          20,
          21,
          22,
          23,
          24,
          25,
          26,
          27,
          28,
          29,
          30,
          31,
          32,
          33,
          34,
          35,
          36,
          37,
          38,
          39,
          40,
          41,
          42,
          43,
          44,
          45,
          46,
          47,
          48,
          49,
          50,
          51,
          52,
          53,
          54,
          55,
          56,
          57,
          58,
          59,
          60,
          61,
          62,
          63,
          64,
          65,
          66,
          67,
          68,
          69,
          70,
          71,
          72,
          73,
          74,
          75,
          76,
          77,
          78,
          79,
          80,
          81,
          82,
          83,
          84,
          85,
          86,
          87,
          88,
          89,
          90,
          91,
          92,
          93,
          94,
          95,
          96,
          97,
          98,
          99,
          100,
          101,
          102,
          103,
          104,
          105,
          106,
          107,
          108,
          109,
          110,
          111,
          112,
          113,
          114,
          115,
          116,
          117,
          118,
          119,
          120,
          121,
          122,
          123,
          124,
          125,
          126,
          127,
          128,
          129,
          130,
          131,
          132,
          133,
          134,
          135,
          136,
          137,
          138,
          139,
          140,
          141,
          142,
          143,
          144,
          145,
          146,
          147,
          148,
          149,
          150,
          151,
          152,
          153,
          154,
          155,
          156,
          157,
          158,
          159,
          160,
          161,
          162,
          163,
          164,
          165,
          166,
          167,
          168,
          169,
          170,
          171,
          172,
          173,
          174,
          175,
          176,
          177,
          178,
          179,
          180,
          181,
          182,
          183,
          184,
          185,
          186,
          187,
          188,
          189,
          190,
          191,
          192,
          193,
          194,
          195,
          196,
          197,
          198,
          199,
          200,
          201,
          202,
          203,
          204,
          205,
          206,
          207,
          208,
          209,
          210,
          211,
          212,
          213,
          214,
          215,
          216,
          217,
          218,
          219,
          220,
          221,
          222,
          223,
          224,
          225,
          226,
          227,
          228,
          229,
          230,
          231,
          232,
          233,
          234,
          235,
          236,
          237,
          238,
          239,
          240,
          241,
          242,
          243,
          244,
          245,
          246,
          247,
          248,
          249,
          250,
          251,
          252,
          253,
          254,
          255,
          256,
          257,
          258,
          259,
          260,
          261,
          262,
          263,
          264,
          265,
          266,
          267,
          268,
          269,
          270,
          271,
          272,
          273,
          274,
          275,
          276,
          277,
          278,
          279,
          280,
          281,
          282,
          283,
          284,
          285,
          286,
          287,
          288,
          289,
          290,
          291,
          292,
          293,
          294,
          295,
          296,
          297,
          298,
          299
         ],
         "y": {
          "bdata": "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",
          "dtype": "f8"
         }
        },
        {
         "line": {
          "color": "red",
          "width": 2
         },
         "mode": "lines",
         "name": "y_pred (Predicted with Lagged Features)",
         "type": "scatter",
         "x": [
          0,
          1,
          2,
          3,
          4,
          5,
          6,
          7,
          8,
          9,
          10,
          11,
          12,
          13,
          14,
          15,
          16,
          17,
          18,
          19,
          20,
          21,
          22,
          23,
          24,
          25,
          26,
          27,
          28,
          29,
          30,
          31,
          32,
          33,
          34,
          35,
          36,
          37,
          38,
          39,
          40,
          41,
          42,
          43,
          44,
          45,
          46,
          47,
          48,
          49,
          50,
          51,
          52,
          53,
          54,
          55,
          56,
          57,
          58,
          59,
          60,
          61,
          62,
          63,
          64,
          65,
          66,
          67,
          68,
          69,
          70,
          71,
          72,
          73,
          74,
          75,
          76,
          77,
          78,
          79,
          80,
          81,
          82,
          83,
          84,
          85,
          86,
          87,
          88,
          89,
          90,
          91,
          92,
          93,
          94,
          95,
          96,
          97,
          98,
          99,
          100,
          101,
          102,
          103,
          104,
          105,
          106,
          107,
          108,
          109,
          110,
          111,
          112,
          113,
          114,
          115,
          116,
          117,
          118,
          119,
          120,
          121,
          122,
          123,
          124,
          125,
          126,
          127,
          128,
          129,
          130,
          131,
          132,
          133,
          134,
          135,
          136,
          137,
          138,
          139,
          140,
          141,
          142,
          143,
          144,
          145,
          146,
          147,
          148,
          149,
          150,
          151,
          152,
          153,
          154,
          155,
          156,
          157,
          158,
          159,
          160,
          161,
          162,
          163,
          164,
          165,
          166,
          167,
          168,
          169,
          170,
          171,
          172,
          173,
          174,
          175,
          176,
          177,
          178,
          179,
          180,
          181,
          182,
          183,
          184,
          185,
          186,
          187,
          188,
          189,
          190,
          191,
          192,
          193,
          194,
          195,
          196,
          197,
          198,
          199,
          200,
          201,
          202,
          203,
          204,
          205,
          206,
          207,
          208,
          209,
          210,
          211,
          212,
          213,
          214,
          215,
          216,
          217,
          218,
          219,
          220,
          221,
          222,
          223,
          224,
          225,
          226,
          227,
          228,
          229,
          230,
          231,
          232,
          233,
          234,
          235,
          236,
          237,
          238,
          239,
          240,
          241,
          242,
          243,
          244,
          245,
          246,
          247,
          248,
          249,
          250,
          251,
          252,
          253,
          254,
          255,
          256,
          257,
          258,
          259,
          260,
          261,
          262,
          263,
          264,
          265,
          266,
          267,
          268,
          269,
          270,
          271,
          272,
          273,
          274,
          275,
          276,
          277,
          278,
          279,
          280,
          281,
          282,
          283,
          284,
          285,
          286,
          287,
          288,
          289,
          290,
          291,
          292,
          293,
          294,
          295,
          296,
          297,
          298,
          299
         ],
         "y": {
          "bdata": "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",
          "dtype": "f8"
         }
        }
       ],
       "layout": {
        "height": 500,
        "hovermode": "x unified",
        "template": {
         "data": {
          "bar": [
           {
            "error_x": {
             "color": "#2a3f5f"
            },
            "error_y": {
             "color": "#2a3f5f"
            },
            "marker": {
             "line": {
              "color": "white",
              "width": 0.5
             },
             "pattern": {
              "fillmode": "overlay",
              "size": 10,
              "solidity": 0.2
             }
            },
            "type": "bar"
           }
          ],
          "barpolar": [
           {
            "marker": {
             "line": {
              "color": "white",
              "width": 0.5
             },
             "pattern": {
              "fillmode": "overlay",
              "size": 10,
              "solidity": 0.2
             }
            },
            "type": "barpolar"
           }
          ],
          "carpet": [
           {
            "aaxis": {
             "endlinecolor": "#2a3f5f",
             "gridcolor": "#C8D4E3",
             "linecolor": "#C8D4E3",
             "minorgridcolor": "#C8D4E3",
             "startlinecolor": "#2a3f5f"
            },
            "baxis": {
             "endlinecolor": "#2a3f5f",
             "gridcolor": "#C8D4E3",
             "linecolor": "#C8D4E3",
             "minorgridcolor": "#C8D4E3",
             "startlinecolor": "#2a3f5f"
            },
            "type": "carpet"
           }
          ],
          "choropleth": [
           {
            "colorbar": {
             "outlinewidth": 0,
             "ticks": ""
            },
            "type": "choropleth"
           }
          ],
          "contour": [
           {
            "colorbar": {
             "outlinewidth": 0,
             "ticks": ""
            },
            "colorscale": [
             [
              0,
              "#0d0887"
             ],
             [
              0.1111111111111111,
              "#46039f"
             ],
             [
              0.2222222222222222,
              "#7201a8"
             ],
             [
              0.3333333333333333,
              "#9c179e"
             ],
             [
              0.4444444444444444,
              "#bd3786"
             ],
             [
              0.5555555555555556,
              "#d8576b"
             ],
             [
              0.6666666666666666,
              "#ed7953"
             ],
             [
              0.7777777777777778,
              "#fb9f3a"
             ],
             [
              0.8888888888888888,
              "#fdca26"
             ],
             [
              1,
              "#f0f921"
             ]
            ],
            "type": "contour"
           }
          ],
          "contourcarpet": [
           {
            "colorbar": {
             "outlinewidth": 0,
             "ticks": ""
            },
            "type": "contourcarpet"
           }
          ],
          "heatmap": [
           {
            "colorbar": {
             "outlinewidth": 0,
             "ticks": ""
            },
            "colorscale": [
             [
              0,
              "#0d0887"
             ],
             [
              0.1111111111111111,
              "#46039f"
             ],
             [
              0.2222222222222222,
              "#7201a8"
             ],
             [
              0.3333333333333333,
              "#9c179e"
             ],
             [
              0.4444444444444444,
              "#bd3786"
             ],
             [
              0.5555555555555556,
              "#d8576b"
             ],
             [
              0.6666666666666666,
              "#ed7953"
             ],
             [
              0.7777777777777778,
              "#fb9f3a"
             ],
             [
              0.8888888888888888,
              "#fdca26"
             ],
             [
              1,
              "#f0f921"
             ]
            ],
            "type": "heatmap"
           }
          ],
          "histogram": [
           {
            "marker": {
             "pattern": {
              "fillmode": "overlay",
              "size": 10,
              "solidity": 0.2
             }
            },
            "type": "histogram"
           }
          ],
          "histogram2d": [
           {
            "colorbar": {
             "outlinewidth": 0,
             "ticks": ""
            },
            "colorscale": [
             [
              0,
              "#0d0887"
             ],
             [
              0.1111111111111111,
              "#46039f"
             ],
             [
              0.2222222222222222,
              "#7201a8"
             ],
             [
              0.3333333333333333,
              "#9c179e"
             ],
             [
              0.4444444444444444,
              "#bd3786"
             ],
             [
              0.5555555555555556,
              "#d8576b"
             ],
             [
              0.6666666666666666,
              "#ed7953"
             ],
             [
              0.7777777777777778,
              "#fb9f3a"
             ],
             [
              0.8888888888888888,
              "#fdca26"
             ],
             [
              1,
              "#f0f921"
             ]
            ],
            "type": "histogram2d"
           }
          ],
          "histogram2dcontour": [
           {
            "colorbar": {
             "outlinewidth": 0,
             "ticks": ""
            },
            "colorscale": [
             [
              0,
              "#0d0887"
             ],
             [
              0.1111111111111111,
              "#46039f"
             ],
             [
              0.2222222222222222,
              "#7201a8"
             ],
             [
              0.3333333333333333,
              "#9c179e"
             ],
             [
              0.4444444444444444,
              "#bd3786"
             ],
             [
              0.5555555555555556,
              "#d8576b"
             ],
             [
              0.6666666666666666,
              "#ed7953"
             ],
             [
              0.7777777777777778,
              "#fb9f3a"
             ],
             [
              0.8888888888888888,
              "#fdca26"
             ],
             [
              1,
              "#f0f921"
             ]
            ],
            "type": "histogram2dcontour"
           }
          ],
          "mesh3d": [
           {
            "colorbar": {
             "outlinewidth": 0,
             "ticks": ""
            },
            "type": "mesh3d"
           }
          ],
          "parcoords": [
           {
            "line": {
             "colorbar": {
              "outlinewidth": 0,
              "ticks": ""
             }
            },
            "type": "parcoords"
           }
          ],
          "pie": [
           {
            "automargin": true,
            "type": "pie"
           }
          ],
          "scatter": [
           {
            "fillpattern": {
             "fillmode": "overlay",
             "size": 10,
             "solidity": 0.2
            },
            "type": "scatter"
           }
          ],
          "scatter3d": [
           {
            "line": {
             "colorbar": {
              "outlinewidth": 0,
              "ticks": ""
             }
            },
            "marker": {
             "colorbar": {
              "outlinewidth": 0,
              "ticks": ""
             }
            },
            "type": "scatter3d"
           }
          ],
          "scattercarpet": [
           {
            "marker": {
             "colorbar": {
              "outlinewidth": 0,
              "ticks": ""
             }
            },
            "type": "scattercarpet"
           }
          ],
          "scattergeo": [
           {
            "marker": {
             "colorbar": {
              "outlinewidth": 0,
              "ticks": ""
             }
            },
            "type": "scattergeo"
           }
          ],
          "scattergl": [
           {
            "marker": {
             "colorbar": {
              "outlinewidth": 0,
              "ticks": ""
             }
            },
            "type": "scattergl"
           }
          ],
          "scattermap": [
           {
            "marker": {
             "colorbar": {
              "outlinewidth": 0,
              "ticks": ""
             }
            },
            "type": "scattermap"
           }
          ],
          "scattermapbox": [
           {
            "marker": {
             "colorbar": {
              "outlinewidth": 0,
              "ticks": ""
             }
            },
            "type": "scattermapbox"
           }
          ],
          "scatterpolar": [
           {
            "marker": {
             "colorbar": {
              "outlinewidth": 0,
              "ticks": ""
             }
            },
            "type": "scatterpolar"
           }
          ],
          "scatterpolargl": [
           {
            "marker": {
             "colorbar": {
              "outlinewidth": 0,
              "ticks": ""
             }
            },
            "type": "scatterpolargl"
           }
          ],
          "scatterternary": [
           {
            "marker": {
             "colorbar": {
              "outlinewidth": 0,
              "ticks": ""
             }
            },
            "type": "scatterternary"
           }
          ],
          "surface": [
           {
            "colorbar": {
             "outlinewidth": 0,
             "ticks": ""
            },
            "colorscale": [
             [
              0,
              "#0d0887"
             ],
             [
              0.1111111111111111,
              "#46039f"
             ],
             [
              0.2222222222222222,
              "#7201a8"
             ],
             [
              0.3333333333333333,
              "#9c179e"
             ],
             [
              0.4444444444444444,
              "#bd3786"
             ],
             [
              0.5555555555555556,
              "#d8576b"
             ],
             [
              0.6666666666666666,
              "#ed7953"
             ],
             [
              0.7777777777777778,
              "#fb9f3a"
             ],
             [
              0.8888888888888888,
              "#fdca26"
             ],
             [
              1,
              "#f0f921"
             ]
            ],
            "type": "surface"
           }
          ],
          "table": [
           {
            "cells": {
             "fill": {
              "color": "#EBF0F8"
             },
             "line": {
              "color": "white"
             }
            },
            "header": {
             "fill": {
              "color": "#C8D4E3"
             },
             "line": {
              "color": "white"
             }
            },
            "type": "table"
           }
          ]
         },
         "layout": {
          "annotationdefaults": {
           "arrowcolor": "#2a3f5f",
           "arrowhead": 0,
           "arrowwidth": 1
          },
          "autotypenumbers": "strict",
          "coloraxis": {
           "colorbar": {
            "outlinewidth": 0,
            "ticks": ""
           }
          },
          "colorscale": {
           "diverging": [
            [
             0,
             "#8e0152"
            ],
            [
             0.1,
             "#c51b7d"
            ],
            [
             0.2,
             "#de77ae"
            ],
            [
             0.3,
             "#f1b6da"
            ],
            [
             0.4,
             "#fde0ef"
            ],
            [
             0.5,
             "#f7f7f7"
            ],
            [
             0.6,
             "#e6f5d0"
            ],
            [
             0.7,
             "#b8e186"
            ],
            [
             0.8,
             "#7fbc41"
            ],
            [
             0.9,
             "#4d9221"
            ],
            [
             1,
             "#276419"
            ]
           ],
           "sequential": [
            [
             0,
             "#0d0887"
            ],
            [
             0.1111111111111111,
             "#46039f"
            ],
            [
             0.2222222222222222,
             "#7201a8"
            ],
            [
             0.3333333333333333,
             "#9c179e"
            ],
            [
             0.4444444444444444,
             "#bd3786"
            ],
            [
             0.5555555555555556,
             "#d8576b"
            ],
            [
             0.6666666666666666,
             "#ed7953"
            ],
            [
             0.7777777777777778,
             "#fb9f3a"
            ],
            [
             0.8888888888888888,
             "#fdca26"
            ],
            [
             1,
             "#f0f921"
            ]
           ],
           "sequentialminus": [
            [
             0,
             "#0d0887"
            ],
            [
             0.1111111111111111,
             "#46039f"
            ],
            [
             0.2222222222222222,
             "#7201a8"
            ],
            [
             0.3333333333333333,
             "#9c179e"
            ],
            [
             0.4444444444444444,
             "#bd3786"
            ],
            [
             0.5555555555555556,
             "#d8576b"
            ],
            [
             0.6666666666666666,
             "#ed7953"
            ],
            [
             0.7777777777777778,
             "#fb9f3a"
            ],
            [
             0.8888888888888888,
             "#fdca26"
            ],
            [
             1,
             "#f0f921"
            ]
           ]
          },
          "colorway": [
           "#636efa",
           "#EF553B",
           "#00cc96",
           "#ab63fa",
           "#FFA15A",
           "#19d3f3",
           "#FF6692",
           "#B6E880",
           "#FF97FF",
           "#FECB52"
          ],
          "font": {
           "color": "#2a3f5f"
          },
          "geo": {
           "bgcolor": "white",
           "lakecolor": "white",
           "landcolor": "white",
           "showlakes": true,
           "showland": true,
           "subunitcolor": "#C8D4E3"
          },
          "hoverlabel": {
           "align": "left"
          },
          "hovermode": "closest",
          "mapbox": {
           "style": "light"
          },
          "paper_bgcolor": "white",
          "plot_bgcolor": "white",
          "polar": {
           "angularaxis": {
            "gridcolor": "#EBF0F8",
            "linecolor": "#EBF0F8",
            "ticks": ""
           },
           "bgcolor": "white",
           "radialaxis": {
            "gridcolor": "#EBF0F8",
            "linecolor": "#EBF0F8",
            "ticks": ""
           }
          },
          "scene": {
           "xaxis": {
            "backgroundcolor": "white",
            "gridcolor": "#DFE8F3",
            "gridwidth": 2,
            "linecolor": "#EBF0F8",
            "showbackground": true,
            "ticks": "",
            "zerolinecolor": "#EBF0F8"
           },
           "yaxis": {
            "backgroundcolor": "white",
            "gridcolor": "#DFE8F3",
            "gridwidth": 2,
            "linecolor": "#EBF0F8",
            "showbackground": true,
            "ticks": "",
            "zerolinecolor": "#EBF0F8"
           },
           "zaxis": {
            "backgroundcolor": "white",
            "gridcolor": "#DFE8F3",
            "gridwidth": 2,
            "linecolor": "#EBF0F8",
            "showbackground": true,
            "ticks": "",
            "zerolinecolor": "#EBF0F8"
           }
          },
          "shapedefaults": {
           "line": {
            "color": "#2a3f5f"
           }
          },
          "ternary": {
           "aaxis": {
            "gridcolor": "#DFE8F3",
            "linecolor": "#A2B1C6",
            "ticks": ""
           },
           "baxis": {
            "gridcolor": "#DFE8F3",
            "linecolor": "#A2B1C6",
            "ticks": ""
           },
           "bgcolor": "white",
           "caxis": {
            "gridcolor": "#DFE8F3",
            "linecolor": "#A2B1C6",
            "ticks": ""
           }
          },
          "title": {
           "x": 0.05
          },
          "xaxis": {
           "automargin": true,
           "gridcolor": "#EBF0F8",
           "linecolor": "#EBF0F8",
           "ticks": "",
           "title": {
            "standoff": 15
           },
           "zerolinecolor": "#EBF0F8",
           "zerolinewidth": 2
          },
          "yaxis": {
           "automargin": true,
           "gridcolor": "#EBF0F8",
           "linecolor": "#EBF0F8",
           "ticks": "",
           "title": {
            "standoff": 15
           },
           "zerolinecolor": "#EBF0F8",
           "zerolinewidth": 2
          }
         }
        },
        "title": {
         "text": "Actual vs Predicted Bike Rental Counts"
        },
        "width": 800,
        "xaxis": {
         "title": {
          "text": "Time Steps"
         }
        },
        "yaxis": {
         "title": {
          "text": "Bike Rental Count"
         }
        }
       }
      }
     },
     "metadata": {},
     "output_type": "display_data"
    }
   ],
   "source": [
    "n: int = 300\n",
    "\n",
    "fig = go.Figure()\n",
    "\n",
    "# Add actual values trace\n",
    "fig.add_trace(\n",
    "    go.Scatter(\n",
    "        x=list(range(n)),\n",
    "        y=y_test[:n],\n",
    "        mode=\"lines\",\n",
    "        name=\"y_test (Actual)\",\n",
    "        line={\"color\": \"blue\", \"width\": 2},\n",
    "    )\n",
    ")\n",
    "\n",
    "# Add predicted values trace\n",
    "fig.add_trace(\n",
    "    go.Scatter(\n",
    "        x=list(range(n)),\n",
    "        y=y_pred[:n],\n",
    "        mode=\"lines\",\n",
    "        name=\"y_pred (Predicted with Lagged Features)\",\n",
    "        line={\"color\": \"red\", \"width\": 2},\n",
    "    )\n",
    ")\n",
    "\n",
    "# Update layout for better visualization\n",
    "fig.update_layout(\n",
    "    title=\"Actual vs Predicted Bike Rental Counts\",\n",
    "    xaxis_title=\"Time Steps\",\n",
    "    yaxis_title=\"Bike Rental Count\",\n",
    "    hovermode=\"x unified\",\n",
    "    template=\"plotly_white\",\n",
    "    width=800,\n",
    "    height=500,\n",
    ")\n",
    "\n",
    "# Show the interactive plot\n",
    "fig.show()"
   ]
  },
  {
   "cell_type": "code",
   "execution_count": 117,
   "id": "abad636c",
   "metadata": {},
   "outputs": [
    {
     "data": {
      "text/html": [
       "<pre style=\"white-space:pre;overflow-x:auto;line-height:normal;font-family:Menlo,'DejaVu Sans Mono',consolas,'Courier New',monospace\"><span style=\"color: #00ff00; text-decoration-color: #00ff00\">Metrics </span><span style=\"color: #00ff00; text-decoration-color: #00ff00; font-weight: bold\">(</span><span style=\"color: #00ff00; text-decoration-color: #00ff00\">Base Model</span><span style=\"color: #00ff00; text-decoration-color: #00ff00; font-weight: bold\">)</span><span style=\"color: #00ff00; text-decoration-color: #00ff00\">: </span><span style=\"color: #00ff00; text-decoration-color: #00ff00; font-weight: bold\">{</span><span style=\"color: #008000; text-decoration-color: #008000\">'MAE'</span><span style=\"color: #00ff00; text-decoration-color: #00ff00\">: </span><span style=\"color: #008080; text-decoration-color: #008080; font-weight: bold\">84.78</span><span style=\"color: #00ff00; text-decoration-color: #00ff00\">, </span><span style=\"color: #008000; text-decoration-color: #008000\">'RMSE'</span><span style=\"color: #00ff00; text-decoration-color: #00ff00\">: </span><span style=\"color: #008080; text-decoration-color: #008080; font-weight: bold\">116.41</span><span style=\"color: #00ff00; text-decoration-color: #00ff00\">, </span><span style=\"color: #008000; text-decoration-color: #008000\">'MAPE'</span><span style=\"color: #00ff00; text-decoration-color: #00ff00\">: </span><span style=\"color: #008080; text-decoration-color: #008080; font-weight: bold\">34.11</span><span style=\"color: #00ff00; text-decoration-color: #00ff00; font-weight: bold\">}</span>\n",
       "</pre>\n"
      ],
      "text/plain": [
       "\u001b[38;2;0;255;0mMetrics \u001b[0m\u001b[1;38;2;0;255;0m(\u001b[0m\u001b[38;2;0;255;0mBase Model\u001b[0m\u001b[1;38;2;0;255;0m)\u001b[0m\u001b[38;2;0;255;0m: \u001b[0m\u001b[1;38;2;0;255;0m{\u001b[0m\u001b[32m'MAE'\u001b[0m\u001b[38;2;0;255;0m: \u001b[0m\u001b[1;36m84.78\u001b[0m\u001b[38;2;0;255;0m, \u001b[0m\u001b[32m'RMSE'\u001b[0m\u001b[38;2;0;255;0m: \u001b[0m\u001b[1;36m116.41\u001b[0m\u001b[38;2;0;255;0m, \u001b[0m\u001b[32m'MAPE'\u001b[0m\u001b[38;2;0;255;0m: \u001b[0m\u001b[1;36m34.11\u001b[0m\u001b[1;38;2;0;255;0m}\u001b[0m\n"
      ]
     },
     "metadata": {},
     "output_type": "display_data"
    },
    {
     "data": {
      "text/html": [
       "<pre style=\"white-space:pre;overflow-x:auto;line-height:normal;font-family:Menlo,'DejaVu Sans Mono',consolas,'Courier New',monospace\"><span style=\"color: #00ff00; text-decoration-color: #00ff00\">Metrics </span><span style=\"color: #00ff00; text-decoration-color: #00ff00; font-weight: bold\">(</span><span style=\"color: #00ff00; text-decoration-color: #00ff00\">Dummy Model</span><span style=\"color: #00ff00; text-decoration-color: #00ff00; font-weight: bold\">)</span><span style=\"color: #00ff00; text-decoration-color: #00ff00\">: </span><span style=\"color: #00ff00; text-decoration-color: #00ff00; font-weight: bold\">{</span><span style=\"color: #008000; text-decoration-color: #008000\">'MAE'</span><span style=\"color: #00ff00; text-decoration-color: #00ff00\">: </span><span style=\"color: #008080; text-decoration-color: #008080; font-weight: bold\">87.01</span><span style=\"color: #00ff00; text-decoration-color: #00ff00\">, </span><span style=\"color: #008000; text-decoration-color: #008000\">'RMSE'</span><span style=\"color: #00ff00; text-decoration-color: #00ff00\">: </span><span style=\"color: #008080; text-decoration-color: #008080; font-weight: bold\">128.17</span><span style=\"color: #00ff00; text-decoration-color: #00ff00\">, </span><span style=\"color: #008000; text-decoration-color: #008000\">'MAPE'</span><span style=\"color: #00ff00; text-decoration-color: #00ff00\">: </span><span style=\"color: #008080; text-decoration-color: #008080; font-weight: bold\">55.4</span><span style=\"color: #00ff00; text-decoration-color: #00ff00; font-weight: bold\">}</span>\n",
       "</pre>\n"
      ],
      "text/plain": [
       "\u001b[38;2;0;255;0mMetrics \u001b[0m\u001b[1;38;2;0;255;0m(\u001b[0m\u001b[38;2;0;255;0mDummy Model\u001b[0m\u001b[1;38;2;0;255;0m)\u001b[0m\u001b[38;2;0;255;0m: \u001b[0m\u001b[1;38;2;0;255;0m{\u001b[0m\u001b[32m'MAE'\u001b[0m\u001b[38;2;0;255;0m: \u001b[0m\u001b[1;36m87.01\u001b[0m\u001b[38;2;0;255;0m, \u001b[0m\u001b[32m'RMSE'\u001b[0m\u001b[38;2;0;255;0m: \u001b[0m\u001b[1;36m128.17\u001b[0m\u001b[38;2;0;255;0m, \u001b[0m\u001b[32m'MAPE'\u001b[0m\u001b[38;2;0;255;0m: \u001b[0m\u001b[1;36m55.4\u001b[0m\u001b[1;38;2;0;255;0m}\u001b[0m\n"
      ]
     },
     "metadata": {},
     "output_type": "display_data"
    },
    {
     "data": {
      "text/html": [
       "<pre style=\"white-space:pre;overflow-x:auto;line-height:normal;font-family:Menlo,'DejaVu Sans Mono',consolas,'Courier New',monospace\"><span style=\"color: #00ff00; text-decoration-color: #00ff00\">Metrics </span><span style=\"color: #00ff00; text-decoration-color: #00ff00; font-weight: bold\">(</span><span style=\"color: #00ff00; text-decoration-color: #00ff00\">Base Model with Lagged Features</span><span style=\"color: #00ff00; text-decoration-color: #00ff00; font-weight: bold\">)</span><span style=\"color: #00ff00; text-decoration-color: #00ff00\">: </span><span style=\"color: #00ff00; text-decoration-color: #00ff00; font-weight: bold\">{</span><span style=\"color: #008000; text-decoration-color: #008000\">'MAE'</span><span style=\"color: #00ff00; text-decoration-color: #00ff00\">: </span><span style=\"color: #008080; text-decoration-color: #008080; font-weight: bold\">43.39</span><span style=\"color: #00ff00; text-decoration-color: #00ff00\">, </span><span style=\"color: #008000; text-decoration-color: #008000\">'RMSE'</span><span style=\"color: #00ff00; text-decoration-color: #00ff00\">: </span><span style=\"color: #008080; text-decoration-color: #008080; font-weight: bold\">70.61</span><span style=\"color: #00ff00; text-decoration-color: #00ff00\">, </span><span style=\"color: #008000; text-decoration-color: #008000\">'MAPE'</span><span style=\"color: #00ff00; text-decoration-color: #00ff00\">: </span><span style=\"color: #008080; text-decoration-color: #008080; font-weight: bold\">24.28</span><span style=\"color: #00ff00; text-decoration-color: #00ff00; font-weight: bold\">}</span>\n",
       "</pre>\n"
      ],
      "text/plain": [
       "\u001b[38;2;0;255;0mMetrics \u001b[0m\u001b[1;38;2;0;255;0m(\u001b[0m\u001b[38;2;0;255;0mBase Model with Lagged Features\u001b[0m\u001b[1;38;2;0;255;0m)\u001b[0m\u001b[38;2;0;255;0m: \u001b[0m\u001b[1;38;2;0;255;0m{\u001b[0m\u001b[32m'MAE'\u001b[0m\u001b[38;2;0;255;0m: \u001b[0m\u001b[1;36m43.39\u001b[0m\u001b[38;2;0;255;0m, \u001b[0m\u001b[32m'RMSE'\u001b[0m\u001b[38;2;0;255;0m: \u001b[0m\u001b[1;36m70.61\u001b[0m\u001b[38;2;0;255;0m, \u001b[0m\u001b[32m'MAPE'\u001b[0m\u001b[38;2;0;255;0m: \u001b[0m\u001b[1;36m24.28\u001b[0m\u001b[1;38;2;0;255;0m}\u001b[0m\n"
      ]
     },
     "metadata": {},
     "output_type": "display_data"
    }
   ],
   "source": [
    "console.print(f\"Metrics (Base Model): {metrics_base}\", style=\"info\")\n",
    "console.print(f\"Metrics (Dummy Model): {metrics_dummy}\", style=\"info\")\n",
    "console.print(\n",
    "    f\"Metrics (Base Model with Lagged Features): {metrics_base_with_lagged_feats}\",\n",
    "    style=\"info\",\n",
    ")"
   ]
  },
  {
   "cell_type": "code",
   "execution_count": 118,
   "id": "5f24057c",
   "metadata": {},
   "outputs": [
    {
     "data": {
      "text/html": [
       "<pre style=\"white-space:pre;overflow-x:auto;line-height:normal;font-family:Menlo,'DejaVu Sans Mono',consolas,'Courier New',monospace\"><span style=\"color: #ff4500; text-decoration-color: #ff4500\">MAE Change: </span><span style=\"color: #008080; text-decoration-color: #008080; font-weight: bold\">100.53</span><span style=\"color: #ff4500; text-decoration-color: #ff4500\">%</span>\n",
       "</pre>\n"
      ],
      "text/plain": [
       "\u001b[38;2;255;69;0mMAE Change: \u001b[0m\u001b[1;36m100.53\u001b[0m\u001b[38;2;255;69;0m%\u001b[0m\n"
      ]
     },
     "metadata": {},
     "output_type": "display_data"
    },
    {
     "data": {
      "text/html": [
       "<pre style=\"white-space:pre;overflow-x:auto;line-height:normal;font-family:Menlo,'DejaVu Sans Mono',consolas,'Courier New',monospace\"><span style=\"color: #ff4500; text-decoration-color: #ff4500\">RMSE Change: </span><span style=\"color: #008080; text-decoration-color: #008080; font-weight: bold\">81.52</span><span style=\"color: #ff4500; text-decoration-color: #ff4500\">%</span>\n",
       "</pre>\n"
      ],
      "text/plain": [
       "\u001b[38;2;255;69;0mRMSE Change: \u001b[0m\u001b[1;36m81.52\u001b[0m\u001b[38;2;255;69;0m%\u001b[0m\n"
      ]
     },
     "metadata": {},
     "output_type": "display_data"
    },
    {
     "data": {
      "text/html": [
       "<pre style=\"white-space:pre;overflow-x:auto;line-height:normal;font-family:Menlo,'DejaVu Sans Mono',consolas,'Courier New',monospace\"><span style=\"color: #ff4500; text-decoration-color: #ff4500\">MAPE Change: </span><span style=\"color: #008080; text-decoration-color: #008080; font-weight: bold\">128.17</span><span style=\"color: #ff4500; text-decoration-color: #ff4500\">%</span>\n",
       "</pre>\n"
      ],
      "text/plain": [
       "\u001b[38;2;255;69;0mMAPE Change: \u001b[0m\u001b[1;36m128.17\u001b[0m\u001b[38;2;255;69;0m%\u001b[0m\n"
      ]
     },
     "metadata": {},
     "output_type": "display_data"
    }
   ],
   "source": [
    "mae_base, mae_dummy = (\n",
    "    metrics_base_with_lagged_feats.get(\"MAE\"),\n",
    "    metrics_dummy.get(\"MAE\"),\n",
    ")\n",
    "rmse_base, rmse_dummy = (\n",
    "    metrics_base_with_lagged_feats.get(\"RMSE\"),\n",
    "    metrics_dummy.get(\"RMSE\"),\n",
    ")\n",
    "mape_base, mape_dummy = (\n",
    "    metrics_base_with_lagged_feats.get(\"MAPE\"),\n",
    "    metrics_dummy.get(\"MAPE\"),\n",
    ")\n",
    "\n",
    "console.print(\n",
    "    f\"MAE Change: {pct_change(old=mae_base, new=mae_dummy):.2f}%\", style=\"highlight\"\n",
    ")\n",
    "console.print(\n",
    "    f\"RMSE Change: {pct_change(old=rmse_base, new=rmse_dummy):.2f}%\", style=\"highlight\"\n",
    ")\n",
    "console.print(\n",
    "    f\"MAPE Change: {pct_change(old=mape_base, new=mape_dummy):.2f}%\", style=\"highlight\"\n",
    ")"
   ]
  },
  {
   "cell_type": "code",
   "execution_count": null,
   "id": "d39076b1",
   "metadata": {},
   "outputs": [],
   "source": []
  },
  {
   "cell_type": "code",
   "execution_count": null,
   "id": "89dad221",
   "metadata": {},
   "outputs": [],
   "source": []
  },
  {
   "cell_type": "code",
   "execution_count": null,
   "id": "352f0e96",
   "metadata": {},
   "outputs": [],
   "source": []
  },
  {
   "cell_type": "code",
   "execution_count": null,
   "id": "3438ed2e",
   "metadata": {},
   "outputs": [],
   "source": []
  },
  {
   "cell_type": "code",
   "execution_count": null,
   "id": "cbfe7caf",
   "metadata": {},
   "outputs": [],
   "source": []
  },
  {
   "cell_type": "code",
   "execution_count": null,
   "id": "1061c811",
   "metadata": {},
   "outputs": [],
   "source": []
  },
  {
   "cell_type": "code",
   "execution_count": null,
   "id": "5428fb74",
   "metadata": {},
   "outputs": [],
   "source": []
  }
 ],
 "metadata": {
  "kernelspec": {
   "display_name": "Bike-Rental-Prediction (3.12.11)",
   "language": "python",
   "name": "python3"
  },
  "language_info": {
   "codemirror_mode": {
    "name": "ipython",
    "version": 3
   },
   "file_extension": ".py",
   "mimetype": "text/x-python",
   "name": "python",
   "nbconvert_exporter": "python",
   "pygments_lexer": "ipython3",
   "version": "3.12.11"
  }
 },
 "nbformat": 4,
 "nbformat_minor": 5
}
