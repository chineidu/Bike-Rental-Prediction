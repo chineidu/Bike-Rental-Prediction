{
 "cells": [
  {
   "cell_type": "markdown",
   "id": "236f62b9",
   "metadata": {},
   "source": [
    "# Lab For Experimentation"
   ]
  },
  {
   "cell_type": "code",
   "execution_count": 1,
   "id": "917effb0",
   "metadata": {},
   "outputs": [],
   "source": [
    "import warnings\n",
    "\n",
    "import numpy as np\n",
    "import pandas as pd\n",
    "import polars as pl\n",
    "from rich.console import Console\n",
    "from rich.theme import Theme\n",
    "\n",
    "custom_theme = Theme(\n",
    "    {\n",
    "        \"white\": \"#FFFFFF\",  # Bright white\n",
    "        \"info\": \"#00FF00\",  # Bright green\n",
    "        \"warning\": \"#FFD700\",  # Bright gold\n",
    "        \"error\": \"#FF1493\",  # Deep pink\n",
    "        \"success\": \"#00FFFF\",  # Cyan\n",
    "        \"highlight\": \"#FF4500\",  # Orange-red\n",
    "    }\n",
    ")\n",
    "console = Console(theme=custom_theme)\n",
    "\n",
    "# Visualization\n",
    "# import matplotlib.pyplot as plt\n",
    "\n",
    "# NumPy settings\n",
    "np.set_printoptions(precision=4)\n",
    "\n",
    "# Pandas settings\n",
    "pd.options.display.max_rows = 1_000\n",
    "pd.options.display.max_columns = 1_000\n",
    "pd.options.display.max_colwidth = 600\n",
    "\n",
    "# Polars settings\n",
    "pl.Config.set_fmt_str_lengths(1_000)\n",
    "pl.Config.set_tbl_cols(n=1_000)\n",
    "pl.Config.set_tbl_rows(n=200)\n",
    "\n",
    "warnings.filterwarnings(\"ignore\")\n",
    "\n",
    "# Black code formatter (Optional)\n",
    "%load_ext lab_black\n",
    "\n",
    "# auto reload imports\n",
    "%load_ext autoreload\n",
    "%autoreload 2"
   ]
  },
  {
   "cell_type": "code",
   "execution_count": 2,
   "id": "228c8d0e",
   "metadata": {},
   "outputs": [],
   "source": [
    "def go_up_from_current_directory(*, go_up: int = 1) -> None:\n",
    "    \"\"\"This is used to up a number of directories.\n",
    "\n",
    "    Params:\n",
    "    -------\n",
    "    go_up: int, default=1\n",
    "        This indicates the number of times to go back up from the current directory.\n",
    "\n",
    "    Returns:\n",
    "    --------\n",
    "    None\n",
    "    \"\"\"\n",
    "    import os\n",
    "    import sys\n",
    "\n",
    "    CONST: str = \"../\"\n",
    "    NUM: str = CONST * go_up\n",
    "\n",
    "    # Goto the previous directory\n",
    "    prev_directory = os.path.join(os.path.dirname(__name__), NUM)\n",
    "    # Get the 'absolute path' of the previous directory\n",
    "    abs_path_prev_directory = os.path.abspath(prev_directory)\n",
    "\n",
    "    # Add the path to the System paths\n",
    "    sys.path.insert(0, abs_path_prev_directory)\n",
    "    print(abs_path_prev_directory)"
   ]
  },
  {
   "cell_type": "code",
   "execution_count": 3,
   "id": "651f550e",
   "metadata": {},
   "outputs": [
    {
     "name": "stdout",
     "output_type": "stream",
     "text": [
      "/Users/mac/Desktop/Projects/Bike-Rental-Prediction\n"
     ]
    }
   ],
   "source": [
    "go_up_from_current_directory(go_up=1)"
   ]
  },
  {
   "cell_type": "code",
   "execution_count": 4,
   "id": "23621787",
   "metadata": {},
   "outputs": [
    {
     "data": {
      "text/html": [
       "<div><style>\n",
       ".dataframe > thead > tr,\n",
       ".dataframe > tbody > tr {\n",
       "  text-align: right;\n",
       "  white-space: pre-wrap;\n",
       "}\n",
       "</style>\n",
       "<small>shape: (5, 6)</small><table border=\"1\" class=\"dataframe\"><thead><tr><th>age</th><th>salary</th><th>score</th><th>department</th><th>experience</th><th>target</th></tr><tr><td>f64</td><td>f64</td><td>f64</td><td>str</td><td>str</td><td>f64</td></tr></thead><tbody><tr><td>38.047171</td><td>19259.722733</td><td>50.454524</td><td>&quot;Sales&quot;</td><td>&quot;Junior&quot;</td><td>89.792611</td></tr><tr><td>24.600159</td><td>11388.44911</td><td>85.953079</td><td>&quot;Engineering&quot;</td><td>&quot;Mid&quot;</td><td>83.077468</td></tr><tr><td>42.504512</td><td>15860.245889</td><td>44.825235</td><td>&quot;Sales&quot;</td><td>&quot;Junior&quot;</td><td>74.819551</td></tr><tr><td>44.405647</td><td>6392.342913</td><td>27.948737</td><td>&quot;Sales&quot;</td><td>&quot;Junior&quot;</td><td>70.27595</td></tr><tr><td>15.489648</td><td>54707.920841</td><td>85.547536</td><td>&quot;Engineering&quot;</td><td>&quot;Mid&quot;</td><td>111.400016</td></tr></tbody></table></div>"
      ],
      "text/plain": [
       "shape: (5, 6)\n",
       "┌───────────┬──────────────┬───────────┬─────────────┬────────────┬────────────┐\n",
       "│ age       ┆ salary       ┆ score     ┆ department  ┆ experience ┆ target     │\n",
       "│ ---       ┆ ---          ┆ ---       ┆ ---         ┆ ---        ┆ ---        │\n",
       "│ f64       ┆ f64          ┆ f64       ┆ str         ┆ str        ┆ f64        │\n",
       "╞═══════════╪══════════════╪═══════════╪═════════════╪════════════╪════════════╡\n",
       "│ 38.047171 ┆ 19259.722733 ┆ 50.454524 ┆ Sales       ┆ Junior     ┆ 89.792611  │\n",
       "│ 24.600159 ┆ 11388.44911  ┆ 85.953079 ┆ Engineering ┆ Mid        ┆ 83.077468  │\n",
       "│ 42.504512 ┆ 15860.245889 ┆ 44.825235 ┆ Sales       ┆ Junior     ┆ 74.819551  │\n",
       "│ 44.405647 ┆ 6392.342913  ┆ 27.948737 ┆ Sales       ┆ Junior     ┆ 70.27595   │\n",
       "│ 15.489648 ┆ 54707.920841 ┆ 85.547536 ┆ Engineering ┆ Mid        ┆ 111.400016 │\n",
       "└───────────┴──────────────┴───────────┴─────────────┴────────────┴────────────┘"
      ]
     },
     "execution_count": 4,
     "metadata": {},
     "output_type": "execute_result"
    }
   ],
   "source": [
    "# Create sample data\n",
    "rng = np.random.default_rng(42)\n",
    "dummy_data = pl.DataFrame(\n",
    "    {\n",
    "        \"age\": rng.normal(35, 10, 1000),\n",
    "        \"salary\": rng.exponential(50000, 1000),\n",
    "        \"score\": rng.uniform(0, 100, 1000),\n",
    "        \"department\": rng.choice([\"Sales\", \"Engineering\", \"Marketing\"], 1000),\n",
    "        \"experience\": rng.choice([\"Junior\", \"Mid\", \"Senior\"], 1000, p=[0.4, 0.4, 0.2]),\n",
    "        \"target\": rng.normal(75, 15, 1000),\n",
    "    }\n",
    ")\n",
    "dummy_data.head()"
   ]
  },
  {
   "cell_type": "code",
   "execution_count": 5,
   "id": "7cc46afe",
   "metadata": {},
   "outputs": [],
   "source": [
    "from src.utilities.data_validator import data_validator"
   ]
  },
  {
   "cell_type": "code",
   "execution_count": null,
   "id": "d1620db1",
   "metadata": {},
   "outputs": [],
   "source": [
    "pandas_df = dummy_data.to_pandas()"
   ]
  },
  {
   "cell_type": "code",
   "execution_count": 10,
   "id": "92a9e93f",
   "metadata": {},
   "outputs": [
    {
     "data": {
      "text/plain": [
       "{'data_schema': {'numeric': {'age': 'Float64',\n",
       "   'salary': 'Float64',\n",
       "   'score': 'Float64',\n",
       "   'target': 'Float64'},\n",
       "  'string': {'department': 'String', 'experience': 'String'}},\n",
       " 'data_shape': {'total_rows': 1000,\n",
       "  'total_columns': 6,\n",
       "  'number_of_numeric_columns': 4,\n",
       "  'number_of_string_columns': 2},\n",
       " 'summary_statistics': {'numeric': [{'column': 'age',\n",
       "    'mean': np.float64(34.71),\n",
       "    'median': np.float64(35.06),\n",
       "    'mode': [-1.484128252147836,\n",
       "     5.354711621583488,\n",
       "     5.694056241472243,\n",
       "     8.27165566897062,\n",
       "     9.333415590687025],\n",
       "    'std': np.float64(9.89),\n",
       "    'variance': np.float64(97.86),\n",
       "    'range': np.float64(68.27),\n",
       "    'min': np.float64(-1.484128252147836),\n",
       "    'max': np.float64(66.78853679367535),\n",
       "    'count': np.int64(1000),\n",
       "    'missing_values': np.int64(0),\n",
       "    'missing_pct': np.float64(0.0),\n",
       "    'unique_values': 1000},\n",
       "   {'column': 'salary',\n",
       "    'mean': np.float64(50779.11),\n",
       "    'median': np.float64(35946.37),\n",
       "    'mode': [3.5613078892469914,\n",
       "     24.211398874060155,\n",
       "     69.04754231018997,\n",
       "     217.9790962482941,\n",
       "     258.1741230171644],\n",
       "    'std': np.float64(51331.62),\n",
       "    'variance': np.float64(2634935157.53),\n",
       "    'range': np.float64(380729.73),\n",
       "    'min': np.float64(3.5613078892469914),\n",
       "    'max': np.float64(380733.2959969836),\n",
       "    'count': np.int64(1000),\n",
       "    'missing_values': np.int64(0),\n",
       "    'missing_pct': np.float64(0.0),\n",
       "    'unique_values': 1000},\n",
       "   {'column': 'score',\n",
       "    'mean': np.float64(49.57),\n",
       "    'median': np.float64(49.89),\n",
       "    'mode': [0.09899939263861013,\n",
       "     0.27072736757871585,\n",
       "     0.38941463811326127,\n",
       "     0.4857337777279036,\n",
       "     0.49849652944728984],\n",
       "    'std': np.float64(28.78),\n",
       "    'variance': np.float64(828.26),\n",
       "    'range': np.float64(99.88),\n",
       "    'min': np.float64(0.09899939263861013),\n",
       "    'max': np.float64(99.97653369143438),\n",
       "    'count': np.int64(1000),\n",
       "    'missing_values': np.int64(0),\n",
       "    'missing_pct': np.float64(0.0),\n",
       "    'unique_values': 1000},\n",
       "   {'column': 'target',\n",
       "    'mean': np.float64(74.83),\n",
       "    'median': np.float64(75.01),\n",
       "    'mode': [27.84500546962884,\n",
       "     28.342679023209936,\n",
       "     28.904545937680503,\n",
       "     31.95569962717565,\n",
       "     32.81479509740968],\n",
       "    'std': np.float64(15.03),\n",
       "    'variance': np.float64(226.0),\n",
       "    'range': np.float64(95.77),\n",
       "    'min': np.float64(27.84500546962884),\n",
       "    'max': np.float64(123.61888615465179),\n",
       "    'count': np.int64(1000),\n",
       "    'missing_values': np.int64(0),\n",
       "    'missing_pct': np.float64(0.0),\n",
       "    'unique_values': 1000}],\n",
       "  'categorical': [{'column': 'department',\n",
       "    'total_count': np.int64(1000),\n",
       "    'unique_values': 3,\n",
       "    'value_counts': [['Sales', 367], ['Marketing', 319], ['Engineering', 314]],\n",
       "    'missing_values': np.int64(0),\n",
       "    'missing_pct': np.float64(0.0)},\n",
       "   {'column': 'experience',\n",
       "    'total_count': np.int64(1000),\n",
       "    'unique_values': 3,\n",
       "    'value_counts': [['Junior', 415], ['Mid', 398], ['Senior', 187]],\n",
       "    'missing_values': np.int64(0),\n",
       "    'missing_pct': np.float64(0.0)}]},\n",
       " 'other_info': {'num_unique_numeric_rows': {'age': 1000,\n",
       "   'salary': 1000,\n",
       "   'score': 1000,\n",
       "   'target': 1000},\n",
       "  'num_unique_string_rows': {'department': 3, 'experience': 3},\n",
       "  'data_nulls': {'age': 0,\n",
       "   'salary': 0,\n",
       "   'score': 0,\n",
       "   'department': 0,\n",
       "   'experience': 0,\n",
       "   'target': 0},\n",
       "  'total_nulls': 0,\n",
       "  'num_duplicated_rows': np.int64(0),\n",
       "  'memory_usage_MB': np.float64(0.14),\n",
       "  'validation_timestamp': '2025-09-27T14:55:33+01:00'}}"
      ]
     },
     "execution_count": 10,
     "metadata": {},
     "output_type": "execute_result"
    }
   ],
   "source": [
    "data_validator(pandas_df)"
   ]
  },
  {
   "cell_type": "code",
   "execution_count": null,
   "id": "72eea5119410473aa328ad9291626812",
   "metadata": {},
   "outputs": [],
   "source": []
  },
  {
   "cell_type": "code",
   "execution_count": null,
   "id": "b17c2d49",
   "metadata": {},
   "outputs": [],
   "source": []
  },
  {
   "cell_type": "code",
   "execution_count": null,
   "id": "8edb47106e1a46a883d545849b8ab81b",
   "metadata": {},
   "outputs": [],
   "source": []
  },
  {
   "cell_type": "code",
   "execution_count": null,
   "id": "10185d26023b46108eb7d9f57d49d2b3",
   "metadata": {},
   "outputs": [],
   "source": []
  },
  {
   "cell_type": "code",
   "execution_count": null,
   "id": "b22321e2",
   "metadata": {},
   "outputs": [],
   "source": []
  },
  {
   "cell_type": "code",
   "execution_count": null,
   "id": "d469c703",
   "metadata": {},
   "outputs": [],
   "source": []
  },
  {
   "cell_type": "code",
   "execution_count": null,
   "id": "f97805aa",
   "metadata": {},
   "outputs": [],
   "source": []
  },
  {
   "cell_type": "code",
   "execution_count": null,
   "id": "7ee873cb",
   "metadata": {},
   "outputs": [],
   "source": []
  },
  {
   "cell_type": "code",
   "execution_count": null,
   "id": "d5e2a4ef",
   "metadata": {},
   "outputs": [],
   "source": []
  },
  {
   "cell_type": "code",
   "execution_count": null,
   "id": "5428fb74",
   "metadata": {},
   "outputs": [],
   "source": []
  }
 ],
 "metadata": {
  "kernelspec": {
   "display_name": "Bike-Rental-Prediction (3.12.11)",
   "language": "python",
   "name": "python3"
  },
  "language_info": {
   "codemirror_mode": {
    "name": "ipython",
    "version": 3
   },
   "file_extension": ".py",
   "mimetype": "text/x-python",
   "name": "python",
   "nbconvert_exporter": "python",
   "pygments_lexer": "ipython3",
   "version": "3.12.11"
  }
 },
 "nbformat": 4,
 "nbformat_minor": 5
}
