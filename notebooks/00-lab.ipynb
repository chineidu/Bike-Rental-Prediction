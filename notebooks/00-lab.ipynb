{
 "cells": [
  {
   "cell_type": "code",
   "execution_count": 1,
   "id": "917effb0",
   "metadata": {},
   "outputs": [],
   "source": [
    "import warnings\n",
    "from typing import Any, Literal\n",
    "\n",
    "import numpy as np\n",
    "import pandas as pd\n",
    "import polars as pl\n",
    "import polars.selectors as cs\n",
    "from rich.console import Console\n",
    "from rich.theme import Theme\n",
    "\n",
    "custom_theme = Theme(\n",
    "    {\n",
    "        \"white\": \"#FFFFFF\",  # Bright white\n",
    "        \"info\": \"#00FF00\",  # Bright green\n",
    "        \"warning\": \"#FFD700\",  # Bright gold\n",
    "        \"error\": \"#FF1493\",  # Deep pink\n",
    "        \"success\": \"#00FFFF\",  # Cyan\n",
    "        \"highlight\": \"#FF4500\",  # Orange-red\n",
    "    }\n",
    ")\n",
    "console = Console(theme=custom_theme)\n",
    "\n",
    "# Visualization\n",
    "# import matplotlib.pyplot as plt\n",
    "\n",
    "# NumPy settings\n",
    "np.set_printoptions(precision=4)\n",
    "\n",
    "# Pandas settings\n",
    "pd.options.display.max_rows = 1_000\n",
    "pd.options.display.max_columns = 1_000\n",
    "pd.options.display.max_colwidth = 600\n",
    "\n",
    "# Polars settings\n",
    "pl.Config.set_fmt_str_lengths(1_000)\n",
    "pl.Config.set_tbl_cols(n=1_000)\n",
    "pl.Config.set_tbl_rows(n=200)\n",
    "\n",
    "warnings.filterwarnings(\"ignore\")\n",
    "\n",
    "# Black code formatter (Optional)\n",
    "%load_ext lab_black\n",
    "\n",
    "# auto reload imports\n",
    "%load_ext autoreload\n",
    "%autoreload 2"
   ]
  },
  {
   "cell_type": "code",
   "execution_count": 2,
   "id": "228c8d0e",
   "metadata": {},
   "outputs": [],
   "source": [
    "def go_up_from_current_directory(*, go_up: int = 1) -> None:\n",
    "    \"\"\"This is used to up a number of directories.\n",
    "\n",
    "    Params:\n",
    "    -------\n",
    "    go_up: int, default=1\n",
    "        This indicates the number of times to go back up from the current directory.\n",
    "\n",
    "    Returns:\n",
    "    --------\n",
    "    None\n",
    "    \"\"\"\n",
    "    import os\n",
    "    import sys\n",
    "\n",
    "    CONST: str = \"../\"\n",
    "    NUM: str = CONST * go_up\n",
    "\n",
    "    # Goto the previous directory\n",
    "    prev_directory = os.path.join(os.path.dirname(__name__), NUM)\n",
    "    # Get the 'absolute path' of the previous directory\n",
    "    abs_path_prev_directory = os.path.abspath(prev_directory)\n",
    "\n",
    "    # Add the path to the System paths\n",
    "    sys.path.insert(0, abs_path_prev_directory)\n",
    "    print(abs_path_prev_directory)"
   ]
  },
  {
   "cell_type": "code",
   "execution_count": 3,
   "id": "a395f863",
   "metadata": {},
   "outputs": [
    {
     "data": {
      "text/html": [
       "<pre style=\"white-space:pre;overflow-x:auto;line-height:normal;font-family:Menlo,'DejaVu Sans Mono',consolas,'Courier New',monospace\"><span style=\"color: #00ff00; text-decoration-color: #00ff00\">Shape: </span><span style=\"color: #00ff00; text-decoration-color: #00ff00; font-weight: bold\">(</span><span style=\"color: #008080; text-decoration-color: #008080; font-weight: bold\">13903</span><span style=\"color: #00ff00; text-decoration-color: #00ff00\">, </span><span style=\"color: #008080; text-decoration-color: #008080; font-weight: bold\">16</span><span style=\"color: #00ff00; text-decoration-color: #00ff00; font-weight: bold\">)</span>\n",
       "</pre>\n"
      ],
      "text/plain": [
       "\u001b[38;2;0;255;0mShape: \u001b[0m\u001b[1;38;2;0;255;0m(\u001b[0m\u001b[1;36m13903\u001b[0m\u001b[38;2;0;255;0m, \u001b[0m\u001b[1;36m16\u001b[0m\u001b[1;38;2;0;255;0m)\u001b[0m\n"
      ]
     },
     "metadata": {},
     "output_type": "display_data"
    },
    {
     "data": {
      "text/html": [
       "<div><style>\n",
       ".dataframe > thead > tr,\n",
       ".dataframe > tbody > tr {\n",
       "  text-align: right;\n",
       "  white-space: pre-wrap;\n",
       "}\n",
       "</style>\n",
       "<small>shape: (5, 16)</small><table border=\"1\" class=\"dataframe\"><thead><tr><th>datetime</th><th>season</th><th>yr</th><th>mnth</th><th>hr</th><th>holiday</th><th>weekday</th><th>workingday</th><th>weathersit</th><th>temp</th><th>atemp</th><th>hum</th><th>windspeed</th><th>casual</th><th>registered</th><th>cnt</th></tr><tr><td>str</td><td>i64</td><td>i64</td><td>i64</td><td>i64</td><td>i64</td><td>i64</td><td>i64</td><td>i64</td><td>f64</td><td>f64</td><td>f64</td><td>f64</td><td>i64</td><td>i64</td><td>i64</td></tr></thead><tbody><tr><td>&quot;2011-01-01 00:00:00&quot;</td><td>1</td><td>0</td><td>1</td><td>0</td><td>0</td><td>6</td><td>0</td><td>1</td><td>0.24</td><td>0.2879</td><td>0.81</td><td>0.0</td><td>3</td><td>13</td><td>16</td></tr><tr><td>&quot;2011-01-01 01:00:00&quot;</td><td>1</td><td>0</td><td>1</td><td>1</td><td>0</td><td>6</td><td>0</td><td>1</td><td>0.22</td><td>0.2727</td><td>0.8</td><td>0.0</td><td>8</td><td>32</td><td>40</td></tr><tr><td>&quot;2011-01-01 02:00:00&quot;</td><td>1</td><td>0</td><td>1</td><td>2</td><td>0</td><td>6</td><td>0</td><td>1</td><td>0.22</td><td>0.2727</td><td>0.8</td><td>0.0</td><td>5</td><td>27</td><td>32</td></tr><tr><td>&quot;2011-01-01 03:00:00&quot;</td><td>1</td><td>0</td><td>1</td><td>3</td><td>0</td><td>6</td><td>0</td><td>1</td><td>0.24</td><td>0.2879</td><td>0.75</td><td>0.0</td><td>3</td><td>10</td><td>13</td></tr><tr><td>&quot;2011-01-01 04:00:00&quot;</td><td>1</td><td>0</td><td>1</td><td>4</td><td>0</td><td>6</td><td>0</td><td>1</td><td>0.24</td><td>0.2879</td><td>0.75</td><td>0.0</td><td>0</td><td>1</td><td>1</td></tr></tbody></table></div>"
      ],
      "text/plain": [
       "shape: (5, 16)\n",
       "┌─────┬─────┬─────┬─────┬─────┬─────┬─────┬─────┬─────┬─────┬─────┬─────┬─────┬─────┬────────┬─────┐\n",
       "│ dat ┆ sea ┆ yr  ┆ mnt ┆ hr  ┆ hol ┆ wee ┆ wor ┆ wea ┆ tem ┆ ate ┆ hum ┆ win ┆ cas ┆ regist ┆ cnt │\n",
       "│ eti ┆ son ┆ --- ┆ h   ┆ --- ┆ ida ┆ kda ┆ kin ┆ the ┆ p   ┆ mp  ┆ --- ┆ dsp ┆ ual ┆ ered   ┆ --- │\n",
       "│ me  ┆ --- ┆ i64 ┆ --- ┆ i64 ┆ y   ┆ y   ┆ gda ┆ rsi ┆ --- ┆ --- ┆ f64 ┆ eed ┆ --- ┆ ---    ┆ i64 │\n",
       "│ --- ┆ i64 ┆     ┆ i64 ┆     ┆ --- ┆ --- ┆ y   ┆ t   ┆ f64 ┆ f64 ┆     ┆ --- ┆ i64 ┆ i64    ┆     │\n",
       "│ str ┆     ┆     ┆     ┆     ┆ i64 ┆ i64 ┆ --- ┆ --- ┆     ┆     ┆     ┆ f64 ┆     ┆        ┆     │\n",
       "│     ┆     ┆     ┆     ┆     ┆     ┆     ┆ i64 ┆ i64 ┆     ┆     ┆     ┆     ┆     ┆        ┆     │\n",
       "╞═════╪═════╪═════╪═════╪═════╪═════╪═════╪═════╪═════╪═════╪═════╪═════╪═════╪═════╪════════╪═════╡\n",
       "│ 201 ┆ 1   ┆ 0   ┆ 1   ┆ 0   ┆ 0   ┆ 6   ┆ 0   ┆ 1   ┆ 0.2 ┆ 0.2 ┆ 0.8 ┆ 0.0 ┆ 3   ┆ 13     ┆ 16  │\n",
       "│ 1-0 ┆     ┆     ┆     ┆     ┆     ┆     ┆     ┆     ┆ 4   ┆ 879 ┆ 1   ┆     ┆     ┆        ┆     │\n",
       "│ 1-0 ┆     ┆     ┆     ┆     ┆     ┆     ┆     ┆     ┆     ┆     ┆     ┆     ┆     ┆        ┆     │\n",
       "│ 1   ┆     ┆     ┆     ┆     ┆     ┆     ┆     ┆     ┆     ┆     ┆     ┆     ┆     ┆        ┆     │\n",
       "│ 00: ┆     ┆     ┆     ┆     ┆     ┆     ┆     ┆     ┆     ┆     ┆     ┆     ┆     ┆        ┆     │\n",
       "│ 00: ┆     ┆     ┆     ┆     ┆     ┆     ┆     ┆     ┆     ┆     ┆     ┆     ┆     ┆        ┆     │\n",
       "│ 00  ┆     ┆     ┆     ┆     ┆     ┆     ┆     ┆     ┆     ┆     ┆     ┆     ┆     ┆        ┆     │\n",
       "│ 201 ┆ 1   ┆ 0   ┆ 1   ┆ 1   ┆ 0   ┆ 6   ┆ 0   ┆ 1   ┆ 0.2 ┆ 0.2 ┆ 0.8 ┆ 0.0 ┆ 8   ┆ 32     ┆ 40  │\n",
       "│ 1-0 ┆     ┆     ┆     ┆     ┆     ┆     ┆     ┆     ┆ 2   ┆ 727 ┆     ┆     ┆     ┆        ┆     │\n",
       "│ 1-0 ┆     ┆     ┆     ┆     ┆     ┆     ┆     ┆     ┆     ┆     ┆     ┆     ┆     ┆        ┆     │\n",
       "│ 1   ┆     ┆     ┆     ┆     ┆     ┆     ┆     ┆     ┆     ┆     ┆     ┆     ┆     ┆        ┆     │\n",
       "│ 01: ┆     ┆     ┆     ┆     ┆     ┆     ┆     ┆     ┆     ┆     ┆     ┆     ┆     ┆        ┆     │\n",
       "│ 00: ┆     ┆     ┆     ┆     ┆     ┆     ┆     ┆     ┆     ┆     ┆     ┆     ┆     ┆        ┆     │\n",
       "│ 00  ┆     ┆     ┆     ┆     ┆     ┆     ┆     ┆     ┆     ┆     ┆     ┆     ┆     ┆        ┆     │\n",
       "│ 201 ┆ 1   ┆ 0   ┆ 1   ┆ 2   ┆ 0   ┆ 6   ┆ 0   ┆ 1   ┆ 0.2 ┆ 0.2 ┆ 0.8 ┆ 0.0 ┆ 5   ┆ 27     ┆ 32  │\n",
       "│ 1-0 ┆     ┆     ┆     ┆     ┆     ┆     ┆     ┆     ┆ 2   ┆ 727 ┆     ┆     ┆     ┆        ┆     │\n",
       "│ 1-0 ┆     ┆     ┆     ┆     ┆     ┆     ┆     ┆     ┆     ┆     ┆     ┆     ┆     ┆        ┆     │\n",
       "│ 1   ┆     ┆     ┆     ┆     ┆     ┆     ┆     ┆     ┆     ┆     ┆     ┆     ┆     ┆        ┆     │\n",
       "│ 02: ┆     ┆     ┆     ┆     ┆     ┆     ┆     ┆     ┆     ┆     ┆     ┆     ┆     ┆        ┆     │\n",
       "│ 00: ┆     ┆     ┆     ┆     ┆     ┆     ┆     ┆     ┆     ┆     ┆     ┆     ┆     ┆        ┆     │\n",
       "│ 00  ┆     ┆     ┆     ┆     ┆     ┆     ┆     ┆     ┆     ┆     ┆     ┆     ┆     ┆        ┆     │\n",
       "│ 201 ┆ 1   ┆ 0   ┆ 1   ┆ 3   ┆ 0   ┆ 6   ┆ 0   ┆ 1   ┆ 0.2 ┆ 0.2 ┆ 0.7 ┆ 0.0 ┆ 3   ┆ 10     ┆ 13  │\n",
       "│ 1-0 ┆     ┆     ┆     ┆     ┆     ┆     ┆     ┆     ┆ 4   ┆ 879 ┆ 5   ┆     ┆     ┆        ┆     │\n",
       "│ 1-0 ┆     ┆     ┆     ┆     ┆     ┆     ┆     ┆     ┆     ┆     ┆     ┆     ┆     ┆        ┆     │\n",
       "│ 1   ┆     ┆     ┆     ┆     ┆     ┆     ┆     ┆     ┆     ┆     ┆     ┆     ┆     ┆        ┆     │\n",
       "│ 03: ┆     ┆     ┆     ┆     ┆     ┆     ┆     ┆     ┆     ┆     ┆     ┆     ┆     ┆        ┆     │\n",
       "│ 00: ┆     ┆     ┆     ┆     ┆     ┆     ┆     ┆     ┆     ┆     ┆     ┆     ┆     ┆        ┆     │\n",
       "│ 00  ┆     ┆     ┆     ┆     ┆     ┆     ┆     ┆     ┆     ┆     ┆     ┆     ┆     ┆        ┆     │\n",
       "│ 201 ┆ 1   ┆ 0   ┆ 1   ┆ 4   ┆ 0   ┆ 6   ┆ 0   ┆ 1   ┆ 0.2 ┆ 0.2 ┆ 0.7 ┆ 0.0 ┆ 0   ┆ 1      ┆ 1   │\n",
       "│ 1-0 ┆     ┆     ┆     ┆     ┆     ┆     ┆     ┆     ┆ 4   ┆ 879 ┆ 5   ┆     ┆     ┆        ┆     │\n",
       "│ 1-0 ┆     ┆     ┆     ┆     ┆     ┆     ┆     ┆     ┆     ┆     ┆     ┆     ┆     ┆        ┆     │\n",
       "│ 1   ┆     ┆     ┆     ┆     ┆     ┆     ┆     ┆     ┆     ┆     ┆     ┆     ┆     ┆        ┆     │\n",
       "│ 04: ┆     ┆     ┆     ┆     ┆     ┆     ┆     ┆     ┆     ┆     ┆     ┆     ┆     ┆        ┆     │\n",
       "│ 00: ┆     ┆     ┆     ┆     ┆     ┆     ┆     ┆     ┆     ┆     ┆     ┆     ┆     ┆        ┆     │\n",
       "│ 00  ┆     ┆     ┆     ┆     ┆     ┆     ┆     ┆     ┆     ┆     ┆     ┆     ┆     ┆        ┆     │\n",
       "└─────┴─────┴─────┴─────┴─────┴─────┴─────┴─────┴─────┴─────┴─────┴─────┴─────┴─────┴────────┴─────┘"
      ]
     },
     "execution_count": 3,
     "metadata": {},
     "output_type": "execute_result"
    }
   ],
   "source": [
    "fp: str = \"../../../../Documents/data_dump/bike_data/database.parquet\"\n",
    "data: pl.DataFrame = pl.read_parquet(fp)\n",
    "console.print(f\"Shape: {data.shape}\", style=\"info\")\n",
    "\n",
    "data.head()"
   ]
  },
  {
   "cell_type": "code",
   "execution_count": 4,
   "id": "9b970574",
   "metadata": {},
   "outputs": [
    {
     "name": "stdout",
     "output_type": "stream",
     "text": [
      "3\n"
     ]
    }
   ],
   "source": [
    "import narwhals as nw\n",
    "from narwhals.typing import IntoDataFrameT, IntoFrameT\n",
    "\n",
    "\n",
    "def func(df: IntoDataFrameT, s: nw.Series, col_name: str) -> int:\n",
    "    return nw.from_native(df).filter(nw.col(col_name).is_in(s)).shape[0]\n",
    "\n",
    "\n",
    "df = pd.DataFrame({\"a\": [1, 1, 2, 2, 3], \"b\": [4, 5, 6, 7, 8]})\n",
    "s = pd.Series([1, 3])\n",
    "print(func(df, s.to_numpy(), \"a\"))"
   ]
  },
  {
   "cell_type": "code",
   "execution_count": 5,
   "id": "8bd629aa",
   "metadata": {},
   "outputs": [
    {
     "name": "stdout",
     "output_type": "stream",
     "text": [
      "/Users/mac/Desktop/Projects/Bike-Rental-Prediction\n"
     ]
    }
   ],
   "source": [
    "go_up_from_current_directory(go_up=1)\n",
    "from eda import EDA  # noqa: E402"
   ]
  },
  {
   "cell_type": "code",
   "execution_count": 80,
   "id": "2b173102",
   "metadata": {},
   "outputs": [
    {
     "name": "stdout",
     "output_type": "stream",
     "text": [
      "============================================================\n",
      "EXPLORATORY DATA ANALYSIS SUMMARY\n",
      "============================================================\n",
      "* Dataset Shape: (1000, 6)\n",
      "* Numeric Columns: 4\n",
      "* Categorical Columns: 2\n",
      "* Total Missing Values: 0\n",
      "* Memory Usage: 0.14 MB\n",
      "* Target Column: target\n",
      "\n",
      "* Numeric Columns:\n",
      "  - age\n",
      "  - salary\n",
      "  - score\n",
      "  - target\n",
      "\n",
      "* Categorical Columns:\n",
      "  - department\n",
      "  - experience\n",
      "============================================================\n",
      "\n",
      "\n",
      "Numeric Statistics:\n",
      "--------------------\n"
     ]
    },
    {
     "data": {
      "text/html": [
       "<div>\n",
       "<style scoped>\n",
       "    .dataframe tbody tr th:only-of-type {\n",
       "        vertical-align: middle;\n",
       "    }\n",
       "\n",
       "    .dataframe tbody tr th {\n",
       "        vertical-align: top;\n",
       "    }\n",
       "\n",
       "    .dataframe thead th {\n",
       "        text-align: right;\n",
       "    }\n",
       "</style>\n",
       "<table border=\"1\" class=\"dataframe\">\n",
       "  <thead>\n",
       "    <tr style=\"text-align: right;\">\n",
       "      <th></th>\n",
       "      <th>Column</th>\n",
       "      <th>Count</th>\n",
       "      <th>Missing</th>\n",
       "      <th>Missing_Pct</th>\n",
       "      <th>Unique</th>\n",
       "      <th>Mean</th>\n",
       "      <th>Median</th>\n",
       "      <th>Mode</th>\n",
       "      <th>Std</th>\n",
       "      <th>Variance</th>\n",
       "      <th>Min</th>\n",
       "      <th>Max</th>\n",
       "      <th>Range</th>\n",
       "      <th>IQR</th>\n",
       "      <th>Q25</th>\n",
       "      <th>Q50</th>\n",
       "      <th>Q75</th>\n",
       "      <th>Skewness</th>\n",
       "      <th>Kurtosis</th>\n",
       "      <th>Outliers_IQR</th>\n",
       "      <th>Outliers_ZScore</th>\n",
       "    </tr>\n",
       "  </thead>\n",
       "  <tbody>\n",
       "    <tr>\n",
       "      <th>0</th>\n",
       "      <td>age</td>\n",
       "      <td>1000</td>\n",
       "      <td>0</td>\n",
       "      <td>0.0</td>\n",
       "      <td>1000</td>\n",
       "      <td>34.711084</td>\n",
       "      <td>35.061779</td>\n",
       "      <td>-1.484128</td>\n",
       "      <td>9.892171</td>\n",
       "      <td>9.785504e+01</td>\n",
       "      <td>-1.484128</td>\n",
       "      <td>66.788537</td>\n",
       "      <td>68.272665</td>\n",
       "      <td>12.861997</td>\n",
       "      <td>28.036871</td>\n",
       "      <td>35.061779</td>\n",
       "      <td>40.898867</td>\n",
       "      <td>-0.043754</td>\n",
       "      <td>0.091884</td>\n",
       "      <td>9</td>\n",
       "      <td>2</td>\n",
       "    </tr>\n",
       "    <tr>\n",
       "      <th>1</th>\n",
       "      <td>salary</td>\n",
       "      <td>1000</td>\n",
       "      <td>0</td>\n",
       "      <td>0.0</td>\n",
       "      <td>1000</td>\n",
       "      <td>50779.113101</td>\n",
       "      <td>35946.365196</td>\n",
       "      <td>3.561308</td>\n",
       "      <td>51331.619471</td>\n",
       "      <td>2.634935e+09</td>\n",
       "      <td>3.561308</td>\n",
       "      <td>380733.295997</td>\n",
       "      <td>380729.734689</td>\n",
       "      <td>52320.270647</td>\n",
       "      <td>15872.055529</td>\n",
       "      <td>35946.365196</td>\n",
       "      <td>68192.326176</td>\n",
       "      <td>2.195049</td>\n",
       "      <td>6.813502</td>\n",
       "      <td>59</td>\n",
       "      <td>20</td>\n",
       "    </tr>\n",
       "    <tr>\n",
       "      <th>2</th>\n",
       "      <td>score</td>\n",
       "      <td>1000</td>\n",
       "      <td>0</td>\n",
       "      <td>0.0</td>\n",
       "      <td>1000</td>\n",
       "      <td>49.574605</td>\n",
       "      <td>49.894015</td>\n",
       "      <td>0.098999</td>\n",
       "      <td>28.779592</td>\n",
       "      <td>8.282649e+02</td>\n",
       "      <td>0.098999</td>\n",
       "      <td>99.976534</td>\n",
       "      <td>99.877534</td>\n",
       "      <td>50.159562</td>\n",
       "      <td>24.523089</td>\n",
       "      <td>49.894015</td>\n",
       "      <td>74.682650</td>\n",
       "      <td>0.022874</td>\n",
       "      <td>-1.192196</td>\n",
       "      <td>0</td>\n",
       "      <td>0</td>\n",
       "    </tr>\n",
       "    <tr>\n",
       "      <th>3</th>\n",
       "      <td>target</td>\n",
       "      <td>1000</td>\n",
       "      <td>0</td>\n",
       "      <td>0.0</td>\n",
       "      <td>1000</td>\n",
       "      <td>74.829598</td>\n",
       "      <td>75.007343</td>\n",
       "      <td>27.845005</td>\n",
       "      <td>15.033180</td>\n",
       "      <td>2.259965e+02</td>\n",
       "      <td>27.845005</td>\n",
       "      <td>123.618886</td>\n",
       "      <td>95.773881</td>\n",
       "      <td>20.539317</td>\n",
       "      <td>64.520023</td>\n",
       "      <td>75.007343</td>\n",
       "      <td>85.059340</td>\n",
       "      <td>-0.050504</td>\n",
       "      <td>0.041808</td>\n",
       "      <td>9</td>\n",
       "      <td>5</td>\n",
       "    </tr>\n",
       "  </tbody>\n",
       "</table>\n",
       "</div>"
      ],
      "text/plain": [
       "   Column  Count  Missing  Missing_Pct  Unique          Mean        Median  \\\n",
       "0     age   1000        0          0.0    1000     34.711084     35.061779   \n",
       "1  salary   1000        0          0.0    1000  50779.113101  35946.365196   \n",
       "2   score   1000        0          0.0    1000     49.574605     49.894015   \n",
       "3  target   1000        0          0.0    1000     74.829598     75.007343   \n",
       "\n",
       "        Mode           Std      Variance        Min            Max  \\\n",
       "0  -1.484128      9.892171  9.785504e+01  -1.484128      66.788537   \n",
       "1   3.561308  51331.619471  2.634935e+09   3.561308  380733.295997   \n",
       "2   0.098999     28.779592  8.282649e+02   0.098999      99.976534   \n",
       "3  27.845005     15.033180  2.259965e+02  27.845005     123.618886   \n",
       "\n",
       "           Range           IQR           Q25           Q50           Q75  \\\n",
       "0      68.272665     12.861997     28.036871     35.061779     40.898867   \n",
       "1  380729.734689  52320.270647  15872.055529  35946.365196  68192.326176   \n",
       "2      99.877534     50.159562     24.523089     49.894015     74.682650   \n",
       "3      95.773881     20.539317     64.520023     75.007343     85.059340   \n",
       "\n",
       "   Skewness  Kurtosis  Outliers_IQR  Outliers_ZScore  \n",
       "0 -0.043754  0.091884             9                2  \n",
       "1  2.195049  6.813502            59               20  \n",
       "2  0.022874 -1.192196             0                0  \n",
       "3 -0.050504  0.041808             9                5  "
      ]
     },
     "metadata": {},
     "output_type": "display_data"
    },
    {
     "name": "stdout",
     "output_type": "stream",
     "text": [
      "\n",
      "Categorical Statistics:\n",
      "--------------------\n",
      "\n",
      "department:\n"
     ]
    },
    {
     "data": {
      "text/html": [
       "<div>\n",
       "<style scoped>\n",
       "    .dataframe tbody tr th:only-of-type {\n",
       "        vertical-align: middle;\n",
       "    }\n",
       "\n",
       "    .dataframe tbody tr th {\n",
       "        vertical-align: top;\n",
       "    }\n",
       "\n",
       "    .dataframe thead th {\n",
       "        text-align: right;\n",
       "    }\n",
       "</style>\n",
       "<table border=\"1\" class=\"dataframe\">\n",
       "  <thead>\n",
       "    <tr style=\"text-align: right;\">\n",
       "      <th></th>\n",
       "      <th>Category</th>\n",
       "      <th>Count</th>\n",
       "      <th>Percentage</th>\n",
       "    </tr>\n",
       "  </thead>\n",
       "  <tbody>\n",
       "    <tr>\n",
       "      <th>0</th>\n",
       "      <td>Sales</td>\n",
       "      <td>367</td>\n",
       "      <td>36.7</td>\n",
       "    </tr>\n",
       "    <tr>\n",
       "      <th>1</th>\n",
       "      <td>Marketing</td>\n",
       "      <td>319</td>\n",
       "      <td>31.9</td>\n",
       "    </tr>\n",
       "    <tr>\n",
       "      <th>2</th>\n",
       "      <td>Engineering</td>\n",
       "      <td>314</td>\n",
       "      <td>31.4</td>\n",
       "    </tr>\n",
       "  </tbody>\n",
       "</table>\n",
       "</div>"
      ],
      "text/plain": [
       "      Category  Count  Percentage\n",
       "0        Sales    367        36.7\n",
       "1    Marketing    319        31.9\n",
       "2  Engineering    314        31.4"
      ]
     },
     "metadata": {},
     "output_type": "display_data"
    },
    {
     "name": "stdout",
     "output_type": "stream",
     "text": [
      "\n",
      "experience:\n"
     ]
    },
    {
     "data": {
      "text/html": [
       "<div>\n",
       "<style scoped>\n",
       "    .dataframe tbody tr th:only-of-type {\n",
       "        vertical-align: middle;\n",
       "    }\n",
       "\n",
       "    .dataframe tbody tr th {\n",
       "        vertical-align: top;\n",
       "    }\n",
       "\n",
       "    .dataframe thead th {\n",
       "        text-align: right;\n",
       "    }\n",
       "</style>\n",
       "<table border=\"1\" class=\"dataframe\">\n",
       "  <thead>\n",
       "    <tr style=\"text-align: right;\">\n",
       "      <th></th>\n",
       "      <th>Category</th>\n",
       "      <th>Count</th>\n",
       "      <th>Percentage</th>\n",
       "    </tr>\n",
       "  </thead>\n",
       "  <tbody>\n",
       "    <tr>\n",
       "      <th>0</th>\n",
       "      <td>Junior</td>\n",
       "      <td>415</td>\n",
       "      <td>41.5</td>\n",
       "    </tr>\n",
       "    <tr>\n",
       "      <th>1</th>\n",
       "      <td>Mid</td>\n",
       "      <td>398</td>\n",
       "      <td>39.8</td>\n",
       "    </tr>\n",
       "    <tr>\n",
       "      <th>2</th>\n",
       "      <td>Senior</td>\n",
       "      <td>187</td>\n",
       "      <td>18.7</td>\n",
       "    </tr>\n",
       "  </tbody>\n",
       "</table>\n",
       "</div>"
      ],
      "text/plain": [
       "  Category  Count  Percentage\n",
       "0   Junior    415        41.5\n",
       "1      Mid    398        39.8\n",
       "2   Senior    187        18.7"
      ]
     },
     "metadata": {},
     "output_type": "display_data"
    }
   ],
   "source": [
    "# Create sample data\n",
    "rng = np.random.default_rng(42)\n",
    "dummy_data = pd.DataFrame(\n",
    "    {\n",
    "        \"age\": rng.normal(35, 10, 1000),\n",
    "        \"salary\": rng.exponential(50000, 1000),\n",
    "        \"score\": rng.uniform(0, 100, 1000),\n",
    "        \"department\": rng.choice([\"Sales\", \"Engineering\", \"Marketing\"], 1000),\n",
    "        \"experience\": rng.choice([\"Junior\", \"Mid\", \"Senior\"], 1000, p=[0.4, 0.4, 0.2]),\n",
    "        \"target\": rng.normal(75, 15, 1000),\n",
    "    }\n",
    ")\n",
    "\n",
    "# Initialize EDA\n",
    "eda = EDA(dummy_data, target_column=\"target\")\n",
    "\n",
    "# Print summary\n",
    "eda.print_summary()\n",
    "\n",
    "# Get numeric statistics\n",
    "print(\"\\nNumeric Statistics:\")\n",
    "print(\"--\" * 10)\n",
    "numeric_stats = eda.numeric_summary()\n",
    "display(numeric_stats)\n",
    "\n",
    "# Get categorical statistics\n",
    "print(\"\\nCategorical Statistics:\")\n",
    "print(\"--\" * 10)\n",
    "cat_stats = eda.categorical_summary()\n",
    "for col, stats in cat_stats.items():\n",
    "    print(f\"\\n{col}:\")\n",
    "    display(stats)"
   ]
  },
  {
   "cell_type": "code",
   "execution_count": 82,
   "id": "137b8bd0",
   "metadata": {},
   "outputs": [
    {
     "data": {
      "text/html": [
       "dyn int: 0.int_range([dyn int: 5])"
      ],
      "text/plain": [
       "<Expr ['dyn int: 0.int_range([dyn int:…'] at 0x14CDDB3B0>"
      ]
     },
     "execution_count": 82,
     "metadata": {},
     "output_type": "execute_result"
    }
   ],
   "source": [
    "eda._calculate_outliers_iqr(series=dummy_data[\"salary\"])\n",
    "pl.int_range(0, 5)"
   ]
  },
  {
   "cell_type": "code",
   "execution_count": 8,
   "id": "428f1b0c",
   "metadata": {},
   "outputs": [
    {
     "data": {
      "application/vnd.plotly.v1+json": {
       "config": {
        "plotlyServerURL": "https://plot.ly"
       },
       "data": [
        {
         "name": "age",
         "showlegend": false,
         "type": "histogram",
         "x": {
          "bdata": "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",
          "dtype": "f8"
         },
         "xaxis": "x",
         "yaxis": "y"
        },
        {
         "name": "salary",
         "showlegend": false,
         "type": "histogram",
         "x": {
          "bdata": "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",
          "dtype": "f8"
         },
         "xaxis": "x2",
         "yaxis": "y2"
        },
        {
         "name": "score",
         "showlegend": false,
         "type": "histogram",
         "x": {
          "bdata": "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",
          "dtype": "f8"
         },
         "xaxis": "x3",
         "yaxis": "y3"
        },
        {
         "name": "target",
         "showlegend": false,
         "type": "histogram",
         "x": {
          "bdata": "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",
          "dtype": "f8"
         },
         "xaxis": "x4",
         "yaxis": "y4"
        }
       ],
       "layout": {
        "annotations": [
         {
          "font": {
           "size": 16
          },
          "showarrow": false,
          "text": "age",
          "x": 0.14444444444444446,
          "xanchor": "center",
          "xref": "paper",
          "y": 1,
          "yanchor": "bottom",
          "yref": "paper"
         },
         {
          "font": {
           "size": 16
          },
          "showarrow": false,
          "text": "salary",
          "x": 0.5,
          "xanchor": "center",
          "xref": "paper",
          "y": 1,
          "yanchor": "bottom",
          "yref": "paper"
         },
         {
          "font": {
           "size": 16
          },
          "showarrow": false,
          "text": "score",
          "x": 0.8555555555555556,
          "xanchor": "center",
          "xref": "paper",
          "y": 1,
          "yanchor": "bottom",
          "yref": "paper"
         },
         {
          "font": {
           "size": 16
          },
          "showarrow": false,
          "text": "target",
          "x": 0.14444444444444446,
          "xanchor": "center",
          "xref": "paper",
          "y": 0.375,
          "yanchor": "bottom",
          "yref": "paper"
         }
        ],
        "height": 600,
        "template": {
         "data": {
          "bar": [
           {
            "error_x": {
             "color": "#2a3f5f"
            },
            "error_y": {
             "color": "#2a3f5f"
            },
            "marker": {
             "line": {
              "color": "#E5ECF6",
              "width": 0.5
             },
             "pattern": {
              "fillmode": "overlay",
              "size": 10,
              "solidity": 0.2
             }
            },
            "type": "bar"
           }
          ],
          "barpolar": [
           {
            "marker": {
             "line": {
              "color": "#E5ECF6",
              "width": 0.5
             },
             "pattern": {
              "fillmode": "overlay",
              "size": 10,
              "solidity": 0.2
             }
            },
            "type": "barpolar"
           }
          ],
          "carpet": [
           {
            "aaxis": {
             "endlinecolor": "#2a3f5f",
             "gridcolor": "white",
             "linecolor": "white",
             "minorgridcolor": "white",
             "startlinecolor": "#2a3f5f"
            },
            "baxis": {
             "endlinecolor": "#2a3f5f",
             "gridcolor": "white",
             "linecolor": "white",
             "minorgridcolor": "white",
             "startlinecolor": "#2a3f5f"
            },
            "type": "carpet"
           }
          ],
          "choropleth": [
           {
            "colorbar": {
             "outlinewidth": 0,
             "ticks": ""
            },
            "type": "choropleth"
           }
          ],
          "contour": [
           {
            "colorbar": {
             "outlinewidth": 0,
             "ticks": ""
            },
            "colorscale": [
             [
              0,
              "#0d0887"
             ],
             [
              0.1111111111111111,
              "#46039f"
             ],
             [
              0.2222222222222222,
              "#7201a8"
             ],
             [
              0.3333333333333333,
              "#9c179e"
             ],
             [
              0.4444444444444444,
              "#bd3786"
             ],
             [
              0.5555555555555556,
              "#d8576b"
             ],
             [
              0.6666666666666666,
              "#ed7953"
             ],
             [
              0.7777777777777778,
              "#fb9f3a"
             ],
             [
              0.8888888888888888,
              "#fdca26"
             ],
             [
              1,
              "#f0f921"
             ]
            ],
            "type": "contour"
           }
          ],
          "contourcarpet": [
           {
            "colorbar": {
             "outlinewidth": 0,
             "ticks": ""
            },
            "type": "contourcarpet"
           }
          ],
          "heatmap": [
           {
            "colorbar": {
             "outlinewidth": 0,
             "ticks": ""
            },
            "colorscale": [
             [
              0,
              "#0d0887"
             ],
             [
              0.1111111111111111,
              "#46039f"
             ],
             [
              0.2222222222222222,
              "#7201a8"
             ],
             [
              0.3333333333333333,
              "#9c179e"
             ],
             [
              0.4444444444444444,
              "#bd3786"
             ],
             [
              0.5555555555555556,
              "#d8576b"
             ],
             [
              0.6666666666666666,
              "#ed7953"
             ],
             [
              0.7777777777777778,
              "#fb9f3a"
             ],
             [
              0.8888888888888888,
              "#fdca26"
             ],
             [
              1,
              "#f0f921"
             ]
            ],
            "type": "heatmap"
           }
          ],
          "histogram": [
           {
            "marker": {
             "pattern": {
              "fillmode": "overlay",
              "size": 10,
              "solidity": 0.2
             }
            },
            "type": "histogram"
           }
          ],
          "histogram2d": [
           {
            "colorbar": {
             "outlinewidth": 0,
             "ticks": ""
            },
            "colorscale": [
             [
              0,
              "#0d0887"
             ],
             [
              0.1111111111111111,
              "#46039f"
             ],
             [
              0.2222222222222222,
              "#7201a8"
             ],
             [
              0.3333333333333333,
              "#9c179e"
             ],
             [
              0.4444444444444444,
              "#bd3786"
             ],
             [
              0.5555555555555556,
              "#d8576b"
             ],
             [
              0.6666666666666666,
              "#ed7953"
             ],
             [
              0.7777777777777778,
              "#fb9f3a"
             ],
             [
              0.8888888888888888,
              "#fdca26"
             ],
             [
              1,
              "#f0f921"
             ]
            ],
            "type": "histogram2d"
           }
          ],
          "histogram2dcontour": [
           {
            "colorbar": {
             "outlinewidth": 0,
             "ticks": ""
            },
            "colorscale": [
             [
              0,
              "#0d0887"
             ],
             [
              0.1111111111111111,
              "#46039f"
             ],
             [
              0.2222222222222222,
              "#7201a8"
             ],
             [
              0.3333333333333333,
              "#9c179e"
             ],
             [
              0.4444444444444444,
              "#bd3786"
             ],
             [
              0.5555555555555556,
              "#d8576b"
             ],
             [
              0.6666666666666666,
              "#ed7953"
             ],
             [
              0.7777777777777778,
              "#fb9f3a"
             ],
             [
              0.8888888888888888,
              "#fdca26"
             ],
             [
              1,
              "#f0f921"
             ]
            ],
            "type": "histogram2dcontour"
           }
          ],
          "mesh3d": [
           {
            "colorbar": {
             "outlinewidth": 0,
             "ticks": ""
            },
            "type": "mesh3d"
           }
          ],
          "parcoords": [
           {
            "line": {
             "colorbar": {
              "outlinewidth": 0,
              "ticks": ""
             }
            },
            "type": "parcoords"
           }
          ],
          "pie": [
           {
            "automargin": true,
            "type": "pie"
           }
          ],
          "scatter": [
           {
            "fillpattern": {
             "fillmode": "overlay",
             "size": 10,
             "solidity": 0.2
            },
            "type": "scatter"
           }
          ],
          "scatter3d": [
           {
            "line": {
             "colorbar": {
              "outlinewidth": 0,
              "ticks": ""
             }
            },
            "marker": {
             "colorbar": {
              "outlinewidth": 0,
              "ticks": ""
             }
            },
            "type": "scatter3d"
           }
          ],
          "scattercarpet": [
           {
            "marker": {
             "colorbar": {
              "outlinewidth": 0,
              "ticks": ""
             }
            },
            "type": "scattercarpet"
           }
          ],
          "scattergeo": [
           {
            "marker": {
             "colorbar": {
              "outlinewidth": 0,
              "ticks": ""
             }
            },
            "type": "scattergeo"
           }
          ],
          "scattergl": [
           {
            "marker": {
             "colorbar": {
              "outlinewidth": 0,
              "ticks": ""
             }
            },
            "type": "scattergl"
           }
          ],
          "scattermap": [
           {
            "marker": {
             "colorbar": {
              "outlinewidth": 0,
              "ticks": ""
             }
            },
            "type": "scattermap"
           }
          ],
          "scattermapbox": [
           {
            "marker": {
             "colorbar": {
              "outlinewidth": 0,
              "ticks": ""
             }
            },
            "type": "scattermapbox"
           }
          ],
          "scatterpolar": [
           {
            "marker": {
             "colorbar": {
              "outlinewidth": 0,
              "ticks": ""
             }
            },
            "type": "scatterpolar"
           }
          ],
          "scatterpolargl": [
           {
            "marker": {
             "colorbar": {
              "outlinewidth": 0,
              "ticks": ""
             }
            },
            "type": "scatterpolargl"
           }
          ],
          "scatterternary": [
           {
            "marker": {
             "colorbar": {
              "outlinewidth": 0,
              "ticks": ""
             }
            },
            "type": "scatterternary"
           }
          ],
          "surface": [
           {
            "colorbar": {
             "outlinewidth": 0,
             "ticks": ""
            },
            "colorscale": [
             [
              0,
              "#0d0887"
             ],
             [
              0.1111111111111111,
              "#46039f"
             ],
             [
              0.2222222222222222,
              "#7201a8"
             ],
             [
              0.3333333333333333,
              "#9c179e"
             ],
             [
              0.4444444444444444,
              "#bd3786"
             ],
             [
              0.5555555555555556,
              "#d8576b"
             ],
             [
              0.6666666666666666,
              "#ed7953"
             ],
             [
              0.7777777777777778,
              "#fb9f3a"
             ],
             [
              0.8888888888888888,
              "#fdca26"
             ],
             [
              1,
              "#f0f921"
             ]
            ],
            "type": "surface"
           }
          ],
          "table": [
           {
            "cells": {
             "fill": {
              "color": "#EBF0F8"
             },
             "line": {
              "color": "white"
             }
            },
            "header": {
             "fill": {
              "color": "#C8D4E3"
             },
             "line": {
              "color": "white"
             }
            },
            "type": "table"
           }
          ]
         },
         "layout": {
          "annotationdefaults": {
           "arrowcolor": "#2a3f5f",
           "arrowhead": 0,
           "arrowwidth": 1
          },
          "autotypenumbers": "strict",
          "coloraxis": {
           "colorbar": {
            "outlinewidth": 0,
            "ticks": ""
           }
          },
          "colorscale": {
           "diverging": [
            [
             0,
             "#8e0152"
            ],
            [
             0.1,
             "#c51b7d"
            ],
            [
             0.2,
             "#de77ae"
            ],
            [
             0.3,
             "#f1b6da"
            ],
            [
             0.4,
             "#fde0ef"
            ],
            [
             0.5,
             "#f7f7f7"
            ],
            [
             0.6,
             "#e6f5d0"
            ],
            [
             0.7,
             "#b8e186"
            ],
            [
             0.8,
             "#7fbc41"
            ],
            [
             0.9,
             "#4d9221"
            ],
            [
             1,
             "#276419"
            ]
           ],
           "sequential": [
            [
             0,
             "#0d0887"
            ],
            [
             0.1111111111111111,
             "#46039f"
            ],
            [
             0.2222222222222222,
             "#7201a8"
            ],
            [
             0.3333333333333333,
             "#9c179e"
            ],
            [
             0.4444444444444444,
             "#bd3786"
            ],
            [
             0.5555555555555556,
             "#d8576b"
            ],
            [
             0.6666666666666666,
             "#ed7953"
            ],
            [
             0.7777777777777778,
             "#fb9f3a"
            ],
            [
             0.8888888888888888,
             "#fdca26"
            ],
            [
             1,
             "#f0f921"
            ]
           ],
           "sequentialminus": [
            [
             0,
             "#0d0887"
            ],
            [
             0.1111111111111111,
             "#46039f"
            ],
            [
             0.2222222222222222,
             "#7201a8"
            ],
            [
             0.3333333333333333,
             "#9c179e"
            ],
            [
             0.4444444444444444,
             "#bd3786"
            ],
            [
             0.5555555555555556,
             "#d8576b"
            ],
            [
             0.6666666666666666,
             "#ed7953"
            ],
            [
             0.7777777777777778,
             "#fb9f3a"
            ],
            [
             0.8888888888888888,
             "#fdca26"
            ],
            [
             1,
             "#f0f921"
            ]
           ]
          },
          "colorway": [
           "#636efa",
           "#EF553B",
           "#00cc96",
           "#ab63fa",
           "#FFA15A",
           "#19d3f3",
           "#FF6692",
           "#B6E880",
           "#FF97FF",
           "#FECB52"
          ],
          "font": {
           "color": "#2a3f5f"
          },
          "geo": {
           "bgcolor": "white",
           "lakecolor": "white",
           "landcolor": "#E5ECF6",
           "showlakes": true,
           "showland": true,
           "subunitcolor": "white"
          },
          "hoverlabel": {
           "align": "left"
          },
          "hovermode": "closest",
          "mapbox": {
           "style": "light"
          },
          "paper_bgcolor": "white",
          "plot_bgcolor": "#E5ECF6",
          "polar": {
           "angularaxis": {
            "gridcolor": "white",
            "linecolor": "white",
            "ticks": ""
           },
           "bgcolor": "#E5ECF6",
           "radialaxis": {
            "gridcolor": "white",
            "linecolor": "white",
            "ticks": ""
           }
          },
          "scene": {
           "xaxis": {
            "backgroundcolor": "#E5ECF6",
            "gridcolor": "white",
            "gridwidth": 2,
            "linecolor": "white",
            "showbackground": true,
            "ticks": "",
            "zerolinecolor": "white"
           },
           "yaxis": {
            "backgroundcolor": "#E5ECF6",
            "gridcolor": "white",
            "gridwidth": 2,
            "linecolor": "white",
            "showbackground": true,
            "ticks": "",
            "zerolinecolor": "white"
           },
           "zaxis": {
            "backgroundcolor": "#E5ECF6",
            "gridcolor": "white",
            "gridwidth": 2,
            "linecolor": "white",
            "showbackground": true,
            "ticks": "",
            "zerolinecolor": "white"
           }
          },
          "shapedefaults": {
           "line": {
            "color": "#2a3f5f"
           }
          },
          "ternary": {
           "aaxis": {
            "gridcolor": "white",
            "linecolor": "white",
            "ticks": ""
           },
           "baxis": {
            "gridcolor": "white",
            "linecolor": "white",
            "ticks": ""
           },
           "bgcolor": "#E5ECF6",
           "caxis": {
            "gridcolor": "white",
            "linecolor": "white",
            "ticks": ""
           }
          },
          "title": {
           "x": 0.05
          },
          "xaxis": {
           "automargin": true,
           "gridcolor": "white",
           "linecolor": "white",
           "ticks": "",
           "title": {
            "standoff": 15
           },
           "zerolinecolor": "white",
           "zerolinewidth": 2
          },
          "yaxis": {
           "automargin": true,
           "gridcolor": "white",
           "linecolor": "white",
           "ticks": "",
           "title": {
            "standoff": 15
           },
           "zerolinecolor": "white",
           "zerolinewidth": 2
          }
         }
        },
        "title": {
         "text": "Numeric Distributions - Histogram"
        },
        "xaxis": {
         "anchor": "y",
         "domain": [
          0,
          0.2888888888888889
         ]
        },
        "xaxis2": {
         "anchor": "y2",
         "domain": [
          0.35555555555555557,
          0.6444444444444445
         ]
        },
        "xaxis3": {
         "anchor": "y3",
         "domain": [
          0.7111111111111111,
          1
         ]
        },
        "xaxis4": {
         "anchor": "y4",
         "domain": [
          0,
          0.2888888888888889
         ]
        },
        "xaxis5": {
         "anchor": "y5",
         "domain": [
          0.35555555555555557,
          0.6444444444444445
         ]
        },
        "xaxis6": {
         "anchor": "y6",
         "domain": [
          0.7111111111111111,
          1
         ]
        },
        "yaxis": {
         "anchor": "x",
         "domain": [
          0.625,
          1
         ]
        },
        "yaxis2": {
         "anchor": "x2",
         "domain": [
          0.625,
          1
         ]
        },
        "yaxis3": {
         "anchor": "x3",
         "domain": [
          0.625,
          1
         ]
        },
        "yaxis4": {
         "anchor": "x4",
         "domain": [
          0,
          0.375
         ]
        },
        "yaxis5": {
         "anchor": "x5",
         "domain": [
          0,
          0.375
         ]
        },
        "yaxis6": {
         "anchor": "x6",
         "domain": [
          0,
          0.375
         ]
        }
       }
      }
     },
     "metadata": {},
     "output_type": "display_data"
    },
    {
     "data": {
      "application/vnd.plotly.v1+json": {
       "config": {
        "plotlyServerURL": "https://plot.ly"
       },
       "data": [
        {
         "name": "department",
         "showlegend": false,
         "type": "bar",
         "x": [
          "Sales",
          "Marketing",
          "Engineering"
         ],
         "xaxis": "x",
         "y": {
          "bdata": "bwE/AToB",
          "dtype": "i2"
         },
         "yaxis": "y"
        },
        {
         "name": "experience",
         "showlegend": false,
         "type": "bar",
         "x": [
          "Junior",
          "Mid",
          "Senior"
         ],
         "xaxis": "x2",
         "y": {
          "bdata": "nwGOAbsA",
          "dtype": "i2"
         },
         "yaxis": "y2"
        }
       ],
       "layout": {
        "annotations": [
         {
          "font": {
           "size": 16
          },
          "showarrow": false,
          "text": "department",
          "x": 0.225,
          "xanchor": "center",
          "xref": "paper",
          "y": 1,
          "yanchor": "bottom",
          "yref": "paper"
         },
         {
          "font": {
           "size": 16
          },
          "showarrow": false,
          "text": "experience",
          "x": 0.775,
          "xanchor": "center",
          "xref": "paper",
          "y": 1,
          "yanchor": "bottom",
          "yref": "paper"
         }
        ],
        "height": 300,
        "template": {
         "data": {
          "bar": [
           {
            "error_x": {
             "color": "#2a3f5f"
            },
            "error_y": {
             "color": "#2a3f5f"
            },
            "marker": {
             "line": {
              "color": "#E5ECF6",
              "width": 0.5
             },
             "pattern": {
              "fillmode": "overlay",
              "size": 10,
              "solidity": 0.2
             }
            },
            "type": "bar"
           }
          ],
          "barpolar": [
           {
            "marker": {
             "line": {
              "color": "#E5ECF6",
              "width": 0.5
             },
             "pattern": {
              "fillmode": "overlay",
              "size": 10,
              "solidity": 0.2
             }
            },
            "type": "barpolar"
           }
          ],
          "carpet": [
           {
            "aaxis": {
             "endlinecolor": "#2a3f5f",
             "gridcolor": "white",
             "linecolor": "white",
             "minorgridcolor": "white",
             "startlinecolor": "#2a3f5f"
            },
            "baxis": {
             "endlinecolor": "#2a3f5f",
             "gridcolor": "white",
             "linecolor": "white",
             "minorgridcolor": "white",
             "startlinecolor": "#2a3f5f"
            },
            "type": "carpet"
           }
          ],
          "choropleth": [
           {
            "colorbar": {
             "outlinewidth": 0,
             "ticks": ""
            },
            "type": "choropleth"
           }
          ],
          "contour": [
           {
            "colorbar": {
             "outlinewidth": 0,
             "ticks": ""
            },
            "colorscale": [
             [
              0,
              "#0d0887"
             ],
             [
              0.1111111111111111,
              "#46039f"
             ],
             [
              0.2222222222222222,
              "#7201a8"
             ],
             [
              0.3333333333333333,
              "#9c179e"
             ],
             [
              0.4444444444444444,
              "#bd3786"
             ],
             [
              0.5555555555555556,
              "#d8576b"
             ],
             [
              0.6666666666666666,
              "#ed7953"
             ],
             [
              0.7777777777777778,
              "#fb9f3a"
             ],
             [
              0.8888888888888888,
              "#fdca26"
             ],
             [
              1,
              "#f0f921"
             ]
            ],
            "type": "contour"
           }
          ],
          "contourcarpet": [
           {
            "colorbar": {
             "outlinewidth": 0,
             "ticks": ""
            },
            "type": "contourcarpet"
           }
          ],
          "heatmap": [
           {
            "colorbar": {
             "outlinewidth": 0,
             "ticks": ""
            },
            "colorscale": [
             [
              0,
              "#0d0887"
             ],
             [
              0.1111111111111111,
              "#46039f"
             ],
             [
              0.2222222222222222,
              "#7201a8"
             ],
             [
              0.3333333333333333,
              "#9c179e"
             ],
             [
              0.4444444444444444,
              "#bd3786"
             ],
             [
              0.5555555555555556,
              "#d8576b"
             ],
             [
              0.6666666666666666,
              "#ed7953"
             ],
             [
              0.7777777777777778,
              "#fb9f3a"
             ],
             [
              0.8888888888888888,
              "#fdca26"
             ],
             [
              1,
              "#f0f921"
             ]
            ],
            "type": "heatmap"
           }
          ],
          "histogram": [
           {
            "marker": {
             "pattern": {
              "fillmode": "overlay",
              "size": 10,
              "solidity": 0.2
             }
            },
            "type": "histogram"
           }
          ],
          "histogram2d": [
           {
            "colorbar": {
             "outlinewidth": 0,
             "ticks": ""
            },
            "colorscale": [
             [
              0,
              "#0d0887"
             ],
             [
              0.1111111111111111,
              "#46039f"
             ],
             [
              0.2222222222222222,
              "#7201a8"
             ],
             [
              0.3333333333333333,
              "#9c179e"
             ],
             [
              0.4444444444444444,
              "#bd3786"
             ],
             [
              0.5555555555555556,
              "#d8576b"
             ],
             [
              0.6666666666666666,
              "#ed7953"
             ],
             [
              0.7777777777777778,
              "#fb9f3a"
             ],
             [
              0.8888888888888888,
              "#fdca26"
             ],
             [
              1,
              "#f0f921"
             ]
            ],
            "type": "histogram2d"
           }
          ],
          "histogram2dcontour": [
           {
            "colorbar": {
             "outlinewidth": 0,
             "ticks": ""
            },
            "colorscale": [
             [
              0,
              "#0d0887"
             ],
             [
              0.1111111111111111,
              "#46039f"
             ],
             [
              0.2222222222222222,
              "#7201a8"
             ],
             [
              0.3333333333333333,
              "#9c179e"
             ],
             [
              0.4444444444444444,
              "#bd3786"
             ],
             [
              0.5555555555555556,
              "#d8576b"
             ],
             [
              0.6666666666666666,
              "#ed7953"
             ],
             [
              0.7777777777777778,
              "#fb9f3a"
             ],
             [
              0.8888888888888888,
              "#fdca26"
             ],
             [
              1,
              "#f0f921"
             ]
            ],
            "type": "histogram2dcontour"
           }
          ],
          "mesh3d": [
           {
            "colorbar": {
             "outlinewidth": 0,
             "ticks": ""
            },
            "type": "mesh3d"
           }
          ],
          "parcoords": [
           {
            "line": {
             "colorbar": {
              "outlinewidth": 0,
              "ticks": ""
             }
            },
            "type": "parcoords"
           }
          ],
          "pie": [
           {
            "automargin": true,
            "type": "pie"
           }
          ],
          "scatter": [
           {
            "fillpattern": {
             "fillmode": "overlay",
             "size": 10,
             "solidity": 0.2
            },
            "type": "scatter"
           }
          ],
          "scatter3d": [
           {
            "line": {
             "colorbar": {
              "outlinewidth": 0,
              "ticks": ""
             }
            },
            "marker": {
             "colorbar": {
              "outlinewidth": 0,
              "ticks": ""
             }
            },
            "type": "scatter3d"
           }
          ],
          "scattercarpet": [
           {
            "marker": {
             "colorbar": {
              "outlinewidth": 0,
              "ticks": ""
             }
            },
            "type": "scattercarpet"
           }
          ],
          "scattergeo": [
           {
            "marker": {
             "colorbar": {
              "outlinewidth": 0,
              "ticks": ""
             }
            },
            "type": "scattergeo"
           }
          ],
          "scattergl": [
           {
            "marker": {
             "colorbar": {
              "outlinewidth": 0,
              "ticks": ""
             }
            },
            "type": "scattergl"
           }
          ],
          "scattermap": [
           {
            "marker": {
             "colorbar": {
              "outlinewidth": 0,
              "ticks": ""
             }
            },
            "type": "scattermap"
           }
          ],
          "scattermapbox": [
           {
            "marker": {
             "colorbar": {
              "outlinewidth": 0,
              "ticks": ""
             }
            },
            "type": "scattermapbox"
           }
          ],
          "scatterpolar": [
           {
            "marker": {
             "colorbar": {
              "outlinewidth": 0,
              "ticks": ""
             }
            },
            "type": "scatterpolar"
           }
          ],
          "scatterpolargl": [
           {
            "marker": {
             "colorbar": {
              "outlinewidth": 0,
              "ticks": ""
             }
            },
            "type": "scatterpolargl"
           }
          ],
          "scatterternary": [
           {
            "marker": {
             "colorbar": {
              "outlinewidth": 0,
              "ticks": ""
             }
            },
            "type": "scatterternary"
           }
          ],
          "surface": [
           {
            "colorbar": {
             "outlinewidth": 0,
             "ticks": ""
            },
            "colorscale": [
             [
              0,
              "#0d0887"
             ],
             [
              0.1111111111111111,
              "#46039f"
             ],
             [
              0.2222222222222222,
              "#7201a8"
             ],
             [
              0.3333333333333333,
              "#9c179e"
             ],
             [
              0.4444444444444444,
              "#bd3786"
             ],
             [
              0.5555555555555556,
              "#d8576b"
             ],
             [
              0.6666666666666666,
              "#ed7953"
             ],
             [
              0.7777777777777778,
              "#fb9f3a"
             ],
             [
              0.8888888888888888,
              "#fdca26"
             ],
             [
              1,
              "#f0f921"
             ]
            ],
            "type": "surface"
           }
          ],
          "table": [
           {
            "cells": {
             "fill": {
              "color": "#EBF0F8"
             },
             "line": {
              "color": "white"
             }
            },
            "header": {
             "fill": {
              "color": "#C8D4E3"
             },
             "line": {
              "color": "white"
             }
            },
            "type": "table"
           }
          ]
         },
         "layout": {
          "annotationdefaults": {
           "arrowcolor": "#2a3f5f",
           "arrowhead": 0,
           "arrowwidth": 1
          },
          "autotypenumbers": "strict",
          "coloraxis": {
           "colorbar": {
            "outlinewidth": 0,
            "ticks": ""
           }
          },
          "colorscale": {
           "diverging": [
            [
             0,
             "#8e0152"
            ],
            [
             0.1,
             "#c51b7d"
            ],
            [
             0.2,
             "#de77ae"
            ],
            [
             0.3,
             "#f1b6da"
            ],
            [
             0.4,
             "#fde0ef"
            ],
            [
             0.5,
             "#f7f7f7"
            ],
            [
             0.6,
             "#e6f5d0"
            ],
            [
             0.7,
             "#b8e186"
            ],
            [
             0.8,
             "#7fbc41"
            ],
            [
             0.9,
             "#4d9221"
            ],
            [
             1,
             "#276419"
            ]
           ],
           "sequential": [
            [
             0,
             "#0d0887"
            ],
            [
             0.1111111111111111,
             "#46039f"
            ],
            [
             0.2222222222222222,
             "#7201a8"
            ],
            [
             0.3333333333333333,
             "#9c179e"
            ],
            [
             0.4444444444444444,
             "#bd3786"
            ],
            [
             0.5555555555555556,
             "#d8576b"
            ],
            [
             0.6666666666666666,
             "#ed7953"
            ],
            [
             0.7777777777777778,
             "#fb9f3a"
            ],
            [
             0.8888888888888888,
             "#fdca26"
            ],
            [
             1,
             "#f0f921"
            ]
           ],
           "sequentialminus": [
            [
             0,
             "#0d0887"
            ],
            [
             0.1111111111111111,
             "#46039f"
            ],
            [
             0.2222222222222222,
             "#7201a8"
            ],
            [
             0.3333333333333333,
             "#9c179e"
            ],
            [
             0.4444444444444444,
             "#bd3786"
            ],
            [
             0.5555555555555556,
             "#d8576b"
            ],
            [
             0.6666666666666666,
             "#ed7953"
            ],
            [
             0.7777777777777778,
             "#fb9f3a"
            ],
            [
             0.8888888888888888,
             "#fdca26"
            ],
            [
             1,
             "#f0f921"
            ]
           ]
          },
          "colorway": [
           "#636efa",
           "#EF553B",
           "#00cc96",
           "#ab63fa",
           "#FFA15A",
           "#19d3f3",
           "#FF6692",
           "#B6E880",
           "#FF97FF",
           "#FECB52"
          ],
          "font": {
           "color": "#2a3f5f"
          },
          "geo": {
           "bgcolor": "white",
           "lakecolor": "white",
           "landcolor": "#E5ECF6",
           "showlakes": true,
           "showland": true,
           "subunitcolor": "white"
          },
          "hoverlabel": {
           "align": "left"
          },
          "hovermode": "closest",
          "mapbox": {
           "style": "light"
          },
          "paper_bgcolor": "white",
          "plot_bgcolor": "#E5ECF6",
          "polar": {
           "angularaxis": {
            "gridcolor": "white",
            "linecolor": "white",
            "ticks": ""
           },
           "bgcolor": "#E5ECF6",
           "radialaxis": {
            "gridcolor": "white",
            "linecolor": "white",
            "ticks": ""
           }
          },
          "scene": {
           "xaxis": {
            "backgroundcolor": "#E5ECF6",
            "gridcolor": "white",
            "gridwidth": 2,
            "linecolor": "white",
            "showbackground": true,
            "ticks": "",
            "zerolinecolor": "white"
           },
           "yaxis": {
            "backgroundcolor": "#E5ECF6",
            "gridcolor": "white",
            "gridwidth": 2,
            "linecolor": "white",
            "showbackground": true,
            "ticks": "",
            "zerolinecolor": "white"
           },
           "zaxis": {
            "backgroundcolor": "#E5ECF6",
            "gridcolor": "white",
            "gridwidth": 2,
            "linecolor": "white",
            "showbackground": true,
            "ticks": "",
            "zerolinecolor": "white"
           }
          },
          "shapedefaults": {
           "line": {
            "color": "#2a3f5f"
           }
          },
          "ternary": {
           "aaxis": {
            "gridcolor": "white",
            "linecolor": "white",
            "ticks": ""
           },
           "baxis": {
            "gridcolor": "white",
            "linecolor": "white",
            "ticks": ""
           },
           "bgcolor": "#E5ECF6",
           "caxis": {
            "gridcolor": "white",
            "linecolor": "white",
            "ticks": ""
           }
          },
          "title": {
           "x": 0.05
          },
          "xaxis": {
           "automargin": true,
           "gridcolor": "white",
           "linecolor": "white",
           "ticks": "",
           "title": {
            "standoff": 15
           },
           "zerolinecolor": "white",
           "zerolinewidth": 2
          },
          "yaxis": {
           "automargin": true,
           "gridcolor": "white",
           "linecolor": "white",
           "ticks": "",
           "title": {
            "standoff": 15
           },
           "zerolinecolor": "white",
           "zerolinewidth": 2
          }
         }
        },
        "title": {
         "text": "Categorical Distributions - Bar"
        },
        "xaxis": {
         "anchor": "y",
         "domain": [
          0,
          0.45
         ]
        },
        "xaxis2": {
         "anchor": "y2",
         "domain": [
          0.55,
          1
         ]
        },
        "yaxis": {
         "anchor": "x",
         "domain": [
          0,
          1
         ]
        },
        "yaxis2": {
         "anchor": "x2",
         "domain": [
          0,
          1
         ]
        }
       }
      }
     },
     "metadata": {},
     "output_type": "display_data"
    },
    {
     "data": {
      "application/vnd.plotly.v1+json": {
       "config": {
        "plotlyServerURL": "https://plot.ly"
       },
       "data": [
        {
         "colorscale": [
          [
           0,
           "rgb(103,0,31)"
          ],
          [
           0.1,
           "rgb(178,24,43)"
          ],
          [
           0.2,
           "rgb(214,96,77)"
          ],
          [
           0.3,
           "rgb(244,165,130)"
          ],
          [
           0.4,
           "rgb(253,219,199)"
          ],
          [
           0.5,
           "rgb(247,247,247)"
          ],
          [
           0.6,
           "rgb(209,229,240)"
          ],
          [
           0.7,
           "rgb(146,197,222)"
          ],
          [
           0.8,
           "rgb(67,147,195)"
          ],
          [
           0.9,
           "rgb(33,102,172)"
          ],
          [
           1,
           "rgb(5,48,97)"
          ]
         ],
         "hovertemplate": "%{x} vs %{y}<br>Correlation: %{z:.3f}<extra></extra>",
         "text": {
          "bdata": "AAAAAAAA8D956SYxCKyMv0w3iUFg5bC/exSuR+F6dL956SYxCKyMvwAAAAAAAPA/exSuR+F6pL956SYxCKycv0w3iUFg5bC/exSuR+F6pL8AAAAAAADwP3sUrkfhepS/exSuR+F6dL956SYxCKycv3sUrkfhepS/AAAAAAAA8D8=",
          "dtype": "f8",
          "shape": "4, 4"
         },
         "textfont": {
          "size": 10
         },
         "texttemplate": "%{text}",
         "type": "heatmap",
         "x": [
          "age",
          "salary",
          "score",
          "target"
         ],
         "y": [
          "age",
          "salary",
          "score",
          "target"
         ],
         "z": {
          "bdata": "AAAAAAAA8D+fsWVB4J6NvwEQjiyo0rC/9YjE3exKc7+fsWVB4J6NvwAAAAAAAPA/nuJBBJ2kpL92piOomwedvwEQjiyo0rC/nuJBBJ2kpL8AAAAAAADwP7PcTnVpJpS/9YjE3exKc792piOomwedv7PcTnVpJpS/AAAAAAAA8D8=",
          "dtype": "f8",
          "shape": "4, 4"
         },
         "zmid": 0
        }
       ],
       "layout": {
        "template": {
         "data": {
          "bar": [
           {
            "error_x": {
             "color": "#2a3f5f"
            },
            "error_y": {
             "color": "#2a3f5f"
            },
            "marker": {
             "line": {
              "color": "#E5ECF6",
              "width": 0.5
             },
             "pattern": {
              "fillmode": "overlay",
              "size": 10,
              "solidity": 0.2
             }
            },
            "type": "bar"
           }
          ],
          "barpolar": [
           {
            "marker": {
             "line": {
              "color": "#E5ECF6",
              "width": 0.5
             },
             "pattern": {
              "fillmode": "overlay",
              "size": 10,
              "solidity": 0.2
             }
            },
            "type": "barpolar"
           }
          ],
          "carpet": [
           {
            "aaxis": {
             "endlinecolor": "#2a3f5f",
             "gridcolor": "white",
             "linecolor": "white",
             "minorgridcolor": "white",
             "startlinecolor": "#2a3f5f"
            },
            "baxis": {
             "endlinecolor": "#2a3f5f",
             "gridcolor": "white",
             "linecolor": "white",
             "minorgridcolor": "white",
             "startlinecolor": "#2a3f5f"
            },
            "type": "carpet"
           }
          ],
          "choropleth": [
           {
            "colorbar": {
             "outlinewidth": 0,
             "ticks": ""
            },
            "type": "choropleth"
           }
          ],
          "contour": [
           {
            "colorbar": {
             "outlinewidth": 0,
             "ticks": ""
            },
            "colorscale": [
             [
              0,
              "#0d0887"
             ],
             [
              0.1111111111111111,
              "#46039f"
             ],
             [
              0.2222222222222222,
              "#7201a8"
             ],
             [
              0.3333333333333333,
              "#9c179e"
             ],
             [
              0.4444444444444444,
              "#bd3786"
             ],
             [
              0.5555555555555556,
              "#d8576b"
             ],
             [
              0.6666666666666666,
              "#ed7953"
             ],
             [
              0.7777777777777778,
              "#fb9f3a"
             ],
             [
              0.8888888888888888,
              "#fdca26"
             ],
             [
              1,
              "#f0f921"
             ]
            ],
            "type": "contour"
           }
          ],
          "contourcarpet": [
           {
            "colorbar": {
             "outlinewidth": 0,
             "ticks": ""
            },
            "type": "contourcarpet"
           }
          ],
          "heatmap": [
           {
            "colorbar": {
             "outlinewidth": 0,
             "ticks": ""
            },
            "colorscale": [
             [
              0,
              "#0d0887"
             ],
             [
              0.1111111111111111,
              "#46039f"
             ],
             [
              0.2222222222222222,
              "#7201a8"
             ],
             [
              0.3333333333333333,
              "#9c179e"
             ],
             [
              0.4444444444444444,
              "#bd3786"
             ],
             [
              0.5555555555555556,
              "#d8576b"
             ],
             [
              0.6666666666666666,
              "#ed7953"
             ],
             [
              0.7777777777777778,
              "#fb9f3a"
             ],
             [
              0.8888888888888888,
              "#fdca26"
             ],
             [
              1,
              "#f0f921"
             ]
            ],
            "type": "heatmap"
           }
          ],
          "histogram": [
           {
            "marker": {
             "pattern": {
              "fillmode": "overlay",
              "size": 10,
              "solidity": 0.2
             }
            },
            "type": "histogram"
           }
          ],
          "histogram2d": [
           {
            "colorbar": {
             "outlinewidth": 0,
             "ticks": ""
            },
            "colorscale": [
             [
              0,
              "#0d0887"
             ],
             [
              0.1111111111111111,
              "#46039f"
             ],
             [
              0.2222222222222222,
              "#7201a8"
             ],
             [
              0.3333333333333333,
              "#9c179e"
             ],
             [
              0.4444444444444444,
              "#bd3786"
             ],
             [
              0.5555555555555556,
              "#d8576b"
             ],
             [
              0.6666666666666666,
              "#ed7953"
             ],
             [
              0.7777777777777778,
              "#fb9f3a"
             ],
             [
              0.8888888888888888,
              "#fdca26"
             ],
             [
              1,
              "#f0f921"
             ]
            ],
            "type": "histogram2d"
           }
          ],
          "histogram2dcontour": [
           {
            "colorbar": {
             "outlinewidth": 0,
             "ticks": ""
            },
            "colorscale": [
             [
              0,
              "#0d0887"
             ],
             [
              0.1111111111111111,
              "#46039f"
             ],
             [
              0.2222222222222222,
              "#7201a8"
             ],
             [
              0.3333333333333333,
              "#9c179e"
             ],
             [
              0.4444444444444444,
              "#bd3786"
             ],
             [
              0.5555555555555556,
              "#d8576b"
             ],
             [
              0.6666666666666666,
              "#ed7953"
             ],
             [
              0.7777777777777778,
              "#fb9f3a"
             ],
             [
              0.8888888888888888,
              "#fdca26"
             ],
             [
              1,
              "#f0f921"
             ]
            ],
            "type": "histogram2dcontour"
           }
          ],
          "mesh3d": [
           {
            "colorbar": {
             "outlinewidth": 0,
             "ticks": ""
            },
            "type": "mesh3d"
           }
          ],
          "parcoords": [
           {
            "line": {
             "colorbar": {
              "outlinewidth": 0,
              "ticks": ""
             }
            },
            "type": "parcoords"
           }
          ],
          "pie": [
           {
            "automargin": true,
            "type": "pie"
           }
          ],
          "scatter": [
           {
            "fillpattern": {
             "fillmode": "overlay",
             "size": 10,
             "solidity": 0.2
            },
            "type": "scatter"
           }
          ],
          "scatter3d": [
           {
            "line": {
             "colorbar": {
              "outlinewidth": 0,
              "ticks": ""
             }
            },
            "marker": {
             "colorbar": {
              "outlinewidth": 0,
              "ticks": ""
             }
            },
            "type": "scatter3d"
           }
          ],
          "scattercarpet": [
           {
            "marker": {
             "colorbar": {
              "outlinewidth": 0,
              "ticks": ""
             }
            },
            "type": "scattercarpet"
           }
          ],
          "scattergeo": [
           {
            "marker": {
             "colorbar": {
              "outlinewidth": 0,
              "ticks": ""
             }
            },
            "type": "scattergeo"
           }
          ],
          "scattergl": [
           {
            "marker": {
             "colorbar": {
              "outlinewidth": 0,
              "ticks": ""
             }
            },
            "type": "scattergl"
           }
          ],
          "scattermap": [
           {
            "marker": {
             "colorbar": {
              "outlinewidth": 0,
              "ticks": ""
             }
            },
            "type": "scattermap"
           }
          ],
          "scattermapbox": [
           {
            "marker": {
             "colorbar": {
              "outlinewidth": 0,
              "ticks": ""
             }
            },
            "type": "scattermapbox"
           }
          ],
          "scatterpolar": [
           {
            "marker": {
             "colorbar": {
              "outlinewidth": 0,
              "ticks": ""
             }
            },
            "type": "scatterpolar"
           }
          ],
          "scatterpolargl": [
           {
            "marker": {
             "colorbar": {
              "outlinewidth": 0,
              "ticks": ""
             }
            },
            "type": "scatterpolargl"
           }
          ],
          "scatterternary": [
           {
            "marker": {
             "colorbar": {
              "outlinewidth": 0,
              "ticks": ""
             }
            },
            "type": "scatterternary"
           }
          ],
          "surface": [
           {
            "colorbar": {
             "outlinewidth": 0,
             "ticks": ""
            },
            "colorscale": [
             [
              0,
              "#0d0887"
             ],
             [
              0.1111111111111111,
              "#46039f"
             ],
             [
              0.2222222222222222,
              "#7201a8"
             ],
             [
              0.3333333333333333,
              "#9c179e"
             ],
             [
              0.4444444444444444,
              "#bd3786"
             ],
             [
              0.5555555555555556,
              "#d8576b"
             ],
             [
              0.6666666666666666,
              "#ed7953"
             ],
             [
              0.7777777777777778,
              "#fb9f3a"
             ],
             [
              0.8888888888888888,
              "#fdca26"
             ],
             [
              1,
              "#f0f921"
             ]
            ],
            "type": "surface"
           }
          ],
          "table": [
           {
            "cells": {
             "fill": {
              "color": "#EBF0F8"
             },
             "line": {
              "color": "white"
             }
            },
            "header": {
             "fill": {
              "color": "#C8D4E3"
             },
             "line": {
              "color": "white"
             }
            },
            "type": "table"
           }
          ]
         },
         "layout": {
          "annotationdefaults": {
           "arrowcolor": "#2a3f5f",
           "arrowhead": 0,
           "arrowwidth": 1
          },
          "autotypenumbers": "strict",
          "coloraxis": {
           "colorbar": {
            "outlinewidth": 0,
            "ticks": ""
           }
          },
          "colorscale": {
           "diverging": [
            [
             0,
             "#8e0152"
            ],
            [
             0.1,
             "#c51b7d"
            ],
            [
             0.2,
             "#de77ae"
            ],
            [
             0.3,
             "#f1b6da"
            ],
            [
             0.4,
             "#fde0ef"
            ],
            [
             0.5,
             "#f7f7f7"
            ],
            [
             0.6,
             "#e6f5d0"
            ],
            [
             0.7,
             "#b8e186"
            ],
            [
             0.8,
             "#7fbc41"
            ],
            [
             0.9,
             "#4d9221"
            ],
            [
             1,
             "#276419"
            ]
           ],
           "sequential": [
            [
             0,
             "#0d0887"
            ],
            [
             0.1111111111111111,
             "#46039f"
            ],
            [
             0.2222222222222222,
             "#7201a8"
            ],
            [
             0.3333333333333333,
             "#9c179e"
            ],
            [
             0.4444444444444444,
             "#bd3786"
            ],
            [
             0.5555555555555556,
             "#d8576b"
            ],
            [
             0.6666666666666666,
             "#ed7953"
            ],
            [
             0.7777777777777778,
             "#fb9f3a"
            ],
            [
             0.8888888888888888,
             "#fdca26"
            ],
            [
             1,
             "#f0f921"
            ]
           ],
           "sequentialminus": [
            [
             0,
             "#0d0887"
            ],
            [
             0.1111111111111111,
             "#46039f"
            ],
            [
             0.2222222222222222,
             "#7201a8"
            ],
            [
             0.3333333333333333,
             "#9c179e"
            ],
            [
             0.4444444444444444,
             "#bd3786"
            ],
            [
             0.5555555555555556,
             "#d8576b"
            ],
            [
             0.6666666666666666,
             "#ed7953"
            ],
            [
             0.7777777777777778,
             "#fb9f3a"
            ],
            [
             0.8888888888888888,
             "#fdca26"
            ],
            [
             1,
             "#f0f921"
            ]
           ]
          },
          "colorway": [
           "#636efa",
           "#EF553B",
           "#00cc96",
           "#ab63fa",
           "#FFA15A",
           "#19d3f3",
           "#FF6692",
           "#B6E880",
           "#FF97FF",
           "#FECB52"
          ],
          "font": {
           "color": "#2a3f5f"
          },
          "geo": {
           "bgcolor": "white",
           "lakecolor": "white",
           "landcolor": "#E5ECF6",
           "showlakes": true,
           "showland": true,
           "subunitcolor": "white"
          },
          "hoverlabel": {
           "align": "left"
          },
          "hovermode": "closest",
          "mapbox": {
           "style": "light"
          },
          "paper_bgcolor": "white",
          "plot_bgcolor": "#E5ECF6",
          "polar": {
           "angularaxis": {
            "gridcolor": "white",
            "linecolor": "white",
            "ticks": ""
           },
           "bgcolor": "#E5ECF6",
           "radialaxis": {
            "gridcolor": "white",
            "linecolor": "white",
            "ticks": ""
           }
          },
          "scene": {
           "xaxis": {
            "backgroundcolor": "#E5ECF6",
            "gridcolor": "white",
            "gridwidth": 2,
            "linecolor": "white",
            "showbackground": true,
            "ticks": "",
            "zerolinecolor": "white"
           },
           "yaxis": {
            "backgroundcolor": "#E5ECF6",
            "gridcolor": "white",
            "gridwidth": 2,
            "linecolor": "white",
            "showbackground": true,
            "ticks": "",
            "zerolinecolor": "white"
           },
           "zaxis": {
            "backgroundcolor": "#E5ECF6",
            "gridcolor": "white",
            "gridwidth": 2,
            "linecolor": "white",
            "showbackground": true,
            "ticks": "",
            "zerolinecolor": "white"
           }
          },
          "shapedefaults": {
           "line": {
            "color": "#2a3f5f"
           }
          },
          "ternary": {
           "aaxis": {
            "gridcolor": "white",
            "linecolor": "white",
            "ticks": ""
           },
           "baxis": {
            "gridcolor": "white",
            "linecolor": "white",
            "ticks": ""
           },
           "bgcolor": "#E5ECF6",
           "caxis": {
            "gridcolor": "white",
            "linecolor": "white",
            "ticks": ""
           }
          },
          "title": {
           "x": 0.05
          },
          "xaxis": {
           "automargin": true,
           "gridcolor": "white",
           "linecolor": "white",
           "ticks": "",
           "title": {
            "standoff": 15
           },
           "zerolinecolor": "white",
           "zerolinewidth": 2
          },
          "yaxis": {
           "automargin": true,
           "gridcolor": "white",
           "linecolor": "white",
           "ticks": "",
           "title": {
            "standoff": 15
           },
           "zerolinecolor": "white",
           "zerolinewidth": 2
          }
         }
        },
        "title": {
         "text": "Pearson Correlation Matrix"
        },
        "xaxis": {
         "title": {
          "text": "Variables"
         }
        },
        "yaxis": {
         "title": {
          "text": "Variables"
         }
        }
       }
      }
     },
     "metadata": {},
     "output_type": "display_data"
    },
    {
     "name": "stdout",
     "output_type": "stream",
     "text": [
      "              age                                        salary             \\\n",
      "            count    mean  median     std    min     max  count       mean   \n",
      "department                                                                   \n",
      "Engineering   314  34.775  34.914   9.638  8.272  64.051    314  52495.812   \n",
      "Marketing     319  34.871  34.720  10.331  5.355  66.789    319  48969.550   \n",
      "Sales         367  34.517  35.309   9.740 -1.484  60.493    367  50883.220   \n",
      "\n",
      "                                                        \n",
      "                median        std      min         max  \n",
      "department                                              \n",
      "Engineering  36020.482  54388.395  450.713  330203.937  \n",
      "Marketing    35823.306  47278.564   24.211  311165.033  \n",
      "Sales        35973.482  52104.043    3.561  380733.296  \n"
     ]
    },
    {
     "data": {
      "application/vnd.plotly.v1+json": {
       "config": {
        "plotlyServerURL": "https://plot.ly"
       },
       "data": [
        {
         "marker": {
          "color": "blue",
          "size": 4
         },
         "mode": "markers",
         "name": "age_normal",
         "showlegend": false,
         "type": "scatter",
         "x": {
          "bdata": "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",
          "dtype": "i2"
         },
         "xaxis": "x",
         "y": {
          "bdata": "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",
          "dtype": "f8"
         },
         "yaxis": "y"
        },
        {
         "marker": {
          "color": "red",
          "size": 6
         },
         "mode": "markers",
         "name": "age_outliers",
         "showlegend": false,
         "type": "scatter",
         "x": {
          "bdata": "iwD4AN8B+AF3Aj0DTgOzA7UD",
          "dtype": "i2"
         },
         "xaxis": "x",
         "y": {
          "bdata": "xVv3Od8IUEBXbXs0PgNQQKgJC7oFfU5ATdn4hTlrFUDqIJTIIz9OQO4ArHMWiyBA0CEHY3eyUED01OqttsYWQKy2IET9vve/",
          "dtype": "f8"
         },
         "yaxis": "y"
        },
        {
         "marker": {
          "color": "blue",
          "size": 4
         },
         "mode": "markers",
         "name": "salary_normal",
         "showlegend": false,
         "type": "scatter",
         "x": {
          "bdata": "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",
          "dtype": "i2"
         },
         "xaxis": "x2",
         "y": {
          "bdata": "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",
          "dtype": "f8"
         },
         "yaxis": "y2"
        },
        {
         "marker": {
          "color": "red",
          "size": 6
         },
         "mode": "markers",
         "name": "salary_outliers",
         "showlegend": false,
         "type": "scatter",
         "x": {
          "bdata": "JgA+AE0AagBuAHwAlwCgALAAugDOAOEAHQEhAVMBVgFyAXsBgAGZAZ4BowG0AbkBzgHlAegB/QECAgcCCwIYAikCTgJWAnICdQJ9AoYCiAKNAqUCqQKzArcCygLbAuYC8AL+AggDJgM3A1ADYQNyA3cDfAOAAw==",
          "dtype": "i2"
         },
         "xaxis": "x2",
         "y": {
          "bdata": "okj6u4roAUHrkKC75tICQbemkbplxAJBZ3Ud0gMOAkFi+ca1bYsCQYgfuzh+5w5BakW8Ma8yA0Eq66n8qf0VQfW0GYq+3wRBsyq/L1bWBEF+lxmE2qwJQQZBmZ2hNApB39WfLbaBCEGgEmfNp6kQQc8vd5a5HARBkh/GZ6o+CUHUIuVnLbAGQX8VaCslBglBOTAF9jpfBEFn+AYnwnwDQU7t8E4YKAhBPdXxVcTcBEFNw4ze0XMKQU8ezteOYAVBzCelfkxNBkGzxGwX6GMCQQRAEx8wZgNBs0TUTGZ4BEGneSiHct4CQYjq+/1QtwdBr/aluW5fDEHgnGAfVHEGQZnN31TBUQRBIakihCy+AkH8udiFoGUOQYyJ16TpZwVBw0R0dzNADEHxU0Yi9P0SQVHVGS/1PBdBzyrQfnxIDEF5ShBPUA8EQc0SqOsGpQhBZpMamvYrC0HpapkiO/UDQfQL4NZrlQhB/aZ9cywoB0HKMN6i44UCQeUe5ifUVgVBgjlJ3B97AkFFvgPW3DgSQcmpr0LYUwhBJtSwEn42A0Hh99W/bycUQZ3j0yFM3wRBj3G4F/UJE0EXWT4XsV0NQVqiQlvy8gZBoOKPX0jhDEHjmRC5jpYEQQ==",
          "dtype": "f8"
         },
         "yaxis": "y2"
        },
        {
         "marker": {
          "color": "blue",
          "size": 4
         },
         "mode": "markers",
         "name": "score_normal",
         "showlegend": false,
         "type": "scatter",
         "x": {
          "bdata": "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",
          "dtype": "i2"
         },
         "xaxis": "x3",
         "y": {
          "bdata": "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",
          "dtype": "f8"
         },
         "yaxis": "y3"
        },
        {
         "marker": {
          "color": "blue",
          "size": 4
         },
         "mode": "markers",
         "name": "target_normal",
         "showlegend": false,
         "type": "scatter",
         "x": {
          "bdata": "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",
          "dtype": "i2"
         },
         "xaxis": "x4",
         "y": {
          "bdata": "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",
          "dtype": "f8"
         },
         "yaxis": "y4"
        },
        {
         "marker": {
          "color": "red",
          "size": 6
         },
         "mode": "markers",
         "name": "target_outliers",
         "showlegend": false,
         "type": "scatter",
         "x": {
          "bdata": "ZgCYAJoArAApAUcBpQLPAg4D",
          "dtype": "i2"
         },
         "xaxis": "x4",
         "y": {
          "bdata": "QhGUUpDnPEBpKKw0S2hAQFunXoMJ/lxAO/9IR1LYO0CYNEGVLHddQD+2/c+5VzxA0YQTu6j0P0Bifle4Y/xdQE6LrNSb515A",
          "dtype": "f8"
         },
         "yaxis": "y4"
        }
       ],
       "layout": {
        "annotations": [
         {
          "font": {
           "size": 16
          },
          "showarrow": false,
          "text": "age - Outliers (IQR)",
          "x": 0.14444444444444446,
          "xanchor": "center",
          "xref": "paper",
          "y": 1,
          "yanchor": "bottom",
          "yref": "paper"
         },
         {
          "font": {
           "size": 16
          },
          "showarrow": false,
          "text": "salary - Outliers (IQR)",
          "x": 0.5,
          "xanchor": "center",
          "xref": "paper",
          "y": 1,
          "yanchor": "bottom",
          "yref": "paper"
         },
         {
          "font": {
           "size": 16
          },
          "showarrow": false,
          "text": "score - Outliers (IQR)",
          "x": 0.8555555555555556,
          "xanchor": "center",
          "xref": "paper",
          "y": 1,
          "yanchor": "bottom",
          "yref": "paper"
         },
         {
          "font": {
           "size": 16
          },
          "showarrow": false,
          "text": "target - Outliers (IQR)",
          "x": 0.14444444444444446,
          "xanchor": "center",
          "xref": "paper",
          "y": 0.375,
          "yanchor": "bottom",
          "yref": "paper"
         }
        ],
        "height": 600,
        "template": {
         "data": {
          "bar": [
           {
            "error_x": {
             "color": "#2a3f5f"
            },
            "error_y": {
             "color": "#2a3f5f"
            },
            "marker": {
             "line": {
              "color": "#E5ECF6",
              "width": 0.5
             },
             "pattern": {
              "fillmode": "overlay",
              "size": 10,
              "solidity": 0.2
             }
            },
            "type": "bar"
           }
          ],
          "barpolar": [
           {
            "marker": {
             "line": {
              "color": "#E5ECF6",
              "width": 0.5
             },
             "pattern": {
              "fillmode": "overlay",
              "size": 10,
              "solidity": 0.2
             }
            },
            "type": "barpolar"
           }
          ],
          "carpet": [
           {
            "aaxis": {
             "endlinecolor": "#2a3f5f",
             "gridcolor": "white",
             "linecolor": "white",
             "minorgridcolor": "white",
             "startlinecolor": "#2a3f5f"
            },
            "baxis": {
             "endlinecolor": "#2a3f5f",
             "gridcolor": "white",
             "linecolor": "white",
             "minorgridcolor": "white",
             "startlinecolor": "#2a3f5f"
            },
            "type": "carpet"
           }
          ],
          "choropleth": [
           {
            "colorbar": {
             "outlinewidth": 0,
             "ticks": ""
            },
            "type": "choropleth"
           }
          ],
          "contour": [
           {
            "colorbar": {
             "outlinewidth": 0,
             "ticks": ""
            },
            "colorscale": [
             [
              0,
              "#0d0887"
             ],
             [
              0.1111111111111111,
              "#46039f"
             ],
             [
              0.2222222222222222,
              "#7201a8"
             ],
             [
              0.3333333333333333,
              "#9c179e"
             ],
             [
              0.4444444444444444,
              "#bd3786"
             ],
             [
              0.5555555555555556,
              "#d8576b"
             ],
             [
              0.6666666666666666,
              "#ed7953"
             ],
             [
              0.7777777777777778,
              "#fb9f3a"
             ],
             [
              0.8888888888888888,
              "#fdca26"
             ],
             [
              1,
              "#f0f921"
             ]
            ],
            "type": "contour"
           }
          ],
          "contourcarpet": [
           {
            "colorbar": {
             "outlinewidth": 0,
             "ticks": ""
            },
            "type": "contourcarpet"
           }
          ],
          "heatmap": [
           {
            "colorbar": {
             "outlinewidth": 0,
             "ticks": ""
            },
            "colorscale": [
             [
              0,
              "#0d0887"
             ],
             [
              0.1111111111111111,
              "#46039f"
             ],
             [
              0.2222222222222222,
              "#7201a8"
             ],
             [
              0.3333333333333333,
              "#9c179e"
             ],
             [
              0.4444444444444444,
              "#bd3786"
             ],
             [
              0.5555555555555556,
              "#d8576b"
             ],
             [
              0.6666666666666666,
              "#ed7953"
             ],
             [
              0.7777777777777778,
              "#fb9f3a"
             ],
             [
              0.8888888888888888,
              "#fdca26"
             ],
             [
              1,
              "#f0f921"
             ]
            ],
            "type": "heatmap"
           }
          ],
          "histogram": [
           {
            "marker": {
             "pattern": {
              "fillmode": "overlay",
              "size": 10,
              "solidity": 0.2
             }
            },
            "type": "histogram"
           }
          ],
          "histogram2d": [
           {
            "colorbar": {
             "outlinewidth": 0,
             "ticks": ""
            },
            "colorscale": [
             [
              0,
              "#0d0887"
             ],
             [
              0.1111111111111111,
              "#46039f"
             ],
             [
              0.2222222222222222,
              "#7201a8"
             ],
             [
              0.3333333333333333,
              "#9c179e"
             ],
             [
              0.4444444444444444,
              "#bd3786"
             ],
             [
              0.5555555555555556,
              "#d8576b"
             ],
             [
              0.6666666666666666,
              "#ed7953"
             ],
             [
              0.7777777777777778,
              "#fb9f3a"
             ],
             [
              0.8888888888888888,
              "#fdca26"
             ],
             [
              1,
              "#f0f921"
             ]
            ],
            "type": "histogram2d"
           }
          ],
          "histogram2dcontour": [
           {
            "colorbar": {
             "outlinewidth": 0,
             "ticks": ""
            },
            "colorscale": [
             [
              0,
              "#0d0887"
             ],
             [
              0.1111111111111111,
              "#46039f"
             ],
             [
              0.2222222222222222,
              "#7201a8"
             ],
             [
              0.3333333333333333,
              "#9c179e"
             ],
             [
              0.4444444444444444,
              "#bd3786"
             ],
             [
              0.5555555555555556,
              "#d8576b"
             ],
             [
              0.6666666666666666,
              "#ed7953"
             ],
             [
              0.7777777777777778,
              "#fb9f3a"
             ],
             [
              0.8888888888888888,
              "#fdca26"
             ],
             [
              1,
              "#f0f921"
             ]
            ],
            "type": "histogram2dcontour"
           }
          ],
          "mesh3d": [
           {
            "colorbar": {
             "outlinewidth": 0,
             "ticks": ""
            },
            "type": "mesh3d"
           }
          ],
          "parcoords": [
           {
            "line": {
             "colorbar": {
              "outlinewidth": 0,
              "ticks": ""
             }
            },
            "type": "parcoords"
           }
          ],
          "pie": [
           {
            "automargin": true,
            "type": "pie"
           }
          ],
          "scatter": [
           {
            "fillpattern": {
             "fillmode": "overlay",
             "size": 10,
             "solidity": 0.2
            },
            "type": "scatter"
           }
          ],
          "scatter3d": [
           {
            "line": {
             "colorbar": {
              "outlinewidth": 0,
              "ticks": ""
             }
            },
            "marker": {
             "colorbar": {
              "outlinewidth": 0,
              "ticks": ""
             }
            },
            "type": "scatter3d"
           }
          ],
          "scattercarpet": [
           {
            "marker": {
             "colorbar": {
              "outlinewidth": 0,
              "ticks": ""
             }
            },
            "type": "scattercarpet"
           }
          ],
          "scattergeo": [
           {
            "marker": {
             "colorbar": {
              "outlinewidth": 0,
              "ticks": ""
             }
            },
            "type": "scattergeo"
           }
          ],
          "scattergl": [
           {
            "marker": {
             "colorbar": {
              "outlinewidth": 0,
              "ticks": ""
             }
            },
            "type": "scattergl"
           }
          ],
          "scattermap": [
           {
            "marker": {
             "colorbar": {
              "outlinewidth": 0,
              "ticks": ""
             }
            },
            "type": "scattermap"
           }
          ],
          "scattermapbox": [
           {
            "marker": {
             "colorbar": {
              "outlinewidth": 0,
              "ticks": ""
             }
            },
            "type": "scattermapbox"
           }
          ],
          "scatterpolar": [
           {
            "marker": {
             "colorbar": {
              "outlinewidth": 0,
              "ticks": ""
             }
            },
            "type": "scatterpolar"
           }
          ],
          "scatterpolargl": [
           {
            "marker": {
             "colorbar": {
              "outlinewidth": 0,
              "ticks": ""
             }
            },
            "type": "scatterpolargl"
           }
          ],
          "scatterternary": [
           {
            "marker": {
             "colorbar": {
              "outlinewidth": 0,
              "ticks": ""
             }
            },
            "type": "scatterternary"
           }
          ],
          "surface": [
           {
            "colorbar": {
             "outlinewidth": 0,
             "ticks": ""
            },
            "colorscale": [
             [
              0,
              "#0d0887"
             ],
             [
              0.1111111111111111,
              "#46039f"
             ],
             [
              0.2222222222222222,
              "#7201a8"
             ],
             [
              0.3333333333333333,
              "#9c179e"
             ],
             [
              0.4444444444444444,
              "#bd3786"
             ],
             [
              0.5555555555555556,
              "#d8576b"
             ],
             [
              0.6666666666666666,
              "#ed7953"
             ],
             [
              0.7777777777777778,
              "#fb9f3a"
             ],
             [
              0.8888888888888888,
              "#fdca26"
             ],
             [
              1,
              "#f0f921"
             ]
            ],
            "type": "surface"
           }
          ],
          "table": [
           {
            "cells": {
             "fill": {
              "color": "#EBF0F8"
             },
             "line": {
              "color": "white"
             }
            },
            "header": {
             "fill": {
              "color": "#C8D4E3"
             },
             "line": {
              "color": "white"
             }
            },
            "type": "table"
           }
          ]
         },
         "layout": {
          "annotationdefaults": {
           "arrowcolor": "#2a3f5f",
           "arrowhead": 0,
           "arrowwidth": 1
          },
          "autotypenumbers": "strict",
          "coloraxis": {
           "colorbar": {
            "outlinewidth": 0,
            "ticks": ""
           }
          },
          "colorscale": {
           "diverging": [
            [
             0,
             "#8e0152"
            ],
            [
             0.1,
             "#c51b7d"
            ],
            [
             0.2,
             "#de77ae"
            ],
            [
             0.3,
             "#f1b6da"
            ],
            [
             0.4,
             "#fde0ef"
            ],
            [
             0.5,
             "#f7f7f7"
            ],
            [
             0.6,
             "#e6f5d0"
            ],
            [
             0.7,
             "#b8e186"
            ],
            [
             0.8,
             "#7fbc41"
            ],
            [
             0.9,
             "#4d9221"
            ],
            [
             1,
             "#276419"
            ]
           ],
           "sequential": [
            [
             0,
             "#0d0887"
            ],
            [
             0.1111111111111111,
             "#46039f"
            ],
            [
             0.2222222222222222,
             "#7201a8"
            ],
            [
             0.3333333333333333,
             "#9c179e"
            ],
            [
             0.4444444444444444,
             "#bd3786"
            ],
            [
             0.5555555555555556,
             "#d8576b"
            ],
            [
             0.6666666666666666,
             "#ed7953"
            ],
            [
             0.7777777777777778,
             "#fb9f3a"
            ],
            [
             0.8888888888888888,
             "#fdca26"
            ],
            [
             1,
             "#f0f921"
            ]
           ],
           "sequentialminus": [
            [
             0,
             "#0d0887"
            ],
            [
             0.1111111111111111,
             "#46039f"
            ],
            [
             0.2222222222222222,
             "#7201a8"
            ],
            [
             0.3333333333333333,
             "#9c179e"
            ],
            [
             0.4444444444444444,
             "#bd3786"
            ],
            [
             0.5555555555555556,
             "#d8576b"
            ],
            [
             0.6666666666666666,
             "#ed7953"
            ],
            [
             0.7777777777777778,
             "#fb9f3a"
            ],
            [
             0.8888888888888888,
             "#fdca26"
            ],
            [
             1,
             "#f0f921"
            ]
           ]
          },
          "colorway": [
           "#636efa",
           "#EF553B",
           "#00cc96",
           "#ab63fa",
           "#FFA15A",
           "#19d3f3",
           "#FF6692",
           "#B6E880",
           "#FF97FF",
           "#FECB52"
          ],
          "font": {
           "color": "#2a3f5f"
          },
          "geo": {
           "bgcolor": "white",
           "lakecolor": "white",
           "landcolor": "#E5ECF6",
           "showlakes": true,
           "showland": true,
           "subunitcolor": "white"
          },
          "hoverlabel": {
           "align": "left"
          },
          "hovermode": "closest",
          "mapbox": {
           "style": "light"
          },
          "paper_bgcolor": "white",
          "plot_bgcolor": "#E5ECF6",
          "polar": {
           "angularaxis": {
            "gridcolor": "white",
            "linecolor": "white",
            "ticks": ""
           },
           "bgcolor": "#E5ECF6",
           "radialaxis": {
            "gridcolor": "white",
            "linecolor": "white",
            "ticks": ""
           }
          },
          "scene": {
           "xaxis": {
            "backgroundcolor": "#E5ECF6",
            "gridcolor": "white",
            "gridwidth": 2,
            "linecolor": "white",
            "showbackground": true,
            "ticks": "",
            "zerolinecolor": "white"
           },
           "yaxis": {
            "backgroundcolor": "#E5ECF6",
            "gridcolor": "white",
            "gridwidth": 2,
            "linecolor": "white",
            "showbackground": true,
            "ticks": "",
            "zerolinecolor": "white"
           },
           "zaxis": {
            "backgroundcolor": "#E5ECF6",
            "gridcolor": "white",
            "gridwidth": 2,
            "linecolor": "white",
            "showbackground": true,
            "ticks": "",
            "zerolinecolor": "white"
           }
          },
          "shapedefaults": {
           "line": {
            "color": "#2a3f5f"
           }
          },
          "ternary": {
           "aaxis": {
            "gridcolor": "white",
            "linecolor": "white",
            "ticks": ""
           },
           "baxis": {
            "gridcolor": "white",
            "linecolor": "white",
            "ticks": ""
           },
           "bgcolor": "#E5ECF6",
           "caxis": {
            "gridcolor": "white",
            "linecolor": "white",
            "ticks": ""
           }
          },
          "title": {
           "x": 0.05
          },
          "xaxis": {
           "automargin": true,
           "gridcolor": "white",
           "linecolor": "white",
           "ticks": "",
           "title": {
            "standoff": 15
           },
           "zerolinecolor": "white",
           "zerolinewidth": 2
          },
          "yaxis": {
           "automargin": true,
           "gridcolor": "white",
           "linecolor": "white",
           "ticks": "",
           "title": {
            "standoff": 15
           },
           "zerolinecolor": "white",
           "zerolinewidth": 2
          }
         }
        },
        "title": {
         "text": "Outliers Detection"
        },
        "xaxis": {
         "anchor": "y",
         "domain": [
          0,
          0.2888888888888889
         ]
        },
        "xaxis2": {
         "anchor": "y2",
         "domain": [
          0.35555555555555557,
          0.6444444444444445
         ]
        },
        "xaxis3": {
         "anchor": "y3",
         "domain": [
          0.7111111111111111,
          1
         ]
        },
        "xaxis4": {
         "anchor": "y4",
         "domain": [
          0,
          0.2888888888888889
         ]
        },
        "xaxis5": {
         "anchor": "y5",
         "domain": [
          0.35555555555555557,
          0.6444444444444445
         ]
        },
        "xaxis6": {
         "anchor": "y6",
         "domain": [
          0.7111111111111111,
          1
         ]
        },
        "yaxis": {
         "anchor": "x",
         "domain": [
          0.625,
          1
         ]
        },
        "yaxis2": {
         "anchor": "x2",
         "domain": [
          0.625,
          1
         ]
        },
        "yaxis3": {
         "anchor": "x3",
         "domain": [
          0.625,
          1
         ]
        },
        "yaxis4": {
         "anchor": "x4",
         "domain": [
          0,
          0.375
         ]
        },
        "yaxis5": {
         "anchor": "x5",
         "domain": [
          0,
          0.375
         ]
        },
        "yaxis6": {
         "anchor": "x6",
         "domain": [
          0,
          0.375
         ]
        }
       }
      }
     },
     "metadata": {},
     "output_type": "display_data"
    }
   ],
   "source": [
    "# Create visualizations\n",
    "fig1 = eda.plot_numeric_distribution()\n",
    "fig1.show()\n",
    "\n",
    "fig2 = eda.plot_categorical_distribution()\n",
    "fig2.show()\n",
    "\n",
    "fig3 = eda.plot_correlation_heatmap()\n",
    "fig3.show()\n",
    "\n",
    "# Group analysis\n",
    "group_stats = eda.group_analysis(\"department\", [\"age\", \"salary\"])\n",
    "print(group_stats)\n",
    "\n",
    "# Outlier detection\n",
    "fig4 = eda.plot_outliers(method=\"iqr\")\n",
    "fig4.show()"
   ]
  },
  {
   "cell_type": "code",
   "execution_count": null,
   "id": "33d8a04c",
   "metadata": {},
   "outputs": [],
   "source": []
  },
  {
   "cell_type": "code",
   "execution_count": null,
   "id": "bedcdcec",
   "metadata": {},
   "outputs": [],
   "source": [
    "import narwhals.selectors as n_cs\n",
    "import plotly.graph_objects as go\n",
    "import pyarrow as pa\n",
    "from plotly.subplots import make_subplots\n",
    "from scipy.stats import entropy, spearmanr\n",
    "\n",
    "\n",
    "class ExploratoryDataAnalysis:\n",
    "    def __init__(self, data: IntoDataFrameT, target_column: str = None) -> None:\n",
    "        # Store the original data reference to check its type later\n",
    "        self._original_data = data\n",
    "        self.data = nw.from_native(data)\n",
    "        self.target_column = target_column\n",
    "        self.numeric_columns = self._get_numeric_columns()\n",
    "        self.categorical_columns = self._get_categorical_columns()\n",
    "        self.boolean_columns = self._get_boolean_columns()\n",
    "\n",
    "    def _convert_to_native(self, df: pl.DataFrame) -> IntoDataFrameT:\n",
    "        \"\"\"Convert Polars DataFrame to the original dataframe type.\n",
    "\n",
    "        Parameters\n",
    "        ----------\n",
    "        df : pl.DataFrame\n",
    "            The Polars DataFrame to convert.\n",
    "\n",
    "        Returns\n",
    "        -------\n",
    "        IntoDataFrameT\n",
    "            The converted DataFrame in the same format as the original input data.\n",
    "        \"\"\"\n",
    "        # Check the type of the original data and convert accordingly\n",
    "        if isinstance(self._original_data, pd.DataFrame):\n",
    "            return df.to_pandas()\n",
    "\n",
    "        if isinstance(self._original_data, pa.Table):\n",
    "            return df.to_arrow()\n",
    "\n",
    "        return df\n",
    "\n",
    "    def _get_numeric_columns(self) -> list[str]:\n",
    "        \"\"\"Get numeric columns from the DataFrame.\"\"\"\n",
    "        return self.data.select(n_cs.numeric()).columns\n",
    "\n",
    "    def _get_categorical_columns(self) -> list[str]:\n",
    "        \"\"\"Get categorical columns from the DataFrame.\"\"\"\n",
    "        return self.data.select(n_cs.string()).columns\n",
    "\n",
    "    def _get_boolean_columns(self) -> list[str]:\n",
    "        \"\"\"Get boolean columns from the DataFrame.\"\"\"\n",
    "        return self.data.select(n_cs.boolean()).columns\n",
    "\n",
    "    @staticmethod\n",
    "    def _select_valid_columns(\n",
    "        actual_cols: list[str], selected_cols: list[str]\n",
    "    ) -> list[str]:\n",
    "        return list(set(actual_cols) & set(selected_cols))\n",
    "\n",
    "    def _calculate_outliers_iqr(self, series: nw.Series) -> tuple[nw.Series, nw.Series]:\n",
    "        \"\"\"Calculate outliers using the Interquartile Range (IQR) method.\n",
    "\n",
    "        The IQR method identifies outliers as data points that fall below Q1 - 1.5*IQR\n",
    "        or above Q3 + 1.5*IQR, where Q1 is the 25th percentile, Q3 is the 75th percentile,\n",
    "        and IQR = Q3 - Q1.\n",
    "\n",
    "        Parameters\n",
    "        ----------\n",
    "        series : nw.Series\n",
    "            The numeric series to analyze for outliers.\n",
    "\n",
    "        Returns\n",
    "        -------\n",
    "        tuple[nw.Series, nw.Series]\n",
    "            A tuple containing:\n",
    "            - normal_points: Series with values within the normal range\n",
    "            - outliers: Series with values identified as outliers\n",
    "\n",
    "        Notes\n",
    "        -----\n",
    "        This method uses the \"nearest\" interpolation method for quantile calculations\n",
    "        to ensure consistent results across different dataframe backends.\n",
    "        \"\"\"\n",
    "        Q1: float = series.quantile(0.25, interpolation=\"nearest\")\n",
    "        Q3: float = series.quantile(0.75, interpolation=\"nearest\")\n",
    "        IQR: float = Q3 - Q1\n",
    "        lower_bound: float = Q1 - 1.5 * IQR\n",
    "        upper_bound: float = Q3 + 1.5 * IQR\n",
    "        normal_points: nw.Series = series.filter(\n",
    "            (series >= lower_bound) & (series <= upper_bound)\n",
    "        )\n",
    "        outliers: nw.Series = series.filter(\n",
    "            (series < lower_bound) | (series > upper_bound)\n",
    "        )\n",
    "\n",
    "        return normal_points, outliers\n",
    "\n",
    "    def _calculate_outliers_zscore(\n",
    "        self, series: nw.Series, threshold: float = 3.0\n",
    "    ) -> tuple[nw.Series, nw.Series]:\n",
    "        \"\"\"Calculate outliers using the Z-score method.\n",
    "\n",
    "        The Z-score method identifies outliers as data points whose absolute Z-score\n",
    "        exceeds the specified threshold. Z-score is calculated as (x - mean) / std.\n",
    "\n",
    "        Parameters\n",
    "        ----------\n",
    "        series : nw.Series\n",
    "            The numeric series to analyze for outliers.\n",
    "        threshold : float, default 3.0\n",
    "            The Z-score threshold above which points are considered outliers.\n",
    "            Common values are 2.0 (95% confidence) or 3.0 (99.7% confidence).\n",
    "\n",
    "        Returns\n",
    "        -------\n",
    "        tuple[nw.Series, nw.Series]\n",
    "            A tuple containing:\n",
    "            - normal_points: Series with Z-scores within the threshold\n",
    "            - outliers: Series with Z-scores exceeding the threshold\n",
    "\n",
    "        Notes\n",
    "        -----\n",
    "        This method assumes the data follows a normal distribution. For non-normal\n",
    "        distributions, the IQR method may be more appropriate.\n",
    "        \"\"\"\n",
    "        mean: float = series.mean()\n",
    "        std: float = series.std()\n",
    "        z_scores: nw.Series = (series - mean) / std\n",
    "        normal_points: nw.Series = series.filter(z_scores.abs() <= threshold)\n",
    "        outliers: nw.Series = series.filter(z_scores.abs() > threshold)\n",
    "\n",
    "        return normal_points, outliers\n",
    "\n",
    "    def correlation_analysis(\n",
    "        self,\n",
    "        method: Literal[\"pearson\", \"spearman\"] = \"pearson\",\n",
    "        **kwargs: Any,\n",
    "    ) -> IntoFrameT:\n",
    "        \"\"\"Calculate correlation matrix for numeric columns.\"\"\"\n",
    "\n",
    "        if len(self.numeric_columns) < 2:\n",
    "            raise ValueError(\n",
    "                \"At least two numeric columns are required for correlation analysis.\"\n",
    "            )\n",
    "\n",
    "        X: np.ndarray[Any, Any] = self.data.select(self.numeric_columns).to_numpy()\n",
    "\n",
    "        if method == \"pearson\":\n",
    "            matrix: np.ndarray = np.corrcoef(X, rowvar=False, **kwargs)\n",
    "\n",
    "        else:  # spearman\n",
    "            matrix = spearmanr(X, axis=0, **kwargs).correlation\n",
    "            if np.isscalar(matrix):\n",
    "                # Convert to a matrix\n",
    "                matrix = np.array([[1.0, matrix], [matrix, 1.0]])\n",
    "\n",
    "        result: pl.DataFrame = pl.DataFrame(matrix, schema=self.numeric_columns)\n",
    "        return self._convert_to_native(result)\n",
    "\n",
    "    def numeric_summary(self, columns: list[str] | None = None) -> IntoFrameT:\n",
    "        \"\"\"Get summary statistics for numeric columns.\"\"\"\n",
    "        columns = (\n",
    "            self._select_valid_columns(self.numeric_columns, columns)\n",
    "            if columns\n",
    "            else self.numeric_columns\n",
    "        )\n",
    "\n",
    "        summary_stats: list[Any] = []\n",
    "\n",
    "        for col in columns:\n",
    "            series = self.data[col]\n",
    "\n",
    "            if len(series) == 0:\n",
    "                continue\n",
    "\n",
    "            # Central tendency: mean, median and mode\n",
    "            mean: float = series.mean().__round__(2)\n",
    "            median: float = series.median().__round__(2)\n",
    "            mode: list[float] = series.mode().to_list()\n",
    "\n",
    "            # Spread: std, variance, range, iqr_value, min, max\n",
    "            std: float = series.std().__round__(2)\n",
    "            variance: float = series.var().__round__(2)\n",
    "            data_range: float = series.max() - series.min()\n",
    "            iqr_value: float = series.quantile(\n",
    "                0.75, interpolation=\"nearest\"\n",
    "            ) - series.quantile(0.25, interpolation=\"nearest\")\n",
    "            min_value: float = series.min()\n",
    "            max_value: float = series.max()\n",
    "\n",
    "            # Distribution shape: skewness and kurtosis\n",
    "            skewness: float = series.skew().__round__(2)\n",
    "            kurtosis: float = series.kurtosis().__round__(2)\n",
    "\n",
    "            # Others: count, missing_values, unique_values\n",
    "            count: int = series.count()\n",
    "            missing_values: int = series.is_null().sum()\n",
    "            missing_pct: float = (missing_values / series.shape[0]).__round__(2)\n",
    "            unique_values: int = series.n_unique()\n",
    "\n",
    "            # Outliers\n",
    "            _, outlier_series_iqr = self._calculate_outliers_iqr(series)\n",
    "            outlier_count_iqr = outlier_series_iqr.count()\n",
    "\n",
    "            _, outlier_series_zscore = self._calculate_outliers_zscore(series)\n",
    "            outlier_count_zscore = outlier_series_zscore.count()\n",
    "\n",
    "            summary_stats.append(\n",
    "                {\n",
    "                    \"column\": col,\n",
    "                    \"mean\": mean,\n",
    "                    \"median\": median,\n",
    "                    \"mode\": mode,\n",
    "                    \"std\": std,\n",
    "                    \"variance\": variance,\n",
    "                    \"range\": data_range,\n",
    "                    \"iqr_value\": iqr_value,\n",
    "                    \"min\": min_value,\n",
    "                    \"max\": max_value,\n",
    "                    \"skewness\": skewness,\n",
    "                    \"kurtosis\": kurtosis,\n",
    "                    \"outlier_series_iqr\": outlier_series_iqr.to_list(),\n",
    "                    \"outlier_count_iqr\": outlier_count_iqr,\n",
    "                    \"outlier_series_zscore\": outlier_series_zscore.to_list(),\n",
    "                    \"outlier_count_zscore\": outlier_count_zscore,\n",
    "                    \"total_count\": count,\n",
    "                    \"missing_values\": missing_values,\n",
    "                    \"missing_pct\": missing_pct,\n",
    "                    \"unique_values\": unique_values,\n",
    "                }\n",
    "            )\n",
    "\n",
    "        # Create summary as Polars DataFrame first\n",
    "        summary_df: pl.DataFrame = pl.from_records(summary_stats)\n",
    "\n",
    "        return self._convert_to_native(summary_df)\n",
    "\n",
    "    def categorical_summary(\n",
    "        self, columns: list[str] | None = None\n",
    "    ) -> dict[str, IntoFrameT]:\n",
    "        \"\"\"Get summary statistics for categorical columns.\"\"\"\n",
    "        columns = (\n",
    "            self._select_valid_columns(self.categorical_columns, columns)\n",
    "            if columns\n",
    "            else self.categorical_columns + self.boolean_columns\n",
    "        )\n",
    "\n",
    "        summary_stats: list[dict[str, Any]] = []\n",
    "\n",
    "        for col in columns:\n",
    "            series = self.data[col]\n",
    "\n",
    "            if len(series) == 0:\n",
    "                continue\n",
    "\n",
    "            # Frequency counts and percentages\n",
    "            value_counts = series.value_counts().to_numpy()\n",
    "\n",
    "            # Basic stats: count, missing_values, missing_pct, unique_values\n",
    "            count: int = series.count()\n",
    "            missing_values: int = series.is_null().sum()\n",
    "            missing_pct: float = (missing_values / series.shape[0] * 100).__round__(2)\n",
    "            unique_values: int = series.n_unique()\n",
    "\n",
    "            # Entropy (measure of uncertainty or randomness)\n",
    "            non_null_series = series.drop_nulls()\n",
    "            if len(non_null_series) > 0:\n",
    "                vc_non_null = non_null_series.value_counts(sort=True, normalize=False)\n",
    "                entropy_value: float = entropy(vc_non_null[\"count\"], base=10).__round__(\n",
    "                    2\n",
    "                )\n",
    "            else:\n",
    "                entropy_value = 0.0\n",
    "\n",
    "            summary_stats.append(\n",
    "                {\n",
    "                    \"column\": col,\n",
    "                    \"total_count\": count,\n",
    "                    \"unique_values\": unique_values,\n",
    "                    \"entropy\": entropy_value,\n",
    "                    \"value_counts\": value_counts,\n",
    "                    \"missing_values\": missing_values,\n",
    "                    \"missing_pct\": missing_pct,\n",
    "                }\n",
    "            )\n",
    "\n",
    "        summary_df: pl.DataFrame = pl.from_records(summary_stats)\n",
    "\n",
    "        return self._convert_to_native(summary_df)\n",
    "\n",
    "    def group_analysis(\n",
    "        self, groupby: str, numeric_cols: list[str] | None = None\n",
    "    ) -> IntoFrameT:\n",
    "        # Ensure the column is a valid cat column\n",
    "        if groupby not in self.categorical_columns:\n",
    "            raise ValueError(f\"🚫 {groupby!r} must be a categorical variable\")\n",
    "        numeric_cols = (\n",
    "            self._select_valid_columns(self.numeric_columns, numeric_cols)\n",
    "            if numeric_cols\n",
    "            else self.numeric_columns\n",
    "        )\n",
    "        if len(numeric_cols) == 0:\n",
    "            raise ValueError(\"🚫 No valid numeric columns found.\")\n",
    "\n",
    "        return (\n",
    "            self.data.select(numeric_cols + [groupby])\n",
    "            .group_by(groupby)\n",
    "            .agg(\n",
    "                n_cs.numeric().count().name.suffix(\"_count\"),\n",
    "                n_cs.numeric().mean().round(2).name.suffix(\"_mean\"),\n",
    "                n_cs.numeric().median().round(2).name.suffix(\"_median\"),\n",
    "                n_cs.numeric().std().round(2).name.suffix(\"_std\"),\n",
    "                n_cs.numeric().min().name.suffix(\"_min\"),\n",
    "                n_cs.numeric().max().name.suffix(\"_max\"),\n",
    "            )\n",
    "            .to_native()\n",
    "        )\n",
    "\n",
    "    def plot_numeric_distribution(\n",
    "        self,\n",
    "        columns: list[str] | None = None,\n",
    "        plot_type: Literal[\"all\", \"histogram\", \"box\", \"violin\"] = \"all\",\n",
    "    ) -> go.Figure:\n",
    "        columns = (\n",
    "            self._select_valid_columns(self.numeric_columns, columns)\n",
    "            if columns\n",
    "            else self.numeric_columns\n",
    "        )\n",
    "        if not columns:\n",
    "            print(\"🚫 No numeric columns available for plotting.\")\n",
    "            return go.Figure()\n",
    "\n",
    "        n_cols: int = min(3, len(columns))\n",
    "        n_rows: int = (len(columns) + n_cols - 1) // n_cols\n",
    "\n",
    "        if plot_type == \"all\":\n",
    "            fig = make_subplots(\n",
    "                rows=3,\n",
    "                cols=len(columns),\n",
    "                subplot_titles=[f\"{col} - Histogram\" for col in columns]\n",
    "                + [f\"{col} - Box Plot\" for col in columns]\n",
    "                + [f\"{col} - Violin Plot\" for col in columns],\n",
    "                vertical_spacing=0.1,\n",
    "            )\n",
    "\n",
    "            for i, col in enumerate(columns):\n",
    "                # Histogram\n",
    "                fig.add_trace(\n",
    "                    go.Histogram(\n",
    "                        x=self.data[col], name=f\"{col}_hist\", showlegend=False\n",
    "                    ),\n",
    "                    row=1,\n",
    "                    col=i + 1,\n",
    "                )\n",
    "\n",
    "                # Box plot\n",
    "                fig.add_trace(\n",
    "                    go.Box(y=self.data[col], name=f\"{col}_box\", showlegend=False),\n",
    "                    row=2,\n",
    "                    col=i + 1,\n",
    "                )\n",
    "\n",
    "                # Violin plot\n",
    "                fig.add_trace(\n",
    "                    go.Violin(y=self.data[col], name=f\"{col}_violin\", showlegend=False),\n",
    "                    row=3,\n",
    "                    col=i + 1,\n",
    "                )\n",
    "\n",
    "            fig.update_layout(\n",
    "                height=900, title_text=\"Numeric Distributions - All Plot Types\"\n",
    "            )\n",
    "\n",
    "        else:\n",
    "            fig = make_subplots(\n",
    "                rows=n_rows, cols=n_cols, subplot_titles=[f\"{col}\" for col in columns]\n",
    "            )\n",
    "\n",
    "            for i, col in enumerate(columns):\n",
    "                row = i // n_cols + 1\n",
    "                col_idx = i % n_cols + 1\n",
    "\n",
    "                if plot_type == \"histogram\":\n",
    "                    fig.add_trace(\n",
    "                        go.Histogram(x=self.data[col], name=col, showlegend=False),\n",
    "                        row=row,\n",
    "                        col=col_idx,\n",
    "                    )\n",
    "                elif plot_type == \"box\":\n",
    "                    fig.add_trace(\n",
    "                        go.Box(y=self.data[col], name=col, showlegend=False),\n",
    "                        row=row,\n",
    "                        col=col_idx,\n",
    "                    )\n",
    "                elif plot_type == \"violin\":\n",
    "                    fig.add_trace(\n",
    "                        go.Violin(y=self.data[col], name=col, showlegend=False),\n",
    "                        row=row,\n",
    "                        col=col_idx,\n",
    "                    )\n",
    "\n",
    "            fig.update_layout(\n",
    "                height=300 * n_rows,\n",
    "                title_text=f\"Numeric Distributions - {plot_type.title()}\",\n",
    "            )\n",
    "\n",
    "        return fig\n",
    "\n",
    "    def plot_categorical_distribution(\n",
    "        self,\n",
    "        columns: list[str] | None = None,\n",
    "        plot_type: Literal[\"all\", \"bar\", \"pie\"] = \"all\",\n",
    "    ) -> go.Figure:\n",
    "        columns = (\n",
    "            self._select_valid_columns(self.categorical_columns, columns)\n",
    "            if columns\n",
    "            else self.categorical_columns\n",
    "        )\n",
    "        if not columns:\n",
    "            print(\"🚫 No categorical columns available for plotting.\")\n",
    "            return go.Figure()\n",
    "\n",
    "        if plot_type == \"all\":\n",
    "            n_rows = len(columns)\n",
    "            # Create proper subplot titles for alternating bar and pie charts\n",
    "            subplot_titles = []\n",
    "            for col in columns:\n",
    "                subplot_titles.extend([f\"{col} - Bar Chart\", f\"{col} - Pie Chart\"])\n",
    "\n",
    "            fig = make_subplots(\n",
    "                rows=n_rows,\n",
    "                cols=2,\n",
    "                specs=[[{\"type\": \"xy\"}, {\"type\": \"domain\"}] for _ in range(n_rows)],\n",
    "                subplot_titles=subplot_titles,\n",
    "            )\n",
    "\n",
    "            for i, col in enumerate(columns):\n",
    "                value_counts = (\n",
    "                    self.data[col]\n",
    "                    .value_counts(sort=True, normalize=True)\n",
    "                    .with_columns((nw.col(\"proportion\") * 100).round(1))\n",
    "                )\n",
    "\n",
    "                # Bar chart\n",
    "                fig.add_trace(\n",
    "                    go.Bar(\n",
    "                        x=value_counts[col].to_numpy(),\n",
    "                        y=value_counts[\"proportion\"].to_numpy(),\n",
    "                        name=f\"{col}_bar\",\n",
    "                        showlegend=False,\n",
    "                    ),\n",
    "                    row=i + 1,\n",
    "                    col=1,\n",
    "                )\n",
    "\n",
    "                # Pie chart\n",
    "                fig.add_trace(\n",
    "                    go.Pie(\n",
    "                        labels=value_counts[col].to_numpy(),\n",
    "                        values=value_counts[\"proportion\"].to_numpy(),\n",
    "                        name=f\"{col}_pie\",\n",
    "                        showlegend=False,\n",
    "                    ),\n",
    "                    row=i + 1,\n",
    "                    col=2,\n",
    "                )\n",
    "\n",
    "            fig.update_layout(\n",
    "                height=400 * len(columns),\n",
    "                width=420 * len(columns),\n",
    "                title_text=\"Categorical Distributions\",\n",
    "            )\n",
    "\n",
    "        else:\n",
    "            n_cols = min(3, len(columns))\n",
    "            n_rows = (len(columns) + n_cols - 1) // n_cols\n",
    "\n",
    "            if plot_type == \"pie\":\n",
    "                specs = [\n",
    "                    [{\"type\": \"domain\"} for _ in range(n_cols)] for _ in range(n_rows)\n",
    "                ]\n",
    "            else:\n",
    "                specs = None\n",
    "\n",
    "            fig = make_subplots(\n",
    "                rows=n_rows,\n",
    "                cols=n_cols,\n",
    "                specs=specs,\n",
    "                subplot_titles=[f\"{col}\" for col in columns],\n",
    "            )\n",
    "\n",
    "            for i, col in enumerate(columns):\n",
    "                row = i // n_cols + 1\n",
    "                col_idx = i % n_cols + 1\n",
    "                value_counts = (\n",
    "                    self.data[col]\n",
    "                    .value_counts(sort=True, normalize=True)\n",
    "                    .with_columns((nw.col(\"proportion\") * 100).round(1))\n",
    "                )\n",
    "\n",
    "                if plot_type == \"bar\":\n",
    "                    fig.add_trace(\n",
    "                        go.Bar(\n",
    "                            x=value_counts[col].to_numpy(),\n",
    "                            y=value_counts[\"proportion\"].to_numpy(),\n",
    "                            name=col,\n",
    "                            showlegend=False,\n",
    "                        ),\n",
    "                        row=row,\n",
    "                        col=col_idx,\n",
    "                    )\n",
    "                elif plot_type == \"pie\":\n",
    "                    fig.add_trace(\n",
    "                        go.Pie(\n",
    "                            labels=value_counts[col].to_numpy(),\n",
    "                            values=value_counts[\"proportion\"].to_numpy(),\n",
    "                            name=col,\n",
    "                            showlegend=False,\n",
    "                        ),\n",
    "                        row=row,\n",
    "                        col=col_idx,\n",
    "                    )\n",
    "\n",
    "            fig.update_layout(\n",
    "                height=300 * n_rows,\n",
    "                title_text=f\"Categorical Distributions - {plot_type.title()}\",\n",
    "            )\n",
    "\n",
    "        return fig\n",
    "\n",
    "    def plot_correlation_heatmap(\n",
    "        self, method: Literal[\"pearson\", \"spearman\"] = \"pearson\"\n",
    "    ) -> go.Figure:\n",
    "        corr_matrix: IntoFrameT = self.correlation_analysis(method=method)\n",
    "\n",
    "        if len(corr_matrix) == 0:\n",
    "            return go.Figure()\n",
    "\n",
    "        fig = go.Figure(\n",
    "            data=go.Heatmap(\n",
    "                z=corr_matrix.to_numpy(),\n",
    "                x=corr_matrix.columns,\n",
    "                y=corr_matrix.columns,\n",
    "                colorscale=\"RdBu\",\n",
    "                zmid=0,\n",
    "                text=np.round(corr_matrix.to_numpy(), 3),\n",
    "                texttemplate=\"%{text}\",\n",
    "                textfont={\"size\": 10},\n",
    "                hovertemplate=\"%{x} vs %{y}<br>Correlation: %{z:.3f}<extra></extra>\",\n",
    "            )\n",
    "        )\n",
    "\n",
    "        fig.update_layout(\n",
    "            title=f\"{method.title()} Correlation Matrix\",\n",
    "            xaxis_title=\"Variables\",\n",
    "            yaxis_title=\"Variables\",\n",
    "        )\n",
    "\n",
    "        return fig\n",
    "\n",
    "    def plot_outliers(\n",
    "        self, columns: list[str] | None = None, method: Literal[\"iqr\", \"zscore\"] = \"iqr\"\n",
    "    ) -> go.Figure:\n",
    "        columns = (\n",
    "            self._select_valid_columns(self.numeric_columns, columns)\n",
    "            if columns\n",
    "            else self.numeric_columns\n",
    "        )\n",
    "\n",
    "        if not columns:\n",
    "            print(\"No numeric columns to plot\")\n",
    "            return go.Figure()\n",
    "\n",
    "        n_cols = min(3, len(columns))\n",
    "        n_rows = (len(columns) + n_cols - 1) // n_cols\n",
    "\n",
    "        fig = make_subplots(\n",
    "            rows=n_rows,\n",
    "            cols=n_cols,\n",
    "            subplot_titles=[f\"{col} - Outliers ({method})\" for col in columns],\n",
    "            vertical_spacing=0.1,\n",
    "            horizontal_spacing=0.05,\n",
    "        )\n",
    "\n",
    "        for i, col in enumerate(columns):\n",
    "            row: int = i // n_cols + 1\n",
    "            col_idx: int = i % n_cols + 1\n",
    "\n",
    "            series = self.data[col].drop_nulls()\n",
    "\n",
    "            if method == \"iqr\":\n",
    "                normal_points, outliers = self._calculate_outliers_iqr(series)\n",
    "            else:  # zscore\n",
    "                normal_points, outliers = self._calculate_outliers_zscore(series)\n",
    "\n",
    "            # Plot normal points\n",
    "            fig.add_trace(\n",
    "                go.Scatter(\n",
    "                    x=np.arange(0, len(normal_points)),\n",
    "                    y=normal_points.to_numpy(),\n",
    "                    mode=\"markers\",\n",
    "                    name=f\"{col}_normal\",\n",
    "                    marker={\n",
    "                        \"color\": \"lightblue\",\n",
    "                        \"size\": 2,\n",
    "                        \"opacity\": 0.7,\n",
    "                        \"line\": {\"width\": 1, \"color\": \"blue\"},\n",
    "                    },\n",
    "                    showlegend=False,\n",
    "                ),\n",
    "                row=row,\n",
    "                col=col_idx,\n",
    "            )\n",
    "\n",
    "            # Plot outliers\n",
    "            if len(outliers) > 0:\n",
    "                fig.add_trace(\n",
    "                    go.Scatter(\n",
    "                        x=np.arange(0, len(outliers)),\n",
    "                        y=outliers.to_numpy(),\n",
    "                        mode=\"markers\",\n",
    "                        name=f\"{col}_outliers\",\n",
    "                        marker={\n",
    "                            \"color\": \"red\",\n",
    "                            \"size\": 4,\n",
    "                            \"symbol\": \"diamond\",\n",
    "                            \"line\": {\"width\": 2, \"color\": \"darkred\"},\n",
    "                        },\n",
    "                        showlegend=False,\n",
    "                    ),\n",
    "                    row=row,\n",
    "                    col=col_idx,\n",
    "                )\n",
    "\n",
    "        fig.update_layout(\n",
    "            height=300 * n_rows, width=400 * n_rows, title_text=\"Outliers Detection\"\n",
    "        )\n",
    "        return fig"
   ]
  },
  {
   "cell_type": "code",
   "execution_count": null,
   "id": "814dcf53",
   "metadata": {},
   "outputs": [],
   "source": [
    "actual_num_cols: list[str] = [\"name\", \"age\", \"salary\", \"score\", \"target\"]\n",
    "num_col: list[str] = [\"age\", \"salary\", \"score\", \"not_included\"]\n",
    "\n",
    "valid_cols = list(set(actual_num_cols) & set(num_col))\n",
    "valid_cols\n",
    "\n",
    "\n",
    "def _select_valid_columns(\n",
    "    actual_cols: list[str], selected_cols: list[str]\n",
    ") -> list[str]:\n",
    "    return list(set(actual_cols) & set(selected_cols))"
   ]
  },
  {
   "cell_type": "code",
   "execution_count": 91,
   "id": "ab10074e",
   "metadata": {},
   "outputs": [
    {
     "data": {
      "text/html": [
       "<div><style>\n",
       ".dataframe > thead > tr,\n",
       ".dataframe > tbody > tr {\n",
       "  text-align: right;\n",
       "  white-space: pre-wrap;\n",
       "}\n",
       "</style>\n",
       "<small>shape: (1, 7)</small><table border=\"1\" class=\"dataframe\"><thead><tr><th>column</th><th>total_count</th><th>unique_values</th><th>entropy</th><th>value_counts</th><th>missing_values</th><th>missing_pct</th></tr><tr><td>str</td><td>i64</td><td>i64</td><td>f64</td><td>object</td><td>i64</td><td>f64</td></tr></thead><tbody><tr><td>&quot;datetime&quot;</td><td>13903</td><td>13903</td><td>4.14</td><td>[[&#x27;2012-05-07 14:00:00&#x27; 1]\n",
       " [&#x27;2011-07-02 18:00:00&#x27; 1]\n",
       " [&#x27;2012-06-06 07:00:00&#x27; 1]\n",
       " ...\n",
       " [&#x27;2011-01-18 14:00:00&#x27; 1]\n",
       " [&#x27;2011-12-28 13:00:00&#x27; 1]\n",
       " [&#x27;2012-03-07 00:00:00&#x27; 1]]</td><td>0</td><td>0.0</td></tr></tbody></table></div>"
      ],
      "text/plain": [
       "shape: (1, 7)\n",
       "┌──────────┬─────────────┬───────────────┬─────────┬────────────────┬────────────────┬─────────────┐\n",
       "│ column   ┆ total_count ┆ unique_values ┆ entropy ┆ value_counts   ┆ missing_values ┆ missing_pct │\n",
       "│ ---      ┆ ---         ┆ ---           ┆ ---     ┆ ---            ┆ ---            ┆ ---         │\n",
       "│ str      ┆ i64         ┆ i64           ┆ f64     ┆ object         ┆ i64            ┆ f64         │\n",
       "╞══════════╪═════════════╪═══════════════╪═════════╪════════════════╪════════════════╪═════════════╡\n",
       "│ datetime ┆ 13903       ┆ 13903         ┆ 4.14    ┆ [['2012-05-07  ┆ 0              ┆ 0.0         │\n",
       "│          ┆             ┆               ┆         ┆ 14:00:00' 1]   ┆                ┆             │\n",
       "│          ┆             ┆               ┆         ┆ ['2011-07-02   ┆                ┆             │\n",
       "│          ┆             ┆               ┆         ┆ 18:00:00' 1]   ┆                ┆             │\n",
       "│          ┆             ┆               ┆         ┆ ['2012-06-06   ┆                ┆             │\n",
       "│          ┆             ┆               ┆         ┆ 07:00:00' 1]   ┆                ┆             │\n",
       "│          ┆             ┆               ┆         ┆  ...           ┆                ┆             │\n",
       "│          ┆             ┆               ┆         ┆ ['2011-01-18   ┆                ┆             │\n",
       "│          ┆             ┆               ┆         ┆ 14:00:00' 1]   ┆                ┆             │\n",
       "│          ┆             ┆               ┆         ┆ ['2011-12-28   ┆                ┆             │\n",
       "│          ┆             ┆               ┆         ┆ 13:00:00' 1]   ┆                ┆             │\n",
       "│          ┆             ┆               ┆         ┆ ['2012-03-07   ┆                ┆             │\n",
       "│          ┆             ┆               ┆         ┆ 00:00:00' 1]]  ┆                ┆             │\n",
       "└──────────┴─────────────┴───────────────┴─────────┴────────────────┴────────────────┴─────────────┘"
      ]
     },
     "metadata": {},
     "output_type": "display_data"
    },
    {
     "data": {
      "text/html": [
       "<div><style>\n",
       ".dataframe > thead > tr,\n",
       ".dataframe > tbody > tr {\n",
       "  text-align: right;\n",
       "  white-space: pre-wrap;\n",
       "}\n",
       "</style>\n",
       "<small>shape: (15, 15)</small><table border=\"1\" class=\"dataframe\"><thead><tr><th>season</th><th>yr</th><th>mnth</th><th>hr</th><th>holiday</th><th>weekday</th><th>workingday</th><th>weathersit</th><th>temp</th><th>atemp</th><th>hum</th><th>windspeed</th><th>casual</th><th>registered</th><th>cnt</th></tr><tr><td>f64</td><td>f64</td><td>f64</td><td>f64</td><td>f64</td><td>f64</td><td>f64</td><td>f64</td><td>f64</td><td>f64</td><td>f64</td><td>f64</td><td>f64</td><td>f64</td><td>f64</td></tr></thead><tbody><tr><td>1.0</td><td>-0.309066</td><td>0.861784</td><td>-0.007902</td><td>-0.01085</td><td>-0.002038</td><td>0.011264</td><td>-0.019776</td><td>0.426424</td><td>0.428898</td><td>0.171537</td><td>-0.141939</td><td>0.121768</td><td>0.106236</td><td>0.122029</td></tr><tr><td>-0.309066</td><td>1.0</td><td>-0.368074</td><td>-0.005019</td><td>-0.0019</td><td>-0.008503</td><td>0.001956</td><td>-0.035066</td><td>0.065511</td><td>0.065467</td><td>-0.132205</td><td>0.030481</td><td>0.147279</td><td>0.236922</td><td>0.236901</td></tr><tr><td>0.861784</td><td>-0.368074</td><td>1.0</td><td>-0.007393</td><td>0.005516</td><td>0.012594</td><td>0.006021</td><td>-0.018295</td><td>0.356578</td><td>0.362571</td><td>0.183779</td><td>-0.144995</td><td>0.084158</td><td>0.073322</td><td>0.084255</td></tr><tr><td>-0.007902</td><td>-0.005019</td><td>-0.007393</td><td>1.0</td><td>0.000431</td><td>-0.003697</td><td>0.001854</td><td>-0.025294</td><td>0.137681</td><td>0.132834</td><td>-0.274534</td><td>0.142789</td><td>0.303987</td><td>0.381464</td><td>0.400389</td></tr><tr><td>-0.01085</td><td>-0.0019</td><td>0.005516</td><td>0.000431</td><td>1.0</td><td>-0.098802</td><td>-0.247221</td><td>-0.021899</td><td>-0.021535</td><td>-0.028618</td><td>-0.031837</td><td>0.017985</td><td>0.037781</td><td>-0.042873</td><td>-0.024599</td></tr><tr><td>-0.002038</td><td>-0.008503</td><td>0.012594</td><td>-0.003697</td><td>-0.098802</td><td>1.0</td><td>0.032216</td><td>0.016781</td><td>-0.00927</td><td>-0.010465</td><td>-0.028834</td><td>0.004026</td><td>0.017854</td><td>0.01446</td><td>0.016973</td></tr><tr><td>0.011264</td><td>0.001956</td><td>0.006021</td><td>0.001854</td><td>-0.247221</td><td>0.032216</td><td>1.0</td><td>0.052018</td><td>0.049974</td><td>0.053047</td><td>0.021399</td><td>-0.000331</td><td>-0.307405</td><td>0.131536</td><td>0.021173</td></tr><tr><td>-0.019776</td><td>-0.035066</td><td>-0.018295</td><td>-0.025294</td><td>-0.021899</td><td>0.016781</td><td>0.052018</td><td>1.0</td><td>-0.106476</td><td>-0.107798</td><td>0.425762</td><td>0.015524</td><td>-0.1613</td><td>-0.134319</td><td>-0.156369</td></tr><tr><td>0.426424</td><td>0.065511</td><td>0.356578</td><td>0.137681</td><td>-0.021535</td><td>-0.00927</td><td>0.049974</td><td>-0.106476</td><td>1.0</td><td>0.992383</td><td>-0.069482</td><td>-0.023809</td><td>0.468246</td><td>0.361925</td><td>0.430873</td></tr><tr><td>0.428898</td><td>0.065467</td><td>0.362571</td><td>0.132834</td><td>-0.028618</td><td>-0.010465</td><td>0.053047</td><td>-0.107798</td><td>0.992383</td><td>1.0</td><td>-0.051734</td><td>-0.060923</td><td>0.462584</td><td>0.358595</td><td>0.426524</td></tr><tr><td>0.171537</td><td>-0.132205</td><td>0.183779</td><td>-0.274534</td><td>-0.031837</td><td>-0.028834</td><td>0.021399</td><td>0.425762</td><td>-0.069482</td><td>-0.051734</td><td>1.0</td><td>-0.29018</td><td>-0.332144</td><td>-0.284441</td><td>-0.328461</td></tr><tr><td>-0.141939</td><td>0.030481</td><td>-0.144995</td><td>0.142789</td><td>0.017985</td><td>0.004026</td><td>-0.000331</td><td>0.015524</td><td>-0.023809</td><td>-0.060923</td><td>-0.29018</td><td>1.0</td><td>0.081258</td><td>0.095116</td><td>0.101384</td></tr><tr><td>0.121768</td><td>0.147279</td><td>0.084158</td><td>0.303987</td><td>0.037781</td><td>0.017854</td><td>-0.307405</td><td>-0.1613</td><td>0.468246</td><td>0.462584</td><td>-0.332144</td><td>0.081258</td><td>1.0</td><td>0.51638</td><td>0.708871</td></tr><tr><td>0.106236</td><td>0.236922</td><td>0.073322</td><td>0.381464</td><td>-0.042873</td><td>0.01446</td><td>0.131536</td><td>-0.134319</td><td>0.361925</td><td>0.358595</td><td>-0.284441</td><td>0.095116</td><td>0.51638</td><td>1.0</td><td>0.97007</td></tr><tr><td>0.122029</td><td>0.236901</td><td>0.084255</td><td>0.400389</td><td>-0.024599</td><td>0.016973</td><td>0.021173</td><td>-0.156369</td><td>0.430873</td><td>0.426524</td><td>-0.328461</td><td>0.101384</td><td>0.708871</td><td>0.97007</td><td>1.0</td></tr></tbody></table></div>"
      ],
      "text/plain": [
       "shape: (15, 15)\n",
       "┌─────┬─────┬─────┬─────┬─────┬─────┬─────┬─────┬─────┬─────┬─────┬────────┬───────┬───────┬───────┐\n",
       "│ sea ┆ yr  ┆ mnt ┆ hr  ┆ hol ┆ wee ┆ wor ┆ wea ┆ tem ┆ ate ┆ hum ┆ windsp ┆ casua ┆ regis ┆ cnt   │\n",
       "│ son ┆ --- ┆ h   ┆ --- ┆ ida ┆ kda ┆ kin ┆ the ┆ p   ┆ mp  ┆ --- ┆ eed    ┆ l     ┆ tered ┆ ---   │\n",
       "│ --- ┆ f64 ┆ --- ┆ f64 ┆ y   ┆ y   ┆ gda ┆ rsi ┆ --- ┆ --- ┆ f64 ┆ ---    ┆ ---   ┆ ---   ┆ f64   │\n",
       "│ f64 ┆     ┆ f64 ┆     ┆ --- ┆ --- ┆ y   ┆ t   ┆ f64 ┆ f64 ┆     ┆ f64    ┆ f64   ┆ f64   ┆       │\n",
       "│     ┆     ┆     ┆     ┆ f64 ┆ f64 ┆ --- ┆ --- ┆     ┆     ┆     ┆        ┆       ┆       ┆       │\n",
       "│     ┆     ┆     ┆     ┆     ┆     ┆ f64 ┆ f64 ┆     ┆     ┆     ┆        ┆       ┆       ┆       │\n",
       "╞═════╪═════╪═════╪═════╪═════╪═════╪═════╪═════╪═════╪═════╪═════╪════════╪═══════╪═══════╪═══════╡\n",
       "│ 1.0 ┆ -0. ┆ 0.8 ┆ -0. ┆ -0. ┆ -0. ┆ 0.0 ┆ -0. ┆ 0.4 ┆ 0.4 ┆ 0.1 ┆ -0.141 ┆ 0.121 ┆ 0.106 ┆ 0.122 │\n",
       "│     ┆ 309 ┆ 617 ┆ 007 ┆ 010 ┆ 002 ┆ 112 ┆ 019 ┆ 264 ┆ 288 ┆ 715 ┆ 939    ┆ 768   ┆ 236   ┆ 029   │\n",
       "│     ┆ 066 ┆ 84  ┆ 902 ┆ 85  ┆ 038 ┆ 64  ┆ 776 ┆ 24  ┆ 98  ┆ 37  ┆        ┆       ┆       ┆       │\n",
       "│ -0. ┆ 1.0 ┆ -0. ┆ -0. ┆ -0. ┆ -0. ┆ 0.0 ┆ -0. ┆ 0.0 ┆ 0.0 ┆ -0. ┆ 0.0304 ┆ 0.147 ┆ 0.236 ┆ 0.236 │\n",
       "│ 309 ┆     ┆ 368 ┆ 005 ┆ 001 ┆ 008 ┆ 019 ┆ 035 ┆ 655 ┆ 654 ┆ 132 ┆ 81     ┆ 279   ┆ 922   ┆ 901   │\n",
       "│ 066 ┆     ┆ 074 ┆ 019 ┆ 9   ┆ 503 ┆ 56  ┆ 066 ┆ 11  ┆ 67  ┆ 205 ┆        ┆       ┆       ┆       │\n",
       "│ 0.8 ┆ -0. ┆ 1.0 ┆ -0. ┆ 0.0 ┆ 0.0 ┆ 0.0 ┆ -0. ┆ 0.3 ┆ 0.3 ┆ 0.1 ┆ -0.144 ┆ 0.084 ┆ 0.073 ┆ 0.084 │\n",
       "│ 617 ┆ 368 ┆     ┆ 007 ┆ 055 ┆ 125 ┆ 060 ┆ 018 ┆ 565 ┆ 625 ┆ 837 ┆ 995    ┆ 158   ┆ 322   ┆ 255   │\n",
       "│ 84  ┆ 074 ┆     ┆ 393 ┆ 16  ┆ 94  ┆ 21  ┆ 295 ┆ 78  ┆ 71  ┆ 79  ┆        ┆       ┆       ┆       │\n",
       "│ -0. ┆ -0. ┆ -0. ┆ 1.0 ┆ 0.0 ┆ -0. ┆ 0.0 ┆ -0. ┆ 0.1 ┆ 0.1 ┆ -0. ┆ 0.1427 ┆ 0.303 ┆ 0.381 ┆ 0.400 │\n",
       "│ 007 ┆ 005 ┆ 007 ┆     ┆ 004 ┆ 003 ┆ 018 ┆ 025 ┆ 376 ┆ 328 ┆ 274 ┆ 89     ┆ 987   ┆ 464   ┆ 389   │\n",
       "│ 902 ┆ 019 ┆ 393 ┆     ┆ 31  ┆ 697 ┆ 54  ┆ 294 ┆ 81  ┆ 34  ┆ 534 ┆        ┆       ┆       ┆       │\n",
       "│ -0. ┆ -0. ┆ 0.0 ┆ 0.0 ┆ 1.0 ┆ -0. ┆ -0. ┆ -0. ┆ -0. ┆ -0. ┆ -0. ┆ 0.0179 ┆ 0.037 ┆ -0.04 ┆ -0.02 │\n",
       "│ 010 ┆ 001 ┆ 055 ┆ 004 ┆     ┆ 098 ┆ 247 ┆ 021 ┆ 021 ┆ 028 ┆ 031 ┆ 85     ┆ 781   ┆ 2873  ┆ 4599  │\n",
       "│ 85  ┆ 9   ┆ 16  ┆ 31  ┆     ┆ 802 ┆ 221 ┆ 899 ┆ 535 ┆ 618 ┆ 837 ┆        ┆       ┆       ┆       │\n",
       "│ -0. ┆ -0. ┆ 0.0 ┆ -0. ┆ -0. ┆ 1.0 ┆ 0.0 ┆ 0.0 ┆ -0. ┆ -0. ┆ -0. ┆ 0.0040 ┆ 0.017 ┆ 0.014 ┆ 0.016 │\n",
       "│ 002 ┆ 008 ┆ 125 ┆ 003 ┆ 098 ┆     ┆ 322 ┆ 167 ┆ 009 ┆ 010 ┆ 028 ┆ 26     ┆ 854   ┆ 46    ┆ 973   │\n",
       "│ 038 ┆ 503 ┆ 94  ┆ 697 ┆ 802 ┆     ┆ 16  ┆ 81  ┆ 27  ┆ 465 ┆ 834 ┆        ┆       ┆       ┆       │\n",
       "│ 0.0 ┆ 0.0 ┆ 0.0 ┆ 0.0 ┆ -0. ┆ 0.0 ┆ 1.0 ┆ 0.0 ┆ 0.0 ┆ 0.0 ┆ 0.0 ┆ -0.000 ┆ -0.30 ┆ 0.131 ┆ 0.021 │\n",
       "│ 112 ┆ 019 ┆ 060 ┆ 018 ┆ 247 ┆ 322 ┆     ┆ 520 ┆ 499 ┆ 530 ┆ 213 ┆ 331    ┆ 7405  ┆ 536   ┆ 173   │\n",
       "│ 64  ┆ 56  ┆ 21  ┆ 54  ┆ 221 ┆ 16  ┆     ┆ 18  ┆ 74  ┆ 47  ┆ 99  ┆        ┆       ┆       ┆       │\n",
       "│ -0. ┆ -0. ┆ -0. ┆ -0. ┆ -0. ┆ 0.0 ┆ 0.0 ┆ 1.0 ┆ -0. ┆ -0. ┆ 0.4 ┆ 0.0155 ┆ -0.16 ┆ -0.13 ┆ -0.15 │\n",
       "│ 019 ┆ 035 ┆ 018 ┆ 025 ┆ 021 ┆ 167 ┆ 520 ┆     ┆ 106 ┆ 107 ┆ 257 ┆ 24     ┆ 13    ┆ 4319  ┆ 6369  │\n",
       "│ 776 ┆ 066 ┆ 295 ┆ 294 ┆ 899 ┆ 81  ┆ 18  ┆     ┆ 476 ┆ 798 ┆ 62  ┆        ┆       ┆       ┆       │\n",
       "│ 0.4 ┆ 0.0 ┆ 0.3 ┆ 0.1 ┆ -0. ┆ -0. ┆ 0.0 ┆ -0. ┆ 1.0 ┆ 0.9 ┆ -0. ┆ -0.023 ┆ 0.468 ┆ 0.361 ┆ 0.430 │\n",
       "│ 264 ┆ 655 ┆ 565 ┆ 376 ┆ 021 ┆ 009 ┆ 499 ┆ 106 ┆     ┆ 923 ┆ 069 ┆ 809    ┆ 246   ┆ 925   ┆ 873   │\n",
       "│ 24  ┆ 11  ┆ 78  ┆ 81  ┆ 535 ┆ 27  ┆ 74  ┆ 476 ┆     ┆ 83  ┆ 482 ┆        ┆       ┆       ┆       │\n",
       "│ 0.4 ┆ 0.0 ┆ 0.3 ┆ 0.1 ┆ -0. ┆ -0. ┆ 0.0 ┆ -0. ┆ 0.9 ┆ 1.0 ┆ -0. ┆ -0.060 ┆ 0.462 ┆ 0.358 ┆ 0.426 │\n",
       "│ 288 ┆ 654 ┆ 625 ┆ 328 ┆ 028 ┆ 010 ┆ 530 ┆ 107 ┆ 923 ┆     ┆ 051 ┆ 923    ┆ 584   ┆ 595   ┆ 524   │\n",
       "│ 98  ┆ 67  ┆ 71  ┆ 34  ┆ 618 ┆ 465 ┆ 47  ┆ 798 ┆ 83  ┆     ┆ 734 ┆        ┆       ┆       ┆       │\n",
       "│ 0.1 ┆ -0. ┆ 0.1 ┆ -0. ┆ -0. ┆ -0. ┆ 0.0 ┆ 0.4 ┆ -0. ┆ -0. ┆ 1.0 ┆ -0.290 ┆ -0.33 ┆ -0.28 ┆ -0.32 │\n",
       "│ 715 ┆ 132 ┆ 837 ┆ 274 ┆ 031 ┆ 028 ┆ 213 ┆ 257 ┆ 069 ┆ 051 ┆     ┆ 18     ┆ 2144  ┆ 4441  ┆ 8461  │\n",
       "│ 37  ┆ 205 ┆ 79  ┆ 534 ┆ 837 ┆ 834 ┆ 99  ┆ 62  ┆ 482 ┆ 734 ┆     ┆        ┆       ┆       ┆       │\n",
       "│ -0. ┆ 0.0 ┆ -0. ┆ 0.1 ┆ 0.0 ┆ 0.0 ┆ -0. ┆ 0.0 ┆ -0. ┆ -0. ┆ -0. ┆ 1.0    ┆ 0.081 ┆ 0.095 ┆ 0.101 │\n",
       "│ 141 ┆ 304 ┆ 144 ┆ 427 ┆ 179 ┆ 040 ┆ 000 ┆ 155 ┆ 023 ┆ 060 ┆ 290 ┆        ┆ 258   ┆ 116   ┆ 384   │\n",
       "│ 939 ┆ 81  ┆ 995 ┆ 89  ┆ 85  ┆ 26  ┆ 331 ┆ 24  ┆ 809 ┆ 923 ┆ 18  ┆        ┆       ┆       ┆       │\n",
       "│ 0.1 ┆ 0.1 ┆ 0.0 ┆ 0.3 ┆ 0.0 ┆ 0.0 ┆ -0. ┆ -0. ┆ 0.4 ┆ 0.4 ┆ -0. ┆ 0.0812 ┆ 1.0   ┆ 0.516 ┆ 0.708 │\n",
       "│ 217 ┆ 472 ┆ 841 ┆ 039 ┆ 377 ┆ 178 ┆ 307 ┆ 161 ┆ 682 ┆ 625 ┆ 332 ┆ 58     ┆       ┆ 38    ┆ 871   │\n",
       "│ 68  ┆ 79  ┆ 58  ┆ 87  ┆ 81  ┆ 54  ┆ 405 ┆ 3   ┆ 46  ┆ 84  ┆ 144 ┆        ┆       ┆       ┆       │\n",
       "│ 0.1 ┆ 0.2 ┆ 0.0 ┆ 0.3 ┆ -0. ┆ 0.0 ┆ 0.1 ┆ -0. ┆ 0.3 ┆ 0.3 ┆ -0. ┆ 0.0951 ┆ 0.516 ┆ 1.0   ┆ 0.970 │\n",
       "│ 062 ┆ 369 ┆ 733 ┆ 814 ┆ 042 ┆ 144 ┆ 315 ┆ 134 ┆ 619 ┆ 585 ┆ 284 ┆ 16     ┆ 38    ┆       ┆ 07    │\n",
       "│ 36  ┆ 22  ┆ 22  ┆ 64  ┆ 873 ┆ 6   ┆ 36  ┆ 319 ┆ 25  ┆ 95  ┆ 441 ┆        ┆       ┆       ┆       │\n",
       "│ 0.1 ┆ 0.2 ┆ 0.0 ┆ 0.4 ┆ -0. ┆ 0.0 ┆ 0.0 ┆ -0. ┆ 0.4 ┆ 0.4 ┆ -0. ┆ 0.1013 ┆ 0.708 ┆ 0.970 ┆ 1.0   │\n",
       "│ 220 ┆ 369 ┆ 842 ┆ 003 ┆ 024 ┆ 169 ┆ 211 ┆ 156 ┆ 308 ┆ 265 ┆ 328 ┆ 84     ┆ 871   ┆ 07    ┆       │\n",
       "│ 29  ┆ 01  ┆ 55  ┆ 89  ┆ 599 ┆ 73  ┆ 73  ┆ 369 ┆ 73  ┆ 24  ┆ 461 ┆        ┆       ┆       ┆       │\n",
       "└─────┴─────┴─────┴─────┴─────┴─────┴─────┴─────┴─────┴─────┴─────┴────────┴───────┴───────┴───────┘"
      ]
     },
     "execution_count": 91,
     "metadata": {},
     "output_type": "execute_result"
    }
   ],
   "source": [
    "# Test with both Pandas and Polars data\n",
    "df_pandas = pd.DataFrame(\n",
    "    {\n",
    "        \"name\": [\"Alice\", \"Bob\", \"Charlie\", \"Anya\", \"Eve\", \"Olivia\"],\n",
    "        \"age\": [25, 30, 35, 28, 25, 38],\n",
    "        \"role\": [\"Engineer\", \"Manager\", \"Engineer\", \"Engineer\", \"HR\", \"Engineer\"],\n",
    "        \"salary\": [85000, 55000, 65000, 55000, 48000, 72000],\n",
    "        \"self_employed\": [True, False, True, False, True, False],\n",
    "    }\n",
    ")\n",
    "\n",
    "df_polars = pl.DataFrame(\n",
    "    {\n",
    "        \"name\": [\"Alice\", \"Bob\", \"Charlie\", \"Anya\", \"Eve\", \"Olivia\"],\n",
    "        \"age\": [25, 30, 35, 28, 25, 38],\n",
    "        \"role\": [\"Engineer\", \"Manager\", \"Engineer\", \"Engineer\", \"HR\", \"Engineer\"],\n",
    "        \"salary\": [85000, 55000, 65000, 55000, 48000, 72000],\n",
    "        \"self_employed\": [True, False, True, False, True, False],\n",
    "    }\n",
    ")\n",
    "\n",
    "# print(\"Testing with Pandas DataFrame:\")\n",
    "# print(\"=\" * 40)\n",
    "# eda_pandas = ExploratoryDataAnalysis(df_pandas)\n",
    "# result_pandas = eda_pandas.numeric_summary()\n",
    "# print(f\"Result type: {type(result_pandas)}\")\n",
    "# print()\n",
    "\n",
    "# print(\"Testing with Polars DataFrame:\")\n",
    "# print(\"=\" * 40)\n",
    "# eda_polars = ExploratoryDataAnalysis(df_polars)\n",
    "# result_polars = eda_polars.numeric_summary()\n",
    "# print(f\"Result type: {type(result_polars)}\")\n",
    "\n",
    "# print(\"\\nPandas result:\")\n",
    "# display(result_pandas)\n",
    "\n",
    "# print(\"\\nPolars result:\")\n",
    "# display(result_polars)\n",
    "\n",
    "\n",
    "eda_pandas = ExploratoryDataAnalysis(data)\n",
    "eda_pandas.numeric_summary()\n",
    "\n",
    "res = eda_pandas.categorical_summary()\n",
    "display(res)\n",
    "\n",
    "eda_pandas.correlation_analysis()"
   ]
  },
  {
   "cell_type": "code",
   "execution_count": 14,
   "id": "93692cda",
   "metadata": {},
   "outputs": [
    {
     "data": {
      "text/html": [
       "<div><style>\n",
       ".dataframe > thead > tr,\n",
       ".dataframe > tbody > tr {\n",
       "  text-align: right;\n",
       "  white-space: pre-wrap;\n",
       "}\n",
       "</style>\n",
       "<small>shape: (6, 5)</small><table border=\"1\" class=\"dataframe\"><thead><tr><th>name</th><th>age</th><th>role</th><th>salary</th><th>self_employed</th></tr><tr><td>str</td><td>i64</td><td>str</td><td>i64</td><td>bool</td></tr></thead><tbody><tr><td>&quot;Alice&quot;</td><td>25</td><td>&quot;Engineer&quot;</td><td>45000</td><td>true</td></tr><tr><td>&quot;Bob&quot;</td><td>30</td><td>&quot;Manager&quot;</td><td>55000</td><td>false</td></tr><tr><td>&quot;Charlie&quot;</td><td>35</td><td>&quot;Engineer&quot;</td><td>65000</td><td>true</td></tr><tr><td>&quot;Anya&quot;</td><td>28</td><td>&quot;Engineer&quot;</td><td>55000</td><td>false</td></tr><tr><td>&quot;Eve&quot;</td><td>25</td><td>&quot;HR&quot;</td><td>48000</td><td>true</td></tr><tr><td>&quot;Olivia&quot;</td><td>38</td><td>&quot;Engineer&quot;</td><td>72000</td><td>false</td></tr></tbody></table></div>"
      ],
      "text/plain": [
       "shape: (6, 5)\n",
       "┌─────────┬─────┬──────────┬────────┬───────────────┐\n",
       "│ name    ┆ age ┆ role     ┆ salary ┆ self_employed │\n",
       "│ ---     ┆ --- ┆ ---      ┆ ---    ┆ ---           │\n",
       "│ str     ┆ i64 ┆ str      ┆ i64    ┆ bool          │\n",
       "╞═════════╪═════╪══════════╪════════╪═══════════════╡\n",
       "│ Alice   ┆ 25  ┆ Engineer ┆ 45000  ┆ true          │\n",
       "│ Bob     ┆ 30  ┆ Manager  ┆ 55000  ┆ false         │\n",
       "│ Charlie ┆ 35  ┆ Engineer ┆ 65000  ┆ true          │\n",
       "│ Anya    ┆ 28  ┆ Engineer ┆ 55000  ┆ false         │\n",
       "│ Eve     ┆ 25  ┆ HR       ┆ 48000  ┆ true          │\n",
       "│ Olivia  ┆ 38  ┆ Engineer ┆ 72000  ┆ false         │\n",
       "└─────────┴─────┴──────────┴────────┴───────────────┘"
      ]
     },
     "execution_count": 14,
     "metadata": {},
     "output_type": "execute_result"
    }
   ],
   "source": [
    "df_polars"
   ]
  },
  {
   "cell_type": "code",
   "execution_count": 67,
   "id": "586663c4",
   "metadata": {},
   "outputs": [
    {
     "data": {
      "text/plain": [
       "┌─────────────────────────────────────────────────────┐\n",
       "|                 Narwhals DataFrame                  |\n",
       "|-----------------------------------------------------|\n",
       "|shape: (6, 5)                                        |\n",
       "|┌─────────┬─────┬──────────┬────────┬───────────────┐|\n",
       "|│ name    ┆ age ┆ role     ┆ salary ┆ self_employed │|\n",
       "|│ ---     ┆ --- ┆ ---      ┆ ---    ┆ ---           │|\n",
       "|│ str     ┆ i64 ┆ str      ┆ i64    ┆ bool          │|\n",
       "|╞═════════╪═════╪══════════╪════════╪═══════════════╡|\n",
       "|│ Alice   ┆ 25  ┆ Engineer ┆ 45000  ┆ true          │|\n",
       "|│ Bob     ┆ 30  ┆ Manager  ┆ 55000  ┆ false         │|\n",
       "|│ Charlie ┆ 35  ┆ Engineer ┆ 65000  ┆ true          │|\n",
       "|│ Anya    ┆ 28  ┆ Engineer ┆ 55000  ┆ false         │|\n",
       "|│ Eve     ┆ 25  ┆ HR       ┆ 48000  ┆ true          │|\n",
       "|│ Olivia  ┆ 38  ┆ Engineer ┆ 72000  ┆ false         │|\n",
       "|└─────────┴─────┴──────────┴────────┴───────────────┘|\n",
       "└─────────────────────────────────────────────────────┘"
      ]
     },
     "execution_count": 67,
     "metadata": {},
     "output_type": "execute_result"
    }
   ],
   "source": [
    "nw_df = nw.from_native(df_polars)\n",
    "nw_df"
   ]
  },
  {
   "cell_type": "code",
   "execution_count": 151,
   "id": "e0602dd8",
   "metadata": {},
   "outputs": [
    {
     "data": {
      "application/vnd.plotly.v1+json": {
       "config": {
        "plotlyServerURL": "https://plot.ly"
       },
       "data": [
        {
         "marker": {
          "color": "lightblue",
          "line": {
           "color": "blue",
           "width": 1
          },
          "opacity": 0.7,
          "size": 2
         },
         "mode": "markers",
         "name": "age_normal",
         "showlegend": false,
         "type": "scatter",
         "x": {
          "bdata": "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",
          "dtype": "i2"
         },
         "xaxis": "x",
         "y": {
          "bdata": "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",
          "dtype": "f8"
         },
         "yaxis": "y"
        },
        {
         "marker": {
          "color": "red",
          "line": {
           "color": "darkred",
           "width": 2
          },
          "size": 4,
          "symbol": "diamond"
         },
         "mode": "markers",
         "name": "age_outliers",
         "showlegend": false,
         "type": "scatter",
         "x": {
          "bdata": "AAE=",
          "dtype": "i1"
         },
         "xaxis": "x",
         "y": {
          "bdata": "0CEHY3eyUECstiBE/b73vw==",
          "dtype": "f8"
         },
         "yaxis": "y"
        },
        {
         "marker": {
          "color": "lightblue",
          "line": {
           "color": "blue",
           "width": 1
          },
          "opacity": 0.7,
          "size": 2
         },
         "mode": "markers",
         "name": "salary_normal",
         "showlegend": false,
         "type": "scatter",
         "x": {
          "bdata": "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",
          "dtype": "i2"
         },
         "xaxis": "x2",
         "y": {
          "bdata": "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",
          "dtype": "f8"
         },
         "yaxis": "y2"
        },
        {
         "marker": {
          "color": "red",
          "line": {
           "color": "darkred",
           "width": 2
          },
          "size": 4,
          "symbol": "diamond"
         },
         "mode": "markers",
         "name": "salary_outliers",
         "showlegend": false,
         "type": "scatter",
         "x": {
          "bdata": "AAECAwQFBgcICQoLDA0ODxAREhM=",
          "dtype": "i1"
         },
         "xaxis": "x2",
         "y": {
          "bdata": "iB+7OH7nDkEq66n8qf0VQX6XGYTarAlBBkGZnaE0CkGgEmfNp6kQQZIfxmeqPglBfxVoKyUGCUFNw4ze0XMKQa/2pbluXwxB/LnYhaBlDkHDRHR3M0AMQfFTRiL0/RJBUdUZL/U8F0HPKtB+fEgMQWaTGpr2KwtBRb4D1tw4EkHh99W/bycUQY9xuBf1CRNBF1k+F7FdDUGg4o9fSOEMQQ==",
          "dtype": "f8"
         },
         "yaxis": "y2"
        },
        {
         "marker": {
          "color": "lightblue",
          "line": {
           "color": "blue",
           "width": 1
          },
          "opacity": 0.7,
          "size": 2
         },
         "mode": "markers",
         "name": "score_normal",
         "showlegend": false,
         "type": "scatter",
         "x": {
          "bdata": "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",
          "dtype": "i2"
         },
         "xaxis": "x3",
         "y": {
          "bdata": "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",
          "dtype": "f8"
         },
         "yaxis": "y3"
        },
        {
         "marker": {
          "color": "lightblue",
          "line": {
           "color": "blue",
           "width": 1
          },
          "opacity": 0.7,
          "size": 2
         },
         "mode": "markers",
         "name": "target_normal",
         "showlegend": false,
         "type": "scatter",
         "x": {
          "bdata": "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",
          "dtype": "i2"
         },
         "xaxis": "x4",
         "y": {
          "bdata": "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",
          "dtype": "f8"
         },
         "yaxis": "y4"
        },
        {
         "marker": {
          "color": "red",
          "line": {
           "color": "darkred",
           "width": 2
          },
          "size": 4,
          "symbol": "diamond"
         },
         "mode": "markers",
         "name": "target_outliers",
         "showlegend": false,
         "type": "scatter",
         "x": {
          "bdata": "AAECAwQ=",
          "dtype": "i1"
         },
         "xaxis": "x4",
         "y": {
          "bdata": "QhGUUpDnPEA7/0hHUtg7QD+2/c+5VzxAYn5XuGP8XUBOi6zUm+deQA==",
          "dtype": "f8"
         },
         "yaxis": "y4"
        }
       ],
       "layout": {
        "annotations": [
         {
          "font": {
           "size": 16
          },
          "showarrow": false,
          "text": "age - Outliers (zscore)",
          "x": 0.15,
          "xanchor": "center",
          "xref": "paper",
          "y": 1,
          "yanchor": "bottom",
          "yref": "paper"
         },
         {
          "font": {
           "size": 16
          },
          "showarrow": false,
          "text": "salary - Outliers (zscore)",
          "x": 0.49999999999999994,
          "xanchor": "center",
          "xref": "paper",
          "y": 1,
          "yanchor": "bottom",
          "yref": "paper"
         },
         {
          "font": {
           "size": 16
          },
          "showarrow": false,
          "text": "score - Outliers (zscore)",
          "x": 0.85,
          "xanchor": "center",
          "xref": "paper",
          "y": 1,
          "yanchor": "bottom",
          "yref": "paper"
         },
         {
          "font": {
           "size": 16
          },
          "showarrow": false,
          "text": "target - Outliers (zscore)",
          "x": 0.15,
          "xanchor": "center",
          "xref": "paper",
          "y": 0.45,
          "yanchor": "bottom",
          "yref": "paper"
         }
        ],
        "height": 600,
        "template": {
         "data": {
          "bar": [
           {
            "error_x": {
             "color": "#2a3f5f"
            },
            "error_y": {
             "color": "#2a3f5f"
            },
            "marker": {
             "line": {
              "color": "#E5ECF6",
              "width": 0.5
             },
             "pattern": {
              "fillmode": "overlay",
              "size": 10,
              "solidity": 0.2
             }
            },
            "type": "bar"
           }
          ],
          "barpolar": [
           {
            "marker": {
             "line": {
              "color": "#E5ECF6",
              "width": 0.5
             },
             "pattern": {
              "fillmode": "overlay",
              "size": 10,
              "solidity": 0.2
             }
            },
            "type": "barpolar"
           }
          ],
          "carpet": [
           {
            "aaxis": {
             "endlinecolor": "#2a3f5f",
             "gridcolor": "white",
             "linecolor": "white",
             "minorgridcolor": "white",
             "startlinecolor": "#2a3f5f"
            },
            "baxis": {
             "endlinecolor": "#2a3f5f",
             "gridcolor": "white",
             "linecolor": "white",
             "minorgridcolor": "white",
             "startlinecolor": "#2a3f5f"
            },
            "type": "carpet"
           }
          ],
          "choropleth": [
           {
            "colorbar": {
             "outlinewidth": 0,
             "ticks": ""
            },
            "type": "choropleth"
           }
          ],
          "contour": [
           {
            "colorbar": {
             "outlinewidth": 0,
             "ticks": ""
            },
            "colorscale": [
             [
              0,
              "#0d0887"
             ],
             [
              0.1111111111111111,
              "#46039f"
             ],
             [
              0.2222222222222222,
              "#7201a8"
             ],
             [
              0.3333333333333333,
              "#9c179e"
             ],
             [
              0.4444444444444444,
              "#bd3786"
             ],
             [
              0.5555555555555556,
              "#d8576b"
             ],
             [
              0.6666666666666666,
              "#ed7953"
             ],
             [
              0.7777777777777778,
              "#fb9f3a"
             ],
             [
              0.8888888888888888,
              "#fdca26"
             ],
             [
              1,
              "#f0f921"
             ]
            ],
            "type": "contour"
           }
          ],
          "contourcarpet": [
           {
            "colorbar": {
             "outlinewidth": 0,
             "ticks": ""
            },
            "type": "contourcarpet"
           }
          ],
          "heatmap": [
           {
            "colorbar": {
             "outlinewidth": 0,
             "ticks": ""
            },
            "colorscale": [
             [
              0,
              "#0d0887"
             ],
             [
              0.1111111111111111,
              "#46039f"
             ],
             [
              0.2222222222222222,
              "#7201a8"
             ],
             [
              0.3333333333333333,
              "#9c179e"
             ],
             [
              0.4444444444444444,
              "#bd3786"
             ],
             [
              0.5555555555555556,
              "#d8576b"
             ],
             [
              0.6666666666666666,
              "#ed7953"
             ],
             [
              0.7777777777777778,
              "#fb9f3a"
             ],
             [
              0.8888888888888888,
              "#fdca26"
             ],
             [
              1,
              "#f0f921"
             ]
            ],
            "type": "heatmap"
           }
          ],
          "histogram": [
           {
            "marker": {
             "pattern": {
              "fillmode": "overlay",
              "size": 10,
              "solidity": 0.2
             }
            },
            "type": "histogram"
           }
          ],
          "histogram2d": [
           {
            "colorbar": {
             "outlinewidth": 0,
             "ticks": ""
            },
            "colorscale": [
             [
              0,
              "#0d0887"
             ],
             [
              0.1111111111111111,
              "#46039f"
             ],
             [
              0.2222222222222222,
              "#7201a8"
             ],
             [
              0.3333333333333333,
              "#9c179e"
             ],
             [
              0.4444444444444444,
              "#bd3786"
             ],
             [
              0.5555555555555556,
              "#d8576b"
             ],
             [
              0.6666666666666666,
              "#ed7953"
             ],
             [
              0.7777777777777778,
              "#fb9f3a"
             ],
             [
              0.8888888888888888,
              "#fdca26"
             ],
             [
              1,
              "#f0f921"
             ]
            ],
            "type": "histogram2d"
           }
          ],
          "histogram2dcontour": [
           {
            "colorbar": {
             "outlinewidth": 0,
             "ticks": ""
            },
            "colorscale": [
             [
              0,
              "#0d0887"
             ],
             [
              0.1111111111111111,
              "#46039f"
             ],
             [
              0.2222222222222222,
              "#7201a8"
             ],
             [
              0.3333333333333333,
              "#9c179e"
             ],
             [
              0.4444444444444444,
              "#bd3786"
             ],
             [
              0.5555555555555556,
              "#d8576b"
             ],
             [
              0.6666666666666666,
              "#ed7953"
             ],
             [
              0.7777777777777778,
              "#fb9f3a"
             ],
             [
              0.8888888888888888,
              "#fdca26"
             ],
             [
              1,
              "#f0f921"
             ]
            ],
            "type": "histogram2dcontour"
           }
          ],
          "mesh3d": [
           {
            "colorbar": {
             "outlinewidth": 0,
             "ticks": ""
            },
            "type": "mesh3d"
           }
          ],
          "parcoords": [
           {
            "line": {
             "colorbar": {
              "outlinewidth": 0,
              "ticks": ""
             }
            },
            "type": "parcoords"
           }
          ],
          "pie": [
           {
            "automargin": true,
            "type": "pie"
           }
          ],
          "scatter": [
           {
            "fillpattern": {
             "fillmode": "overlay",
             "size": 10,
             "solidity": 0.2
            },
            "type": "scatter"
           }
          ],
          "scatter3d": [
           {
            "line": {
             "colorbar": {
              "outlinewidth": 0,
              "ticks": ""
             }
            },
            "marker": {
             "colorbar": {
              "outlinewidth": 0,
              "ticks": ""
             }
            },
            "type": "scatter3d"
           }
          ],
          "scattercarpet": [
           {
            "marker": {
             "colorbar": {
              "outlinewidth": 0,
              "ticks": ""
             }
            },
            "type": "scattercarpet"
           }
          ],
          "scattergeo": [
           {
            "marker": {
             "colorbar": {
              "outlinewidth": 0,
              "ticks": ""
             }
            },
            "type": "scattergeo"
           }
          ],
          "scattergl": [
           {
            "marker": {
             "colorbar": {
              "outlinewidth": 0,
              "ticks": ""
             }
            },
            "type": "scattergl"
           }
          ],
          "scattermap": [
           {
            "marker": {
             "colorbar": {
              "outlinewidth": 0,
              "ticks": ""
             }
            },
            "type": "scattermap"
           }
          ],
          "scattermapbox": [
           {
            "marker": {
             "colorbar": {
              "outlinewidth": 0,
              "ticks": ""
             }
            },
            "type": "scattermapbox"
           }
          ],
          "scatterpolar": [
           {
            "marker": {
             "colorbar": {
              "outlinewidth": 0,
              "ticks": ""
             }
            },
            "type": "scatterpolar"
           }
          ],
          "scatterpolargl": [
           {
            "marker": {
             "colorbar": {
              "outlinewidth": 0,
              "ticks": ""
             }
            },
            "type": "scatterpolargl"
           }
          ],
          "scatterternary": [
           {
            "marker": {
             "colorbar": {
              "outlinewidth": 0,
              "ticks": ""
             }
            },
            "type": "scatterternary"
           }
          ],
          "surface": [
           {
            "colorbar": {
             "outlinewidth": 0,
             "ticks": ""
            },
            "colorscale": [
             [
              0,
              "#0d0887"
             ],
             [
              0.1111111111111111,
              "#46039f"
             ],
             [
              0.2222222222222222,
              "#7201a8"
             ],
             [
              0.3333333333333333,
              "#9c179e"
             ],
             [
              0.4444444444444444,
              "#bd3786"
             ],
             [
              0.5555555555555556,
              "#d8576b"
             ],
             [
              0.6666666666666666,
              "#ed7953"
             ],
             [
              0.7777777777777778,
              "#fb9f3a"
             ],
             [
              0.8888888888888888,
              "#fdca26"
             ],
             [
              1,
              "#f0f921"
             ]
            ],
            "type": "surface"
           }
          ],
          "table": [
           {
            "cells": {
             "fill": {
              "color": "#EBF0F8"
             },
             "line": {
              "color": "white"
             }
            },
            "header": {
             "fill": {
              "color": "#C8D4E3"
             },
             "line": {
              "color": "white"
             }
            },
            "type": "table"
           }
          ]
         },
         "layout": {
          "annotationdefaults": {
           "arrowcolor": "#2a3f5f",
           "arrowhead": 0,
           "arrowwidth": 1
          },
          "autotypenumbers": "strict",
          "coloraxis": {
           "colorbar": {
            "outlinewidth": 0,
            "ticks": ""
           }
          },
          "colorscale": {
           "diverging": [
            [
             0,
             "#8e0152"
            ],
            [
             0.1,
             "#c51b7d"
            ],
            [
             0.2,
             "#de77ae"
            ],
            [
             0.3,
             "#f1b6da"
            ],
            [
             0.4,
             "#fde0ef"
            ],
            [
             0.5,
             "#f7f7f7"
            ],
            [
             0.6,
             "#e6f5d0"
            ],
            [
             0.7,
             "#b8e186"
            ],
            [
             0.8,
             "#7fbc41"
            ],
            [
             0.9,
             "#4d9221"
            ],
            [
             1,
             "#276419"
            ]
           ],
           "sequential": [
            [
             0,
             "#0d0887"
            ],
            [
             0.1111111111111111,
             "#46039f"
            ],
            [
             0.2222222222222222,
             "#7201a8"
            ],
            [
             0.3333333333333333,
             "#9c179e"
            ],
            [
             0.4444444444444444,
             "#bd3786"
            ],
            [
             0.5555555555555556,
             "#d8576b"
            ],
            [
             0.6666666666666666,
             "#ed7953"
            ],
            [
             0.7777777777777778,
             "#fb9f3a"
            ],
            [
             0.8888888888888888,
             "#fdca26"
            ],
            [
             1,
             "#f0f921"
            ]
           ],
           "sequentialminus": [
            [
             0,
             "#0d0887"
            ],
            [
             0.1111111111111111,
             "#46039f"
            ],
            [
             0.2222222222222222,
             "#7201a8"
            ],
            [
             0.3333333333333333,
             "#9c179e"
            ],
            [
             0.4444444444444444,
             "#bd3786"
            ],
            [
             0.5555555555555556,
             "#d8576b"
            ],
            [
             0.6666666666666666,
             "#ed7953"
            ],
            [
             0.7777777777777778,
             "#fb9f3a"
            ],
            [
             0.8888888888888888,
             "#fdca26"
            ],
            [
             1,
             "#f0f921"
            ]
           ]
          },
          "colorway": [
           "#636efa",
           "#EF553B",
           "#00cc96",
           "#ab63fa",
           "#FFA15A",
           "#19d3f3",
           "#FF6692",
           "#B6E880",
           "#FF97FF",
           "#FECB52"
          ],
          "font": {
           "color": "#2a3f5f"
          },
          "geo": {
           "bgcolor": "white",
           "lakecolor": "white",
           "landcolor": "#E5ECF6",
           "showlakes": true,
           "showland": true,
           "subunitcolor": "white"
          },
          "hoverlabel": {
           "align": "left"
          },
          "hovermode": "closest",
          "mapbox": {
           "style": "light"
          },
          "paper_bgcolor": "white",
          "plot_bgcolor": "#E5ECF6",
          "polar": {
           "angularaxis": {
            "gridcolor": "white",
            "linecolor": "white",
            "ticks": ""
           },
           "bgcolor": "#E5ECF6",
           "radialaxis": {
            "gridcolor": "white",
            "linecolor": "white",
            "ticks": ""
           }
          },
          "scene": {
           "xaxis": {
            "backgroundcolor": "#E5ECF6",
            "gridcolor": "white",
            "gridwidth": 2,
            "linecolor": "white",
            "showbackground": true,
            "ticks": "",
            "zerolinecolor": "white"
           },
           "yaxis": {
            "backgroundcolor": "#E5ECF6",
            "gridcolor": "white",
            "gridwidth": 2,
            "linecolor": "white",
            "showbackground": true,
            "ticks": "",
            "zerolinecolor": "white"
           },
           "zaxis": {
            "backgroundcolor": "#E5ECF6",
            "gridcolor": "white",
            "gridwidth": 2,
            "linecolor": "white",
            "showbackground": true,
            "ticks": "",
            "zerolinecolor": "white"
           }
          },
          "shapedefaults": {
           "line": {
            "color": "#2a3f5f"
           }
          },
          "ternary": {
           "aaxis": {
            "gridcolor": "white",
            "linecolor": "white",
            "ticks": ""
           },
           "baxis": {
            "gridcolor": "white",
            "linecolor": "white",
            "ticks": ""
           },
           "bgcolor": "#E5ECF6",
           "caxis": {
            "gridcolor": "white",
            "linecolor": "white",
            "ticks": ""
           }
          },
          "title": {
           "x": 0.05
          },
          "xaxis": {
           "automargin": true,
           "gridcolor": "white",
           "linecolor": "white",
           "ticks": "",
           "title": {
            "standoff": 15
           },
           "zerolinecolor": "white",
           "zerolinewidth": 2
          },
          "yaxis": {
           "automargin": true,
           "gridcolor": "white",
           "linecolor": "white",
           "ticks": "",
           "title": {
            "standoff": 15
           },
           "zerolinecolor": "white",
           "zerolinewidth": 2
          }
         }
        },
        "title": {
         "text": "Outliers Detection"
        },
        "width": 800,
        "xaxis": {
         "anchor": "y",
         "domain": [
          0,
          0.3
         ]
        },
        "xaxis2": {
         "anchor": "y2",
         "domain": [
          0.35,
          0.6499999999999999
         ]
        },
        "xaxis3": {
         "anchor": "y3",
         "domain": [
          0.7,
          1
         ]
        },
        "xaxis4": {
         "anchor": "y4",
         "domain": [
          0,
          0.3
         ]
        },
        "xaxis5": {
         "anchor": "y5",
         "domain": [
          0.35,
          0.6499999999999999
         ]
        },
        "xaxis6": {
         "anchor": "y6",
         "domain": [
          0.7,
          1
         ]
        },
        "yaxis": {
         "anchor": "x",
         "domain": [
          0.55,
          1
         ]
        },
        "yaxis2": {
         "anchor": "x2",
         "domain": [
          0.55,
          1
         ]
        },
        "yaxis3": {
         "anchor": "x3",
         "domain": [
          0.55,
          1
         ]
        },
        "yaxis4": {
         "anchor": "x4",
         "domain": [
          0,
          0.45
         ]
        },
        "yaxis5": {
         "anchor": "x5",
         "domain": [
          0,
          0.45
         ]
        },
        "yaxis6": {
         "anchor": "x6",
         "domain": [
          0,
          0.45
         ]
        }
       }
      }
     },
     "metadata": {},
     "output_type": "display_data"
    }
   ],
   "source": [
    "eda = ExploratoryDataAnalysis(data=dummy_data)\n",
    "# eda.group_analysis(groupby=\"role\", numeric_cols=[\"age\"])\n",
    "\n",
    "# eda.plot_categorical_distribution(plot_type=\"all\")\n",
    "# eda.plot_correlation_heatmap(method=\"pearson\")\n",
    "\n",
    "# eda._calculate_outliers_iqr(series=nw_df[\"age\"])[0]\n",
    "\n",
    "# pl.int_range(0, 5)\n",
    "# np.arange(0, 5)\n",
    "\n",
    "\n",
    "eda.plot_outliers(method=\"zscore\")"
   ]
  },
  {
   "cell_type": "code",
   "execution_count": null,
   "id": "f71a680b",
   "metadata": {},
   "outputs": [
    {
     "name": "stdout",
     "output_type": "stream",
     "text": [
      "🔧 TESTING AND FIXING PLOT_OUTLIERS METHOD\n",
      "============================================================\n",
      "🧪 Testing outlier detection on a single column:\n",
      "📊 Age column analysis:\n",
      "   Total values: 6\n",
      "   Normal points: 6\n",
      "   Outliers: 0\n",
      "   Normal values: [25, 30, 35, 28, 25, 38]\n",
      "   Outlier values: []\n",
      "\n",
      "🎯 Generating improved outlier plot...\n"
     ]
    }
   ],
   "source": [
    "# Let's test and improve the plot_outliers method\n",
    "print(\"🔧 TESTING AND FIXING PLOT_OUTLIERS METHOD\")\n",
    "print(\"=\" * 60)\n",
    "\n",
    "# Test the outlier detection first\n",
    "print(\"🧪 Testing outlier detection on a single column:\")\n",
    "test_series = nw_df[\"age\"]\n",
    "normal, outliers = eda._calculate_outliers_iqr(test_series)\n",
    "\n",
    "print(\"📊 Age column analysis:\")\n",
    "print(f\"   Total values: {len(test_series)}\")\n",
    "print(f\"   Normal points: {len(normal)}\")\n",
    "print(f\"   Outliers: {len(outliers)}\")\n",
    "print(f\"   Normal values: {normal.to_list()}\")\n",
    "print(f\"   Outlier values: {outliers.to_list()}\")\n",
    "\n",
    "# Test the current plot\n",
    "print(\"\\n🎯 Generating improved outlier plot...\")"
   ]
  },
  {
   "cell_type": "code",
   "execution_count": 96,
   "id": "1fe1a317",
   "metadata": {},
   "outputs": [
    {
     "data": {
      "text/plain": [
       "┌───────────────────┐\n",
       "|  Narwhals Series  |\n",
       "|-------------------|\n",
       "|shape: (0,)        |\n",
       "|Series: 'age' [i64]|\n",
       "|[                  |\n",
       "|]                  |\n",
       "└───────────────────┘"
      ]
     },
     "execution_count": 96,
     "metadata": {},
     "output_type": "execute_result"
    }
   ],
   "source": [
    "eda._calculate_outliers_iqr(series=nw_df[\"age\"])[1]"
   ]
  },
  {
   "cell_type": "code",
   "execution_count": null,
   "id": "d466c2d7",
   "metadata": {},
   "outputs": [],
   "source": []
  },
  {
   "cell_type": "code",
   "execution_count": null,
   "id": "fd13e269",
   "metadata": {},
   "outputs": [],
   "source": [
    "from scipy.stats import spearmanr  # noqa: F811\n",
    "\n",
    "\n",
    "def corr(\n",
    "    data: pl.DataFrame,\n",
    "    method: Literal[\"pearson\", \"spearman\"] = \"pearson\",\n",
    "    **kwargs: Any,\n",
    ") -> pl.DataFrame:\n",
    "    numeric_columns: list[str] = data.select(cs.numeric()).columns\n",
    "    data = data.select(numeric_columns)\n",
    "    X: np.ndarray[Any, Any] = data.to_numpy()\n",
    "\n",
    "    if method == \"pearson\":\n",
    "        matrix: np.ndarray = np.corrcoef(X, rowvar=False, **kwargs)\n",
    "\n",
    "    else:  # spearman\n",
    "        matrix = spearmanr(X, axis=0, **kwargs).correlation\n",
    "        # Convert to a matrix\n",
    "        if np.isscalar(matrix):\n",
    "            matrix = np.array([[1.0, matrix], [matrix, 1.0]])\n",
    "\n",
    "    return pl.DataFrame(matrix, schema=numeric_columns)"
   ]
  },
  {
   "cell_type": "code",
   "execution_count": null,
   "id": "2be0f904",
   "metadata": {},
   "outputs": [],
   "source": [
    "df_polars"
   ]
  },
  {
   "cell_type": "code",
   "execution_count": null,
   "id": "1ffc3d5b",
   "metadata": {},
   "outputs": [],
   "source": [
    "corr(df_polars.select([\"age\", \"salary\"]), method=\"spearman\")"
   ]
  },
  {
   "cell_type": "code",
   "execution_count": null,
   "id": "ea52979b",
   "metadata": {},
   "outputs": [],
   "source": [
    "corr(df_polars.select([\"age\", \"salary\"]), method=\"pearson\")"
   ]
  },
  {
   "cell_type": "code",
   "execution_count": null,
   "id": "161cd6db",
   "metadata": {},
   "outputs": [],
   "source": [
    "df_polars[\"role\"].value_counts().to_dicts()"
   ]
  },
  {
   "cell_type": "code",
   "execution_count": null,
   "id": "179a2454",
   "metadata": {},
   "outputs": [],
   "source": []
  },
  {
   "cell_type": "code",
   "execution_count": null,
   "id": "438dc4d5",
   "metadata": {},
   "outputs": [],
   "source": []
  },
  {
   "cell_type": "code",
   "execution_count": null,
   "id": "83de0884",
   "metadata": {},
   "outputs": [],
   "source": []
  },
  {
   "cell_type": "code",
   "execution_count": null,
   "id": "346c649a",
   "metadata": {},
   "outputs": [],
   "source": []
  },
  {
   "cell_type": "code",
   "execution_count": null,
   "id": "d7c75d03",
   "metadata": {},
   "outputs": [],
   "source": []
  },
  {
   "cell_type": "code",
   "execution_count": null,
   "id": "0314b337",
   "metadata": {},
   "outputs": [],
   "source": [
    "fp: str = \"../data/bikes_2024.parquet\"\n",
    "data_table: pl.DataFrame = pl.read_parquet(fp)\n",
    "console.print(f\"Shape: {data_table.shape}\", style=\"info\")\n",
    "\n",
    "data_table.head(200)"
   ]
  },
  {
   "cell_type": "code",
   "execution_count": null,
   "id": "740bdd6f",
   "metadata": {},
   "outputs": [],
   "source": []
  },
  {
   "cell_type": "code",
   "execution_count": null,
   "id": "d31337e7",
   "metadata": {},
   "outputs": [],
   "source": []
  },
  {
   "cell_type": "code",
   "execution_count": null,
   "id": "fb1dcb48",
   "metadata": {},
   "outputs": [],
   "source": []
  },
  {
   "cell_type": "code",
   "execution_count": null,
   "id": "25eaaa13",
   "metadata": {},
   "outputs": [],
   "source": []
  }
 ],
 "metadata": {
  "kernelspec": {
   "display_name": "Bike-Rental-Prediction (3.12.11)",
   "language": "python",
   "name": "python3"
  },
  "language_info": {
   "codemirror_mode": {
    "name": "ipython",
    "version": 3
   },
   "file_extension": ".py",
   "mimetype": "text/x-python",
   "name": "python",
   "nbconvert_exporter": "python",
   "pygments_lexer": "ipython3",
   "version": "3.12.11"
  }
 },
 "nbformat": 4,
 "nbformat_minor": 5
}
