{
 "cells": [
  {
   "cell_type": "markdown",
   "id": "236f62b9",
   "metadata": {},
   "source": [
    "# Lab For Experimentation"
   ]
  },
  {
   "cell_type": "code",
   "execution_count": 1,
   "id": "917effb0",
   "metadata": {},
   "outputs": [],
   "source": [
    "import warnings\n",
    "from typing import Any, Literal\n",
    "\n",
    "import narwhals as nw\n",
    "import numpy as np\n",
    "import pandas as pd\n",
    "import polars as pl\n",
    "from rich.console import Console\n",
    "from rich.theme import Theme\n",
    "\n",
    "custom_theme = Theme(\n",
    "    {\n",
    "        \"white\": \"#FFFFFF\",  # Bright white\n",
    "        \"info\": \"#00FF00\",  # Bright green\n",
    "        \"warning\": \"#FFD700\",  # Bright gold\n",
    "        \"error\": \"#FF1493\",  # Deep pink\n",
    "        \"success\": \"#00FFFF\",  # Cyan\n",
    "        \"highlight\": \"#FF4500\",  # Orange-red\n",
    "    }\n",
    ")\n",
    "console = Console(theme=custom_theme)\n",
    "\n",
    "# Visualization\n",
    "# import matplotlib.pyplot as plt\n",
    "\n",
    "# NumPy settings\n",
    "np.set_printoptions(precision=4)\n",
    "\n",
    "# Pandas settings\n",
    "pd.options.display.max_rows = 1_000\n",
    "pd.options.display.max_columns = 1_000\n",
    "pd.options.display.max_colwidth = 600\n",
    "\n",
    "# Polars settings\n",
    "pl.Config.set_fmt_str_lengths(1_000)\n",
    "pl.Config.set_tbl_cols(n=1_000)\n",
    "pl.Config.set_tbl_rows(n=200)\n",
    "\n",
    "warnings.filterwarnings(\"ignore\")\n",
    "\n",
    "# Black code formatter (Optional)\n",
    "%load_ext lab_black\n",
    "\n",
    "# auto reload imports\n",
    "%load_ext autoreload\n",
    "%autoreload 2"
   ]
  },
  {
   "cell_type": "code",
   "execution_count": 2,
   "id": "228c8d0e",
   "metadata": {},
   "outputs": [],
   "source": [
    "def go_up_from_current_directory(*, go_up: int = 1) -> None:\n",
    "    \"\"\"This is used to up a number of directories.\n",
    "\n",
    "    Params:\n",
    "    -------\n",
    "    go_up: int, default=1\n",
    "        This indicates the number of times to go back up from the current directory.\n",
    "\n",
    "    Returns:\n",
    "    --------\n",
    "    None\n",
    "    \"\"\"\n",
    "    import os\n",
    "    import sys\n",
    "\n",
    "    CONST: str = \"../\"\n",
    "    NUM: str = CONST * go_up\n",
    "\n",
    "    # Goto the previous directory\n",
    "    prev_directory = os.path.join(os.path.dirname(__name__), NUM)\n",
    "    # Get the 'absolute path' of the previous directory\n",
    "    abs_path_prev_directory = os.path.abspath(prev_directory)\n",
    "\n",
    "    # Add the path to the System paths\n",
    "    sys.path.insert(0, abs_path_prev_directory)\n",
    "    print(abs_path_prev_directory)\n",
    "\n",
    "\n",
    "# Demo (Prevents ruff from removing the unused module import)\n",
    "name: Any\n",
    "category: Literal[\"A\", \"B\", \"C\"]"
   ]
  },
  {
   "cell_type": "code",
   "execution_count": 3,
   "id": "651f550e",
   "metadata": {},
   "outputs": [
    {
     "name": "stdout",
     "output_type": "stream",
     "text": [
      "/Users/mac/Desktop/Projects/Bike-Rental-Prediction\n"
     ]
    }
   ],
   "source": [
    "go_up_from_current_directory(go_up=1)"
   ]
  },
  {
   "cell_type": "code",
   "execution_count": null,
   "id": "c6889f3d",
   "metadata": {},
   "outputs": [],
   "source": []
  },
  {
   "cell_type": "code",
   "execution_count": null,
   "id": "a3972a3f",
   "metadata": {},
   "outputs": [],
   "source": []
  },
  {
   "cell_type": "code",
   "execution_count": null,
   "id": "afdd1dbe",
   "metadata": {},
   "outputs": [],
   "source": []
  },
  {
   "cell_type": "code",
   "execution_count": null,
   "id": "1775992f",
   "metadata": {},
   "outputs": [],
   "source": []
  },
  {
   "cell_type": "code",
   "execution_count": null,
   "id": "960a767a",
   "metadata": {},
   "outputs": [],
   "source": []
  },
  {
   "cell_type": "code",
   "execution_count": null,
   "id": "b3e4becf",
   "metadata": {},
   "outputs": [],
   "source": []
  },
  {
   "cell_type": "code",
   "execution_count": null,
   "id": "c64816d4",
   "metadata": {},
   "outputs": [],
   "source": []
  },
  {
   "cell_type": "markdown",
   "id": "5de2551d",
   "metadata": {},
   "source": [
    "# Table of Contents\n",
    "- [Dataset Preparation](#Dataset-Preparation)\n",
    "  - [Load Data](#load-data)\n",
    "  - [Validate Data](#validate-data)\n",
    "- [Baseline Model](#Baseline-Model)\n",
    "- [Baseline Model With Lagged Target Features](#baseline-model-with-lagged-target-features)\n",
    "- [Add More Features](#add-more-features)\n",
    "- [Gradient Boosting With Hyperparameters Tuning](#Gradient-Boosting-with-Hyperparameters-Tuning)\n",
    "- [Conclusions](#Conclusions)"
   ]
  },
  {
   "cell_type": "code",
   "execution_count": 4,
   "id": "7cc46afe",
   "metadata": {},
   "outputs": [],
   "source": []
  },
  {
   "cell_type": "code",
   "execution_count": null,
   "id": "38954065",
   "metadata": {},
   "outputs": [],
   "source": []
  },
  {
   "cell_type": "markdown",
   "id": "23621787",
   "metadata": {},
   "source": [
    "# Dataset Preparation\n",
    "\n",
    "### Load data"
   ]
  },
  {
   "cell_type": "code",
   "execution_count": 5,
   "id": "4c70fe62",
   "metadata": {},
   "outputs": [
    {
     "data": {
      "text/html": [
       "<pre style=\"white-space:pre;overflow-x:auto;line-height:normal;font-family:Menlo,'DejaVu Sans Mono',consolas,'Courier New',monospace\"><span style=\"color: #00ff00; text-decoration-color: #00ff00\">Shape: </span><span style=\"color: #00ff00; text-decoration-color: #00ff00; font-weight: bold\">(</span><span style=\"color: #008080; text-decoration-color: #008080; font-weight: bold\">13903</span><span style=\"color: #00ff00; text-decoration-color: #00ff00\">, </span><span style=\"color: #008080; text-decoration-color: #008080; font-weight: bold\">16</span><span style=\"color: #00ff00; text-decoration-color: #00ff00; font-weight: bold\">)</span>\n",
       "</pre>\n"
      ],
      "text/plain": [
       "\u001b[38;2;0;255;0mShape: \u001b[0m\u001b[1;38;2;0;255;0m(\u001b[0m\u001b[1;36m13903\u001b[0m\u001b[38;2;0;255;0m, \u001b[0m\u001b[1;36m16\u001b[0m\u001b[1;38;2;0;255;0m)\u001b[0m\n"
      ]
     },
     "metadata": {},
     "output_type": "display_data"
    },
    {
     "data": {
      "text/html": [
       "<div><style>\n",
       ".dataframe > thead > tr,\n",
       ".dataframe > tbody > tr {\n",
       "  text-align: right;\n",
       "  white-space: pre-wrap;\n",
       "}\n",
       "</style>\n",
       "<small>shape: (5, 16)</small><table border=\"1\" class=\"dataframe\"><thead><tr><th>datetime</th><th>season</th><th>yr</th><th>mnth</th><th>hr</th><th>holiday</th><th>weekday</th><th>workingday</th><th>weathersit</th><th>temp</th><th>atemp</th><th>hum</th><th>windspeed</th><th>casual</th><th>registered</th><th>cnt</th></tr><tr><td>str</td><td>i64</td><td>i64</td><td>i64</td><td>i64</td><td>i64</td><td>i64</td><td>i64</td><td>i64</td><td>f64</td><td>f64</td><td>f64</td><td>f64</td><td>i64</td><td>i64</td><td>i64</td></tr></thead><tbody><tr><td>&quot;2011-01-01 00:00:00&quot;</td><td>1</td><td>0</td><td>1</td><td>0</td><td>0</td><td>6</td><td>0</td><td>1</td><td>0.24</td><td>0.2879</td><td>0.81</td><td>0.0</td><td>3</td><td>13</td><td>16</td></tr><tr><td>&quot;2011-01-01 01:00:00&quot;</td><td>1</td><td>0</td><td>1</td><td>1</td><td>0</td><td>6</td><td>0</td><td>1</td><td>0.22</td><td>0.2727</td><td>0.8</td><td>0.0</td><td>8</td><td>32</td><td>40</td></tr><tr><td>&quot;2011-01-01 02:00:00&quot;</td><td>1</td><td>0</td><td>1</td><td>2</td><td>0</td><td>6</td><td>0</td><td>1</td><td>0.22</td><td>0.2727</td><td>0.8</td><td>0.0</td><td>5</td><td>27</td><td>32</td></tr><tr><td>&quot;2011-01-01 03:00:00&quot;</td><td>1</td><td>0</td><td>1</td><td>3</td><td>0</td><td>6</td><td>0</td><td>1</td><td>0.24</td><td>0.2879</td><td>0.75</td><td>0.0</td><td>3</td><td>10</td><td>13</td></tr><tr><td>&quot;2011-01-01 04:00:00&quot;</td><td>1</td><td>0</td><td>1</td><td>4</td><td>0</td><td>6</td><td>0</td><td>1</td><td>0.24</td><td>0.2879</td><td>0.75</td><td>0.0</td><td>0</td><td>1</td><td>1</td></tr></tbody></table></div>"
      ],
      "text/plain": [
       "shape: (5, 16)\n",
       "┌─────┬─────┬─────┬─────┬─────┬─────┬─────┬─────┬─────┬─────┬─────┬─────┬─────┬─────┬────────┬─────┐\n",
       "│ dat ┆ sea ┆ yr  ┆ mnt ┆ hr  ┆ hol ┆ wee ┆ wor ┆ wea ┆ tem ┆ ate ┆ hum ┆ win ┆ cas ┆ regist ┆ cnt │\n",
       "│ eti ┆ son ┆ --- ┆ h   ┆ --- ┆ ida ┆ kda ┆ kin ┆ the ┆ p   ┆ mp  ┆ --- ┆ dsp ┆ ual ┆ ered   ┆ --- │\n",
       "│ me  ┆ --- ┆ i64 ┆ --- ┆ i64 ┆ y   ┆ y   ┆ gda ┆ rsi ┆ --- ┆ --- ┆ f64 ┆ eed ┆ --- ┆ ---    ┆ i64 │\n",
       "│ --- ┆ i64 ┆     ┆ i64 ┆     ┆ --- ┆ --- ┆ y   ┆ t   ┆ f64 ┆ f64 ┆     ┆ --- ┆ i64 ┆ i64    ┆     │\n",
       "│ str ┆     ┆     ┆     ┆     ┆ i64 ┆ i64 ┆ --- ┆ --- ┆     ┆     ┆     ┆ f64 ┆     ┆        ┆     │\n",
       "│     ┆     ┆     ┆     ┆     ┆     ┆     ┆ i64 ┆ i64 ┆     ┆     ┆     ┆     ┆     ┆        ┆     │\n",
       "╞═════╪═════╪═════╪═════╪═════╪═════╪═════╪═════╪═════╪═════╪═════╪═════╪═════╪═════╪════════╪═════╡\n",
       "│ 201 ┆ 1   ┆ 0   ┆ 1   ┆ 0   ┆ 0   ┆ 6   ┆ 0   ┆ 1   ┆ 0.2 ┆ 0.2 ┆ 0.8 ┆ 0.0 ┆ 3   ┆ 13     ┆ 16  │\n",
       "│ 1-0 ┆     ┆     ┆     ┆     ┆     ┆     ┆     ┆     ┆ 4   ┆ 879 ┆ 1   ┆     ┆     ┆        ┆     │\n",
       "│ 1-0 ┆     ┆     ┆     ┆     ┆     ┆     ┆     ┆     ┆     ┆     ┆     ┆     ┆     ┆        ┆     │\n",
       "│ 1   ┆     ┆     ┆     ┆     ┆     ┆     ┆     ┆     ┆     ┆     ┆     ┆     ┆     ┆        ┆     │\n",
       "│ 00: ┆     ┆     ┆     ┆     ┆     ┆     ┆     ┆     ┆     ┆     ┆     ┆     ┆     ┆        ┆     │\n",
       "│ 00: ┆     ┆     ┆     ┆     ┆     ┆     ┆     ┆     ┆     ┆     ┆     ┆     ┆     ┆        ┆     │\n",
       "│ 00  ┆     ┆     ┆     ┆     ┆     ┆     ┆     ┆     ┆     ┆     ┆     ┆     ┆     ┆        ┆     │\n",
       "│ 201 ┆ 1   ┆ 0   ┆ 1   ┆ 1   ┆ 0   ┆ 6   ┆ 0   ┆ 1   ┆ 0.2 ┆ 0.2 ┆ 0.8 ┆ 0.0 ┆ 8   ┆ 32     ┆ 40  │\n",
       "│ 1-0 ┆     ┆     ┆     ┆     ┆     ┆     ┆     ┆     ┆ 2   ┆ 727 ┆     ┆     ┆     ┆        ┆     │\n",
       "│ 1-0 ┆     ┆     ┆     ┆     ┆     ┆     ┆     ┆     ┆     ┆     ┆     ┆     ┆     ┆        ┆     │\n",
       "│ 1   ┆     ┆     ┆     ┆     ┆     ┆     ┆     ┆     ┆     ┆     ┆     ┆     ┆     ┆        ┆     │\n",
       "│ 01: ┆     ┆     ┆     ┆     ┆     ┆     ┆     ┆     ┆     ┆     ┆     ┆     ┆     ┆        ┆     │\n",
       "│ 00: ┆     ┆     ┆     ┆     ┆     ┆     ┆     ┆     ┆     ┆     ┆     ┆     ┆     ┆        ┆     │\n",
       "│ 00  ┆     ┆     ┆     ┆     ┆     ┆     ┆     ┆     ┆     ┆     ┆     ┆     ┆     ┆        ┆     │\n",
       "│ 201 ┆ 1   ┆ 0   ┆ 1   ┆ 2   ┆ 0   ┆ 6   ┆ 0   ┆ 1   ┆ 0.2 ┆ 0.2 ┆ 0.8 ┆ 0.0 ┆ 5   ┆ 27     ┆ 32  │\n",
       "│ 1-0 ┆     ┆     ┆     ┆     ┆     ┆     ┆     ┆     ┆ 2   ┆ 727 ┆     ┆     ┆     ┆        ┆     │\n",
       "│ 1-0 ┆     ┆     ┆     ┆     ┆     ┆     ┆     ┆     ┆     ┆     ┆     ┆     ┆     ┆        ┆     │\n",
       "│ 1   ┆     ┆     ┆     ┆     ┆     ┆     ┆     ┆     ┆     ┆     ┆     ┆     ┆     ┆        ┆     │\n",
       "│ 02: ┆     ┆     ┆     ┆     ┆     ┆     ┆     ┆     ┆     ┆     ┆     ┆     ┆     ┆        ┆     │\n",
       "│ 00: ┆     ┆     ┆     ┆     ┆     ┆     ┆     ┆     ┆     ┆     ┆     ┆     ┆     ┆        ┆     │\n",
       "│ 00  ┆     ┆     ┆     ┆     ┆     ┆     ┆     ┆     ┆     ┆     ┆     ┆     ┆     ┆        ┆     │\n",
       "│ 201 ┆ 1   ┆ 0   ┆ 1   ┆ 3   ┆ 0   ┆ 6   ┆ 0   ┆ 1   ┆ 0.2 ┆ 0.2 ┆ 0.7 ┆ 0.0 ┆ 3   ┆ 10     ┆ 13  │\n",
       "│ 1-0 ┆     ┆     ┆     ┆     ┆     ┆     ┆     ┆     ┆ 4   ┆ 879 ┆ 5   ┆     ┆     ┆        ┆     │\n",
       "│ 1-0 ┆     ┆     ┆     ┆     ┆     ┆     ┆     ┆     ┆     ┆     ┆     ┆     ┆     ┆        ┆     │\n",
       "│ 1   ┆     ┆     ┆     ┆     ┆     ┆     ┆     ┆     ┆     ┆     ┆     ┆     ┆     ┆        ┆     │\n",
       "│ 03: ┆     ┆     ┆     ┆     ┆     ┆     ┆     ┆     ┆     ┆     ┆     ┆     ┆     ┆        ┆     │\n",
       "│ 00: ┆     ┆     ┆     ┆     ┆     ┆     ┆     ┆     ┆     ┆     ┆     ┆     ┆     ┆        ┆     │\n",
       "│ 00  ┆     ┆     ┆     ┆     ┆     ┆     ┆     ┆     ┆     ┆     ┆     ┆     ┆     ┆        ┆     │\n",
       "│ 201 ┆ 1   ┆ 0   ┆ 1   ┆ 4   ┆ 0   ┆ 6   ┆ 0   ┆ 1   ┆ 0.2 ┆ 0.2 ┆ 0.7 ┆ 0.0 ┆ 0   ┆ 1      ┆ 1   │\n",
       "│ 1-0 ┆     ┆     ┆     ┆     ┆     ┆     ┆     ┆     ┆ 4   ┆ 879 ┆ 5   ┆     ┆     ┆        ┆     │\n",
       "│ 1-0 ┆     ┆     ┆     ┆     ┆     ┆     ┆     ┆     ┆     ┆     ┆     ┆     ┆     ┆        ┆     │\n",
       "│ 1   ┆     ┆     ┆     ┆     ┆     ┆     ┆     ┆     ┆     ┆     ┆     ┆     ┆     ┆        ┆     │\n",
       "│ 04: ┆     ┆     ┆     ┆     ┆     ┆     ┆     ┆     ┆     ┆     ┆     ┆     ┆     ┆        ┆     │\n",
       "│ 00: ┆     ┆     ┆     ┆     ┆     ┆     ┆     ┆     ┆     ┆     ┆     ┆     ┆     ┆        ┆     │\n",
       "│ 00  ┆     ┆     ┆     ┆     ┆     ┆     ┆     ┆     ┆     ┆     ┆     ┆     ┆     ┆        ┆     │\n",
       "└─────┴─────┴─────┴─────┴─────┴─────┴─────┴─────┴─────┴─────┴─────┴─────┴─────┴─────┴────────┴─────┘"
      ]
     },
     "execution_count": 5,
     "metadata": {},
     "output_type": "execute_result"
    }
   ],
   "source": [
    "fp: str = \"../../../../Documents/data_dump/bike_data/database.parquet\"\n",
    "data: pl.DataFrame = pl.read_parquet(fp)\n",
    "console.print(f\"Shape: {data.shape}\", style=\"info\")\n",
    "\n",
    "data.head()"
   ]
  },
  {
   "cell_type": "markdown",
   "id": "afab353a",
   "metadata": {},
   "source": [
    "### Validate Data"
   ]
  },
  {
   "cell_type": "code",
   "execution_count": null,
   "id": "a7513bc7",
   "metadata": {},
   "outputs": [
    {
     "data": {
      "text/plain": [
       "┌─────────────────────────────────────────────────────────────────────────────┐\n",
       "|                             Narwhals DataFrame                              |\n",
       "|-----------------------------------------------------------------------------|\n",
       "|              datetime  season  yr  mnth  hr  holiday  weekday  workingday  \\|\n",
       "|0  2011-01-01 00:00:00       1   0     1   0        0        6           0   |\n",
       "|1  2011-01-01 01:00:00       1   0     1   1        0        6           0   |\n",
       "|2  2011-01-01 02:00:00       1   0     1   2        0        6           0   |\n",
       "|3  2011-01-01 03:00:00       1   0     1   3        0        6           0   |\n",
       "|4  2011-01-01 04:00:00       1   0     1   4        0        6           0   |\n",
       "|                                                                             |\n",
       "|   weathersit  temp   atemp   hum  windspeed  casual  registered  cnt  \\     |\n",
       "|0           1  0.24  0.2879  0.81        0.0       3          13   16        |\n",
       "|1           1  0.22  0.2727  0.80        0.0       8          32   40        |\n",
       "|2           1  0.22  0.2727  0.80        0.0       5          27   32        |\n",
       "|3           1  0.24  0.2879  0.75        0.0       3          10   13        |\n",
       "|4           1  0.24  0.2879  0.75        0.0       0           1    1        |\n",
       "|                                                                             |\n",
       "|   cnt_lag_1hr  cnt_lag_2hr  cnt_lag_3hr                                     |\n",
       "|0          NaN          NaN          NaN                                     |\n",
       "|1         16.0          NaN          NaN                                     |\n",
       "|2         40.0         16.0          NaN                                     |\n",
       "|3         32.0         40.0         16.0                                     |\n",
       "|4         13.0         32.0         40.0                                     |\n",
       "└─────────────────────────────────────────────────────────────────────────────┘"
      ]
     },
     "execution_count": 30,
     "metadata": {},
     "output_type": "execute_result"
    }
   ],
   "source": [
    "from src.ml.feature_engineering import (\n",
    "    FeatureConfig,\n",
    "    FeatureEngineer,\n",
    "    InteractionFeats,\n",
    "    Lags,\n",
    "    Windows,\n",
    "    create_lag_features,\n",
    ")\n",
    "\n",
    "# train_data, test_data = split_temporal_data(data, test_size=0.2)\n",
    "# train_data.shape, test_data.shape\n",
    "\n",
    "create_lag_features(\n",
    "    nw.from_native(data.to_pandas()), target_col=\"cnt\", lags=[1, 2, 3]\n",
    ").head()  # .to_native()"
   ]
  },
  {
   "cell_type": "code",
   "execution_count": 31,
   "id": "72eea5119410473aa328ad9291626812",
   "metadata": {},
   "outputs": [],
   "source": [
    "config: FeatureConfig = FeatureConfig(\n",
    "    lags=[Lags(feature=\"cnt\", lags=[1, 2, 3]), Lags(feature=\"temp\", lags=[1, 2, 3])],\n",
    "    diffs=[Lags(feature=\"cnt\", lags=[1]), Lags(feature=\"temp\", lags=[1])],\n",
    "    interactions=[\n",
    "        InteractionFeats(feature_1=\"cnt\", feature_2=\"temp\", operation=\"add\"),\n",
    "        InteractionFeats(feature_1=\"cnt\", feature_2=\"temp\", operation=\"multiply\"),\n",
    "    ],\n",
    "    rolling_windows=[\n",
    "        Windows(feature=\"cnt\", window=[3, 7]),\n",
    "        Windows(feature=\"temp\", window=[3, 7]),\n",
    "    ],\n",
    "    drop_feats=[\"atemp\", \"windspeed\"],\n",
    ")\n",
    "\n",
    "# # Lags\n",
    "# for lag in config.lags:\n",
    "#     df = create_lag_features(\n",
    "#         nw.from_native(data.to_pandas()), target_col=lag.feature, lags=lag.lags\n",
    "#     )\n",
    "# # Diffs\n",
    "# for diff in config.diffs:\n",
    "#     df = create_difference_features(\n",
    "#         nw.from_native(df.to_pandas()), target_col=diff.feature, lags=diff.lags\n",
    "#     )\n",
    "# # Interactions\n",
    "# for interaction in config.interactions:\n",
    "#     df = create_interaction_features(\n",
    "#         nw.from_native(df.to_pandas()),\n",
    "#         feature_1=interaction.feature_1,\n",
    "#         feature_2=interaction.feature_2,\n",
    "#         operation=interaction.operation,\n",
    "#     )\n",
    "# df.head()"
   ]
  },
  {
   "cell_type": "code",
   "execution_count": 32,
   "id": "e0ea4dcf",
   "metadata": {},
   "outputs": [
    {
     "data": {
      "text/html": [
       "<div><style>\n",
       ".dataframe > thead > tr,\n",
       ".dataframe > tbody > tr {\n",
       "  text-align: right;\n",
       "  white-space: pre-wrap;\n",
       "}\n",
       "</style>\n",
       "<small>shape: (5, 42)</small><table border=\"1\" class=\"dataframe\"><thead><tr><th>datetime</th><th>season</th><th>yr</th><th>mnth</th><th>hr</th><th>holiday</th><th>weekday</th><th>workingday</th><th>weathersit</th><th>temp</th><th>hum</th><th>casual</th><th>registered</th><th>cnt</th><th>is_weekend</th><th>sin_hour</th><th>cos_hour</th><th>sin_weekday</th><th>cos_weekday</th><th>cnt_lag_1hr</th><th>cnt_lag_2hr</th><th>cnt_lag_3hr</th><th>temp_lag_1hr</th><th>temp_lag_2hr</th><th>temp_lag_3hr</th><th>cnt_roll_mean_3hr</th><th>cnt_roll_std_3hr</th><th>cnt_roll_mean_7hr</th><th>cnt_roll_std_7hr</th><th>temp_roll_mean_3hr</th><th>temp_roll_std_3hr</th><th>temp_roll_mean_7hr</th><th>temp_roll_std_7hr</th><th>cnt_plus_temp</th><th>cnt_times_temp</th><th>cnt_diff_1hr</th><th>temp_diff_1hr</th><th>is_high_temp</th><th>is_high_hum</th><th>is_peak_hour</th><th>is_working_hour</th><th>is_business_hour</th></tr><tr><td>str</td><td>i64</td><td>i64</td><td>i64</td><td>i64</td><td>i64</td><td>i64</td><td>i64</td><td>i64</td><td>f64</td><td>f64</td><td>i64</td><td>i64</td><td>i64</td><td>i8</td><td>f64</td><td>f64</td><td>f64</td><td>f64</td><td>i64</td><td>i64</td><td>i64</td><td>f64</td><td>f64</td><td>f64</td><td>f64</td><td>f64</td><td>f64</td><td>f64</td><td>f64</td><td>f64</td><td>f64</td><td>f64</td><td>f64</td><td>f64</td><td>i64</td><td>f64</td><td>i8</td><td>i8</td><td>i8</td><td>i8</td><td>i8</td></tr></thead><tbody><tr><td>&quot;2011-01-01 00:00:00&quot;</td><td>1</td><td>0</td><td>1</td><td>0</td><td>0</td><td>6</td><td>0</td><td>1</td><td>0.24</td><td>0.81</td><td>3</td><td>13</td><td>16</td><td>1</td><td>0.0</td><td>1.0</td><td>-0.781831</td><td>0.62349</td><td>null</td><td>null</td><td>null</td><td>null</td><td>null</td><td>null</td><td>null</td><td>null</td><td>null</td><td>null</td><td>null</td><td>null</td><td>null</td><td>null</td><td>16.24</td><td>3.84</td><td>null</td><td>null</td><td>0</td><td>0</td><td>0</td><td>0</td><td>0</td></tr><tr><td>&quot;2011-01-01 01:00:00&quot;</td><td>1</td><td>0</td><td>1</td><td>1</td><td>0</td><td>6</td><td>0</td><td>1</td><td>0.22</td><td>0.8</td><td>8</td><td>32</td><td>40</td><td>1</td><td>0.258819</td><td>0.965926</td><td>-0.781831</td><td>0.62349</td><td>16</td><td>null</td><td>null</td><td>0.24</td><td>null</td><td>null</td><td>null</td><td>null</td><td>null</td><td>null</td><td>null</td><td>null</td><td>null</td><td>null</td><td>40.22</td><td>8.8</td><td>24</td><td>-0.02</td><td>0</td><td>0</td><td>0</td><td>0</td><td>0</td></tr><tr><td>&quot;2011-01-01 02:00:00&quot;</td><td>1</td><td>0</td><td>1</td><td>2</td><td>0</td><td>6</td><td>0</td><td>1</td><td>0.22</td><td>0.8</td><td>5</td><td>27</td><td>32</td><td>1</td><td>0.5</td><td>0.866025</td><td>-0.781831</td><td>0.62349</td><td>40</td><td>16</td><td>null</td><td>0.22</td><td>0.24</td><td>null</td><td>29.333333</td><td>12.220202</td><td>null</td><td>null</td><td>0.226667</td><td>0.011547</td><td>null</td><td>null</td><td>32.22</td><td>7.04</td><td>-8</td><td>0.0</td><td>0</td><td>0</td><td>0</td><td>0</td><td>0</td></tr><tr><td>&quot;2011-01-01 03:00:00&quot;</td><td>1</td><td>0</td><td>1</td><td>3</td><td>0</td><td>6</td><td>0</td><td>1</td><td>0.24</td><td>0.75</td><td>3</td><td>10</td><td>13</td><td>1</td><td>0.707107</td><td>0.707107</td><td>-0.781831</td><td>0.62349</td><td>32</td><td>40</td><td>16</td><td>0.22</td><td>0.22</td><td>0.24</td><td>28.333333</td><td>13.868429</td><td>null</td><td>null</td><td>0.226667</td><td>0.011547</td><td>null</td><td>null</td><td>13.24</td><td>3.12</td><td>-19</td><td>0.02</td><td>0</td><td>0</td><td>0</td><td>0</td><td>0</td></tr><tr><td>&quot;2011-01-01 04:00:00&quot;</td><td>1</td><td>0</td><td>1</td><td>4</td><td>0</td><td>6</td><td>0</td><td>1</td><td>0.24</td><td>0.75</td><td>0</td><td>1</td><td>1</td><td>1</td><td>0.866025</td><td>0.5</td><td>-0.781831</td><td>0.62349</td><td>13</td><td>32</td><td>40</td><td>0.24</td><td>0.22</td><td>0.22</td><td>15.333333</td><td>15.631165</td><td>null</td><td>null</td><td>0.233333</td><td>0.011547</td><td>null</td><td>null</td><td>1.24</td><td>0.24</td><td>-12</td><td>0.0</td><td>0</td><td>0</td><td>0</td><td>0</td><td>0</td></tr></tbody></table></div>"
      ],
      "text/plain": [
       "shape: (5, 42)\n",
       "┌─────┬─────┬─────┬─────┬─────┬─────┬─────┬─────┬─────┬─────┬─────┬─────┬─────┬─────┬─────┬─────┬─────┬─────┬─────┬─────┬─────┬─────┬─────┬─────┬─────┬─────┬─────┬─────┬─────┬─────┬─────┬─────┬─────┬─────┬─────┬─────┬─────┬─────┬─────┬─────┬─────┬─────┐\n",
       "│ dat ┆ sea ┆ yr  ┆ mnt ┆ hr  ┆ hol ┆ wee ┆ wor ┆ wea ┆ tem ┆ hum ┆ cas ┆ reg ┆ cnt ┆ is_ ┆ sin ┆ cos ┆ sin ┆ cos ┆ cnt ┆ cnt ┆ cnt ┆ tem ┆ tem ┆ tem ┆ cnt ┆ cnt ┆ cnt ┆ cnt ┆ tem ┆ tem ┆ tem ┆ tem ┆ cnt ┆ cnt ┆ cnt ┆ tem ┆ is_ ┆ is_ ┆ is_ ┆ is_ ┆ is_ │\n",
       "│ eti ┆ son ┆ --- ┆ h   ┆ --- ┆ ida ┆ kda ┆ kin ┆ the ┆ p   ┆ --- ┆ ual ┆ ist ┆ --- ┆ wee ┆ _ho ┆ _ho ┆ _we ┆ _we ┆ _la ┆ _la ┆ _la ┆ p_l ┆ p_l ┆ p_l ┆ _ro ┆ _ro ┆ _ro ┆ _ro ┆ p_r ┆ p_r ┆ p_r ┆ p_r ┆ _pl ┆ _ti ┆ _di ┆ p_d ┆ hig ┆ hig ┆ pea ┆ wor ┆ bus │\n",
       "│ me  ┆ --- ┆ i64 ┆ --- ┆ i64 ┆ y   ┆ y   ┆ gda ┆ rsi ┆ --- ┆ f64 ┆ --- ┆ ere ┆ i64 ┆ ken ┆ ur  ┆ ur  ┆ ekd ┆ ekd ┆ g_1 ┆ g_2 ┆ g_3 ┆ ag_ ┆ ag_ ┆ ag_ ┆ ll_ ┆ ll_ ┆ ll_ ┆ ll_ ┆ oll ┆ oll ┆ oll ┆ oll ┆ us_ ┆ mes ┆ ff_ ┆ iff ┆ h_t ┆ h_h ┆ k_h ┆ kin ┆ ine │\n",
       "│ --- ┆ i64 ┆     ┆ i64 ┆     ┆ --- ┆ --- ┆ y   ┆ t   ┆ f64 ┆     ┆ i64 ┆ d   ┆     ┆ d   ┆ --- ┆ --- ┆ ay  ┆ ay  ┆ hr  ┆ hr  ┆ hr  ┆ 1hr ┆ 2hr ┆ 3hr ┆ mea ┆ std ┆ mea ┆ std ┆ _me ┆ _st ┆ _me ┆ _st ┆ tem ┆ _te ┆ 1hr ┆ _1h ┆ emp ┆ um  ┆ our ┆ g_h ┆ ss_ │\n",
       "│ str ┆     ┆     ┆     ┆     ┆ i64 ┆ i64 ┆ --- ┆ --- ┆     ┆     ┆     ┆ --- ┆     ┆ --- ┆ f64 ┆ f64 ┆ --- ┆ --- ┆ --- ┆ --- ┆ --- ┆ --- ┆ --- ┆ --- ┆ n_3 ┆ _3h ┆ n_7 ┆ _7h ┆ an_ ┆ d_3 ┆ an_ ┆ d_7 ┆ p   ┆ mp  ┆ --- ┆ r   ┆ --- ┆ --- ┆ --- ┆ our ┆ hou │\n",
       "│     ┆     ┆     ┆     ┆     ┆     ┆     ┆ i64 ┆ i64 ┆     ┆     ┆     ┆ i64 ┆     ┆ i8  ┆     ┆     ┆ f64 ┆ f64 ┆ i64 ┆ i64 ┆ i64 ┆ f64 ┆ f64 ┆ f64 ┆ hr  ┆ r   ┆ hr  ┆ r   ┆ 3hr ┆ hr  ┆ 7hr ┆ hr  ┆ --- ┆ --- ┆ i64 ┆ --- ┆ i8  ┆ i8  ┆ i8  ┆ --- ┆ r   │\n",
       "│     ┆     ┆     ┆     ┆     ┆     ┆     ┆     ┆     ┆     ┆     ┆     ┆     ┆     ┆     ┆     ┆     ┆     ┆     ┆     ┆     ┆     ┆     ┆     ┆     ┆ --- ┆ --- ┆ --- ┆ --- ┆ --- ┆ --- ┆ --- ┆ --- ┆ f64 ┆ f64 ┆     ┆ f64 ┆     ┆     ┆     ┆ i8  ┆ --- │\n",
       "│     ┆     ┆     ┆     ┆     ┆     ┆     ┆     ┆     ┆     ┆     ┆     ┆     ┆     ┆     ┆     ┆     ┆     ┆     ┆     ┆     ┆     ┆     ┆     ┆     ┆ f64 ┆ f64 ┆ f64 ┆ f64 ┆ f64 ┆ f64 ┆ f64 ┆ f64 ┆     ┆     ┆     ┆     ┆     ┆     ┆     ┆     ┆ i8  │\n",
       "╞═════╪═════╪═════╪═════╪═════╪═════╪═════╪═════╪═════╪═════╪═════╪═════╪═════╪═════╪═════╪═════╪═════╪═════╪═════╪═════╪═════╪═════╪═════╪═════╪═════╪═════╪═════╪═════╪═════╪═════╪═════╪═════╪═════╪═════╪═════╪═════╪═════╪═════╪═════╪═════╪═════╪═════╡\n",
       "│ 201 ┆ 1   ┆ 0   ┆ 1   ┆ 0   ┆ 0   ┆ 6   ┆ 0   ┆ 1   ┆ 0.2 ┆ 0.8 ┆ 3   ┆ 13  ┆ 16  ┆ 1   ┆ 0.0 ┆ 1.0 ┆ -0. ┆ 0.6 ┆ nul ┆ nul ┆ nul ┆ nul ┆ nul ┆ nul ┆ nul ┆ nul ┆ nul ┆ nul ┆ nul ┆ nul ┆ nul ┆ nul ┆ 16. ┆ 3.8 ┆ nul ┆ nul ┆ 0   ┆ 0   ┆ 0   ┆ 0   ┆ 0   │\n",
       "│ 1-0 ┆     ┆     ┆     ┆     ┆     ┆     ┆     ┆     ┆ 4   ┆ 1   ┆     ┆     ┆     ┆     ┆     ┆     ┆ 781 ┆ 234 ┆ l   ┆ l   ┆ l   ┆ l   ┆ l   ┆ l   ┆ l   ┆ l   ┆ l   ┆ l   ┆ l   ┆ l   ┆ l   ┆ l   ┆ 24  ┆ 4   ┆ l   ┆ l   ┆     ┆     ┆     ┆     ┆     │\n",
       "│ 1-0 ┆     ┆     ┆     ┆     ┆     ┆     ┆     ┆     ┆     ┆     ┆     ┆     ┆     ┆     ┆     ┆     ┆ 831 ┆ 9   ┆     ┆     ┆     ┆     ┆     ┆     ┆     ┆     ┆     ┆     ┆     ┆     ┆     ┆     ┆     ┆     ┆     ┆     ┆     ┆     ┆     ┆     ┆     │\n",
       "│ 1   ┆     ┆     ┆     ┆     ┆     ┆     ┆     ┆     ┆     ┆     ┆     ┆     ┆     ┆     ┆     ┆     ┆     ┆     ┆     ┆     ┆     ┆     ┆     ┆     ┆     ┆     ┆     ┆     ┆     ┆     ┆     ┆     ┆     ┆     ┆     ┆     ┆     ┆     ┆     ┆     ┆     │\n",
       "│ 00: ┆     ┆     ┆     ┆     ┆     ┆     ┆     ┆     ┆     ┆     ┆     ┆     ┆     ┆     ┆     ┆     ┆     ┆     ┆     ┆     ┆     ┆     ┆     ┆     ┆     ┆     ┆     ┆     ┆     ┆     ┆     ┆     ┆     ┆     ┆     ┆     ┆     ┆     ┆     ┆     ┆     │\n",
       "│ 00: ┆     ┆     ┆     ┆     ┆     ┆     ┆     ┆     ┆     ┆     ┆     ┆     ┆     ┆     ┆     ┆     ┆     ┆     ┆     ┆     ┆     ┆     ┆     ┆     ┆     ┆     ┆     ┆     ┆     ┆     ┆     ┆     ┆     ┆     ┆     ┆     ┆     ┆     ┆     ┆     ┆     │\n",
       "│ 00  ┆     ┆     ┆     ┆     ┆     ┆     ┆     ┆     ┆     ┆     ┆     ┆     ┆     ┆     ┆     ┆     ┆     ┆     ┆     ┆     ┆     ┆     ┆     ┆     ┆     ┆     ┆     ┆     ┆     ┆     ┆     ┆     ┆     ┆     ┆     ┆     ┆     ┆     ┆     ┆     ┆     │\n",
       "│ 201 ┆ 1   ┆ 0   ┆ 1   ┆ 1   ┆ 0   ┆ 6   ┆ 0   ┆ 1   ┆ 0.2 ┆ 0.8 ┆ 8   ┆ 32  ┆ 40  ┆ 1   ┆ 0.2 ┆ 0.9 ┆ -0. ┆ 0.6 ┆ 16  ┆ nul ┆ nul ┆ 0.2 ┆ nul ┆ nul ┆ nul ┆ nul ┆ nul ┆ nul ┆ nul ┆ nul ┆ nul ┆ nul ┆ 40. ┆ 8.8 ┆ 24  ┆ -0. ┆ 0   ┆ 0   ┆ 0   ┆ 0   ┆ 0   │\n",
       "│ 1-0 ┆     ┆     ┆     ┆     ┆     ┆     ┆     ┆     ┆ 2   ┆     ┆     ┆     ┆     ┆     ┆ 588 ┆ 659 ┆ 781 ┆ 234 ┆     ┆ l   ┆ l   ┆ 4   ┆ l   ┆ l   ┆ l   ┆ l   ┆ l   ┆ l   ┆ l   ┆ l   ┆ l   ┆ l   ┆ 22  ┆     ┆     ┆ 02  ┆     ┆     ┆     ┆     ┆     │\n",
       "│ 1-0 ┆     ┆     ┆     ┆     ┆     ┆     ┆     ┆     ┆     ┆     ┆     ┆     ┆     ┆     ┆ 19  ┆ 26  ┆ 831 ┆ 9   ┆     ┆     ┆     ┆     ┆     ┆     ┆     ┆     ┆     ┆     ┆     ┆     ┆     ┆     ┆     ┆     ┆     ┆     ┆     ┆     ┆     ┆     ┆     │\n",
       "│ 1   ┆     ┆     ┆     ┆     ┆     ┆     ┆     ┆     ┆     ┆     ┆     ┆     ┆     ┆     ┆     ┆     ┆     ┆     ┆     ┆     ┆     ┆     ┆     ┆     ┆     ┆     ┆     ┆     ┆     ┆     ┆     ┆     ┆     ┆     ┆     ┆     ┆     ┆     ┆     ┆     ┆     │\n",
       "│ 01: ┆     ┆     ┆     ┆     ┆     ┆     ┆     ┆     ┆     ┆     ┆     ┆     ┆     ┆     ┆     ┆     ┆     ┆     ┆     ┆     ┆     ┆     ┆     ┆     ┆     ┆     ┆     ┆     ┆     ┆     ┆     ┆     ┆     ┆     ┆     ┆     ┆     ┆     ┆     ┆     ┆     │\n",
       "│ 00: ┆     ┆     ┆     ┆     ┆     ┆     ┆     ┆     ┆     ┆     ┆     ┆     ┆     ┆     ┆     ┆     ┆     ┆     ┆     ┆     ┆     ┆     ┆     ┆     ┆     ┆     ┆     ┆     ┆     ┆     ┆     ┆     ┆     ┆     ┆     ┆     ┆     ┆     ┆     ┆     ┆     │\n",
       "│ 00  ┆     ┆     ┆     ┆     ┆     ┆     ┆     ┆     ┆     ┆     ┆     ┆     ┆     ┆     ┆     ┆     ┆     ┆     ┆     ┆     ┆     ┆     ┆     ┆     ┆     ┆     ┆     ┆     ┆     ┆     ┆     ┆     ┆     ┆     ┆     ┆     ┆     ┆     ┆     ┆     ┆     │\n",
       "│ 201 ┆ 1   ┆ 0   ┆ 1   ┆ 2   ┆ 0   ┆ 6   ┆ 0   ┆ 1   ┆ 0.2 ┆ 0.8 ┆ 5   ┆ 27  ┆ 32  ┆ 1   ┆ 0.5 ┆ 0.8 ┆ -0. ┆ 0.6 ┆ 40  ┆ 16  ┆ nul ┆ 0.2 ┆ 0.2 ┆ nul ┆ 29. ┆ 12. ┆ nul ┆ nul ┆ 0.2 ┆ 0.0 ┆ nul ┆ nul ┆ 32. ┆ 7.0 ┆ -8  ┆ 0.0 ┆ 0   ┆ 0   ┆ 0   ┆ 0   ┆ 0   │\n",
       "│ 1-0 ┆     ┆     ┆     ┆     ┆     ┆     ┆     ┆     ┆ 2   ┆     ┆     ┆     ┆     ┆     ┆     ┆ 660 ┆ 781 ┆ 234 ┆     ┆     ┆ l   ┆ 2   ┆ 4   ┆ l   ┆ 333 ┆ 220 ┆ l   ┆ l   ┆ 266 ┆ 115 ┆ l   ┆ l   ┆ 22  ┆ 4   ┆     ┆     ┆     ┆     ┆     ┆     ┆     │\n",
       "│ 1-0 ┆     ┆     ┆     ┆     ┆     ┆     ┆     ┆     ┆     ┆     ┆     ┆     ┆     ┆     ┆     ┆ 25  ┆ 831 ┆ 9   ┆     ┆     ┆     ┆     ┆     ┆     ┆ 333 ┆ 202 ┆     ┆     ┆ 67  ┆ 47  ┆     ┆     ┆     ┆     ┆     ┆     ┆     ┆     ┆     ┆     ┆     │\n",
       "│ 1   ┆     ┆     ┆     ┆     ┆     ┆     ┆     ┆     ┆     ┆     ┆     ┆     ┆     ┆     ┆     ┆     ┆     ┆     ┆     ┆     ┆     ┆     ┆     ┆     ┆     ┆     ┆     ┆     ┆     ┆     ┆     ┆     ┆     ┆     ┆     ┆     ┆     ┆     ┆     ┆     ┆     │\n",
       "│ 02: ┆     ┆     ┆     ┆     ┆     ┆     ┆     ┆     ┆     ┆     ┆     ┆     ┆     ┆     ┆     ┆     ┆     ┆     ┆     ┆     ┆     ┆     ┆     ┆     ┆     ┆     ┆     ┆     ┆     ┆     ┆     ┆     ┆     ┆     ┆     ┆     ┆     ┆     ┆     ┆     ┆     │\n",
       "│ 00: ┆     ┆     ┆     ┆     ┆     ┆     ┆     ┆     ┆     ┆     ┆     ┆     ┆     ┆     ┆     ┆     ┆     ┆     ┆     ┆     ┆     ┆     ┆     ┆     ┆     ┆     ┆     ┆     ┆     ┆     ┆     ┆     ┆     ┆     ┆     ┆     ┆     ┆     ┆     ┆     ┆     │\n",
       "│ 00  ┆     ┆     ┆     ┆     ┆     ┆     ┆     ┆     ┆     ┆     ┆     ┆     ┆     ┆     ┆     ┆     ┆     ┆     ┆     ┆     ┆     ┆     ┆     ┆     ┆     ┆     ┆     ┆     ┆     ┆     ┆     ┆     ┆     ┆     ┆     ┆     ┆     ┆     ┆     ┆     ┆     │\n",
       "│ 201 ┆ 1   ┆ 0   ┆ 1   ┆ 3   ┆ 0   ┆ 6   ┆ 0   ┆ 1   ┆ 0.2 ┆ 0.7 ┆ 3   ┆ 10  ┆ 13  ┆ 1   ┆ 0.7 ┆ 0.7 ┆ -0. ┆ 0.6 ┆ 32  ┆ 40  ┆ 16  ┆ 0.2 ┆ 0.2 ┆ 0.2 ┆ 28. ┆ 13. ┆ nul ┆ nul ┆ 0.2 ┆ 0.0 ┆ nul ┆ nul ┆ 13. ┆ 3.1 ┆ -19 ┆ 0.0 ┆ 0   ┆ 0   ┆ 0   ┆ 0   ┆ 0   │\n",
       "│ 1-0 ┆     ┆     ┆     ┆     ┆     ┆     ┆     ┆     ┆ 4   ┆ 5   ┆     ┆     ┆     ┆     ┆ 071 ┆ 071 ┆ 781 ┆ 234 ┆     ┆     ┆     ┆ 2   ┆ 2   ┆ 4   ┆ 333 ┆ 868 ┆ l   ┆ l   ┆ 266 ┆ 115 ┆ l   ┆ l   ┆ 24  ┆ 2   ┆     ┆ 2   ┆     ┆     ┆     ┆     ┆     │\n",
       "│ 1-0 ┆     ┆     ┆     ┆     ┆     ┆     ┆     ┆     ┆     ┆     ┆     ┆     ┆     ┆     ┆ 07  ┆ 07  ┆ 831 ┆ 9   ┆     ┆     ┆     ┆     ┆     ┆     ┆ 333 ┆ 429 ┆     ┆     ┆ 67  ┆ 47  ┆     ┆     ┆     ┆     ┆     ┆     ┆     ┆     ┆     ┆     ┆     │\n",
       "│ 1   ┆     ┆     ┆     ┆     ┆     ┆     ┆     ┆     ┆     ┆     ┆     ┆     ┆     ┆     ┆     ┆     ┆     ┆     ┆     ┆     ┆     ┆     ┆     ┆     ┆     ┆     ┆     ┆     ┆     ┆     ┆     ┆     ┆     ┆     ┆     ┆     ┆     ┆     ┆     ┆     ┆     │\n",
       "│ 03: ┆     ┆     ┆     ┆     ┆     ┆     ┆     ┆     ┆     ┆     ┆     ┆     ┆     ┆     ┆     ┆     ┆     ┆     ┆     ┆     ┆     ┆     ┆     ┆     ┆     ┆     ┆     ┆     ┆     ┆     ┆     ┆     ┆     ┆     ┆     ┆     ┆     ┆     ┆     ┆     ┆     │\n",
       "│ 00: ┆     ┆     ┆     ┆     ┆     ┆     ┆     ┆     ┆     ┆     ┆     ┆     ┆     ┆     ┆     ┆     ┆     ┆     ┆     ┆     ┆     ┆     ┆     ┆     ┆     ┆     ┆     ┆     ┆     ┆     ┆     ┆     ┆     ┆     ┆     ┆     ┆     ┆     ┆     ┆     ┆     │\n",
       "│ 00  ┆     ┆     ┆     ┆     ┆     ┆     ┆     ┆     ┆     ┆     ┆     ┆     ┆     ┆     ┆     ┆     ┆     ┆     ┆     ┆     ┆     ┆     ┆     ┆     ┆     ┆     ┆     ┆     ┆     ┆     ┆     ┆     ┆     ┆     ┆     ┆     ┆     ┆     ┆     ┆     ┆     │\n",
       "│ 201 ┆ 1   ┆ 0   ┆ 1   ┆ 4   ┆ 0   ┆ 6   ┆ 0   ┆ 1   ┆ 0.2 ┆ 0.7 ┆ 0   ┆ 1   ┆ 1   ┆ 1   ┆ 0.8 ┆ 0.5 ┆ -0. ┆ 0.6 ┆ 13  ┆ 32  ┆ 40  ┆ 0.2 ┆ 0.2 ┆ 0.2 ┆ 15. ┆ 15. ┆ nul ┆ nul ┆ 0.2 ┆ 0.0 ┆ nul ┆ nul ┆ 1.2 ┆ 0.2 ┆ -12 ┆ 0.0 ┆ 0   ┆ 0   ┆ 0   ┆ 0   ┆ 0   │\n",
       "│ 1-0 ┆     ┆     ┆     ┆     ┆     ┆     ┆     ┆     ┆ 4   ┆ 5   ┆     ┆     ┆     ┆     ┆ 660 ┆     ┆ 781 ┆ 234 ┆     ┆     ┆     ┆ 4   ┆ 2   ┆ 2   ┆ 333 ┆ 631 ┆ l   ┆ l   ┆ 333 ┆ 115 ┆ l   ┆ l   ┆ 4   ┆ 4   ┆     ┆     ┆     ┆     ┆     ┆     ┆     │\n",
       "│ 1-0 ┆     ┆     ┆     ┆     ┆     ┆     ┆     ┆     ┆     ┆     ┆     ┆     ┆     ┆     ┆ 25  ┆     ┆ 831 ┆ 9   ┆     ┆     ┆     ┆     ┆     ┆     ┆ 333 ┆ 165 ┆     ┆     ┆ 33  ┆ 47  ┆     ┆     ┆     ┆     ┆     ┆     ┆     ┆     ┆     ┆     ┆     │\n",
       "│ 1   ┆     ┆     ┆     ┆     ┆     ┆     ┆     ┆     ┆     ┆     ┆     ┆     ┆     ┆     ┆     ┆     ┆     ┆     ┆     ┆     ┆     ┆     ┆     ┆     ┆     ┆     ┆     ┆     ┆     ┆     ┆     ┆     ┆     ┆     ┆     ┆     ┆     ┆     ┆     ┆     ┆     │\n",
       "│ 04: ┆     ┆     ┆     ┆     ┆     ┆     ┆     ┆     ┆     ┆     ┆     ┆     ┆     ┆     ┆     ┆     ┆     ┆     ┆     ┆     ┆     ┆     ┆     ┆     ┆     ┆     ┆     ┆     ┆     ┆     ┆     ┆     ┆     ┆     ┆     ┆     ┆     ┆     ┆     ┆     ┆     │\n",
       "│ 00: ┆     ┆     ┆     ┆     ┆     ┆     ┆     ┆     ┆     ┆     ┆     ┆     ┆     ┆     ┆     ┆     ┆     ┆     ┆     ┆     ┆     ┆     ┆     ┆     ┆     ┆     ┆     ┆     ┆     ┆     ┆     ┆     ┆     ┆     ┆     ┆     ┆     ┆     ┆     ┆     ┆     │\n",
       "│ 00  ┆     ┆     ┆     ┆     ┆     ┆     ┆     ┆     ┆     ┆     ┆     ┆     ┆     ┆     ┆     ┆     ┆     ┆     ┆     ┆     ┆     ┆     ┆     ┆     ┆     ┆     ┆     ┆     ┆     ┆     ┆     ┆     ┆     ┆     ┆     ┆     ┆     ┆     ┆     ┆     ┆     │\n",
       "└─────┴─────┴─────┴─────┴─────┴─────┴─────┴─────┴─────┴─────┴─────┴─────┴─────┴─────┴─────┴─────┴─────┴─────┴─────┴─────┴─────┴─────┴─────┴─────┴─────┴─────┴─────┴─────┴─────┴─────┴─────┴─────┴─────┴─────┴─────┴─────┴─────┴─────┴─────┴─────┴─────┴─────┘"
      ]
     },
     "execution_count": 32,
     "metadata": {},
     "output_type": "execute_result"
    }
   ],
   "source": [
    "feat_eng = FeatureEngineer(data, config)\n",
    "\n",
    "feat_eng.create_all_features().head()"
   ]
  },
  {
   "cell_type": "code",
   "execution_count": null,
   "id": "5ffcb2b4",
   "metadata": {},
   "outputs": [],
   "source": []
  },
  {
   "cell_type": "code",
   "execution_count": null,
   "id": "cb97f117",
   "metadata": {},
   "outputs": [],
   "source": []
  },
  {
   "cell_type": "code",
   "execution_count": null,
   "id": "b17c2d49",
   "metadata": {},
   "outputs": [],
   "source": []
  },
  {
   "cell_type": "code",
   "execution_count": null,
   "id": "24727bbf",
   "metadata": {},
   "outputs": [],
   "source": []
  },
  {
   "cell_type": "code",
   "execution_count": null,
   "id": "0dde1952",
   "metadata": {},
   "outputs": [],
   "source": []
  },
  {
   "cell_type": "code",
   "execution_count": null,
   "id": "ab89a8f4",
   "metadata": {},
   "outputs": [],
   "source": []
  },
  {
   "cell_type": "code",
   "execution_count": null,
   "id": "cbfe7caf",
   "metadata": {},
   "outputs": [],
   "source": []
  },
  {
   "cell_type": "code",
   "execution_count": null,
   "id": "e152c6c1",
   "metadata": {},
   "outputs": [],
   "source": []
  },
  {
   "cell_type": "code",
   "execution_count": null,
   "id": "1061c811",
   "metadata": {},
   "outputs": [],
   "source": []
  },
  {
   "cell_type": "code",
   "execution_count": null,
   "id": "5428fb74",
   "metadata": {},
   "outputs": [],
   "source": []
  }
 ],
 "metadata": {
  "kernelspec": {
   "display_name": "Bike-Rental-Prediction (3.12.11)",
   "language": "python",
   "name": "python3"
  },
  "language_info": {
   "codemirror_mode": {
    "name": "ipython",
    "version": 3
   },
   "file_extension": ".py",
   "mimetype": "text/x-python",
   "name": "python",
   "nbconvert_exporter": "python",
   "pygments_lexer": "ipython3",
   "version": "3.12.11"
  }
 },
 "nbformat": 4,
 "nbformat_minor": 5
}
