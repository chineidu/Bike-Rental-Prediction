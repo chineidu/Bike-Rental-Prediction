{
 "cells": [
  {
   "cell_type": "code",
   "execution_count": 1,
   "id": "917effb0",
   "metadata": {},
   "outputs": [],
   "source": [
    "import warnings\n",
    "from typing import Any, Literal\n",
    "\n",
    "import numpy as np\n",
    "import pandas as pd\n",
    "import polars as pl\n",
    "from rich.console import Console\n",
    "from rich.theme import Theme\n",
    "\n",
    "custom_theme = Theme(\n",
    "    {\n",
    "        \"white\": \"#FFFFFF\",  # Bright white\n",
    "        \"info\": \"#00FF00\",  # Bright green\n",
    "        \"warning\": \"#FFD700\",  # Bright gold\n",
    "        \"error\": \"#FF1493\",  # Deep pink\n",
    "        \"success\": \"#00FFFF\",  # Cyan\n",
    "        \"highlight\": \"#FF4500\",  # Orange-red\n",
    "    }\n",
    ")\n",
    "console = Console(theme=custom_theme)\n",
    "\n",
    "# Visualization\n",
    "# import matplotlib.pyplot as plt\n",
    "\n",
    "# NumPy settings\n",
    "np.set_printoptions(precision=4)\n",
    "\n",
    "# Pandas settings\n",
    "pd.options.display.max_rows = 1_000\n",
    "pd.options.display.max_columns = 1_000\n",
    "pd.options.display.max_colwidth = 600\n",
    "\n",
    "# Polars settings\n",
    "pl.Config.set_fmt_str_lengths(1_000)\n",
    "pl.Config.set_tbl_cols(n=1_000)\n",
    "pl.Config.set_tbl_rows(n=200)\n",
    "\n",
    "warnings.filterwarnings(\"ignore\")\n",
    "\n",
    "# Black code formatter (Optional)\n",
    "%load_ext lab_black\n",
    "\n",
    "# auto reload imports\n",
    "%load_ext autoreload\n",
    "%autoreload 2"
   ]
  },
  {
   "cell_type": "code",
   "execution_count": 2,
   "id": "228c8d0e",
   "metadata": {},
   "outputs": [],
   "source": [
    "def go_up_from_current_directory(*, go_up: int = 1) -> None:\n",
    "    \"\"\"This is used to up a number of directories.\n",
    "\n",
    "    Params:\n",
    "    -------\n",
    "    go_up: int, default=1\n",
    "        This indicates the number of times to go back up from the current directory.\n",
    "\n",
    "    Returns:\n",
    "    --------\n",
    "    None\n",
    "    \"\"\"\n",
    "    import os\n",
    "    import sys\n",
    "\n",
    "    CONST: str = \"../\"\n",
    "    NUM: str = CONST * go_up\n",
    "\n",
    "    # Goto the previous directory\n",
    "    prev_directory = os.path.join(os.path.dirname(__name__), NUM)\n",
    "    # Get the 'absolute path' of the previous directory\n",
    "    abs_path_prev_directory = os.path.abspath(prev_directory)\n",
    "\n",
    "    # Add the path to the System paths\n",
    "    sys.path.insert(0, abs_path_prev_directory)\n",
    "    print(abs_path_prev_directory)"
   ]
  },
  {
   "cell_type": "code",
   "execution_count": 3,
   "id": "a395f863",
   "metadata": {},
   "outputs": [
    {
     "data": {
      "text/html": [
       "<pre style=\"white-space:pre;overflow-x:auto;line-height:normal;font-family:Menlo,'DejaVu Sans Mono',consolas,'Courier New',monospace\"><span style=\"color: #00ff00; text-decoration-color: #00ff00\">Shape: </span><span style=\"color: #00ff00; text-decoration-color: #00ff00; font-weight: bold\">(</span><span style=\"color: #008080; text-decoration-color: #008080; font-weight: bold\">13903</span><span style=\"color: #00ff00; text-decoration-color: #00ff00\">, </span><span style=\"color: #008080; text-decoration-color: #008080; font-weight: bold\">16</span><span style=\"color: #00ff00; text-decoration-color: #00ff00; font-weight: bold\">)</span>\n",
       "</pre>\n"
      ],
      "text/plain": [
       "\u001b[38;2;0;255;0mShape: \u001b[0m\u001b[1;38;2;0;255;0m(\u001b[0m\u001b[1;36m13903\u001b[0m\u001b[38;2;0;255;0m, \u001b[0m\u001b[1;36m16\u001b[0m\u001b[1;38;2;0;255;0m)\u001b[0m\n"
      ]
     },
     "metadata": {},
     "output_type": "display_data"
    },
    {
     "data": {
      "text/html": [
       "<div><style>\n",
       ".dataframe > thead > tr,\n",
       ".dataframe > tbody > tr {\n",
       "  text-align: right;\n",
       "  white-space: pre-wrap;\n",
       "}\n",
       "</style>\n",
       "<small>shape: (5, 16)</small><table border=\"1\" class=\"dataframe\"><thead><tr><th>datetime</th><th>season</th><th>yr</th><th>mnth</th><th>hr</th><th>holiday</th><th>weekday</th><th>workingday</th><th>weathersit</th><th>temp</th><th>atemp</th><th>hum</th><th>windspeed</th><th>casual</th><th>registered</th><th>cnt</th></tr><tr><td>str</td><td>i64</td><td>i64</td><td>i64</td><td>i64</td><td>i64</td><td>i64</td><td>i64</td><td>i64</td><td>f64</td><td>f64</td><td>f64</td><td>f64</td><td>i64</td><td>i64</td><td>i64</td></tr></thead><tbody><tr><td>&quot;2011-01-01 00:00:00&quot;</td><td>1</td><td>0</td><td>1</td><td>0</td><td>0</td><td>6</td><td>0</td><td>1</td><td>0.24</td><td>0.2879</td><td>0.81</td><td>0.0</td><td>3</td><td>13</td><td>16</td></tr><tr><td>&quot;2011-01-01 01:00:00&quot;</td><td>1</td><td>0</td><td>1</td><td>1</td><td>0</td><td>6</td><td>0</td><td>1</td><td>0.22</td><td>0.2727</td><td>0.8</td><td>0.0</td><td>8</td><td>32</td><td>40</td></tr><tr><td>&quot;2011-01-01 02:00:00&quot;</td><td>1</td><td>0</td><td>1</td><td>2</td><td>0</td><td>6</td><td>0</td><td>1</td><td>0.22</td><td>0.2727</td><td>0.8</td><td>0.0</td><td>5</td><td>27</td><td>32</td></tr><tr><td>&quot;2011-01-01 03:00:00&quot;</td><td>1</td><td>0</td><td>1</td><td>3</td><td>0</td><td>6</td><td>0</td><td>1</td><td>0.24</td><td>0.2879</td><td>0.75</td><td>0.0</td><td>3</td><td>10</td><td>13</td></tr><tr><td>&quot;2011-01-01 04:00:00&quot;</td><td>1</td><td>0</td><td>1</td><td>4</td><td>0</td><td>6</td><td>0</td><td>1</td><td>0.24</td><td>0.2879</td><td>0.75</td><td>0.0</td><td>0</td><td>1</td><td>1</td></tr></tbody></table></div>"
      ],
      "text/plain": [
       "shape: (5, 16)\n",
       "┌─────┬─────┬─────┬─────┬─────┬─────┬─────┬─────┬─────┬─────┬─────┬─────┬─────┬─────┬────────┬─────┐\n",
       "│ dat ┆ sea ┆ yr  ┆ mnt ┆ hr  ┆ hol ┆ wee ┆ wor ┆ wea ┆ tem ┆ ate ┆ hum ┆ win ┆ cas ┆ regist ┆ cnt │\n",
       "│ eti ┆ son ┆ --- ┆ h   ┆ --- ┆ ida ┆ kda ┆ kin ┆ the ┆ p   ┆ mp  ┆ --- ┆ dsp ┆ ual ┆ ered   ┆ --- │\n",
       "│ me  ┆ --- ┆ i64 ┆ --- ┆ i64 ┆ y   ┆ y   ┆ gda ┆ rsi ┆ --- ┆ --- ┆ f64 ┆ eed ┆ --- ┆ ---    ┆ i64 │\n",
       "│ --- ┆ i64 ┆     ┆ i64 ┆     ┆ --- ┆ --- ┆ y   ┆ t   ┆ f64 ┆ f64 ┆     ┆ --- ┆ i64 ┆ i64    ┆     │\n",
       "│ str ┆     ┆     ┆     ┆     ┆ i64 ┆ i64 ┆ --- ┆ --- ┆     ┆     ┆     ┆ f64 ┆     ┆        ┆     │\n",
       "│     ┆     ┆     ┆     ┆     ┆     ┆     ┆ i64 ┆ i64 ┆     ┆     ┆     ┆     ┆     ┆        ┆     │\n",
       "╞═════╪═════╪═════╪═════╪═════╪═════╪═════╪═════╪═════╪═════╪═════╪═════╪═════╪═════╪════════╪═════╡\n",
       "│ 201 ┆ 1   ┆ 0   ┆ 1   ┆ 0   ┆ 0   ┆ 6   ┆ 0   ┆ 1   ┆ 0.2 ┆ 0.2 ┆ 0.8 ┆ 0.0 ┆ 3   ┆ 13     ┆ 16  │\n",
       "│ 1-0 ┆     ┆     ┆     ┆     ┆     ┆     ┆     ┆     ┆ 4   ┆ 879 ┆ 1   ┆     ┆     ┆        ┆     │\n",
       "│ 1-0 ┆     ┆     ┆     ┆     ┆     ┆     ┆     ┆     ┆     ┆     ┆     ┆     ┆     ┆        ┆     │\n",
       "│ 1   ┆     ┆     ┆     ┆     ┆     ┆     ┆     ┆     ┆     ┆     ┆     ┆     ┆     ┆        ┆     │\n",
       "│ 00: ┆     ┆     ┆     ┆     ┆     ┆     ┆     ┆     ┆     ┆     ┆     ┆     ┆     ┆        ┆     │\n",
       "│ 00: ┆     ┆     ┆     ┆     ┆     ┆     ┆     ┆     ┆     ┆     ┆     ┆     ┆     ┆        ┆     │\n",
       "│ 00  ┆     ┆     ┆     ┆     ┆     ┆     ┆     ┆     ┆     ┆     ┆     ┆     ┆     ┆        ┆     │\n",
       "│ 201 ┆ 1   ┆ 0   ┆ 1   ┆ 1   ┆ 0   ┆ 6   ┆ 0   ┆ 1   ┆ 0.2 ┆ 0.2 ┆ 0.8 ┆ 0.0 ┆ 8   ┆ 32     ┆ 40  │\n",
       "│ 1-0 ┆     ┆     ┆     ┆     ┆     ┆     ┆     ┆     ┆ 2   ┆ 727 ┆     ┆     ┆     ┆        ┆     │\n",
       "│ 1-0 ┆     ┆     ┆     ┆     ┆     ┆     ┆     ┆     ┆     ┆     ┆     ┆     ┆     ┆        ┆     │\n",
       "│ 1   ┆     ┆     ┆     ┆     ┆     ┆     ┆     ┆     ┆     ┆     ┆     ┆     ┆     ┆        ┆     │\n",
       "│ 01: ┆     ┆     ┆     ┆     ┆     ┆     ┆     ┆     ┆     ┆     ┆     ┆     ┆     ┆        ┆     │\n",
       "│ 00: ┆     ┆     ┆     ┆     ┆     ┆     ┆     ┆     ┆     ┆     ┆     ┆     ┆     ┆        ┆     │\n",
       "│ 00  ┆     ┆     ┆     ┆     ┆     ┆     ┆     ┆     ┆     ┆     ┆     ┆     ┆     ┆        ┆     │\n",
       "│ 201 ┆ 1   ┆ 0   ┆ 1   ┆ 2   ┆ 0   ┆ 6   ┆ 0   ┆ 1   ┆ 0.2 ┆ 0.2 ┆ 0.8 ┆ 0.0 ┆ 5   ┆ 27     ┆ 32  │\n",
       "│ 1-0 ┆     ┆     ┆     ┆     ┆     ┆     ┆     ┆     ┆ 2   ┆ 727 ┆     ┆     ┆     ┆        ┆     │\n",
       "│ 1-0 ┆     ┆     ┆     ┆     ┆     ┆     ┆     ┆     ┆     ┆     ┆     ┆     ┆     ┆        ┆     │\n",
       "│ 1   ┆     ┆     ┆     ┆     ┆     ┆     ┆     ┆     ┆     ┆     ┆     ┆     ┆     ┆        ┆     │\n",
       "│ 02: ┆     ┆     ┆     ┆     ┆     ┆     ┆     ┆     ┆     ┆     ┆     ┆     ┆     ┆        ┆     │\n",
       "│ 00: ┆     ┆     ┆     ┆     ┆     ┆     ┆     ┆     ┆     ┆     ┆     ┆     ┆     ┆        ┆     │\n",
       "│ 00  ┆     ┆     ┆     ┆     ┆     ┆     ┆     ┆     ┆     ┆     ┆     ┆     ┆     ┆        ┆     │\n",
       "│ 201 ┆ 1   ┆ 0   ┆ 1   ┆ 3   ┆ 0   ┆ 6   ┆ 0   ┆ 1   ┆ 0.2 ┆ 0.2 ┆ 0.7 ┆ 0.0 ┆ 3   ┆ 10     ┆ 13  │\n",
       "│ 1-0 ┆     ┆     ┆     ┆     ┆     ┆     ┆     ┆     ┆ 4   ┆ 879 ┆ 5   ┆     ┆     ┆        ┆     │\n",
       "│ 1-0 ┆     ┆     ┆     ┆     ┆     ┆     ┆     ┆     ┆     ┆     ┆     ┆     ┆     ┆        ┆     │\n",
       "│ 1   ┆     ┆     ┆     ┆     ┆     ┆     ┆     ┆     ┆     ┆     ┆     ┆     ┆     ┆        ┆     │\n",
       "│ 03: ┆     ┆     ┆     ┆     ┆     ┆     ┆     ┆     ┆     ┆     ┆     ┆     ┆     ┆        ┆     │\n",
       "│ 00: ┆     ┆     ┆     ┆     ┆     ┆     ┆     ┆     ┆     ┆     ┆     ┆     ┆     ┆        ┆     │\n",
       "│ 00  ┆     ┆     ┆     ┆     ┆     ┆     ┆     ┆     ┆     ┆     ┆     ┆     ┆     ┆        ┆     │\n",
       "│ 201 ┆ 1   ┆ 0   ┆ 1   ┆ 4   ┆ 0   ┆ 6   ┆ 0   ┆ 1   ┆ 0.2 ┆ 0.2 ┆ 0.7 ┆ 0.0 ┆ 0   ┆ 1      ┆ 1   │\n",
       "│ 1-0 ┆     ┆     ┆     ┆     ┆     ┆     ┆     ┆     ┆ 4   ┆ 879 ┆ 5   ┆     ┆     ┆        ┆     │\n",
       "│ 1-0 ┆     ┆     ┆     ┆     ┆     ┆     ┆     ┆     ┆     ┆     ┆     ┆     ┆     ┆        ┆     │\n",
       "│ 1   ┆     ┆     ┆     ┆     ┆     ┆     ┆     ┆     ┆     ┆     ┆     ┆     ┆     ┆        ┆     │\n",
       "│ 04: ┆     ┆     ┆     ┆     ┆     ┆     ┆     ┆     ┆     ┆     ┆     ┆     ┆     ┆        ┆     │\n",
       "│ 00: ┆     ┆     ┆     ┆     ┆     ┆     ┆     ┆     ┆     ┆     ┆     ┆     ┆     ┆        ┆     │\n",
       "│ 00  ┆     ┆     ┆     ┆     ┆     ┆     ┆     ┆     ┆     ┆     ┆     ┆     ┆     ┆        ┆     │\n",
       "└─────┴─────┴─────┴─────┴─────┴─────┴─────┴─────┴─────┴─────┴─────┴─────┴─────┴─────┴────────┴─────┘"
      ]
     },
     "execution_count": 3,
     "metadata": {},
     "output_type": "execute_result"
    }
   ],
   "source": [
    "fp: str = \"../../../../Documents/data_dump/bike_data/database.parquet\"\n",
    "data: pl.DataFrame = pl.read_parquet(fp)\n",
    "console.print(f\"Shape: {data.shape}\", style=\"info\")\n",
    "\n",
    "data.head()"
   ]
  },
  {
   "cell_type": "code",
   "execution_count": 4,
   "id": "9b970574",
   "metadata": {},
   "outputs": [
    {
     "name": "stdout",
     "output_type": "stream",
     "text": [
      "3\n"
     ]
    }
   ],
   "source": [
    "import narwhals as nw\n",
    "from narwhals.typing import IntoDataFrameT, IntoFrameT\n",
    "\n",
    "\n",
    "def func(df: IntoDataFrameT, s: nw.Series, col_name: str) -> int:\n",
    "    return nw.from_native(df).filter(nw.col(col_name).is_in(s)).shape[0]\n",
    "\n",
    "\n",
    "df = pd.DataFrame({\"a\": [1, 1, 2, 2, 3], \"b\": [4, 5, 6, 7, 8]})\n",
    "s = pd.Series([1, 3])\n",
    "print(func(df, s.to_numpy(), \"a\"))"
   ]
  },
  {
   "cell_type": "code",
   "execution_count": 5,
   "id": "8bd629aa",
   "metadata": {},
   "outputs": [
    {
     "name": "stdout",
     "output_type": "stream",
     "text": [
      "/Users/mac/Desktop/Projects/Bike-Rental-Prediction\n"
     ]
    }
   ],
   "source": [
    "go_up_from_current_directory(go_up=1)\n",
    "from eda import EDA  # noqa: E402"
   ]
  },
  {
   "cell_type": "code",
   "execution_count": 6,
   "id": "2b173102",
   "metadata": {},
   "outputs": [
    {
     "name": "stdout",
     "output_type": "stream",
     "text": [
      "============================================================\n",
      "EXPLORATORY DATA ANALYSIS SUMMARY\n",
      "============================================================\n",
      "* Dataset Shape: (1000, 6)\n",
      "* Numeric Columns: 4\n",
      "* Categorical Columns: 2\n",
      "* Total Missing Values: 0\n",
      "* Memory Usage: 0.14 MB\n",
      "* Target Column: target\n",
      "\n",
      "* Numeric Columns:\n",
      "  - age\n",
      "  - salary\n",
      "  - score\n",
      "  - target\n",
      "\n",
      "* Categorical Columns:\n",
      "  - department\n",
      "  - experience\n",
      "============================================================\n",
      "\n",
      "\n",
      "Numeric Statistics:\n",
      "--------------------\n"
     ]
    },
    {
     "data": {
      "text/html": [
       "<div>\n",
       "<style scoped>\n",
       "    .dataframe tbody tr th:only-of-type {\n",
       "        vertical-align: middle;\n",
       "    }\n",
       "\n",
       "    .dataframe tbody tr th {\n",
       "        vertical-align: top;\n",
       "    }\n",
       "\n",
       "    .dataframe thead th {\n",
       "        text-align: right;\n",
       "    }\n",
       "</style>\n",
       "<table border=\"1\" class=\"dataframe\">\n",
       "  <thead>\n",
       "    <tr style=\"text-align: right;\">\n",
       "      <th></th>\n",
       "      <th>Column</th>\n",
       "      <th>Count</th>\n",
       "      <th>Missing</th>\n",
       "      <th>Missing_Pct</th>\n",
       "      <th>Unique</th>\n",
       "      <th>Mean</th>\n",
       "      <th>Median</th>\n",
       "      <th>Mode</th>\n",
       "      <th>Std</th>\n",
       "      <th>Variance</th>\n",
       "      <th>Min</th>\n",
       "      <th>Max</th>\n",
       "      <th>Range</th>\n",
       "      <th>IQR</th>\n",
       "      <th>Q25</th>\n",
       "      <th>Q50</th>\n",
       "      <th>Q75</th>\n",
       "      <th>Skewness</th>\n",
       "      <th>Kurtosis</th>\n",
       "      <th>Outliers_IQR</th>\n",
       "      <th>Outliers_ZScore</th>\n",
       "    </tr>\n",
       "  </thead>\n",
       "  <tbody>\n",
       "    <tr>\n",
       "      <th>0</th>\n",
       "      <td>age</td>\n",
       "      <td>1000</td>\n",
       "      <td>0</td>\n",
       "      <td>0.0</td>\n",
       "      <td>1000</td>\n",
       "      <td>34.711084</td>\n",
       "      <td>35.061779</td>\n",
       "      <td>-1.484128</td>\n",
       "      <td>9.892171</td>\n",
       "      <td>9.785504e+01</td>\n",
       "      <td>-1.484128</td>\n",
       "      <td>66.788537</td>\n",
       "      <td>68.272665</td>\n",
       "      <td>12.861997</td>\n",
       "      <td>28.036871</td>\n",
       "      <td>35.061779</td>\n",
       "      <td>40.898867</td>\n",
       "      <td>-0.043754</td>\n",
       "      <td>0.091884</td>\n",
       "      <td>9</td>\n",
       "      <td>2</td>\n",
       "    </tr>\n",
       "    <tr>\n",
       "      <th>1</th>\n",
       "      <td>salary</td>\n",
       "      <td>1000</td>\n",
       "      <td>0</td>\n",
       "      <td>0.0</td>\n",
       "      <td>1000</td>\n",
       "      <td>50779.113101</td>\n",
       "      <td>35946.365196</td>\n",
       "      <td>3.561308</td>\n",
       "      <td>51331.619471</td>\n",
       "      <td>2.634935e+09</td>\n",
       "      <td>3.561308</td>\n",
       "      <td>380733.295997</td>\n",
       "      <td>380729.734689</td>\n",
       "      <td>52320.270647</td>\n",
       "      <td>15872.055529</td>\n",
       "      <td>35946.365196</td>\n",
       "      <td>68192.326176</td>\n",
       "      <td>2.195049</td>\n",
       "      <td>6.813502</td>\n",
       "      <td>59</td>\n",
       "      <td>20</td>\n",
       "    </tr>\n",
       "    <tr>\n",
       "      <th>2</th>\n",
       "      <td>score</td>\n",
       "      <td>1000</td>\n",
       "      <td>0</td>\n",
       "      <td>0.0</td>\n",
       "      <td>1000</td>\n",
       "      <td>49.574605</td>\n",
       "      <td>49.894015</td>\n",
       "      <td>0.098999</td>\n",
       "      <td>28.779592</td>\n",
       "      <td>8.282649e+02</td>\n",
       "      <td>0.098999</td>\n",
       "      <td>99.976534</td>\n",
       "      <td>99.877534</td>\n",
       "      <td>50.159562</td>\n",
       "      <td>24.523089</td>\n",
       "      <td>49.894015</td>\n",
       "      <td>74.682650</td>\n",
       "      <td>0.022874</td>\n",
       "      <td>-1.192196</td>\n",
       "      <td>0</td>\n",
       "      <td>0</td>\n",
       "    </tr>\n",
       "    <tr>\n",
       "      <th>3</th>\n",
       "      <td>target</td>\n",
       "      <td>1000</td>\n",
       "      <td>0</td>\n",
       "      <td>0.0</td>\n",
       "      <td>1000</td>\n",
       "      <td>74.829598</td>\n",
       "      <td>75.007343</td>\n",
       "      <td>27.845005</td>\n",
       "      <td>15.033180</td>\n",
       "      <td>2.259965e+02</td>\n",
       "      <td>27.845005</td>\n",
       "      <td>123.618886</td>\n",
       "      <td>95.773881</td>\n",
       "      <td>20.539317</td>\n",
       "      <td>64.520023</td>\n",
       "      <td>75.007343</td>\n",
       "      <td>85.059340</td>\n",
       "      <td>-0.050504</td>\n",
       "      <td>0.041808</td>\n",
       "      <td>9</td>\n",
       "      <td>5</td>\n",
       "    </tr>\n",
       "  </tbody>\n",
       "</table>\n",
       "</div>"
      ],
      "text/plain": [
       "   Column  Count  Missing  Missing_Pct  Unique          Mean        Median  \\\n",
       "0     age   1000        0          0.0    1000     34.711084     35.061779   \n",
       "1  salary   1000        0          0.0    1000  50779.113101  35946.365196   \n",
       "2   score   1000        0          0.0    1000     49.574605     49.894015   \n",
       "3  target   1000        0          0.0    1000     74.829598     75.007343   \n",
       "\n",
       "        Mode           Std      Variance        Min            Max  \\\n",
       "0  -1.484128      9.892171  9.785504e+01  -1.484128      66.788537   \n",
       "1   3.561308  51331.619471  2.634935e+09   3.561308  380733.295997   \n",
       "2   0.098999     28.779592  8.282649e+02   0.098999      99.976534   \n",
       "3  27.845005     15.033180  2.259965e+02  27.845005     123.618886   \n",
       "\n",
       "           Range           IQR           Q25           Q50           Q75  \\\n",
       "0      68.272665     12.861997     28.036871     35.061779     40.898867   \n",
       "1  380729.734689  52320.270647  15872.055529  35946.365196  68192.326176   \n",
       "2      99.877534     50.159562     24.523089     49.894015     74.682650   \n",
       "3      95.773881     20.539317     64.520023     75.007343     85.059340   \n",
       "\n",
       "   Skewness  Kurtosis  Outliers_IQR  Outliers_ZScore  \n",
       "0 -0.043754  0.091884             9                2  \n",
       "1  2.195049  6.813502            59               20  \n",
       "2  0.022874 -1.192196             0                0  \n",
       "3 -0.050504  0.041808             9                5  "
      ]
     },
     "metadata": {},
     "output_type": "display_data"
    },
    {
     "name": "stdout",
     "output_type": "stream",
     "text": [
      "\n",
      "Categorical Statistics:\n",
      "--------------------\n",
      "\n",
      "department:\n"
     ]
    },
    {
     "data": {
      "text/html": [
       "<div>\n",
       "<style scoped>\n",
       "    .dataframe tbody tr th:only-of-type {\n",
       "        vertical-align: middle;\n",
       "    }\n",
       "\n",
       "    .dataframe tbody tr th {\n",
       "        vertical-align: top;\n",
       "    }\n",
       "\n",
       "    .dataframe thead th {\n",
       "        text-align: right;\n",
       "    }\n",
       "</style>\n",
       "<table border=\"1\" class=\"dataframe\">\n",
       "  <thead>\n",
       "    <tr style=\"text-align: right;\">\n",
       "      <th></th>\n",
       "      <th>Category</th>\n",
       "      <th>Count</th>\n",
       "      <th>Percentage</th>\n",
       "    </tr>\n",
       "  </thead>\n",
       "  <tbody>\n",
       "    <tr>\n",
       "      <th>0</th>\n",
       "      <td>Sales</td>\n",
       "      <td>367</td>\n",
       "      <td>36.7</td>\n",
       "    </tr>\n",
       "    <tr>\n",
       "      <th>1</th>\n",
       "      <td>Marketing</td>\n",
       "      <td>319</td>\n",
       "      <td>31.9</td>\n",
       "    </tr>\n",
       "    <tr>\n",
       "      <th>2</th>\n",
       "      <td>Engineering</td>\n",
       "      <td>314</td>\n",
       "      <td>31.4</td>\n",
       "    </tr>\n",
       "  </tbody>\n",
       "</table>\n",
       "</div>"
      ],
      "text/plain": [
       "      Category  Count  Percentage\n",
       "0        Sales    367        36.7\n",
       "1    Marketing    319        31.9\n",
       "2  Engineering    314        31.4"
      ]
     },
     "metadata": {},
     "output_type": "display_data"
    },
    {
     "name": "stdout",
     "output_type": "stream",
     "text": [
      "\n",
      "experience:\n"
     ]
    },
    {
     "data": {
      "text/html": [
       "<div>\n",
       "<style scoped>\n",
       "    .dataframe tbody tr th:only-of-type {\n",
       "        vertical-align: middle;\n",
       "    }\n",
       "\n",
       "    .dataframe tbody tr th {\n",
       "        vertical-align: top;\n",
       "    }\n",
       "\n",
       "    .dataframe thead th {\n",
       "        text-align: right;\n",
       "    }\n",
       "</style>\n",
       "<table border=\"1\" class=\"dataframe\">\n",
       "  <thead>\n",
       "    <tr style=\"text-align: right;\">\n",
       "      <th></th>\n",
       "      <th>Category</th>\n",
       "      <th>Count</th>\n",
       "      <th>Percentage</th>\n",
       "    </tr>\n",
       "  </thead>\n",
       "  <tbody>\n",
       "    <tr>\n",
       "      <th>0</th>\n",
       "      <td>Junior</td>\n",
       "      <td>415</td>\n",
       "      <td>41.5</td>\n",
       "    </tr>\n",
       "    <tr>\n",
       "      <th>1</th>\n",
       "      <td>Mid</td>\n",
       "      <td>398</td>\n",
       "      <td>39.8</td>\n",
       "    </tr>\n",
       "    <tr>\n",
       "      <th>2</th>\n",
       "      <td>Senior</td>\n",
       "      <td>187</td>\n",
       "      <td>18.7</td>\n",
       "    </tr>\n",
       "  </tbody>\n",
       "</table>\n",
       "</div>"
      ],
      "text/plain": [
       "  Category  Count  Percentage\n",
       "0   Junior    415        41.5\n",
       "1      Mid    398        39.8\n",
       "2   Senior    187        18.7"
      ]
     },
     "metadata": {},
     "output_type": "display_data"
    }
   ],
   "source": [
    "# Create sample data\n",
    "rng = np.random.default_rng(42)\n",
    "dummy_data = pd.DataFrame(\n",
    "    {\n",
    "        \"age\": rng.normal(35, 10, 1000),\n",
    "        \"salary\": rng.exponential(50000, 1000),\n",
    "        \"score\": rng.uniform(0, 100, 1000),\n",
    "        \"department\": rng.choice([\"Sales\", \"Engineering\", \"Marketing\"], 1000),\n",
    "        \"experience\": rng.choice([\"Junior\", \"Mid\", \"Senior\"], 1000, p=[0.4, 0.4, 0.2]),\n",
    "        \"target\": rng.normal(75, 15, 1000),\n",
    "    }\n",
    ")\n",
    "\n",
    "# Initialize EDA\n",
    "eda = EDA(dummy_data, target_column=\"target\")\n",
    "\n",
    "# Print summary\n",
    "eda.print_summary()\n",
    "\n",
    "# Get numeric statistics\n",
    "print(\"\\nNumeric Statistics:\")\n",
    "print(\"--\" * 10)\n",
    "numeric_stats = eda.numeric_summary()\n",
    "display(numeric_stats)\n",
    "\n",
    "# Get categorical statistics\n",
    "print(\"\\nCategorical Statistics:\")\n",
    "print(\"--\" * 10)\n",
    "cat_stats = eda.categorical_summary()\n",
    "for col, stats in cat_stats.items():\n",
    "    print(f\"\\n{col}:\")\n",
    "    display(stats)"
   ]
  },
  {
   "cell_type": "code",
   "execution_count": 7,
   "id": "137b8bd0",
   "metadata": {},
   "outputs": [
    {
     "data": {
      "text/html": [
       "dyn int: 0.int_range([dyn int: 5])"
      ],
      "text/plain": [
       "<Expr ['dyn int: 0.int_range([dyn int:…'] at 0x14FFC2E10>"
      ]
     },
     "execution_count": 7,
     "metadata": {},
     "output_type": "execute_result"
    }
   ],
   "source": [
    "eda._calculate_outliers_iqr(series=dummy_data[\"salary\"])\n",
    "pl.int_range(0, 5)"
   ]
  },
  {
   "cell_type": "code",
   "execution_count": 8,
   "id": "428f1b0c",
   "metadata": {},
   "outputs": [
    {
     "data": {
      "application/vnd.plotly.v1+json": {
       "config": {
        "plotlyServerURL": "https://plot.ly"
       },
       "data": [
        {
         "name": "age",
         "showlegend": false,
         "type": "histogram",
         "x": {
          "bdata": "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",
          "dtype": "f8"
         },
         "xaxis": "x",
         "yaxis": "y"
        },
        {
         "name": "salary",
         "showlegend": false,
         "type": "histogram",
         "x": {
          "bdata": "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",
          "dtype": "f8"
         },
         "xaxis": "x2",
         "yaxis": "y2"
        },
        {
         "name": "score",
         "showlegend": false,
         "type": "histogram",
         "x": {
          "bdata": "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",
          "dtype": "f8"
         },
         "xaxis": "x3",
         "yaxis": "y3"
        },
        {
         "name": "target",
         "showlegend": false,
         "type": "histogram",
         "x": {
          "bdata": "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",
          "dtype": "f8"
         },
         "xaxis": "x4",
         "yaxis": "y4"
        }
       ],
       "layout": {
        "annotations": [
         {
          "font": {
           "size": 16
          },
          "showarrow": false,
          "text": "age",
          "x": 0.14444444444444446,
          "xanchor": "center",
          "xref": "paper",
          "y": 1,
          "yanchor": "bottom",
          "yref": "paper"
         },
         {
          "font": {
           "size": 16
          },
          "showarrow": false,
          "text": "salary",
          "x": 0.5,
          "xanchor": "center",
          "xref": "paper",
          "y": 1,
          "yanchor": "bottom",
          "yref": "paper"
         },
         {
          "font": {
           "size": 16
          },
          "showarrow": false,
          "text": "score",
          "x": 0.8555555555555556,
          "xanchor": "center",
          "xref": "paper",
          "y": 1,
          "yanchor": "bottom",
          "yref": "paper"
         },
         {
          "font": {
           "size": 16
          },
          "showarrow": false,
          "text": "target",
          "x": 0.14444444444444446,
          "xanchor": "center",
          "xref": "paper",
          "y": 0.375,
          "yanchor": "bottom",
          "yref": "paper"
         }
        ],
        "height": 600,
        "template": {
         "data": {
          "bar": [
           {
            "error_x": {
             "color": "#2a3f5f"
            },
            "error_y": {
             "color": "#2a3f5f"
            },
            "marker": {
             "line": {
              "color": "#E5ECF6",
              "width": 0.5
             },
             "pattern": {
              "fillmode": "overlay",
              "size": 10,
              "solidity": 0.2
             }
            },
            "type": "bar"
           }
          ],
          "barpolar": [
           {
            "marker": {
             "line": {
              "color": "#E5ECF6",
              "width": 0.5
             },
             "pattern": {
              "fillmode": "overlay",
              "size": 10,
              "solidity": 0.2
             }
            },
            "type": "barpolar"
           }
          ],
          "carpet": [
           {
            "aaxis": {
             "endlinecolor": "#2a3f5f",
             "gridcolor": "white",
             "linecolor": "white",
             "minorgridcolor": "white",
             "startlinecolor": "#2a3f5f"
            },
            "baxis": {
             "endlinecolor": "#2a3f5f",
             "gridcolor": "white",
             "linecolor": "white",
             "minorgridcolor": "white",
             "startlinecolor": "#2a3f5f"
            },
            "type": "carpet"
           }
          ],
          "choropleth": [
           {
            "colorbar": {
             "outlinewidth": 0,
             "ticks": ""
            },
            "type": "choropleth"
           }
          ],
          "contour": [
           {
            "colorbar": {
             "outlinewidth": 0,
             "ticks": ""
            },
            "colorscale": [
             [
              0,
              "#0d0887"
             ],
             [
              0.1111111111111111,
              "#46039f"
             ],
             [
              0.2222222222222222,
              "#7201a8"
             ],
             [
              0.3333333333333333,
              "#9c179e"
             ],
             [
              0.4444444444444444,
              "#bd3786"
             ],
             [
              0.5555555555555556,
              "#d8576b"
             ],
             [
              0.6666666666666666,
              "#ed7953"
             ],
             [
              0.7777777777777778,
              "#fb9f3a"
             ],
             [
              0.8888888888888888,
              "#fdca26"
             ],
             [
              1,
              "#f0f921"
             ]
            ],
            "type": "contour"
           }
          ],
          "contourcarpet": [
           {
            "colorbar": {
             "outlinewidth": 0,
             "ticks": ""
            },
            "type": "contourcarpet"
           }
          ],
          "heatmap": [
           {
            "colorbar": {
             "outlinewidth": 0,
             "ticks": ""
            },
            "colorscale": [
             [
              0,
              "#0d0887"
             ],
             [
              0.1111111111111111,
              "#46039f"
             ],
             [
              0.2222222222222222,
              "#7201a8"
             ],
             [
              0.3333333333333333,
              "#9c179e"
             ],
             [
              0.4444444444444444,
              "#bd3786"
             ],
             [
              0.5555555555555556,
              "#d8576b"
             ],
             [
              0.6666666666666666,
              "#ed7953"
             ],
             [
              0.7777777777777778,
              "#fb9f3a"
             ],
             [
              0.8888888888888888,
              "#fdca26"
             ],
             [
              1,
              "#f0f921"
             ]
            ],
            "type": "heatmap"
           }
          ],
          "histogram": [
           {
            "marker": {
             "pattern": {
              "fillmode": "overlay",
              "size": 10,
              "solidity": 0.2
             }
            },
            "type": "histogram"
           }
          ],
          "histogram2d": [
           {
            "colorbar": {
             "outlinewidth": 0,
             "ticks": ""
            },
            "colorscale": [
             [
              0,
              "#0d0887"
             ],
             [
              0.1111111111111111,
              "#46039f"
             ],
             [
              0.2222222222222222,
              "#7201a8"
             ],
             [
              0.3333333333333333,
              "#9c179e"
             ],
             [
              0.4444444444444444,
              "#bd3786"
             ],
             [
              0.5555555555555556,
              "#d8576b"
             ],
             [
              0.6666666666666666,
              "#ed7953"
             ],
             [
              0.7777777777777778,
              "#fb9f3a"
             ],
             [
              0.8888888888888888,
              "#fdca26"
             ],
             [
              1,
              "#f0f921"
             ]
            ],
            "type": "histogram2d"
           }
          ],
          "histogram2dcontour": [
           {
            "colorbar": {
             "outlinewidth": 0,
             "ticks": ""
            },
            "colorscale": [
             [
              0,
              "#0d0887"
             ],
             [
              0.1111111111111111,
              "#46039f"
             ],
             [
              0.2222222222222222,
              "#7201a8"
             ],
             [
              0.3333333333333333,
              "#9c179e"
             ],
             [
              0.4444444444444444,
              "#bd3786"
             ],
             [
              0.5555555555555556,
              "#d8576b"
             ],
             [
              0.6666666666666666,
              "#ed7953"
             ],
             [
              0.7777777777777778,
              "#fb9f3a"
             ],
             [
              0.8888888888888888,
              "#fdca26"
             ],
             [
              1,
              "#f0f921"
             ]
            ],
            "type": "histogram2dcontour"
           }
          ],
          "mesh3d": [
           {
            "colorbar": {
             "outlinewidth": 0,
             "ticks": ""
            },
            "type": "mesh3d"
           }
          ],
          "parcoords": [
           {
            "line": {
             "colorbar": {
              "outlinewidth": 0,
              "ticks": ""
             }
            },
            "type": "parcoords"
           }
          ],
          "pie": [
           {
            "automargin": true,
            "type": "pie"
           }
          ],
          "scatter": [
           {
            "fillpattern": {
             "fillmode": "overlay",
             "size": 10,
             "solidity": 0.2
            },
            "type": "scatter"
           }
          ],
          "scatter3d": [
           {
            "line": {
             "colorbar": {
              "outlinewidth": 0,
              "ticks": ""
             }
            },
            "marker": {
             "colorbar": {
              "outlinewidth": 0,
              "ticks": ""
             }
            },
            "type": "scatter3d"
           }
          ],
          "scattercarpet": [
           {
            "marker": {
             "colorbar": {
              "outlinewidth": 0,
              "ticks": ""
             }
            },
            "type": "scattercarpet"
           }
          ],
          "scattergeo": [
           {
            "marker": {
             "colorbar": {
              "outlinewidth": 0,
              "ticks": ""
             }
            },
            "type": "scattergeo"
           }
          ],
          "scattergl": [
           {
            "marker": {
             "colorbar": {
              "outlinewidth": 0,
              "ticks": ""
             }
            },
            "type": "scattergl"
           }
          ],
          "scattermap": [
           {
            "marker": {
             "colorbar": {
              "outlinewidth": 0,
              "ticks": ""
             }
            },
            "type": "scattermap"
           }
          ],
          "scattermapbox": [
           {
            "marker": {
             "colorbar": {
              "outlinewidth": 0,
              "ticks": ""
             }
            },
            "type": "scattermapbox"
           }
          ],
          "scatterpolar": [
           {
            "marker": {
             "colorbar": {
              "outlinewidth": 0,
              "ticks": ""
             }
            },
            "type": "scatterpolar"
           }
          ],
          "scatterpolargl": [
           {
            "marker": {
             "colorbar": {
              "outlinewidth": 0,
              "ticks": ""
             }
            },
            "type": "scatterpolargl"
           }
          ],
          "scatterternary": [
           {
            "marker": {
             "colorbar": {
              "outlinewidth": 0,
              "ticks": ""
             }
            },
            "type": "scatterternary"
           }
          ],
          "surface": [
           {
            "colorbar": {
             "outlinewidth": 0,
             "ticks": ""
            },
            "colorscale": [
             [
              0,
              "#0d0887"
             ],
             [
              0.1111111111111111,
              "#46039f"
             ],
             [
              0.2222222222222222,
              "#7201a8"
             ],
             [
              0.3333333333333333,
              "#9c179e"
             ],
             [
              0.4444444444444444,
              "#bd3786"
             ],
             [
              0.5555555555555556,
              "#d8576b"
             ],
             [
              0.6666666666666666,
              "#ed7953"
             ],
             [
              0.7777777777777778,
              "#fb9f3a"
             ],
             [
              0.8888888888888888,
              "#fdca26"
             ],
             [
              1,
              "#f0f921"
             ]
            ],
            "type": "surface"
           }
          ],
          "table": [
           {
            "cells": {
             "fill": {
              "color": "#EBF0F8"
             },
             "line": {
              "color": "white"
             }
            },
            "header": {
             "fill": {
              "color": "#C8D4E3"
             },
             "line": {
              "color": "white"
             }
            },
            "type": "table"
           }
          ]
         },
         "layout": {
          "annotationdefaults": {
           "arrowcolor": "#2a3f5f",
           "arrowhead": 0,
           "arrowwidth": 1
          },
          "autotypenumbers": "strict",
          "coloraxis": {
           "colorbar": {
            "outlinewidth": 0,
            "ticks": ""
           }
          },
          "colorscale": {
           "diverging": [
            [
             0,
             "#8e0152"
            ],
            [
             0.1,
             "#c51b7d"
            ],
            [
             0.2,
             "#de77ae"
            ],
            [
             0.3,
             "#f1b6da"
            ],
            [
             0.4,
             "#fde0ef"
            ],
            [
             0.5,
             "#f7f7f7"
            ],
            [
             0.6,
             "#e6f5d0"
            ],
            [
             0.7,
             "#b8e186"
            ],
            [
             0.8,
             "#7fbc41"
            ],
            [
             0.9,
             "#4d9221"
            ],
            [
             1,
             "#276419"
            ]
           ],
           "sequential": [
            [
             0,
             "#0d0887"
            ],
            [
             0.1111111111111111,
             "#46039f"
            ],
            [
             0.2222222222222222,
             "#7201a8"
            ],
            [
             0.3333333333333333,
             "#9c179e"
            ],
            [
             0.4444444444444444,
             "#bd3786"
            ],
            [
             0.5555555555555556,
             "#d8576b"
            ],
            [
             0.6666666666666666,
             "#ed7953"
            ],
            [
             0.7777777777777778,
             "#fb9f3a"
            ],
            [
             0.8888888888888888,
             "#fdca26"
            ],
            [
             1,
             "#f0f921"
            ]
           ],
           "sequentialminus": [
            [
             0,
             "#0d0887"
            ],
            [
             0.1111111111111111,
             "#46039f"
            ],
            [
             0.2222222222222222,
             "#7201a8"
            ],
            [
             0.3333333333333333,
             "#9c179e"
            ],
            [
             0.4444444444444444,
             "#bd3786"
            ],
            [
             0.5555555555555556,
             "#d8576b"
            ],
            [
             0.6666666666666666,
             "#ed7953"
            ],
            [
             0.7777777777777778,
             "#fb9f3a"
            ],
            [
             0.8888888888888888,
             "#fdca26"
            ],
            [
             1,
             "#f0f921"
            ]
           ]
          },
          "colorway": [
           "#636efa",
           "#EF553B",
           "#00cc96",
           "#ab63fa",
           "#FFA15A",
           "#19d3f3",
           "#FF6692",
           "#B6E880",
           "#FF97FF",
           "#FECB52"
          ],
          "font": {
           "color": "#2a3f5f"
          },
          "geo": {
           "bgcolor": "white",
           "lakecolor": "white",
           "landcolor": "#E5ECF6",
           "showlakes": true,
           "showland": true,
           "subunitcolor": "white"
          },
          "hoverlabel": {
           "align": "left"
          },
          "hovermode": "closest",
          "mapbox": {
           "style": "light"
          },
          "paper_bgcolor": "white",
          "plot_bgcolor": "#E5ECF6",
          "polar": {
           "angularaxis": {
            "gridcolor": "white",
            "linecolor": "white",
            "ticks": ""
           },
           "bgcolor": "#E5ECF6",
           "radialaxis": {
            "gridcolor": "white",
            "linecolor": "white",
            "ticks": ""
           }
          },
          "scene": {
           "xaxis": {
            "backgroundcolor": "#E5ECF6",
            "gridcolor": "white",
            "gridwidth": 2,
            "linecolor": "white",
            "showbackground": true,
            "ticks": "",
            "zerolinecolor": "white"
           },
           "yaxis": {
            "backgroundcolor": "#E5ECF6",
            "gridcolor": "white",
            "gridwidth": 2,
            "linecolor": "white",
            "showbackground": true,
            "ticks": "",
            "zerolinecolor": "white"
           },
           "zaxis": {
            "backgroundcolor": "#E5ECF6",
            "gridcolor": "white",
            "gridwidth": 2,
            "linecolor": "white",
            "showbackground": true,
            "ticks": "",
            "zerolinecolor": "white"
           }
          },
          "shapedefaults": {
           "line": {
            "color": "#2a3f5f"
           }
          },
          "ternary": {
           "aaxis": {
            "gridcolor": "white",
            "linecolor": "white",
            "ticks": ""
           },
           "baxis": {
            "gridcolor": "white",
            "linecolor": "white",
            "ticks": ""
           },
           "bgcolor": "#E5ECF6",
           "caxis": {
            "gridcolor": "white",
            "linecolor": "white",
            "ticks": ""
           }
          },
          "title": {
           "x": 0.05
          },
          "xaxis": {
           "automargin": true,
           "gridcolor": "white",
           "linecolor": "white",
           "ticks": "",
           "title": {
            "standoff": 15
           },
           "zerolinecolor": "white",
           "zerolinewidth": 2
          },
          "yaxis": {
           "automargin": true,
           "gridcolor": "white",
           "linecolor": "white",
           "ticks": "",
           "title": {
            "standoff": 15
           },
           "zerolinecolor": "white",
           "zerolinewidth": 2
          }
         }
        },
        "title": {
         "text": "Numeric Distributions - Histogram"
        },
        "xaxis": {
         "anchor": "y",
         "domain": [
          0,
          0.2888888888888889
         ]
        },
        "xaxis2": {
         "anchor": "y2",
         "domain": [
          0.35555555555555557,
          0.6444444444444445
         ]
        },
        "xaxis3": {
         "anchor": "y3",
         "domain": [
          0.7111111111111111,
          1
         ]
        },
        "xaxis4": {
         "anchor": "y4",
         "domain": [
          0,
          0.2888888888888889
         ]
        },
        "xaxis5": {
         "anchor": "y5",
         "domain": [
          0.35555555555555557,
          0.6444444444444445
         ]
        },
        "xaxis6": {
         "anchor": "y6",
         "domain": [
          0.7111111111111111,
          1
         ]
        },
        "yaxis": {
         "anchor": "x",
         "domain": [
          0.625,
          1
         ]
        },
        "yaxis2": {
         "anchor": "x2",
         "domain": [
          0.625,
          1
         ]
        },
        "yaxis3": {
         "anchor": "x3",
         "domain": [
          0.625,
          1
         ]
        },
        "yaxis4": {
         "anchor": "x4",
         "domain": [
          0,
          0.375
         ]
        },
        "yaxis5": {
         "anchor": "x5",
         "domain": [
          0,
          0.375
         ]
        },
        "yaxis6": {
         "anchor": "x6",
         "domain": [
          0,
          0.375
         ]
        }
       }
      }
     },
     "metadata": {},
     "output_type": "display_data"
    },
    {
     "data": {
      "application/vnd.plotly.v1+json": {
       "config": {
        "plotlyServerURL": "https://plot.ly"
       },
       "data": [
        {
         "name": "department",
         "showlegend": false,
         "type": "bar",
         "x": [
          "Sales",
          "Marketing",
          "Engineering"
         ],
         "xaxis": "x",
         "y": {
          "bdata": "bwE/AToB",
          "dtype": "i2"
         },
         "yaxis": "y"
        },
        {
         "name": "experience",
         "showlegend": false,
         "type": "bar",
         "x": [
          "Junior",
          "Mid",
          "Senior"
         ],
         "xaxis": "x2",
         "y": {
          "bdata": "nwGOAbsA",
          "dtype": "i2"
         },
         "yaxis": "y2"
        }
       ],
       "layout": {
        "annotations": [
         {
          "font": {
           "size": 16
          },
          "showarrow": false,
          "text": "department",
          "x": 0.225,
          "xanchor": "center",
          "xref": "paper",
          "y": 1,
          "yanchor": "bottom",
          "yref": "paper"
         },
         {
          "font": {
           "size": 16
          },
          "showarrow": false,
          "text": "experience",
          "x": 0.775,
          "xanchor": "center",
          "xref": "paper",
          "y": 1,
          "yanchor": "bottom",
          "yref": "paper"
         }
        ],
        "height": 300,
        "template": {
         "data": {
          "bar": [
           {
            "error_x": {
             "color": "#2a3f5f"
            },
            "error_y": {
             "color": "#2a3f5f"
            },
            "marker": {
             "line": {
              "color": "#E5ECF6",
              "width": 0.5
             },
             "pattern": {
              "fillmode": "overlay",
              "size": 10,
              "solidity": 0.2
             }
            },
            "type": "bar"
           }
          ],
          "barpolar": [
           {
            "marker": {
             "line": {
              "color": "#E5ECF6",
              "width": 0.5
             },
             "pattern": {
              "fillmode": "overlay",
              "size": 10,
              "solidity": 0.2
             }
            },
            "type": "barpolar"
           }
          ],
          "carpet": [
           {
            "aaxis": {
             "endlinecolor": "#2a3f5f",
             "gridcolor": "white",
             "linecolor": "white",
             "minorgridcolor": "white",
             "startlinecolor": "#2a3f5f"
            },
            "baxis": {
             "endlinecolor": "#2a3f5f",
             "gridcolor": "white",
             "linecolor": "white",
             "minorgridcolor": "white",
             "startlinecolor": "#2a3f5f"
            },
            "type": "carpet"
           }
          ],
          "choropleth": [
           {
            "colorbar": {
             "outlinewidth": 0,
             "ticks": ""
            },
            "type": "choropleth"
           }
          ],
          "contour": [
           {
            "colorbar": {
             "outlinewidth": 0,
             "ticks": ""
            },
            "colorscale": [
             [
              0,
              "#0d0887"
             ],
             [
              0.1111111111111111,
              "#46039f"
             ],
             [
              0.2222222222222222,
              "#7201a8"
             ],
             [
              0.3333333333333333,
              "#9c179e"
             ],
             [
              0.4444444444444444,
              "#bd3786"
             ],
             [
              0.5555555555555556,
              "#d8576b"
             ],
             [
              0.6666666666666666,
              "#ed7953"
             ],
             [
              0.7777777777777778,
              "#fb9f3a"
             ],
             [
              0.8888888888888888,
              "#fdca26"
             ],
             [
              1,
              "#f0f921"
             ]
            ],
            "type": "contour"
           }
          ],
          "contourcarpet": [
           {
            "colorbar": {
             "outlinewidth": 0,
             "ticks": ""
            },
            "type": "contourcarpet"
           }
          ],
          "heatmap": [
           {
            "colorbar": {
             "outlinewidth": 0,
             "ticks": ""
            },
            "colorscale": [
             [
              0,
              "#0d0887"
             ],
             [
              0.1111111111111111,
              "#46039f"
             ],
             [
              0.2222222222222222,
              "#7201a8"
             ],
             [
              0.3333333333333333,
              "#9c179e"
             ],
             [
              0.4444444444444444,
              "#bd3786"
             ],
             [
              0.5555555555555556,
              "#d8576b"
             ],
             [
              0.6666666666666666,
              "#ed7953"
             ],
             [
              0.7777777777777778,
              "#fb9f3a"
             ],
             [
              0.8888888888888888,
              "#fdca26"
             ],
             [
              1,
              "#f0f921"
             ]
            ],
            "type": "heatmap"
           }
          ],
          "histogram": [
           {
            "marker": {
             "pattern": {
              "fillmode": "overlay",
              "size": 10,
              "solidity": 0.2
             }
            },
            "type": "histogram"
           }
          ],
          "histogram2d": [
           {
            "colorbar": {
             "outlinewidth": 0,
             "ticks": ""
            },
            "colorscale": [
             [
              0,
              "#0d0887"
             ],
             [
              0.1111111111111111,
              "#46039f"
             ],
             [
              0.2222222222222222,
              "#7201a8"
             ],
             [
              0.3333333333333333,
              "#9c179e"
             ],
             [
              0.4444444444444444,
              "#bd3786"
             ],
             [
              0.5555555555555556,
              "#d8576b"
             ],
             [
              0.6666666666666666,
              "#ed7953"
             ],
             [
              0.7777777777777778,
              "#fb9f3a"
             ],
             [
              0.8888888888888888,
              "#fdca26"
             ],
             [
              1,
              "#f0f921"
             ]
            ],
            "type": "histogram2d"
           }
          ],
          "histogram2dcontour": [
           {
            "colorbar": {
             "outlinewidth": 0,
             "ticks": ""
            },
            "colorscale": [
             [
              0,
              "#0d0887"
             ],
             [
              0.1111111111111111,
              "#46039f"
             ],
             [
              0.2222222222222222,
              "#7201a8"
             ],
             [
              0.3333333333333333,
              "#9c179e"
             ],
             [
              0.4444444444444444,
              "#bd3786"
             ],
             [
              0.5555555555555556,
              "#d8576b"
             ],
             [
              0.6666666666666666,
              "#ed7953"
             ],
             [
              0.7777777777777778,
              "#fb9f3a"
             ],
             [
              0.8888888888888888,
              "#fdca26"
             ],
             [
              1,
              "#f0f921"
             ]
            ],
            "type": "histogram2dcontour"
           }
          ],
          "mesh3d": [
           {
            "colorbar": {
             "outlinewidth": 0,
             "ticks": ""
            },
            "type": "mesh3d"
           }
          ],
          "parcoords": [
           {
            "line": {
             "colorbar": {
              "outlinewidth": 0,
              "ticks": ""
             }
            },
            "type": "parcoords"
           }
          ],
          "pie": [
           {
            "automargin": true,
            "type": "pie"
           }
          ],
          "scatter": [
           {
            "fillpattern": {
             "fillmode": "overlay",
             "size": 10,
             "solidity": 0.2
            },
            "type": "scatter"
           }
          ],
          "scatter3d": [
           {
            "line": {
             "colorbar": {
              "outlinewidth": 0,
              "ticks": ""
             }
            },
            "marker": {
             "colorbar": {
              "outlinewidth": 0,
              "ticks": ""
             }
            },
            "type": "scatter3d"
           }
          ],
          "scattercarpet": [
           {
            "marker": {
             "colorbar": {
              "outlinewidth": 0,
              "ticks": ""
             }
            },
            "type": "scattercarpet"
           }
          ],
          "scattergeo": [
           {
            "marker": {
             "colorbar": {
              "outlinewidth": 0,
              "ticks": ""
             }
            },
            "type": "scattergeo"
           }
          ],
          "scattergl": [
           {
            "marker": {
             "colorbar": {
              "outlinewidth": 0,
              "ticks": ""
             }
            },
            "type": "scattergl"
           }
          ],
          "scattermap": [
           {
            "marker": {
             "colorbar": {
              "outlinewidth": 0,
              "ticks": ""
             }
            },
            "type": "scattermap"
           }
          ],
          "scattermapbox": [
           {
            "marker": {
             "colorbar": {
              "outlinewidth": 0,
              "ticks": ""
             }
            },
            "type": "scattermapbox"
           }
          ],
          "scatterpolar": [
           {
            "marker": {
             "colorbar": {
              "outlinewidth": 0,
              "ticks": ""
             }
            },
            "type": "scatterpolar"
           }
          ],
          "scatterpolargl": [
           {
            "marker": {
             "colorbar": {
              "outlinewidth": 0,
              "ticks": ""
             }
            },
            "type": "scatterpolargl"
           }
          ],
          "scatterternary": [
           {
            "marker": {
             "colorbar": {
              "outlinewidth": 0,
              "ticks": ""
             }
            },
            "type": "scatterternary"
           }
          ],
          "surface": [
           {
            "colorbar": {
             "outlinewidth": 0,
             "ticks": ""
            },
            "colorscale": [
             [
              0,
              "#0d0887"
             ],
             [
              0.1111111111111111,
              "#46039f"
             ],
             [
              0.2222222222222222,
              "#7201a8"
             ],
             [
              0.3333333333333333,
              "#9c179e"
             ],
             [
              0.4444444444444444,
              "#bd3786"
             ],
             [
              0.5555555555555556,
              "#d8576b"
             ],
             [
              0.6666666666666666,
              "#ed7953"
             ],
             [
              0.7777777777777778,
              "#fb9f3a"
             ],
             [
              0.8888888888888888,
              "#fdca26"
             ],
             [
              1,
              "#f0f921"
             ]
            ],
            "type": "surface"
           }
          ],
          "table": [
           {
            "cells": {
             "fill": {
              "color": "#EBF0F8"
             },
             "line": {
              "color": "white"
             }
            },
            "header": {
             "fill": {
              "color": "#C8D4E3"
             },
             "line": {
              "color": "white"
             }
            },
            "type": "table"
           }
          ]
         },
         "layout": {
          "annotationdefaults": {
           "arrowcolor": "#2a3f5f",
           "arrowhead": 0,
           "arrowwidth": 1
          },
          "autotypenumbers": "strict",
          "coloraxis": {
           "colorbar": {
            "outlinewidth": 0,
            "ticks": ""
           }
          },
          "colorscale": {
           "diverging": [
            [
             0,
             "#8e0152"
            ],
            [
             0.1,
             "#c51b7d"
            ],
            [
             0.2,
             "#de77ae"
            ],
            [
             0.3,
             "#f1b6da"
            ],
            [
             0.4,
             "#fde0ef"
            ],
            [
             0.5,
             "#f7f7f7"
            ],
            [
             0.6,
             "#e6f5d0"
            ],
            [
             0.7,
             "#b8e186"
            ],
            [
             0.8,
             "#7fbc41"
            ],
            [
             0.9,
             "#4d9221"
            ],
            [
             1,
             "#276419"
            ]
           ],
           "sequential": [
            [
             0,
             "#0d0887"
            ],
            [
             0.1111111111111111,
             "#46039f"
            ],
            [
             0.2222222222222222,
             "#7201a8"
            ],
            [
             0.3333333333333333,
             "#9c179e"
            ],
            [
             0.4444444444444444,
             "#bd3786"
            ],
            [
             0.5555555555555556,
             "#d8576b"
            ],
            [
             0.6666666666666666,
             "#ed7953"
            ],
            [
             0.7777777777777778,
             "#fb9f3a"
            ],
            [
             0.8888888888888888,
             "#fdca26"
            ],
            [
             1,
             "#f0f921"
            ]
           ],
           "sequentialminus": [
            [
             0,
             "#0d0887"
            ],
            [
             0.1111111111111111,
             "#46039f"
            ],
            [
             0.2222222222222222,
             "#7201a8"
            ],
            [
             0.3333333333333333,
             "#9c179e"
            ],
            [
             0.4444444444444444,
             "#bd3786"
            ],
            [
             0.5555555555555556,
             "#d8576b"
            ],
            [
             0.6666666666666666,
             "#ed7953"
            ],
            [
             0.7777777777777778,
             "#fb9f3a"
            ],
            [
             0.8888888888888888,
             "#fdca26"
            ],
            [
             1,
             "#f0f921"
            ]
           ]
          },
          "colorway": [
           "#636efa",
           "#EF553B",
           "#00cc96",
           "#ab63fa",
           "#FFA15A",
           "#19d3f3",
           "#FF6692",
           "#B6E880",
           "#FF97FF",
           "#FECB52"
          ],
          "font": {
           "color": "#2a3f5f"
          },
          "geo": {
           "bgcolor": "white",
           "lakecolor": "white",
           "landcolor": "#E5ECF6",
           "showlakes": true,
           "showland": true,
           "subunitcolor": "white"
          },
          "hoverlabel": {
           "align": "left"
          },
          "hovermode": "closest",
          "mapbox": {
           "style": "light"
          },
          "paper_bgcolor": "white",
          "plot_bgcolor": "#E5ECF6",
          "polar": {
           "angularaxis": {
            "gridcolor": "white",
            "linecolor": "white",
            "ticks": ""
           },
           "bgcolor": "#E5ECF6",
           "radialaxis": {
            "gridcolor": "white",
            "linecolor": "white",
            "ticks": ""
           }
          },
          "scene": {
           "xaxis": {
            "backgroundcolor": "#E5ECF6",
            "gridcolor": "white",
            "gridwidth": 2,
            "linecolor": "white",
            "showbackground": true,
            "ticks": "",
            "zerolinecolor": "white"
           },
           "yaxis": {
            "backgroundcolor": "#E5ECF6",
            "gridcolor": "white",
            "gridwidth": 2,
            "linecolor": "white",
            "showbackground": true,
            "ticks": "",
            "zerolinecolor": "white"
           },
           "zaxis": {
            "backgroundcolor": "#E5ECF6",
            "gridcolor": "white",
            "gridwidth": 2,
            "linecolor": "white",
            "showbackground": true,
            "ticks": "",
            "zerolinecolor": "white"
           }
          },
          "shapedefaults": {
           "line": {
            "color": "#2a3f5f"
           }
          },
          "ternary": {
           "aaxis": {
            "gridcolor": "white",
            "linecolor": "white",
            "ticks": ""
           },
           "baxis": {
            "gridcolor": "white",
            "linecolor": "white",
            "ticks": ""
           },
           "bgcolor": "#E5ECF6",
           "caxis": {
            "gridcolor": "white",
            "linecolor": "white",
            "ticks": ""
           }
          },
          "title": {
           "x": 0.05
          },
          "xaxis": {
           "automargin": true,
           "gridcolor": "white",
           "linecolor": "white",
           "ticks": "",
           "title": {
            "standoff": 15
           },
           "zerolinecolor": "white",
           "zerolinewidth": 2
          },
          "yaxis": {
           "automargin": true,
           "gridcolor": "white",
           "linecolor": "white",
           "ticks": "",
           "title": {
            "standoff": 15
           },
           "zerolinecolor": "white",
           "zerolinewidth": 2
          }
         }
        },
        "title": {
         "text": "Categorical Distributions - Bar"
        },
        "xaxis": {
         "anchor": "y",
         "domain": [
          0,
          0.45
         ]
        },
        "xaxis2": {
         "anchor": "y2",
         "domain": [
          0.55,
          1
         ]
        },
        "yaxis": {
         "anchor": "x",
         "domain": [
          0,
          1
         ]
        },
        "yaxis2": {
         "anchor": "x2",
         "domain": [
          0,
          1
         ]
        }
       }
      }
     },
     "metadata": {},
     "output_type": "display_data"
    },
    {
     "data": {
      "application/vnd.plotly.v1+json": {
       "config": {
        "plotlyServerURL": "https://plot.ly"
       },
       "data": [
        {
         "colorscale": [
          [
           0,
           "rgb(103,0,31)"
          ],
          [
           0.1,
           "rgb(178,24,43)"
          ],
          [
           0.2,
           "rgb(214,96,77)"
          ],
          [
           0.3,
           "rgb(244,165,130)"
          ],
          [
           0.4,
           "rgb(253,219,199)"
          ],
          [
           0.5,
           "rgb(247,247,247)"
          ],
          [
           0.6,
           "rgb(209,229,240)"
          ],
          [
           0.7,
           "rgb(146,197,222)"
          ],
          [
           0.8,
           "rgb(67,147,195)"
          ],
          [
           0.9,
           "rgb(33,102,172)"
          ],
          [
           1,
           "rgb(5,48,97)"
          ]
         ],
         "hovertemplate": "%{x} vs %{y}<br>Correlation: %{z:.3f}<extra></extra>",
         "text": {
          "bdata": "AAAAAAAA8D956SYxCKyMv0w3iUFg5bC/exSuR+F6dL956SYxCKyMvwAAAAAAAPA/exSuR+F6pL956SYxCKycv0w3iUFg5bC/exSuR+F6pL8AAAAAAADwP3sUrkfhepS/exSuR+F6dL956SYxCKycv3sUrkfhepS/AAAAAAAA8D8=",
          "dtype": "f8",
          "shape": "4, 4"
         },
         "textfont": {
          "size": 10
         },
         "texttemplate": "%{text}",
         "type": "heatmap",
         "x": [
          "age",
          "salary",
          "score",
          "target"
         ],
         "y": [
          "age",
          "salary",
          "score",
          "target"
         ],
         "z": {
          "bdata": "AAAAAAAA8D+fsWVB4J6NvwEQjiyo0rC/9YjE3exKc7+fsWVB4J6NvwAAAAAAAPA/nuJBBJ2kpL92piOomwedvwEQjiyo0rC/nuJBBJ2kpL8AAAAAAADwP7PcTnVpJpS/9YjE3exKc792piOomwedv7PcTnVpJpS/AAAAAAAA8D8=",
          "dtype": "f8",
          "shape": "4, 4"
         },
         "zmid": 0
        }
       ],
       "layout": {
        "template": {
         "data": {
          "bar": [
           {
            "error_x": {
             "color": "#2a3f5f"
            },
            "error_y": {
             "color": "#2a3f5f"
            },
            "marker": {
             "line": {
              "color": "#E5ECF6",
              "width": 0.5
             },
             "pattern": {
              "fillmode": "overlay",
              "size": 10,
              "solidity": 0.2
             }
            },
            "type": "bar"
           }
          ],
          "barpolar": [
           {
            "marker": {
             "line": {
              "color": "#E5ECF6",
              "width": 0.5
             },
             "pattern": {
              "fillmode": "overlay",
              "size": 10,
              "solidity": 0.2
             }
            },
            "type": "barpolar"
           }
          ],
          "carpet": [
           {
            "aaxis": {
             "endlinecolor": "#2a3f5f",
             "gridcolor": "white",
             "linecolor": "white",
             "minorgridcolor": "white",
             "startlinecolor": "#2a3f5f"
            },
            "baxis": {
             "endlinecolor": "#2a3f5f",
             "gridcolor": "white",
             "linecolor": "white",
             "minorgridcolor": "white",
             "startlinecolor": "#2a3f5f"
            },
            "type": "carpet"
           }
          ],
          "choropleth": [
           {
            "colorbar": {
             "outlinewidth": 0,
             "ticks": ""
            },
            "type": "choropleth"
           }
          ],
          "contour": [
           {
            "colorbar": {
             "outlinewidth": 0,
             "ticks": ""
            },
            "colorscale": [
             [
              0,
              "#0d0887"
             ],
             [
              0.1111111111111111,
              "#46039f"
             ],
             [
              0.2222222222222222,
              "#7201a8"
             ],
             [
              0.3333333333333333,
              "#9c179e"
             ],
             [
              0.4444444444444444,
              "#bd3786"
             ],
             [
              0.5555555555555556,
              "#d8576b"
             ],
             [
              0.6666666666666666,
              "#ed7953"
             ],
             [
              0.7777777777777778,
              "#fb9f3a"
             ],
             [
              0.8888888888888888,
              "#fdca26"
             ],
             [
              1,
              "#f0f921"
             ]
            ],
            "type": "contour"
           }
          ],
          "contourcarpet": [
           {
            "colorbar": {
             "outlinewidth": 0,
             "ticks": ""
            },
            "type": "contourcarpet"
           }
          ],
          "heatmap": [
           {
            "colorbar": {
             "outlinewidth": 0,
             "ticks": ""
            },
            "colorscale": [
             [
              0,
              "#0d0887"
             ],
             [
              0.1111111111111111,
              "#46039f"
             ],
             [
              0.2222222222222222,
              "#7201a8"
             ],
             [
              0.3333333333333333,
              "#9c179e"
             ],
             [
              0.4444444444444444,
              "#bd3786"
             ],
             [
              0.5555555555555556,
              "#d8576b"
             ],
             [
              0.6666666666666666,
              "#ed7953"
             ],
             [
              0.7777777777777778,
              "#fb9f3a"
             ],
             [
              0.8888888888888888,
              "#fdca26"
             ],
             [
              1,
              "#f0f921"
             ]
            ],
            "type": "heatmap"
           }
          ],
          "histogram": [
           {
            "marker": {
             "pattern": {
              "fillmode": "overlay",
              "size": 10,
              "solidity": 0.2
             }
            },
            "type": "histogram"
           }
          ],
          "histogram2d": [
           {
            "colorbar": {
             "outlinewidth": 0,
             "ticks": ""
            },
            "colorscale": [
             [
              0,
              "#0d0887"
             ],
             [
              0.1111111111111111,
              "#46039f"
             ],
             [
              0.2222222222222222,
              "#7201a8"
             ],
             [
              0.3333333333333333,
              "#9c179e"
             ],
             [
              0.4444444444444444,
              "#bd3786"
             ],
             [
              0.5555555555555556,
              "#d8576b"
             ],
             [
              0.6666666666666666,
              "#ed7953"
             ],
             [
              0.7777777777777778,
              "#fb9f3a"
             ],
             [
              0.8888888888888888,
              "#fdca26"
             ],
             [
              1,
              "#f0f921"
             ]
            ],
            "type": "histogram2d"
           }
          ],
          "histogram2dcontour": [
           {
            "colorbar": {
             "outlinewidth": 0,
             "ticks": ""
            },
            "colorscale": [
             [
              0,
              "#0d0887"
             ],
             [
              0.1111111111111111,
              "#46039f"
             ],
             [
              0.2222222222222222,
              "#7201a8"
             ],
             [
              0.3333333333333333,
              "#9c179e"
             ],
             [
              0.4444444444444444,
              "#bd3786"
             ],
             [
              0.5555555555555556,
              "#d8576b"
             ],
             [
              0.6666666666666666,
              "#ed7953"
             ],
             [
              0.7777777777777778,
              "#fb9f3a"
             ],
             [
              0.8888888888888888,
              "#fdca26"
             ],
             [
              1,
              "#f0f921"
             ]
            ],
            "type": "histogram2dcontour"
           }
          ],
          "mesh3d": [
           {
            "colorbar": {
             "outlinewidth": 0,
             "ticks": ""
            },
            "type": "mesh3d"
           }
          ],
          "parcoords": [
           {
            "line": {
             "colorbar": {
              "outlinewidth": 0,
              "ticks": ""
             }
            },
            "type": "parcoords"
           }
          ],
          "pie": [
           {
            "automargin": true,
            "type": "pie"
           }
          ],
          "scatter": [
           {
            "fillpattern": {
             "fillmode": "overlay",
             "size": 10,
             "solidity": 0.2
            },
            "type": "scatter"
           }
          ],
          "scatter3d": [
           {
            "line": {
             "colorbar": {
              "outlinewidth": 0,
              "ticks": ""
             }
            },
            "marker": {
             "colorbar": {
              "outlinewidth": 0,
              "ticks": ""
             }
            },
            "type": "scatter3d"
           }
          ],
          "scattercarpet": [
           {
            "marker": {
             "colorbar": {
              "outlinewidth": 0,
              "ticks": ""
             }
            },
            "type": "scattercarpet"
           }
          ],
          "scattergeo": [
           {
            "marker": {
             "colorbar": {
              "outlinewidth": 0,
              "ticks": ""
             }
            },
            "type": "scattergeo"
           }
          ],
          "scattergl": [
           {
            "marker": {
             "colorbar": {
              "outlinewidth": 0,
              "ticks": ""
             }
            },
            "type": "scattergl"
           }
          ],
          "scattermap": [
           {
            "marker": {
             "colorbar": {
              "outlinewidth": 0,
              "ticks": ""
             }
            },
            "type": "scattermap"
           }
          ],
          "scattermapbox": [
           {
            "marker": {
             "colorbar": {
              "outlinewidth": 0,
              "ticks": ""
             }
            },
            "type": "scattermapbox"
           }
          ],
          "scatterpolar": [
           {
            "marker": {
             "colorbar": {
              "outlinewidth": 0,
              "ticks": ""
             }
            },
            "type": "scatterpolar"
           }
          ],
          "scatterpolargl": [
           {
            "marker": {
             "colorbar": {
              "outlinewidth": 0,
              "ticks": ""
             }
            },
            "type": "scatterpolargl"
           }
          ],
          "scatterternary": [
           {
            "marker": {
             "colorbar": {
              "outlinewidth": 0,
              "ticks": ""
             }
            },
            "type": "scatterternary"
           }
          ],
          "surface": [
           {
            "colorbar": {
             "outlinewidth": 0,
             "ticks": ""
            },
            "colorscale": [
             [
              0,
              "#0d0887"
             ],
             [
              0.1111111111111111,
              "#46039f"
             ],
             [
              0.2222222222222222,
              "#7201a8"
             ],
             [
              0.3333333333333333,
              "#9c179e"
             ],
             [
              0.4444444444444444,
              "#bd3786"
             ],
             [
              0.5555555555555556,
              "#d8576b"
             ],
             [
              0.6666666666666666,
              "#ed7953"
             ],
             [
              0.7777777777777778,
              "#fb9f3a"
             ],
             [
              0.8888888888888888,
              "#fdca26"
             ],
             [
              1,
              "#f0f921"
             ]
            ],
            "type": "surface"
           }
          ],
          "table": [
           {
            "cells": {
             "fill": {
              "color": "#EBF0F8"
             },
             "line": {
              "color": "white"
             }
            },
            "header": {
             "fill": {
              "color": "#C8D4E3"
             },
             "line": {
              "color": "white"
             }
            },
            "type": "table"
           }
          ]
         },
         "layout": {
          "annotationdefaults": {
           "arrowcolor": "#2a3f5f",
           "arrowhead": 0,
           "arrowwidth": 1
          },
          "autotypenumbers": "strict",
          "coloraxis": {
           "colorbar": {
            "outlinewidth": 0,
            "ticks": ""
           }
          },
          "colorscale": {
           "diverging": [
            [
             0,
             "#8e0152"
            ],
            [
             0.1,
             "#c51b7d"
            ],
            [
             0.2,
             "#de77ae"
            ],
            [
             0.3,
             "#f1b6da"
            ],
            [
             0.4,
             "#fde0ef"
            ],
            [
             0.5,
             "#f7f7f7"
            ],
            [
             0.6,
             "#e6f5d0"
            ],
            [
             0.7,
             "#b8e186"
            ],
            [
             0.8,
             "#7fbc41"
            ],
            [
             0.9,
             "#4d9221"
            ],
            [
             1,
             "#276419"
            ]
           ],
           "sequential": [
            [
             0,
             "#0d0887"
            ],
            [
             0.1111111111111111,
             "#46039f"
            ],
            [
             0.2222222222222222,
             "#7201a8"
            ],
            [
             0.3333333333333333,
             "#9c179e"
            ],
            [
             0.4444444444444444,
             "#bd3786"
            ],
            [
             0.5555555555555556,
             "#d8576b"
            ],
            [
             0.6666666666666666,
             "#ed7953"
            ],
            [
             0.7777777777777778,
             "#fb9f3a"
            ],
            [
             0.8888888888888888,
             "#fdca26"
            ],
            [
             1,
             "#f0f921"
            ]
           ],
           "sequentialminus": [
            [
             0,
             "#0d0887"
            ],
            [
             0.1111111111111111,
             "#46039f"
            ],
            [
             0.2222222222222222,
             "#7201a8"
            ],
            [
             0.3333333333333333,
             "#9c179e"
            ],
            [
             0.4444444444444444,
             "#bd3786"
            ],
            [
             0.5555555555555556,
             "#d8576b"
            ],
            [
             0.6666666666666666,
             "#ed7953"
            ],
            [
             0.7777777777777778,
             "#fb9f3a"
            ],
            [
             0.8888888888888888,
             "#fdca26"
            ],
            [
             1,
             "#f0f921"
            ]
           ]
          },
          "colorway": [
           "#636efa",
           "#EF553B",
           "#00cc96",
           "#ab63fa",
           "#FFA15A",
           "#19d3f3",
           "#FF6692",
           "#B6E880",
           "#FF97FF",
           "#FECB52"
          ],
          "font": {
           "color": "#2a3f5f"
          },
          "geo": {
           "bgcolor": "white",
           "lakecolor": "white",
           "landcolor": "#E5ECF6",
           "showlakes": true,
           "showland": true,
           "subunitcolor": "white"
          },
          "hoverlabel": {
           "align": "left"
          },
          "hovermode": "closest",
          "mapbox": {
           "style": "light"
          },
          "paper_bgcolor": "white",
          "plot_bgcolor": "#E5ECF6",
          "polar": {
           "angularaxis": {
            "gridcolor": "white",
            "linecolor": "white",
            "ticks": ""
           },
           "bgcolor": "#E5ECF6",
           "radialaxis": {
            "gridcolor": "white",
            "linecolor": "white",
            "ticks": ""
           }
          },
          "scene": {
           "xaxis": {
            "backgroundcolor": "#E5ECF6",
            "gridcolor": "white",
            "gridwidth": 2,
            "linecolor": "white",
            "showbackground": true,
            "ticks": "",
            "zerolinecolor": "white"
           },
           "yaxis": {
            "backgroundcolor": "#E5ECF6",
            "gridcolor": "white",
            "gridwidth": 2,
            "linecolor": "white",
            "showbackground": true,
            "ticks": "",
            "zerolinecolor": "white"
           },
           "zaxis": {
            "backgroundcolor": "#E5ECF6",
            "gridcolor": "white",
            "gridwidth": 2,
            "linecolor": "white",
            "showbackground": true,
            "ticks": "",
            "zerolinecolor": "white"
           }
          },
          "shapedefaults": {
           "line": {
            "color": "#2a3f5f"
           }
          },
          "ternary": {
           "aaxis": {
            "gridcolor": "white",
            "linecolor": "white",
            "ticks": ""
           },
           "baxis": {
            "gridcolor": "white",
            "linecolor": "white",
            "ticks": ""
           },
           "bgcolor": "#E5ECF6",
           "caxis": {
            "gridcolor": "white",
            "linecolor": "white",
            "ticks": ""
           }
          },
          "title": {
           "x": 0.05
          },
          "xaxis": {
           "automargin": true,
           "gridcolor": "white",
           "linecolor": "white",
           "ticks": "",
           "title": {
            "standoff": 15
           },
           "zerolinecolor": "white",
           "zerolinewidth": 2
          },
          "yaxis": {
           "automargin": true,
           "gridcolor": "white",
           "linecolor": "white",
           "ticks": "",
           "title": {
            "standoff": 15
           },
           "zerolinecolor": "white",
           "zerolinewidth": 2
          }
         }
        },
        "title": {
         "text": "Pearson Correlation Matrix"
        },
        "xaxis": {
         "title": {
          "text": "Variables"
         }
        },
        "yaxis": {
         "title": {
          "text": "Variables"
         }
        }
       }
      }
     },
     "metadata": {},
     "output_type": "display_data"
    },
    {
     "name": "stdout",
     "output_type": "stream",
     "text": [
      "              age                                        salary             \\\n",
      "            count    mean  median     std    min     max  count       mean   \n",
      "department                                                                   \n",
      "Engineering   314  34.775  34.914   9.638  8.272  64.051    314  52495.812   \n",
      "Marketing     319  34.871  34.720  10.331  5.355  66.789    319  48969.550   \n",
      "Sales         367  34.517  35.309   9.740 -1.484  60.493    367  50883.220   \n",
      "\n",
      "                                                        \n",
      "                median        std      min         max  \n",
      "department                                              \n",
      "Engineering  36020.482  54388.395  450.713  330203.937  \n",
      "Marketing    35823.306  47278.564   24.211  311165.033  \n",
      "Sales        35973.482  52104.043    3.561  380733.296  \n"
     ]
    },
    {
     "data": {
      "application/vnd.plotly.v1+json": {
       "config": {
        "plotlyServerURL": "https://plot.ly"
       },
       "data": [
        {
         "boxpoints": "outliers",
         "line": {
          "color": "blue"
         },
         "marker": {
          "color": "red",
          "size": 8
         },
         "name": "age",
         "showlegend": false,
         "type": "box",
         "xaxis": "x",
         "y": {
          "bdata": "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",
          "dtype": "f8"
         },
         "yaxis": "y"
        },
        {
         "boxpoints": "outliers",
         "line": {
          "color": "blue"
         },
         "marker": {
          "color": "red",
          "size": 8
         },
         "name": "salary",
         "showlegend": false,
         "type": "box",
         "xaxis": "x2",
         "y": {
          "bdata": "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",
          "dtype": "f8"
         },
         "yaxis": "y2"
        },
        {
         "boxpoints": "outliers",
         "line": {
          "color": "blue"
         },
         "marker": {
          "color": "red",
          "size": 8
         },
         "name": "score",
         "showlegend": false,
         "type": "box",
         "xaxis": "x3",
         "y": {
          "bdata": "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",
          "dtype": "f8"
         },
         "yaxis": "y3"
        },
        {
         "boxpoints": "outliers",
         "line": {
          "color": "blue"
         },
         "marker": {
          "color": "red",
          "size": 8
         },
         "name": "target",
         "showlegend": false,
         "type": "box",
         "xaxis": "x4",
         "y": {
          "bdata": "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",
          "dtype": "f8"
         },
         "yaxis": "y4"
        }
       ],
       "layout": {
        "annotations": [
         {
          "font": {
           "size": 16
          },
          "showarrow": false,
          "text": "age - Box (IQR)",
          "x": 0.2,
          "xanchor": "center",
          "xref": "paper",
          "y": 1,
          "yanchor": "bottom",
          "yref": "paper"
         },
         {
          "font": {
           "size": 16
          },
          "showarrow": false,
          "text": "salary - Box (IQR)",
          "x": 0.8,
          "xanchor": "center",
          "xref": "paper",
          "y": 1,
          "yanchor": "bottom",
          "yref": "paper"
         },
         {
          "font": {
           "size": 16
          },
          "showarrow": false,
          "text": "score - Box (IQR)",
          "x": 0.2,
          "xanchor": "center",
          "xref": "paper",
          "y": 0.425,
          "yanchor": "bottom",
          "yref": "paper"
         },
         {
          "font": {
           "size": 16
          },
          "showarrow": false,
          "text": "target - Box (IQR)",
          "x": 0.8,
          "xanchor": "center",
          "xref": "paper",
          "y": 0.425,
          "yanchor": "bottom",
          "yref": "paper"
         }
        ],
        "height": 800,
        "margin": {
         "b": 80,
         "l": 80,
         "r": 80,
         "t": 100
        },
        "showlegend": false,
        "template": {
         "data": {
          "bar": [
           {
            "error_x": {
             "color": "#2a3f5f"
            },
            "error_y": {
             "color": "#2a3f5f"
            },
            "marker": {
             "line": {
              "color": "white",
              "width": 0.5
             },
             "pattern": {
              "fillmode": "overlay",
              "size": 10,
              "solidity": 0.2
             }
            },
            "type": "bar"
           }
          ],
          "barpolar": [
           {
            "marker": {
             "line": {
              "color": "white",
              "width": 0.5
             },
             "pattern": {
              "fillmode": "overlay",
              "size": 10,
              "solidity": 0.2
             }
            },
            "type": "barpolar"
           }
          ],
          "carpet": [
           {
            "aaxis": {
             "endlinecolor": "#2a3f5f",
             "gridcolor": "#C8D4E3",
             "linecolor": "#C8D4E3",
             "minorgridcolor": "#C8D4E3",
             "startlinecolor": "#2a3f5f"
            },
            "baxis": {
             "endlinecolor": "#2a3f5f",
             "gridcolor": "#C8D4E3",
             "linecolor": "#C8D4E3",
             "minorgridcolor": "#C8D4E3",
             "startlinecolor": "#2a3f5f"
            },
            "type": "carpet"
           }
          ],
          "choropleth": [
           {
            "colorbar": {
             "outlinewidth": 0,
             "ticks": ""
            },
            "type": "choropleth"
           }
          ],
          "contour": [
           {
            "colorbar": {
             "outlinewidth": 0,
             "ticks": ""
            },
            "colorscale": [
             [
              0,
              "#0d0887"
             ],
             [
              0.1111111111111111,
              "#46039f"
             ],
             [
              0.2222222222222222,
              "#7201a8"
             ],
             [
              0.3333333333333333,
              "#9c179e"
             ],
             [
              0.4444444444444444,
              "#bd3786"
             ],
             [
              0.5555555555555556,
              "#d8576b"
             ],
             [
              0.6666666666666666,
              "#ed7953"
             ],
             [
              0.7777777777777778,
              "#fb9f3a"
             ],
             [
              0.8888888888888888,
              "#fdca26"
             ],
             [
              1,
              "#f0f921"
             ]
            ],
            "type": "contour"
           }
          ],
          "contourcarpet": [
           {
            "colorbar": {
             "outlinewidth": 0,
             "ticks": ""
            },
            "type": "contourcarpet"
           }
          ],
          "heatmap": [
           {
            "colorbar": {
             "outlinewidth": 0,
             "ticks": ""
            },
            "colorscale": [
             [
              0,
              "#0d0887"
             ],
             [
              0.1111111111111111,
              "#46039f"
             ],
             [
              0.2222222222222222,
              "#7201a8"
             ],
             [
              0.3333333333333333,
              "#9c179e"
             ],
             [
              0.4444444444444444,
              "#bd3786"
             ],
             [
              0.5555555555555556,
              "#d8576b"
             ],
             [
              0.6666666666666666,
              "#ed7953"
             ],
             [
              0.7777777777777778,
              "#fb9f3a"
             ],
             [
              0.8888888888888888,
              "#fdca26"
             ],
             [
              1,
              "#f0f921"
             ]
            ],
            "type": "heatmap"
           }
          ],
          "histogram": [
           {
            "marker": {
             "pattern": {
              "fillmode": "overlay",
              "size": 10,
              "solidity": 0.2
             }
            },
            "type": "histogram"
           }
          ],
          "histogram2d": [
           {
            "colorbar": {
             "outlinewidth": 0,
             "ticks": ""
            },
            "colorscale": [
             [
              0,
              "#0d0887"
             ],
             [
              0.1111111111111111,
              "#46039f"
             ],
             [
              0.2222222222222222,
              "#7201a8"
             ],
             [
              0.3333333333333333,
              "#9c179e"
             ],
             [
              0.4444444444444444,
              "#bd3786"
             ],
             [
              0.5555555555555556,
              "#d8576b"
             ],
             [
              0.6666666666666666,
              "#ed7953"
             ],
             [
              0.7777777777777778,
              "#fb9f3a"
             ],
             [
              0.8888888888888888,
              "#fdca26"
             ],
             [
              1,
              "#f0f921"
             ]
            ],
            "type": "histogram2d"
           }
          ],
          "histogram2dcontour": [
           {
            "colorbar": {
             "outlinewidth": 0,
             "ticks": ""
            },
            "colorscale": [
             [
              0,
              "#0d0887"
             ],
             [
              0.1111111111111111,
              "#46039f"
             ],
             [
              0.2222222222222222,
              "#7201a8"
             ],
             [
              0.3333333333333333,
              "#9c179e"
             ],
             [
              0.4444444444444444,
              "#bd3786"
             ],
             [
              0.5555555555555556,
              "#d8576b"
             ],
             [
              0.6666666666666666,
              "#ed7953"
             ],
             [
              0.7777777777777778,
              "#fb9f3a"
             ],
             [
              0.8888888888888888,
              "#fdca26"
             ],
             [
              1,
              "#f0f921"
             ]
            ],
            "type": "histogram2dcontour"
           }
          ],
          "mesh3d": [
           {
            "colorbar": {
             "outlinewidth": 0,
             "ticks": ""
            },
            "type": "mesh3d"
           }
          ],
          "parcoords": [
           {
            "line": {
             "colorbar": {
              "outlinewidth": 0,
              "ticks": ""
             }
            },
            "type": "parcoords"
           }
          ],
          "pie": [
           {
            "automargin": true,
            "type": "pie"
           }
          ],
          "scatter": [
           {
            "fillpattern": {
             "fillmode": "overlay",
             "size": 10,
             "solidity": 0.2
            },
            "type": "scatter"
           }
          ],
          "scatter3d": [
           {
            "line": {
             "colorbar": {
              "outlinewidth": 0,
              "ticks": ""
             }
            },
            "marker": {
             "colorbar": {
              "outlinewidth": 0,
              "ticks": ""
             }
            },
            "type": "scatter3d"
           }
          ],
          "scattercarpet": [
           {
            "marker": {
             "colorbar": {
              "outlinewidth": 0,
              "ticks": ""
             }
            },
            "type": "scattercarpet"
           }
          ],
          "scattergeo": [
           {
            "marker": {
             "colorbar": {
              "outlinewidth": 0,
              "ticks": ""
             }
            },
            "type": "scattergeo"
           }
          ],
          "scattergl": [
           {
            "marker": {
             "colorbar": {
              "outlinewidth": 0,
              "ticks": ""
             }
            },
            "type": "scattergl"
           }
          ],
          "scattermap": [
           {
            "marker": {
             "colorbar": {
              "outlinewidth": 0,
              "ticks": ""
             }
            },
            "type": "scattermap"
           }
          ],
          "scattermapbox": [
           {
            "marker": {
             "colorbar": {
              "outlinewidth": 0,
              "ticks": ""
             }
            },
            "type": "scattermapbox"
           }
          ],
          "scatterpolar": [
           {
            "marker": {
             "colorbar": {
              "outlinewidth": 0,
              "ticks": ""
             }
            },
            "type": "scatterpolar"
           }
          ],
          "scatterpolargl": [
           {
            "marker": {
             "colorbar": {
              "outlinewidth": 0,
              "ticks": ""
             }
            },
            "type": "scatterpolargl"
           }
          ],
          "scatterternary": [
           {
            "marker": {
             "colorbar": {
              "outlinewidth": 0,
              "ticks": ""
             }
            },
            "type": "scatterternary"
           }
          ],
          "surface": [
           {
            "colorbar": {
             "outlinewidth": 0,
             "ticks": ""
            },
            "colorscale": [
             [
              0,
              "#0d0887"
             ],
             [
              0.1111111111111111,
              "#46039f"
             ],
             [
              0.2222222222222222,
              "#7201a8"
             ],
             [
              0.3333333333333333,
              "#9c179e"
             ],
             [
              0.4444444444444444,
              "#bd3786"
             ],
             [
              0.5555555555555556,
              "#d8576b"
             ],
             [
              0.6666666666666666,
              "#ed7953"
             ],
             [
              0.7777777777777778,
              "#fb9f3a"
             ],
             [
              0.8888888888888888,
              "#fdca26"
             ],
             [
              1,
              "#f0f921"
             ]
            ],
            "type": "surface"
           }
          ],
          "table": [
           {
            "cells": {
             "fill": {
              "color": "#EBF0F8"
             },
             "line": {
              "color": "white"
             }
            },
            "header": {
             "fill": {
              "color": "#C8D4E3"
             },
             "line": {
              "color": "white"
             }
            },
            "type": "table"
           }
          ]
         },
         "layout": {
          "annotationdefaults": {
           "arrowcolor": "#2a3f5f",
           "arrowhead": 0,
           "arrowwidth": 1
          },
          "autotypenumbers": "strict",
          "coloraxis": {
           "colorbar": {
            "outlinewidth": 0,
            "ticks": ""
           }
          },
          "colorscale": {
           "diverging": [
            [
             0,
             "#8e0152"
            ],
            [
             0.1,
             "#c51b7d"
            ],
            [
             0.2,
             "#de77ae"
            ],
            [
             0.3,
             "#f1b6da"
            ],
            [
             0.4,
             "#fde0ef"
            ],
            [
             0.5,
             "#f7f7f7"
            ],
            [
             0.6,
             "#e6f5d0"
            ],
            [
             0.7,
             "#b8e186"
            ],
            [
             0.8,
             "#7fbc41"
            ],
            [
             0.9,
             "#4d9221"
            ],
            [
             1,
             "#276419"
            ]
           ],
           "sequential": [
            [
             0,
             "#0d0887"
            ],
            [
             0.1111111111111111,
             "#46039f"
            ],
            [
             0.2222222222222222,
             "#7201a8"
            ],
            [
             0.3333333333333333,
             "#9c179e"
            ],
            [
             0.4444444444444444,
             "#bd3786"
            ],
            [
             0.5555555555555556,
             "#d8576b"
            ],
            [
             0.6666666666666666,
             "#ed7953"
            ],
            [
             0.7777777777777778,
             "#fb9f3a"
            ],
            [
             0.8888888888888888,
             "#fdca26"
            ],
            [
             1,
             "#f0f921"
            ]
           ],
           "sequentialminus": [
            [
             0,
             "#0d0887"
            ],
            [
             0.1111111111111111,
             "#46039f"
            ],
            [
             0.2222222222222222,
             "#7201a8"
            ],
            [
             0.3333333333333333,
             "#9c179e"
            ],
            [
             0.4444444444444444,
             "#bd3786"
            ],
            [
             0.5555555555555556,
             "#d8576b"
            ],
            [
             0.6666666666666666,
             "#ed7953"
            ],
            [
             0.7777777777777778,
             "#fb9f3a"
            ],
            [
             0.8888888888888888,
             "#fdca26"
            ],
            [
             1,
             "#f0f921"
            ]
           ]
          },
          "colorway": [
           "#636efa",
           "#EF553B",
           "#00cc96",
           "#ab63fa",
           "#FFA15A",
           "#19d3f3",
           "#FF6692",
           "#B6E880",
           "#FF97FF",
           "#FECB52"
          ],
          "font": {
           "color": "#2a3f5f"
          },
          "geo": {
           "bgcolor": "white",
           "lakecolor": "white",
           "landcolor": "white",
           "showlakes": true,
           "showland": true,
           "subunitcolor": "#C8D4E3"
          },
          "hoverlabel": {
           "align": "left"
          },
          "hovermode": "closest",
          "mapbox": {
           "style": "light"
          },
          "paper_bgcolor": "white",
          "plot_bgcolor": "white",
          "polar": {
           "angularaxis": {
            "gridcolor": "#EBF0F8",
            "linecolor": "#EBF0F8",
            "ticks": ""
           },
           "bgcolor": "white",
           "radialaxis": {
            "gridcolor": "#EBF0F8",
            "linecolor": "#EBF0F8",
            "ticks": ""
           }
          },
          "scene": {
           "xaxis": {
            "backgroundcolor": "white",
            "gridcolor": "#DFE8F3",
            "gridwidth": 2,
            "linecolor": "#EBF0F8",
            "showbackground": true,
            "ticks": "",
            "zerolinecolor": "#EBF0F8"
           },
           "yaxis": {
            "backgroundcolor": "white",
            "gridcolor": "#DFE8F3",
            "gridwidth": 2,
            "linecolor": "#EBF0F8",
            "showbackground": true,
            "ticks": "",
            "zerolinecolor": "#EBF0F8"
           },
           "zaxis": {
            "backgroundcolor": "white",
            "gridcolor": "#DFE8F3",
            "gridwidth": 2,
            "linecolor": "#EBF0F8",
            "showbackground": true,
            "ticks": "",
            "zerolinecolor": "#EBF0F8"
           }
          },
          "shapedefaults": {
           "line": {
            "color": "#2a3f5f"
           }
          },
          "ternary": {
           "aaxis": {
            "gridcolor": "#DFE8F3",
            "linecolor": "#A2B1C6",
            "ticks": ""
           },
           "baxis": {
            "gridcolor": "#DFE8F3",
            "linecolor": "#A2B1C6",
            "ticks": ""
           },
           "bgcolor": "white",
           "caxis": {
            "gridcolor": "#DFE8F3",
            "linecolor": "#A2B1C6",
            "ticks": ""
           }
          },
          "title": {
           "x": 0.05
          },
          "xaxis": {
           "automargin": true,
           "gridcolor": "#EBF0F8",
           "linecolor": "#EBF0F8",
           "ticks": "",
           "title": {
            "standoff": 15
           },
           "zerolinecolor": "#EBF0F8",
           "zerolinewidth": 2
          },
          "yaxis": {
           "automargin": true,
           "gridcolor": "#EBF0F8",
           "linecolor": "#EBF0F8",
           "ticks": "",
           "title": {
            "standoff": 15
           },
           "zerolinecolor": "#EBF0F8",
           "zerolinewidth": 2
          }
         }
        },
        "title": {
         "font": {
          "color": "darkblue",
          "size": 18
         },
         "text": "Outliers Detection - Box Plot (IQR)",
         "x": 0.5
        },
        "width": 1200,
        "xaxis": {
         "anchor": "y",
         "domain": [
          0,
          0.4
         ]
        },
        "xaxis2": {
         "anchor": "y2",
         "domain": [
          0.6000000000000001,
          1
         ]
        },
        "xaxis3": {
         "anchor": "y3",
         "domain": [
          0,
          0.4
         ]
        },
        "xaxis4": {
         "anchor": "y4",
         "domain": [
          0.6000000000000001,
          1
         ]
        },
        "yaxis": {
         "anchor": "x",
         "domain": [
          0.575,
          1
         ]
        },
        "yaxis2": {
         "anchor": "x2",
         "domain": [
          0.575,
          1
         ]
        },
        "yaxis3": {
         "anchor": "x3",
         "domain": [
          0,
          0.425
         ]
        },
        "yaxis4": {
         "anchor": "x4",
         "domain": [
          0,
          0.425
         ]
        }
       }
      }
     },
     "metadata": {},
     "output_type": "display_data"
    }
   ],
   "source": [
    "# Create visualizations\n",
    "fig1 = eda.plot_numeric_distribution()\n",
    "fig1.show()\n",
    "\n",
    "fig2 = eda.plot_categorical_distribution()\n",
    "fig2.show()\n",
    "\n",
    "fig3 = eda.plot_correlation_heatmap()\n",
    "fig3.show()\n",
    "\n",
    "# Group analysis\n",
    "group_stats = eda.group_analysis(\"department\", [\"age\", \"salary\"])\n",
    "print(group_stats)\n",
    "\n",
    "# Outlier detection\n",
    "fig4 = eda.plot_outliers(method=\"iqr\")\n",
    "fig4.show()"
   ]
  },
  {
   "cell_type": "code",
   "execution_count": null,
   "id": "33d8a04c",
   "metadata": {},
   "outputs": [],
   "source": []
  },
  {
   "cell_type": "code",
   "execution_count": 152,
   "id": "bedcdcec",
   "metadata": {},
   "outputs": [],
   "source": [
    "from typing import cast\n",
    "\n",
    "import narwhals as nw\n",
    "import narwhals.selectors as n_cs\n",
    "import numpy as np\n",
    "import pandas as pd\n",
    "import plotly.graph_objects as go\n",
    "import plotly.express as px\n",
    "import polars as pl\n",
    "import pyarrow as pa\n",
    "from narwhals.typing import IntoDataFrameT\n",
    "from plotly.subplots import make_subplots\n",
    "from scipy.stats import entropy, spearmanr\n",
    "\n",
    "\n",
    "class ExploratoryDataAnalysis:\n",
    "    EMPTY_DATAFRAME: str = \"🚫 Empty dataframe\"\n",
    "    NO_NUMERIC_COLUMNS: str = \"🚫 No numeric columns available\"\n",
    "    NO_CATEGORICAL_COLUMNS: str = \"🚫 No categorical columns available\"\n",
    "\n",
    "    def __init__(self, data: IntoDataFrameT, target_column: str | None = None) -> None:\n",
    "        # Store the original data reference to check its type later\n",
    "        self._original_data = data\n",
    "        self.data = nw.from_native(data)\n",
    "        self.target_column = target_column\n",
    "        self.numeric_columns = self._get_numeric_columns()\n",
    "        self.categorical_columns = self._get_categorical_columns()\n",
    "        self.boolean_columns = self._get_boolean_columns()\n",
    "\n",
    "    def _convert_to_native(self, df: pl.DataFrame | nw.DataFrame) -> IntoDataFrameT:\n",
    "        \"\"\"Convert Polars DataFrame or Narwhals DataFrame to the original dataframe type.\n",
    "\n",
    "        Parameters\n",
    "        ----------\n",
    "        df : pl.DataFrame | nw.DataFrame\n",
    "            The DataFrame to convert (either Polars or Narwhals).\n",
    "\n",
    "        Returns\n",
    "        -------\n",
    "        IntoDataFrameT\n",
    "            The converted DataFrame in the same format as the original input data.\n",
    "\n",
    "        \"\"\"\n",
    "        # Handle Narwhals DataFrame\n",
    "        if isinstance(df, nw.DataFrame):  # Narwhals DataFrame\n",
    "            df = df.to_native()  # type: ignore\n",
    "\n",
    "        # Now convert to the original format\n",
    "        if isinstance(self._original_data, pd.DataFrame):\n",
    "            if isinstance(df, pl.DataFrame):\n",
    "                return cast(IntoDataFrameT, df.to_pandas())\n",
    "            elif isinstance(df, pd.DataFrame):\n",
    "                return cast(IntoDataFrameT, df)\n",
    "\n",
    "        if isinstance(self._original_data, pa.Table):\n",
    "            if isinstance(df, pl.DataFrame):\n",
    "                return cast(IntoDataFrameT, df.to_arrow())\n",
    "            elif isinstance(df, pa.Table):\n",
    "                return cast(IntoDataFrameT, df)\n",
    "\n",
    "        # Default: return as Polars DataFrame\n",
    "        return cast(IntoDataFrameT, df)\n",
    "\n",
    "    def _get_numeric_columns(self) -> list[str]:\n",
    "        \"\"\"Get numeric columns from the DataFrame.\"\"\"\n",
    "        return self.data.select(n_cs.numeric()).columns\n",
    "\n",
    "    def _get_categorical_columns(self) -> list[str]:\n",
    "        \"\"\"Get categorical columns from the DataFrame.\"\"\"\n",
    "        return self.data.select(n_cs.string()).columns\n",
    "\n",
    "    def _get_boolean_columns(self) -> list[str]:\n",
    "        \"\"\"Get boolean columns from the DataFrame.\"\"\"\n",
    "        return self.data.select(n_cs.boolean()).columns\n",
    "\n",
    "    @staticmethod\n",
    "    def _select_valid_columns(\n",
    "        actual_cols: list[str], selected_cols: list[str]\n",
    "    ) -> list[str]:\n",
    "        return list(set(actual_cols) & set(selected_cols))\n",
    "\n",
    "    def _calculate_outliers_iqr(self, series: nw.Series) -> tuple[nw.Series, nw.Series]:\n",
    "        \"\"\"Calculate outliers using the Interquartile Range (IQR) method.\n",
    "\n",
    "        The IQR method identifies outliers as data points that fall below Q1 - 1.5*IQR\n",
    "        or above Q3 + 1.5*IQR, where Q1 is the 25th percentile, Q3 is the 75th percentile,\n",
    "        and IQR = Q3 - Q1.\n",
    "\n",
    "        Parameters\n",
    "        ----------\n",
    "        series : nw.Series\n",
    "            The numeric series to analyze for outliers.\n",
    "\n",
    "        Returns\n",
    "        -------\n",
    "        tuple[nw.Series, nw.Series]\n",
    "            A tuple containing:\n",
    "            - normal_points: Series with values within the normal range\n",
    "            - outliers: Series with values identified as outliers\n",
    "\n",
    "        Notes\n",
    "        -----\n",
    "        This method uses the \"nearest\" interpolation method for quantile calculations\n",
    "        to ensure consistent results across different dataframe backends.\n",
    "        \"\"\"\n",
    "        Q1: float = series.quantile(0.25, interpolation=\"nearest\")\n",
    "        Q3: float = series.quantile(0.75, interpolation=\"nearest\")\n",
    "        IQR: float = Q3 - Q1\n",
    "        lower_bound: float = Q1 - 1.5 * IQR\n",
    "        upper_bound: float = Q3 + 1.5 * IQR\n",
    "        normal_points: nw.Series = series.filter(\n",
    "            (series >= lower_bound) & (series <= upper_bound)\n",
    "        )\n",
    "        outliers: nw.Series = series.filter(\n",
    "            (series < lower_bound) | (series > upper_bound)\n",
    "        )\n",
    "\n",
    "        return normal_points, outliers\n",
    "\n",
    "    def _calculate_outliers_zscore(\n",
    "        self, series: nw.Series, threshold: float = 3.0\n",
    "    ) -> tuple[nw.Series, nw.Series]:\n",
    "        \"\"\"Calculate outliers using the Z-score method.\n",
    "\n",
    "        The Z-score method identifies outliers as data points whose absolute Z-score\n",
    "        exceeds the specified threshold. Z-score is calculated as (x - mean) / std.\n",
    "\n",
    "        Parameters\n",
    "        ----------\n",
    "        series : nw.Series\n",
    "            The numeric series to analyze for outliers.\n",
    "        threshold : float, default 3.0\n",
    "            The Z-score threshold above which points are considered outliers.\n",
    "            Common values are 2.0 (95% confidence) or 3.0 (99.7% confidence).\n",
    "\n",
    "        Returns\n",
    "        -------\n",
    "        tuple[nw.Series, nw.Series]\n",
    "            A tuple containing:\n",
    "            - normal_points: Series with Z-scores within the threshold\n",
    "            - outliers: Series with Z-scores exceeding the threshold\n",
    "\n",
    "        Notes\n",
    "        -----\n",
    "        This method assumes the data follows a normal distribution. For non-normal\n",
    "        distributions, the IQR method may be more appropriate.\n",
    "        \"\"\"\n",
    "        mean: float = series.mean()\n",
    "        std: float = series.std()\n",
    "        z_scores: nw.Series = (series - mean) / std\n",
    "        normal_points: nw.Series = series.filter(z_scores.abs() <= threshold)\n",
    "        outliers: nw.Series = series.filter(z_scores.abs() > threshold)\n",
    "\n",
    "        return normal_points, outliers\n",
    "\n",
    "    def correlation_analysis(\n",
    "        self,\n",
    "        method: Literal[\"pearson\", \"spearman\"] = \"pearson\",\n",
    "        **kwargs: Any,\n",
    "    ) -> IntoFrameT:\n",
    "        \"\"\"Calculate correlation matrix for numeric columns.\"\"\"\n",
    "\n",
    "        if len(self.numeric_columns) < 2:\n",
    "            raise ValueError(\n",
    "                \"🚫 At least two numeric columns are required for correlation analysis.\"\n",
    "            )\n",
    "\n",
    "        X: np.ndarray[Any, Any] = self.data.select(self.numeric_columns).to_numpy()\n",
    "\n",
    "        if method == \"pearson\":\n",
    "            matrix: np.ndarray = np.corrcoef(X, rowvar=False, **kwargs)\n",
    "\n",
    "        else:  # spearman\n",
    "            matrix = spearmanr(X, axis=0, **kwargs).correlation\n",
    "            if np.isscalar(matrix):\n",
    "                # Convert to a matrix\n",
    "                matrix = np.array([[1.0, matrix], [matrix, 1.0]])\n",
    "\n",
    "        result: pl.DataFrame = pl.DataFrame(matrix, schema=self.numeric_columns)\n",
    "        return self._convert_to_native(result)\n",
    "\n",
    "    def numeric_summary(self, columns: list[str] | None = None) -> IntoFrameT:\n",
    "        \"\"\"Get summary statistics for numeric columns.\"\"\"\n",
    "        columns = (\n",
    "            self._select_valid_columns(self.numeric_columns, columns)\n",
    "            if columns\n",
    "            else self.numeric_columns\n",
    "        )\n",
    "\n",
    "        summary_stats: list[Any] = []\n",
    "\n",
    "        for col in columns:\n",
    "            series = self.data[col]\n",
    "\n",
    "            if len(series) == 0:\n",
    "                print(self.EMPTY_DATAFRAME)\n",
    "                continue\n",
    "\n",
    "            # Central tendency: mean, median and mode\n",
    "            mean: float = series.mean().__round__(2)\n",
    "            median: float = series.median().__round__(2)\n",
    "            mode: list[float] = series.mode().to_list()\n",
    "\n",
    "            # Spread: std, variance, range, iqr_value, min, max\n",
    "            std: float = series.std().__round__(2)\n",
    "            variance: float = series.var().__round__(2)\n",
    "            data_range: float = series.max() - series.min()\n",
    "            iqr_value: float = series.quantile(\n",
    "                0.75, interpolation=\"nearest\"\n",
    "            ) - series.quantile(0.25, interpolation=\"nearest\")\n",
    "            min_value: float = series.min()\n",
    "            max_value: float = series.max()\n",
    "\n",
    "            # Distribution shape: skewness and kurtosis\n",
    "            skewness: float = series.skew().__round__(2)\n",
    "            kurtosis: float = series.kurtosis().__round__(2)\n",
    "\n",
    "            # Others: count, missing_values, unique_values\n",
    "            count: int = series.count()\n",
    "            missing_values: int = series.is_null().sum()\n",
    "            missing_pct: float = (missing_values / series.shape[0]).__round__(2)\n",
    "            unique_values: int = series.n_unique()\n",
    "\n",
    "            # Outliers\n",
    "            _, outlier_series_iqr = self._calculate_outliers_iqr(series)\n",
    "            outlier_count_iqr = outlier_series_iqr.count()\n",
    "\n",
    "            _, outlier_series_zscore = self._calculate_outliers_zscore(series)\n",
    "            outlier_count_zscore = outlier_series_zscore.count()\n",
    "\n",
    "            summary_stats.append(\n",
    "                {\n",
    "                    \"column\": col,\n",
    "                    \"mean\": mean,\n",
    "                    \"median\": median,\n",
    "                    \"mode\": mode,\n",
    "                    \"std\": std,\n",
    "                    \"variance\": variance,\n",
    "                    \"range\": data_range,\n",
    "                    \"iqr_value\": iqr_value,\n",
    "                    \"min\": min_value,\n",
    "                    \"max\": max_value,\n",
    "                    \"skewness\": skewness,\n",
    "                    \"kurtosis\": kurtosis,\n",
    "                    \"outlier_series_iqr\": outlier_series_iqr.to_list(),\n",
    "                    \"outlier_count_iqr\": outlier_count_iqr,\n",
    "                    \"outlier_series_zscore\": outlier_series_zscore.to_list(),\n",
    "                    \"outlier_count_zscore\": outlier_count_zscore,\n",
    "                    \"total_count\": count,\n",
    "                    \"missing_values\": missing_values,\n",
    "                    \"missing_pct\": missing_pct,\n",
    "                    \"unique_values\": unique_values,\n",
    "                }\n",
    "            )\n",
    "\n",
    "        # Create summary as Polars DataFrame first\n",
    "        summary_df: pl.DataFrame = pl.from_records(summary_stats)\n",
    "\n",
    "        return self._convert_to_native(summary_df)\n",
    "\n",
    "    def categorical_summary(\n",
    "        self, columns: list[str] | None = None\n",
    "    ) -> dict[str, IntoFrameT]:\n",
    "        \"\"\"Get summary statistics for categorical columns.\"\"\"\n",
    "        columns = (\n",
    "            self._select_valid_columns(self.categorical_columns, columns)\n",
    "            if columns\n",
    "            else self.categorical_columns + self.boolean_columns\n",
    "        )\n",
    "\n",
    "        summary_stats: list[dict[str, Any]] = []\n",
    "\n",
    "        for col in columns:\n",
    "            series = self.data[col]\n",
    "\n",
    "            if len(series) == 0:\n",
    "                continue\n",
    "\n",
    "            # Frequency counts and percentages\n",
    "            value_counts = series.value_counts().to_numpy()\n",
    "\n",
    "            # Basic stats: count, missing_values, missing_pct, unique_values\n",
    "            count: int = series.count()\n",
    "            missing_values: int = series.is_null().sum()\n",
    "            missing_pct: float = (missing_values / series.shape[0] * 100).__round__(2)\n",
    "            unique_values: int = series.n_unique()\n",
    "\n",
    "            # Entropy (measure of uncertainty or randomness)\n",
    "            non_null_series = series.drop_nulls()\n",
    "            if len(non_null_series) > 0:\n",
    "                vc_non_null = non_null_series.value_counts(sort=True, normalize=False)\n",
    "                entropy_value: float = entropy(vc_non_null[\"count\"], base=10).__round__(\n",
    "                    2\n",
    "                )\n",
    "            else:\n",
    "                entropy_value = 0.0\n",
    "\n",
    "            summary_stats.append(\n",
    "                {\n",
    "                    \"column\": col,\n",
    "                    \"total_count\": count,\n",
    "                    \"unique_values\": unique_values,\n",
    "                    \"entropy\": entropy_value,\n",
    "                    \"value_counts\": value_counts,\n",
    "                    \"missing_values\": missing_values,\n",
    "                    \"missing_pct\": missing_pct,\n",
    "                }\n",
    "            )\n",
    "\n",
    "        summary_df: pl.DataFrame = pl.from_records(summary_stats)\n",
    "\n",
    "        return self._convert_to_native(summary_df)\n",
    "\n",
    "    def group_analysis(\n",
    "        self, groupby: str, numeric_cols: list[str] | None = None\n",
    "    ) -> IntoFrameT:\n",
    "        # Ensure the column is a valid cat column\n",
    "        if groupby not in self.categorical_columns:\n",
    "            raise ValueError(f\"🚫 {groupby!r} must be a categorical variable\")\n",
    "        numeric_cols = (\n",
    "            self._select_valid_columns(self.numeric_columns, numeric_cols)\n",
    "            if numeric_cols\n",
    "            else self.numeric_columns\n",
    "        )\n",
    "        if len(numeric_cols) == 0:\n",
    "            raise ValueError(\"🚫 No valid numeric columns found.\")\n",
    "\n",
    "        return (\n",
    "            self.data.select(numeric_cols + [groupby])\n",
    "            .group_by(groupby)\n",
    "            .agg(\n",
    "                n_cs.numeric().count().name.suffix(\"_count\"),\n",
    "                n_cs.numeric().mean().round(2).name.suffix(\"_mean\"),\n",
    "                n_cs.numeric().median().round(2).name.suffix(\"_median\"),\n",
    "                n_cs.numeric().std().round(2).name.suffix(\"_std\"),\n",
    "                n_cs.numeric().min().name.suffix(\"_min\"),\n",
    "                n_cs.numeric().max().name.suffix(\"_max\"),\n",
    "            )\n",
    "            .to_native()\n",
    "        )\n",
    "\n",
    "    def plot_numeric_distribution(\n",
    "        self,\n",
    "        columns: list[str] | None = None,\n",
    "        plot_type: Literal[\"all\", \"histogram\", \"box\", \"violin\"] = \"all\",\n",
    "    ) -> go.Figure:\n",
    "        columns = (\n",
    "            self._select_valid_columns(self.numeric_columns, columns)\n",
    "            if columns\n",
    "            else self.numeric_columns\n",
    "        )\n",
    "        if not columns:\n",
    "            print(self.NO_NUMERIC_COLUMNS)\n",
    "            return go.Figure()\n",
    "\n",
    "        n_cols: int = min(3, len(columns))\n",
    "        n_rows: int = (len(columns) + n_cols - 1) // n_cols\n",
    "\n",
    "        if plot_type == \"all\":\n",
    "            fig = make_subplots(\n",
    "                rows=3,\n",
    "                cols=len(columns),\n",
    "                subplot_titles=[f\"{col} - Histogram\" for col in columns]\n",
    "                + [f\"{col} - Box Plot\" for col in columns]\n",
    "                + [f\"{col} - Violin Plot\" for col in columns],\n",
    "                vertical_spacing=0.1,\n",
    "            )\n",
    "\n",
    "            for i, col in enumerate(columns):\n",
    "                # Histogram\n",
    "                fig.add_trace(\n",
    "                    go.Histogram(\n",
    "                        x=self.data[col], name=f\"{col}_hist\", showlegend=False\n",
    "                    ),\n",
    "                    row=1,\n",
    "                    col=i + 1,\n",
    "                )\n",
    "\n",
    "                # Box plot\n",
    "                fig.add_trace(\n",
    "                    go.Box(y=self.data[col], name=f\"{col}_box\", showlegend=False),\n",
    "                    row=2,\n",
    "                    col=i + 1,\n",
    "                )\n",
    "\n",
    "                # Violin plot\n",
    "                fig.add_trace(\n",
    "                    go.Violin(y=self.data[col], name=f\"{col}_violin\", showlegend=False),\n",
    "                    row=3,\n",
    "                    col=i + 1,\n",
    "                )\n",
    "\n",
    "            fig.update_layout(\n",
    "                height=800,\n",
    "                width=1000,\n",
    "                title_text=\"Numeric Distributions - All Plot Types\",\n",
    "            )\n",
    "\n",
    "        else:\n",
    "            fig = make_subplots(\n",
    "                rows=n_rows, cols=n_cols, subplot_titles=[f\"{col}\" for col in columns]\n",
    "            )\n",
    "\n",
    "            for i, col in enumerate(columns):\n",
    "                row = i // n_cols + 1\n",
    "                col_idx = i % n_cols + 1\n",
    "\n",
    "                if plot_type == \"histogram\":\n",
    "                    fig.add_trace(\n",
    "                        go.Histogram(x=self.data[col], name=col, showlegend=False),\n",
    "                        row=row,\n",
    "                        col=col_idx,\n",
    "                    )\n",
    "                elif plot_type == \"box\":\n",
    "                    fig.add_trace(\n",
    "                        go.Box(y=self.data[col], name=col, showlegend=False),\n",
    "                        row=row,\n",
    "                        col=col_idx,\n",
    "                    )\n",
    "                elif plot_type == \"violin\":\n",
    "                    fig.add_trace(\n",
    "                        go.Violin(y=self.data[col], name=col, showlegend=False),\n",
    "                        row=row,\n",
    "                        col=col_idx,\n",
    "                    )\n",
    "\n",
    "            fig.update_layout(\n",
    "                height=300 * n_rows,\n",
    "                width=400 * n_rows,\n",
    "                title_text=f\"Numeric Distributions - {plot_type.title()}\",\n",
    "            )\n",
    "\n",
    "        return fig\n",
    "\n",
    "    def plot_categorical_distribution(\n",
    "        self,\n",
    "        columns: list[str] | None = None,\n",
    "        plot_type: Literal[\"all\", \"bar\", \"pie\"] = \"all\",\n",
    "    ) -> go.Figure:\n",
    "        columns = (\n",
    "            self._select_valid_columns(self.categorical_columns, columns)\n",
    "            if columns\n",
    "            else self.categorical_columns\n",
    "        )\n",
    "        if not columns:\n",
    "            print(self.NO_CATEGORICAL_COLUMNS)\n",
    "            return go.Figure()\n",
    "\n",
    "        if plot_type == \"all\":\n",
    "            n_rows = len(columns)\n",
    "            # Create proper subplot titles for alternating bar and pie charts\n",
    "            subplot_titles = []\n",
    "            for col in columns:\n",
    "                subplot_titles.extend([f\"{col} - Bar Chart\", f\"{col} - Pie Chart\"])\n",
    "\n",
    "            fig = make_subplots(\n",
    "                rows=n_rows,\n",
    "                cols=2,\n",
    "                specs=[[{\"type\": \"xy\"}, {\"type\": \"domain\"}] for _ in range(n_rows)],\n",
    "                subplot_titles=subplot_titles,\n",
    "            )\n",
    "\n",
    "            for i, col in enumerate(columns):\n",
    "                value_counts = (\n",
    "                    self.data[col]\n",
    "                    .value_counts(sort=True, normalize=True)\n",
    "                    .with_columns((nw.col(\"proportion\") * 100).round(1))\n",
    "                )\n",
    "\n",
    "                # Bar chart\n",
    "                fig.add_trace(\n",
    "                    go.Bar(\n",
    "                        x=value_counts[col].to_numpy(),\n",
    "                        y=value_counts[\"proportion\"].to_numpy(),\n",
    "                        name=f\"{col}_bar\",\n",
    "                        showlegend=False,\n",
    "                    ),\n",
    "                    row=i + 1,\n",
    "                    col=1,\n",
    "                )\n",
    "\n",
    "                # Pie chart\n",
    "                fig.add_trace(\n",
    "                    go.Pie(\n",
    "                        labels=value_counts[col].to_numpy(),\n",
    "                        values=value_counts[\"proportion\"].to_numpy(),\n",
    "                        name=f\"{col}_pie\",\n",
    "                        showlegend=False,\n",
    "                    ),\n",
    "                    row=i + 1,\n",
    "                    col=2,\n",
    "                )\n",
    "\n",
    "            fig.update_layout(\n",
    "                height=400 * len(columns),\n",
    "                width=420 * len(columns),\n",
    "                title_text=\"Categorical Distributions\",\n",
    "            )\n",
    "\n",
    "        else:\n",
    "            n_cols = min(3, len(columns))\n",
    "            n_rows = (len(columns) + n_cols - 1) // n_cols\n",
    "\n",
    "            if plot_type == \"pie\":\n",
    "                specs = [\n",
    "                    [{\"type\": \"domain\"} for _ in range(n_cols)] for _ in range(n_rows)\n",
    "                ]\n",
    "            else:\n",
    "                specs = None\n",
    "\n",
    "            fig = make_subplots(\n",
    "                rows=n_rows,\n",
    "                cols=n_cols,\n",
    "                specs=specs,\n",
    "                subplot_titles=[f\"{col}\" for col in columns],\n",
    "            )\n",
    "\n",
    "            for i, col in enumerate(columns):\n",
    "                row = i // n_cols + 1\n",
    "                col_idx = i % n_cols + 1\n",
    "                value_counts = (\n",
    "                    self.data[col]\n",
    "                    .value_counts(sort=True, normalize=True)\n",
    "                    .with_columns((nw.col(\"proportion\") * 100).round(1))\n",
    "                )\n",
    "\n",
    "                if plot_type == \"bar\":\n",
    "                    fig.add_trace(\n",
    "                        go.Bar(\n",
    "                            x=value_counts[col].to_numpy(),\n",
    "                            y=value_counts[\"proportion\"].to_numpy(),\n",
    "                            name=col,\n",
    "                            showlegend=False,\n",
    "                        ),\n",
    "                        row=row,\n",
    "                        col=col_idx,\n",
    "                    )\n",
    "                elif plot_type == \"pie\":\n",
    "                    fig.add_trace(\n",
    "                        go.Pie(\n",
    "                            labels=value_counts[col].to_numpy(),\n",
    "                            values=value_counts[\"proportion\"].to_numpy(),\n",
    "                            name=col,\n",
    "                            showlegend=False,\n",
    "                        ),\n",
    "                        row=row,\n",
    "                        col=col_idx,\n",
    "                    )\n",
    "\n",
    "            fig.update_layout(\n",
    "                height=300 * n_rows,\n",
    "                width=400 * n_rows,\n",
    "                title_text=f\"Categorical Distributions - {plot_type.title()}\",\n",
    "            )\n",
    "\n",
    "        return fig\n",
    "\n",
    "    def plot_correlation_heatmap(\n",
    "        self, method: Literal[\"pearson\", \"spearman\"] = \"pearson\"\n",
    "    ) -> go.Figure:\n",
    "        corr_matrix: IntoFrameT = self.correlation_analysis(method=method)\n",
    "\n",
    "        if len(corr_matrix) == 0:\n",
    "            print(self.EMPTY_DATAFRAME)\n",
    "            return go.Figure()\n",
    "\n",
    "        fig = go.Figure(\n",
    "            data=go.Heatmap(\n",
    "                z=corr_matrix.to_numpy(),\n",
    "                x=corr_matrix.columns,\n",
    "                y=corr_matrix.columns,\n",
    "                colorscale=\"RdBu\",\n",
    "                zmid=0,\n",
    "                text=np.round(corr_matrix.to_numpy(), 3),\n",
    "                texttemplate=\"%{text}\",\n",
    "                textfont={\"size\": 10},\n",
    "                hovertemplate=\"%{x} vs %{y}<br>Correlation: %{z:.3f}<extra></extra>\",\n",
    "            )\n",
    "        )\n",
    "\n",
    "        fig.update_layout(\n",
    "            height=600,\n",
    "            width=800,\n",
    "            title=f\"{method.title()} Correlation Matrix\",\n",
    "            xaxis_title=\"Variables\",\n",
    "            yaxis_title=\"Variables\",\n",
    "        )\n",
    "\n",
    "        return fig\n",
    "\n",
    "    def plot_outliers(\n",
    "        self, columns: list[str] | None = None, method: Literal[\"iqr\", \"zscore\"] = \"iqr\"\n",
    "    ) -> go.Figure:\n",
    "        columns = (\n",
    "            self._select_valid_columns(self.numeric_columns, columns)\n",
    "            if columns\n",
    "            else self.numeric_columns\n",
    "        )\n",
    "\n",
    "        if not columns:\n",
    "            print(self.NO_CATEGORICAL_COLUMNS)\n",
    "            return go.Figure()\n",
    "\n",
    "        n_cols = min(3, len(columns))\n",
    "        n_rows = (len(columns) + n_cols - 1) // n_cols\n",
    "\n",
    "        fig = make_subplots(\n",
    "            rows=n_rows,\n",
    "            cols=n_cols,\n",
    "            subplot_titles=[f\"{col} - Outliers ({method})\" for col in columns],\n",
    "            vertical_spacing=0.1,\n",
    "            horizontal_spacing=0.05,\n",
    "        )\n",
    "\n",
    "        for i, col in enumerate(columns):\n",
    "            row: int = i // n_cols + 1\n",
    "            col_idx: int = i % n_cols + 1\n",
    "\n",
    "            series = self.data[col].drop_nulls()\n",
    "\n",
    "            if method == \"iqr\":\n",
    "                normal_points, outliers = self._calculate_outliers_iqr(series)\n",
    "            else:  # zscore\n",
    "                normal_points, outliers = self._calculate_outliers_zscore(series)\n",
    "\n",
    "            # Plot normal points\n",
    "            fig.add_trace(\n",
    "                go.Scatter(\n",
    "                    x=np.arange(0, len(normal_points)),\n",
    "                    y=normal_points.to_numpy(),\n",
    "                    mode=\"markers\",\n",
    "                    name=f\"{col}_normal\",\n",
    "                    marker={\n",
    "                        \"color\": \"lightblue\",\n",
    "                        \"size\": 2,\n",
    "                        \"opacity\": 0.7,\n",
    "                        \"line\": {\"width\": 1, \"color\": \"blue\"},\n",
    "                    },\n",
    "                    showlegend=False,\n",
    "                ),\n",
    "                row=row,\n",
    "                col=col_idx,\n",
    "            )\n",
    "\n",
    "            # Plot outliers\n",
    "            if len(outliers) > 0:\n",
    "                fig.add_trace(\n",
    "                    go.Scatter(\n",
    "                        x=np.arange(0, len(outliers)),\n",
    "                        y=outliers.to_numpy(),\n",
    "                        mode=\"markers\",\n",
    "                        name=f\"{col}_outliers\",\n",
    "                        marker={\n",
    "                            \"color\": \"red\",\n",
    "                            \"size\": 4,\n",
    "                            \"symbol\": \"diamond\",\n",
    "                            \"line\": {\"width\": 2, \"color\": \"darkred\"},\n",
    "                        },\n",
    "                        showlegend=False,\n",
    "                    ),\n",
    "                    row=row,\n",
    "                    col=col_idx,\n",
    "                )\n",
    "\n",
    "        fig.update_layout(\n",
    "            height=300 * n_rows,\n",
    "            width=450 * n_rows,\n",
    "            title_text=\"Outliers Detection\",\n",
    "        )\n",
    "        return fig\n",
    "\n",
    "    def plot_group_analysis(\n",
    "        self,\n",
    "        groupby: str,\n",
    "        numeric_col: str,\n",
    "        plot_type: Literal[\"bar\", \"box\", \"scatter\", \"violin\"] = \"bar\",\n",
    "    ) -> go.Figure:\n",
    "        data = self._convert_to_native(self.data)\n",
    "        if groupby not in self.categorical_columns:\n",
    "            raise ValueError(f\"🚫 {groupby!r} is not a categorical column\")\n",
    "\n",
    "        if numeric_col not in self.numeric_columns:\n",
    "            raise ValueError(f\"🚫 {numeric_col!r} is not a numeric column\")\n",
    "\n",
    "        if plot_type == \"box\":\n",
    "            fig = px.box(\n",
    "                data,\n",
    "                x=groupby,\n",
    "                y=numeric_col,\n",
    "                title=f\"{numeric_col} by {groupby} - Box Plot\",\n",
    "            )\n",
    "        elif plot_type == \"violin\":\n",
    "            fig = px.violin(\n",
    "                data,\n",
    "                x=groupby,\n",
    "                y=numeric_col,\n",
    "                title=f\"{numeric_col} by {groupby} - Violin Plot\",\n",
    "            )\n",
    "        elif plot_type == \"bar\":\n",
    "            grouped_data = self.data.group_by(groupby).agg(n_cs.numeric().mean())\n",
    "            grouped_data = self._convert_to_native(grouped_data)\n",
    "            fig = px.bar(\n",
    "                grouped_data,\n",
    "                x=groupby,\n",
    "                y=numeric_col,\n",
    "                title=f\"Average {numeric_col} by {groupby}\",\n",
    "            )\n",
    "        elif plot_type == \"scatter\":\n",
    "            # For scatter plot, we'll use the index as x-axis\n",
    "            fig = px.scatter(\n",
    "                data,\n",
    "                x=groupby,\n",
    "                y=numeric_col,\n",
    "                title=f\"{numeric_col} by {groupby} - Scatter Plot\",\n",
    "            )\n",
    "        else:\n",
    "            raise ValueError(\n",
    "                '🚫 plot_type must be \"box\", \"violin\", \"bar\", or \"scatter\"'\n",
    "            )\n",
    "\n",
    "        return fig\n",
    "\n",
    "    def generate_full_report(self) -> dict[str, Any]:\n",
    "        return {\n",
    "            \"dataset_info\": {\n",
    "                \"shape\": self.data.shape,\n",
    "                \"numeric_columns\": len(self.numeric_columns),\n",
    "                \"categorical_columns\": len(self.categorical_columns),\n",
    "                \"boolean_columns\": len(self.boolean_columns),\n",
    "                \"total_columns\": self.data.shape[1],\n",
    "                \"total_rows\": self.data.shape[0],\n",
    "                \"missing_values_total\": self.data.null_count().to_numpy().sum().item(),\n",
    "                \"memory_usage\": f\"{round(self.data.estimated_size(unit='mb'), 2)} MB\",\n",
    "            },\n",
    "            \"numeric_summary\": self.numeric_summary(),\n",
    "            \"categorical_summary\": self.categorical_summary(),\n",
    "            \"correlation_matrix\": self.correlation_analysis(),\n",
    "        }\n",
    "\n",
    "    def display_all_plots(\n",
    "        self,\n",
    "        outlier_method: Literal[\"iqr\", \"zscore\"] = \"iqr\",\n",
    "        numeric_cols: list[str] | None = None,\n",
    "    ) -> None:\n",
    "        numeric_cols = (\n",
    "            self._select_valid_columns(self.numeric_columns, numeric_cols)\n",
    "            if numeric_cols\n",
    "            else self.numeric_columns\n",
    "        )\n",
    "\n",
    "        # Create visualizations\n",
    "        fig1 = self.plot_numeric_distribution()\n",
    "        fig1.show()\n",
    "\n",
    "        fig2 = self.plot_categorical_distribution()\n",
    "        fig2.show()\n",
    "\n",
    "        fig3 = self.plot_correlation_heatmap()\n",
    "        fig3.show()\n",
    "\n",
    "        fig4 = self.plot_outliers(method=outlier_method)\n",
    "        fig4.show()\n",
    "\n",
    "    def print_summary(self) -> None:\n",
    "        \"\"\"Print a quick summary of the dataset.\"\"\"\n",
    "        print(\"=\" * 60)\n",
    "        print(\"🚀 EXPLORATORY DATA ANALYSIS SUMMARY\")\n",
    "        print(\"=\" * 60)\n",
    "        print(f\"* Dataset Shape: {self.data.shape}\")\n",
    "        print(f\"* Total Rows: {self.data.shape[0]}\")\n",
    "        print(f\"* Total Columns: {self.data.shape[1]}\")\n",
    "        print(f\"* Numeric Columns: {len(self.numeric_columns)}\")\n",
    "        print(f\"* Categorical Columns: {len(self.categorical_columns)}\")\n",
    "        print(f\"* Boolean Columns: {len(self.boolean_columns)}\")\n",
    "        print(\n",
    "            f\"* Total Missing Values: {self.data.null_count().to_numpy().sum().item()}\"\n",
    "        )\n",
    "        print(f\"* Memory Usage: {round(self.data.estimated_size(unit='mb'), 2)}  MB\")\n",
    "\n",
    "        if self.target_column:\n",
    "            print(f\"* Target Column: {self.target_column}\")\n",
    "\n",
    "        print(\"\\n* Numeric Columns:\")\n",
    "        for col in self.numeric_columns:\n",
    "            print(f\"  - {col}\")\n",
    "\n",
    "        print(\"\\n* Categorical Columns:\")\n",
    "        for col in self.categorical_columns:\n",
    "            print(f\"  - {col}\")\n",
    "\n",
    "        print(\"=\" * 60)\n",
    "        print()"
   ]
  },
  {
   "cell_type": "code",
   "execution_count": 22,
   "id": "814dcf53",
   "metadata": {},
   "outputs": [],
   "source": [
    "actual_num_cols: list[str] = [\"name\", \"age\", \"salary\", \"score\", \"target\"]\n",
    "num_col: list[str] = [\"age\", \"salary\", \"score\", \"not_included\"]\n",
    "\n",
    "valid_cols = list(set(actual_num_cols) & set(num_col))\n",
    "valid_cols\n",
    "\n",
    "\n",
    "def _select_valid_columns(\n",
    "    actual_cols: list[str], selected_cols: list[str]\n",
    ") -> list[str]:\n",
    "    return list(set(actual_cols) & set(selected_cols))"
   ]
  },
  {
   "cell_type": "code",
   "execution_count": 153,
   "id": "ab10074e",
   "metadata": {},
   "outputs": [
    {
     "data": {
      "application/vnd.plotly.v1+json": {
       "config": {
        "plotlyServerURL": "https://plot.ly"
       },
       "data": [
        {
         "name": "age_hist",
         "showlegend": false,
         "type": "histogram",
         "x": {
          "bdata": "GR4jHBkm",
          "dtype": "i1"
         },
         "xaxis": "x",
         "yaxis": "y"
        },
        {
         "name": "age_box",
         "showlegend": false,
         "type": "box",
         "xaxis": "x3",
         "y": {
          "bdata": "GR4jHBkm",
          "dtype": "i1"
         },
         "yaxis": "y3"
        },
        {
         "name": "age_violin",
         "showlegend": false,
         "type": "violin",
         "xaxis": "x5",
         "y": {
          "bdata": "GR4jHBkm",
          "dtype": "i1"
         },
         "yaxis": "y5"
        },
        {
         "name": "salary_hist",
         "showlegend": false,
         "type": "histogram",
         "x": {
          "bdata": "CEwBANjWAADo/QAA2NYAAIC7AABAGQEA",
          "dtype": "i4"
         },
         "xaxis": "x2",
         "yaxis": "y2"
        },
        {
         "name": "salary_box",
         "showlegend": false,
         "type": "box",
         "xaxis": "x4",
         "y": {
          "bdata": "CEwBANjWAADo/QAA2NYAAIC7AABAGQEA",
          "dtype": "i4"
         },
         "yaxis": "y4"
        },
        {
         "name": "salary_violin",
         "showlegend": false,
         "type": "violin",
         "xaxis": "x6",
         "y": {
          "bdata": "CEwBANjWAADo/QAA2NYAAIC7AABAGQEA",
          "dtype": "i4"
         },
         "yaxis": "y6"
        }
       ],
       "layout": {
        "annotations": [
         {
          "font": {
           "size": 16
          },
          "showarrow": false,
          "text": "age - Histogram",
          "x": 0.225,
          "xanchor": "center",
          "xref": "paper",
          "y": 1,
          "yanchor": "bottom",
          "yref": "paper"
         },
         {
          "font": {
           "size": 16
          },
          "showarrow": false,
          "text": "salary - Histogram",
          "x": 0.775,
          "xanchor": "center",
          "xref": "paper",
          "y": 1,
          "yanchor": "bottom",
          "yref": "paper"
         },
         {
          "font": {
           "size": 16
          },
          "showarrow": false,
          "text": "age - Box Plot",
          "x": 0.225,
          "xanchor": "center",
          "xref": "paper",
          "y": 0.6333333333333333,
          "yanchor": "bottom",
          "yref": "paper"
         },
         {
          "font": {
           "size": 16
          },
          "showarrow": false,
          "text": "salary - Box Plot",
          "x": 0.775,
          "xanchor": "center",
          "xref": "paper",
          "y": 0.6333333333333333,
          "yanchor": "bottom",
          "yref": "paper"
         },
         {
          "font": {
           "size": 16
          },
          "showarrow": false,
          "text": "age - Violin Plot",
          "x": 0.225,
          "xanchor": "center",
          "xref": "paper",
          "y": 0.26666666666666666,
          "yanchor": "bottom",
          "yref": "paper"
         },
         {
          "font": {
           "size": 16
          },
          "showarrow": false,
          "text": "salary - Violin Plot",
          "x": 0.775,
          "xanchor": "center",
          "xref": "paper",
          "y": 0.26666666666666666,
          "yanchor": "bottom",
          "yref": "paper"
         }
        ],
        "height": 800,
        "template": {
         "data": {
          "bar": [
           {
            "error_x": {
             "color": "#2a3f5f"
            },
            "error_y": {
             "color": "#2a3f5f"
            },
            "marker": {
             "line": {
              "color": "#E5ECF6",
              "width": 0.5
             },
             "pattern": {
              "fillmode": "overlay",
              "size": 10,
              "solidity": 0.2
             }
            },
            "type": "bar"
           }
          ],
          "barpolar": [
           {
            "marker": {
             "line": {
              "color": "#E5ECF6",
              "width": 0.5
             },
             "pattern": {
              "fillmode": "overlay",
              "size": 10,
              "solidity": 0.2
             }
            },
            "type": "barpolar"
           }
          ],
          "carpet": [
           {
            "aaxis": {
             "endlinecolor": "#2a3f5f",
             "gridcolor": "white",
             "linecolor": "white",
             "minorgridcolor": "white",
             "startlinecolor": "#2a3f5f"
            },
            "baxis": {
             "endlinecolor": "#2a3f5f",
             "gridcolor": "white",
             "linecolor": "white",
             "minorgridcolor": "white",
             "startlinecolor": "#2a3f5f"
            },
            "type": "carpet"
           }
          ],
          "choropleth": [
           {
            "colorbar": {
             "outlinewidth": 0,
             "ticks": ""
            },
            "type": "choropleth"
           }
          ],
          "contour": [
           {
            "colorbar": {
             "outlinewidth": 0,
             "ticks": ""
            },
            "colorscale": [
             [
              0,
              "#0d0887"
             ],
             [
              0.1111111111111111,
              "#46039f"
             ],
             [
              0.2222222222222222,
              "#7201a8"
             ],
             [
              0.3333333333333333,
              "#9c179e"
             ],
             [
              0.4444444444444444,
              "#bd3786"
             ],
             [
              0.5555555555555556,
              "#d8576b"
             ],
             [
              0.6666666666666666,
              "#ed7953"
             ],
             [
              0.7777777777777778,
              "#fb9f3a"
             ],
             [
              0.8888888888888888,
              "#fdca26"
             ],
             [
              1,
              "#f0f921"
             ]
            ],
            "type": "contour"
           }
          ],
          "contourcarpet": [
           {
            "colorbar": {
             "outlinewidth": 0,
             "ticks": ""
            },
            "type": "contourcarpet"
           }
          ],
          "heatmap": [
           {
            "colorbar": {
             "outlinewidth": 0,
             "ticks": ""
            },
            "colorscale": [
             [
              0,
              "#0d0887"
             ],
             [
              0.1111111111111111,
              "#46039f"
             ],
             [
              0.2222222222222222,
              "#7201a8"
             ],
             [
              0.3333333333333333,
              "#9c179e"
             ],
             [
              0.4444444444444444,
              "#bd3786"
             ],
             [
              0.5555555555555556,
              "#d8576b"
             ],
             [
              0.6666666666666666,
              "#ed7953"
             ],
             [
              0.7777777777777778,
              "#fb9f3a"
             ],
             [
              0.8888888888888888,
              "#fdca26"
             ],
             [
              1,
              "#f0f921"
             ]
            ],
            "type": "heatmap"
           }
          ],
          "histogram": [
           {
            "marker": {
             "pattern": {
              "fillmode": "overlay",
              "size": 10,
              "solidity": 0.2
             }
            },
            "type": "histogram"
           }
          ],
          "histogram2d": [
           {
            "colorbar": {
             "outlinewidth": 0,
             "ticks": ""
            },
            "colorscale": [
             [
              0,
              "#0d0887"
             ],
             [
              0.1111111111111111,
              "#46039f"
             ],
             [
              0.2222222222222222,
              "#7201a8"
             ],
             [
              0.3333333333333333,
              "#9c179e"
             ],
             [
              0.4444444444444444,
              "#bd3786"
             ],
             [
              0.5555555555555556,
              "#d8576b"
             ],
             [
              0.6666666666666666,
              "#ed7953"
             ],
             [
              0.7777777777777778,
              "#fb9f3a"
             ],
             [
              0.8888888888888888,
              "#fdca26"
             ],
             [
              1,
              "#f0f921"
             ]
            ],
            "type": "histogram2d"
           }
          ],
          "histogram2dcontour": [
           {
            "colorbar": {
             "outlinewidth": 0,
             "ticks": ""
            },
            "colorscale": [
             [
              0,
              "#0d0887"
             ],
             [
              0.1111111111111111,
              "#46039f"
             ],
             [
              0.2222222222222222,
              "#7201a8"
             ],
             [
              0.3333333333333333,
              "#9c179e"
             ],
             [
              0.4444444444444444,
              "#bd3786"
             ],
             [
              0.5555555555555556,
              "#d8576b"
             ],
             [
              0.6666666666666666,
              "#ed7953"
             ],
             [
              0.7777777777777778,
              "#fb9f3a"
             ],
             [
              0.8888888888888888,
              "#fdca26"
             ],
             [
              1,
              "#f0f921"
             ]
            ],
            "type": "histogram2dcontour"
           }
          ],
          "mesh3d": [
           {
            "colorbar": {
             "outlinewidth": 0,
             "ticks": ""
            },
            "type": "mesh3d"
           }
          ],
          "parcoords": [
           {
            "line": {
             "colorbar": {
              "outlinewidth": 0,
              "ticks": ""
             }
            },
            "type": "parcoords"
           }
          ],
          "pie": [
           {
            "automargin": true,
            "type": "pie"
           }
          ],
          "scatter": [
           {
            "fillpattern": {
             "fillmode": "overlay",
             "size": 10,
             "solidity": 0.2
            },
            "type": "scatter"
           }
          ],
          "scatter3d": [
           {
            "line": {
             "colorbar": {
              "outlinewidth": 0,
              "ticks": ""
             }
            },
            "marker": {
             "colorbar": {
              "outlinewidth": 0,
              "ticks": ""
             }
            },
            "type": "scatter3d"
           }
          ],
          "scattercarpet": [
           {
            "marker": {
             "colorbar": {
              "outlinewidth": 0,
              "ticks": ""
             }
            },
            "type": "scattercarpet"
           }
          ],
          "scattergeo": [
           {
            "marker": {
             "colorbar": {
              "outlinewidth": 0,
              "ticks": ""
             }
            },
            "type": "scattergeo"
           }
          ],
          "scattergl": [
           {
            "marker": {
             "colorbar": {
              "outlinewidth": 0,
              "ticks": ""
             }
            },
            "type": "scattergl"
           }
          ],
          "scattermap": [
           {
            "marker": {
             "colorbar": {
              "outlinewidth": 0,
              "ticks": ""
             }
            },
            "type": "scattermap"
           }
          ],
          "scattermapbox": [
           {
            "marker": {
             "colorbar": {
              "outlinewidth": 0,
              "ticks": ""
             }
            },
            "type": "scattermapbox"
           }
          ],
          "scatterpolar": [
           {
            "marker": {
             "colorbar": {
              "outlinewidth": 0,
              "ticks": ""
             }
            },
            "type": "scatterpolar"
           }
          ],
          "scatterpolargl": [
           {
            "marker": {
             "colorbar": {
              "outlinewidth": 0,
              "ticks": ""
             }
            },
            "type": "scatterpolargl"
           }
          ],
          "scatterternary": [
           {
            "marker": {
             "colorbar": {
              "outlinewidth": 0,
              "ticks": ""
             }
            },
            "type": "scatterternary"
           }
          ],
          "surface": [
           {
            "colorbar": {
             "outlinewidth": 0,
             "ticks": ""
            },
            "colorscale": [
             [
              0,
              "#0d0887"
             ],
             [
              0.1111111111111111,
              "#46039f"
             ],
             [
              0.2222222222222222,
              "#7201a8"
             ],
             [
              0.3333333333333333,
              "#9c179e"
             ],
             [
              0.4444444444444444,
              "#bd3786"
             ],
             [
              0.5555555555555556,
              "#d8576b"
             ],
             [
              0.6666666666666666,
              "#ed7953"
             ],
             [
              0.7777777777777778,
              "#fb9f3a"
             ],
             [
              0.8888888888888888,
              "#fdca26"
             ],
             [
              1,
              "#f0f921"
             ]
            ],
            "type": "surface"
           }
          ],
          "table": [
           {
            "cells": {
             "fill": {
              "color": "#EBF0F8"
             },
             "line": {
              "color": "white"
             }
            },
            "header": {
             "fill": {
              "color": "#C8D4E3"
             },
             "line": {
              "color": "white"
             }
            },
            "type": "table"
           }
          ]
         },
         "layout": {
          "annotationdefaults": {
           "arrowcolor": "#2a3f5f",
           "arrowhead": 0,
           "arrowwidth": 1
          },
          "autotypenumbers": "strict",
          "coloraxis": {
           "colorbar": {
            "outlinewidth": 0,
            "ticks": ""
           }
          },
          "colorscale": {
           "diverging": [
            [
             0,
             "#8e0152"
            ],
            [
             0.1,
             "#c51b7d"
            ],
            [
             0.2,
             "#de77ae"
            ],
            [
             0.3,
             "#f1b6da"
            ],
            [
             0.4,
             "#fde0ef"
            ],
            [
             0.5,
             "#f7f7f7"
            ],
            [
             0.6,
             "#e6f5d0"
            ],
            [
             0.7,
             "#b8e186"
            ],
            [
             0.8,
             "#7fbc41"
            ],
            [
             0.9,
             "#4d9221"
            ],
            [
             1,
             "#276419"
            ]
           ],
           "sequential": [
            [
             0,
             "#0d0887"
            ],
            [
             0.1111111111111111,
             "#46039f"
            ],
            [
             0.2222222222222222,
             "#7201a8"
            ],
            [
             0.3333333333333333,
             "#9c179e"
            ],
            [
             0.4444444444444444,
             "#bd3786"
            ],
            [
             0.5555555555555556,
             "#d8576b"
            ],
            [
             0.6666666666666666,
             "#ed7953"
            ],
            [
             0.7777777777777778,
             "#fb9f3a"
            ],
            [
             0.8888888888888888,
             "#fdca26"
            ],
            [
             1,
             "#f0f921"
            ]
           ],
           "sequentialminus": [
            [
             0,
             "#0d0887"
            ],
            [
             0.1111111111111111,
             "#46039f"
            ],
            [
             0.2222222222222222,
             "#7201a8"
            ],
            [
             0.3333333333333333,
             "#9c179e"
            ],
            [
             0.4444444444444444,
             "#bd3786"
            ],
            [
             0.5555555555555556,
             "#d8576b"
            ],
            [
             0.6666666666666666,
             "#ed7953"
            ],
            [
             0.7777777777777778,
             "#fb9f3a"
            ],
            [
             0.8888888888888888,
             "#fdca26"
            ],
            [
             1,
             "#f0f921"
            ]
           ]
          },
          "colorway": [
           "#636efa",
           "#EF553B",
           "#00cc96",
           "#ab63fa",
           "#FFA15A",
           "#19d3f3",
           "#FF6692",
           "#B6E880",
           "#FF97FF",
           "#FECB52"
          ],
          "font": {
           "color": "#2a3f5f"
          },
          "geo": {
           "bgcolor": "white",
           "lakecolor": "white",
           "landcolor": "#E5ECF6",
           "showlakes": true,
           "showland": true,
           "subunitcolor": "white"
          },
          "hoverlabel": {
           "align": "left"
          },
          "hovermode": "closest",
          "mapbox": {
           "style": "light"
          },
          "paper_bgcolor": "white",
          "plot_bgcolor": "#E5ECF6",
          "polar": {
           "angularaxis": {
            "gridcolor": "white",
            "linecolor": "white",
            "ticks": ""
           },
           "bgcolor": "#E5ECF6",
           "radialaxis": {
            "gridcolor": "white",
            "linecolor": "white",
            "ticks": ""
           }
          },
          "scene": {
           "xaxis": {
            "backgroundcolor": "#E5ECF6",
            "gridcolor": "white",
            "gridwidth": 2,
            "linecolor": "white",
            "showbackground": true,
            "ticks": "",
            "zerolinecolor": "white"
           },
           "yaxis": {
            "backgroundcolor": "#E5ECF6",
            "gridcolor": "white",
            "gridwidth": 2,
            "linecolor": "white",
            "showbackground": true,
            "ticks": "",
            "zerolinecolor": "white"
           },
           "zaxis": {
            "backgroundcolor": "#E5ECF6",
            "gridcolor": "white",
            "gridwidth": 2,
            "linecolor": "white",
            "showbackground": true,
            "ticks": "",
            "zerolinecolor": "white"
           }
          },
          "shapedefaults": {
           "line": {
            "color": "#2a3f5f"
           }
          },
          "ternary": {
           "aaxis": {
            "gridcolor": "white",
            "linecolor": "white",
            "ticks": ""
           },
           "baxis": {
            "gridcolor": "white",
            "linecolor": "white",
            "ticks": ""
           },
           "bgcolor": "#E5ECF6",
           "caxis": {
            "gridcolor": "white",
            "linecolor": "white",
            "ticks": ""
           }
          },
          "title": {
           "x": 0.05
          },
          "xaxis": {
           "automargin": true,
           "gridcolor": "white",
           "linecolor": "white",
           "ticks": "",
           "title": {
            "standoff": 15
           },
           "zerolinecolor": "white",
           "zerolinewidth": 2
          },
          "yaxis": {
           "automargin": true,
           "gridcolor": "white",
           "linecolor": "white",
           "ticks": "",
           "title": {
            "standoff": 15
           },
           "zerolinecolor": "white",
           "zerolinewidth": 2
          }
         }
        },
        "title": {
         "text": "Numeric Distributions - All Plot Types"
        },
        "width": 1000,
        "xaxis": {
         "anchor": "y",
         "domain": [
          0,
          0.45
         ]
        },
        "xaxis2": {
         "anchor": "y2",
         "domain": [
          0.55,
          1
         ]
        },
        "xaxis3": {
         "anchor": "y3",
         "domain": [
          0,
          0.45
         ]
        },
        "xaxis4": {
         "anchor": "y4",
         "domain": [
          0.55,
          1
         ]
        },
        "xaxis5": {
         "anchor": "y5",
         "domain": [
          0,
          0.45
         ]
        },
        "xaxis6": {
         "anchor": "y6",
         "domain": [
          0.55,
          1
         ]
        },
        "yaxis": {
         "anchor": "x",
         "domain": [
          0.7333333333333334,
          1
         ]
        },
        "yaxis2": {
         "anchor": "x2",
         "domain": [
          0.7333333333333334,
          1
         ]
        },
        "yaxis3": {
         "anchor": "x3",
         "domain": [
          0.3666666666666667,
          0.6333333333333333
         ]
        },
        "yaxis4": {
         "anchor": "x4",
         "domain": [
          0.3666666666666667,
          0.6333333333333333
         ]
        },
        "yaxis5": {
         "anchor": "x5",
         "domain": [
          0,
          0.26666666666666666
         ]
        },
        "yaxis6": {
         "anchor": "x6",
         "domain": [
          0,
          0.26666666666666666
         ]
        }
       }
      }
     },
     "metadata": {},
     "output_type": "display_data"
    },
    {
     "data": {
      "application/vnd.plotly.v1+json": {
       "config": {
        "plotlyServerURL": "https://plot.ly"
       },
       "data": [
        {
         "name": "name_bar",
         "showlegend": false,
         "type": "bar",
         "x": [
          "Alice",
          "Bob",
          "Charlie",
          "Anya",
          "Eve",
          "Olivia"
         ],
         "xaxis": "x",
         "y": {
          "bdata": "MzMzMzOzMEAzMzMzM7MwQDMzMzMzszBAMzMzMzOzMEAzMzMzM7MwQDMzMzMzszBA",
          "dtype": "f8"
         },
         "yaxis": "y"
        },
        {
         "domain": {
          "x": [
           0.55,
           1
          ],
          "y": [
           0.625,
           1
          ]
         },
         "labels": [
          "Alice",
          "Bob",
          "Charlie",
          "Anya",
          "Eve",
          "Olivia"
         ],
         "name": "name_pie",
         "showlegend": false,
         "type": "pie",
         "values": {
          "bdata": "MzMzMzOzMEAzMzMzM7MwQDMzMzMzszBAMzMzMzOzMEAzMzMzM7MwQDMzMzMzszBA",
          "dtype": "f8"
         }
        },
        {
         "name": "role_bar",
         "showlegend": false,
         "type": "bar",
         "x": [
          "Engineer",
          "Manager",
          "HR"
         ],
         "xaxis": "x2",
         "y": {
          "bdata": "zczMzMysUEAzMzMzM7MwQDMzMzMzszBA",
          "dtype": "f8"
         },
         "yaxis": "y2"
        },
        {
         "domain": {
          "x": [
           0.55,
           1
          ],
          "y": [
           0,
           0.375
          ]
         },
         "labels": [
          "Engineer",
          "Manager",
          "HR"
         ],
         "name": "role_pie",
         "showlegend": false,
         "type": "pie",
         "values": {
          "bdata": "zczMzMysUEAzMzMzM7MwQDMzMzMzszBA",
          "dtype": "f8"
         }
        }
       ],
       "layout": {
        "annotations": [
         {
          "font": {
           "size": 16
          },
          "showarrow": false,
          "text": "name - Bar Chart",
          "x": 0.225,
          "xanchor": "center",
          "xref": "paper",
          "y": 1,
          "yanchor": "bottom",
          "yref": "paper"
         },
         {
          "font": {
           "size": 16
          },
          "showarrow": false,
          "text": "name - Pie Chart",
          "x": 0.775,
          "xanchor": "center",
          "xref": "paper",
          "y": 1,
          "yanchor": "bottom",
          "yref": "paper"
         },
         {
          "font": {
           "size": 16
          },
          "showarrow": false,
          "text": "role - Bar Chart",
          "x": 0.225,
          "xanchor": "center",
          "xref": "paper",
          "y": 0.375,
          "yanchor": "bottom",
          "yref": "paper"
         },
         {
          "font": {
           "size": 16
          },
          "showarrow": false,
          "text": "role - Pie Chart",
          "x": 0.775,
          "xanchor": "center",
          "xref": "paper",
          "y": 0.375,
          "yanchor": "bottom",
          "yref": "paper"
         }
        ],
        "height": 800,
        "template": {
         "data": {
          "bar": [
           {
            "error_x": {
             "color": "#2a3f5f"
            },
            "error_y": {
             "color": "#2a3f5f"
            },
            "marker": {
             "line": {
              "color": "#E5ECF6",
              "width": 0.5
             },
             "pattern": {
              "fillmode": "overlay",
              "size": 10,
              "solidity": 0.2
             }
            },
            "type": "bar"
           }
          ],
          "barpolar": [
           {
            "marker": {
             "line": {
              "color": "#E5ECF6",
              "width": 0.5
             },
             "pattern": {
              "fillmode": "overlay",
              "size": 10,
              "solidity": 0.2
             }
            },
            "type": "barpolar"
           }
          ],
          "carpet": [
           {
            "aaxis": {
             "endlinecolor": "#2a3f5f",
             "gridcolor": "white",
             "linecolor": "white",
             "minorgridcolor": "white",
             "startlinecolor": "#2a3f5f"
            },
            "baxis": {
             "endlinecolor": "#2a3f5f",
             "gridcolor": "white",
             "linecolor": "white",
             "minorgridcolor": "white",
             "startlinecolor": "#2a3f5f"
            },
            "type": "carpet"
           }
          ],
          "choropleth": [
           {
            "colorbar": {
             "outlinewidth": 0,
             "ticks": ""
            },
            "type": "choropleth"
           }
          ],
          "contour": [
           {
            "colorbar": {
             "outlinewidth": 0,
             "ticks": ""
            },
            "colorscale": [
             [
              0,
              "#0d0887"
             ],
             [
              0.1111111111111111,
              "#46039f"
             ],
             [
              0.2222222222222222,
              "#7201a8"
             ],
             [
              0.3333333333333333,
              "#9c179e"
             ],
             [
              0.4444444444444444,
              "#bd3786"
             ],
             [
              0.5555555555555556,
              "#d8576b"
             ],
             [
              0.6666666666666666,
              "#ed7953"
             ],
             [
              0.7777777777777778,
              "#fb9f3a"
             ],
             [
              0.8888888888888888,
              "#fdca26"
             ],
             [
              1,
              "#f0f921"
             ]
            ],
            "type": "contour"
           }
          ],
          "contourcarpet": [
           {
            "colorbar": {
             "outlinewidth": 0,
             "ticks": ""
            },
            "type": "contourcarpet"
           }
          ],
          "heatmap": [
           {
            "colorbar": {
             "outlinewidth": 0,
             "ticks": ""
            },
            "colorscale": [
             [
              0,
              "#0d0887"
             ],
             [
              0.1111111111111111,
              "#46039f"
             ],
             [
              0.2222222222222222,
              "#7201a8"
             ],
             [
              0.3333333333333333,
              "#9c179e"
             ],
             [
              0.4444444444444444,
              "#bd3786"
             ],
             [
              0.5555555555555556,
              "#d8576b"
             ],
             [
              0.6666666666666666,
              "#ed7953"
             ],
             [
              0.7777777777777778,
              "#fb9f3a"
             ],
             [
              0.8888888888888888,
              "#fdca26"
             ],
             [
              1,
              "#f0f921"
             ]
            ],
            "type": "heatmap"
           }
          ],
          "histogram": [
           {
            "marker": {
             "pattern": {
              "fillmode": "overlay",
              "size": 10,
              "solidity": 0.2
             }
            },
            "type": "histogram"
           }
          ],
          "histogram2d": [
           {
            "colorbar": {
             "outlinewidth": 0,
             "ticks": ""
            },
            "colorscale": [
             [
              0,
              "#0d0887"
             ],
             [
              0.1111111111111111,
              "#46039f"
             ],
             [
              0.2222222222222222,
              "#7201a8"
             ],
             [
              0.3333333333333333,
              "#9c179e"
             ],
             [
              0.4444444444444444,
              "#bd3786"
             ],
             [
              0.5555555555555556,
              "#d8576b"
             ],
             [
              0.6666666666666666,
              "#ed7953"
             ],
             [
              0.7777777777777778,
              "#fb9f3a"
             ],
             [
              0.8888888888888888,
              "#fdca26"
             ],
             [
              1,
              "#f0f921"
             ]
            ],
            "type": "histogram2d"
           }
          ],
          "histogram2dcontour": [
           {
            "colorbar": {
             "outlinewidth": 0,
             "ticks": ""
            },
            "colorscale": [
             [
              0,
              "#0d0887"
             ],
             [
              0.1111111111111111,
              "#46039f"
             ],
             [
              0.2222222222222222,
              "#7201a8"
             ],
             [
              0.3333333333333333,
              "#9c179e"
             ],
             [
              0.4444444444444444,
              "#bd3786"
             ],
             [
              0.5555555555555556,
              "#d8576b"
             ],
             [
              0.6666666666666666,
              "#ed7953"
             ],
             [
              0.7777777777777778,
              "#fb9f3a"
             ],
             [
              0.8888888888888888,
              "#fdca26"
             ],
             [
              1,
              "#f0f921"
             ]
            ],
            "type": "histogram2dcontour"
           }
          ],
          "mesh3d": [
           {
            "colorbar": {
             "outlinewidth": 0,
             "ticks": ""
            },
            "type": "mesh3d"
           }
          ],
          "parcoords": [
           {
            "line": {
             "colorbar": {
              "outlinewidth": 0,
              "ticks": ""
             }
            },
            "type": "parcoords"
           }
          ],
          "pie": [
           {
            "automargin": true,
            "type": "pie"
           }
          ],
          "scatter": [
           {
            "fillpattern": {
             "fillmode": "overlay",
             "size": 10,
             "solidity": 0.2
            },
            "type": "scatter"
           }
          ],
          "scatter3d": [
           {
            "line": {
             "colorbar": {
              "outlinewidth": 0,
              "ticks": ""
             }
            },
            "marker": {
             "colorbar": {
              "outlinewidth": 0,
              "ticks": ""
             }
            },
            "type": "scatter3d"
           }
          ],
          "scattercarpet": [
           {
            "marker": {
             "colorbar": {
              "outlinewidth": 0,
              "ticks": ""
             }
            },
            "type": "scattercarpet"
           }
          ],
          "scattergeo": [
           {
            "marker": {
             "colorbar": {
              "outlinewidth": 0,
              "ticks": ""
             }
            },
            "type": "scattergeo"
           }
          ],
          "scattergl": [
           {
            "marker": {
             "colorbar": {
              "outlinewidth": 0,
              "ticks": ""
             }
            },
            "type": "scattergl"
           }
          ],
          "scattermap": [
           {
            "marker": {
             "colorbar": {
              "outlinewidth": 0,
              "ticks": ""
             }
            },
            "type": "scattermap"
           }
          ],
          "scattermapbox": [
           {
            "marker": {
             "colorbar": {
              "outlinewidth": 0,
              "ticks": ""
             }
            },
            "type": "scattermapbox"
           }
          ],
          "scatterpolar": [
           {
            "marker": {
             "colorbar": {
              "outlinewidth": 0,
              "ticks": ""
             }
            },
            "type": "scatterpolar"
           }
          ],
          "scatterpolargl": [
           {
            "marker": {
             "colorbar": {
              "outlinewidth": 0,
              "ticks": ""
             }
            },
            "type": "scatterpolargl"
           }
          ],
          "scatterternary": [
           {
            "marker": {
             "colorbar": {
              "outlinewidth": 0,
              "ticks": ""
             }
            },
            "type": "scatterternary"
           }
          ],
          "surface": [
           {
            "colorbar": {
             "outlinewidth": 0,
             "ticks": ""
            },
            "colorscale": [
             [
              0,
              "#0d0887"
             ],
             [
              0.1111111111111111,
              "#46039f"
             ],
             [
              0.2222222222222222,
              "#7201a8"
             ],
             [
              0.3333333333333333,
              "#9c179e"
             ],
             [
              0.4444444444444444,
              "#bd3786"
             ],
             [
              0.5555555555555556,
              "#d8576b"
             ],
             [
              0.6666666666666666,
              "#ed7953"
             ],
             [
              0.7777777777777778,
              "#fb9f3a"
             ],
             [
              0.8888888888888888,
              "#fdca26"
             ],
             [
              1,
              "#f0f921"
             ]
            ],
            "type": "surface"
           }
          ],
          "table": [
           {
            "cells": {
             "fill": {
              "color": "#EBF0F8"
             },
             "line": {
              "color": "white"
             }
            },
            "header": {
             "fill": {
              "color": "#C8D4E3"
             },
             "line": {
              "color": "white"
             }
            },
            "type": "table"
           }
          ]
         },
         "layout": {
          "annotationdefaults": {
           "arrowcolor": "#2a3f5f",
           "arrowhead": 0,
           "arrowwidth": 1
          },
          "autotypenumbers": "strict",
          "coloraxis": {
           "colorbar": {
            "outlinewidth": 0,
            "ticks": ""
           }
          },
          "colorscale": {
           "diverging": [
            [
             0,
             "#8e0152"
            ],
            [
             0.1,
             "#c51b7d"
            ],
            [
             0.2,
             "#de77ae"
            ],
            [
             0.3,
             "#f1b6da"
            ],
            [
             0.4,
             "#fde0ef"
            ],
            [
             0.5,
             "#f7f7f7"
            ],
            [
             0.6,
             "#e6f5d0"
            ],
            [
             0.7,
             "#b8e186"
            ],
            [
             0.8,
             "#7fbc41"
            ],
            [
             0.9,
             "#4d9221"
            ],
            [
             1,
             "#276419"
            ]
           ],
           "sequential": [
            [
             0,
             "#0d0887"
            ],
            [
             0.1111111111111111,
             "#46039f"
            ],
            [
             0.2222222222222222,
             "#7201a8"
            ],
            [
             0.3333333333333333,
             "#9c179e"
            ],
            [
             0.4444444444444444,
             "#bd3786"
            ],
            [
             0.5555555555555556,
             "#d8576b"
            ],
            [
             0.6666666666666666,
             "#ed7953"
            ],
            [
             0.7777777777777778,
             "#fb9f3a"
            ],
            [
             0.8888888888888888,
             "#fdca26"
            ],
            [
             1,
             "#f0f921"
            ]
           ],
           "sequentialminus": [
            [
             0,
             "#0d0887"
            ],
            [
             0.1111111111111111,
             "#46039f"
            ],
            [
             0.2222222222222222,
             "#7201a8"
            ],
            [
             0.3333333333333333,
             "#9c179e"
            ],
            [
             0.4444444444444444,
             "#bd3786"
            ],
            [
             0.5555555555555556,
             "#d8576b"
            ],
            [
             0.6666666666666666,
             "#ed7953"
            ],
            [
             0.7777777777777778,
             "#fb9f3a"
            ],
            [
             0.8888888888888888,
             "#fdca26"
            ],
            [
             1,
             "#f0f921"
            ]
           ]
          },
          "colorway": [
           "#636efa",
           "#EF553B",
           "#00cc96",
           "#ab63fa",
           "#FFA15A",
           "#19d3f3",
           "#FF6692",
           "#B6E880",
           "#FF97FF",
           "#FECB52"
          ],
          "font": {
           "color": "#2a3f5f"
          },
          "geo": {
           "bgcolor": "white",
           "lakecolor": "white",
           "landcolor": "#E5ECF6",
           "showlakes": true,
           "showland": true,
           "subunitcolor": "white"
          },
          "hoverlabel": {
           "align": "left"
          },
          "hovermode": "closest",
          "mapbox": {
           "style": "light"
          },
          "paper_bgcolor": "white",
          "plot_bgcolor": "#E5ECF6",
          "polar": {
           "angularaxis": {
            "gridcolor": "white",
            "linecolor": "white",
            "ticks": ""
           },
           "bgcolor": "#E5ECF6",
           "radialaxis": {
            "gridcolor": "white",
            "linecolor": "white",
            "ticks": ""
           }
          },
          "scene": {
           "xaxis": {
            "backgroundcolor": "#E5ECF6",
            "gridcolor": "white",
            "gridwidth": 2,
            "linecolor": "white",
            "showbackground": true,
            "ticks": "",
            "zerolinecolor": "white"
           },
           "yaxis": {
            "backgroundcolor": "#E5ECF6",
            "gridcolor": "white",
            "gridwidth": 2,
            "linecolor": "white",
            "showbackground": true,
            "ticks": "",
            "zerolinecolor": "white"
           },
           "zaxis": {
            "backgroundcolor": "#E5ECF6",
            "gridcolor": "white",
            "gridwidth": 2,
            "linecolor": "white",
            "showbackground": true,
            "ticks": "",
            "zerolinecolor": "white"
           }
          },
          "shapedefaults": {
           "line": {
            "color": "#2a3f5f"
           }
          },
          "ternary": {
           "aaxis": {
            "gridcolor": "white",
            "linecolor": "white",
            "ticks": ""
           },
           "baxis": {
            "gridcolor": "white",
            "linecolor": "white",
            "ticks": ""
           },
           "bgcolor": "#E5ECF6",
           "caxis": {
            "gridcolor": "white",
            "linecolor": "white",
            "ticks": ""
           }
          },
          "title": {
           "x": 0.05
          },
          "xaxis": {
           "automargin": true,
           "gridcolor": "white",
           "linecolor": "white",
           "ticks": "",
           "title": {
            "standoff": 15
           },
           "zerolinecolor": "white",
           "zerolinewidth": 2
          },
          "yaxis": {
           "automargin": true,
           "gridcolor": "white",
           "linecolor": "white",
           "ticks": "",
           "title": {
            "standoff": 15
           },
           "zerolinecolor": "white",
           "zerolinewidth": 2
          }
         }
        },
        "title": {
         "text": "Categorical Distributions"
        },
        "width": 840,
        "xaxis": {
         "anchor": "y",
         "domain": [
          0,
          0.45
         ]
        },
        "xaxis2": {
         "anchor": "y2",
         "domain": [
          0,
          0.45
         ]
        },
        "yaxis": {
         "anchor": "x",
         "domain": [
          0.625,
          1
         ]
        },
        "yaxis2": {
         "anchor": "x2",
         "domain": [
          0,
          0.375
         ]
        }
       }
      }
     },
     "metadata": {},
     "output_type": "display_data"
    },
    {
     "data": {
      "application/vnd.plotly.v1+json": {
       "config": {
        "plotlyServerURL": "https://plot.ly"
       },
       "data": [
        {
         "colorscale": [
          [
           0,
           "rgb(103,0,31)"
          ],
          [
           0.1,
           "rgb(178,24,43)"
          ],
          [
           0.2,
           "rgb(214,96,77)"
          ],
          [
           0.3,
           "rgb(244,165,130)"
          ],
          [
           0.4,
           "rgb(253,219,199)"
          ],
          [
           0.5,
           "rgb(247,247,247)"
          ],
          [
           0.6,
           "rgb(209,229,240)"
          ],
          [
           0.7,
           "rgb(146,197,222)"
          ],
          [
           0.8,
           "rgb(67,147,195)"
          ],
          [
           0.9,
           "rgb(33,102,172)"
          ],
          [
           1,
           "rgb(5,48,97)"
          ]
         ],
         "hovertemplate": "%{x} vs %{y}<br>Correlation: %{z:.3f}<extra></extra>",
         "text": {
          "bdata": "AAAAAAAA8D++nxov3STGP76fGi/dJMY/AAAAAAAA8D8=",
          "dtype": "f8",
          "shape": "2, 2"
         },
         "textfont": {
          "size": 10
         },
         "texttemplate": "%{text}",
         "type": "heatmap",
         "x": [
          "age",
          "salary"
         ],
         "y": [
          "age",
          "salary"
         ],
         "z": {
          "bdata": "////////7z/KTlGNnBzGP8pOUY2cHMY/AAAAAAAA8D8=",
          "dtype": "f8",
          "shape": "2, 2"
         },
         "zmid": 0
        }
       ],
       "layout": {
        "height": 600,
        "template": {
         "data": {
          "bar": [
           {
            "error_x": {
             "color": "#2a3f5f"
            },
            "error_y": {
             "color": "#2a3f5f"
            },
            "marker": {
             "line": {
              "color": "#E5ECF6",
              "width": 0.5
             },
             "pattern": {
              "fillmode": "overlay",
              "size": 10,
              "solidity": 0.2
             }
            },
            "type": "bar"
           }
          ],
          "barpolar": [
           {
            "marker": {
             "line": {
              "color": "#E5ECF6",
              "width": 0.5
             },
             "pattern": {
              "fillmode": "overlay",
              "size": 10,
              "solidity": 0.2
             }
            },
            "type": "barpolar"
           }
          ],
          "carpet": [
           {
            "aaxis": {
             "endlinecolor": "#2a3f5f",
             "gridcolor": "white",
             "linecolor": "white",
             "minorgridcolor": "white",
             "startlinecolor": "#2a3f5f"
            },
            "baxis": {
             "endlinecolor": "#2a3f5f",
             "gridcolor": "white",
             "linecolor": "white",
             "minorgridcolor": "white",
             "startlinecolor": "#2a3f5f"
            },
            "type": "carpet"
           }
          ],
          "choropleth": [
           {
            "colorbar": {
             "outlinewidth": 0,
             "ticks": ""
            },
            "type": "choropleth"
           }
          ],
          "contour": [
           {
            "colorbar": {
             "outlinewidth": 0,
             "ticks": ""
            },
            "colorscale": [
             [
              0,
              "#0d0887"
             ],
             [
              0.1111111111111111,
              "#46039f"
             ],
             [
              0.2222222222222222,
              "#7201a8"
             ],
             [
              0.3333333333333333,
              "#9c179e"
             ],
             [
              0.4444444444444444,
              "#bd3786"
             ],
             [
              0.5555555555555556,
              "#d8576b"
             ],
             [
              0.6666666666666666,
              "#ed7953"
             ],
             [
              0.7777777777777778,
              "#fb9f3a"
             ],
             [
              0.8888888888888888,
              "#fdca26"
             ],
             [
              1,
              "#f0f921"
             ]
            ],
            "type": "contour"
           }
          ],
          "contourcarpet": [
           {
            "colorbar": {
             "outlinewidth": 0,
             "ticks": ""
            },
            "type": "contourcarpet"
           }
          ],
          "heatmap": [
           {
            "colorbar": {
             "outlinewidth": 0,
             "ticks": ""
            },
            "colorscale": [
             [
              0,
              "#0d0887"
             ],
             [
              0.1111111111111111,
              "#46039f"
             ],
             [
              0.2222222222222222,
              "#7201a8"
             ],
             [
              0.3333333333333333,
              "#9c179e"
             ],
             [
              0.4444444444444444,
              "#bd3786"
             ],
             [
              0.5555555555555556,
              "#d8576b"
             ],
             [
              0.6666666666666666,
              "#ed7953"
             ],
             [
              0.7777777777777778,
              "#fb9f3a"
             ],
             [
              0.8888888888888888,
              "#fdca26"
             ],
             [
              1,
              "#f0f921"
             ]
            ],
            "type": "heatmap"
           }
          ],
          "histogram": [
           {
            "marker": {
             "pattern": {
              "fillmode": "overlay",
              "size": 10,
              "solidity": 0.2
             }
            },
            "type": "histogram"
           }
          ],
          "histogram2d": [
           {
            "colorbar": {
             "outlinewidth": 0,
             "ticks": ""
            },
            "colorscale": [
             [
              0,
              "#0d0887"
             ],
             [
              0.1111111111111111,
              "#46039f"
             ],
             [
              0.2222222222222222,
              "#7201a8"
             ],
             [
              0.3333333333333333,
              "#9c179e"
             ],
             [
              0.4444444444444444,
              "#bd3786"
             ],
             [
              0.5555555555555556,
              "#d8576b"
             ],
             [
              0.6666666666666666,
              "#ed7953"
             ],
             [
              0.7777777777777778,
              "#fb9f3a"
             ],
             [
              0.8888888888888888,
              "#fdca26"
             ],
             [
              1,
              "#f0f921"
             ]
            ],
            "type": "histogram2d"
           }
          ],
          "histogram2dcontour": [
           {
            "colorbar": {
             "outlinewidth": 0,
             "ticks": ""
            },
            "colorscale": [
             [
              0,
              "#0d0887"
             ],
             [
              0.1111111111111111,
              "#46039f"
             ],
             [
              0.2222222222222222,
              "#7201a8"
             ],
             [
              0.3333333333333333,
              "#9c179e"
             ],
             [
              0.4444444444444444,
              "#bd3786"
             ],
             [
              0.5555555555555556,
              "#d8576b"
             ],
             [
              0.6666666666666666,
              "#ed7953"
             ],
             [
              0.7777777777777778,
              "#fb9f3a"
             ],
             [
              0.8888888888888888,
              "#fdca26"
             ],
             [
              1,
              "#f0f921"
             ]
            ],
            "type": "histogram2dcontour"
           }
          ],
          "mesh3d": [
           {
            "colorbar": {
             "outlinewidth": 0,
             "ticks": ""
            },
            "type": "mesh3d"
           }
          ],
          "parcoords": [
           {
            "line": {
             "colorbar": {
              "outlinewidth": 0,
              "ticks": ""
             }
            },
            "type": "parcoords"
           }
          ],
          "pie": [
           {
            "automargin": true,
            "type": "pie"
           }
          ],
          "scatter": [
           {
            "fillpattern": {
             "fillmode": "overlay",
             "size": 10,
             "solidity": 0.2
            },
            "type": "scatter"
           }
          ],
          "scatter3d": [
           {
            "line": {
             "colorbar": {
              "outlinewidth": 0,
              "ticks": ""
             }
            },
            "marker": {
             "colorbar": {
              "outlinewidth": 0,
              "ticks": ""
             }
            },
            "type": "scatter3d"
           }
          ],
          "scattercarpet": [
           {
            "marker": {
             "colorbar": {
              "outlinewidth": 0,
              "ticks": ""
             }
            },
            "type": "scattercarpet"
           }
          ],
          "scattergeo": [
           {
            "marker": {
             "colorbar": {
              "outlinewidth": 0,
              "ticks": ""
             }
            },
            "type": "scattergeo"
           }
          ],
          "scattergl": [
           {
            "marker": {
             "colorbar": {
              "outlinewidth": 0,
              "ticks": ""
             }
            },
            "type": "scattergl"
           }
          ],
          "scattermap": [
           {
            "marker": {
             "colorbar": {
              "outlinewidth": 0,
              "ticks": ""
             }
            },
            "type": "scattermap"
           }
          ],
          "scattermapbox": [
           {
            "marker": {
             "colorbar": {
              "outlinewidth": 0,
              "ticks": ""
             }
            },
            "type": "scattermapbox"
           }
          ],
          "scatterpolar": [
           {
            "marker": {
             "colorbar": {
              "outlinewidth": 0,
              "ticks": ""
             }
            },
            "type": "scatterpolar"
           }
          ],
          "scatterpolargl": [
           {
            "marker": {
             "colorbar": {
              "outlinewidth": 0,
              "ticks": ""
             }
            },
            "type": "scatterpolargl"
           }
          ],
          "scatterternary": [
           {
            "marker": {
             "colorbar": {
              "outlinewidth": 0,
              "ticks": ""
             }
            },
            "type": "scatterternary"
           }
          ],
          "surface": [
           {
            "colorbar": {
             "outlinewidth": 0,
             "ticks": ""
            },
            "colorscale": [
             [
              0,
              "#0d0887"
             ],
             [
              0.1111111111111111,
              "#46039f"
             ],
             [
              0.2222222222222222,
              "#7201a8"
             ],
             [
              0.3333333333333333,
              "#9c179e"
             ],
             [
              0.4444444444444444,
              "#bd3786"
             ],
             [
              0.5555555555555556,
              "#d8576b"
             ],
             [
              0.6666666666666666,
              "#ed7953"
             ],
             [
              0.7777777777777778,
              "#fb9f3a"
             ],
             [
              0.8888888888888888,
              "#fdca26"
             ],
             [
              1,
              "#f0f921"
             ]
            ],
            "type": "surface"
           }
          ],
          "table": [
           {
            "cells": {
             "fill": {
              "color": "#EBF0F8"
             },
             "line": {
              "color": "white"
             }
            },
            "header": {
             "fill": {
              "color": "#C8D4E3"
             },
             "line": {
              "color": "white"
             }
            },
            "type": "table"
           }
          ]
         },
         "layout": {
          "annotationdefaults": {
           "arrowcolor": "#2a3f5f",
           "arrowhead": 0,
           "arrowwidth": 1
          },
          "autotypenumbers": "strict",
          "coloraxis": {
           "colorbar": {
            "outlinewidth": 0,
            "ticks": ""
           }
          },
          "colorscale": {
           "diverging": [
            [
             0,
             "#8e0152"
            ],
            [
             0.1,
             "#c51b7d"
            ],
            [
             0.2,
             "#de77ae"
            ],
            [
             0.3,
             "#f1b6da"
            ],
            [
             0.4,
             "#fde0ef"
            ],
            [
             0.5,
             "#f7f7f7"
            ],
            [
             0.6,
             "#e6f5d0"
            ],
            [
             0.7,
             "#b8e186"
            ],
            [
             0.8,
             "#7fbc41"
            ],
            [
             0.9,
             "#4d9221"
            ],
            [
             1,
             "#276419"
            ]
           ],
           "sequential": [
            [
             0,
             "#0d0887"
            ],
            [
             0.1111111111111111,
             "#46039f"
            ],
            [
             0.2222222222222222,
             "#7201a8"
            ],
            [
             0.3333333333333333,
             "#9c179e"
            ],
            [
             0.4444444444444444,
             "#bd3786"
            ],
            [
             0.5555555555555556,
             "#d8576b"
            ],
            [
             0.6666666666666666,
             "#ed7953"
            ],
            [
             0.7777777777777778,
             "#fb9f3a"
            ],
            [
             0.8888888888888888,
             "#fdca26"
            ],
            [
             1,
             "#f0f921"
            ]
           ],
           "sequentialminus": [
            [
             0,
             "#0d0887"
            ],
            [
             0.1111111111111111,
             "#46039f"
            ],
            [
             0.2222222222222222,
             "#7201a8"
            ],
            [
             0.3333333333333333,
             "#9c179e"
            ],
            [
             0.4444444444444444,
             "#bd3786"
            ],
            [
             0.5555555555555556,
             "#d8576b"
            ],
            [
             0.6666666666666666,
             "#ed7953"
            ],
            [
             0.7777777777777778,
             "#fb9f3a"
            ],
            [
             0.8888888888888888,
             "#fdca26"
            ],
            [
             1,
             "#f0f921"
            ]
           ]
          },
          "colorway": [
           "#636efa",
           "#EF553B",
           "#00cc96",
           "#ab63fa",
           "#FFA15A",
           "#19d3f3",
           "#FF6692",
           "#B6E880",
           "#FF97FF",
           "#FECB52"
          ],
          "font": {
           "color": "#2a3f5f"
          },
          "geo": {
           "bgcolor": "white",
           "lakecolor": "white",
           "landcolor": "#E5ECF6",
           "showlakes": true,
           "showland": true,
           "subunitcolor": "white"
          },
          "hoverlabel": {
           "align": "left"
          },
          "hovermode": "closest",
          "mapbox": {
           "style": "light"
          },
          "paper_bgcolor": "white",
          "plot_bgcolor": "#E5ECF6",
          "polar": {
           "angularaxis": {
            "gridcolor": "white",
            "linecolor": "white",
            "ticks": ""
           },
           "bgcolor": "#E5ECF6",
           "radialaxis": {
            "gridcolor": "white",
            "linecolor": "white",
            "ticks": ""
           }
          },
          "scene": {
           "xaxis": {
            "backgroundcolor": "#E5ECF6",
            "gridcolor": "white",
            "gridwidth": 2,
            "linecolor": "white",
            "showbackground": true,
            "ticks": "",
            "zerolinecolor": "white"
           },
           "yaxis": {
            "backgroundcolor": "#E5ECF6",
            "gridcolor": "white",
            "gridwidth": 2,
            "linecolor": "white",
            "showbackground": true,
            "ticks": "",
            "zerolinecolor": "white"
           },
           "zaxis": {
            "backgroundcolor": "#E5ECF6",
            "gridcolor": "white",
            "gridwidth": 2,
            "linecolor": "white",
            "showbackground": true,
            "ticks": "",
            "zerolinecolor": "white"
           }
          },
          "shapedefaults": {
           "line": {
            "color": "#2a3f5f"
           }
          },
          "ternary": {
           "aaxis": {
            "gridcolor": "white",
            "linecolor": "white",
            "ticks": ""
           },
           "baxis": {
            "gridcolor": "white",
            "linecolor": "white",
            "ticks": ""
           },
           "bgcolor": "#E5ECF6",
           "caxis": {
            "gridcolor": "white",
            "linecolor": "white",
            "ticks": ""
           }
          },
          "title": {
           "x": 0.05
          },
          "xaxis": {
           "automargin": true,
           "gridcolor": "white",
           "linecolor": "white",
           "ticks": "",
           "title": {
            "standoff": 15
           },
           "zerolinecolor": "white",
           "zerolinewidth": 2
          },
          "yaxis": {
           "automargin": true,
           "gridcolor": "white",
           "linecolor": "white",
           "ticks": "",
           "title": {
            "standoff": 15
           },
           "zerolinecolor": "white",
           "zerolinewidth": 2
          }
         }
        },
        "title": {
         "text": "Pearson Correlation Matrix"
        },
        "width": 800,
        "xaxis": {
         "title": {
          "text": "Variables"
         }
        },
        "yaxis": {
         "title": {
          "text": "Variables"
         }
        }
       }
      }
     },
     "metadata": {},
     "output_type": "display_data"
    },
    {
     "data": {
      "application/vnd.plotly.v1+json": {
       "config": {
        "plotlyServerURL": "https://plot.ly"
       },
       "data": [
        {
         "marker": {
          "color": "lightblue",
          "line": {
           "color": "blue",
           "width": 1
          },
          "opacity": 0.7,
          "size": 2
         },
         "mode": "markers",
         "name": "age_normal",
         "showlegend": false,
         "type": "scatter",
         "x": {
          "bdata": "AAECAwQF",
          "dtype": "i1"
         },
         "xaxis": "x",
         "y": {
          "bdata": "GR4jHBkm",
          "dtype": "i1"
         },
         "yaxis": "y"
        },
        {
         "marker": {
          "color": "lightblue",
          "line": {
           "color": "blue",
           "width": 1
          },
          "opacity": 0.7,
          "size": 2
         },
         "mode": "markers",
         "name": "salary_normal",
         "showlegend": false,
         "type": "scatter",
         "x": {
          "bdata": "AAECAwQF",
          "dtype": "i1"
         },
         "xaxis": "x2",
         "y": {
          "bdata": "CEwBANjWAADo/QAA2NYAAIC7AABAGQEA",
          "dtype": "i4"
         },
         "yaxis": "y2"
        }
       ],
       "layout": {
        "annotations": [
         {
          "font": {
           "size": 16
          },
          "showarrow": false,
          "text": "age - Outliers (iqr)",
          "x": 0.2375,
          "xanchor": "center",
          "xref": "paper",
          "y": 1,
          "yanchor": "bottom",
          "yref": "paper"
         },
         {
          "font": {
           "size": 16
          },
          "showarrow": false,
          "text": "salary - Outliers (iqr)",
          "x": 0.7625,
          "xanchor": "center",
          "xref": "paper",
          "y": 1,
          "yanchor": "bottom",
          "yref": "paper"
         }
        ],
        "height": 300,
        "template": {
         "data": {
          "bar": [
           {
            "error_x": {
             "color": "#2a3f5f"
            },
            "error_y": {
             "color": "#2a3f5f"
            },
            "marker": {
             "line": {
              "color": "#E5ECF6",
              "width": 0.5
             },
             "pattern": {
              "fillmode": "overlay",
              "size": 10,
              "solidity": 0.2
             }
            },
            "type": "bar"
           }
          ],
          "barpolar": [
           {
            "marker": {
             "line": {
              "color": "#E5ECF6",
              "width": 0.5
             },
             "pattern": {
              "fillmode": "overlay",
              "size": 10,
              "solidity": 0.2
             }
            },
            "type": "barpolar"
           }
          ],
          "carpet": [
           {
            "aaxis": {
             "endlinecolor": "#2a3f5f",
             "gridcolor": "white",
             "linecolor": "white",
             "minorgridcolor": "white",
             "startlinecolor": "#2a3f5f"
            },
            "baxis": {
             "endlinecolor": "#2a3f5f",
             "gridcolor": "white",
             "linecolor": "white",
             "minorgridcolor": "white",
             "startlinecolor": "#2a3f5f"
            },
            "type": "carpet"
           }
          ],
          "choropleth": [
           {
            "colorbar": {
             "outlinewidth": 0,
             "ticks": ""
            },
            "type": "choropleth"
           }
          ],
          "contour": [
           {
            "colorbar": {
             "outlinewidth": 0,
             "ticks": ""
            },
            "colorscale": [
             [
              0,
              "#0d0887"
             ],
             [
              0.1111111111111111,
              "#46039f"
             ],
             [
              0.2222222222222222,
              "#7201a8"
             ],
             [
              0.3333333333333333,
              "#9c179e"
             ],
             [
              0.4444444444444444,
              "#bd3786"
             ],
             [
              0.5555555555555556,
              "#d8576b"
             ],
             [
              0.6666666666666666,
              "#ed7953"
             ],
             [
              0.7777777777777778,
              "#fb9f3a"
             ],
             [
              0.8888888888888888,
              "#fdca26"
             ],
             [
              1,
              "#f0f921"
             ]
            ],
            "type": "contour"
           }
          ],
          "contourcarpet": [
           {
            "colorbar": {
             "outlinewidth": 0,
             "ticks": ""
            },
            "type": "contourcarpet"
           }
          ],
          "heatmap": [
           {
            "colorbar": {
             "outlinewidth": 0,
             "ticks": ""
            },
            "colorscale": [
             [
              0,
              "#0d0887"
             ],
             [
              0.1111111111111111,
              "#46039f"
             ],
             [
              0.2222222222222222,
              "#7201a8"
             ],
             [
              0.3333333333333333,
              "#9c179e"
             ],
             [
              0.4444444444444444,
              "#bd3786"
             ],
             [
              0.5555555555555556,
              "#d8576b"
             ],
             [
              0.6666666666666666,
              "#ed7953"
             ],
             [
              0.7777777777777778,
              "#fb9f3a"
             ],
             [
              0.8888888888888888,
              "#fdca26"
             ],
             [
              1,
              "#f0f921"
             ]
            ],
            "type": "heatmap"
           }
          ],
          "histogram": [
           {
            "marker": {
             "pattern": {
              "fillmode": "overlay",
              "size": 10,
              "solidity": 0.2
             }
            },
            "type": "histogram"
           }
          ],
          "histogram2d": [
           {
            "colorbar": {
             "outlinewidth": 0,
             "ticks": ""
            },
            "colorscale": [
             [
              0,
              "#0d0887"
             ],
             [
              0.1111111111111111,
              "#46039f"
             ],
             [
              0.2222222222222222,
              "#7201a8"
             ],
             [
              0.3333333333333333,
              "#9c179e"
             ],
             [
              0.4444444444444444,
              "#bd3786"
             ],
             [
              0.5555555555555556,
              "#d8576b"
             ],
             [
              0.6666666666666666,
              "#ed7953"
             ],
             [
              0.7777777777777778,
              "#fb9f3a"
             ],
             [
              0.8888888888888888,
              "#fdca26"
             ],
             [
              1,
              "#f0f921"
             ]
            ],
            "type": "histogram2d"
           }
          ],
          "histogram2dcontour": [
           {
            "colorbar": {
             "outlinewidth": 0,
             "ticks": ""
            },
            "colorscale": [
             [
              0,
              "#0d0887"
             ],
             [
              0.1111111111111111,
              "#46039f"
             ],
             [
              0.2222222222222222,
              "#7201a8"
             ],
             [
              0.3333333333333333,
              "#9c179e"
             ],
             [
              0.4444444444444444,
              "#bd3786"
             ],
             [
              0.5555555555555556,
              "#d8576b"
             ],
             [
              0.6666666666666666,
              "#ed7953"
             ],
             [
              0.7777777777777778,
              "#fb9f3a"
             ],
             [
              0.8888888888888888,
              "#fdca26"
             ],
             [
              1,
              "#f0f921"
             ]
            ],
            "type": "histogram2dcontour"
           }
          ],
          "mesh3d": [
           {
            "colorbar": {
             "outlinewidth": 0,
             "ticks": ""
            },
            "type": "mesh3d"
           }
          ],
          "parcoords": [
           {
            "line": {
             "colorbar": {
              "outlinewidth": 0,
              "ticks": ""
             }
            },
            "type": "parcoords"
           }
          ],
          "pie": [
           {
            "automargin": true,
            "type": "pie"
           }
          ],
          "scatter": [
           {
            "fillpattern": {
             "fillmode": "overlay",
             "size": 10,
             "solidity": 0.2
            },
            "type": "scatter"
           }
          ],
          "scatter3d": [
           {
            "line": {
             "colorbar": {
              "outlinewidth": 0,
              "ticks": ""
             }
            },
            "marker": {
             "colorbar": {
              "outlinewidth": 0,
              "ticks": ""
             }
            },
            "type": "scatter3d"
           }
          ],
          "scattercarpet": [
           {
            "marker": {
             "colorbar": {
              "outlinewidth": 0,
              "ticks": ""
             }
            },
            "type": "scattercarpet"
           }
          ],
          "scattergeo": [
           {
            "marker": {
             "colorbar": {
              "outlinewidth": 0,
              "ticks": ""
             }
            },
            "type": "scattergeo"
           }
          ],
          "scattergl": [
           {
            "marker": {
             "colorbar": {
              "outlinewidth": 0,
              "ticks": ""
             }
            },
            "type": "scattergl"
           }
          ],
          "scattermap": [
           {
            "marker": {
             "colorbar": {
              "outlinewidth": 0,
              "ticks": ""
             }
            },
            "type": "scattermap"
           }
          ],
          "scattermapbox": [
           {
            "marker": {
             "colorbar": {
              "outlinewidth": 0,
              "ticks": ""
             }
            },
            "type": "scattermapbox"
           }
          ],
          "scatterpolar": [
           {
            "marker": {
             "colorbar": {
              "outlinewidth": 0,
              "ticks": ""
             }
            },
            "type": "scatterpolar"
           }
          ],
          "scatterpolargl": [
           {
            "marker": {
             "colorbar": {
              "outlinewidth": 0,
              "ticks": ""
             }
            },
            "type": "scatterpolargl"
           }
          ],
          "scatterternary": [
           {
            "marker": {
             "colorbar": {
              "outlinewidth": 0,
              "ticks": ""
             }
            },
            "type": "scatterternary"
           }
          ],
          "surface": [
           {
            "colorbar": {
             "outlinewidth": 0,
             "ticks": ""
            },
            "colorscale": [
             [
              0,
              "#0d0887"
             ],
             [
              0.1111111111111111,
              "#46039f"
             ],
             [
              0.2222222222222222,
              "#7201a8"
             ],
             [
              0.3333333333333333,
              "#9c179e"
             ],
             [
              0.4444444444444444,
              "#bd3786"
             ],
             [
              0.5555555555555556,
              "#d8576b"
             ],
             [
              0.6666666666666666,
              "#ed7953"
             ],
             [
              0.7777777777777778,
              "#fb9f3a"
             ],
             [
              0.8888888888888888,
              "#fdca26"
             ],
             [
              1,
              "#f0f921"
             ]
            ],
            "type": "surface"
           }
          ],
          "table": [
           {
            "cells": {
             "fill": {
              "color": "#EBF0F8"
             },
             "line": {
              "color": "white"
             }
            },
            "header": {
             "fill": {
              "color": "#C8D4E3"
             },
             "line": {
              "color": "white"
             }
            },
            "type": "table"
           }
          ]
         },
         "layout": {
          "annotationdefaults": {
           "arrowcolor": "#2a3f5f",
           "arrowhead": 0,
           "arrowwidth": 1
          },
          "autotypenumbers": "strict",
          "coloraxis": {
           "colorbar": {
            "outlinewidth": 0,
            "ticks": ""
           }
          },
          "colorscale": {
           "diverging": [
            [
             0,
             "#8e0152"
            ],
            [
             0.1,
             "#c51b7d"
            ],
            [
             0.2,
             "#de77ae"
            ],
            [
             0.3,
             "#f1b6da"
            ],
            [
             0.4,
             "#fde0ef"
            ],
            [
             0.5,
             "#f7f7f7"
            ],
            [
             0.6,
             "#e6f5d0"
            ],
            [
             0.7,
             "#b8e186"
            ],
            [
             0.8,
             "#7fbc41"
            ],
            [
             0.9,
             "#4d9221"
            ],
            [
             1,
             "#276419"
            ]
           ],
           "sequential": [
            [
             0,
             "#0d0887"
            ],
            [
             0.1111111111111111,
             "#46039f"
            ],
            [
             0.2222222222222222,
             "#7201a8"
            ],
            [
             0.3333333333333333,
             "#9c179e"
            ],
            [
             0.4444444444444444,
             "#bd3786"
            ],
            [
             0.5555555555555556,
             "#d8576b"
            ],
            [
             0.6666666666666666,
             "#ed7953"
            ],
            [
             0.7777777777777778,
             "#fb9f3a"
            ],
            [
             0.8888888888888888,
             "#fdca26"
            ],
            [
             1,
             "#f0f921"
            ]
           ],
           "sequentialminus": [
            [
             0,
             "#0d0887"
            ],
            [
             0.1111111111111111,
             "#46039f"
            ],
            [
             0.2222222222222222,
             "#7201a8"
            ],
            [
             0.3333333333333333,
             "#9c179e"
            ],
            [
             0.4444444444444444,
             "#bd3786"
            ],
            [
             0.5555555555555556,
             "#d8576b"
            ],
            [
             0.6666666666666666,
             "#ed7953"
            ],
            [
             0.7777777777777778,
             "#fb9f3a"
            ],
            [
             0.8888888888888888,
             "#fdca26"
            ],
            [
             1,
             "#f0f921"
            ]
           ]
          },
          "colorway": [
           "#636efa",
           "#EF553B",
           "#00cc96",
           "#ab63fa",
           "#FFA15A",
           "#19d3f3",
           "#FF6692",
           "#B6E880",
           "#FF97FF",
           "#FECB52"
          ],
          "font": {
           "color": "#2a3f5f"
          },
          "geo": {
           "bgcolor": "white",
           "lakecolor": "white",
           "landcolor": "#E5ECF6",
           "showlakes": true,
           "showland": true,
           "subunitcolor": "white"
          },
          "hoverlabel": {
           "align": "left"
          },
          "hovermode": "closest",
          "mapbox": {
           "style": "light"
          },
          "paper_bgcolor": "white",
          "plot_bgcolor": "#E5ECF6",
          "polar": {
           "angularaxis": {
            "gridcolor": "white",
            "linecolor": "white",
            "ticks": ""
           },
           "bgcolor": "#E5ECF6",
           "radialaxis": {
            "gridcolor": "white",
            "linecolor": "white",
            "ticks": ""
           }
          },
          "scene": {
           "xaxis": {
            "backgroundcolor": "#E5ECF6",
            "gridcolor": "white",
            "gridwidth": 2,
            "linecolor": "white",
            "showbackground": true,
            "ticks": "",
            "zerolinecolor": "white"
           },
           "yaxis": {
            "backgroundcolor": "#E5ECF6",
            "gridcolor": "white",
            "gridwidth": 2,
            "linecolor": "white",
            "showbackground": true,
            "ticks": "",
            "zerolinecolor": "white"
           },
           "zaxis": {
            "backgroundcolor": "#E5ECF6",
            "gridcolor": "white",
            "gridwidth": 2,
            "linecolor": "white",
            "showbackground": true,
            "ticks": "",
            "zerolinecolor": "white"
           }
          },
          "shapedefaults": {
           "line": {
            "color": "#2a3f5f"
           }
          },
          "ternary": {
           "aaxis": {
            "gridcolor": "white",
            "linecolor": "white",
            "ticks": ""
           },
           "baxis": {
            "gridcolor": "white",
            "linecolor": "white",
            "ticks": ""
           },
           "bgcolor": "#E5ECF6",
           "caxis": {
            "gridcolor": "white",
            "linecolor": "white",
            "ticks": ""
           }
          },
          "title": {
           "x": 0.05
          },
          "xaxis": {
           "automargin": true,
           "gridcolor": "white",
           "linecolor": "white",
           "ticks": "",
           "title": {
            "standoff": 15
           },
           "zerolinecolor": "white",
           "zerolinewidth": 2
          },
          "yaxis": {
           "automargin": true,
           "gridcolor": "white",
           "linecolor": "white",
           "ticks": "",
           "title": {
            "standoff": 15
           },
           "zerolinecolor": "white",
           "zerolinewidth": 2
          }
         }
        },
        "title": {
         "text": "Outliers Detection"
        },
        "width": 450,
        "xaxis": {
         "anchor": "y",
         "domain": [
          0,
          0.475
         ]
        },
        "xaxis2": {
         "anchor": "y2",
         "domain": [
          0.525,
          1
         ]
        },
        "yaxis": {
         "anchor": "x",
         "domain": [
          0,
          1
         ]
        },
        "yaxis2": {
         "anchor": "x2",
         "domain": [
          0,
          1
         ]
        }
       }
      }
     },
     "metadata": {},
     "output_type": "display_data"
    }
   ],
   "source": [
    "# Test with both Pandas and Polars data\n",
    "df_pandas = pd.DataFrame(\n",
    "    {\n",
    "        \"name\": [\"Alice\", \"Bob\", \"Charlie\", \"Anya\", \"Eve\", \"Olivia\"],\n",
    "        \"age\": [25, 30, 35, 28, 25, 38],\n",
    "        \"role\": [\"Engineer\", \"Manager\", \"Engineer\", \"Engineer\", \"HR\", \"Engineer\"],\n",
    "        \"salary\": [85000, 55000, 65000, 55000, 48000, 72000],\n",
    "        \"self_employed\": [True, False, True, False, True, False],\n",
    "    }\n",
    ")\n",
    "\n",
    "df_polars = pl.DataFrame(\n",
    "    {\n",
    "        \"name\": [\"Alice\", \"Bob\", \"Charlie\", \"Anya\", \"Eve\", \"Olivia\"],\n",
    "        \"age\": [25, 30, 35, 28, 25, 38],\n",
    "        \"role\": [\"Engineer\", \"Manager\", \"Engineer\", \"Engineer\", \"HR\", \"Engineer\"],\n",
    "        \"salary\": [85000, 55000, 65000, 55000, 48000, 72000],\n",
    "        \"self_employed\": [True, False, True, False, True, False],\n",
    "    }\n",
    ")\n",
    "\n",
    "# print(\"Testing with Pandas DataFrame:\")\n",
    "# print(\"=\" * 40)\n",
    "# eda_pandas = ExploratoryDataAnalysis(df_pandas)\n",
    "# result_pandas = eda_pandas.numeric_summary()\n",
    "# print(f\"Result type: {type(result_pandas)}\")\n",
    "# print()\n",
    "\n",
    "# print(\"Testing with Polars DataFrame:\")\n",
    "# print(\"=\" * 40)\n",
    "# eda_polars = ExploratoryDataAnalysis(df_polars)\n",
    "# result_polars = eda_polars.numeric_summary()\n",
    "# print(f\"Result type: {type(result_polars)}\")\n",
    "\n",
    "# print(\"\\nPandas result:\")\n",
    "# display(result_pandas)\n",
    "\n",
    "# print(\"\\nPolars result:\")\n",
    "# display(result_polars)\n",
    "\n",
    "\n",
    "eda_pandas = ExploratoryDataAnalysis(df_polars)\n",
    "\n",
    "# eda_pandas.correlation_analysis()\n",
    "eda_pandas.display_all_plots()"
   ]
  },
  {
   "cell_type": "code",
   "execution_count": 24,
   "id": "93692cda",
   "metadata": {},
   "outputs": [
    {
     "data": {
      "text/html": [
       "<div><style>\n",
       ".dataframe > thead > tr,\n",
       ".dataframe > tbody > tr {\n",
       "  text-align: right;\n",
       "  white-space: pre-wrap;\n",
       "}\n",
       "</style>\n",
       "<small>shape: (6, 5)</small><table border=\"1\" class=\"dataframe\"><thead><tr><th>name</th><th>age</th><th>role</th><th>salary</th><th>self_employed</th></tr><tr><td>str</td><td>i64</td><td>str</td><td>i64</td><td>bool</td></tr></thead><tbody><tr><td>&quot;Alice&quot;</td><td>25</td><td>&quot;Engineer&quot;</td><td>85000</td><td>true</td></tr><tr><td>&quot;Bob&quot;</td><td>30</td><td>&quot;Manager&quot;</td><td>55000</td><td>false</td></tr><tr><td>&quot;Charlie&quot;</td><td>35</td><td>&quot;Engineer&quot;</td><td>65000</td><td>true</td></tr><tr><td>&quot;Anya&quot;</td><td>28</td><td>&quot;Engineer&quot;</td><td>55000</td><td>false</td></tr><tr><td>&quot;Eve&quot;</td><td>25</td><td>&quot;HR&quot;</td><td>48000</td><td>true</td></tr><tr><td>&quot;Olivia&quot;</td><td>38</td><td>&quot;Engineer&quot;</td><td>72000</td><td>false</td></tr></tbody></table></div>"
      ],
      "text/plain": [
       "shape: (6, 5)\n",
       "┌─────────┬─────┬──────────┬────────┬───────────────┐\n",
       "│ name    ┆ age ┆ role     ┆ salary ┆ self_employed │\n",
       "│ ---     ┆ --- ┆ ---      ┆ ---    ┆ ---           │\n",
       "│ str     ┆ i64 ┆ str      ┆ i64    ┆ bool          │\n",
       "╞═════════╪═════╪══════════╪════════╪═══════════════╡\n",
       "│ Alice   ┆ 25  ┆ Engineer ┆ 85000  ┆ true          │\n",
       "│ Bob     ┆ 30  ┆ Manager  ┆ 55000  ┆ false         │\n",
       "│ Charlie ┆ 35  ┆ Engineer ┆ 65000  ┆ true          │\n",
       "│ Anya    ┆ 28  ┆ Engineer ┆ 55000  ┆ false         │\n",
       "│ Eve     ┆ 25  ┆ HR       ┆ 48000  ┆ true          │\n",
       "│ Olivia  ┆ 38  ┆ Engineer ┆ 72000  ┆ false         │\n",
       "└─────────┴─────┴──────────┴────────┴───────────────┘"
      ]
     },
     "execution_count": 24,
     "metadata": {},
     "output_type": "execute_result"
    }
   ],
   "source": [
    "df_polars"
   ]
  },
  {
   "cell_type": "code",
   "execution_count": 25,
   "id": "586663c4",
   "metadata": {},
   "outputs": [
    {
     "data": {
      "text/plain": [
       "┌─────────────────────────────────────────────────────┐\n",
       "|                 Narwhals DataFrame                  |\n",
       "|-----------------------------------------------------|\n",
       "|shape: (6, 5)                                        |\n",
       "|┌─────────┬─────┬──────────┬────────┬───────────────┐|\n",
       "|│ name    ┆ age ┆ role     ┆ salary ┆ self_employed │|\n",
       "|│ ---     ┆ --- ┆ ---      ┆ ---    ┆ ---           │|\n",
       "|│ str     ┆ i64 ┆ str      ┆ i64    ┆ bool          │|\n",
       "|╞═════════╪═════╪══════════╪════════╪═══════════════╡|\n",
       "|│ Alice   ┆ 25  ┆ Engineer ┆ 85000  ┆ true          │|\n",
       "|│ Bob     ┆ 30  ┆ Manager  ┆ 55000  ┆ false         │|\n",
       "|│ Charlie ┆ 35  ┆ Engineer ┆ 65000  ┆ true          │|\n",
       "|│ Anya    ┆ 28  ┆ Engineer ┆ 55000  ┆ false         │|\n",
       "|│ Eve     ┆ 25  ┆ HR       ┆ 48000  ┆ true          │|\n",
       "|│ Olivia  ┆ 38  ┆ Engineer ┆ 72000  ┆ false         │|\n",
       "|└─────────┴─────┴──────────┴────────┴───────────────┘|\n",
       "└─────────────────────────────────────────────────────┘"
      ]
     },
     "execution_count": 25,
     "metadata": {},
     "output_type": "execute_result"
    }
   ],
   "source": [
    "nw_df = nw.from_native(df_polars)\n",
    "nw_df"
   ]
  },
  {
   "cell_type": "code",
   "execution_count": 114,
   "id": "1d1841af",
   "metadata": {},
   "outputs": [
    {
     "data": {
      "text/plain": [
       "0"
      ]
     },
     "execution_count": 114,
     "metadata": {},
     "output_type": "execute_result"
    }
   ],
   "source": [
    "df_polars.estimated_size(unit=\"mb\")\n",
    "nw_df.null_count().to_numpy().sum().item()"
   ]
  },
  {
   "cell_type": "code",
   "execution_count": 103,
   "id": "f9b39649",
   "metadata": {},
   "outputs": [
    {
     "data": {
      "text/html": [
       "<div><style>\n",
       ".dataframe > thead > tr,\n",
       ".dataframe > tbody > tr {\n",
       "  text-align: right;\n",
       "  white-space: pre-wrap;\n",
       "}\n",
       "</style>\n",
       "<small>shape: (1,)</small><table border=\"1\" class=\"dataframe\"><thead><tr><th>sum</th></tr><tr><td>u32</td></tr></thead><tbody><tr><td>0</td></tr></tbody></table></div>"
      ],
      "text/plain": [
       "shape: (1,)\n",
       "Series: 'sum' [u32]\n",
       "[\n",
       "\t0\n",
       "]"
      ]
     },
     "execution_count": 103,
     "metadata": {},
     "output_type": "execute_result"
    }
   ],
   "source": [
    "df_polars.null_count().sum().sum_horizontal()"
   ]
  },
  {
   "cell_type": "code",
   "execution_count": 82,
   "id": "e0602dd8",
   "metadata": {},
   "outputs": [
    {
     "data": {
      "application/vnd.plotly.v1+json": {
       "config": {
        "plotlyServerURL": "https://plot.ly"
       },
       "data": [
        {
         "hovertemplate": "role=%{x}<br>age=%{y}<extra></extra>",
         "legendgroup": "",
         "marker": {
          "color": "#636efa",
          "symbol": "circle"
         },
         "mode": "markers",
         "name": "",
         "orientation": "v",
         "showlegend": false,
         "type": "scatter",
         "x": [
          "Engineer",
          "Manager",
          "Engineer",
          "Engineer",
          "HR",
          "Engineer"
         ],
         "xaxis": "x",
         "y": {
          "bdata": "GR4jHBkm",
          "dtype": "i1"
         },
         "yaxis": "y"
        }
       ],
       "layout": {
        "legend": {
         "tracegroupgap": 0
        },
        "template": {
         "data": {
          "bar": [
           {
            "error_x": {
             "color": "#2a3f5f"
            },
            "error_y": {
             "color": "#2a3f5f"
            },
            "marker": {
             "line": {
              "color": "#E5ECF6",
              "width": 0.5
             },
             "pattern": {
              "fillmode": "overlay",
              "size": 10,
              "solidity": 0.2
             }
            },
            "type": "bar"
           }
          ],
          "barpolar": [
           {
            "marker": {
             "line": {
              "color": "#E5ECF6",
              "width": 0.5
             },
             "pattern": {
              "fillmode": "overlay",
              "size": 10,
              "solidity": 0.2
             }
            },
            "type": "barpolar"
           }
          ],
          "carpet": [
           {
            "aaxis": {
             "endlinecolor": "#2a3f5f",
             "gridcolor": "white",
             "linecolor": "white",
             "minorgridcolor": "white",
             "startlinecolor": "#2a3f5f"
            },
            "baxis": {
             "endlinecolor": "#2a3f5f",
             "gridcolor": "white",
             "linecolor": "white",
             "minorgridcolor": "white",
             "startlinecolor": "#2a3f5f"
            },
            "type": "carpet"
           }
          ],
          "choropleth": [
           {
            "colorbar": {
             "outlinewidth": 0,
             "ticks": ""
            },
            "type": "choropleth"
           }
          ],
          "contour": [
           {
            "colorbar": {
             "outlinewidth": 0,
             "ticks": ""
            },
            "colorscale": [
             [
              0,
              "#0d0887"
             ],
             [
              0.1111111111111111,
              "#46039f"
             ],
             [
              0.2222222222222222,
              "#7201a8"
             ],
             [
              0.3333333333333333,
              "#9c179e"
             ],
             [
              0.4444444444444444,
              "#bd3786"
             ],
             [
              0.5555555555555556,
              "#d8576b"
             ],
             [
              0.6666666666666666,
              "#ed7953"
             ],
             [
              0.7777777777777778,
              "#fb9f3a"
             ],
             [
              0.8888888888888888,
              "#fdca26"
             ],
             [
              1,
              "#f0f921"
             ]
            ],
            "type": "contour"
           }
          ],
          "contourcarpet": [
           {
            "colorbar": {
             "outlinewidth": 0,
             "ticks": ""
            },
            "type": "contourcarpet"
           }
          ],
          "heatmap": [
           {
            "colorbar": {
             "outlinewidth": 0,
             "ticks": ""
            },
            "colorscale": [
             [
              0,
              "#0d0887"
             ],
             [
              0.1111111111111111,
              "#46039f"
             ],
             [
              0.2222222222222222,
              "#7201a8"
             ],
             [
              0.3333333333333333,
              "#9c179e"
             ],
             [
              0.4444444444444444,
              "#bd3786"
             ],
             [
              0.5555555555555556,
              "#d8576b"
             ],
             [
              0.6666666666666666,
              "#ed7953"
             ],
             [
              0.7777777777777778,
              "#fb9f3a"
             ],
             [
              0.8888888888888888,
              "#fdca26"
             ],
             [
              1,
              "#f0f921"
             ]
            ],
            "type": "heatmap"
           }
          ],
          "histogram": [
           {
            "marker": {
             "pattern": {
              "fillmode": "overlay",
              "size": 10,
              "solidity": 0.2
             }
            },
            "type": "histogram"
           }
          ],
          "histogram2d": [
           {
            "colorbar": {
             "outlinewidth": 0,
             "ticks": ""
            },
            "colorscale": [
             [
              0,
              "#0d0887"
             ],
             [
              0.1111111111111111,
              "#46039f"
             ],
             [
              0.2222222222222222,
              "#7201a8"
             ],
             [
              0.3333333333333333,
              "#9c179e"
             ],
             [
              0.4444444444444444,
              "#bd3786"
             ],
             [
              0.5555555555555556,
              "#d8576b"
             ],
             [
              0.6666666666666666,
              "#ed7953"
             ],
             [
              0.7777777777777778,
              "#fb9f3a"
             ],
             [
              0.8888888888888888,
              "#fdca26"
             ],
             [
              1,
              "#f0f921"
             ]
            ],
            "type": "histogram2d"
           }
          ],
          "histogram2dcontour": [
           {
            "colorbar": {
             "outlinewidth": 0,
             "ticks": ""
            },
            "colorscale": [
             [
              0,
              "#0d0887"
             ],
             [
              0.1111111111111111,
              "#46039f"
             ],
             [
              0.2222222222222222,
              "#7201a8"
             ],
             [
              0.3333333333333333,
              "#9c179e"
             ],
             [
              0.4444444444444444,
              "#bd3786"
             ],
             [
              0.5555555555555556,
              "#d8576b"
             ],
             [
              0.6666666666666666,
              "#ed7953"
             ],
             [
              0.7777777777777778,
              "#fb9f3a"
             ],
             [
              0.8888888888888888,
              "#fdca26"
             ],
             [
              1,
              "#f0f921"
             ]
            ],
            "type": "histogram2dcontour"
           }
          ],
          "mesh3d": [
           {
            "colorbar": {
             "outlinewidth": 0,
             "ticks": ""
            },
            "type": "mesh3d"
           }
          ],
          "parcoords": [
           {
            "line": {
             "colorbar": {
              "outlinewidth": 0,
              "ticks": ""
             }
            },
            "type": "parcoords"
           }
          ],
          "pie": [
           {
            "automargin": true,
            "type": "pie"
           }
          ],
          "scatter": [
           {
            "fillpattern": {
             "fillmode": "overlay",
             "size": 10,
             "solidity": 0.2
            },
            "type": "scatter"
           }
          ],
          "scatter3d": [
           {
            "line": {
             "colorbar": {
              "outlinewidth": 0,
              "ticks": ""
             }
            },
            "marker": {
             "colorbar": {
              "outlinewidth": 0,
              "ticks": ""
             }
            },
            "type": "scatter3d"
           }
          ],
          "scattercarpet": [
           {
            "marker": {
             "colorbar": {
              "outlinewidth": 0,
              "ticks": ""
             }
            },
            "type": "scattercarpet"
           }
          ],
          "scattergeo": [
           {
            "marker": {
             "colorbar": {
              "outlinewidth": 0,
              "ticks": ""
             }
            },
            "type": "scattergeo"
           }
          ],
          "scattergl": [
           {
            "marker": {
             "colorbar": {
              "outlinewidth": 0,
              "ticks": ""
             }
            },
            "type": "scattergl"
           }
          ],
          "scattermap": [
           {
            "marker": {
             "colorbar": {
              "outlinewidth": 0,
              "ticks": ""
             }
            },
            "type": "scattermap"
           }
          ],
          "scattermapbox": [
           {
            "marker": {
             "colorbar": {
              "outlinewidth": 0,
              "ticks": ""
             }
            },
            "type": "scattermapbox"
           }
          ],
          "scatterpolar": [
           {
            "marker": {
             "colorbar": {
              "outlinewidth": 0,
              "ticks": ""
             }
            },
            "type": "scatterpolar"
           }
          ],
          "scatterpolargl": [
           {
            "marker": {
             "colorbar": {
              "outlinewidth": 0,
              "ticks": ""
             }
            },
            "type": "scatterpolargl"
           }
          ],
          "scatterternary": [
           {
            "marker": {
             "colorbar": {
              "outlinewidth": 0,
              "ticks": ""
             }
            },
            "type": "scatterternary"
           }
          ],
          "surface": [
           {
            "colorbar": {
             "outlinewidth": 0,
             "ticks": ""
            },
            "colorscale": [
             [
              0,
              "#0d0887"
             ],
             [
              0.1111111111111111,
              "#46039f"
             ],
             [
              0.2222222222222222,
              "#7201a8"
             ],
             [
              0.3333333333333333,
              "#9c179e"
             ],
             [
              0.4444444444444444,
              "#bd3786"
             ],
             [
              0.5555555555555556,
              "#d8576b"
             ],
             [
              0.6666666666666666,
              "#ed7953"
             ],
             [
              0.7777777777777778,
              "#fb9f3a"
             ],
             [
              0.8888888888888888,
              "#fdca26"
             ],
             [
              1,
              "#f0f921"
             ]
            ],
            "type": "surface"
           }
          ],
          "table": [
           {
            "cells": {
             "fill": {
              "color": "#EBF0F8"
             },
             "line": {
              "color": "white"
             }
            },
            "header": {
             "fill": {
              "color": "#C8D4E3"
             },
             "line": {
              "color": "white"
             }
            },
            "type": "table"
           }
          ]
         },
         "layout": {
          "annotationdefaults": {
           "arrowcolor": "#2a3f5f",
           "arrowhead": 0,
           "arrowwidth": 1
          },
          "autotypenumbers": "strict",
          "coloraxis": {
           "colorbar": {
            "outlinewidth": 0,
            "ticks": ""
           }
          },
          "colorscale": {
           "diverging": [
            [
             0,
             "#8e0152"
            ],
            [
             0.1,
             "#c51b7d"
            ],
            [
             0.2,
             "#de77ae"
            ],
            [
             0.3,
             "#f1b6da"
            ],
            [
             0.4,
             "#fde0ef"
            ],
            [
             0.5,
             "#f7f7f7"
            ],
            [
             0.6,
             "#e6f5d0"
            ],
            [
             0.7,
             "#b8e186"
            ],
            [
             0.8,
             "#7fbc41"
            ],
            [
             0.9,
             "#4d9221"
            ],
            [
             1,
             "#276419"
            ]
           ],
           "sequential": [
            [
             0,
             "#0d0887"
            ],
            [
             0.1111111111111111,
             "#46039f"
            ],
            [
             0.2222222222222222,
             "#7201a8"
            ],
            [
             0.3333333333333333,
             "#9c179e"
            ],
            [
             0.4444444444444444,
             "#bd3786"
            ],
            [
             0.5555555555555556,
             "#d8576b"
            ],
            [
             0.6666666666666666,
             "#ed7953"
            ],
            [
             0.7777777777777778,
             "#fb9f3a"
            ],
            [
             0.8888888888888888,
             "#fdca26"
            ],
            [
             1,
             "#f0f921"
            ]
           ],
           "sequentialminus": [
            [
             0,
             "#0d0887"
            ],
            [
             0.1111111111111111,
             "#46039f"
            ],
            [
             0.2222222222222222,
             "#7201a8"
            ],
            [
             0.3333333333333333,
             "#9c179e"
            ],
            [
             0.4444444444444444,
             "#bd3786"
            ],
            [
             0.5555555555555556,
             "#d8576b"
            ],
            [
             0.6666666666666666,
             "#ed7953"
            ],
            [
             0.7777777777777778,
             "#fb9f3a"
            ],
            [
             0.8888888888888888,
             "#fdca26"
            ],
            [
             1,
             "#f0f921"
            ]
           ]
          },
          "colorway": [
           "#636efa",
           "#EF553B",
           "#00cc96",
           "#ab63fa",
           "#FFA15A",
           "#19d3f3",
           "#FF6692",
           "#B6E880",
           "#FF97FF",
           "#FECB52"
          ],
          "font": {
           "color": "#2a3f5f"
          },
          "geo": {
           "bgcolor": "white",
           "lakecolor": "white",
           "landcolor": "#E5ECF6",
           "showlakes": true,
           "showland": true,
           "subunitcolor": "white"
          },
          "hoverlabel": {
           "align": "left"
          },
          "hovermode": "closest",
          "mapbox": {
           "style": "light"
          },
          "paper_bgcolor": "white",
          "plot_bgcolor": "#E5ECF6",
          "polar": {
           "angularaxis": {
            "gridcolor": "white",
            "linecolor": "white",
            "ticks": ""
           },
           "bgcolor": "#E5ECF6",
           "radialaxis": {
            "gridcolor": "white",
            "linecolor": "white",
            "ticks": ""
           }
          },
          "scene": {
           "xaxis": {
            "backgroundcolor": "#E5ECF6",
            "gridcolor": "white",
            "gridwidth": 2,
            "linecolor": "white",
            "showbackground": true,
            "ticks": "",
            "zerolinecolor": "white"
           },
           "yaxis": {
            "backgroundcolor": "#E5ECF6",
            "gridcolor": "white",
            "gridwidth": 2,
            "linecolor": "white",
            "showbackground": true,
            "ticks": "",
            "zerolinecolor": "white"
           },
           "zaxis": {
            "backgroundcolor": "#E5ECF6",
            "gridcolor": "white",
            "gridwidth": 2,
            "linecolor": "white",
            "showbackground": true,
            "ticks": "",
            "zerolinecolor": "white"
           }
          },
          "shapedefaults": {
           "line": {
            "color": "#2a3f5f"
           }
          },
          "ternary": {
           "aaxis": {
            "gridcolor": "white",
            "linecolor": "white",
            "ticks": ""
           },
           "baxis": {
            "gridcolor": "white",
            "linecolor": "white",
            "ticks": ""
           },
           "bgcolor": "#E5ECF6",
           "caxis": {
            "gridcolor": "white",
            "linecolor": "white",
            "ticks": ""
           }
          },
          "title": {
           "x": 0.05
          },
          "xaxis": {
           "automargin": true,
           "gridcolor": "white",
           "linecolor": "white",
           "ticks": "",
           "title": {
            "standoff": 15
           },
           "zerolinecolor": "white",
           "zerolinewidth": 2
          },
          "yaxis": {
           "automargin": true,
           "gridcolor": "white",
           "linecolor": "white",
           "ticks": "",
           "title": {
            "standoff": 15
           },
           "zerolinecolor": "white",
           "zerolinewidth": 2
          }
         }
        },
        "title": {
         "text": "age by role - Scatter Plot"
        },
        "xaxis": {
         "anchor": "y",
         "domain": [
          0,
          1
         ],
         "title": {
          "text": "role"
         }
        },
        "yaxis": {
         "anchor": "x",
         "domain": [
          0,
          1
         ],
         "title": {
          "text": "age"
         }
        }
       }
      }
     },
     "metadata": {},
     "output_type": "display_data"
    }
   ],
   "source": [
    "eda = ExploratoryDataAnalysis(data=df_polars)\n",
    "# eda.group_analysis(groupby=\"role\", numeric_cols=[\"age\"])\n",
    "\n",
    "# eda.plot_categorical_distribution(plot_type=\"all\")\n",
    "# eda.plot_correlation_heatmap(method=\"pearson\")\n",
    "\n",
    "# eda._calculate_outliers_iqr(series=nw_df[\"age\"])[0]\n",
    "\n",
    "# pl.int_range(0, 5)\n",
    "# np.arange(0, 5)\n",
    "\n",
    "\n",
    "eda.plot_group_analysis(groupby=\"role\", numeric_col=\"age\", plot_type=\"scatter\")"
   ]
  },
  {
   "cell_type": "code",
   "execution_count": null,
   "id": "179a2454",
   "metadata": {},
   "outputs": [],
   "source": []
  },
  {
   "cell_type": "code",
   "execution_count": null,
   "id": "438dc4d5",
   "metadata": {},
   "outputs": [],
   "source": []
  },
  {
   "cell_type": "code",
   "execution_count": null,
   "id": "83de0884",
   "metadata": {},
   "outputs": [],
   "source": []
  },
  {
   "cell_type": "code",
   "execution_count": null,
   "id": "346c649a",
   "metadata": {},
   "outputs": [],
   "source": []
  },
  {
   "cell_type": "code",
   "execution_count": null,
   "id": "d7c75d03",
   "metadata": {},
   "outputs": [],
   "source": []
  },
  {
   "cell_type": "code",
   "execution_count": null,
   "id": "0314b337",
   "metadata": {},
   "outputs": [],
   "source": [
    "fp: str = \"../data/bikes_2024.parquet\"\n",
    "data_table: pl.DataFrame = pl.read_parquet(fp)\n",
    "console.print(f\"Shape: {data_table.shape}\", style=\"info\")\n",
    "\n",
    "data_table.head(200)"
   ]
  },
  {
   "cell_type": "code",
   "execution_count": null,
   "id": "740bdd6f",
   "metadata": {},
   "outputs": [],
   "source": []
  },
  {
   "cell_type": "code",
   "execution_count": null,
   "id": "d31337e7",
   "metadata": {},
   "outputs": [],
   "source": []
  },
  {
   "cell_type": "code",
   "execution_count": null,
   "id": "fb1dcb48",
   "metadata": {},
   "outputs": [],
   "source": []
  },
  {
   "cell_type": "code",
   "execution_count": null,
   "id": "25eaaa13",
   "metadata": {},
   "outputs": [],
   "source": []
  }
 ],
 "metadata": {
  "kernelspec": {
   "display_name": "Bike-Rental-Prediction (3.12.11)",
   "language": "python",
   "name": "python3"
  },
  "language_info": {
   "codemirror_mode": {
    "name": "ipython",
    "version": 3
   },
   "file_extension": ".py",
   "mimetype": "text/x-python",
   "name": "python",
   "nbconvert_exporter": "python",
   "pygments_lexer": "ipython3",
   "version": "3.12.11"
  }
 },
 "nbformat": 4,
 "nbformat_minor": 5
}
