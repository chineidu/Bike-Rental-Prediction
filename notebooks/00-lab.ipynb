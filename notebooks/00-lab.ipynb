{
 "cells": [
  {
   "cell_type": "markdown",
   "id": "236f62b9",
   "metadata": {},
   "source": [
    "# Lab For Experimentation"
   ]
  },
  {
   "cell_type": "code",
   "execution_count": 1,
   "id": "917effb0",
   "metadata": {},
   "outputs": [],
   "source": [
    "import json\n",
    "import warnings\n",
    "from typing import Any, Literal\n",
    "\n",
    "import numpy as np\n",
    "import pandas as pd\n",
    "import polars as pl\n",
    "from rich.console import Console\n",
    "from rich.theme import Theme\n",
    "\n",
    "custom_theme = Theme(\n",
    "    {\n",
    "        \"white\": \"#FFFFFF\",  # Bright white\n",
    "        \"info\": \"#00FF00\",  # Bright green\n",
    "        \"warning\": \"#FFD700\",  # Bright gold\n",
    "        \"error\": \"#FF1493\",  # Deep pink\n",
    "        \"success\": \"#00FFFF\",  # Cyan\n",
    "        \"highlight\": \"#FF4500\",  # Orange-red\n",
    "    }\n",
    ")\n",
    "console = Console(theme=custom_theme)\n",
    "\n",
    "# Visualization\n",
    "# import matplotlib.pyplot as plt\n",
    "\n",
    "# NumPy settings\n",
    "np.set_printoptions(precision=4)\n",
    "\n",
    "# Pandas settings\n",
    "pd.options.display.max_rows = 1_000\n",
    "pd.options.display.max_columns = 1_000\n",
    "pd.options.display.max_colwidth = 600\n",
    "\n",
    "# Polars settings\n",
    "pl.Config.set_fmt_str_lengths(1_000)\n",
    "pl.Config.set_tbl_cols(n=1_000)\n",
    "pl.Config.set_tbl_rows(n=200)\n",
    "\n",
    "warnings.filterwarnings(\"ignore\")\n",
    "\n",
    "# Black code formatter (Optional)\n",
    "%load_ext lab_black\n",
    "\n",
    "# auto reload imports\n",
    "%load_ext autoreload\n",
    "%autoreload 2"
   ]
  },
  {
   "cell_type": "code",
   "execution_count": 2,
   "id": "228c8d0e",
   "metadata": {},
   "outputs": [
    {
     "data": {
      "text/plain": [
       "{'name': 'Bike Rental Prediction', 'category': 'A'}"
      ]
     },
     "execution_count": 2,
     "metadata": {},
     "output_type": "execute_result"
    }
   ],
   "source": [
    "def go_up_from_current_directory(*, go_up: int = 1) -> None:\n",
    "    \"\"\"This is used to up a number of directories.\n",
    "\n",
    "    Params:\n",
    "    -------\n",
    "    go_up: int, default=1\n",
    "        This indicates the number of times to go back up from the current directory.\n",
    "\n",
    "    Returns:\n",
    "    --------\n",
    "    None\n",
    "    \"\"\"\n",
    "    import os\n",
    "    import sys\n",
    "\n",
    "    CONST: str = \"../\"\n",
    "    NUM: str = CONST * go_up\n",
    "\n",
    "    # Goto the previous directory\n",
    "    prev_directory = os.path.join(os.path.dirname(__name__), NUM)\n",
    "    # Get the 'absolute path' of the previous directory\n",
    "    abs_path_prev_directory = os.path.abspath(prev_directory)\n",
    "\n",
    "    # Add the path to the System paths\n",
    "    sys.path.insert(0, abs_path_prev_directory)\n",
    "    print(abs_path_prev_directory)\n",
    "\n",
    "\n",
    "# Demo (Prevents ruff from removing the unused module import)\n",
    "name: Any\n",
    "category: Literal[\"A\", \"B\", \"C\"]\n",
    "json.loads('{\"name\": \"Bike Rental Prediction\", \"category\": \"A\"}')"
   ]
  },
  {
   "cell_type": "code",
   "execution_count": 3,
   "id": "651f550e",
   "metadata": {},
   "outputs": [
    {
     "name": "stdout",
     "output_type": "stream",
     "text": [
      "/Users/mac/Desktop/Projects/Bike-Rental-Prediction\n"
     ]
    }
   ],
   "source": [
    "go_up_from_current_directory(go_up=1)"
   ]
  },
  {
   "cell_type": "code",
   "execution_count": null,
   "id": "c6889f3d",
   "metadata": {},
   "outputs": [],
   "source": []
  },
  {
   "cell_type": "code",
   "execution_count": 4,
   "id": "83dabdae",
   "metadata": {},
   "outputs": [],
   "source": [
    "from sklearn.ensemble import RandomForestRegressor\n",
    "from sklearn.model_selection import train_test_split\n",
    "from sklearn.metrics import root_mean_squared_error"
   ]
  },
  {
   "cell_type": "code",
   "execution_count": 5,
   "id": "0a5870a8",
   "metadata": {},
   "outputs": [
    {
     "data": {
      "text/html": [
       "<style>#sk-container-id-1 {\n",
       "  /* Definition of color scheme common for light and dark mode */\n",
       "  --sklearn-color-text: #000;\n",
       "  --sklearn-color-text-muted: #666;\n",
       "  --sklearn-color-line: gray;\n",
       "  /* Definition of color scheme for unfitted estimators */\n",
       "  --sklearn-color-unfitted-level-0: #fff5e6;\n",
       "  --sklearn-color-unfitted-level-1: #f6e4d2;\n",
       "  --sklearn-color-unfitted-level-2: #ffe0b3;\n",
       "  --sklearn-color-unfitted-level-3: chocolate;\n",
       "  /* Definition of color scheme for fitted estimators */\n",
       "  --sklearn-color-fitted-level-0: #f0f8ff;\n",
       "  --sklearn-color-fitted-level-1: #d4ebff;\n",
       "  --sklearn-color-fitted-level-2: #b3dbfd;\n",
       "  --sklearn-color-fitted-level-3: cornflowerblue;\n",
       "\n",
       "  /* Specific color for light theme */\n",
       "  --sklearn-color-text-on-default-background: var(--sg-text-color, var(--theme-code-foreground, var(--jp-content-font-color1, black)));\n",
       "  --sklearn-color-background: var(--sg-background-color, var(--theme-background, var(--jp-layout-color0, white)));\n",
       "  --sklearn-color-border-box: var(--sg-text-color, var(--theme-code-foreground, var(--jp-content-font-color1, black)));\n",
       "  --sklearn-color-icon: #696969;\n",
       "\n",
       "  @media (prefers-color-scheme: dark) {\n",
       "    /* Redefinition of color scheme for dark theme */\n",
       "    --sklearn-color-text-on-default-background: var(--sg-text-color, var(--theme-code-foreground, var(--jp-content-font-color1, white)));\n",
       "    --sklearn-color-background: var(--sg-background-color, var(--theme-background, var(--jp-layout-color0, #111)));\n",
       "    --sklearn-color-border-box: var(--sg-text-color, var(--theme-code-foreground, var(--jp-content-font-color1, white)));\n",
       "    --sklearn-color-icon: #878787;\n",
       "  }\n",
       "}\n",
       "\n",
       "#sk-container-id-1 {\n",
       "  color: var(--sklearn-color-text);\n",
       "}\n",
       "\n",
       "#sk-container-id-1 pre {\n",
       "  padding: 0;\n",
       "}\n",
       "\n",
       "#sk-container-id-1 input.sk-hidden--visually {\n",
       "  border: 0;\n",
       "  clip: rect(1px 1px 1px 1px);\n",
       "  clip: rect(1px, 1px, 1px, 1px);\n",
       "  height: 1px;\n",
       "  margin: -1px;\n",
       "  overflow: hidden;\n",
       "  padding: 0;\n",
       "  position: absolute;\n",
       "  width: 1px;\n",
       "}\n",
       "\n",
       "#sk-container-id-1 div.sk-dashed-wrapped {\n",
       "  border: 1px dashed var(--sklearn-color-line);\n",
       "  margin: 0 0.4em 0.5em 0.4em;\n",
       "  box-sizing: border-box;\n",
       "  padding-bottom: 0.4em;\n",
       "  background-color: var(--sklearn-color-background);\n",
       "}\n",
       "\n",
       "#sk-container-id-1 div.sk-container {\n",
       "  /* jupyter's `normalize.less` sets `[hidden] { display: none; }`\n",
       "     but bootstrap.min.css set `[hidden] { display: none !important; }`\n",
       "     so we also need the `!important` here to be able to override the\n",
       "     default hidden behavior on the sphinx rendered scikit-learn.org.\n",
       "     See: https://github.com/scikit-learn/scikit-learn/issues/21755 */\n",
       "  display: inline-block !important;\n",
       "  position: relative;\n",
       "}\n",
       "\n",
       "#sk-container-id-1 div.sk-text-repr-fallback {\n",
       "  display: none;\n",
       "}\n",
       "\n",
       "div.sk-parallel-item,\n",
       "div.sk-serial,\n",
       "div.sk-item {\n",
       "  /* draw centered vertical line to link estimators */\n",
       "  background-image: linear-gradient(var(--sklearn-color-text-on-default-background), var(--sklearn-color-text-on-default-background));\n",
       "  background-size: 2px 100%;\n",
       "  background-repeat: no-repeat;\n",
       "  background-position: center center;\n",
       "}\n",
       "\n",
       "/* Parallel-specific style estimator block */\n",
       "\n",
       "#sk-container-id-1 div.sk-parallel-item::after {\n",
       "  content: \"\";\n",
       "  width: 100%;\n",
       "  border-bottom: 2px solid var(--sklearn-color-text-on-default-background);\n",
       "  flex-grow: 1;\n",
       "}\n",
       "\n",
       "#sk-container-id-1 div.sk-parallel {\n",
       "  display: flex;\n",
       "  align-items: stretch;\n",
       "  justify-content: center;\n",
       "  background-color: var(--sklearn-color-background);\n",
       "  position: relative;\n",
       "}\n",
       "\n",
       "#sk-container-id-1 div.sk-parallel-item {\n",
       "  display: flex;\n",
       "  flex-direction: column;\n",
       "}\n",
       "\n",
       "#sk-container-id-1 div.sk-parallel-item:first-child::after {\n",
       "  align-self: flex-end;\n",
       "  width: 50%;\n",
       "}\n",
       "\n",
       "#sk-container-id-1 div.sk-parallel-item:last-child::after {\n",
       "  align-self: flex-start;\n",
       "  width: 50%;\n",
       "}\n",
       "\n",
       "#sk-container-id-1 div.sk-parallel-item:only-child::after {\n",
       "  width: 0;\n",
       "}\n",
       "\n",
       "/* Serial-specific style estimator block */\n",
       "\n",
       "#sk-container-id-1 div.sk-serial {\n",
       "  display: flex;\n",
       "  flex-direction: column;\n",
       "  align-items: center;\n",
       "  background-color: var(--sklearn-color-background);\n",
       "  padding-right: 1em;\n",
       "  padding-left: 1em;\n",
       "}\n",
       "\n",
       "\n",
       "/* Toggleable style: style used for estimator/Pipeline/ColumnTransformer box that is\n",
       "clickable and can be expanded/collapsed.\n",
       "- Pipeline and ColumnTransformer use this feature and define the default style\n",
       "- Estimators will overwrite some part of the style using the `sk-estimator` class\n",
       "*/\n",
       "\n",
       "/* Pipeline and ColumnTransformer style (default) */\n",
       "\n",
       "#sk-container-id-1 div.sk-toggleable {\n",
       "  /* Default theme specific background. It is overwritten whether we have a\n",
       "  specific estimator or a Pipeline/ColumnTransformer */\n",
       "  background-color: var(--sklearn-color-background);\n",
       "}\n",
       "\n",
       "/* Toggleable label */\n",
       "#sk-container-id-1 label.sk-toggleable__label {\n",
       "  cursor: pointer;\n",
       "  display: flex;\n",
       "  width: 100%;\n",
       "  margin-bottom: 0;\n",
       "  padding: 0.5em;\n",
       "  box-sizing: border-box;\n",
       "  text-align: center;\n",
       "  align-items: start;\n",
       "  justify-content: space-between;\n",
       "  gap: 0.5em;\n",
       "}\n",
       "\n",
       "#sk-container-id-1 label.sk-toggleable__label .caption {\n",
       "  font-size: 0.6rem;\n",
       "  font-weight: lighter;\n",
       "  color: var(--sklearn-color-text-muted);\n",
       "}\n",
       "\n",
       "#sk-container-id-1 label.sk-toggleable__label-arrow:before {\n",
       "  /* Arrow on the left of the label */\n",
       "  content: \"▸\";\n",
       "  float: left;\n",
       "  margin-right: 0.25em;\n",
       "  color: var(--sklearn-color-icon);\n",
       "}\n",
       "\n",
       "#sk-container-id-1 label.sk-toggleable__label-arrow:hover:before {\n",
       "  color: var(--sklearn-color-text);\n",
       "}\n",
       "\n",
       "/* Toggleable content - dropdown */\n",
       "\n",
       "#sk-container-id-1 div.sk-toggleable__content {\n",
       "  display: none;\n",
       "  text-align: left;\n",
       "  /* unfitted */\n",
       "  background-color: var(--sklearn-color-unfitted-level-0);\n",
       "}\n",
       "\n",
       "#sk-container-id-1 div.sk-toggleable__content.fitted {\n",
       "  /* fitted */\n",
       "  background-color: var(--sklearn-color-fitted-level-0);\n",
       "}\n",
       "\n",
       "#sk-container-id-1 div.sk-toggleable__content pre {\n",
       "  margin: 0.2em;\n",
       "  border-radius: 0.25em;\n",
       "  color: var(--sklearn-color-text);\n",
       "  /* unfitted */\n",
       "  background-color: var(--sklearn-color-unfitted-level-0);\n",
       "}\n",
       "\n",
       "#sk-container-id-1 div.sk-toggleable__content.fitted pre {\n",
       "  /* unfitted */\n",
       "  background-color: var(--sklearn-color-fitted-level-0);\n",
       "}\n",
       "\n",
       "#sk-container-id-1 input.sk-toggleable__control:checked~div.sk-toggleable__content {\n",
       "  /* Expand drop-down */\n",
       "  display: block;\n",
       "  width: 100%;\n",
       "  overflow: visible;\n",
       "}\n",
       "\n",
       "#sk-container-id-1 input.sk-toggleable__control:checked~label.sk-toggleable__label-arrow:before {\n",
       "  content: \"▾\";\n",
       "}\n",
       "\n",
       "/* Pipeline/ColumnTransformer-specific style */\n",
       "\n",
       "#sk-container-id-1 div.sk-label input.sk-toggleable__control:checked~label.sk-toggleable__label {\n",
       "  color: var(--sklearn-color-text);\n",
       "  background-color: var(--sklearn-color-unfitted-level-2);\n",
       "}\n",
       "\n",
       "#sk-container-id-1 div.sk-label.fitted input.sk-toggleable__control:checked~label.sk-toggleable__label {\n",
       "  background-color: var(--sklearn-color-fitted-level-2);\n",
       "}\n",
       "\n",
       "/* Estimator-specific style */\n",
       "\n",
       "/* Colorize estimator box */\n",
       "#sk-container-id-1 div.sk-estimator input.sk-toggleable__control:checked~label.sk-toggleable__label {\n",
       "  /* unfitted */\n",
       "  background-color: var(--sklearn-color-unfitted-level-2);\n",
       "}\n",
       "\n",
       "#sk-container-id-1 div.sk-estimator.fitted input.sk-toggleable__control:checked~label.sk-toggleable__label {\n",
       "  /* fitted */\n",
       "  background-color: var(--sklearn-color-fitted-level-2);\n",
       "}\n",
       "\n",
       "#sk-container-id-1 div.sk-label label.sk-toggleable__label,\n",
       "#sk-container-id-1 div.sk-label label {\n",
       "  /* The background is the default theme color */\n",
       "  color: var(--sklearn-color-text-on-default-background);\n",
       "}\n",
       "\n",
       "/* On hover, darken the color of the background */\n",
       "#sk-container-id-1 div.sk-label:hover label.sk-toggleable__label {\n",
       "  color: var(--sklearn-color-text);\n",
       "  background-color: var(--sklearn-color-unfitted-level-2);\n",
       "}\n",
       "\n",
       "/* Label box, darken color on hover, fitted */\n",
       "#sk-container-id-1 div.sk-label.fitted:hover label.sk-toggleable__label.fitted {\n",
       "  color: var(--sklearn-color-text);\n",
       "  background-color: var(--sklearn-color-fitted-level-2);\n",
       "}\n",
       "\n",
       "/* Estimator label */\n",
       "\n",
       "#sk-container-id-1 div.sk-label label {\n",
       "  font-family: monospace;\n",
       "  font-weight: bold;\n",
       "  display: inline-block;\n",
       "  line-height: 1.2em;\n",
       "}\n",
       "\n",
       "#sk-container-id-1 div.sk-label-container {\n",
       "  text-align: center;\n",
       "}\n",
       "\n",
       "/* Estimator-specific */\n",
       "#sk-container-id-1 div.sk-estimator {\n",
       "  font-family: monospace;\n",
       "  border: 1px dotted var(--sklearn-color-border-box);\n",
       "  border-radius: 0.25em;\n",
       "  box-sizing: border-box;\n",
       "  margin-bottom: 0.5em;\n",
       "  /* unfitted */\n",
       "  background-color: var(--sklearn-color-unfitted-level-0);\n",
       "}\n",
       "\n",
       "#sk-container-id-1 div.sk-estimator.fitted {\n",
       "  /* fitted */\n",
       "  background-color: var(--sklearn-color-fitted-level-0);\n",
       "}\n",
       "\n",
       "/* on hover */\n",
       "#sk-container-id-1 div.sk-estimator:hover {\n",
       "  /* unfitted */\n",
       "  background-color: var(--sklearn-color-unfitted-level-2);\n",
       "}\n",
       "\n",
       "#sk-container-id-1 div.sk-estimator.fitted:hover {\n",
       "  /* fitted */\n",
       "  background-color: var(--sklearn-color-fitted-level-2);\n",
       "}\n",
       "\n",
       "/* Specification for estimator info (e.g. \"i\" and \"?\") */\n",
       "\n",
       "/* Common style for \"i\" and \"?\" */\n",
       "\n",
       ".sk-estimator-doc-link,\n",
       "a:link.sk-estimator-doc-link,\n",
       "a:visited.sk-estimator-doc-link {\n",
       "  float: right;\n",
       "  font-size: smaller;\n",
       "  line-height: 1em;\n",
       "  font-family: monospace;\n",
       "  background-color: var(--sklearn-color-background);\n",
       "  border-radius: 1em;\n",
       "  height: 1em;\n",
       "  width: 1em;\n",
       "  text-decoration: none !important;\n",
       "  margin-left: 0.5em;\n",
       "  text-align: center;\n",
       "  /* unfitted */\n",
       "  border: var(--sklearn-color-unfitted-level-1) 1pt solid;\n",
       "  color: var(--sklearn-color-unfitted-level-1);\n",
       "}\n",
       "\n",
       ".sk-estimator-doc-link.fitted,\n",
       "a:link.sk-estimator-doc-link.fitted,\n",
       "a:visited.sk-estimator-doc-link.fitted {\n",
       "  /* fitted */\n",
       "  border: var(--sklearn-color-fitted-level-1) 1pt solid;\n",
       "  color: var(--sklearn-color-fitted-level-1);\n",
       "}\n",
       "\n",
       "/* On hover */\n",
       "div.sk-estimator:hover .sk-estimator-doc-link:hover,\n",
       ".sk-estimator-doc-link:hover,\n",
       "div.sk-label-container:hover .sk-estimator-doc-link:hover,\n",
       ".sk-estimator-doc-link:hover {\n",
       "  /* unfitted */\n",
       "  background-color: var(--sklearn-color-unfitted-level-3);\n",
       "  color: var(--sklearn-color-background);\n",
       "  text-decoration: none;\n",
       "}\n",
       "\n",
       "div.sk-estimator.fitted:hover .sk-estimator-doc-link.fitted:hover,\n",
       ".sk-estimator-doc-link.fitted:hover,\n",
       "div.sk-label-container:hover .sk-estimator-doc-link.fitted:hover,\n",
       ".sk-estimator-doc-link.fitted:hover {\n",
       "  /* fitted */\n",
       "  background-color: var(--sklearn-color-fitted-level-3);\n",
       "  color: var(--sklearn-color-background);\n",
       "  text-decoration: none;\n",
       "}\n",
       "\n",
       "/* Span, style for the box shown on hovering the info icon */\n",
       ".sk-estimator-doc-link span {\n",
       "  display: none;\n",
       "  z-index: 9999;\n",
       "  position: relative;\n",
       "  font-weight: normal;\n",
       "  right: .2ex;\n",
       "  padding: .5ex;\n",
       "  margin: .5ex;\n",
       "  width: min-content;\n",
       "  min-width: 20ex;\n",
       "  max-width: 50ex;\n",
       "  color: var(--sklearn-color-text);\n",
       "  box-shadow: 2pt 2pt 4pt #999;\n",
       "  /* unfitted */\n",
       "  background: var(--sklearn-color-unfitted-level-0);\n",
       "  border: .5pt solid var(--sklearn-color-unfitted-level-3);\n",
       "}\n",
       "\n",
       ".sk-estimator-doc-link.fitted span {\n",
       "  /* fitted */\n",
       "  background: var(--sklearn-color-fitted-level-0);\n",
       "  border: var(--sklearn-color-fitted-level-3);\n",
       "}\n",
       "\n",
       ".sk-estimator-doc-link:hover span {\n",
       "  display: block;\n",
       "}\n",
       "\n",
       "/* \"?\"-specific style due to the `<a>` HTML tag */\n",
       "\n",
       "#sk-container-id-1 a.estimator_doc_link {\n",
       "  float: right;\n",
       "  font-size: 1rem;\n",
       "  line-height: 1em;\n",
       "  font-family: monospace;\n",
       "  background-color: var(--sklearn-color-background);\n",
       "  border-radius: 1rem;\n",
       "  height: 1rem;\n",
       "  width: 1rem;\n",
       "  text-decoration: none;\n",
       "  /* unfitted */\n",
       "  color: var(--sklearn-color-unfitted-level-1);\n",
       "  border: var(--sklearn-color-unfitted-level-1) 1pt solid;\n",
       "}\n",
       "\n",
       "#sk-container-id-1 a.estimator_doc_link.fitted {\n",
       "  /* fitted */\n",
       "  border: var(--sklearn-color-fitted-level-1) 1pt solid;\n",
       "  color: var(--sklearn-color-fitted-level-1);\n",
       "}\n",
       "\n",
       "/* On hover */\n",
       "#sk-container-id-1 a.estimator_doc_link:hover {\n",
       "  /* unfitted */\n",
       "  background-color: var(--sklearn-color-unfitted-level-3);\n",
       "  color: var(--sklearn-color-background);\n",
       "  text-decoration: none;\n",
       "}\n",
       "\n",
       "#sk-container-id-1 a.estimator_doc_link.fitted:hover {\n",
       "  /* fitted */\n",
       "  background-color: var(--sklearn-color-fitted-level-3);\n",
       "}\n",
       "\n",
       ".estimator-table summary {\n",
       "    padding: .5rem;\n",
       "    font-family: monospace;\n",
       "    cursor: pointer;\n",
       "}\n",
       "\n",
       ".estimator-table details[open] {\n",
       "    padding-left: 0.1rem;\n",
       "    padding-right: 0.1rem;\n",
       "    padding-bottom: 0.3rem;\n",
       "}\n",
       "\n",
       ".estimator-table .parameters-table {\n",
       "    margin-left: auto !important;\n",
       "    margin-right: auto !important;\n",
       "}\n",
       "\n",
       ".estimator-table .parameters-table tr:nth-child(odd) {\n",
       "    background-color: #fff;\n",
       "}\n",
       "\n",
       ".estimator-table .parameters-table tr:nth-child(even) {\n",
       "    background-color: #f6f6f6;\n",
       "}\n",
       "\n",
       ".estimator-table .parameters-table tr:hover {\n",
       "    background-color: #e0e0e0;\n",
       "}\n",
       "\n",
       ".estimator-table table td {\n",
       "    border: 1px solid rgba(106, 105, 104, 0.232);\n",
       "}\n",
       "\n",
       ".user-set td {\n",
       "    color:rgb(255, 94, 0);\n",
       "    text-align: left;\n",
       "}\n",
       "\n",
       ".user-set td.value pre {\n",
       "    color:rgb(255, 94, 0) !important;\n",
       "    background-color: transparent !important;\n",
       "}\n",
       "\n",
       ".default td {\n",
       "    color: black;\n",
       "    text-align: left;\n",
       "}\n",
       "\n",
       ".user-set td i,\n",
       ".default td i {\n",
       "    color: black;\n",
       "}\n",
       "\n",
       ".copy-paste-icon {\n",
       "    background-image: url(data:image/svg+xml;base64,PHN2ZyB4bWxucz0iaHR0cDovL3d3dy53My5vcmcvMjAwMC9zdmciIHZpZXdCb3g9IjAgMCA0NDggNTEyIj48IS0tIUZvbnQgQXdlc29tZSBGcmVlIDYuNy4yIGJ5IEBmb250YXdlc29tZSAtIGh0dHBzOi8vZm9udGF3ZXNvbWUuY29tIExpY2Vuc2UgLSBodHRwczovL2ZvbnRhd2Vzb21lLmNvbS9saWNlbnNlL2ZyZWUgQ29weXJpZ2h0IDIwMjUgRm9udGljb25zLCBJbmMuLS0+PHBhdGggZD0iTTIwOCAwTDMzMi4xIDBjMTIuNyAwIDI0LjkgNS4xIDMzLjkgMTQuMWw2Ny45IDY3LjljOSA5IDE0LjEgMjEuMiAxNC4xIDMzLjlMNDQ4IDMzNmMwIDI2LjUtMjEuNSA0OC00OCA0OGwtMTkyIDBjLTI2LjUgMC00OC0yMS41LTQ4LTQ4bDAtMjg4YzAtMjYuNSAyMS41LTQ4IDQ4LTQ4ek00OCAxMjhsODAgMCAwIDY0LTY0IDAgMCAyNTYgMTkyIDAgMC0zMiA2NCAwIDAgNDhjMCAyNi41LTIxLjUgNDgtNDggNDhMNDggNTEyYy0yNi41IDAtNDgtMjEuNS00OC00OEwwIDE3NmMwLTI2LjUgMjEuNS00OCA0OC00OHoiLz48L3N2Zz4=);\n",
       "    background-repeat: no-repeat;\n",
       "    background-size: 14px 14px;\n",
       "    background-position: 0;\n",
       "    display: inline-block;\n",
       "    width: 14px;\n",
       "    height: 14px;\n",
       "    cursor: pointer;\n",
       "}\n",
       "</style><body><div id=\"sk-container-id-1\" class=\"sk-top-container\"><div class=\"sk-text-repr-fallback\"><pre>RandomForestRegressor(max_depth=10)</pre><b>In a Jupyter environment, please rerun this cell to show the HTML representation or trust the notebook. <br />On GitHub, the HTML representation is unable to render, please try loading this page with nbviewer.org.</b></div><div class=\"sk-container\" hidden><div class=\"sk-item\"><div class=\"sk-estimator fitted sk-toggleable\"><input class=\"sk-toggleable__control sk-hidden--visually\" id=\"sk-estimator-id-1\" type=\"checkbox\" checked><label for=\"sk-estimator-id-1\" class=\"sk-toggleable__label fitted sk-toggleable__label-arrow\"><div><div>RandomForestRegressor</div></div><div><a class=\"sk-estimator-doc-link fitted\" rel=\"noreferrer\" target=\"_blank\" href=\"https://scikit-learn.org/1.7/modules/generated/sklearn.ensemble.RandomForestRegressor.html\">?<span>Documentation for RandomForestRegressor</span></a><span class=\"sk-estimator-doc-link fitted\">i<span>Fitted</span></span></div></label><div class=\"sk-toggleable__content fitted\" data-param-prefix=\"\">\n",
       "        <div class=\"estimator-table\">\n",
       "            <details>\n",
       "                <summary>Parameters</summary>\n",
       "                <table class=\"parameters-table\">\n",
       "                  <tbody>\n",
       "                    \n",
       "        <tr class=\"default\">\n",
       "            <td><i class=\"copy-paste-icon\"\n",
       "                 onclick=\"copyToClipboard('n_estimators',\n",
       "                          this.parentElement.nextElementSibling)\"\n",
       "            ></i></td>\n",
       "            <td class=\"param\">n_estimators&nbsp;</td>\n",
       "            <td class=\"value\">100</td>\n",
       "        </tr>\n",
       "    \n",
       "\n",
       "        <tr class=\"default\">\n",
       "            <td><i class=\"copy-paste-icon\"\n",
       "                 onclick=\"copyToClipboard('criterion',\n",
       "                          this.parentElement.nextElementSibling)\"\n",
       "            ></i></td>\n",
       "            <td class=\"param\">criterion&nbsp;</td>\n",
       "            <td class=\"value\">&#x27;squared_error&#x27;</td>\n",
       "        </tr>\n",
       "    \n",
       "\n",
       "        <tr class=\"user-set\">\n",
       "            <td><i class=\"copy-paste-icon\"\n",
       "                 onclick=\"copyToClipboard('max_depth',\n",
       "                          this.parentElement.nextElementSibling)\"\n",
       "            ></i></td>\n",
       "            <td class=\"param\">max_depth&nbsp;</td>\n",
       "            <td class=\"value\">10</td>\n",
       "        </tr>\n",
       "    \n",
       "\n",
       "        <tr class=\"default\">\n",
       "            <td><i class=\"copy-paste-icon\"\n",
       "                 onclick=\"copyToClipboard('min_samples_split',\n",
       "                          this.parentElement.nextElementSibling)\"\n",
       "            ></i></td>\n",
       "            <td class=\"param\">min_samples_split&nbsp;</td>\n",
       "            <td class=\"value\">2</td>\n",
       "        </tr>\n",
       "    \n",
       "\n",
       "        <tr class=\"default\">\n",
       "            <td><i class=\"copy-paste-icon\"\n",
       "                 onclick=\"copyToClipboard('min_samples_leaf',\n",
       "                          this.parentElement.nextElementSibling)\"\n",
       "            ></i></td>\n",
       "            <td class=\"param\">min_samples_leaf&nbsp;</td>\n",
       "            <td class=\"value\">1</td>\n",
       "        </tr>\n",
       "    \n",
       "\n",
       "        <tr class=\"default\">\n",
       "            <td><i class=\"copy-paste-icon\"\n",
       "                 onclick=\"copyToClipboard('min_weight_fraction_leaf',\n",
       "                          this.parentElement.nextElementSibling)\"\n",
       "            ></i></td>\n",
       "            <td class=\"param\">min_weight_fraction_leaf&nbsp;</td>\n",
       "            <td class=\"value\">0.0</td>\n",
       "        </tr>\n",
       "    \n",
       "\n",
       "        <tr class=\"default\">\n",
       "            <td><i class=\"copy-paste-icon\"\n",
       "                 onclick=\"copyToClipboard('max_features',\n",
       "                          this.parentElement.nextElementSibling)\"\n",
       "            ></i></td>\n",
       "            <td class=\"param\">max_features&nbsp;</td>\n",
       "            <td class=\"value\">1.0</td>\n",
       "        </tr>\n",
       "    \n",
       "\n",
       "        <tr class=\"default\">\n",
       "            <td><i class=\"copy-paste-icon\"\n",
       "                 onclick=\"copyToClipboard('max_leaf_nodes',\n",
       "                          this.parentElement.nextElementSibling)\"\n",
       "            ></i></td>\n",
       "            <td class=\"param\">max_leaf_nodes&nbsp;</td>\n",
       "            <td class=\"value\">None</td>\n",
       "        </tr>\n",
       "    \n",
       "\n",
       "        <tr class=\"default\">\n",
       "            <td><i class=\"copy-paste-icon\"\n",
       "                 onclick=\"copyToClipboard('min_impurity_decrease',\n",
       "                          this.parentElement.nextElementSibling)\"\n",
       "            ></i></td>\n",
       "            <td class=\"param\">min_impurity_decrease&nbsp;</td>\n",
       "            <td class=\"value\">0.0</td>\n",
       "        </tr>\n",
       "    \n",
       "\n",
       "        <tr class=\"default\">\n",
       "            <td><i class=\"copy-paste-icon\"\n",
       "                 onclick=\"copyToClipboard('bootstrap',\n",
       "                          this.parentElement.nextElementSibling)\"\n",
       "            ></i></td>\n",
       "            <td class=\"param\">bootstrap&nbsp;</td>\n",
       "            <td class=\"value\">True</td>\n",
       "        </tr>\n",
       "    \n",
       "\n",
       "        <tr class=\"default\">\n",
       "            <td><i class=\"copy-paste-icon\"\n",
       "                 onclick=\"copyToClipboard('oob_score',\n",
       "                          this.parentElement.nextElementSibling)\"\n",
       "            ></i></td>\n",
       "            <td class=\"param\">oob_score&nbsp;</td>\n",
       "            <td class=\"value\">False</td>\n",
       "        </tr>\n",
       "    \n",
       "\n",
       "        <tr class=\"default\">\n",
       "            <td><i class=\"copy-paste-icon\"\n",
       "                 onclick=\"copyToClipboard('n_jobs',\n",
       "                          this.parentElement.nextElementSibling)\"\n",
       "            ></i></td>\n",
       "            <td class=\"param\">n_jobs&nbsp;</td>\n",
       "            <td class=\"value\">None</td>\n",
       "        </tr>\n",
       "    \n",
       "\n",
       "        <tr class=\"default\">\n",
       "            <td><i class=\"copy-paste-icon\"\n",
       "                 onclick=\"copyToClipboard('random_state',\n",
       "                          this.parentElement.nextElementSibling)\"\n",
       "            ></i></td>\n",
       "            <td class=\"param\">random_state&nbsp;</td>\n",
       "            <td class=\"value\">None</td>\n",
       "        </tr>\n",
       "    \n",
       "\n",
       "        <tr class=\"default\">\n",
       "            <td><i class=\"copy-paste-icon\"\n",
       "                 onclick=\"copyToClipboard('verbose',\n",
       "                          this.parentElement.nextElementSibling)\"\n",
       "            ></i></td>\n",
       "            <td class=\"param\">verbose&nbsp;</td>\n",
       "            <td class=\"value\">0</td>\n",
       "        </tr>\n",
       "    \n",
       "\n",
       "        <tr class=\"default\">\n",
       "            <td><i class=\"copy-paste-icon\"\n",
       "                 onclick=\"copyToClipboard('warm_start',\n",
       "                          this.parentElement.nextElementSibling)\"\n",
       "            ></i></td>\n",
       "            <td class=\"param\">warm_start&nbsp;</td>\n",
       "            <td class=\"value\">False</td>\n",
       "        </tr>\n",
       "    \n",
       "\n",
       "        <tr class=\"default\">\n",
       "            <td><i class=\"copy-paste-icon\"\n",
       "                 onclick=\"copyToClipboard('ccp_alpha',\n",
       "                          this.parentElement.nextElementSibling)\"\n",
       "            ></i></td>\n",
       "            <td class=\"param\">ccp_alpha&nbsp;</td>\n",
       "            <td class=\"value\">0.0</td>\n",
       "        </tr>\n",
       "    \n",
       "\n",
       "        <tr class=\"default\">\n",
       "            <td><i class=\"copy-paste-icon\"\n",
       "                 onclick=\"copyToClipboard('max_samples',\n",
       "                          this.parentElement.nextElementSibling)\"\n",
       "            ></i></td>\n",
       "            <td class=\"param\">max_samples&nbsp;</td>\n",
       "            <td class=\"value\">None</td>\n",
       "        </tr>\n",
       "    \n",
       "\n",
       "        <tr class=\"default\">\n",
       "            <td><i class=\"copy-paste-icon\"\n",
       "                 onclick=\"copyToClipboard('monotonic_cst',\n",
       "                          this.parentElement.nextElementSibling)\"\n",
       "            ></i></td>\n",
       "            <td class=\"param\">monotonic_cst&nbsp;</td>\n",
       "            <td class=\"value\">None</td>\n",
       "        </tr>\n",
       "    \n",
       "                  </tbody>\n",
       "                </table>\n",
       "            </details>\n",
       "        </div>\n",
       "    </div></div></div></div></div><script>function copyToClipboard(text, element) {\n",
       "    // Get the parameter prefix from the closest toggleable content\n",
       "    const toggleableContent = element.closest('.sk-toggleable__content');\n",
       "    const paramPrefix = toggleableContent ? toggleableContent.dataset.paramPrefix : '';\n",
       "    const fullParamName = paramPrefix ? `${paramPrefix}${text}` : text;\n",
       "\n",
       "    const originalStyle = element.style;\n",
       "    const computedStyle = window.getComputedStyle(element);\n",
       "    const originalWidth = computedStyle.width;\n",
       "    const originalHTML = element.innerHTML.replace('Copied!', '');\n",
       "\n",
       "    navigator.clipboard.writeText(fullParamName)\n",
       "        .then(() => {\n",
       "            element.style.width = originalWidth;\n",
       "            element.style.color = 'green';\n",
       "            element.innerHTML = \"Copied!\";\n",
       "\n",
       "            setTimeout(() => {\n",
       "                element.innerHTML = originalHTML;\n",
       "                element.style = originalStyle;\n",
       "            }, 2000);\n",
       "        })\n",
       "        .catch(err => {\n",
       "            console.error('Failed to copy:', err);\n",
       "            element.style.color = 'red';\n",
       "            element.innerHTML = \"Failed!\";\n",
       "            setTimeout(() => {\n",
       "                element.innerHTML = originalHTML;\n",
       "                element.style = originalStyle;\n",
       "            }, 2000);\n",
       "        });\n",
       "    return false;\n",
       "}\n",
       "\n",
       "document.querySelectorAll('.fa-regular.fa-copy').forEach(function(element) {\n",
       "    const toggleableContent = element.closest('.sk-toggleable__content');\n",
       "    const paramPrefix = toggleableContent ? toggleableContent.dataset.paramPrefix : '';\n",
       "    const paramName = element.parentElement.nextElementSibling.textContent.trim();\n",
       "    const fullParamName = paramPrefix ? `${paramPrefix}${paramName}` : paramName;\n",
       "\n",
       "    element.setAttribute('title', fullParamName);\n",
       "});\n",
       "</script></body>"
      ],
      "text/plain": [
       "RandomForestRegressor(max_depth=10)"
      ]
     },
     "execution_count": 5,
     "metadata": {},
     "output_type": "execute_result"
    }
   ],
   "source": [
    "rng = np.random.default_rng(123)\n",
    "x = rng.standard_normal(size=(1_000, 10))\n",
    "\n",
    "X_train, X_test = train_test_split(x, test_size=0.2, random_state=123)\n",
    "y_train = rng.standard_normal(size=(X_train.shape[0],))\n",
    "y_test = rng.standard_normal(size=(X_test.shape[0],))\n",
    "\n",
    "params: dict[str, Any] = {\n",
    "    \"n_estimators\": 100,\n",
    "    \"max_depth\": 10,\n",
    "}\n",
    "\n",
    "rf_reg = RandomForestRegressor(**params)\n",
    "\n",
    "rf_reg.fit(X_train, y_train)\n",
    "# rf_reg.score(X_test, y_test)"
   ]
  },
  {
   "cell_type": "code",
   "execution_count": 6,
   "id": "d213dc7d",
   "metadata": {},
   "outputs": [
    {
     "data": {
      "text/plain": [
       "array([0.1258, 0.0944, 0.0799, 0.1148, 0.0847, 0.1147, 0.093 , 0.1077,\n",
       "       0.0912, 0.0938])"
      ]
     },
     "execution_count": 6,
     "metadata": {},
     "output_type": "execute_result"
    }
   ],
   "source": [
    "rf_reg.feature_importances_"
   ]
  },
  {
   "cell_type": "code",
   "execution_count": null,
   "id": "b635374b",
   "metadata": {},
   "outputs": [],
   "source": []
  },
  {
   "cell_type": "code",
   "execution_count": null,
   "id": "d3dac0d8",
   "metadata": {},
   "outputs": [],
   "source": []
  },
  {
   "cell_type": "code",
   "execution_count": 7,
   "id": "3fb7b5f6",
   "metadata": {},
   "outputs": [],
   "source": [
    "import xgboost as xgb\n",
    "\n",
    "\n",
    "# Create regression matrices\n",
    "dtrain_reg = xgb.DMatrix(X_train, y_train, enable_categorical=True)\n",
    "dtest_reg = xgb.DMatrix(X_test, y_test, enable_categorical=True)"
   ]
  },
  {
   "cell_type": "code",
   "execution_count": 8,
   "id": "7fb27b941602401d91542211134fc71a",
   "metadata": {},
   "outputs": [],
   "source": [
    "# Define hyperparameters\n",
    "params = {\n",
    "    \"objective\": \"reg:squarederror\",  # for regression\n",
    "    \"eval_metric\": [\"rmse\", \"mae\", \"mape\"],\n",
    "    \"learning_rate\": 0.1,\n",
    "    \"max_depth\": 6,\n",
    "    \"tree_method\": \"hist\",  # Use 'hist' for CPU, 'gpu_hist' for GPU\n",
    "}\n",
    "n: int = 100\n",
    "\n",
    "# Train the model\n",
    "model = xgb.train(\n",
    "    params=params,\n",
    "    dtrain=dtrain_reg,\n",
    "    num_boost_round=n,\n",
    ")"
   ]
  },
  {
   "cell_type": "code",
   "execution_count": 9,
   "id": "17f9e769",
   "metadata": {},
   "outputs": [
    {
     "name": "stdout",
     "output_type": "stream",
     "text": [
      "RMSE of the base model: 1.125\n"
     ]
    }
   ],
   "source": [
    "preds = model.predict(dtest_reg)\n",
    "rmse = root_mean_squared_error(y_test, preds)\n",
    "\n",
    "print(f\"RMSE of the base model: {rmse:.3f}\")"
   ]
  },
  {
   "cell_type": "code",
   "execution_count": 10,
   "id": "515bcacc",
   "metadata": {},
   "outputs": [
    {
     "name": "stdout",
     "output_type": "stream",
     "text": [
      "[0]\ttrain-rmse:0.97861+0.00793\ttest-rmse:1.00251+0.03045\n",
      "[1]\ttrain-rmse:0.95530+0.00922\ttest-rmse:0.99990+0.03146\n",
      "[2]\ttrain-rmse:0.93566+0.01087\ttest-rmse:0.99963+0.03280\n",
      "[3]\ttrain-rmse:0.91714+0.01274\ttest-rmse:1.00122+0.03374\n",
      "[4]\ttrain-rmse:0.90072+0.01365\ttest-rmse:1.00416+0.03115\n"
     ]
    },
    {
     "data": {
      "text/html": [
       "<pre style=\"white-space:pre;overflow-x:auto;line-height:normal;font-family:Menlo,'DejaVu Sans Mono',consolas,'Courier New',monospace\">   train-rmse-mean  train-rmse-std  test-rmse-mean  test-rmse-std\n",
       "<span style=\"color: #008080; text-decoration-color: #008080; font-weight: bold\">0</span>         <span style=\"color: #008080; text-decoration-color: #008080; font-weight: bold\">0.978613</span>        <span style=\"color: #008080; text-decoration-color: #008080; font-weight: bold\">0.007929</span>        <span style=\"color: #008080; text-decoration-color: #008080; font-weight: bold\">1.002512</span>       <span style=\"color: #008080; text-decoration-color: #008080; font-weight: bold\">0.030454</span>\n",
       "<span style=\"color: #008080; text-decoration-color: #008080; font-weight: bold\">1</span>         <span style=\"color: #008080; text-decoration-color: #008080; font-weight: bold\">0.955297</span>        <span style=\"color: #008080; text-decoration-color: #008080; font-weight: bold\">0.009222</span>        <span style=\"color: #008080; text-decoration-color: #008080; font-weight: bold\">0.999901</span>       <span style=\"color: #008080; text-decoration-color: #008080; font-weight: bold\">0.031463</span>\n",
       "<span style=\"color: #008080; text-decoration-color: #008080; font-weight: bold\">2</span>         <span style=\"color: #008080; text-decoration-color: #008080; font-weight: bold\">0.935665</span>        <span style=\"color: #008080; text-decoration-color: #008080; font-weight: bold\">0.010871</span>        <span style=\"color: #008080; text-decoration-color: #008080; font-weight: bold\">0.999630</span>       <span style=\"color: #008080; text-decoration-color: #008080; font-weight: bold\">0.032802</span>\n",
       "</pre>\n"
      ],
      "text/plain": [
       "   train-rmse-mean  train-rmse-std  test-rmse-mean  test-rmse-std\n",
       "\u001b[1;36m0\u001b[0m         \u001b[1;36m0.978613\u001b[0m        \u001b[1;36m0.007929\u001b[0m        \u001b[1;36m1.002512\u001b[0m       \u001b[1;36m0.030454\u001b[0m\n",
       "\u001b[1;36m1\u001b[0m         \u001b[1;36m0.955297\u001b[0m        \u001b[1;36m0.009222\u001b[0m        \u001b[1;36m0.999901\u001b[0m       \u001b[1;36m0.031463\u001b[0m\n",
       "\u001b[1;36m2\u001b[0m         \u001b[1;36m0.935665\u001b[0m        \u001b[1;36m0.010871\u001b[0m        \u001b[1;36m0.999630\u001b[0m       \u001b[1;36m0.032802\u001b[0m\n"
      ]
     },
     "metadata": {},
     "output_type": "display_data"
    }
   ],
   "source": [
    "# Cross-validation\n",
    "cv_results = xgb.cv(\n",
    "    params=params,\n",
    "    dtrain=dtrain_reg,\n",
    "    num_boost_round=20,\n",
    "    nfold=5,\n",
    "    metrics={\"rmse\"},\n",
    "    seed=123,\n",
    "    as_pandas=True,\n",
    "    callbacks=[\n",
    "        xgb.callback.EvaluationMonitor(show_stdv=True),\n",
    "        xgb.callback.EarlyStopping(rounds=3),\n",
    "    ],\n",
    ")\n",
    "console.print(cv_results)"
   ]
  },
  {
   "cell_type": "code",
   "execution_count": 11,
   "id": "ea33cc8a",
   "metadata": {},
   "outputs": [
    {
     "data": {
      "text/html": [
       "<pre style=\"white-space:pre;overflow-x:auto;line-height:normal;font-family:Menlo,'DejaVu Sans Mono',consolas,'Courier New',monospace\"><span style=\"color: #00ffff; text-decoration-color: #00ffff\">Optimal boosting rounds: </span><span style=\"color: #008080; text-decoration-color: #008080; font-weight: bold\">3</span>\n",
       "</pre>\n"
      ],
      "text/plain": [
       "\u001b[38;2;0;255;255mOptimal boosting rounds: \u001b[0m\u001b[1;36m3\u001b[0m\n"
      ]
     },
     "metadata": {},
     "output_type": "display_data"
    },
    {
     "data": {
      "text/html": [
       "<pre style=\"white-space:pre;overflow-x:auto;line-height:normal;font-family:Menlo,'DejaVu Sans Mono',consolas,'Courier New',monospace\">   train-rmse-mean  train-rmse-std  test-rmse-mean  test-rmse-std\n",
       "<span style=\"color: #008080; text-decoration-color: #008080; font-weight: bold\">0</span>         <span style=\"color: #008080; text-decoration-color: #008080; font-weight: bold\">0.978613</span>        <span style=\"color: #008080; text-decoration-color: #008080; font-weight: bold\">0.007929</span>        <span style=\"color: #008080; text-decoration-color: #008080; font-weight: bold\">1.002512</span>       <span style=\"color: #008080; text-decoration-color: #008080; font-weight: bold\">0.030454</span>\n",
       "<span style=\"color: #008080; text-decoration-color: #008080; font-weight: bold\">1</span>         <span style=\"color: #008080; text-decoration-color: #008080; font-weight: bold\">0.955297</span>        <span style=\"color: #008080; text-decoration-color: #008080; font-weight: bold\">0.009222</span>        <span style=\"color: #008080; text-decoration-color: #008080; font-weight: bold\">0.999901</span>       <span style=\"color: #008080; text-decoration-color: #008080; font-weight: bold\">0.031463</span>\n",
       "<span style=\"color: #008080; text-decoration-color: #008080; font-weight: bold\">2</span>         <span style=\"color: #008080; text-decoration-color: #008080; font-weight: bold\">0.935665</span>        <span style=\"color: #008080; text-decoration-color: #008080; font-weight: bold\">0.010871</span>        <span style=\"color: #008080; text-decoration-color: #008080; font-weight: bold\">0.999630</span>       <span style=\"color: #008080; text-decoration-color: #008080; font-weight: bold\">0.032802</span>\n",
       "</pre>\n"
      ],
      "text/plain": [
       "   train-rmse-mean  train-rmse-std  test-rmse-mean  test-rmse-std\n",
       "\u001b[1;36m0\u001b[0m         \u001b[1;36m0.978613\u001b[0m        \u001b[1;36m0.007929\u001b[0m        \u001b[1;36m1.002512\u001b[0m       \u001b[1;36m0.030454\u001b[0m\n",
       "\u001b[1;36m1\u001b[0m         \u001b[1;36m0.955297\u001b[0m        \u001b[1;36m0.009222\u001b[0m        \u001b[1;36m0.999901\u001b[0m       \u001b[1;36m0.031463\u001b[0m\n",
       "\u001b[1;36m2\u001b[0m         \u001b[1;36m0.935665\u001b[0m        \u001b[1;36m0.010871\u001b[0m        \u001b[1;36m0.999630\u001b[0m       \u001b[1;36m0.032802\u001b[0m\n"
      ]
     },
     "metadata": {},
     "output_type": "display_data"
    },
    {
     "data": {
      "text/html": [
       "<pre style=\"white-space:pre;overflow-x:auto;line-height:normal;font-family:Menlo,'DejaVu Sans Mono',consolas,'Courier New',monospace\"><span style=\"color: #00ff00; text-decoration-color: #00ff00\">Test RMSE: </span><span style=\"color: #008080; text-decoration-color: #008080; font-weight: bold\">1.0805</span>\n",
       "</pre>\n"
      ],
      "text/plain": [
       "\u001b[38;2;0;255;0mTest RMSE: \u001b[0m\u001b[1;36m1.0805\u001b[0m\n"
      ]
     },
     "metadata": {},
     "output_type": "display_data"
    }
   ],
   "source": [
    "# Find the optimal number of boosting rounds\n",
    "best_num_rounds: int = len(cv_results)\n",
    "console.print(f\"Optimal boosting rounds: {best_num_rounds}\", style=\"success\")\n",
    "console.print(cv_results.tail())\n",
    "\n",
    "# Step 2: Train final model with optimal rounds\n",
    "final_model = xgb.train(\n",
    "    params=params,\n",
    "    dtrain=dtrain_reg,\n",
    "    num_boost_round=best_num_rounds,\n",
    ")\n",
    "\n",
    "# Step 3: Evaluate on test set\n",
    "test_preds = final_model.predict(dtest_reg)\n",
    "test_rmse = root_mean_squared_error(y_test, test_preds)\n",
    "console.print(f\"Test RMSE: {test_rmse:.4f}\", style=\"info\")\n",
    "\n",
    "\n",
    "# Step 4: Save the model\n",
    "# final_model.save_model(\"xgboost_model.json\")"
   ]
  },
  {
   "cell_type": "code",
   "execution_count": 12,
   "id": "84405682",
   "metadata": {},
   "outputs": [
    {
     "data": {
      "text/html": [
       "<div>\n",
       "<style scoped>\n",
       "    .dataframe tbody tr th:only-of-type {\n",
       "        vertical-align: middle;\n",
       "    }\n",
       "\n",
       "    .dataframe tbody tr th {\n",
       "        vertical-align: top;\n",
       "    }\n",
       "\n",
       "    .dataframe thead th {\n",
       "        text-align: right;\n",
       "    }\n",
       "</style>\n",
       "<table border=\"1\" class=\"dataframe\">\n",
       "  <thead>\n",
       "    <tr style=\"text-align: right;\">\n",
       "      <th></th>\n",
       "      <th>train-rmse-mean</th>\n",
       "      <th>train-rmse-std</th>\n",
       "      <th>test-rmse-mean</th>\n",
       "      <th>test-rmse-std</th>\n",
       "    </tr>\n",
       "  </thead>\n",
       "  <tbody>\n",
       "    <tr>\n",
       "      <th>0</th>\n",
       "      <td>0.978613</td>\n",
       "      <td>0.007929</td>\n",
       "      <td>1.002512</td>\n",
       "      <td>0.030454</td>\n",
       "    </tr>\n",
       "    <tr>\n",
       "      <th>1</th>\n",
       "      <td>0.955297</td>\n",
       "      <td>0.009222</td>\n",
       "      <td>0.999901</td>\n",
       "      <td>0.031463</td>\n",
       "    </tr>\n",
       "    <tr>\n",
       "      <th>2</th>\n",
       "      <td>0.935665</td>\n",
       "      <td>0.010871</td>\n",
       "      <td>0.999630</td>\n",
       "      <td>0.032802</td>\n",
       "    </tr>\n",
       "  </tbody>\n",
       "</table>\n",
       "</div>"
      ],
      "text/plain": [
       "   train-rmse-mean  train-rmse-std  test-rmse-mean  test-rmse-std\n",
       "0         0.978613        0.007929        1.002512       0.030454\n",
       "1         0.955297        0.009222        0.999901       0.031463\n",
       "2         0.935665        0.010871        0.999630       0.032802"
      ]
     },
     "execution_count": 12,
     "metadata": {},
     "output_type": "execute_result"
    }
   ],
   "source": [
    "cv_results"
   ]
  },
  {
   "cell_type": "code",
   "execution_count": 13,
   "id": "ff31f7e8",
   "metadata": {},
   "outputs": [
    {
     "data": {
      "text/plain": [
       "'xgboost.core'"
      ]
     },
     "execution_count": 13,
     "metadata": {},
     "output_type": "execute_result"
    }
   ],
   "source": [
    "type(final_model).__module__"
   ]
  },
  {
   "cell_type": "code",
   "execution_count": null,
   "id": "26be36ec",
   "metadata": {},
   "outputs": [],
   "source": []
  },
  {
   "cell_type": "code",
   "execution_count": 25,
   "id": "658f8a60",
   "metadata": {},
   "outputs": [
    {
     "data": {
      "text/html": [
       "<pre style=\"white-space:pre;overflow-x:auto;line-height:normal;font-family:Menlo,'DejaVu Sans Mono',consolas,'Courier New',monospace\"><span style=\"color: #00ffff; text-decoration-color: #00ffff\">MLflow Tracking Server is reachable!</span>\n",
       "</pre>\n"
      ],
      "text/plain": [
       "\u001b[38;2;0;255;255mMLflow Tracking Server is reachable!\u001b[0m\n"
      ]
     },
     "metadata": {},
     "output_type": "display_data"
    }
   ],
   "source": [
    "import httpx\n",
    "\n",
    "try:\n",
    "    async with httpx.AsyncClient() as client:\n",
    "        r = await client.get(\"http://0.0.0.0:5001/#/experiments/list\", timeout=10.0)\n",
    "\n",
    "    if r.status_code == 200:\n",
    "        console.print(\"MLflow Tracking Server is reachable!\", style=\"success\")\n",
    "\n",
    "except Exception as e:\n",
    "    console.print(f\"Error: {e}\", style=\"error\")"
   ]
  },
  {
   "cell_type": "code",
   "execution_count": 26,
   "id": "8a549b98",
   "metadata": {},
   "outputs": [],
   "source": [
    "from src.config.config import app_config\n",
    "from src.ml.trainer import ModelTrainer\n",
    "from src.ml.feature_engineering import FeatureEngineer"
   ]
  },
  {
   "cell_type": "code",
   "execution_count": null,
   "id": "c9cca5b6",
   "metadata": {},
   "outputs": [
    {
     "data": {
      "text/html": [
       "<pre style=\"white-space:pre;overflow-x:auto;line-height:normal;font-family:Menlo,'DejaVu Sans Mono',consolas,'Courier New',monospace\"><span style=\"color: #00ff00; text-decoration-color: #00ff00\">Shape: </span><span style=\"color: #00ff00; text-decoration-color: #00ff00; font-weight: bold\">(</span><span style=\"color: #008080; text-decoration-color: #008080; font-weight: bold\">13903</span><span style=\"color: #00ff00; text-decoration-color: #00ff00\">, </span><span style=\"color: #008080; text-decoration-color: #008080; font-weight: bold\">16</span><span style=\"color: #00ff00; text-decoration-color: #00ff00; font-weight: bold\">)</span>\n",
       "</pre>\n"
      ],
      "text/plain": [
       "\u001b[38;2;0;255;0mShape: \u001b[0m\u001b[1;38;2;0;255;0m(\u001b[0m\u001b[1;36m13903\u001b[0m\u001b[38;2;0;255;0m, \u001b[0m\u001b[1;36m16\u001b[0m\u001b[1;38;2;0;255;0m)\u001b[0m\n"
      ]
     },
     "metadata": {},
     "output_type": "display_data"
    },
    {
     "data": {
      "text/html": [
       "<div><style>\n",
       ".dataframe > thead > tr,\n",
       ".dataframe > tbody > tr {\n",
       "  text-align: right;\n",
       "  white-space: pre-wrap;\n",
       "}\n",
       "</style>\n",
       "<small>shape: (2, 16)</small><table border=\"1\" class=\"dataframe\"><thead><tr><th>datetime</th><th>season</th><th>yr</th><th>mnth</th><th>hr</th><th>holiday</th><th>weekday</th><th>workingday</th><th>weathersit</th><th>temp</th><th>atemp</th><th>hum</th><th>windspeed</th><th>casual</th><th>registered</th><th>cnt</th></tr><tr><td>str</td><td>i64</td><td>i64</td><td>i64</td><td>i64</td><td>i64</td><td>i64</td><td>i64</td><td>i64</td><td>f64</td><td>f64</td><td>f64</td><td>f64</td><td>i64</td><td>i64</td><td>i64</td></tr></thead><tbody><tr><td>&quot;2011-01-01 00:00:00&quot;</td><td>1</td><td>0</td><td>1</td><td>0</td><td>0</td><td>6</td><td>0</td><td>1</td><td>0.24</td><td>0.2879</td><td>0.81</td><td>0.0</td><td>3</td><td>13</td><td>16</td></tr><tr><td>&quot;2011-01-01 01:00:00&quot;</td><td>1</td><td>0</td><td>1</td><td>1</td><td>0</td><td>6</td><td>0</td><td>1</td><td>0.22</td><td>0.2727</td><td>0.8</td><td>0.0</td><td>8</td><td>32</td><td>40</td></tr></tbody></table></div>"
      ],
      "text/plain": [
       "shape: (2, 16)\n",
       "┌─────┬─────┬─────┬─────┬─────┬─────┬─────┬─────┬─────┬─────┬─────┬─────┬─────┬─────┬────────┬─────┐\n",
       "│ dat ┆ sea ┆ yr  ┆ mnt ┆ hr  ┆ hol ┆ wee ┆ wor ┆ wea ┆ tem ┆ ate ┆ hum ┆ win ┆ cas ┆ regist ┆ cnt │\n",
       "│ eti ┆ son ┆ --- ┆ h   ┆ --- ┆ ida ┆ kda ┆ kin ┆ the ┆ p   ┆ mp  ┆ --- ┆ dsp ┆ ual ┆ ered   ┆ --- │\n",
       "│ me  ┆ --- ┆ i64 ┆ --- ┆ i64 ┆ y   ┆ y   ┆ gda ┆ rsi ┆ --- ┆ --- ┆ f64 ┆ eed ┆ --- ┆ ---    ┆ i64 │\n",
       "│ --- ┆ i64 ┆     ┆ i64 ┆     ┆ --- ┆ --- ┆ y   ┆ t   ┆ f64 ┆ f64 ┆     ┆ --- ┆ i64 ┆ i64    ┆     │\n",
       "│ str ┆     ┆     ┆     ┆     ┆ i64 ┆ i64 ┆ --- ┆ --- ┆     ┆     ┆     ┆ f64 ┆     ┆        ┆     │\n",
       "│     ┆     ┆     ┆     ┆     ┆     ┆     ┆ i64 ┆ i64 ┆     ┆     ┆     ┆     ┆     ┆        ┆     │\n",
       "╞═════╪═════╪═════╪═════╪═════╪═════╪═════╪═════╪═════╪═════╪═════╪═════╪═════╪═════╪════════╪═════╡\n",
       "│ 201 ┆ 1   ┆ 0   ┆ 1   ┆ 0   ┆ 0   ┆ 6   ┆ 0   ┆ 1   ┆ 0.2 ┆ 0.2 ┆ 0.8 ┆ 0.0 ┆ 3   ┆ 13     ┆ 16  │\n",
       "│ 1-0 ┆     ┆     ┆     ┆     ┆     ┆     ┆     ┆     ┆ 4   ┆ 879 ┆ 1   ┆     ┆     ┆        ┆     │\n",
       "│ 1-0 ┆     ┆     ┆     ┆     ┆     ┆     ┆     ┆     ┆     ┆     ┆     ┆     ┆     ┆        ┆     │\n",
       "│ 1   ┆     ┆     ┆     ┆     ┆     ┆     ┆     ┆     ┆     ┆     ┆     ┆     ┆     ┆        ┆     │\n",
       "│ 00: ┆     ┆     ┆     ┆     ┆     ┆     ┆     ┆     ┆     ┆     ┆     ┆     ┆     ┆        ┆     │\n",
       "│ 00: ┆     ┆     ┆     ┆     ┆     ┆     ┆     ┆     ┆     ┆     ┆     ┆     ┆     ┆        ┆     │\n",
       "│ 00  ┆     ┆     ┆     ┆     ┆     ┆     ┆     ┆     ┆     ┆     ┆     ┆     ┆     ┆        ┆     │\n",
       "│ 201 ┆ 1   ┆ 0   ┆ 1   ┆ 1   ┆ 0   ┆ 6   ┆ 0   ┆ 1   ┆ 0.2 ┆ 0.2 ┆ 0.8 ┆ 0.0 ┆ 8   ┆ 32     ┆ 40  │\n",
       "│ 1-0 ┆     ┆     ┆     ┆     ┆     ┆     ┆     ┆     ┆ 2   ┆ 727 ┆     ┆     ┆     ┆        ┆     │\n",
       "│ 1-0 ┆     ┆     ┆     ┆     ┆     ┆     ┆     ┆     ┆     ┆     ┆     ┆     ┆     ┆        ┆     │\n",
       "│ 1   ┆     ┆     ┆     ┆     ┆     ┆     ┆     ┆     ┆     ┆     ┆     ┆     ┆     ┆        ┆     │\n",
       "│ 01: ┆     ┆     ┆     ┆     ┆     ┆     ┆     ┆     ┆     ┆     ┆     ┆     ┆     ┆        ┆     │\n",
       "│ 00: ┆     ┆     ┆     ┆     ┆     ┆     ┆     ┆     ┆     ┆     ┆     ┆     ┆     ┆        ┆     │\n",
       "│ 00  ┆     ┆     ┆     ┆     ┆     ┆     ┆     ┆     ┆     ┆     ┆     ┆     ┆     ┆        ┆     │\n",
       "└─────┴─────┴─────┴─────┴─────┴─────┴─────┴─────┴─────┴─────┴─────┴─────┴─────┴─────┴────────┴─────┘"
      ]
     },
     "metadata": {},
     "output_type": "display_data"
    },
    {
     "data": {
      "text/html": [
       "<div><style>\n",
       ".dataframe > thead > tr,\n",
       ".dataframe > tbody > tr {\n",
       "  text-align: right;\n",
       "  white-space: pre-wrap;\n",
       "}\n",
       "</style>\n",
       "<small>shape: (3, 48)</small><table border=\"1\" class=\"dataframe\"><thead><tr><th>season</th><th>mnth</th><th>hr</th><th>holiday</th><th>weekday</th><th>workingday</th><th>weathersit</th><th>temp</th><th>hum</th><th>is_weekend</th><th>sin_hour</th><th>cos_hour</th><th>sin_weekday</th><th>cos_weekday</th><th>cnt_lag_0hr</th><th>cnt_lag_1hr</th><th>cnt_lag_24hr</th><th>hr_lag_1hr</th><th>hr_lag_24hr</th><th>temp_lag_1hr</th><th>temp_lag_3hr</th><th>hum_lag_1hr</th><th>hum_lag_3hr</th><th>temp_rolling_mean_3hr</th><th>temp_rolling_median_3hr</th><th>temp_rolling_mean_6hr</th><th>temp_rolling_median_6hr</th><th>hum_rolling_mean_3hr</th><th>hum_rolling_median_3hr</th><th>hum_rolling_mean_6hr</th><th>hum_rolling_median_6hr</th><th>temp_plus_hum</th><th>hum_plus_hr</th><th>cnt_diff_1hr</th><th>cnt_diff_2hr</th><th>hr_diff_1hr</th><th>hr_diff_24hr</th><th>temp_diff_1hr</th><th>temp_diff_2hr</th><th>temp_diff_24hr</th><th>hum_diff_1hr</th><th>hum_diff_2hr</th><th>is_high_temp</th><th>is_high_hum</th><th>is_peak_hour</th><th>is_working_hour</th><th>is_business_hour</th><th>target</th></tr><tr><td>i64</td><td>i64</td><td>i64</td><td>i64</td><td>i64</td><td>i64</td><td>i64</td><td>f64</td><td>f64</td><td>i8</td><td>f64</td><td>f64</td><td>f64</td><td>f64</td><td>i64</td><td>i64</td><td>i64</td><td>i64</td><td>i64</td><td>f64</td><td>f64</td><td>f64</td><td>f64</td><td>f64</td><td>f64</td><td>f64</td><td>f64</td><td>f64</td><td>f64</td><td>f64</td><td>f64</td><td>f64</td><td>f64</td><td>i64</td><td>i64</td><td>i64</td><td>i64</td><td>f64</td><td>f64</td><td>f64</td><td>f64</td><td>f64</td><td>i8</td><td>i8</td><td>i8</td><td>i8</td><td>i8</td><td>i64</td></tr></thead><tbody><tr><td>1</td><td>1</td><td>0</td><td>0</td><td>6</td><td>0</td><td>1</td><td>0.24</td><td>0.81</td><td>1</td><td>0.0</td><td>1.0</td><td>-0.781831</td><td>0.62349</td><td>16</td><td>16</td><td>16</td><td>0</td><td>0</td><td>0.24</td><td>0.24</td><td>0.81</td><td>0.81</td><td>0.226667</td><td>0.22</td><td>0.233333</td><td>0.24</td><td>0.803333</td><td>0.8</td><td>0.776667</td><td>0.775</td><td>1.05</td><td>0.81</td><td>24</td><td>16</td><td>1</td><td>0</td><td>-0.02</td><td>-0.02</td><td>0.22</td><td>-0.01</td><td>-0.01</td><td>0</td><td>0</td><td>0</td><td>0</td><td>0</td><td>40</td></tr><tr><td>1</td><td>1</td><td>1</td><td>0</td><td>6</td><td>0</td><td>1</td><td>0.22</td><td>0.8</td><td>1</td><td>0.258819</td><td>0.965926</td><td>-0.781831</td><td>0.62349</td><td>40</td><td>16</td><td>16</td><td>0</td><td>0</td><td>0.24</td><td>0.24</td><td>0.81</td><td>0.81</td><td>0.226667</td><td>0.22</td><td>0.233333</td><td>0.24</td><td>0.803333</td><td>0.8</td><td>0.776667</td><td>0.775</td><td>1.02</td><td>1.8</td><td>24</td><td>16</td><td>1</td><td>0</td><td>-0.02</td><td>-0.02</td><td>0.22</td><td>-0.01</td><td>-0.01</td><td>0</td><td>0</td><td>0</td><td>0</td><td>0</td><td>32</td></tr><tr><td>1</td><td>1</td><td>2</td><td>0</td><td>6</td><td>0</td><td>1</td><td>0.22</td><td>0.8</td><td>1</td><td>0.5</td><td>0.866025</td><td>-0.781831</td><td>0.62349</td><td>32</td><td>40</td><td>16</td><td>1</td><td>0</td><td>0.22</td><td>0.24</td><td>0.8</td><td>0.81</td><td>0.226667</td><td>0.22</td><td>0.233333</td><td>0.24</td><td>0.803333</td><td>0.8</td><td>0.776667</td><td>0.775</td><td>1.02</td><td>2.8</td><td>-8</td><td>16</td><td>1</td><td>0</td><td>0.0</td><td>-0.02</td><td>0.22</td><td>0.0</td><td>-0.01</td><td>0</td><td>0</td><td>0</td><td>0</td><td>0</td><td>13</td></tr></tbody></table></div>"
      ],
      "text/plain": [
       "shape: (3, 48)\n",
       "┌─────┬─────┬─────┬─────┬─────┬─────┬─────┬─────┬─────┬─────┬─────┬─────┬─────┬─────┬─────┬─────┬─────┬─────┬─────┬─────┬─────┬─────┬─────┬─────┬─────┬─────┬─────┬─────┬─────┬─────┬─────┬─────┬─────┬─────┬─────┬─────┬─────┬─────┬─────┬─────┬─────┬─────┬─────┬─────┬─────┬─────┬─────┬─────┐\n",
       "│ sea ┆ mnt ┆ hr  ┆ hol ┆ wee ┆ wor ┆ wea ┆ tem ┆ hum ┆ is_ ┆ sin ┆ cos ┆ sin ┆ cos ┆ cnt ┆ cnt ┆ cnt ┆ hr_ ┆ hr_ ┆ tem ┆ tem ┆ hum ┆ hum ┆ tem ┆ tem ┆ tem ┆ tem ┆ hum ┆ hum ┆ hum ┆ hum ┆ tem ┆ hum ┆ cnt ┆ cnt ┆ hr_ ┆ hr_ ┆ tem ┆ tem ┆ tem ┆ hum ┆ hum ┆ is_ ┆ is_ ┆ is_ ┆ is_ ┆ is_ ┆ tar │\n",
       "│ son ┆ h   ┆ --- ┆ ida ┆ kda ┆ kin ┆ the ┆ p   ┆ --- ┆ wee ┆ _ho ┆ _ho ┆ _we ┆ _we ┆ _la ┆ _la ┆ _la ┆ lag ┆ lag ┆ p_l ┆ p_l ┆ _la ┆ _la ┆ p_r ┆ p_r ┆ p_r ┆ p_r ┆ _ro ┆ _ro ┆ _ro ┆ _ro ┆ p_p ┆ _pl ┆ _di ┆ _di ┆ dif ┆ dif ┆ p_d ┆ p_d ┆ p_d ┆ _di ┆ _di ┆ hig ┆ hig ┆ pea ┆ wor ┆ bus ┆ get │\n",
       "│ --- ┆ --- ┆ i64 ┆ y   ┆ y   ┆ gda ┆ rsi ┆ --- ┆ f64 ┆ ken ┆ ur  ┆ ur  ┆ ekd ┆ ekd ┆ g_0 ┆ g_1 ┆ g_2 ┆ _1h ┆ _24 ┆ ag_ ┆ ag_ ┆ g_1 ┆ g_3 ┆ oll ┆ oll ┆ oll ┆ oll ┆ lli ┆ lli ┆ lli ┆ lli ┆ lus ┆ us_ ┆ ff_ ┆ ff_ ┆ f_1 ┆ f_2 ┆ iff ┆ iff ┆ iff ┆ ff_ ┆ ff_ ┆ h_t ┆ h_h ┆ k_h ┆ kin ┆ ine ┆ --- │\n",
       "│ i64 ┆ i64 ┆     ┆ --- ┆ --- ┆ y   ┆ t   ┆ f64 ┆     ┆ d   ┆ --- ┆ --- ┆ ay  ┆ ay  ┆ hr  ┆ hr  ┆ 4hr ┆ r   ┆ hr  ┆ 1hr ┆ 3hr ┆ hr  ┆ hr  ┆ ing ┆ ing ┆ ing ┆ ing ┆ ng_ ┆ ng_ ┆ ng_ ┆ ng_ ┆ _hu ┆ hr  ┆ 1hr ┆ 2hr ┆ hr  ┆ 4hr ┆ _1h ┆ _2h ┆ _24 ┆ 1hr ┆ 2hr ┆ emp ┆ um  ┆ our ┆ g_h ┆ ss_ ┆ i64 │\n",
       "│     ┆     ┆     ┆ i64 ┆ i64 ┆ --- ┆ --- ┆     ┆     ┆ --- ┆ f64 ┆ f64 ┆ --- ┆ --- ┆ --- ┆ --- ┆ --- ┆ --- ┆ --- ┆ --- ┆ --- ┆ --- ┆ --- ┆ _me ┆ _me ┆ _me ┆ _me ┆ mea ┆ med ┆ mea ┆ med ┆ m   ┆ --- ┆ --- ┆ --- ┆ --- ┆ --- ┆ r   ┆ r   ┆ hr  ┆ --- ┆ --- ┆ --- ┆ --- ┆ --- ┆ our ┆ hou ┆     │\n",
       "│     ┆     ┆     ┆     ┆     ┆ i64 ┆ i64 ┆     ┆     ┆ i8  ┆     ┆     ┆ f64 ┆ f64 ┆ i64 ┆ i64 ┆ i64 ┆ i64 ┆ i64 ┆ f64 ┆ f64 ┆ f64 ┆ f64 ┆ an_ ┆ dia ┆ an_ ┆ dia ┆ n_3 ┆ ian ┆ n_6 ┆ ian ┆ --- ┆ f64 ┆ i64 ┆ i64 ┆ i64 ┆ i64 ┆ --- ┆ --- ┆ --- ┆ f64 ┆ f64 ┆ i8  ┆ i8  ┆ i8  ┆ --- ┆ r   ┆     │\n",
       "│     ┆     ┆     ┆     ┆     ┆     ┆     ┆     ┆     ┆     ┆     ┆     ┆     ┆     ┆     ┆     ┆     ┆     ┆     ┆     ┆     ┆     ┆     ┆ 3hr ┆ n_3 ┆ 6hr ┆ n_6 ┆ hr  ┆ _3h ┆ hr  ┆ _6h ┆ f64 ┆     ┆     ┆     ┆     ┆     ┆ f64 ┆ f64 ┆ f64 ┆     ┆     ┆     ┆     ┆     ┆ i8  ┆ --- ┆     │\n",
       "│     ┆     ┆     ┆     ┆     ┆     ┆     ┆     ┆     ┆     ┆     ┆     ┆     ┆     ┆     ┆     ┆     ┆     ┆     ┆     ┆     ┆     ┆     ┆ --- ┆ hr  ┆ --- ┆ hr  ┆ --- ┆ r   ┆ --- ┆ r   ┆     ┆     ┆     ┆     ┆     ┆     ┆     ┆     ┆     ┆     ┆     ┆     ┆     ┆     ┆     ┆ i8  ┆     │\n",
       "│     ┆     ┆     ┆     ┆     ┆     ┆     ┆     ┆     ┆     ┆     ┆     ┆     ┆     ┆     ┆     ┆     ┆     ┆     ┆     ┆     ┆     ┆     ┆ f64 ┆ --- ┆ f64 ┆ --- ┆ f64 ┆ --- ┆ f64 ┆ --- ┆     ┆     ┆     ┆     ┆     ┆     ┆     ┆     ┆     ┆     ┆     ┆     ┆     ┆     ┆     ┆     ┆     │\n",
       "│     ┆     ┆     ┆     ┆     ┆     ┆     ┆     ┆     ┆     ┆     ┆     ┆     ┆     ┆     ┆     ┆     ┆     ┆     ┆     ┆     ┆     ┆     ┆     ┆ f64 ┆     ┆ f64 ┆     ┆ f64 ┆     ┆ f64 ┆     ┆     ┆     ┆     ┆     ┆     ┆     ┆     ┆     ┆     ┆     ┆     ┆     ┆     ┆     ┆     ┆     │\n",
       "╞═════╪═════╪═════╪═════╪═════╪═════╪═════╪═════╪═════╪═════╪═════╪═════╪═════╪═════╪═════╪═════╪═════╪═════╪═════╪═════╪═════╪═════╪═════╪═════╪═════╪═════╪═════╪═════╪═════╪═════╪═════╪═════╪═════╪═════╪═════╪═════╪═════╪═════╪═════╪═════╪═════╪═════╪═════╪═════╪═════╪═════╪═════╪═════╡\n",
       "│ 1   ┆ 1   ┆ 0   ┆ 0   ┆ 6   ┆ 0   ┆ 1   ┆ 0.2 ┆ 0.8 ┆ 1   ┆ 0.0 ┆ 1.0 ┆ -0. ┆ 0.6 ┆ 16  ┆ 16  ┆ 16  ┆ 0   ┆ 0   ┆ 0.2 ┆ 0.2 ┆ 0.8 ┆ 0.8 ┆ 0.2 ┆ 0.2 ┆ 0.2 ┆ 0.2 ┆ 0.8 ┆ 0.8 ┆ 0.7 ┆ 0.7 ┆ 1.0 ┆ 0.8 ┆ 24  ┆ 16  ┆ 1   ┆ 0   ┆ -0. ┆ -0. ┆ 0.2 ┆ -0. ┆ -0. ┆ 0   ┆ 0   ┆ 0   ┆ 0   ┆ 0   ┆ 40  │\n",
       "│     ┆     ┆     ┆     ┆     ┆     ┆     ┆ 4   ┆ 1   ┆     ┆     ┆     ┆ 781 ┆ 234 ┆     ┆     ┆     ┆     ┆     ┆ 4   ┆ 4   ┆ 1   ┆ 1   ┆ 266 ┆ 2   ┆ 333 ┆ 4   ┆ 033 ┆     ┆ 766 ┆ 75  ┆ 5   ┆ 1   ┆     ┆     ┆     ┆     ┆ 02  ┆ 02  ┆ 2   ┆ 01  ┆ 01  ┆     ┆     ┆     ┆     ┆     ┆     │\n",
       "│     ┆     ┆     ┆     ┆     ┆     ┆     ┆     ┆     ┆     ┆     ┆     ┆ 831 ┆ 9   ┆     ┆     ┆     ┆     ┆     ┆     ┆     ┆     ┆     ┆ 67  ┆     ┆ 33  ┆     ┆ 33  ┆     ┆ 67  ┆     ┆     ┆     ┆     ┆     ┆     ┆     ┆     ┆     ┆     ┆     ┆     ┆     ┆     ┆     ┆     ┆     ┆     │\n",
       "│ 1   ┆ 1   ┆ 1   ┆ 0   ┆ 6   ┆ 0   ┆ 1   ┆ 0.2 ┆ 0.8 ┆ 1   ┆ 0.2 ┆ 0.9 ┆ -0. ┆ 0.6 ┆ 40  ┆ 16  ┆ 16  ┆ 0   ┆ 0   ┆ 0.2 ┆ 0.2 ┆ 0.8 ┆ 0.8 ┆ 0.2 ┆ 0.2 ┆ 0.2 ┆ 0.2 ┆ 0.8 ┆ 0.8 ┆ 0.7 ┆ 0.7 ┆ 1.0 ┆ 1.8 ┆ 24  ┆ 16  ┆ 1   ┆ 0   ┆ -0. ┆ -0. ┆ 0.2 ┆ -0. ┆ -0. ┆ 0   ┆ 0   ┆ 0   ┆ 0   ┆ 0   ┆ 32  │\n",
       "│     ┆     ┆     ┆     ┆     ┆     ┆     ┆ 2   ┆     ┆     ┆ 588 ┆ 659 ┆ 781 ┆ 234 ┆     ┆     ┆     ┆     ┆     ┆ 4   ┆ 4   ┆ 1   ┆ 1   ┆ 266 ┆ 2   ┆ 333 ┆ 4   ┆ 033 ┆     ┆ 766 ┆ 75  ┆ 2   ┆     ┆     ┆     ┆     ┆     ┆ 02  ┆ 02  ┆ 2   ┆ 01  ┆ 01  ┆     ┆     ┆     ┆     ┆     ┆     │\n",
       "│     ┆     ┆     ┆     ┆     ┆     ┆     ┆     ┆     ┆     ┆ 19  ┆ 26  ┆ 831 ┆ 9   ┆     ┆     ┆     ┆     ┆     ┆     ┆     ┆     ┆     ┆ 67  ┆     ┆ 33  ┆     ┆ 33  ┆     ┆ 67  ┆     ┆     ┆     ┆     ┆     ┆     ┆     ┆     ┆     ┆     ┆     ┆     ┆     ┆     ┆     ┆     ┆     ┆     │\n",
       "│ 1   ┆ 1   ┆ 2   ┆ 0   ┆ 6   ┆ 0   ┆ 1   ┆ 0.2 ┆ 0.8 ┆ 1   ┆ 0.5 ┆ 0.8 ┆ -0. ┆ 0.6 ┆ 32  ┆ 40  ┆ 16  ┆ 1   ┆ 0   ┆ 0.2 ┆ 0.2 ┆ 0.8 ┆ 0.8 ┆ 0.2 ┆ 0.2 ┆ 0.2 ┆ 0.2 ┆ 0.8 ┆ 0.8 ┆ 0.7 ┆ 0.7 ┆ 1.0 ┆ 2.8 ┆ -8  ┆ 16  ┆ 1   ┆ 0   ┆ 0.0 ┆ -0. ┆ 0.2 ┆ 0.0 ┆ -0. ┆ 0   ┆ 0   ┆ 0   ┆ 0   ┆ 0   ┆ 13  │\n",
       "│     ┆     ┆     ┆     ┆     ┆     ┆     ┆ 2   ┆     ┆     ┆     ┆ 660 ┆ 781 ┆ 234 ┆     ┆     ┆     ┆     ┆     ┆ 2   ┆ 4   ┆     ┆ 1   ┆ 266 ┆ 2   ┆ 333 ┆ 4   ┆ 033 ┆     ┆ 766 ┆ 75  ┆ 2   ┆     ┆     ┆     ┆     ┆     ┆     ┆ 02  ┆ 2   ┆     ┆ 01  ┆     ┆     ┆     ┆     ┆     ┆     │\n",
       "│     ┆     ┆     ┆     ┆     ┆     ┆     ┆     ┆     ┆     ┆     ┆ 25  ┆ 831 ┆ 9   ┆     ┆     ┆     ┆     ┆     ┆     ┆     ┆     ┆     ┆ 67  ┆     ┆ 33  ┆     ┆ 33  ┆     ┆ 67  ┆     ┆     ┆     ┆     ┆     ┆     ┆     ┆     ┆     ┆     ┆     ┆     ┆     ┆     ┆     ┆     ┆     ┆     │\n",
       "└─────┴─────┴─────┴─────┴─────┴─────┴─────┴─────┴─────┴─────┴─────┴─────┴─────┴─────┴─────┴─────┴─────┴─────┴─────┴─────┴─────┴─────┴─────┴─────┴─────┴─────┴─────┴─────┴─────┴─────┴─────┴─────┴─────┴─────┴─────┴─────┴─────┴─────┴─────┴─────┴─────┴─────┴─────┴─────┴─────┴─────┴─────┴─────┘"
      ]
     },
     "execution_count": 27,
     "metadata": {},
     "output_type": "execute_result"
    }
   ],
   "source": [
    "fp: str = \"../../../../Documents/data_dump/bike_data/database.parquet\"\n",
    "data: pl.DataFrame = pl.read_parquet(fp)\n",
    "console.print(f\"Shape: {data.shape}\", style=\"info\")\n",
    "display(data.head(2))\n",
    "\n",
    "\n",
    "feat_eng = FeatureEngineer()\n",
    "features_df: pl.DataFrame = feat_eng.create_all_features(\n",
    "    data, config=app_config.feature_config\n",
    ")\n",
    "features_df.head(3)"
   ]
  },
  {
   "cell_type": "code",
   "execution_count": 28,
   "id": "9330cb2f",
   "metadata": {},
   "outputs": [
    {
     "name": "stdout",
     "output_type": "stream",
     "text": [
      "2025-10-08 20:55:29 - mlflow_tracker - [INFO] - Set MLflow tracking URI to: http://localhost:5001\n",
      "2025-10-08 20:55:31 - mlflow_tracker - [INFO] - Created new experiment: bike rental (ID: 1)\n",
      "2025-10-08 20:55:31 - mlflow_tracker - [INFO] - Set experiment to: bike rental (ID: 1)\n",
      "2025-10-08 20:55:31 - mlflow_tracker - [INFO] - Initialized MLFlowTracker with experiment: bike rental\n",
      "Shapes -> x_train: (11260, 47), y_train: (11260,), x_val: (1252, 47), y_val: (1252,), x_test: (1391, 47), y_test: (1391,)\n",
      "2025-10-08 20:55:31 - trainer - [INFO] - Data preparation complete.\n"
     ]
    }
   ],
   "source": [
    "trainer = ModelTrainer(data=features_df)"
   ]
  },
  {
   "cell_type": "code",
   "execution_count": null,
   "id": "cdc470c5",
   "metadata": {},
   "outputs": [
    {
     "name": "stdout",
     "output_type": "stream",
     "text": [
      "2025-10-08 21:11:40 - mlflow_tracker - [INFO] - Set MLflow tracking URI to: http://localhost:5001\n"
     ]
    },
    {
     "name": "stderr",
     "output_type": "stream",
     "text": [
      "[autoreload of src.exp_tracking.mlflow failed: Traceback (most recent call last):\n",
      "  File \"/Users/mac/Desktop/Projects/Bike-Rental-Prediction/.venv/lib/python3.12/site-packages/IPython/extensions/autoreload.py\", line 325, in check\n",
      "    superreload(m, reload, self.old_objects)\n",
      "  File \"/Users/mac/Desktop/Projects/Bike-Rental-Prediction/.venv/lib/python3.12/site-packages/IPython/extensions/autoreload.py\", line 580, in superreload\n",
      "    module = reload(module)\n",
      "             ^^^^^^^^^^^^^^\n",
      "  File \"/Users/mac/.local/share/uv/python/cpython-3.12.11-macos-aarch64-none/lib/python3.12/importlib/__init__.py\", line 131, in reload\n",
      "    _bootstrap._exec(spec, module)\n",
      "  File \"<frozen importlib._bootstrap>\", line 866, in _exec\n",
      "  File \"<frozen importlib._bootstrap_external>\", line 999, in exec_module\n",
      "  File \"<frozen importlib._bootstrap>\", line 488, in _call_with_frames_removed\n",
      "  File \"/Users/mac/Desktop/Projects/Bike-Rental-Prediction/src/exp_tracking/mlflow.py\", line 18, in <module>\n",
      "    from src.exceptions import MLFlowConnectionError, MLFlowError\n",
      "ImportError: cannot import name 'MLFlowConnectionError' from 'src.exceptions' (/Users/mac/Desktop/Projects/Bike-Rental-Prediction/src/exceptions.py)\n",
      "]\n",
      "INFO:mlflow_tracker:Set MLflow tracking URI to: http://localhost:5001\n"
     ]
    },
    {
     "name": "stdout",
     "output_type": "stream",
     "text": [
      "2025-10-08 21:11:40 - mlflow_tracker - [INFO] - Set experiment to: bike rental (ID: 1)\n"
     ]
    },
    {
     "name": "stderr",
     "output_type": "stream",
     "text": [
      "INFO:mlflow_tracker:Set experiment to: bike rental (ID: 1)\n"
     ]
    },
    {
     "name": "stdout",
     "output_type": "stream",
     "text": [
      "2025-10-08 21:11:40 - mlflow_tracker - [INFO] - Initialized MLFlowTracker with experiment: bike rental\n"
     ]
    },
    {
     "name": "stderr",
     "output_type": "stream",
     "text": [
      "INFO:mlflow_tracker:Initialized MLFlowTracker with experiment: bike rental\n"
     ]
    },
    {
     "name": "stdout",
     "output_type": "stream",
     "text": [
      "Shapes -> x_train: (11260, 47), y_train: (11260,), x_val: (1252, 47), y_val: (1252,), x_test: (1391, 47), y_test: (1391,)\n",
      "2025-10-08 21:11:40 - trainer - [INFO] - Data preparation complete.\n"
     ]
    },
    {
     "name": "stderr",
     "output_type": "stream",
     "text": [
      "INFO:trainer:Data preparation complete.\n"
     ]
    },
    {
     "name": "stdout",
     "output_type": "stream",
     "text": [
      "2025-10-08 21:11:40 - trainer - [INFO] - 🚀 Training with default hyperparameters\n"
     ]
    },
    {
     "name": "stderr",
     "output_type": "stream",
     "text": [
      "INFO:trainer:🚀 Training with default hyperparameters\n"
     ]
    },
    {
     "name": "stdout",
     "output_type": "stream",
     "text": [
      "2025-10-08 21:11:40 - mlflow_tracker - [INFO] - Started MLflow run: b211c60188564672a269a00a02f0184a (name: run_2025-10-08T21:11:40)\n"
     ]
    },
    {
     "name": "stderr",
     "output_type": "stream",
     "text": [
      "INFO:mlflow_tracker:Started MLflow run: b211c60188564672a269a00a02f0184a (name: run_2025-10-08T21:11:40)\n"
     ]
    },
    {
     "name": "stdout",
     "output_type": "stream",
     "text": [
      "2025-10-08 21:11:40 - trainer - [INFO] - Training Random Forest ...\n"
     ]
    },
    {
     "name": "stderr",
     "output_type": "stream",
     "text": [
      "INFO:trainer:Training Random Forest ...\n"
     ]
    },
    {
     "name": "stdout",
     "output_type": "stream",
     "text": [
      "2025-10-08 21:11:40 - trainer - [INFO] - Starting Random Forest training with TimeSeriesSplit cross-validation.\n"
     ]
    },
    {
     "name": "stderr",
     "output_type": "stream",
     "text": [
      "INFO:trainer:Starting Random Forest training with TimeSeriesSplit cross-validation.\n"
     ]
    },
    {
     "name": "stdout",
     "output_type": "stream",
     "text": [
      "2025-10-08 21:12:29 - mlflow_tracker - [INFO] - ✅ Successfully logged ModelType.RANDOM_FOREST model and metadata\n"
     ]
    },
    {
     "name": "stderr",
     "output_type": "stream",
     "text": [
      "INFO:mlflow_tracker:✅ Successfully logged ModelType.RANDOM_FOREST model and metadata\n"
     ]
    },
    {
     "name": "stdout",
     "output_type": "stream",
     "text": [
      "2025-10-08 21:12:29 - trainer - [INFO] - 🚀 Random Forest training completed successfully.\n"
     ]
    },
    {
     "name": "stderr",
     "output_type": "stream",
     "text": [
      "INFO:trainer:🚀 Random Forest training completed successfully.\n"
     ]
    },
    {
     "name": "stdout",
     "output_type": "stream",
     "text": [
      "2025-10-08 21:12:29 - trainer - [INFO] - Training XGBoost ...\n"
     ]
    },
    {
     "name": "stderr",
     "output_type": "stream",
     "text": [
      "INFO:trainer:Training XGBoost ...\n"
     ]
    },
    {
     "name": "stdout",
     "output_type": "stream",
     "text": [
      "[0]\ttrain-rmse:142.48170+0.56817\ttest-rmse:142.63249+2.24840\n",
      "[1]\ttrain-rmse:129.85876+0.50282\ttest-rmse:130.08309+2.16342\n",
      "[2]\ttrain-rmse:118.56982+0.45545\ttest-rmse:118.91451+2.04287\n",
      "[3]\ttrain-rmse:108.45974+0.45573\ttest-rmse:109.01153+1.94537\n",
      "[4]\ttrain-rmse:99.37948+0.40943\ttest-rmse:100.10433+1.89918\n",
      "[5]\ttrain-rmse:91.22467+0.35162\ttest-rmse:92.11303+1.84627\n",
      "[6]\ttrain-rmse:83.95013+0.34549\ttest-rmse:84.98993+1.66377\n",
      "[7]\ttrain-rmse:77.48305+0.34584\ttest-rmse:78.72044+1.57090\n",
      "[8]\ttrain-rmse:71.70569+0.30600\ttest-rmse:73.11866+1.46897\n",
      "[9]\ttrain-rmse:66.60278+0.25523\ttest-rmse:68.19763+1.42540\n",
      "[10]\ttrain-rmse:61.99538+0.28571\ttest-rmse:63.72915+1.30815\n",
      "[11]\ttrain-rmse:57.92426+0.27307\ttest-rmse:59.82035+1.22944\n",
      "[12]\ttrain-rmse:54.31092+0.27057\ttest-rmse:56.39173+1.11397\n",
      "[13]\ttrain-rmse:51.19342+0.29264\ttest-rmse:53.45541+1.04063\n",
      "[14]\ttrain-rmse:48.41713+0.30737\ttest-rmse:50.87720+0.91537\n",
      "[15]\ttrain-rmse:45.95426+0.26987\ttest-rmse:48.59110+0.85173\n",
      "[16]\ttrain-rmse:43.80155+0.27064\ttest-rmse:46.64681+0.75429\n",
      "[17]\ttrain-rmse:41.90436+0.23828\ttest-rmse:44.93909+0.74186\n",
      "[18]\ttrain-rmse:40.22649+0.22602\ttest-rmse:43.46018+0.74055\n",
      "[19]\ttrain-rmse:38.75325+0.25693\ttest-rmse:42.17194+0.68269\n",
      "[20]\ttrain-rmse:37.39328+0.23815\ttest-rmse:40.95743+0.66178\n",
      "[21]\ttrain-rmse:36.23846+0.26426\ttest-rmse:39.98916+0.70576\n",
      "[22]\ttrain-rmse:35.21371+0.24587\ttest-rmse:39.12249+0.70552\n",
      "[23]\ttrain-rmse:34.28856+0.29959\ttest-rmse:38.36859+0.74754\n",
      "[24]\ttrain-rmse:33.47436+0.30950\ttest-rmse:37.73219+0.72982\n",
      "[25]\ttrain-rmse:32.75302+0.31445\ttest-rmse:37.17022+0.75505\n",
      "[26]\ttrain-rmse:32.10519+0.28672\ttest-rmse:36.70251+0.82237\n",
      "[27]\ttrain-rmse:31.55710+0.30136\ttest-rmse:36.33297+0.81881\n",
      "[28]\ttrain-rmse:31.00544+0.26869\ttest-rmse:35.92262+0.87113\n",
      "[29]\ttrain-rmse:30.55930+0.27163\ttest-rmse:35.61826+0.90478\n",
      "[30]\ttrain-rmse:30.12697+0.29464\ttest-rmse:35.31696+0.90820\n",
      "[31]\ttrain-rmse:29.72615+0.25936\ttest-rmse:35.07267+0.95153\n",
      "[32]\ttrain-rmse:29.36508+0.26197\ttest-rmse:34.84948+0.95482\n",
      "[33]\ttrain-rmse:29.04029+0.25851\ttest-rmse:34.69256+0.96980\n",
      "[34]\ttrain-rmse:28.69291+0.27178\ttest-rmse:34.49244+0.98841\n",
      "[35]\ttrain-rmse:28.36119+0.27226\ttest-rmse:34.30497+1.03049\n",
      "[36]\ttrain-rmse:28.09078+0.26361\ttest-rmse:34.14547+1.06674\n",
      "[37]\ttrain-rmse:27.85091+0.25559\ttest-rmse:34.02096+1.07997\n",
      "[38]\ttrain-rmse:27.64570+0.26696\ttest-rmse:33.94322+1.07693\n",
      "[39]\ttrain-rmse:27.42288+0.27679\ttest-rmse:33.84494+1.06223\n",
      "[40]\ttrain-rmse:27.22801+0.29313\ttest-rmse:33.77148+1.07258\n",
      "[41]\ttrain-rmse:26.99834+0.30149\ttest-rmse:33.68056+1.11003\n",
      "[42]\ttrain-rmse:26.78555+0.30783\ttest-rmse:33.58724+1.11647\n",
      "[43]\ttrain-rmse:26.55389+0.34051\ttest-rmse:33.45878+1.08588\n",
      "[44]\ttrain-rmse:26.33774+0.29720\ttest-rmse:33.34972+1.17836\n",
      "[45]\ttrain-rmse:26.10967+0.21746\ttest-rmse:33.22954+1.20847\n",
      "[46]\ttrain-rmse:25.82347+0.24724\ttest-rmse:33.05343+1.23427\n",
      "[47]\ttrain-rmse:25.65021+0.21919\ttest-rmse:32.96440+1.27068\n",
      "[48]\ttrain-rmse:25.46560+0.27546\ttest-rmse:32.86827+1.23986\n",
      "[49]\ttrain-rmse:25.32651+0.24969\ttest-rmse:32.78945+1.29313\n",
      "[50]\ttrain-rmse:25.20496+0.23539\ttest-rmse:32.74482+1.31141\n",
      "[51]\ttrain-rmse:25.09689+0.26034\ttest-rmse:32.68954+1.31199\n",
      "[52]\ttrain-rmse:24.95365+0.25025\ttest-rmse:32.64418+1.33362\n",
      "[53]\ttrain-rmse:24.78809+0.28453\ttest-rmse:32.57047+1.30304\n",
      "[54]\ttrain-rmse:24.64516+0.25673\ttest-rmse:32.50445+1.34328\n",
      "[55]\ttrain-rmse:24.54179+0.30113\ttest-rmse:32.47211+1.33657\n",
      "[56]\ttrain-rmse:24.46414+0.30779\ttest-rmse:32.44118+1.33915\n",
      "[57]\ttrain-rmse:24.38911+0.30645\ttest-rmse:32.40523+1.34513\n",
      "[58]\ttrain-rmse:24.25790+0.28449\ttest-rmse:32.36225+1.36373\n",
      "[59]\ttrain-rmse:24.15746+0.27787\ttest-rmse:32.34181+1.37107\n",
      "[60]\ttrain-rmse:24.10549+0.27734\ttest-rmse:32.31860+1.37724\n",
      "[61]\ttrain-rmse:24.04145+0.26641\ttest-rmse:32.30111+1.37726\n",
      "[62]\ttrain-rmse:23.98162+0.28418\ttest-rmse:32.29838+1.37378\n",
      "[63]\ttrain-rmse:23.90564+0.27724\ttest-rmse:32.27986+1.37672\n",
      "[64]\ttrain-rmse:23.85670+0.28395\ttest-rmse:32.26685+1.37374\n",
      "[65]\ttrain-rmse:23.77293+0.28232\ttest-rmse:32.22984+1.37251\n",
      "[66]\ttrain-rmse:23.72558+0.30198\ttest-rmse:32.22464+1.36896\n",
      "[67]\ttrain-rmse:23.69566+0.29833\ttest-rmse:32.21644+1.36833\n",
      "[68]\ttrain-rmse:23.63966+0.29665\ttest-rmse:32.21048+1.36397\n",
      "[69]\ttrain-rmse:23.53196+0.28389\ttest-rmse:32.16957+1.37720\n",
      "[70]\ttrain-rmse:23.45906+0.28401\ttest-rmse:32.14765+1.38205\n",
      "[71]\ttrain-rmse:23.40014+0.27481\ttest-rmse:32.13020+1.38097\n",
      "[72]\ttrain-rmse:23.33785+0.26113\ttest-rmse:32.11588+1.38940\n",
      "[73]\ttrain-rmse:23.28299+0.26488\ttest-rmse:32.11222+1.38442\n",
      "[74]\ttrain-rmse:23.21344+0.27214\ttest-rmse:32.11413+1.38486\n",
      "[75]\ttrain-rmse:23.17204+0.27452\ttest-rmse:32.10281+1.37880\n",
      "[76]\ttrain-rmse:23.11385+0.26821\ttest-rmse:32.07793+1.38374\n",
      "[77]\ttrain-rmse:23.06221+0.26405\ttest-rmse:32.05687+1.38402\n",
      "[78]\ttrain-rmse:22.97548+0.24556\ttest-rmse:32.03566+1.39745\n",
      "[79]\ttrain-rmse:22.90759+0.23003\ttest-rmse:32.02198+1.39827\n",
      "[80]\ttrain-rmse:22.85408+0.23952\ttest-rmse:32.02006+1.39811\n",
      "[81]\ttrain-rmse:22.77532+0.27644\ttest-rmse:32.01050+1.39311\n",
      "[82]\ttrain-rmse:22.70657+0.28181\ttest-rmse:31.99514+1.39447\n",
      "[83]\ttrain-rmse:22.62146+0.25870\ttest-rmse:31.95363+1.41029\n",
      "[84]\ttrain-rmse:22.55786+0.26198\ttest-rmse:31.95258+1.40931\n",
      "[85]\ttrain-rmse:22.47700+0.29979\ttest-rmse:31.93051+1.39650\n",
      "[86]\ttrain-rmse:22.41517+0.30032\ttest-rmse:31.92037+1.39989\n",
      "[87]\ttrain-rmse:22.34011+0.28898\ttest-rmse:31.90685+1.39385\n",
      "[88]\ttrain-rmse:22.29965+0.30279\ttest-rmse:31.90684+1.38666\n",
      "[89]\ttrain-rmse:22.21813+0.28226\ttest-rmse:31.86416+1.41458\n",
      "[90]\ttrain-rmse:22.15661+0.27846\ttest-rmse:31.85707+1.41291\n",
      "[91]\ttrain-rmse:22.07210+0.28064\ttest-rmse:31.85015+1.42720\n",
      "[92]\ttrain-rmse:22.00075+0.30493\ttest-rmse:31.83756+1.41875\n",
      "[93]\ttrain-rmse:21.95185+0.32074\ttest-rmse:31.82894+1.40578\n",
      "[94]\ttrain-rmse:21.87720+0.35128\ttest-rmse:31.81274+1.39370\n",
      "[95]\ttrain-rmse:21.82445+0.33393\ttest-rmse:31.80453+1.39351\n",
      "[96]\ttrain-rmse:21.78146+0.33760\ttest-rmse:31.80193+1.39393\n",
      "[97]\ttrain-rmse:21.73177+0.33313\ttest-rmse:31.79093+1.41478\n",
      "[98]\ttrain-rmse:21.68534+0.34057\ttest-rmse:31.76955+1.41555\n",
      "[99]\ttrain-rmse:21.63032+0.33052\ttest-rmse:31.75383+1.42071\n",
      "[100]\ttrain-rmse:21.58796+0.32119\ttest-rmse:31.75122+1.42351\n",
      "[101]\ttrain-rmse:21.50698+0.31837\ttest-rmse:31.74154+1.42669\n",
      "[102]\ttrain-rmse:21.44738+0.32432\ttest-rmse:31.72665+1.41927\n",
      "[103]\ttrain-rmse:21.37863+0.31414\ttest-rmse:31.71260+1.42893\n",
      "[104]\ttrain-rmse:21.33731+0.32004\ttest-rmse:31.71145+1.43343\n",
      "[105]\ttrain-rmse:21.30279+0.31681\ttest-rmse:31.70410+1.43835\n",
      "[106]\ttrain-rmse:21.21900+0.34754\ttest-rmse:31.67473+1.41908\n",
      "[107]\ttrain-rmse:21.18560+0.34202\ttest-rmse:31.67588+1.42271\n",
      "[108]\ttrain-rmse:21.14328+0.34748\ttest-rmse:31.66986+1.42789\n",
      "[109]\ttrain-rmse:21.06762+0.31655\ttest-rmse:31.64884+1.43506\n",
      "[110]\ttrain-rmse:20.99690+0.29809\ttest-rmse:31.64123+1.42695\n",
      "[111]\ttrain-rmse:20.91797+0.30009\ttest-rmse:31.62443+1.44923\n",
      "[112]\ttrain-rmse:20.87165+0.31586\ttest-rmse:31.62349+1.44866\n",
      "[113]\ttrain-rmse:20.82389+0.32120\ttest-rmse:31.62279+1.44916\n",
      "[114]\ttrain-rmse:20.77290+0.32727\ttest-rmse:31.62809+1.44280\n",
      "[115]\ttrain-rmse:20.73872+0.34458\ttest-rmse:31.62384+1.44454\n",
      "[116]\ttrain-rmse:20.70673+0.34455\ttest-rmse:31.62619+1.45408\n",
      "[117]\ttrain-rmse:20.66557+0.32975\ttest-rmse:31.62416+1.46418\n",
      "[118]\ttrain-rmse:20.62295+0.34406\ttest-rmse:31.61744+1.45542\n",
      "[119]\ttrain-rmse:20.58411+0.32851\ttest-rmse:31.61547+1.45559\n",
      "[120]\ttrain-rmse:20.53637+0.30778\ttest-rmse:31.60056+1.47283\n",
      "[121]\ttrain-rmse:20.47659+0.28901\ttest-rmse:31.59096+1.46607\n",
      "[122]\ttrain-rmse:20.42361+0.27312\ttest-rmse:31.58797+1.46513\n",
      "[123]\ttrain-rmse:20.39361+0.26032\ttest-rmse:31.58602+1.46528\n",
      "[124]\ttrain-rmse:20.33274+0.26725\ttest-rmse:31.58060+1.45657\n",
      "[125]\ttrain-rmse:20.28715+0.26438\ttest-rmse:31.57577+1.45905\n",
      "[126]\ttrain-rmse:20.24383+0.24511\ttest-rmse:31.57160+1.45983\n",
      "[127]\ttrain-rmse:20.19883+0.23165\ttest-rmse:31.56715+1.45904\n",
      "[128]\ttrain-rmse:20.13951+0.21098\ttest-rmse:31.55094+1.46501\n",
      "[129]\ttrain-rmse:20.09258+0.22758\ttest-rmse:31.53336+1.44768\n",
      "[130]\ttrain-rmse:20.05403+0.22159\ttest-rmse:31.53361+1.44254\n",
      "[131]\ttrain-rmse:19.97930+0.23624\ttest-rmse:31.52013+1.43142\n",
      "[132]\ttrain-rmse:19.88500+0.22993\ttest-rmse:31.50166+1.43971\n",
      "[133]\ttrain-rmse:19.82915+0.24034\ttest-rmse:31.49672+1.43722\n",
      "[134]\ttrain-rmse:19.76238+0.24224\ttest-rmse:31.48263+1.44224\n",
      "[135]\ttrain-rmse:19.69954+0.23986\ttest-rmse:31.47574+1.43973\n",
      "[136]\ttrain-rmse:19.65805+0.23727\ttest-rmse:31.46320+1.44698\n",
      "[137]\ttrain-rmse:19.58651+0.26483\ttest-rmse:31.44305+1.43400\n",
      "[138]\ttrain-rmse:19.52858+0.28248\ttest-rmse:31.43307+1.43137\n",
      "[139]\ttrain-rmse:19.49317+0.29966\ttest-rmse:31.43453+1.43225\n",
      "[140]\ttrain-rmse:19.44715+0.29939\ttest-rmse:31.43463+1.43367\n",
      "[141]\ttrain-rmse:19.39824+0.30627\ttest-rmse:31.42999+1.42951\n",
      "[142]\ttrain-rmse:19.33970+0.29777\ttest-rmse:31.42493+1.42792\n",
      "[143]\ttrain-rmse:19.30218+0.31161\ttest-rmse:31.41897+1.42736\n",
      "[144]\ttrain-rmse:19.24592+0.30754\ttest-rmse:31.41958+1.42629\n",
      "[145]\ttrain-rmse:19.19864+0.31852\ttest-rmse:31.42299+1.42262\n",
      "[146]\ttrain-rmse:19.14318+0.30796\ttest-rmse:31.42371+1.42392\n",
      "[147]\ttrain-rmse:19.09892+0.27989\ttest-rmse:31.42126+1.42118\n",
      "[148]\ttrain-rmse:19.05910+0.26325\ttest-rmse:31.41396+1.42243\n",
      "[149]\ttrain-rmse:19.01938+0.26388\ttest-rmse:31.41190+1.42669\n",
      "[150]\ttrain-rmse:18.97895+0.26902\ttest-rmse:31.41258+1.41501\n",
      "[151]\ttrain-rmse:18.93962+0.26093\ttest-rmse:31.41427+1.41015\n",
      "[152]\ttrain-rmse:18.89945+0.25192\ttest-rmse:31.41652+1.39564\n",
      "[153]\ttrain-rmse:18.85321+0.24534\ttest-rmse:31.41011+1.39690\n",
      "[154]\ttrain-rmse:18.79107+0.21620\ttest-rmse:31.40491+1.40860\n",
      "[155]\ttrain-rmse:18.75972+0.21014\ttest-rmse:31.40663+1.40895\n",
      "[156]\ttrain-rmse:18.71845+0.21782\ttest-rmse:31.40404+1.40768\n",
      "[157]\ttrain-rmse:18.69063+0.22100\ttest-rmse:31.40764+1.41214\n",
      "[158]\ttrain-rmse:18.65765+0.21303\ttest-rmse:31.40335+1.40573\n",
      "[159]\ttrain-rmse:18.61663+0.21696\ttest-rmse:31.39368+1.40571\n",
      "[160]\ttrain-rmse:18.56824+0.24386\ttest-rmse:31.38986+1.40044\n",
      "[161]\ttrain-rmse:18.52591+0.25148\ttest-rmse:31.38948+1.39963\n",
      "[162]\ttrain-rmse:18.48665+0.24755\ttest-rmse:31.37864+1.39933\n",
      "[163]\ttrain-rmse:18.44526+0.24654\ttest-rmse:31.38361+1.39392\n",
      "[164]\ttrain-rmse:18.39071+0.26325\ttest-rmse:31.39172+1.39143\n",
      "[165]\ttrain-rmse:18.33906+0.23883\ttest-rmse:31.38756+1.39189\n",
      "[166]\ttrain-rmse:18.30742+0.23857\ttest-rmse:31.38933+1.38663\n",
      "[167]\ttrain-rmse:18.28688+0.23709\ttest-rmse:31.38742+1.38902\n",
      "[168]\ttrain-rmse:18.25267+0.24279\ttest-rmse:31.38823+1.39191\n",
      "[169]\ttrain-rmse:18.21541+0.25111\ttest-rmse:31.39221+1.38794\n",
      "[170]\ttrain-rmse:18.16144+0.23528\ttest-rmse:31.39046+1.39539\n",
      "[171]\ttrain-rmse:18.11090+0.24843\ttest-rmse:31.37977+1.39062\n",
      "[172]\ttrain-rmse:18.06999+0.23742\ttest-rmse:31.37926+1.38110\n",
      "[173]\ttrain-rmse:18.03797+0.24231\ttest-rmse:31.37919+1.38143\n",
      "[174]\ttrain-rmse:17.99638+0.24863\ttest-rmse:31.37914+1.38090\n",
      "[175]\ttrain-rmse:17.95137+0.24883\ttest-rmse:31.37288+1.38275\n",
      "[176]\ttrain-rmse:17.91019+0.26046\ttest-rmse:31.36431+1.38421\n",
      "[177]\ttrain-rmse:17.85841+0.27554\ttest-rmse:31.36495+1.38189\n",
      "[178]\ttrain-rmse:17.83219+0.27735\ttest-rmse:31.36322+1.38759\n",
      "[179]\ttrain-rmse:17.78231+0.25980\ttest-rmse:31.35985+1.39215\n",
      "[180]\ttrain-rmse:17.74408+0.26256\ttest-rmse:31.35338+1.39928\n",
      "[181]\ttrain-rmse:17.69881+0.25740\ttest-rmse:31.35109+1.40426\n",
      "[182]\ttrain-rmse:17.66884+0.26217\ttest-rmse:31.35308+1.40340\n",
      "[183]\ttrain-rmse:17.62955+0.25706\ttest-rmse:31.34938+1.40341\n",
      "[184]\ttrain-rmse:17.58890+0.26540\ttest-rmse:31.33916+1.40657\n",
      "[185]\ttrain-rmse:17.54912+0.25149\ttest-rmse:31.34175+1.40744\n",
      "[186]\ttrain-rmse:17.51859+0.24878\ttest-rmse:31.33792+1.40305\n",
      "[187]\ttrain-rmse:17.48772+0.24169\ttest-rmse:31.34001+1.40402\n",
      "[188]\ttrain-rmse:17.44675+0.24265\ttest-rmse:31.33437+1.40460\n",
      "[189]\ttrain-rmse:17.42238+0.25137\ttest-rmse:31.33273+1.40609\n",
      "[190]\ttrain-rmse:17.37173+0.23387\ttest-rmse:31.33581+1.39830\n",
      "[191]\ttrain-rmse:17.32820+0.22941\ttest-rmse:31.33216+1.40131\n",
      "[192]\ttrain-rmse:17.27587+0.21537\ttest-rmse:31.33298+1.39720\n",
      "[193]\ttrain-rmse:17.23557+0.23254\ttest-rmse:31.33515+1.39816\n",
      "[194]\ttrain-rmse:17.20058+0.23101\ttest-rmse:31.33525+1.39544\n",
      "[195]\ttrain-rmse:17.16670+0.24376\ttest-rmse:31.33272+1.39419\n",
      "[196]\ttrain-rmse:17.13983+0.24120\ttest-rmse:31.33102+1.39191\n",
      "[197]\ttrain-rmse:17.10651+0.24691\ttest-rmse:31.31887+1.38729\n",
      "[198]\ttrain-rmse:17.07395+0.25451\ttest-rmse:31.31243+1.39937\n",
      "[199]\ttrain-rmse:17.03788+0.26292\ttest-rmse:31.31413+1.39447\n",
      "2025-10-08 21:12:33 - mlflow_tracker - [INFO] - ✅ Successfully logged ModelType.XGBOOST model and metadata\n"
     ]
    },
    {
     "name": "stderr",
     "output_type": "stream",
     "text": [
      "INFO:mlflow_tracker:✅ Successfully logged ModelType.XGBOOST model and metadata\n"
     ]
    },
    {
     "name": "stdout",
     "output_type": "stream",
     "text": [
      "2025-10-08 21:12:33 - trainer - [INFO] - 🚀 XGBoost training completed successfully.\n"
     ]
    },
    {
     "name": "stderr",
     "output_type": "stream",
     "text": [
      "INFO:trainer:🚀 XGBoost training completed successfully.\n"
     ]
    },
    {
     "name": "stdout",
     "output_type": "stream",
     "text": [
      "2025-10-08 21:12:33 - trainer - [INFO] - Training LightGBM ...\n"
     ]
    },
    {
     "name": "stderr",
     "output_type": "stream",
     "text": [
      "INFO:trainer:Training LightGBM ...\n"
     ]
    },
    {
     "name": "stdout",
     "output_type": "stream",
     "text": [
      "[LightGBM] [Info] Auto-choosing row-wise multi-threading, the overhead of testing was 0.003021 seconds.\n",
      "You can set `force_row_wise=true` to remove the overhead.\n",
      "And if memory is not enough, you can set `force_col_wise=true`.\n",
      "[LightGBM] [Info] Total Bins 4083\n",
      "[LightGBM] [Info] Number of data points in the train set: 11260, number of used features: 47\n",
      "[LightGBM] [Info] Start training from score 152.730817\n",
      "Training until validation scores don't improve for 20 rounds\n",
      "Did not meet early stopping. Best iteration is:\n",
      "[86]\ttraining's rmse: 22.903\ttraining's l1: 15.3908\tvalid_1's rmse: 58.5008\tvalid_1's l1: 36.5196\n",
      "2025-10-08 21:12:34 - mlflow_tracker - [INFO] - ✅ Successfully logged ModelType.LIGHTGBM model and metadata\n"
     ]
    },
    {
     "name": "stderr",
     "output_type": "stream",
     "text": [
      "INFO:mlflow_tracker:✅ Successfully logged ModelType.LIGHTGBM model and metadata\n"
     ]
    },
    {
     "name": "stdout",
     "output_type": "stream",
     "text": [
      "2025-10-08 21:12:34 - trainer - [INFO] - 🚀 LightGBM training completed successfully.\n"
     ]
    },
    {
     "name": "stderr",
     "output_type": "stream",
     "text": [
      "INFO:trainer:🚀 LightGBM training completed successfully.\n"
     ]
    },
    {
     "name": "stdout",
     "output_type": "stream",
     "text": [
      "2025-10-08 21:12:34 - trainer - [INFO] - ✅ ALL models training completed successfully.\n"
     ]
    },
    {
     "name": "stderr",
     "output_type": "stream",
     "text": [
      "INFO:trainer:✅ ALL models training completed successfully.\n"
     ]
    },
    {
     "name": "stdout",
     "output_type": "stream",
     "text": [
      "2025-10-08 21:12:34 - visualization - [INFO] - Saved grouped metrics chart to /Users/mac/Desktop/Projects/Bike-Rental-Prediction/reports/model_metrics_comparison_2025-10-08T21:12:34.html\n"
     ]
    },
    {
     "name": "stderr",
     "output_type": "stream",
     "text": [
      "INFO:visualization:Saved grouped metrics chart to /Users/mac/Desktop/Projects/Bike-Rental-Prediction/reports/model_metrics_comparison_2025-10-08T21:12:34.html\n"
     ]
    },
    {
     "name": "stdout",
     "output_type": "stream",
     "text": [
      "2025-10-08 21:12:34 - trainer - [INFO] - ✅ Successfully generated visualizations.\n"
     ]
    },
    {
     "name": "stderr",
     "output_type": "stream",
     "text": [
      "INFO:trainer:✅ Successfully generated visualizations.\n"
     ]
    },
    {
     "name": "stdout",
     "output_type": "stream",
     "text": [
      "🏃 View run run_2025-10-08T21:11:40 at: http://localhost:5001/#/experiments/1/runs/b211c60188564672a269a00a02f0184a\n",
      "🧪 View experiment at: http://localhost:5001/#/experiments/1\n",
      "2025-10-08 21:12:36 - mlflow_tracker - [INFO] - Ended MLflow run with status: FINISHED\n"
     ]
    },
    {
     "name": "stderr",
     "output_type": "stream",
     "text": [
      "INFO:mlflow_tracker:Ended MLflow run with status: FINISHED\n"
     ]
    },
    {
     "name": "stdout",
     "output_type": "stream",
     "text": [
      "2025-10-08 21:12:36 - mlflow_tracker - [INFO] - Ended MLflow run with status: FINISHED\n"
     ]
    },
    {
     "name": "stderr",
     "output_type": "stream",
     "text": [
      "INFO:mlflow_tracker:Ended MLflow run with status: FINISHED\n"
     ]
    },
    {
     "name": "stdout",
     "output_type": "stream",
     "text": [
      "2025-10-08 21:12:36 - trainer - [INFO] - Syncing artifacts to S3...\n"
     ]
    },
    {
     "name": "stderr",
     "output_type": "stream",
     "text": [
      "INFO:trainer:Syncing artifacts to S3...\n"
     ]
    },
    {
     "name": "stdout",
     "output_type": "stream",
     "text": [
      "WARNING: No regex match found!\n",
      "WARNING: No regex match found!\n"
     ]
    },
    {
     "data": {
      "application/vnd.jupyter.widget-view+json": {
       "model_id": "fccff0222fed4b608e13cd125087656a",
       "version_major": 2,
       "version_minor": 0
      },
      "text/plain": [
       "Downloading artifacts:   0%|          | 0/13 [00:00<?, ?it/s]"
      ]
     },
     "metadata": {},
     "output_type": "display_data"
    },
    {
     "name": "stdout",
     "output_type": "stream",
     "text": [
      "2025-10-08 21:12:37 - mlflow_s3_utils - [INFO] - Synced models/feat_imp_xgboost.json to S3\n"
     ]
    },
    {
     "name": "stderr",
     "output_type": "stream",
     "text": [
      "INFO:mlflow_s3_utils:Synced models/feat_imp_xgboost.json to S3\n"
     ]
    },
    {
     "name": "stdout",
     "output_type": "stream",
     "text": [
      "2025-10-08 21:12:37 - mlflow_s3_utils - [INFO] - Synced models/feat_imp_random_forest.json to S3\n"
     ]
    },
    {
     "name": "stderr",
     "output_type": "stream",
     "text": [
      "INFO:mlflow_s3_utils:Synced models/feat_imp_random_forest.json to S3\n"
     ]
    },
    {
     "name": "stdout",
     "output_type": "stream",
     "text": [
      "2025-10-08 21:12:37 - mlflow_s3_utils - [INFO] - Synced models/feat_imp_lightgbm.json to S3\n"
     ]
    },
    {
     "name": "stderr",
     "output_type": "stream",
     "text": [
      "INFO:mlflow_s3_utils:Synced models/feat_imp_lightgbm.json to S3\n"
     ]
    },
    {
     "name": "stdout",
     "output_type": "stream",
     "text": [
      "2025-10-08 21:12:38 - mlflow_s3_utils - [INFO] - Synced models/ModelType.LIGHTGBM/ModelType.LIGHTGBM_2025-10-08T21:12:34_metadata.yaml to S3\n"
     ]
    },
    {
     "name": "stderr",
     "output_type": "stream",
     "text": [
      "INFO:mlflow_s3_utils:Synced models/ModelType.LIGHTGBM/ModelType.LIGHTGBM_2025-10-08T21:12:34_metadata.yaml to S3\n"
     ]
    },
    {
     "name": "stdout",
     "output_type": "stream",
     "text": [
      "2025-10-08 21:12:38 - mlflow_s3_utils - [INFO] - Synced models/ModelType.LIGHTGBM/ModelType.LIGHTGBM_2025-10-08T21:12:34_model.txt to S3\n"
     ]
    },
    {
     "name": "stderr",
     "output_type": "stream",
     "text": [
      "INFO:mlflow_s3_utils:Synced models/ModelType.LIGHTGBM/ModelType.LIGHTGBM_2025-10-08T21:12:34_model.txt to S3\n"
     ]
    },
    {
     "name": "stdout",
     "output_type": "stream",
     "text": [
      "2025-10-08 21:12:38 - mlflow_s3_utils - [INFO] - Synced models/ModelType.LIGHTGBM/ModelType.LIGHTGBM_2025-10-08T21:12:34_input_example.json to S3\n"
     ]
    },
    {
     "name": "stderr",
     "output_type": "stream",
     "text": [
      "INFO:mlflow_s3_utils:Synced models/ModelType.LIGHTGBM/ModelType.LIGHTGBM_2025-10-08T21:12:34_input_example.json to S3\n"
     ]
    },
    {
     "name": "stdout",
     "output_type": "stream",
     "text": [
      "2025-10-08 21:12:38 - mlflow_s3_utils - [INFO] - Synced models/ModelType.RANDOM_FOREST/ModelType.RANDOM_FOREST_2025-10-08T21:12:29_model.pkl to S3\n"
     ]
    },
    {
     "name": "stderr",
     "output_type": "stream",
     "text": [
      "INFO:mlflow_s3_utils:Synced models/ModelType.RANDOM_FOREST/ModelType.RANDOM_FOREST_2025-10-08T21:12:29_model.pkl to S3\n"
     ]
    },
    {
     "name": "stdout",
     "output_type": "stream",
     "text": [
      "2025-10-08 21:12:38 - mlflow_s3_utils - [INFO] - Synced models/ModelType.RANDOM_FOREST/ModelType.RANDOM_FOREST_2025-10-08T21:12:29_input_example.json to S3\n"
     ]
    },
    {
     "name": "stderr",
     "output_type": "stream",
     "text": [
      "INFO:mlflow_s3_utils:Synced models/ModelType.RANDOM_FOREST/ModelType.RANDOM_FOREST_2025-10-08T21:12:29_input_example.json to S3\n"
     ]
    },
    {
     "name": "stdout",
     "output_type": "stream",
     "text": [
      "2025-10-08 21:12:38 - mlflow_s3_utils - [INFO] - Synced models/ModelType.RANDOM_FOREST/ModelType.RANDOM_FOREST_2025-10-08T21:12:29_metadata.yaml to S3\n"
     ]
    },
    {
     "name": "stderr",
     "output_type": "stream",
     "text": [
      "INFO:mlflow_s3_utils:Synced models/ModelType.RANDOM_FOREST/ModelType.RANDOM_FOREST_2025-10-08T21:12:29_metadata.yaml to S3\n"
     ]
    },
    {
     "name": "stdout",
     "output_type": "stream",
     "text": [
      "2025-10-08 21:12:38 - mlflow_s3_utils - [INFO] - Synced models/ModelType.XGBOOST/ModelType.XGBOOST_2025-10-08T21:12:33_metadata.yaml to S3\n"
     ]
    },
    {
     "name": "stderr",
     "output_type": "stream",
     "text": [
      "INFO:mlflow_s3_utils:Synced models/ModelType.XGBOOST/ModelType.XGBOOST_2025-10-08T21:12:33_metadata.yaml to S3\n"
     ]
    },
    {
     "name": "stdout",
     "output_type": "stream",
     "text": [
      "2025-10-08 21:12:38 - mlflow_s3_utils - [INFO] - Synced models/ModelType.XGBOOST/ModelType.XGBOOST_2025-10-08T21:12:33_model.json to S3\n"
     ]
    },
    {
     "name": "stderr",
     "output_type": "stream",
     "text": [
      "INFO:mlflow_s3_utils:Synced models/ModelType.XGBOOST/ModelType.XGBOOST_2025-10-08T21:12:33_model.json to S3\n"
     ]
    },
    {
     "name": "stdout",
     "output_type": "stream",
     "text": [
      "2025-10-08 21:12:38 - mlflow_s3_utils - [INFO] - Synced models/ModelType.XGBOOST/ModelType.XGBOOST_2025-10-08T21:12:33_input_example.json to S3\n"
     ]
    },
    {
     "name": "stderr",
     "output_type": "stream",
     "text": [
      "INFO:mlflow_s3_utils:Synced models/ModelType.XGBOOST/ModelType.XGBOOST_2025-10-08T21:12:33_input_example.json to S3\n"
     ]
    },
    {
     "name": "stdout",
     "output_type": "stream",
     "text": [
      "2025-10-08 21:12:38 - mlflow_s3_utils - [INFO] - Synced visualizations/reports/model_metrics_comparison_2025-10-08T21:12:34.html to S3\n"
     ]
    },
    {
     "name": "stderr",
     "output_type": "stream",
     "text": [
      "INFO:mlflow_s3_utils:Synced visualizations/reports/model_metrics_comparison_2025-10-08T21:12:34.html to S3\n"
     ]
    },
    {
     "name": "stdout",
     "output_type": "stream",
     "text": [
      "2025-10-08 21:12:38 - mlflow_s3_utils - [INFO] - Successfully synced all artifacts for run b211c60188564672a269a00a02f0184a to S3\n"
     ]
    },
    {
     "name": "stderr",
     "output_type": "stream",
     "text": [
      "INFO:mlflow_s3_utils:Successfully synced all artifacts for run b211c60188564672a269a00a02f0184a to S3\n"
     ]
    },
    {
     "name": "stdout",
     "output_type": "stream",
     "text": [
      "2025-10-08 21:12:38 - trainer - [INFO] - ✅ Successfully synced artifacts to S3\n"
     ]
    },
    {
     "name": "stderr",
     "output_type": "stream",
     "text": [
      "INFO:trainer:✅ Successfully synced artifacts to S3\n"
     ]
    },
    {
     "name": "stdout",
     "output_type": "stream",
     "text": [
      "2025-10-08 21:12:38 - trainer - [INFO] - Verifying S3 artifact storage...\n"
     ]
    },
    {
     "name": "stderr",
     "output_type": "stream",
     "text": [
      "INFO:trainer:Verifying S3 artifact storage...\n"
     ]
    },
    {
     "name": "stdout",
     "output_type": "stream",
     "text": [
      "WARNING: No regex match found!\n",
      "WARNING: No regex match found!\n",
      "WARNING: No regex match found!\n",
      "2025-10-08 21:12:38 - s3_verification - [INFO] - Found 13 artifacts in S3 for run b211c60188564672a269a00a02f0184a\n"
     ]
    },
    {
     "name": "stderr",
     "output_type": "stream",
     "text": [
      "INFO:s3_verification:Found 13 artifacts in S3 for run b211c60188564672a269a00a02f0184a\n"
     ]
    },
    {
     "name": "stdout",
     "output_type": "stream",
     "text": [
      "2025-10-08 21:12:38 - s3_verification - [INFO] - Artifacts: models/ModelType.LIGHTGBM/ModelType.LIGHTGBM_2025-10-08T21:12:34_input_example.json, models/ModelType.LIGHTGBM/ModelType.LIGHTGBM_2025-10-08T21:12:34_metadata.yaml, models/ModelType.LIGHTGBM/ModelType.LIGHTGBM_2025-10-08T21:12:34_model.txt, models/ModelType.RANDOM_FOREST/ModelType.RANDOM_FOREST_2025-10-08T21:12:29_input_example.json, models/ModelType.RANDOM_FOREST/ModelType.RANDOM_FOREST_2025-10-08T21:12:29_metadata.yaml...\n"
     ]
    },
    {
     "name": "stderr",
     "output_type": "stream",
     "text": [
      "INFO:s3_verification:Artifacts: models/ModelType.LIGHTGBM/ModelType.LIGHTGBM_2025-10-08T21:12:34_input_example.json, models/ModelType.LIGHTGBM/ModelType.LIGHTGBM_2025-10-08T21:12:34_metadata.yaml, models/ModelType.LIGHTGBM/ModelType.LIGHTGBM_2025-10-08T21:12:34_model.txt, models/ModelType.RANDOM_FOREST/ModelType.RANDOM_FOREST_2025-10-08T21:12:29_input_example.json, models/ModelType.RANDOM_FOREST/ModelType.RANDOM_FOREST_2025-10-08T21:12:29_metadata.yaml...\n"
     ]
    },
    {
     "name": "stdout",
     "output_type": "stream",
     "text": [
      "2025-10-08 21:12:38 - s3_verification - [INFO] - ✅ S3 artifact verification PASSED\n"
     ]
    },
    {
     "name": "stderr",
     "output_type": "stream",
     "text": [
      "INFO:s3_verification:✅ S3 artifact verification PASSED\n"
     ]
    },
    {
     "name": "stdout",
     "output_type": "stream",
     "text": [
      "2025-10-08 21:12:38 - s3_verification - [INFO] -   - Artifact URI: s3://mlflow-artifacts/1/b211c60188564672a269a00a02f0184a/artifacts\n"
     ]
    },
    {
     "name": "stderr",
     "output_type": "stream",
     "text": [
      "INFO:s3_verification:  - Artifact URI: s3://mlflow-artifacts/1/b211c60188564672a269a00a02f0184a/artifacts\n"
     ]
    },
    {
     "name": "stdout",
     "output_type": "stream",
     "text": [
      "2025-10-08 21:12:38 - s3_verification - [INFO] -   - Total artifacts: 13\n"
     ]
    },
    {
     "name": "stderr",
     "output_type": "stream",
     "text": [
      "INFO:s3_verification:  - Total artifacts: 13\n"
     ]
    }
   ],
   "source": [
    "import mlflow\n",
    "\n",
    "from src.exceptions import CustomError, HyperparameterTuningError, TrainingError\n",
    "\n",
    "mlflow.end_run()\n",
    "try:\n",
    "    # Your ML pipeline code here\n",
    "    trainer = ModelTrainer(data=features_df)\n",
    "    trainer.train_all_models()\n",
    "except TrainingError as e:\n",
    "    print(f\"Training failed: {e}\")\n",
    "    # Fallback to previous model\n",
    "except HyperparameterTuningError as e:\n",
    "    print(f\"Tuning failed, using defaults: {e}\")\n",
    "except CustomError as e:\n",
    "    # Catch all custom exceptions\n",
    "    print(f\"Pipeline error: {e}\")\n",
    "    raise  # Re-raise if needed"
   ]
  },
  {
   "cell_type": "code",
   "execution_count": null,
   "id": "bbbda1d2",
   "metadata": {},
   "outputs": [],
   "source": [
    "import mlflow\n",
    "\n",
    "mlflow.end_run()"
   ]
  },
  {
   "cell_type": "code",
   "execution_count": null,
   "id": "0832ba4e",
   "metadata": {},
   "outputs": [],
   "source": [
    "params = {\n",
    "    \"objective\": \"reg:squarederror\",  # for regression\n",
    "    \"learning_rate\": 0.1,\n",
    "    \"max_depth\": 6,\n",
    "}\n",
    "res_xgb = trainer._train_xgboost(params=params)\n",
    "# res = trainer._hyperparameter_tuning_xgboost()"
   ]
  },
  {
   "cell_type": "code",
   "execution_count": null,
   "id": "55ba6f0e",
   "metadata": {},
   "outputs": [],
   "source": [
    "res_xgb"
   ]
  },
  {
   "cell_type": "code",
   "execution_count": null,
   "id": "07054ca1",
   "metadata": {},
   "outputs": [],
   "source": [
    "from src.ml.utils import (\n",
    "    create_metrics_df,\n",
    "    split_into_train_test_sets,\n",
    "    split_into_train_val_test_sets,\n",
    "    split_temporal_data,\n",
    ")"
   ]
  },
  {
   "cell_type": "code",
   "execution_count": null,
   "id": "084b5faa",
   "metadata": {},
   "outputs": [],
   "source": [
    "splits_dict: dict[str, Any] = split_into_train_val_test_sets(\n",
    "    data=features_df, target_col=\"target\", test_size=0.1\n",
    ")\n",
    "\n",
    "x_train, y_train = splits_dict[\"x_train\"], splits_dict[\"y_train\"]\n",
    "x_val, y_val = splits_dict[\"x_val\"], splits_dict[\"y_val\"]\n",
    "x_test, y_test = splits_dict[\"x_test\"], splits_dict[\"y_test\"]"
   ]
  },
  {
   "cell_type": "code",
   "execution_count": null,
   "id": "14e9edfd",
   "metadata": {},
   "outputs": [],
   "source": [
    "import lightgbm as lgb\n",
    "\n",
    "# Create datasets for LightGBM\n",
    "lgb_train = lgb.Dataset(x_train, y_train)\n",
    "lgb_val = lgb.Dataset(x_val, y_val, reference=lgb_train)\n",
    "\n",
    "# Define hyperparameters\n",
    "params = {\n",
    "    \"objective\": \"regression\",\n",
    "    \"metric\": [\"rmse\", \"mae\"],\n",
    "    \"learning_rate\": 0.1,\n",
    "    # \"num_leaves\": 31,\n",
    "    \"early_stopping_rounds\": 20,\n",
    "    \"verbose\": 1,\n",
    "}\n",
    "num_round: int = 100\n",
    "# Train the model\n",
    "lgb_model = lgb.train(\n",
    "    params,\n",
    "    lgb_train,\n",
    "    num_boost_round=num_round,\n",
    "    valid_sets=[lgb_train, lgb_val],\n",
    ")\n",
    "\n",
    "# Predict\n",
    "lgb_preds = lgb_model.predict(x_test, num_iteration=lgb_model.best_iteration)\n",
    "# Evaluate\n",
    "lgb_rmse = root_mean_squared_error(y_test, lgb_preds)\n",
    "print(f\"LightGBM RMSE: {lgb_rmse:.3f}\")"
   ]
  },
  {
   "cell_type": "code",
   "execution_count": null,
   "id": "90190aea",
   "metadata": {},
   "outputs": [],
   "source": [
    "# res = trainer._train_lightgbm(params=params)\n",
    "\n",
    "res = trainer.train_all_models()"
   ]
  },
  {
   "cell_type": "code",
   "execution_count": null,
   "id": "7f8e6aea",
   "metadata": {},
   "outputs": [],
   "source": [
    "res"
   ]
  },
  {
   "cell_type": "code",
   "execution_count": null,
   "id": "08778c2a",
   "metadata": {},
   "outputs": [],
   "source": [
    "create_metrics_df(res)"
   ]
  },
  {
   "cell_type": "code",
   "execution_count": null,
   "id": "5f62224a",
   "metadata": {},
   "outputs": [],
   "source": []
  },
  {
   "cell_type": "code",
   "execution_count": null,
   "id": "11e9c5db",
   "metadata": {},
   "outputs": [],
   "source": []
  },
  {
   "cell_type": "code",
   "execution_count": null,
   "id": "1c3fde07",
   "metadata": {},
   "outputs": [],
   "source": [
    "dir(lgb_model)\n",
    "\n",
    "# lgb_model.save_model(\"lightgbm_model.txt\")\n",
    "\n",
    "# # Load the model\n",
    "# loaded_lgb_model = lgb.Booster(model_file=\"lightgbm_model.txt\")\n",
    "\n",
    "lgb_model.feature_importance(), lgb_model.feature_name()\n",
    "len(lgb_model.feature_name()), len(lgb_model.feature_importance())"
   ]
  },
  {
   "cell_type": "code",
   "execution_count": null,
   "id": "fce48b86",
   "metadata": {},
   "outputs": [],
   "source": [
    "# Get feature importance (default is 'split' importance)\n",
    "feature_importance_split = lgb_model.feature_importance(importance_type=\"split\")\n",
    "feature_importance_gain = lgb_model.feature_importance(importance_type=\"gain\")\n",
    "\n",
    "# Get feature names\n",
    "feature_names = lgb_model.feature_name()\n",
    "feature_names = splits_dict[\"columns\"]\n",
    "\n",
    "\n",
    "# Create a comprehensive feature importance analysis\n",
    "def get_lightgbm_feature_importance(\n",
    "    model: lgb.Booster, features: list[str]\n",
    ") -> pl.DataFrame:\n",
    "    \"\"\"\n",
    "    Get feature importance from a LightGBM model.\n",
    "\n",
    "    Parameters\n",
    "    ----------\n",
    "    model : lgb.Booster\n",
    "        Trained LightGBM model\n",
    "    features : list[str]\n",
    "        List of feature names\n",
    "\n",
    "    Returns\n",
    "    -------\n",
    "    pl.DataFrame\n",
    "        DataFrame containing feature importance scores\n",
    "    \"\"\"\n",
    "\n",
    "    # Get different types of importance\n",
    "    split_importance = model.feature_importance(importance_type=\"split\")\n",
    "    gain_importance = model.feature_importance(importance_type=\"gain\")\n",
    "\n",
    "    # Create DataFrame for easy analysis\n",
    "    importance_df = pl.DataFrame(\n",
    "        {\n",
    "            \"feature\": features,\n",
    "            \"split_importance\": split_importance,\n",
    "            \"gain_importance\": gain_importance,\n",
    "        }\n",
    "    )\n",
    "\n",
    "    # Normalize importance scores\n",
    "    return importance_df.with_columns(\n",
    "        (pl.col(\"split_importance\") / pl.col(\"split_importance\").sum()).alias(\n",
    "            \"split_importance_normalized\"\n",
    "        ),\n",
    "        (pl.col(\"gain_importance\") / pl.col(\"gain_importance\").sum()).alias(\n",
    "            \"gain_importance_normalized\"\n",
    "        ),\n",
    "    )\n",
    "\n",
    "\n",
    "# Analyze feature importance\n",
    "importance_results = get_lightgbm_feature_importance(\n",
    "    model=lgb_model, features=feature_names\n",
    ")\n",
    "\n",
    "importance_results"
   ]
  },
  {
   "cell_type": "code",
   "execution_count": null,
   "id": "7c7204c4",
   "metadata": {},
   "outputs": [],
   "source": [
    "from src.ml.utils import get_model_feature_importance\n",
    "\n",
    "\n",
    "get_model_feature_importance(\n",
    "    model_name=\"LightGBM\",\n",
    "    features=feature_names,\n",
    "    weights=importance_results[\"gain_importance_normalized\"],\n",
    "    n=15,\n",
    ")"
   ]
  },
  {
   "cell_type": "code",
   "execution_count": null,
   "id": "cdbb3559",
   "metadata": {},
   "outputs": [],
   "source": []
  },
  {
   "cell_type": "code",
   "execution_count": null,
   "id": "5d052f48",
   "metadata": {},
   "outputs": [],
   "source": []
  },
  {
   "cell_type": "code",
   "execution_count": null,
   "id": "281c3771",
   "metadata": {},
   "outputs": [],
   "source": []
  },
  {
   "cell_type": "code",
   "execution_count": null,
   "id": "c6526ece",
   "metadata": {},
   "outputs": [],
   "source": [
    "params: dict[str, Any] = {\n",
    "    \"objective\": \"reg:squarederror\",\n",
    "    \"max_depth\": 6,\n",
    "    \"learning_rate\": 0.1,\n",
    "    \"subsample\": 0.8,\n",
    "    \"colsample_bytree\": 0.8,\n",
    "    \"seed\": 42,\n",
    "}\n",
    "\n",
    "dtrain = xgb.DMatrix(X_train, y_train, enable_categorical=True)\n",
    "# Include y_test for evaluation\n",
    "dval = xgb.DMatrix(x_val, y_val, enable_categorical=True)\n",
    "xgb_model = xgb.train(\n",
    "    params,\n",
    "    dtrain,\n",
    "    num_boost_round=100,\n",
    "    evals=[(dtrain, \"train\"), (dval, \"val\")],\n",
    "    early_stopping_rounds=50,\n",
    "    verbose_eval=False,\n",
    ")\n",
    "\n",
    "# Predict\n",
    "dtest = xgb.DMatrix(X_test, enable_categorical=True)\n",
    "xgb_preds = xgb_model.predict(dtest)\n",
    "# Evaluate\n",
    "xgb_rmse = root_mean_squared_error(y_test, xgb_preds)\n",
    "print(f\"XGBoost RMSE: {xgb_rmse:.3f}\")"
   ]
  },
  {
   "cell_type": "code",
   "execution_count": null,
   "id": "0b1d45d2",
   "metadata": {},
   "outputs": [],
   "source": [
    "# Scikit-learn API\n",
    "params: dict[str, Any] = {\n",
    "    \"objective\": \"reg:squarederror\",\n",
    "    \"max_depth\": 6,\n",
    "    \"learning_rate\": 0.1,\n",
    "    \"subsample\": 0.8,\n",
    "    \"colsample_bytree\": 0.8,\n",
    "    \"random_state\": 42,\n",
    "    \"early_stopping_rounds\": 20,\n",
    "}\n",
    "\n",
    "xgb_reg = xgb.XGBRegressor(**params)\n",
    "xgb_reg.fit(X_train, y_train, eval_set=[(x_val, y_val)], verbose=False)\n",
    "\n",
    "# Evaluate\n",
    "y_preds = xgb_reg.predict(X_test)\n",
    "xgb_rmse = root_mean_squared_error(y_test, y_preds)\n",
    "console.print(f\"XGBoost RMSE: {xgb_rmse:.3f}\", style=\"info\")"
   ]
  },
  {
   "cell_type": "code",
   "execution_count": null,
   "id": "9f314239",
   "metadata": {},
   "outputs": [],
   "source": []
  },
  {
   "cell_type": "code",
   "execution_count": null,
   "id": "74a704cf",
   "metadata": {},
   "outputs": [],
   "source": [
    "from narwhals.typing import IntoDataFrameT\n",
    "\n",
    "\n",
    "def split_into_train_val_test_sets(\n",
    "    features_df: IntoDataFrameT, test_size: float, target_col: str\n",
    ") -> dict[str, Any]:\n",
    "    \"\"\"\n",
    "    Split a feature dataframe into temporal train, validation, and test sets.\n",
    "\n",
    "    Parameters\n",
    "    ----------\n",
    "    features_df : IntoDataFrameT\n",
    "        Input feature dataframe containing the target column.\n",
    "    test_size : float\n",
    "        Proportion of the data reserved for validation and test splits. Must be in (0, 1).\n",
    "    target_col : str\n",
    "        Name of the target column used for supervised learning.\n",
    "\n",
    "    Returns\n",
    "    -------\n",
    "    dict[str, Any]\n",
    "        Dictionary with feature and target arrays for train, validation, and test sets,\n",
    "        along with the feature column names.\n",
    "    \"\"\"\n",
    "    if not 0 < test_size < 1:\n",
    "        raise ValueError(\"`test_size` must be between 0 and 1 (exclusive).\")\n",
    "\n",
    "    _train_df, test_df = split_temporal_data(data=features_df, test_size=test_size)\n",
    "    train_df, val_df = split_temporal_data(data=_train_df, test_size=test_size)\n",
    "\n",
    "    train_val_split = split_into_train_test_sets(\n",
    "        train_df=train_df, test_df=val_df, target_col=target_col\n",
    "    )\n",
    "    train_test_split = split_into_train_test_sets(\n",
    "        train_df=_train_df, test_df=test_df, target_col=target_col\n",
    "    )\n",
    "\n",
    "    X_train, y_train = train_val_split[\"x_train\"], train_val_split[\"y_train\"]\n",
    "    X_val, y_val = train_val_split[\"x_test\"], train_val_split[\"y_test\"]\n",
    "    X_test, y_test = train_test_split[\"x_test\"], train_test_split[\"y_test\"]\n",
    "\n",
    "    if train_val_split[\"columns\"] != train_test_split[\"columns\"]:\n",
    "        raise ValueError(\"Feature column mismatch between validation and test splits.\")\n",
    "    if X_train.shape[0] + X_val.shape[0] != train_test_split[\"x_train\"].shape[0]:\n",
    "        raise ValueError(\"Train and validation rows do not sum to the expected total.\")\n",
    "\n",
    "    print(\n",
    "        (\n",
    "            f\"Shapes -> X_train: {X_train.shape}, y_train: {y_train.shape}, \"\n",
    "            f\"X_val: {X_val.shape}, y_val: {y_val.shape}, \"\n",
    "            f\"X_test: {X_test.shape}, y_test: {y_test.shape}\"\n",
    "        )\n",
    "    )\n",
    "\n",
    "    return {\n",
    "        \"X_train\": X_train,\n",
    "        \"y_train\": y_train,\n",
    "        \"X_val\": X_val,\n",
    "        \"y_val\": y_val,\n",
    "        \"X_test\": X_test,\n",
    "        \"y_test\": y_test,\n",
    "        \"columns\": train_val_split[\"columns\"],\n",
    "    }"
   ]
  },
  {
   "cell_type": "code",
   "execution_count": null,
   "id": "59a1a00b",
   "metadata": {},
   "outputs": [],
   "source": []
  },
  {
   "cell_type": "code",
   "execution_count": null,
   "id": "acae54e37e7d407bbb7b55eff062a284",
   "metadata": {},
   "outputs": [],
   "source": []
  },
  {
   "cell_type": "raw",
   "id": "9a63283cbaf04dbcab1f6479b197f3a8",
   "metadata": {
    "vscode": {
     "languageId": "raw"
    }
   },
   "source": []
  },
  {
   "cell_type": "code",
   "execution_count": null,
   "id": "091c80ff",
   "metadata": {},
   "outputs": [],
   "source": []
  },
  {
   "cell_type": "code",
   "execution_count": null,
   "id": "aba0826c",
   "metadata": {},
   "outputs": [],
   "source": []
  },
  {
   "cell_type": "code",
   "execution_count": null,
   "id": "e1452b26",
   "metadata": {},
   "outputs": [],
   "source": []
  },
  {
   "cell_type": "code",
   "execution_count": null,
   "id": "2d6fa889",
   "metadata": {},
   "outputs": [],
   "source": []
  },
  {
   "cell_type": "code",
   "execution_count": null,
   "id": "5f227277",
   "metadata": {},
   "outputs": [],
   "source": []
  },
  {
   "cell_type": "code",
   "execution_count": null,
   "id": "f2bdfdc2",
   "metadata": {},
   "outputs": [],
   "source": []
  },
  {
   "cell_type": "code",
   "execution_count": null,
   "id": "921e58a8",
   "metadata": {},
   "outputs": [],
   "source": []
  },
  {
   "cell_type": "code",
   "execution_count": null,
   "id": "8dd0d8092fe74a7c96281538738b07e2",
   "metadata": {},
   "outputs": [],
   "source": []
  },
  {
   "cell_type": "code",
   "execution_count": null,
   "id": "dc2991f5",
   "metadata": {},
   "outputs": [],
   "source": []
  },
  {
   "cell_type": "code",
   "execution_count": null,
   "id": "aa3eed3b",
   "metadata": {},
   "outputs": [],
   "source": []
  },
  {
   "cell_type": "code",
   "execution_count": null,
   "id": "21bd2491",
   "metadata": {},
   "outputs": [],
   "source": []
  },
  {
   "cell_type": "code",
   "execution_count": null,
   "id": "2dca4674",
   "metadata": {},
   "outputs": [],
   "source": []
  },
  {
   "cell_type": "code",
   "execution_count": null,
   "id": "8bcaaccb",
   "metadata": {},
   "outputs": [],
   "source": []
  },
  {
   "cell_type": "code",
   "execution_count": null,
   "id": "5428fb74",
   "metadata": {},
   "outputs": [],
   "source": [
    "# Test the callback logic\n",
    "import optuna\n",
    "from src.ml.trainer import ModelTrainer\n",
    "\n",
    "\n",
    "def test_champion_callback() -> None:\n",
    "    \"\"\"Test the champion callback with mock study data.\"\"\"\n",
    "\n",
    "    # Create a mock study for testing\n",
    "    study = optuna.create_study(direction=\"minimize\")\n",
    "\n",
    "    # Simulate some trials\n",
    "    test_values = [100.0, 95.0, 95.5, 90.0, 89.8, 92.0]\n",
    "\n",
    "    for i, value in enumerate(test_values):\n",
    "        # Create a mock trial\n",
    "        trial = study.ask()\n",
    "        study.tell(trial, value)\n",
    "\n",
    "        # Get the frozen trial\n",
    "        frozen_trial = study.trials[-1]\n",
    "\n",
    "        # Call the callback\n",
    "        ModelTrainer.champion_callback(study, frozen_trial)\n",
    "\n",
    "        console.print(f\"Trial {i}: Value={value}, Best={study.best_value}\")\n",
    "\n",
    "\n",
    "# Run the test\n",
    "test_champion_callback()"
   ]
  }
 ],
 "metadata": {
  "kernelspec": {
   "display_name": "Bike-Rental-Prediction (3.12.11)",
   "language": "python",
   "name": "python3"
  },
  "language_info": {
   "codemirror_mode": {
    "name": "ipython",
    "version": 3
   },
   "file_extension": ".py",
   "mimetype": "text/x-python",
   "name": "python",
   "nbconvert_exporter": "python",
   "pygments_lexer": "ipython3",
   "version": "3.12.11"
  }
 },
 "nbformat": 4,
 "nbformat_minor": 5
}
