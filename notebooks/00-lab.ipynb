{
 "cells": [
  {
   "cell_type": "markdown",
   "id": "236f62b9",
   "metadata": {},
   "source": [
    "# Lab For Experimentation"
   ]
  },
  {
   "cell_type": "code",
   "execution_count": 1,
   "id": "917effb0",
   "metadata": {},
   "outputs": [],
   "source": [
    "import warnings\n",
    "from typing import Any, Literal\n",
    "\n",
    "import narwhals as nw\n",
    "import numpy as np\n",
    "import pandas as pd\n",
    "import polars as pl\n",
    "from rich.console import Console\n",
    "from rich.theme import Theme\n",
    "\n",
    "custom_theme = Theme(\n",
    "    {\n",
    "        \"white\": \"#FFFFFF\",  # Bright white\n",
    "        \"info\": \"#00FF00\",  # Bright green\n",
    "        \"warning\": \"#FFD700\",  # Bright gold\n",
    "        \"error\": \"#FF1493\",  # Deep pink\n",
    "        \"success\": \"#00FFFF\",  # Cyan\n",
    "        \"highlight\": \"#FF4500\",  # Orange-red\n",
    "    }\n",
    ")\n",
    "console = Console(theme=custom_theme)\n",
    "\n",
    "# Visualization\n",
    "# import matplotlib.pyplot as plt\n",
    "\n",
    "# NumPy settings\n",
    "np.set_printoptions(precision=4)\n",
    "\n",
    "# Pandas settings\n",
    "pd.options.display.max_rows = 1_000\n",
    "pd.options.display.max_columns = 1_000\n",
    "pd.options.display.max_colwidth = 600\n",
    "\n",
    "# Polars settings\n",
    "pl.Config.set_fmt_str_lengths(1_000)\n",
    "pl.Config.set_tbl_cols(n=1_000)\n",
    "pl.Config.set_tbl_rows(n=200)\n",
    "\n",
    "warnings.filterwarnings(\"ignore\")\n",
    "\n",
    "# Black code formatter (Optional)\n",
    "%load_ext lab_black\n",
    "\n",
    "# auto reload imports\n",
    "%load_ext autoreload\n",
    "%autoreload 2"
   ]
  },
  {
   "cell_type": "code",
   "execution_count": 2,
   "id": "228c8d0e",
   "metadata": {},
   "outputs": [],
   "source": [
    "def go_up_from_current_directory(*, go_up: int = 1) -> None:\n",
    "    \"\"\"This is used to up a number of directories.\n",
    "\n",
    "    Params:\n",
    "    -------\n",
    "    go_up: int, default=1\n",
    "        This indicates the number of times to go back up from the current directory.\n",
    "\n",
    "    Returns:\n",
    "    --------\n",
    "    None\n",
    "    \"\"\"\n",
    "    import os\n",
    "    import sys\n",
    "\n",
    "    CONST: str = \"../\"\n",
    "    NUM: str = CONST * go_up\n",
    "\n",
    "    # Goto the previous directory\n",
    "    prev_directory = os.path.join(os.path.dirname(__name__), NUM)\n",
    "    # Get the 'absolute path' of the previous directory\n",
    "    abs_path_prev_directory = os.path.abspath(prev_directory)\n",
    "\n",
    "    # Add the path to the System paths\n",
    "    sys.path.insert(0, abs_path_prev_directory)\n",
    "    print(abs_path_prev_directory)\n",
    "\n",
    "\n",
    "# Demo (Prevents ruff from removing the unused module import)\n",
    "name: Any\n",
    "category: Literal[\"A\", \"B\", \"C\"]"
   ]
  },
  {
   "cell_type": "code",
   "execution_count": 3,
   "id": "651f550e",
   "metadata": {},
   "outputs": [
    {
     "name": "stdout",
     "output_type": "stream",
     "text": [
      "/Users/mac/Desktop/Projects/Bike-Rental-Prediction\n"
     ]
    }
   ],
   "source": [
    "go_up_from_current_directory(go_up=1)"
   ]
  },
  {
   "cell_type": "code",
   "execution_count": null,
   "id": "c6889f3d",
   "metadata": {},
   "outputs": [],
   "source": []
  },
  {
   "cell_type": "code",
   "execution_count": null,
   "id": "38954065",
   "metadata": {},
   "outputs": [],
   "source": []
  },
  {
   "cell_type": "markdown",
   "id": "23621787",
   "metadata": {},
   "source": [
    "# Dataset Preparation\n",
    "\n",
    "### Load data"
   ]
  },
  {
   "cell_type": "code",
   "execution_count": 4,
   "id": "4c70fe62",
   "metadata": {},
   "outputs": [
    {
     "data": {
      "text/html": [
       "<pre style=\"white-space:pre;overflow-x:auto;line-height:normal;font-family:Menlo,'DejaVu Sans Mono',consolas,'Courier New',monospace\"><span style=\"color: #00ff00; text-decoration-color: #00ff00\">Shape: </span><span style=\"color: #00ff00; text-decoration-color: #00ff00; font-weight: bold\">(</span><span style=\"color: #008080; text-decoration-color: #008080; font-weight: bold\">13903</span><span style=\"color: #00ff00; text-decoration-color: #00ff00\">, </span><span style=\"color: #008080; text-decoration-color: #008080; font-weight: bold\">16</span><span style=\"color: #00ff00; text-decoration-color: #00ff00; font-weight: bold\">)</span>\n",
       "</pre>\n"
      ],
      "text/plain": [
       "\u001b[38;2;0;255;0mShape: \u001b[0m\u001b[1;38;2;0;255;0m(\u001b[0m\u001b[1;36m13903\u001b[0m\u001b[38;2;0;255;0m, \u001b[0m\u001b[1;36m16\u001b[0m\u001b[1;38;2;0;255;0m)\u001b[0m\n"
      ]
     },
     "metadata": {},
     "output_type": "display_data"
    },
    {
     "data": {
      "text/html": [
       "<div><style>\n",
       ".dataframe > thead > tr,\n",
       ".dataframe > tbody > tr {\n",
       "  text-align: right;\n",
       "  white-space: pre-wrap;\n",
       "}\n",
       "</style>\n",
       "<small>shape: (5, 16)</small><table border=\"1\" class=\"dataframe\"><thead><tr><th>datetime</th><th>season</th><th>yr</th><th>mnth</th><th>hr</th><th>holiday</th><th>weekday</th><th>workingday</th><th>weathersit</th><th>temp</th><th>atemp</th><th>hum</th><th>windspeed</th><th>casual</th><th>registered</th><th>cnt</th></tr><tr><td>str</td><td>i64</td><td>i64</td><td>i64</td><td>i64</td><td>i64</td><td>i64</td><td>i64</td><td>i64</td><td>f64</td><td>f64</td><td>f64</td><td>f64</td><td>i64</td><td>i64</td><td>i64</td></tr></thead><tbody><tr><td>&quot;2011-01-01 00:00:00&quot;</td><td>1</td><td>0</td><td>1</td><td>0</td><td>0</td><td>6</td><td>0</td><td>1</td><td>0.24</td><td>0.2879</td><td>0.81</td><td>0.0</td><td>3</td><td>13</td><td>16</td></tr><tr><td>&quot;2011-01-01 01:00:00&quot;</td><td>1</td><td>0</td><td>1</td><td>1</td><td>0</td><td>6</td><td>0</td><td>1</td><td>0.22</td><td>0.2727</td><td>0.8</td><td>0.0</td><td>8</td><td>32</td><td>40</td></tr><tr><td>&quot;2011-01-01 02:00:00&quot;</td><td>1</td><td>0</td><td>1</td><td>2</td><td>0</td><td>6</td><td>0</td><td>1</td><td>0.22</td><td>0.2727</td><td>0.8</td><td>0.0</td><td>5</td><td>27</td><td>32</td></tr><tr><td>&quot;2011-01-01 03:00:00&quot;</td><td>1</td><td>0</td><td>1</td><td>3</td><td>0</td><td>6</td><td>0</td><td>1</td><td>0.24</td><td>0.2879</td><td>0.75</td><td>0.0</td><td>3</td><td>10</td><td>13</td></tr><tr><td>&quot;2011-01-01 04:00:00&quot;</td><td>1</td><td>0</td><td>1</td><td>4</td><td>0</td><td>6</td><td>0</td><td>1</td><td>0.24</td><td>0.2879</td><td>0.75</td><td>0.0</td><td>0</td><td>1</td><td>1</td></tr></tbody></table></div>"
      ],
      "text/plain": [
       "shape: (5, 16)\n",
       "┌─────┬─────┬─────┬─────┬─────┬─────┬─────┬─────┬─────┬─────┬─────┬─────┬─────┬─────┬────────┬─────┐\n",
       "│ dat ┆ sea ┆ yr  ┆ mnt ┆ hr  ┆ hol ┆ wee ┆ wor ┆ wea ┆ tem ┆ ate ┆ hum ┆ win ┆ cas ┆ regist ┆ cnt │\n",
       "│ eti ┆ son ┆ --- ┆ h   ┆ --- ┆ ida ┆ kda ┆ kin ┆ the ┆ p   ┆ mp  ┆ --- ┆ dsp ┆ ual ┆ ered   ┆ --- │\n",
       "│ me  ┆ --- ┆ i64 ┆ --- ┆ i64 ┆ y   ┆ y   ┆ gda ┆ rsi ┆ --- ┆ --- ┆ f64 ┆ eed ┆ --- ┆ ---    ┆ i64 │\n",
       "│ --- ┆ i64 ┆     ┆ i64 ┆     ┆ --- ┆ --- ┆ y   ┆ t   ┆ f64 ┆ f64 ┆     ┆ --- ┆ i64 ┆ i64    ┆     │\n",
       "│ str ┆     ┆     ┆     ┆     ┆ i64 ┆ i64 ┆ --- ┆ --- ┆     ┆     ┆     ┆ f64 ┆     ┆        ┆     │\n",
       "│     ┆     ┆     ┆     ┆     ┆     ┆     ┆ i64 ┆ i64 ┆     ┆     ┆     ┆     ┆     ┆        ┆     │\n",
       "╞═════╪═════╪═════╪═════╪═════╪═════╪═════╪═════╪═════╪═════╪═════╪═════╪═════╪═════╪════════╪═════╡\n",
       "│ 201 ┆ 1   ┆ 0   ┆ 1   ┆ 0   ┆ 0   ┆ 6   ┆ 0   ┆ 1   ┆ 0.2 ┆ 0.2 ┆ 0.8 ┆ 0.0 ┆ 3   ┆ 13     ┆ 16  │\n",
       "│ 1-0 ┆     ┆     ┆     ┆     ┆     ┆     ┆     ┆     ┆ 4   ┆ 879 ┆ 1   ┆     ┆     ┆        ┆     │\n",
       "│ 1-0 ┆     ┆     ┆     ┆     ┆     ┆     ┆     ┆     ┆     ┆     ┆     ┆     ┆     ┆        ┆     │\n",
       "│ 1   ┆     ┆     ┆     ┆     ┆     ┆     ┆     ┆     ┆     ┆     ┆     ┆     ┆     ┆        ┆     │\n",
       "│ 00: ┆     ┆     ┆     ┆     ┆     ┆     ┆     ┆     ┆     ┆     ┆     ┆     ┆     ┆        ┆     │\n",
       "│ 00: ┆     ┆     ┆     ┆     ┆     ┆     ┆     ┆     ┆     ┆     ┆     ┆     ┆     ┆        ┆     │\n",
       "│ 00  ┆     ┆     ┆     ┆     ┆     ┆     ┆     ┆     ┆     ┆     ┆     ┆     ┆     ┆        ┆     │\n",
       "│ 201 ┆ 1   ┆ 0   ┆ 1   ┆ 1   ┆ 0   ┆ 6   ┆ 0   ┆ 1   ┆ 0.2 ┆ 0.2 ┆ 0.8 ┆ 0.0 ┆ 8   ┆ 32     ┆ 40  │\n",
       "│ 1-0 ┆     ┆     ┆     ┆     ┆     ┆     ┆     ┆     ┆ 2   ┆ 727 ┆     ┆     ┆     ┆        ┆     │\n",
       "│ 1-0 ┆     ┆     ┆     ┆     ┆     ┆     ┆     ┆     ┆     ┆     ┆     ┆     ┆     ┆        ┆     │\n",
       "│ 1   ┆     ┆     ┆     ┆     ┆     ┆     ┆     ┆     ┆     ┆     ┆     ┆     ┆     ┆        ┆     │\n",
       "│ 01: ┆     ┆     ┆     ┆     ┆     ┆     ┆     ┆     ┆     ┆     ┆     ┆     ┆     ┆        ┆     │\n",
       "│ 00: ┆     ┆     ┆     ┆     ┆     ┆     ┆     ┆     ┆     ┆     ┆     ┆     ┆     ┆        ┆     │\n",
       "│ 00  ┆     ┆     ┆     ┆     ┆     ┆     ┆     ┆     ┆     ┆     ┆     ┆     ┆     ┆        ┆     │\n",
       "│ 201 ┆ 1   ┆ 0   ┆ 1   ┆ 2   ┆ 0   ┆ 6   ┆ 0   ┆ 1   ┆ 0.2 ┆ 0.2 ┆ 0.8 ┆ 0.0 ┆ 5   ┆ 27     ┆ 32  │\n",
       "│ 1-0 ┆     ┆     ┆     ┆     ┆     ┆     ┆     ┆     ┆ 2   ┆ 727 ┆     ┆     ┆     ┆        ┆     │\n",
       "│ 1-0 ┆     ┆     ┆     ┆     ┆     ┆     ┆     ┆     ┆     ┆     ┆     ┆     ┆     ┆        ┆     │\n",
       "│ 1   ┆     ┆     ┆     ┆     ┆     ┆     ┆     ┆     ┆     ┆     ┆     ┆     ┆     ┆        ┆     │\n",
       "│ 02: ┆     ┆     ┆     ┆     ┆     ┆     ┆     ┆     ┆     ┆     ┆     ┆     ┆     ┆        ┆     │\n",
       "│ 00: ┆     ┆     ┆     ┆     ┆     ┆     ┆     ┆     ┆     ┆     ┆     ┆     ┆     ┆        ┆     │\n",
       "│ 00  ┆     ┆     ┆     ┆     ┆     ┆     ┆     ┆     ┆     ┆     ┆     ┆     ┆     ┆        ┆     │\n",
       "│ 201 ┆ 1   ┆ 0   ┆ 1   ┆ 3   ┆ 0   ┆ 6   ┆ 0   ┆ 1   ┆ 0.2 ┆ 0.2 ┆ 0.7 ┆ 0.0 ┆ 3   ┆ 10     ┆ 13  │\n",
       "│ 1-0 ┆     ┆     ┆     ┆     ┆     ┆     ┆     ┆     ┆ 4   ┆ 879 ┆ 5   ┆     ┆     ┆        ┆     │\n",
       "│ 1-0 ┆     ┆     ┆     ┆     ┆     ┆     ┆     ┆     ┆     ┆     ┆     ┆     ┆     ┆        ┆     │\n",
       "│ 1   ┆     ┆     ┆     ┆     ┆     ┆     ┆     ┆     ┆     ┆     ┆     ┆     ┆     ┆        ┆     │\n",
       "│ 03: ┆     ┆     ┆     ┆     ┆     ┆     ┆     ┆     ┆     ┆     ┆     ┆     ┆     ┆        ┆     │\n",
       "│ 00: ┆     ┆     ┆     ┆     ┆     ┆     ┆     ┆     ┆     ┆     ┆     ┆     ┆     ┆        ┆     │\n",
       "│ 00  ┆     ┆     ┆     ┆     ┆     ┆     ┆     ┆     ┆     ┆     ┆     ┆     ┆     ┆        ┆     │\n",
       "│ 201 ┆ 1   ┆ 0   ┆ 1   ┆ 4   ┆ 0   ┆ 6   ┆ 0   ┆ 1   ┆ 0.2 ┆ 0.2 ┆ 0.7 ┆ 0.0 ┆ 0   ┆ 1      ┆ 1   │\n",
       "│ 1-0 ┆     ┆     ┆     ┆     ┆     ┆     ┆     ┆     ┆ 4   ┆ 879 ┆ 5   ┆     ┆     ┆        ┆     │\n",
       "│ 1-0 ┆     ┆     ┆     ┆     ┆     ┆     ┆     ┆     ┆     ┆     ┆     ┆     ┆     ┆        ┆     │\n",
       "│ 1   ┆     ┆     ┆     ┆     ┆     ┆     ┆     ┆     ┆     ┆     ┆     ┆     ┆     ┆        ┆     │\n",
       "│ 04: ┆     ┆     ┆     ┆     ┆     ┆     ┆     ┆     ┆     ┆     ┆     ┆     ┆     ┆        ┆     │\n",
       "│ 00: ┆     ┆     ┆     ┆     ┆     ┆     ┆     ┆     ┆     ┆     ┆     ┆     ┆     ┆        ┆     │\n",
       "│ 00  ┆     ┆     ┆     ┆     ┆     ┆     ┆     ┆     ┆     ┆     ┆     ┆     ┆     ┆        ┆     │\n",
       "└─────┴─────┴─────┴─────┴─────┴─────┴─────┴─────┴─────┴─────┴─────┴─────┴─────┴─────┴────────┴─────┘"
      ]
     },
     "execution_count": 4,
     "metadata": {},
     "output_type": "execute_result"
    }
   ],
   "source": [
    "fp: str = \"../../../../Documents/data_dump/bike_data/database.parquet\"\n",
    "data: pl.DataFrame = pl.read_parquet(fp)\n",
    "console.print(f\"Shape: {data.shape}\", style=\"info\")\n",
    "\n",
    "data.head()"
   ]
  },
  {
   "cell_type": "markdown",
   "id": "afab353a",
   "metadata": {},
   "source": [
    "### Validate Data"
   ]
  },
  {
   "cell_type": "code",
   "execution_count": 61,
   "id": "a7513bc7",
   "metadata": {},
   "outputs": [
    {
     "data": {
      "text/plain": [
       "┌─────────────────────────────────────────────────────────────────────────────┐\n",
       "|                             Narwhals DataFrame                              |\n",
       "|-----------------------------------------------------------------------------|\n",
       "|              datetime  season  yr  mnth  hr  holiday  weekday  workingday  \\|\n",
       "|0  2011-01-01 00:00:00       1   0     1   0        0        6           0   |\n",
       "|1  2011-01-01 01:00:00       1   0     1   1        0        6           0   |\n",
       "|2  2011-01-01 02:00:00       1   0     1   2        0        6           0   |\n",
       "|3  2011-01-01 03:00:00       1   0     1   3        0        6           0   |\n",
       "|4  2011-01-01 04:00:00       1   0     1   4        0        6           0   |\n",
       "|                                                                             |\n",
       "|   weathersit  temp   atemp   hum  windspeed  casual  registered  cnt  \\     |\n",
       "|0           1  0.24  0.2879  0.81        0.0       3          13   16        |\n",
       "|1           1  0.22  0.2727  0.80        0.0       8          32   40        |\n",
       "|2           1  0.22  0.2727  0.80        0.0       5          27   32        |\n",
       "|3           1  0.24  0.2879  0.75        0.0       3          10   13        |\n",
       "|4           1  0.24  0.2879  0.75        0.0       0           1    1        |\n",
       "|                                                                             |\n",
       "|   cnt_lag_1hr  cnt_lag_2hr  cnt_lag_3hr                                     |\n",
       "|0          NaN          NaN          NaN                                     |\n",
       "|1         16.0          NaN          NaN                                     |\n",
       "|2         40.0         16.0          NaN                                     |\n",
       "|3         32.0         40.0         16.0                                     |\n",
       "|4         13.0         32.0         40.0                                     |\n",
       "└─────────────────────────────────────────────────────────────────────────────┘"
      ]
     },
     "execution_count": 61,
     "metadata": {},
     "output_type": "execute_result"
    }
   ],
   "source": [
    "from src.ml.feature_engineering import (\n",
    "    FeatureConfig,\n",
    "    FeatureEngineer,\n",
    "    InteractionFeats,\n",
    "    Lags,\n",
    "    Windows,\n",
    "    create_lag_features,\n",
    ")\n",
    "\n",
    "# train_data, test_data = split_temporal_data(data, test_size=0.2)\n",
    "# train_data.shape, test_data.shape\n",
    "\n",
    "create_lag_features(\n",
    "    nw.from_native(data.to_pandas()), target_col=\"cnt\", lags=[1, 2, 3]\n",
    ").head()  # .to_native()"
   ]
  },
  {
   "cell_type": "code",
   "execution_count": null,
   "id": "72eea5119410473aa328ad9291626812",
   "metadata": {},
   "outputs": [],
   "source": [
    "config: FeatureConfig = FeatureConfig(\n",
    "    lags=[Lags(feature=\"cnt\", lags=[1, 2, 3]), Lags(feature=\"temp\", lags=[1, 2, 3])],\n",
    "    diffs=[Lags(feature=\"cnt\", lags=[1]), Lags(feature=\"temp\", lags=[1])],\n",
    "    interactions=[\n",
    "        InteractionFeats(feature_1=\"cnt\", feature_2=\"temp\", operation=\"add\"),\n",
    "        InteractionFeats(feature_1=\"cnt\", feature_2=\"temp\", operation=\"multiply\"),\n",
    "    ],\n",
    "    rolling_windows=[\n",
    "        Windows(feature=\"cnt\", windows=[3, 7]),\n",
    "        Windows(feature=\"temp\", windows=[3, 7]),\n",
    "    ],\n",
    "    drop_feats=[\"atemp\", \"windspeed\", \"cnt\"],\n",
    "    target_col=\"cnt\",\n",
    ")\n",
    "\n",
    "# # Lags\n",
    "# for lag in config.lags:\n",
    "#     df = create_lag_features(\n",
    "#         nw.from_native(data.to_pandas()), target_col=lag.feature, lags=lag.lags\n",
    "#     )\n",
    "# # Diffs\n",
    "# for diff in config.diffs:\n",
    "#     df = create_difference_features(\n",
    "#         nw.from_native(df.to_pandas()), target_col=diff.feature, lags=diff.lags\n",
    "#     )\n",
    "# # Interactions\n",
    "# for interaction in config.interactions:\n",
    "#     df = create_interaction_features(\n",
    "#         nw.from_native(df.to_pandas()),\n",
    "#         feature_1=interaction.feature_1,\n",
    "#         feature_2=interaction.feature_2,\n",
    "#         operation=interaction.operation,\n",
    "#     )\n",
    "# df.head()"
   ]
  },
  {
   "cell_type": "code",
   "execution_count": 7,
   "id": "e0ea4dcf",
   "metadata": {},
   "outputs": [
    {
     "data": {
      "text/html": [
       "<div><style>\n",
       ".dataframe > thead > tr,\n",
       ".dataframe > tbody > tr {\n",
       "  text-align: right;\n",
       "  white-space: pre-wrap;\n",
       "}\n",
       "</style>\n",
       "<small>shape: (1,)</small><table border=\"1\" class=\"dataframe\"><thead><tr><th>sum</th></tr><tr><td>u32</td></tr></thead><tbody><tr><td>0</td></tr></tbody></table></div>"
      ],
      "text/plain": [
       "shape: (1,)\n",
       "Series: 'sum' [u32]\n",
       "[\n",
       "\t0\n",
       "]"
      ]
     },
     "execution_count": 7,
     "metadata": {},
     "output_type": "execute_result"
    }
   ],
   "source": [
    "feat_eng = FeatureEngineer(data, config)\n",
    "\n",
    "feat_eng.create_all_features().null_count().sum_horizontal()"
   ]
  },
  {
   "cell_type": "code",
   "execution_count": 9,
   "id": "afcd822c",
   "metadata": {},
   "outputs": [],
   "source": [
    "df = pl.DataFrame({\"age\": [25, 30, 35], \"salary\": [50000, 60000, 70000]})\n",
    "\n",
    "df = df.with_columns(pl.col(\"age\").shift(0).alias(\"age_shift_0\"))"
   ]
  },
  {
   "cell_type": "code",
   "execution_count": 62,
   "id": "5ffcb2b4",
   "metadata": {},
   "outputs": [
    {
     "data": {
      "text/html": [
       "<div><style>\n",
       ".dataframe > thead > tr,\n",
       ".dataframe > tbody > tr {\n",
       "  text-align: right;\n",
       "  white-space: pre-wrap;\n",
       "}\n",
       "</style>\n",
       "<small>shape: (5, 49)</small><table border=\"1\" class=\"dataframe\"><thead><tr><th>season</th><th>mnth</th><th>hr</th><th>holiday</th><th>weekday</th><th>workingday</th><th>weathersit</th><th>temp</th><th>hum</th><th>windspeed</th><th>is_weekend</th><th>sin_hour</th><th>cos_hour</th><th>sin_weekday</th><th>cos_weekday</th><th>cnt_lag_0hr</th><th>cnt_lag_1hr</th><th>cnt_lag_24hr</th><th>hr_lag_1hr</th><th>hr_lag_24hr</th><th>temp_lag_1hr</th><th>temp_lag_3hr</th><th>hum_lag_1hr</th><th>hum_lag_3hr</th><th>temp_rolling_mean_3hr</th><th>temp_rolling_median_3hr</th><th>temp_rolling_mean_6hr</th><th>temp_rolling_median_6hr</th><th>hum_rolling_mean_3hr</th><th>hum_rolling_median_3hr</th><th>hum_rolling_mean_6hr</th><th>hum_rolling_median_6hr</th><th>temp_plus_hum</th><th>hum_plus_hr</th><th>cnt_diff_1hr</th><th>cnt_diff_2hr</th><th>hr_diff_1hr</th><th>hr_diff_24hr</th><th>temp_diff_1hr</th><th>temp_diff_2hr</th><th>temp_diff_24hr</th><th>hum_diff_1hr</th><th>hum_diff_2hr</th><th>is_high_temp</th><th>is_high_hum</th><th>is_peak_hour</th><th>is_working_hour</th><th>is_business_hour</th><th>target</th></tr><tr><td>i64</td><td>i64</td><td>i64</td><td>i64</td><td>i64</td><td>i64</td><td>i64</td><td>f64</td><td>f64</td><td>f64</td><td>i8</td><td>f64</td><td>f64</td><td>f64</td><td>f64</td><td>i64</td><td>i64</td><td>i64</td><td>i64</td><td>i64</td><td>f64</td><td>f64</td><td>f64</td><td>f64</td><td>f64</td><td>f64</td><td>f64</td><td>f64</td><td>f64</td><td>f64</td><td>f64</td><td>f64</td><td>f64</td><td>f64</td><td>i64</td><td>i64</td><td>i64</td><td>i64</td><td>f64</td><td>f64</td><td>f64</td><td>f64</td><td>f64</td><td>i8</td><td>i8</td><td>i8</td><td>i8</td><td>i8</td><td>i64</td></tr></thead><tbody><tr><td>1</td><td>1</td><td>0</td><td>0</td><td>6</td><td>0</td><td>1</td><td>0.24</td><td>0.81</td><td>0.0</td><td>1</td><td>0.0</td><td>1.0</td><td>-0.781831</td><td>0.62349</td><td>16</td><td>16</td><td>16</td><td>0</td><td>0</td><td>0.24</td><td>0.24</td><td>0.81</td><td>0.81</td><td>0.226667</td><td>0.22</td><td>0.233333</td><td>0.24</td><td>0.803333</td><td>0.8</td><td>0.776667</td><td>0.775</td><td>1.05</td><td>0.81</td><td>24</td><td>16</td><td>1</td><td>0</td><td>-0.02</td><td>-0.02</td><td>0.22</td><td>-0.01</td><td>-0.01</td><td>0</td><td>0</td><td>0</td><td>0</td><td>0</td><td>40</td></tr><tr><td>1</td><td>1</td><td>1</td><td>0</td><td>6</td><td>0</td><td>1</td><td>0.22</td><td>0.8</td><td>0.0</td><td>1</td><td>0.258819</td><td>0.965926</td><td>-0.781831</td><td>0.62349</td><td>40</td><td>16</td><td>16</td><td>0</td><td>0</td><td>0.24</td><td>0.24</td><td>0.81</td><td>0.81</td><td>0.226667</td><td>0.22</td><td>0.233333</td><td>0.24</td><td>0.803333</td><td>0.8</td><td>0.776667</td><td>0.775</td><td>1.02</td><td>1.8</td><td>24</td><td>16</td><td>1</td><td>0</td><td>-0.02</td><td>-0.02</td><td>0.22</td><td>-0.01</td><td>-0.01</td><td>0</td><td>0</td><td>0</td><td>0</td><td>0</td><td>32</td></tr><tr><td>1</td><td>1</td><td>2</td><td>0</td><td>6</td><td>0</td><td>1</td><td>0.22</td><td>0.8</td><td>0.0</td><td>1</td><td>0.5</td><td>0.866025</td><td>-0.781831</td><td>0.62349</td><td>32</td><td>40</td><td>16</td><td>1</td><td>0</td><td>0.22</td><td>0.24</td><td>0.8</td><td>0.81</td><td>0.226667</td><td>0.22</td><td>0.233333</td><td>0.24</td><td>0.803333</td><td>0.8</td><td>0.776667</td><td>0.775</td><td>1.02</td><td>2.8</td><td>-8</td><td>16</td><td>1</td><td>0</td><td>0.0</td><td>-0.02</td><td>0.22</td><td>0.0</td><td>-0.01</td><td>0</td><td>0</td><td>0</td><td>0</td><td>0</td><td>13</td></tr><tr><td>1</td><td>1</td><td>3</td><td>0</td><td>6</td><td>0</td><td>1</td><td>0.24</td><td>0.75</td><td>0.0</td><td>1</td><td>0.707107</td><td>0.707107</td><td>-0.781831</td><td>0.62349</td><td>13</td><td>32</td><td>16</td><td>2</td><td>0</td><td>0.22</td><td>0.24</td><td>0.8</td><td>0.81</td><td>0.226667</td><td>0.22</td><td>0.233333</td><td>0.24</td><td>0.783333</td><td>0.8</td><td>0.776667</td><td>0.775</td><td>0.99</td><td>3.75</td><td>-19</td><td>-27</td><td>1</td><td>0</td><td>0.02</td><td>0.02</td><td>0.22</td><td>-0.05</td><td>-0.05</td><td>0</td><td>0</td><td>0</td><td>0</td><td>0</td><td>1</td></tr><tr><td>1</td><td>1</td><td>4</td><td>0</td><td>6</td><td>0</td><td>1</td><td>0.24</td><td>0.75</td><td>0.0</td><td>1</td><td>0.866025</td><td>0.5</td><td>-0.781831</td><td>0.62349</td><td>1</td><td>13</td><td>16</td><td>3</td><td>0</td><td>0.24</td><td>0.22</td><td>0.75</td><td>0.8</td><td>0.233333</td><td>0.24</td><td>0.233333</td><td>0.24</td><td>0.766667</td><td>0.75</td><td>0.776667</td><td>0.775</td><td>0.99</td><td>4.75</td><td>-12</td><td>-31</td><td>1</td><td>0</td><td>0.0</td><td>0.02</td><td>0.22</td><td>0.0</td><td>-0.05</td><td>0</td><td>0</td><td>0</td><td>0</td><td>0</td><td>1</td></tr></tbody></table></div>"
      ],
      "text/plain": [
       "shape: (5, 49)\n",
       "┌─────┬─────┬─────┬─────┬─────┬─────┬─────┬─────┬─────┬─────┬─────┬─────┬─────┬─────┬─────┬─────┬─────┬─────┬─────┬─────┬─────┬─────┬─────┬─────┬─────┬─────┬─────┬─────┬─────┬─────┬─────┬─────┬─────┬─────┬─────┬─────┬─────┬─────┬─────┬─────┬─────┬─────┬─────┬─────┬─────┬─────┬─────┬─────┬─────┐\n",
       "│ sea ┆ mnt ┆ hr  ┆ hol ┆ wee ┆ wor ┆ wea ┆ tem ┆ hum ┆ win ┆ is_ ┆ sin ┆ cos ┆ sin ┆ cos ┆ cnt ┆ cnt ┆ cnt ┆ hr_ ┆ hr_ ┆ tem ┆ tem ┆ hum ┆ hum ┆ tem ┆ tem ┆ tem ┆ tem ┆ hum ┆ hum ┆ hum ┆ hum ┆ tem ┆ hum ┆ cnt ┆ cnt ┆ hr_ ┆ hr_ ┆ tem ┆ tem ┆ tem ┆ hum ┆ hum ┆ is_ ┆ is_ ┆ is_ ┆ is_ ┆ is_ ┆ tar │\n",
       "│ son ┆ h   ┆ --- ┆ ida ┆ kda ┆ kin ┆ the ┆ p   ┆ --- ┆ dsp ┆ wee ┆ _ho ┆ _ho ┆ _we ┆ _we ┆ _la ┆ _la ┆ _la ┆ lag ┆ lag ┆ p_l ┆ p_l ┆ _la ┆ _la ┆ p_r ┆ p_r ┆ p_r ┆ p_r ┆ _ro ┆ _ro ┆ _ro ┆ _ro ┆ p_p ┆ _pl ┆ _di ┆ _di ┆ dif ┆ dif ┆ p_d ┆ p_d ┆ p_d ┆ _di ┆ _di ┆ hig ┆ hig ┆ pea ┆ wor ┆ bus ┆ get │\n",
       "│ --- ┆ --- ┆ i64 ┆ y   ┆ y   ┆ gda ┆ rsi ┆ --- ┆ f64 ┆ eed ┆ ken ┆ ur  ┆ ur  ┆ ekd ┆ ekd ┆ g_0 ┆ g_1 ┆ g_2 ┆ _1h ┆ _24 ┆ ag_ ┆ ag_ ┆ g_1 ┆ g_3 ┆ oll ┆ oll ┆ oll ┆ oll ┆ lli ┆ lli ┆ lli ┆ lli ┆ lus ┆ us_ ┆ ff_ ┆ ff_ ┆ f_1 ┆ f_2 ┆ iff ┆ iff ┆ iff ┆ ff_ ┆ ff_ ┆ h_t ┆ h_h ┆ k_h ┆ kin ┆ ine ┆ --- │\n",
       "│ i64 ┆ i64 ┆     ┆ --- ┆ --- ┆ y   ┆ t   ┆ f64 ┆     ┆ --- ┆ d   ┆ --- ┆ --- ┆ ay  ┆ ay  ┆ hr  ┆ hr  ┆ 4hr ┆ r   ┆ hr  ┆ 1hr ┆ 3hr ┆ hr  ┆ hr  ┆ ing ┆ ing ┆ ing ┆ ing ┆ ng_ ┆ ng_ ┆ ng_ ┆ ng_ ┆ _hu ┆ hr  ┆ 1hr ┆ 2hr ┆ hr  ┆ 4hr ┆ _1h ┆ _2h ┆ _24 ┆ 1hr ┆ 2hr ┆ emp ┆ um  ┆ our ┆ g_h ┆ ss_ ┆ i64 │\n",
       "│     ┆     ┆     ┆ i64 ┆ i64 ┆ --- ┆ --- ┆     ┆     ┆ f64 ┆ --- ┆ f64 ┆ f64 ┆ --- ┆ --- ┆ --- ┆ --- ┆ --- ┆ --- ┆ --- ┆ --- ┆ --- ┆ --- ┆ --- ┆ _me ┆ _me ┆ _me ┆ _me ┆ mea ┆ med ┆ mea ┆ med ┆ m   ┆ --- ┆ --- ┆ --- ┆ --- ┆ --- ┆ r   ┆ r   ┆ hr  ┆ --- ┆ --- ┆ --- ┆ --- ┆ --- ┆ our ┆ hou ┆     │\n",
       "│     ┆     ┆     ┆     ┆     ┆ i64 ┆ i64 ┆     ┆     ┆     ┆ i8  ┆     ┆     ┆ f64 ┆ f64 ┆ i64 ┆ i64 ┆ i64 ┆ i64 ┆ i64 ┆ f64 ┆ f64 ┆ f64 ┆ f64 ┆ an_ ┆ dia ┆ an_ ┆ dia ┆ n_3 ┆ ian ┆ n_6 ┆ ian ┆ --- ┆ f64 ┆ i64 ┆ i64 ┆ i64 ┆ i64 ┆ --- ┆ --- ┆ --- ┆ f64 ┆ f64 ┆ i8  ┆ i8  ┆ i8  ┆ --- ┆ r   ┆     │\n",
       "│     ┆     ┆     ┆     ┆     ┆     ┆     ┆     ┆     ┆     ┆     ┆     ┆     ┆     ┆     ┆     ┆     ┆     ┆     ┆     ┆     ┆     ┆     ┆     ┆ 3hr ┆ n_3 ┆ 6hr ┆ n_6 ┆ hr  ┆ _3h ┆ hr  ┆ _6h ┆ f64 ┆     ┆     ┆     ┆     ┆     ┆ f64 ┆ f64 ┆ f64 ┆     ┆     ┆     ┆     ┆     ┆ i8  ┆ --- ┆     │\n",
       "│     ┆     ┆     ┆     ┆     ┆     ┆     ┆     ┆     ┆     ┆     ┆     ┆     ┆     ┆     ┆     ┆     ┆     ┆     ┆     ┆     ┆     ┆     ┆     ┆ --- ┆ hr  ┆ --- ┆ hr  ┆ --- ┆ r   ┆ --- ┆ r   ┆     ┆     ┆     ┆     ┆     ┆     ┆     ┆     ┆     ┆     ┆     ┆     ┆     ┆     ┆     ┆ i8  ┆     │\n",
       "│     ┆     ┆     ┆     ┆     ┆     ┆     ┆     ┆     ┆     ┆     ┆     ┆     ┆     ┆     ┆     ┆     ┆     ┆     ┆     ┆     ┆     ┆     ┆     ┆ f64 ┆ --- ┆ f64 ┆ --- ┆ f64 ┆ --- ┆ f64 ┆ --- ┆     ┆     ┆     ┆     ┆     ┆     ┆     ┆     ┆     ┆     ┆     ┆     ┆     ┆     ┆     ┆     ┆     │\n",
       "│     ┆     ┆     ┆     ┆     ┆     ┆     ┆     ┆     ┆     ┆     ┆     ┆     ┆     ┆     ┆     ┆     ┆     ┆     ┆     ┆     ┆     ┆     ┆     ┆     ┆ f64 ┆     ┆ f64 ┆     ┆ f64 ┆     ┆ f64 ┆     ┆     ┆     ┆     ┆     ┆     ┆     ┆     ┆     ┆     ┆     ┆     ┆     ┆     ┆     ┆     ┆     │\n",
       "╞═════╪═════╪═════╪═════╪═════╪═════╪═════╪═════╪═════╪═════╪═════╪═════╪═════╪═════╪═════╪═════╪═════╪═════╪═════╪═════╪═════╪═════╪═════╪═════╪═════╪═════╪═════╪═════╪═════╪═════╪═════╪═════╪═════╪═════╪═════╪═════╪═════╪═════╪═════╪═════╪═════╪═════╪═════╪═════╪═════╪═════╪═════╪═════╪═════╡\n",
       "│ 1   ┆ 1   ┆ 0   ┆ 0   ┆ 6   ┆ 0   ┆ 1   ┆ 0.2 ┆ 0.8 ┆ 0.0 ┆ 1   ┆ 0.0 ┆ 1.0 ┆ -0. ┆ 0.6 ┆ 16  ┆ 16  ┆ 16  ┆ 0   ┆ 0   ┆ 0.2 ┆ 0.2 ┆ 0.8 ┆ 0.8 ┆ 0.2 ┆ 0.2 ┆ 0.2 ┆ 0.2 ┆ 0.8 ┆ 0.8 ┆ 0.7 ┆ 0.7 ┆ 1.0 ┆ 0.8 ┆ 24  ┆ 16  ┆ 1   ┆ 0   ┆ -0. ┆ -0. ┆ 0.2 ┆ -0. ┆ -0. ┆ 0   ┆ 0   ┆ 0   ┆ 0   ┆ 0   ┆ 40  │\n",
       "│     ┆     ┆     ┆     ┆     ┆     ┆     ┆ 4   ┆ 1   ┆     ┆     ┆     ┆     ┆ 781 ┆ 234 ┆     ┆     ┆     ┆     ┆     ┆ 4   ┆ 4   ┆ 1   ┆ 1   ┆ 266 ┆ 2   ┆ 333 ┆ 4   ┆ 033 ┆     ┆ 766 ┆ 75  ┆ 5   ┆ 1   ┆     ┆     ┆     ┆     ┆ 02  ┆ 02  ┆ 2   ┆ 01  ┆ 01  ┆     ┆     ┆     ┆     ┆     ┆     │\n",
       "│     ┆     ┆     ┆     ┆     ┆     ┆     ┆     ┆     ┆     ┆     ┆     ┆     ┆ 831 ┆ 9   ┆     ┆     ┆     ┆     ┆     ┆     ┆     ┆     ┆     ┆ 67  ┆     ┆ 33  ┆     ┆ 33  ┆     ┆ 67  ┆     ┆     ┆     ┆     ┆     ┆     ┆     ┆     ┆     ┆     ┆     ┆     ┆     ┆     ┆     ┆     ┆     ┆     │\n",
       "│ 1   ┆ 1   ┆ 1   ┆ 0   ┆ 6   ┆ 0   ┆ 1   ┆ 0.2 ┆ 0.8 ┆ 0.0 ┆ 1   ┆ 0.2 ┆ 0.9 ┆ -0. ┆ 0.6 ┆ 40  ┆ 16  ┆ 16  ┆ 0   ┆ 0   ┆ 0.2 ┆ 0.2 ┆ 0.8 ┆ 0.8 ┆ 0.2 ┆ 0.2 ┆ 0.2 ┆ 0.2 ┆ 0.8 ┆ 0.8 ┆ 0.7 ┆ 0.7 ┆ 1.0 ┆ 1.8 ┆ 24  ┆ 16  ┆ 1   ┆ 0   ┆ -0. ┆ -0. ┆ 0.2 ┆ -0. ┆ -0. ┆ 0   ┆ 0   ┆ 0   ┆ 0   ┆ 0   ┆ 32  │\n",
       "│     ┆     ┆     ┆     ┆     ┆     ┆     ┆ 2   ┆     ┆     ┆     ┆ 588 ┆ 659 ┆ 781 ┆ 234 ┆     ┆     ┆     ┆     ┆     ┆ 4   ┆ 4   ┆ 1   ┆ 1   ┆ 266 ┆ 2   ┆ 333 ┆ 4   ┆ 033 ┆     ┆ 766 ┆ 75  ┆ 2   ┆     ┆     ┆     ┆     ┆     ┆ 02  ┆ 02  ┆ 2   ┆ 01  ┆ 01  ┆     ┆     ┆     ┆     ┆     ┆     │\n",
       "│     ┆     ┆     ┆     ┆     ┆     ┆     ┆     ┆     ┆     ┆     ┆ 19  ┆ 26  ┆ 831 ┆ 9   ┆     ┆     ┆     ┆     ┆     ┆     ┆     ┆     ┆     ┆ 67  ┆     ┆ 33  ┆     ┆ 33  ┆     ┆ 67  ┆     ┆     ┆     ┆     ┆     ┆     ┆     ┆     ┆     ┆     ┆     ┆     ┆     ┆     ┆     ┆     ┆     ┆     │\n",
       "│ 1   ┆ 1   ┆ 2   ┆ 0   ┆ 6   ┆ 0   ┆ 1   ┆ 0.2 ┆ 0.8 ┆ 0.0 ┆ 1   ┆ 0.5 ┆ 0.8 ┆ -0. ┆ 0.6 ┆ 32  ┆ 40  ┆ 16  ┆ 1   ┆ 0   ┆ 0.2 ┆ 0.2 ┆ 0.8 ┆ 0.8 ┆ 0.2 ┆ 0.2 ┆ 0.2 ┆ 0.2 ┆ 0.8 ┆ 0.8 ┆ 0.7 ┆ 0.7 ┆ 1.0 ┆ 2.8 ┆ -8  ┆ 16  ┆ 1   ┆ 0   ┆ 0.0 ┆ -0. ┆ 0.2 ┆ 0.0 ┆ -0. ┆ 0   ┆ 0   ┆ 0   ┆ 0   ┆ 0   ┆ 13  │\n",
       "│     ┆     ┆     ┆     ┆     ┆     ┆     ┆ 2   ┆     ┆     ┆     ┆     ┆ 660 ┆ 781 ┆ 234 ┆     ┆     ┆     ┆     ┆     ┆ 2   ┆ 4   ┆     ┆ 1   ┆ 266 ┆ 2   ┆ 333 ┆ 4   ┆ 033 ┆     ┆ 766 ┆ 75  ┆ 2   ┆     ┆     ┆     ┆     ┆     ┆     ┆ 02  ┆ 2   ┆     ┆ 01  ┆     ┆     ┆     ┆     ┆     ┆     │\n",
       "│     ┆     ┆     ┆     ┆     ┆     ┆     ┆     ┆     ┆     ┆     ┆     ┆ 25  ┆ 831 ┆ 9   ┆     ┆     ┆     ┆     ┆     ┆     ┆     ┆     ┆     ┆ 67  ┆     ┆ 33  ┆     ┆ 33  ┆     ┆ 67  ┆     ┆     ┆     ┆     ┆     ┆     ┆     ┆     ┆     ┆     ┆     ┆     ┆     ┆     ┆     ┆     ┆     ┆     │\n",
       "│ 1   ┆ 1   ┆ 3   ┆ 0   ┆ 6   ┆ 0   ┆ 1   ┆ 0.2 ┆ 0.7 ┆ 0.0 ┆ 1   ┆ 0.7 ┆ 0.7 ┆ -0. ┆ 0.6 ┆ 13  ┆ 32  ┆ 16  ┆ 2   ┆ 0   ┆ 0.2 ┆ 0.2 ┆ 0.8 ┆ 0.8 ┆ 0.2 ┆ 0.2 ┆ 0.2 ┆ 0.2 ┆ 0.7 ┆ 0.8 ┆ 0.7 ┆ 0.7 ┆ 0.9 ┆ 3.7 ┆ -19 ┆ -27 ┆ 1   ┆ 0   ┆ 0.0 ┆ 0.0 ┆ 0.2 ┆ -0. ┆ -0. ┆ 0   ┆ 0   ┆ 0   ┆ 0   ┆ 0   ┆ 1   │\n",
       "│     ┆     ┆     ┆     ┆     ┆     ┆     ┆ 4   ┆ 5   ┆     ┆     ┆ 071 ┆ 071 ┆ 781 ┆ 234 ┆     ┆     ┆     ┆     ┆     ┆ 2   ┆ 4   ┆     ┆ 1   ┆ 266 ┆ 2   ┆ 333 ┆ 4   ┆ 833 ┆     ┆ 766 ┆ 75  ┆ 9   ┆ 5   ┆     ┆     ┆     ┆     ┆ 2   ┆ 2   ┆ 2   ┆ 05  ┆ 05  ┆     ┆     ┆     ┆     ┆     ┆     │\n",
       "│     ┆     ┆     ┆     ┆     ┆     ┆     ┆     ┆     ┆     ┆     ┆ 07  ┆ 07  ┆ 831 ┆ 9   ┆     ┆     ┆     ┆     ┆     ┆     ┆     ┆     ┆     ┆ 67  ┆     ┆ 33  ┆     ┆ 33  ┆     ┆ 67  ┆     ┆     ┆     ┆     ┆     ┆     ┆     ┆     ┆     ┆     ┆     ┆     ┆     ┆     ┆     ┆     ┆     ┆     │\n",
       "│ 1   ┆ 1   ┆ 4   ┆ 0   ┆ 6   ┆ 0   ┆ 1   ┆ 0.2 ┆ 0.7 ┆ 0.0 ┆ 1   ┆ 0.8 ┆ 0.5 ┆ -0. ┆ 0.6 ┆ 1   ┆ 13  ┆ 16  ┆ 3   ┆ 0   ┆ 0.2 ┆ 0.2 ┆ 0.7 ┆ 0.8 ┆ 0.2 ┆ 0.2 ┆ 0.2 ┆ 0.2 ┆ 0.7 ┆ 0.7 ┆ 0.7 ┆ 0.7 ┆ 0.9 ┆ 4.7 ┆ -12 ┆ -31 ┆ 1   ┆ 0   ┆ 0.0 ┆ 0.0 ┆ 0.2 ┆ 0.0 ┆ -0. ┆ 0   ┆ 0   ┆ 0   ┆ 0   ┆ 0   ┆ 1   │\n",
       "│     ┆     ┆     ┆     ┆     ┆     ┆     ┆ 4   ┆ 5   ┆     ┆     ┆ 660 ┆     ┆ 781 ┆ 234 ┆     ┆     ┆     ┆     ┆     ┆ 4   ┆ 2   ┆ 5   ┆     ┆ 333 ┆ 4   ┆ 333 ┆ 4   ┆ 666 ┆ 5   ┆ 766 ┆ 75  ┆ 9   ┆ 5   ┆     ┆     ┆     ┆     ┆     ┆ 2   ┆ 2   ┆     ┆ 05  ┆     ┆     ┆     ┆     ┆     ┆     │\n",
       "│     ┆     ┆     ┆     ┆     ┆     ┆     ┆     ┆     ┆     ┆     ┆ 25  ┆     ┆ 831 ┆ 9   ┆     ┆     ┆     ┆     ┆     ┆     ┆     ┆     ┆     ┆ 33  ┆     ┆ 33  ┆     ┆ 67  ┆     ┆ 67  ┆     ┆     ┆     ┆     ┆     ┆     ┆     ┆     ┆     ┆     ┆     ┆     ┆     ┆     ┆     ┆     ┆     ┆     │\n",
       "└─────┴─────┴─────┴─────┴─────┴─────┴─────┴─────┴─────┴─────┴─────┴─────┴─────┴─────┴─────┴─────┴─────┴─────┴─────┴─────┴─────┴─────┴─────┴─────┴─────┴─────┴─────┴─────┴─────┴─────┴─────┴─────┴─────┴─────┴─────┴─────┴─────┴─────┴─────┴─────┴─────┴─────┴─────┴─────┴─────┴─────┴─────┴─────┴─────┘"
      ]
     },
     "execution_count": 62,
     "metadata": {},
     "output_type": "execute_result"
    }
   ],
   "source": [
    "config: FeatureConfig = FeatureConfig(\n",
    "    lags=[\n",
    "        Lags(feature=\"cnt\", lags=[0, 1, 24]),\n",
    "        Lags(feature=\"hr\", lags=[1, 24]),\n",
    "        Lags(feature=\"temp\", lags=[1, 3]),\n",
    "        Lags(feature=\"hum\", lags=[1, 3]),\n",
    "    ],\n",
    "    diffs=[\n",
    "        Lags(feature=\"cnt\", lags=[1, 2]),\n",
    "        Lags(feature=\"hr\", lags=[1, 24]),\n",
    "        Lags(feature=\"temp\", lags=[1, 2, 24]),\n",
    "        Lags(feature=\"hum\", lags=[1, 2]),\n",
    "    ],\n",
    "    interactions=[\n",
    "        InteractionFeats(feature_1=\"temp\", feature_2=\"hum\", operation=\"add\"),\n",
    "        InteractionFeats(feature_1=\"hum\", feature_2=\"hr\", operation=\"add\"),\n",
    "    ],\n",
    "    rolling_windows=[\n",
    "        Windows(feature=\"temp\", windows=[3, 6]),\n",
    "        Windows(feature=\"hum\", windows=[3, 6]),\n",
    "    ],\n",
    "    drop_feats=[\"yr\", \"atemp\", \"casual\", \"registered\", \"datetime\", \"cnt\"],\n",
    "    target_col=\"cnt\",\n",
    ")\n",
    "\n",
    "feat_eng = FeatureEngineer(data, config)\n",
    "\n",
    "prepr_data: pl.DataFrame = feat_eng.create_all_features()\n",
    "prepr_data.head()"
   ]
  },
  {
   "cell_type": "code",
   "execution_count": null,
   "id": "e8e57e0f",
   "metadata": {},
   "outputs": [],
   "source": []
  },
  {
   "cell_type": "code",
   "execution_count": 55,
   "id": "cb97f117",
   "metadata": {},
   "outputs": [],
   "source": [
    "from sklearn.model_selection import TimeSeriesSplit\n",
    "from sklearn.ensemble import RandomForestRegressor\n",
    "from src.ml.utils import compute_metrics, split_temporal_data"
   ]
  },
  {
   "cell_type": "code",
   "execution_count": 56,
   "id": "b17c2d49",
   "metadata": {},
   "outputs": [
    {
     "name": "stdout",
     "output_type": "stream",
     "text": [
      "(11122, 48) (11122,) (2781, 48) (2781,)\n"
     ]
    }
   ],
   "source": [
    "train_df, test_df = split_temporal_data(prepr_data)\n",
    "x_train = train_df.drop(\"target\").to_numpy()\n",
    "y_train = train_df[\"target\"].to_numpy()\n",
    "\n",
    "x_test = test_df.drop(\"target\").to_numpy()\n",
    "y_test = test_df[\"target\"].to_numpy()\n",
    "\n",
    "print(x_train.shape, y_train.shape, x_test.shape, y_test.shape)"
   ]
  },
  {
   "cell_type": "code",
   "execution_count": 57,
   "id": "24727bbf",
   "metadata": {},
   "outputs": [
    {
     "name": "stdout",
     "output_type": "stream",
     "text": [
      "TimeSeriesSplit(gap=0, max_train_size=None, n_splits=5, test_size=168)\n",
      "Fold 1:\n",
      "Validation Metrics: {'MAE': 33.59, 'RMSE': 55.99, 'MAPE': 28.95}\n",
      "Fold 2:\n",
      "Validation Metrics: {'MAE': 52.54, 'RMSE': 80.85, 'MAPE': 24.67}\n",
      "Fold 3:\n",
      "Validation Metrics: {'MAE': 34.86, 'RMSE': 59.87, 'MAPE': 27.01}\n",
      "Fold 4:\n",
      "Validation Metrics: {'MAE': 41.42, 'RMSE': 62.99, 'MAPE': 28.05}\n",
      "Fold 5:\n",
      "Validation Metrics: {'MAE': 28.04, 'RMSE': 41.6, 'MAPE': 25.45}\n",
      "\n",
      "Cross-Validation Results:\n",
      "Average MAE over 5 folds: 38.09\n",
      "Average RMSE over 5 folds: 60.26\n",
      "Average MAPE over 5 folds: 26.83\n"
     ]
    }
   ],
   "source": [
    "n_splits: int = 5\n",
    "test_size: int = 168  # 1 week of hourly data\n",
    "\n",
    "tscv = TimeSeriesSplit(n_splits=n_splits, test_size=test_size, gap=0)\n",
    "rf_reg = RandomForestRegressor(random_state=123)\n",
    "all_rmse: list[float] = []\n",
    "all_mae: list[float] = []\n",
    "all_mape: list[float] = []\n",
    "print(tscv)\n",
    "\n",
    "for i, (train_index, test_index) in enumerate(tscv.split(x_train), start=1):\n",
    "    print(f\"Fold {i}:\")\n",
    "    x_tr, x_val = x_train[train_index], x_train[test_index]\n",
    "    y_tr, y_val = y_train[train_index], y_train[test_index]\n",
    "    # Train the model\n",
    "    rf_reg.fit(x_tr, y_tr)\n",
    "    # Evaluate the model\n",
    "    y_pred = rf_reg.predict(x_val)\n",
    "    metrics = compute_metrics(y_val, y_pred)\n",
    "    print(f\"Validation Metrics: {metrics}\")\n",
    "    all_rmse.append(metrics.get(\"RMSE\"))\n",
    "    all_mae.append(metrics.get(\"MAE\"))\n",
    "    all_mape.append(metrics.get(\"MAPE\"))\n",
    "\n",
    "print(\"\\nCross-Validation Results:\")\n",
    "print(f\"Average MAE over {n_splits} folds: {np.mean(all_mae).round(2)}\")\n",
    "print(f\"Average RMSE over {n_splits} folds: {np.mean(all_rmse).round(2)}\")\n",
    "print(f\"Average MAPE over {n_splits} folds: {np.mean(all_mape).round(2)}\")"
   ]
  },
  {
   "cell_type": "code",
   "execution_count": 58,
   "id": "0dde1952",
   "metadata": {},
   "outputs": [
    {
     "name": "stdout",
     "output_type": "stream",
     "text": [
      "\n",
      "Test Set Metrics: {'MAE': 41.74, 'RMSE': 66.65, 'MAPE': 24.1}\n"
     ]
    }
   ],
   "source": [
    "# Evaluate on the test set\n",
    "y_test_pred = rf_reg.predict(x_test)\n",
    "metrics_test = compute_metrics(y_test, y_test_pred)\n",
    "print(f\"\\nTest Set Metrics: {metrics_test}\")"
   ]
  },
  {
   "cell_type": "code",
   "execution_count": null,
   "id": "ab89a8f4",
   "metadata": {},
   "outputs": [],
   "source": []
  },
  {
   "cell_type": "code",
   "execution_count": null,
   "id": "cbfe7caf",
   "metadata": {},
   "outputs": [],
   "source": []
  },
  {
   "cell_type": "code",
   "execution_count": null,
   "id": "e152c6c1",
   "metadata": {},
   "outputs": [],
   "source": []
  },
  {
   "cell_type": "code",
   "execution_count": null,
   "id": "1061c811",
   "metadata": {},
   "outputs": [],
   "source": []
  },
  {
   "cell_type": "code",
   "execution_count": null,
   "id": "5428fb74",
   "metadata": {},
   "outputs": [],
   "source": []
  }
 ],
 "metadata": {
  "kernelspec": {
   "display_name": "Bike-Rental-Prediction (3.12.11)",
   "language": "python",
   "name": "python3"
  },
  "language_info": {
   "codemirror_mode": {
    "name": "ipython",
    "version": 3
   },
   "file_extension": ".py",
   "mimetype": "text/x-python",
   "name": "python",
   "nbconvert_exporter": "python",
   "pygments_lexer": "ipython3",
   "version": "3.12.11"
  }
 },
 "nbformat": 4,
 "nbformat_minor": 5
}
