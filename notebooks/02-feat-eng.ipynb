{
 "cells": [
  {
   "cell_type": "markdown",
   "id": "236f62b9",
   "metadata": {},
   "source": [
    "# Feature Engineering"
   ]
  },
  {
   "cell_type": "code",
   "execution_count": 1,
   "id": "917effb0",
   "metadata": {},
   "outputs": [],
   "source": [
    "import warnings\n",
    "from typing import Any, Literal\n",
    "\n",
    "import numpy as np\n",
    "import pandas as pd\n",
    "import polars as pl\n",
    "from rich.console import Console\n",
    "from rich.theme import Theme\n",
    "\n",
    "custom_theme = Theme(\n",
    "    {\n",
    "        \"white\": \"#FFFFFF\",  # Bright white\n",
    "        \"info\": \"#00FF00\",  # Bright green\n",
    "        \"warning\": \"#FFD700\",  # Bright gold\n",
    "        \"error\": \"#FF1493\",  # Deep pink\n",
    "        \"success\": \"#00FFFF\",  # Cyan\n",
    "        \"highlight\": \"#FF4500\",  # Orange-red\n",
    "    }\n",
    ")\n",
    "console = Console(theme=custom_theme)\n",
    "\n",
    "# Visualization\n",
    "# import matplotlib.pyplot as plt\n",
    "\n",
    "# NumPy settings\n",
    "np.set_printoptions(precision=4)\n",
    "\n",
    "# Pandas settings\n",
    "pd.options.display.max_rows = 1_000\n",
    "pd.options.display.max_columns = 1_000\n",
    "pd.options.display.max_colwidth = 600\n",
    "\n",
    "# Polars settings\n",
    "pl.Config.set_fmt_str_lengths(1_000)\n",
    "pl.Config.set_tbl_cols(n=1_000)\n",
    "pl.Config.set_tbl_rows(n=200)\n",
    "\n",
    "warnings.filterwarnings(\"ignore\")\n",
    "\n",
    "# Black code formatter (Optional)\n",
    "%load_ext lab_black\n",
    "\n",
    "# auto reload imports\n",
    "%load_ext autoreload\n",
    "%autoreload 2"
   ]
  },
  {
   "cell_type": "code",
   "execution_count": 2,
   "id": "228c8d0e",
   "metadata": {},
   "outputs": [],
   "source": [
    "def go_up_from_current_directory(*, go_up: int = 1) -> None:\n",
    "    \"\"\"This is used to up a number of directories.\n",
    "\n",
    "    Params:\n",
    "    -------\n",
    "    go_up: int, default=1\n",
    "        This indicates the number of times to go back up from the current directory.\n",
    "\n",
    "    Returns:\n",
    "    --------\n",
    "    None\n",
    "    \"\"\"\n",
    "    import os\n",
    "    import sys\n",
    "\n",
    "    CONST: str = \"../\"\n",
    "    NUM: str = CONST * go_up\n",
    "\n",
    "    # Goto the previous directory\n",
    "    prev_directory = os.path.join(os.path.dirname(__name__), NUM)\n",
    "    # Get the 'absolute path' of the previous directory\n",
    "    abs_path_prev_directory = os.path.abspath(prev_directory)\n",
    "\n",
    "    # Add the path to the System paths\n",
    "    sys.path.insert(0, abs_path_prev_directory)\n",
    "    print(abs_path_prev_directory)\n",
    "\n",
    "\n",
    "# Demo (Prevents ruff from removing the unused module import)\n",
    "name: Any\n",
    "category: Literal[\"A\", \"B\", \"C\"]"
   ]
  },
  {
   "cell_type": "code",
   "execution_count": 3,
   "id": "651f550e",
   "metadata": {},
   "outputs": [
    {
     "name": "stdout",
     "output_type": "stream",
     "text": [
      "/Users/mac/Desktop/Projects/Bike-Rental-Prediction\n"
     ]
    }
   ],
   "source": [
    "go_up_from_current_directory(go_up=1)"
   ]
  },
  {
   "cell_type": "markdown",
   "id": "5de2551d",
   "metadata": {},
   "source": [
    "# Table of Contents\n",
    "- [Dataset Preparation](#Dataset-Preparation)\n",
    "  - [Load Data](#load-data)\n",
    "  - [Validate Data](#validate-data)\n",
    "- [Baseline Model](#Baseline-Model)\n",
    "- [Baseline Model With Lagged Target Features](#baseline-model-with-lagged-target-features)\n",
    "- [Add More Features](#add-more-features)\n",
    "- [Train With TimeSeriesSplit](#train-with-timeseriessplit)\n",
    "- [Tune Hyperparameters Using Optuna](#tune-hyperparameters-using-optuna)\n",
    "- [Conclusions](#Conclusions)"
   ]
  },
  {
   "cell_type": "code",
   "execution_count": 4,
   "id": "7cc46afe",
   "metadata": {},
   "outputs": [],
   "source": [
    "from src.utilities.data_validator import data_validator"
   ]
  },
  {
   "cell_type": "markdown",
   "id": "23621787",
   "metadata": {},
   "source": [
    "# Dataset Preparation\n",
    "\n",
    "### Load data"
   ]
  },
  {
   "cell_type": "code",
   "execution_count": 5,
   "id": "4c70fe62",
   "metadata": {},
   "outputs": [
    {
     "data": {
      "text/html": [
       "<pre style=\"white-space:pre;overflow-x:auto;line-height:normal;font-family:Menlo,'DejaVu Sans Mono',consolas,'Courier New',monospace\"><span style=\"color: #00ff00; text-decoration-color: #00ff00\">Shape: </span><span style=\"color: #00ff00; text-decoration-color: #00ff00; font-weight: bold\">(</span><span style=\"color: #008080; text-decoration-color: #008080; font-weight: bold\">13903</span><span style=\"color: #00ff00; text-decoration-color: #00ff00\">, </span><span style=\"color: #008080; text-decoration-color: #008080; font-weight: bold\">16</span><span style=\"color: #00ff00; text-decoration-color: #00ff00; font-weight: bold\">)</span>\n",
       "</pre>\n"
      ],
      "text/plain": [
       "\u001b[38;2;0;255;0mShape: \u001b[0m\u001b[1;38;2;0;255;0m(\u001b[0m\u001b[1;36m13903\u001b[0m\u001b[38;2;0;255;0m, \u001b[0m\u001b[1;36m16\u001b[0m\u001b[1;38;2;0;255;0m)\u001b[0m\n"
      ]
     },
     "metadata": {},
     "output_type": "display_data"
    },
    {
     "data": {
      "text/html": [
       "<div><style>\n",
       ".dataframe > thead > tr,\n",
       ".dataframe > tbody > tr {\n",
       "  text-align: right;\n",
       "  white-space: pre-wrap;\n",
       "}\n",
       "</style>\n",
       "<small>shape: (5, 16)</small><table border=\"1\" class=\"dataframe\"><thead><tr><th>datetime</th><th>season</th><th>yr</th><th>mnth</th><th>hr</th><th>holiday</th><th>weekday</th><th>workingday</th><th>weathersit</th><th>temp</th><th>atemp</th><th>hum</th><th>windspeed</th><th>casual</th><th>registered</th><th>cnt</th></tr><tr><td>str</td><td>i64</td><td>i64</td><td>i64</td><td>i64</td><td>i64</td><td>i64</td><td>i64</td><td>i64</td><td>f64</td><td>f64</td><td>f64</td><td>f64</td><td>i64</td><td>i64</td><td>i64</td></tr></thead><tbody><tr><td>&quot;2011-01-01 00:00:00&quot;</td><td>1</td><td>0</td><td>1</td><td>0</td><td>0</td><td>6</td><td>0</td><td>1</td><td>0.24</td><td>0.2879</td><td>0.81</td><td>0.0</td><td>3</td><td>13</td><td>16</td></tr><tr><td>&quot;2011-01-01 01:00:00&quot;</td><td>1</td><td>0</td><td>1</td><td>1</td><td>0</td><td>6</td><td>0</td><td>1</td><td>0.22</td><td>0.2727</td><td>0.8</td><td>0.0</td><td>8</td><td>32</td><td>40</td></tr><tr><td>&quot;2011-01-01 02:00:00&quot;</td><td>1</td><td>0</td><td>1</td><td>2</td><td>0</td><td>6</td><td>0</td><td>1</td><td>0.22</td><td>0.2727</td><td>0.8</td><td>0.0</td><td>5</td><td>27</td><td>32</td></tr><tr><td>&quot;2011-01-01 03:00:00&quot;</td><td>1</td><td>0</td><td>1</td><td>3</td><td>0</td><td>6</td><td>0</td><td>1</td><td>0.24</td><td>0.2879</td><td>0.75</td><td>0.0</td><td>3</td><td>10</td><td>13</td></tr><tr><td>&quot;2011-01-01 04:00:00&quot;</td><td>1</td><td>0</td><td>1</td><td>4</td><td>0</td><td>6</td><td>0</td><td>1</td><td>0.24</td><td>0.2879</td><td>0.75</td><td>0.0</td><td>0</td><td>1</td><td>1</td></tr></tbody></table></div>"
      ],
      "text/plain": [
       "shape: (5, 16)\n",
       "┌─────┬─────┬─────┬─────┬─────┬─────┬─────┬─────┬─────┬─────┬─────┬─────┬─────┬─────┬────────┬─────┐\n",
       "│ dat ┆ sea ┆ yr  ┆ mnt ┆ hr  ┆ hol ┆ wee ┆ wor ┆ wea ┆ tem ┆ ate ┆ hum ┆ win ┆ cas ┆ regist ┆ cnt │\n",
       "│ eti ┆ son ┆ --- ┆ h   ┆ --- ┆ ida ┆ kda ┆ kin ┆ the ┆ p   ┆ mp  ┆ --- ┆ dsp ┆ ual ┆ ered   ┆ --- │\n",
       "│ me  ┆ --- ┆ i64 ┆ --- ┆ i64 ┆ y   ┆ y   ┆ gda ┆ rsi ┆ --- ┆ --- ┆ f64 ┆ eed ┆ --- ┆ ---    ┆ i64 │\n",
       "│ --- ┆ i64 ┆     ┆ i64 ┆     ┆ --- ┆ --- ┆ y   ┆ t   ┆ f64 ┆ f64 ┆     ┆ --- ┆ i64 ┆ i64    ┆     │\n",
       "│ str ┆     ┆     ┆     ┆     ┆ i64 ┆ i64 ┆ --- ┆ --- ┆     ┆     ┆     ┆ f64 ┆     ┆        ┆     │\n",
       "│     ┆     ┆     ┆     ┆     ┆     ┆     ┆ i64 ┆ i64 ┆     ┆     ┆     ┆     ┆     ┆        ┆     │\n",
       "╞═════╪═════╪═════╪═════╪═════╪═════╪═════╪═════╪═════╪═════╪═════╪═════╪═════╪═════╪════════╪═════╡\n",
       "│ 201 ┆ 1   ┆ 0   ┆ 1   ┆ 0   ┆ 0   ┆ 6   ┆ 0   ┆ 1   ┆ 0.2 ┆ 0.2 ┆ 0.8 ┆ 0.0 ┆ 3   ┆ 13     ┆ 16  │\n",
       "│ 1-0 ┆     ┆     ┆     ┆     ┆     ┆     ┆     ┆     ┆ 4   ┆ 879 ┆ 1   ┆     ┆     ┆        ┆     │\n",
       "│ 1-0 ┆     ┆     ┆     ┆     ┆     ┆     ┆     ┆     ┆     ┆     ┆     ┆     ┆     ┆        ┆     │\n",
       "│ 1   ┆     ┆     ┆     ┆     ┆     ┆     ┆     ┆     ┆     ┆     ┆     ┆     ┆     ┆        ┆     │\n",
       "│ 00: ┆     ┆     ┆     ┆     ┆     ┆     ┆     ┆     ┆     ┆     ┆     ┆     ┆     ┆        ┆     │\n",
       "│ 00: ┆     ┆     ┆     ┆     ┆     ┆     ┆     ┆     ┆     ┆     ┆     ┆     ┆     ┆        ┆     │\n",
       "│ 00  ┆     ┆     ┆     ┆     ┆     ┆     ┆     ┆     ┆     ┆     ┆     ┆     ┆     ┆        ┆     │\n",
       "│ 201 ┆ 1   ┆ 0   ┆ 1   ┆ 1   ┆ 0   ┆ 6   ┆ 0   ┆ 1   ┆ 0.2 ┆ 0.2 ┆ 0.8 ┆ 0.0 ┆ 8   ┆ 32     ┆ 40  │\n",
       "│ 1-0 ┆     ┆     ┆     ┆     ┆     ┆     ┆     ┆     ┆ 2   ┆ 727 ┆     ┆     ┆     ┆        ┆     │\n",
       "│ 1-0 ┆     ┆     ┆     ┆     ┆     ┆     ┆     ┆     ┆     ┆     ┆     ┆     ┆     ┆        ┆     │\n",
       "│ 1   ┆     ┆     ┆     ┆     ┆     ┆     ┆     ┆     ┆     ┆     ┆     ┆     ┆     ┆        ┆     │\n",
       "│ 01: ┆     ┆     ┆     ┆     ┆     ┆     ┆     ┆     ┆     ┆     ┆     ┆     ┆     ┆        ┆     │\n",
       "│ 00: ┆     ┆     ┆     ┆     ┆     ┆     ┆     ┆     ┆     ┆     ┆     ┆     ┆     ┆        ┆     │\n",
       "│ 00  ┆     ┆     ┆     ┆     ┆     ┆     ┆     ┆     ┆     ┆     ┆     ┆     ┆     ┆        ┆     │\n",
       "│ 201 ┆ 1   ┆ 0   ┆ 1   ┆ 2   ┆ 0   ┆ 6   ┆ 0   ┆ 1   ┆ 0.2 ┆ 0.2 ┆ 0.8 ┆ 0.0 ┆ 5   ┆ 27     ┆ 32  │\n",
       "│ 1-0 ┆     ┆     ┆     ┆     ┆     ┆     ┆     ┆     ┆ 2   ┆ 727 ┆     ┆     ┆     ┆        ┆     │\n",
       "│ 1-0 ┆     ┆     ┆     ┆     ┆     ┆     ┆     ┆     ┆     ┆     ┆     ┆     ┆     ┆        ┆     │\n",
       "│ 1   ┆     ┆     ┆     ┆     ┆     ┆     ┆     ┆     ┆     ┆     ┆     ┆     ┆     ┆        ┆     │\n",
       "│ 02: ┆     ┆     ┆     ┆     ┆     ┆     ┆     ┆     ┆     ┆     ┆     ┆     ┆     ┆        ┆     │\n",
       "│ 00: ┆     ┆     ┆     ┆     ┆     ┆     ┆     ┆     ┆     ┆     ┆     ┆     ┆     ┆        ┆     │\n",
       "│ 00  ┆     ┆     ┆     ┆     ┆     ┆     ┆     ┆     ┆     ┆     ┆     ┆     ┆     ┆        ┆     │\n",
       "│ 201 ┆ 1   ┆ 0   ┆ 1   ┆ 3   ┆ 0   ┆ 6   ┆ 0   ┆ 1   ┆ 0.2 ┆ 0.2 ┆ 0.7 ┆ 0.0 ┆ 3   ┆ 10     ┆ 13  │\n",
       "│ 1-0 ┆     ┆     ┆     ┆     ┆     ┆     ┆     ┆     ┆ 4   ┆ 879 ┆ 5   ┆     ┆     ┆        ┆     │\n",
       "│ 1-0 ┆     ┆     ┆     ┆     ┆     ┆     ┆     ┆     ┆     ┆     ┆     ┆     ┆     ┆        ┆     │\n",
       "│ 1   ┆     ┆     ┆     ┆     ┆     ┆     ┆     ┆     ┆     ┆     ┆     ┆     ┆     ┆        ┆     │\n",
       "│ 03: ┆     ┆     ┆     ┆     ┆     ┆     ┆     ┆     ┆     ┆     ┆     ┆     ┆     ┆        ┆     │\n",
       "│ 00: ┆     ┆     ┆     ┆     ┆     ┆     ┆     ┆     ┆     ┆     ┆     ┆     ┆     ┆        ┆     │\n",
       "│ 00  ┆     ┆     ┆     ┆     ┆     ┆     ┆     ┆     ┆     ┆     ┆     ┆     ┆     ┆        ┆     │\n",
       "│ 201 ┆ 1   ┆ 0   ┆ 1   ┆ 4   ┆ 0   ┆ 6   ┆ 0   ┆ 1   ┆ 0.2 ┆ 0.2 ┆ 0.7 ┆ 0.0 ┆ 0   ┆ 1      ┆ 1   │\n",
       "│ 1-0 ┆     ┆     ┆     ┆     ┆     ┆     ┆     ┆     ┆ 4   ┆ 879 ┆ 5   ┆     ┆     ┆        ┆     │\n",
       "│ 1-0 ┆     ┆     ┆     ┆     ┆     ┆     ┆     ┆     ┆     ┆     ┆     ┆     ┆     ┆        ┆     │\n",
       "│ 1   ┆     ┆     ┆     ┆     ┆     ┆     ┆     ┆     ┆     ┆     ┆     ┆     ┆     ┆        ┆     │\n",
       "│ 04: ┆     ┆     ┆     ┆     ┆     ┆     ┆     ┆     ┆     ┆     ┆     ┆     ┆     ┆        ┆     │\n",
       "│ 00: ┆     ┆     ┆     ┆     ┆     ┆     ┆     ┆     ┆     ┆     ┆     ┆     ┆     ┆        ┆     │\n",
       "│ 00  ┆     ┆     ┆     ┆     ┆     ┆     ┆     ┆     ┆     ┆     ┆     ┆     ┆     ┆        ┆     │\n",
       "└─────┴─────┴─────┴─────┴─────┴─────┴─────┴─────┴─────┴─────┴─────┴─────┴─────┴─────┴────────┴─────┘"
      ]
     },
     "execution_count": 5,
     "metadata": {},
     "output_type": "execute_result"
    }
   ],
   "source": [
    "fp: str = \"../../../../Documents/data_dump/bike_data/database.parquet\"\n",
    "data: pl.DataFrame = pl.read_parquet(fp)\n",
    "console.print(f\"Shape: {data.shape}\", style=\"info\")\n",
    "\n",
    "data.head()"
   ]
  },
  {
   "cell_type": "markdown",
   "id": "afab353a",
   "metadata": {},
   "source": [
    "### Validate Data"
   ]
  },
  {
   "cell_type": "code",
   "execution_count": 6,
   "id": "a7513bc7",
   "metadata": {},
   "outputs": [
    {
     "data": {
      "text/html": [
       "<pre style=\"white-space:pre;overflow-x:auto;line-height:normal;font-family:Menlo,'DejaVu Sans Mono',consolas,'Courier New',monospace\"><span style=\"font-weight: bold\">{</span>\n",
       "    <span style=\"color: #008000; text-decoration-color: #008000\">'data_schema'</span>: <span style=\"font-weight: bold\">{</span>\n",
       "        <span style=\"color: #008000; text-decoration-color: #008000\">'numeric'</span>: <span style=\"font-weight: bold\">{</span>\n",
       "            <span style=\"color: #008000; text-decoration-color: #008000\">'season'</span>: <span style=\"color: #008000; text-decoration-color: #008000\">'Int64'</span>,\n",
       "            <span style=\"color: #008000; text-decoration-color: #008000\">'yr'</span>: <span style=\"color: #008000; text-decoration-color: #008000\">'Int64'</span>,\n",
       "            <span style=\"color: #008000; text-decoration-color: #008000\">'mnth'</span>: <span style=\"color: #008000; text-decoration-color: #008000\">'Int64'</span>,\n",
       "            <span style=\"color: #008000; text-decoration-color: #008000\">'hr'</span>: <span style=\"color: #008000; text-decoration-color: #008000\">'Int64'</span>,\n",
       "            <span style=\"color: #008000; text-decoration-color: #008000\">'holiday'</span>: <span style=\"color: #008000; text-decoration-color: #008000\">'Int64'</span>,\n",
       "            <span style=\"color: #008000; text-decoration-color: #008000\">'weekday'</span>: <span style=\"color: #008000; text-decoration-color: #008000\">'Int64'</span>,\n",
       "            <span style=\"color: #008000; text-decoration-color: #008000\">'workingday'</span>: <span style=\"color: #008000; text-decoration-color: #008000\">'Int64'</span>,\n",
       "            <span style=\"color: #008000; text-decoration-color: #008000\">'weathersit'</span>: <span style=\"color: #008000; text-decoration-color: #008000\">'Int64'</span>,\n",
       "            <span style=\"color: #008000; text-decoration-color: #008000\">'temp'</span>: <span style=\"color: #008000; text-decoration-color: #008000\">'Float64'</span>,\n",
       "            <span style=\"color: #008000; text-decoration-color: #008000\">'atemp'</span>: <span style=\"color: #008000; text-decoration-color: #008000\">'Float64'</span>,\n",
       "            <span style=\"color: #008000; text-decoration-color: #008000\">'hum'</span>: <span style=\"color: #008000; text-decoration-color: #008000\">'Float64'</span>,\n",
       "            <span style=\"color: #008000; text-decoration-color: #008000\">'windspeed'</span>: <span style=\"color: #008000; text-decoration-color: #008000\">'Float64'</span>,\n",
       "            <span style=\"color: #008000; text-decoration-color: #008000\">'casual'</span>: <span style=\"color: #008000; text-decoration-color: #008000\">'Int64'</span>,\n",
       "            <span style=\"color: #008000; text-decoration-color: #008000\">'registered'</span>: <span style=\"color: #008000; text-decoration-color: #008000\">'Int64'</span>,\n",
       "            <span style=\"color: #008000; text-decoration-color: #008000\">'cnt'</span>: <span style=\"color: #008000; text-decoration-color: #008000\">'Int64'</span>\n",
       "        <span style=\"font-weight: bold\">}</span>,\n",
       "        <span style=\"color: #008000; text-decoration-color: #008000\">'string'</span>: <span style=\"font-weight: bold\">{</span><span style=\"color: #008000; text-decoration-color: #008000\">'datetime'</span>: <span style=\"color: #008000; text-decoration-color: #008000\">'String'</span><span style=\"font-weight: bold\">}</span>\n",
       "    <span style=\"font-weight: bold\">}</span>,\n",
       "    <span style=\"color: #008000; text-decoration-color: #008000\">'data_shape'</span>: <span style=\"font-weight: bold\">{</span>\n",
       "        <span style=\"color: #008000; text-decoration-color: #008000\">'total_rows'</span>: <span style=\"color: #008080; text-decoration-color: #008080; font-weight: bold\">13903</span>,\n",
       "        <span style=\"color: #008000; text-decoration-color: #008000\">'total_columns'</span>: <span style=\"color: #008080; text-decoration-color: #008080; font-weight: bold\">16</span>,\n",
       "        <span style=\"color: #008000; text-decoration-color: #008000\">'number_of_numeric_columns'</span>: <span style=\"color: #008080; text-decoration-color: #008080; font-weight: bold\">15</span>,\n",
       "        <span style=\"color: #008000; text-decoration-color: #008000\">'number_of_string_columns'</span>: <span style=\"color: #008080; text-decoration-color: #008080; font-weight: bold\">1</span>\n",
       "    <span style=\"font-weight: bold\">}</span>,\n",
       "    <span style=\"color: #008000; text-decoration-color: #008000\">'summary_statistics'</span>: <span style=\"font-weight: bold\">{</span>\n",
       "        <span style=\"color: #008000; text-decoration-color: #008000\">'numeric'</span>: <span style=\"font-weight: bold\">[</span>\n",
       "            <span style=\"font-weight: bold\">{</span>\n",
       "                <span style=\"color: #008000; text-decoration-color: #008000\">'column'</span>: <span style=\"color: #008000; text-decoration-color: #008000\">'season'</span>,\n",
       "                <span style=\"color: #008000; text-decoration-color: #008000\">'mean'</span>: <span style=\"color: #008080; text-decoration-color: #008080; font-weight: bold\">2.26</span>,\n",
       "                <span style=\"color: #008000; text-decoration-color: #008000\">'median'</span>: <span style=\"color: #008080; text-decoration-color: #008080; font-weight: bold\">2.0</span>,\n",
       "                <span style=\"color: #008000; text-decoration-color: #008000\">'mode'</span>: <span style=\"font-weight: bold\">[</span><span style=\"color: #008080; text-decoration-color: #008080; font-weight: bold\">2</span><span style=\"font-weight: bold\">]</span>,\n",
       "                <span style=\"color: #008000; text-decoration-color: #008000\">'std'</span>: <span style=\"color: #008080; text-decoration-color: #008080; font-weight: bold\">1.04</span>,\n",
       "                <span style=\"color: #008000; text-decoration-color: #008000\">'variance'</span>: <span style=\"color: #008080; text-decoration-color: #008080; font-weight: bold\">1.07</span>,\n",
       "                <span style=\"color: #008000; text-decoration-color: #008000\">'range'</span>: <span style=\"color: #008080; text-decoration-color: #008080; font-weight: bold\">3</span>,\n",
       "                <span style=\"color: #008000; text-decoration-color: #008000\">'min'</span>: <span style=\"color: #008080; text-decoration-color: #008080; font-weight: bold\">1</span>,\n",
       "                <span style=\"color: #008000; text-decoration-color: #008000\">'max'</span>: <span style=\"color: #008080; text-decoration-color: #008080; font-weight: bold\">4</span>,\n",
       "                <span style=\"color: #008000; text-decoration-color: #008000\">'count'</span>: <span style=\"color: #008080; text-decoration-color: #008080; font-weight: bold\">13903</span>,\n",
       "                <span style=\"color: #008000; text-decoration-color: #008000\">'missing_values'</span>: <span style=\"color: #008080; text-decoration-color: #008080; font-weight: bold\">0</span>,\n",
       "                <span style=\"color: #008000; text-decoration-color: #008000\">'missing_pct'</span>: <span style=\"color: #008080; text-decoration-color: #008080; font-weight: bold\">0.0</span>,\n",
       "                <span style=\"color: #008000; text-decoration-color: #008000\">'unique_values'</span>: <span style=\"color: #008080; text-decoration-color: #008080; font-weight: bold\">4</span>\n",
       "            <span style=\"font-weight: bold\">}</span>,\n",
       "            <span style=\"font-weight: bold\">{</span>\n",
       "                <span style=\"color: #008000; text-decoration-color: #008000\">'column'</span>: <span style=\"color: #008000; text-decoration-color: #008000\">'yr'</span>,\n",
       "                <span style=\"color: #008000; text-decoration-color: #008000\">'mean'</span>: <span style=\"color: #008080; text-decoration-color: #008080; font-weight: bold\">0.38</span>,\n",
       "                <span style=\"color: #008000; text-decoration-color: #008000\">'median'</span>: <span style=\"color: #008080; text-decoration-color: #008080; font-weight: bold\">0.0</span>,\n",
       "                <span style=\"color: #008000; text-decoration-color: #008000\">'mode'</span>: <span style=\"font-weight: bold\">[</span><span style=\"color: #008080; text-decoration-color: #008080; font-weight: bold\">0</span><span style=\"font-weight: bold\">]</span>,\n",
       "                <span style=\"color: #008000; text-decoration-color: #008000\">'std'</span>: <span style=\"color: #008080; text-decoration-color: #008080; font-weight: bold\">0.48</span>,\n",
       "                <span style=\"color: #008000; text-decoration-color: #008000\">'variance'</span>: <span style=\"color: #008080; text-decoration-color: #008080; font-weight: bold\">0.24</span>,\n",
       "                <span style=\"color: #008000; text-decoration-color: #008000\">'range'</span>: <span style=\"color: #008080; text-decoration-color: #008080; font-weight: bold\">1</span>,\n",
       "                <span style=\"color: #008000; text-decoration-color: #008000\">'min'</span>: <span style=\"color: #008080; text-decoration-color: #008080; font-weight: bold\">0</span>,\n",
       "                <span style=\"color: #008000; text-decoration-color: #008000\">'max'</span>: <span style=\"color: #008080; text-decoration-color: #008080; font-weight: bold\">1</span>,\n",
       "                <span style=\"color: #008000; text-decoration-color: #008000\">'count'</span>: <span style=\"color: #008080; text-decoration-color: #008080; font-weight: bold\">13903</span>,\n",
       "                <span style=\"color: #008000; text-decoration-color: #008000\">'missing_values'</span>: <span style=\"color: #008080; text-decoration-color: #008080; font-weight: bold\">0</span>,\n",
       "                <span style=\"color: #008000; text-decoration-color: #008000\">'missing_pct'</span>: <span style=\"color: #008080; text-decoration-color: #008080; font-weight: bold\">0.0</span>,\n",
       "                <span style=\"color: #008000; text-decoration-color: #008000\">'unique_values'</span>: <span style=\"color: #008080; text-decoration-color: #008080; font-weight: bold\">2</span>\n",
       "            <span style=\"font-weight: bold\">}</span>,\n",
       "            <span style=\"font-weight: bold\">{</span>\n",
       "                <span style=\"color: #008000; text-decoration-color: #008000\">'column'</span>: <span style=\"color: #008000; text-decoration-color: #008000\">'mnth'</span>,\n",
       "                <span style=\"color: #008000; text-decoration-color: #008000\">'mean'</span>: <span style=\"color: #008080; text-decoration-color: #008080; font-weight: bold\">5.65</span>,\n",
       "                <span style=\"color: #008000; text-decoration-color: #008000\">'median'</span>: <span style=\"color: #008080; text-decoration-color: #008080; font-weight: bold\">5.0</span>,\n",
       "                <span style=\"color: #008000; text-decoration-color: #008000\">'mode'</span>: <span style=\"font-weight: bold\">[</span><span style=\"color: #008080; text-decoration-color: #008080; font-weight: bold\">7</span>, <span style=\"color: #008080; text-decoration-color: #008080; font-weight: bold\">5</span><span style=\"font-weight: bold\">]</span>,\n",
       "                <span style=\"color: #008000; text-decoration-color: #008000\">'std'</span>: <span style=\"color: #008080; text-decoration-color: #008080; font-weight: bold\">3.22</span>,\n",
       "                <span style=\"color: #008000; text-decoration-color: #008000\">'variance'</span>: <span style=\"color: #008080; text-decoration-color: #008080; font-weight: bold\">10.36</span>,\n",
       "                <span style=\"color: #008000; text-decoration-color: #008000\">'range'</span>: <span style=\"color: #008080; text-decoration-color: #008080; font-weight: bold\">11</span>,\n",
       "                <span style=\"color: #008000; text-decoration-color: #008000\">'min'</span>: <span style=\"color: #008080; text-decoration-color: #008080; font-weight: bold\">1</span>,\n",
       "                <span style=\"color: #008000; text-decoration-color: #008000\">'max'</span>: <span style=\"color: #008080; text-decoration-color: #008080; font-weight: bold\">12</span>,\n",
       "                <span style=\"color: #008000; text-decoration-color: #008000\">'count'</span>: <span style=\"color: #008080; text-decoration-color: #008080; font-weight: bold\">13903</span>,\n",
       "                <span style=\"color: #008000; text-decoration-color: #008000\">'missing_values'</span>: <span style=\"color: #008080; text-decoration-color: #008080; font-weight: bold\">0</span>,\n",
       "                <span style=\"color: #008000; text-decoration-color: #008000\">'missing_pct'</span>: <span style=\"color: #008080; text-decoration-color: #008080; font-weight: bold\">0.0</span>,\n",
       "                <span style=\"color: #008000; text-decoration-color: #008000\">'unique_values'</span>: <span style=\"color: #008080; text-decoration-color: #008080; font-weight: bold\">12</span>\n",
       "            <span style=\"font-weight: bold\">}</span>,\n",
       "            <span style=\"font-weight: bold\">{</span>\n",
       "                <span style=\"color: #008000; text-decoration-color: #008000\">'column'</span>: <span style=\"color: #008000; text-decoration-color: #008000\">'hr'</span>,\n",
       "                <span style=\"color: #008000; text-decoration-color: #008000\">'mean'</span>: <span style=\"color: #008080; text-decoration-color: #008080; font-weight: bold\">11.55</span>,\n",
       "                <span style=\"color: #008000; text-decoration-color: #008000\">'median'</span>: <span style=\"color: #008080; text-decoration-color: #008080; font-weight: bold\">12.0</span>,\n",
       "                <span style=\"color: #008000; text-decoration-color: #008000\">'mode'</span>: <span style=\"font-weight: bold\">[</span><span style=\"color: #008080; text-decoration-color: #008080; font-weight: bold\">16</span>, <span style=\"color: #008080; text-decoration-color: #008080; font-weight: bold\">17</span><span style=\"font-weight: bold\">]</span>,\n",
       "                <span style=\"color: #008000; text-decoration-color: #008000\">'std'</span>: <span style=\"color: #008080; text-decoration-color: #008080; font-weight: bold\">6.91</span>,\n",
       "                <span style=\"color: #008000; text-decoration-color: #008000\">'variance'</span>: <span style=\"color: #008080; text-decoration-color: #008080; font-weight: bold\">47.78</span>,\n",
       "                <span style=\"color: #008000; text-decoration-color: #008000\">'range'</span>: <span style=\"color: #008080; text-decoration-color: #008080; font-weight: bold\">23</span>,\n",
       "                <span style=\"color: #008000; text-decoration-color: #008000\">'min'</span>: <span style=\"color: #008080; text-decoration-color: #008080; font-weight: bold\">0</span>,\n",
       "                <span style=\"color: #008000; text-decoration-color: #008000\">'max'</span>: <span style=\"color: #008080; text-decoration-color: #008080; font-weight: bold\">23</span>,\n",
       "                <span style=\"color: #008000; text-decoration-color: #008000\">'count'</span>: <span style=\"color: #008080; text-decoration-color: #008080; font-weight: bold\">13903</span>,\n",
       "                <span style=\"color: #008000; text-decoration-color: #008000\">'missing_values'</span>: <span style=\"color: #008080; text-decoration-color: #008080; font-weight: bold\">0</span>,\n",
       "                <span style=\"color: #008000; text-decoration-color: #008000\">'missing_pct'</span>: <span style=\"color: #008080; text-decoration-color: #008080; font-weight: bold\">0.0</span>,\n",
       "                <span style=\"color: #008000; text-decoration-color: #008000\">'unique_values'</span>: <span style=\"color: #008080; text-decoration-color: #008080; font-weight: bold\">24</span>\n",
       "            <span style=\"font-weight: bold\">}</span>,\n",
       "            <span style=\"font-weight: bold\">{</span>\n",
       "                <span style=\"color: #008000; text-decoration-color: #008000\">'column'</span>: <span style=\"color: #008000; text-decoration-color: #008000\">'holiday'</span>,\n",
       "                <span style=\"color: #008000; text-decoration-color: #008000\">'mean'</span>: <span style=\"color: #008080; text-decoration-color: #008080; font-weight: bold\">0.03</span>,\n",
       "                <span style=\"color: #008000; text-decoration-color: #008000\">'median'</span>: <span style=\"color: #008080; text-decoration-color: #008080; font-weight: bold\">0.0</span>,\n",
       "                <span style=\"color: #008000; text-decoration-color: #008000\">'mode'</span>: <span style=\"font-weight: bold\">[</span><span style=\"color: #008080; text-decoration-color: #008080; font-weight: bold\">0</span><span style=\"font-weight: bold\">]</span>,\n",
       "                <span style=\"color: #008000; text-decoration-color: #008000\">'std'</span>: <span style=\"color: #008080; text-decoration-color: #008080; font-weight: bold\">0.16</span>,\n",
       "                <span style=\"color: #008000; text-decoration-color: #008000\">'variance'</span>: <span style=\"color: #008080; text-decoration-color: #008080; font-weight: bold\">0.03</span>,\n",
       "                <span style=\"color: #008000; text-decoration-color: #008000\">'range'</span>: <span style=\"color: #008080; text-decoration-color: #008080; font-weight: bold\">1</span>,\n",
       "                <span style=\"color: #008000; text-decoration-color: #008000\">'min'</span>: <span style=\"color: #008080; text-decoration-color: #008080; font-weight: bold\">0</span>,\n",
       "                <span style=\"color: #008000; text-decoration-color: #008000\">'max'</span>: <span style=\"color: #008080; text-decoration-color: #008080; font-weight: bold\">1</span>,\n",
       "                <span style=\"color: #008000; text-decoration-color: #008000\">'count'</span>: <span style=\"color: #008080; text-decoration-color: #008080; font-weight: bold\">13903</span>,\n",
       "                <span style=\"color: #008000; text-decoration-color: #008000\">'missing_values'</span>: <span style=\"color: #008080; text-decoration-color: #008080; font-weight: bold\">0</span>,\n",
       "                <span style=\"color: #008000; text-decoration-color: #008000\">'missing_pct'</span>: <span style=\"color: #008080; text-decoration-color: #008080; font-weight: bold\">0.0</span>,\n",
       "                <span style=\"color: #008000; text-decoration-color: #008000\">'unique_values'</span>: <span style=\"color: #008080; text-decoration-color: #008080; font-weight: bold\">2</span>\n",
       "            <span style=\"font-weight: bold\">}</span>,\n",
       "            <span style=\"font-weight: bold\">{</span>\n",
       "                <span style=\"color: #008000; text-decoration-color: #008000\">'column'</span>: <span style=\"color: #008000; text-decoration-color: #008000\">'weekday'</span>,\n",
       "                <span style=\"color: #008000; text-decoration-color: #008000\">'mean'</span>: <span style=\"color: #008080; text-decoration-color: #008080; font-weight: bold\">3.0</span>,\n",
       "                <span style=\"color: #008000; text-decoration-color: #008000\">'median'</span>: <span style=\"color: #008080; text-decoration-color: #008080; font-weight: bold\">3.0</span>,\n",
       "                <span style=\"color: #008000; text-decoration-color: #008000\">'mode'</span>: <span style=\"font-weight: bold\">[</span><span style=\"color: #008080; text-decoration-color: #008080; font-weight: bold\">6</span><span style=\"font-weight: bold\">]</span>,\n",
       "                <span style=\"color: #008000; text-decoration-color: #008000\">'std'</span>: <span style=\"color: #008080; text-decoration-color: #008080; font-weight: bold\">2.01</span>,\n",
       "                <span style=\"color: #008000; text-decoration-color: #008000\">'variance'</span>: <span style=\"color: #008080; text-decoration-color: #008080; font-weight: bold\">4.02</span>,\n",
       "                <span style=\"color: #008000; text-decoration-color: #008000\">'range'</span>: <span style=\"color: #008080; text-decoration-color: #008080; font-weight: bold\">6</span>,\n",
       "                <span style=\"color: #008000; text-decoration-color: #008000\">'min'</span>: <span style=\"color: #008080; text-decoration-color: #008080; font-weight: bold\">0</span>,\n",
       "                <span style=\"color: #008000; text-decoration-color: #008000\">'max'</span>: <span style=\"color: #008080; text-decoration-color: #008080; font-weight: bold\">6</span>,\n",
       "                <span style=\"color: #008000; text-decoration-color: #008000\">'count'</span>: <span style=\"color: #008080; text-decoration-color: #008080; font-weight: bold\">13903</span>,\n",
       "                <span style=\"color: #008000; text-decoration-color: #008000\">'missing_values'</span>: <span style=\"color: #008080; text-decoration-color: #008080; font-weight: bold\">0</span>,\n",
       "                <span style=\"color: #008000; text-decoration-color: #008000\">'missing_pct'</span>: <span style=\"color: #008080; text-decoration-color: #008080; font-weight: bold\">0.0</span>,\n",
       "                <span style=\"color: #008000; text-decoration-color: #008000\">'unique_values'</span>: <span style=\"color: #008080; text-decoration-color: #008080; font-weight: bold\">7</span>\n",
       "            <span style=\"font-weight: bold\">}</span>,\n",
       "            <span style=\"font-weight: bold\">{</span>\n",
       "                <span style=\"color: #008000; text-decoration-color: #008000\">'column'</span>: <span style=\"color: #008000; text-decoration-color: #008000\">'workingday'</span>,\n",
       "                <span style=\"color: #008000; text-decoration-color: #008000\">'mean'</span>: <span style=\"color: #008080; text-decoration-color: #008080; font-weight: bold\">0.68</span>,\n",
       "                <span style=\"color: #008000; text-decoration-color: #008000\">'median'</span>: <span style=\"color: #008080; text-decoration-color: #008080; font-weight: bold\">1.0</span>,\n",
       "                <span style=\"color: #008000; text-decoration-color: #008000\">'mode'</span>: <span style=\"font-weight: bold\">[</span><span style=\"color: #008080; text-decoration-color: #008080; font-weight: bold\">1</span><span style=\"font-weight: bold\">]</span>,\n",
       "                <span style=\"color: #008000; text-decoration-color: #008000\">'std'</span>: <span style=\"color: #008080; text-decoration-color: #008080; font-weight: bold\">0.46</span>,\n",
       "                <span style=\"color: #008000; text-decoration-color: #008000\">'variance'</span>: <span style=\"color: #008080; text-decoration-color: #008080; font-weight: bold\">0.22</span>,\n",
       "                <span style=\"color: #008000; text-decoration-color: #008000\">'range'</span>: <span style=\"color: #008080; text-decoration-color: #008080; font-weight: bold\">1</span>,\n",
       "                <span style=\"color: #008000; text-decoration-color: #008000\">'min'</span>: <span style=\"color: #008080; text-decoration-color: #008080; font-weight: bold\">0</span>,\n",
       "                <span style=\"color: #008000; text-decoration-color: #008000\">'max'</span>: <span style=\"color: #008080; text-decoration-color: #008080; font-weight: bold\">1</span>,\n",
       "                <span style=\"color: #008000; text-decoration-color: #008000\">'count'</span>: <span style=\"color: #008080; text-decoration-color: #008080; font-weight: bold\">13903</span>,\n",
       "                <span style=\"color: #008000; text-decoration-color: #008000\">'missing_values'</span>: <span style=\"color: #008080; text-decoration-color: #008080; font-weight: bold\">0</span>,\n",
       "                <span style=\"color: #008000; text-decoration-color: #008000\">'missing_pct'</span>: <span style=\"color: #008080; text-decoration-color: #008080; font-weight: bold\">0.0</span>,\n",
       "                <span style=\"color: #008000; text-decoration-color: #008000\">'unique_values'</span>: <span style=\"color: #008080; text-decoration-color: #008080; font-weight: bold\">2</span>\n",
       "            <span style=\"font-weight: bold\">}</span>,\n",
       "            <span style=\"font-weight: bold\">{</span>\n",
       "                <span style=\"color: #008000; text-decoration-color: #008000\">'column'</span>: <span style=\"color: #008000; text-decoration-color: #008000\">'weathersit'</span>,\n",
       "                <span style=\"color: #008000; text-decoration-color: #008000\">'mean'</span>: <span style=\"color: #008080; text-decoration-color: #008080; font-weight: bold\">1.42</span>,\n",
       "                <span style=\"color: #008000; text-decoration-color: #008000\">'median'</span>: <span style=\"color: #008080; text-decoration-color: #008080; font-weight: bold\">1.0</span>,\n",
       "                <span style=\"color: #008000; text-decoration-color: #008000\">'mode'</span>: <span style=\"font-weight: bold\">[</span><span style=\"color: #008080; text-decoration-color: #008080; font-weight: bold\">1</span><span style=\"font-weight: bold\">]</span>,\n",
       "                <span style=\"color: #008000; text-decoration-color: #008000\">'std'</span>: <span style=\"color: #008080; text-decoration-color: #008080; font-weight: bold\">0.64</span>,\n",
       "                <span style=\"color: #008000; text-decoration-color: #008000\">'variance'</span>: <span style=\"color: #008080; text-decoration-color: #008080; font-weight: bold\">0.41</span>,\n",
       "                <span style=\"color: #008000; text-decoration-color: #008000\">'range'</span>: <span style=\"color: #008080; text-decoration-color: #008080; font-weight: bold\">3</span>,\n",
       "                <span style=\"color: #008000; text-decoration-color: #008000\">'min'</span>: <span style=\"color: #008080; text-decoration-color: #008080; font-weight: bold\">1</span>,\n",
       "                <span style=\"color: #008000; text-decoration-color: #008000\">'max'</span>: <span style=\"color: #008080; text-decoration-color: #008080; font-weight: bold\">4</span>,\n",
       "                <span style=\"color: #008000; text-decoration-color: #008000\">'count'</span>: <span style=\"color: #008080; text-decoration-color: #008080; font-weight: bold\">13903</span>,\n",
       "                <span style=\"color: #008000; text-decoration-color: #008000\">'missing_values'</span>: <span style=\"color: #008080; text-decoration-color: #008080; font-weight: bold\">0</span>,\n",
       "                <span style=\"color: #008000; text-decoration-color: #008000\">'missing_pct'</span>: <span style=\"color: #008080; text-decoration-color: #008080; font-weight: bold\">0.0</span>,\n",
       "                <span style=\"color: #008000; text-decoration-color: #008000\">'unique_values'</span>: <span style=\"color: #008080; text-decoration-color: #008080; font-weight: bold\">4</span>\n",
       "            <span style=\"font-weight: bold\">}</span>,\n",
       "            <span style=\"font-weight: bold\">{</span>\n",
       "                <span style=\"color: #008000; text-decoration-color: #008000\">'column'</span>: <span style=\"color: #008000; text-decoration-color: #008000\">'temp'</span>,\n",
       "                <span style=\"color: #008000; text-decoration-color: #008000\">'mean'</span>: <span style=\"color: #008080; text-decoration-color: #008080; font-weight: bold\">0.5</span>,\n",
       "                <span style=\"color: #008000; text-decoration-color: #008000\">'median'</span>: <span style=\"color: #008080; text-decoration-color: #008080; font-weight: bold\">0.5</span>,\n",
       "                <span style=\"color: #008000; text-decoration-color: #008000\">'mode'</span>: <span style=\"font-weight: bold\">[</span><span style=\"color: #008080; text-decoration-color: #008080; font-weight: bold\">0.62</span><span style=\"font-weight: bold\">]</span>,\n",
       "                <span style=\"color: #008000; text-decoration-color: #008000\">'std'</span>: <span style=\"color: #008080; text-decoration-color: #008080; font-weight: bold\">0.2</span>,\n",
       "                <span style=\"color: #008000; text-decoration-color: #008000\">'variance'</span>: <span style=\"color: #008080; text-decoration-color: #008080; font-weight: bold\">0.04</span>,\n",
       "                <span style=\"color: #008000; text-decoration-color: #008000\">'range'</span>: <span style=\"color: #008080; text-decoration-color: #008080; font-weight: bold\">0.98</span>,\n",
       "                <span style=\"color: #008000; text-decoration-color: #008000\">'min'</span>: <span style=\"color: #008080; text-decoration-color: #008080; font-weight: bold\">0.02</span>,\n",
       "                <span style=\"color: #008000; text-decoration-color: #008000\">'max'</span>: <span style=\"color: #008080; text-decoration-color: #008080; font-weight: bold\">1.0</span>,\n",
       "                <span style=\"color: #008000; text-decoration-color: #008000\">'count'</span>: <span style=\"color: #008080; text-decoration-color: #008080; font-weight: bold\">13903</span>,\n",
       "                <span style=\"color: #008000; text-decoration-color: #008000\">'missing_values'</span>: <span style=\"color: #008080; text-decoration-color: #008080; font-weight: bold\">0</span>,\n",
       "                <span style=\"color: #008000; text-decoration-color: #008000\">'missing_pct'</span>: <span style=\"color: #008080; text-decoration-color: #008080; font-weight: bold\">0.0</span>,\n",
       "                <span style=\"color: #008000; text-decoration-color: #008000\">'unique_values'</span>: <span style=\"color: #008080; text-decoration-color: #008080; font-weight: bold\">50</span>\n",
       "            <span style=\"font-weight: bold\">}</span>,\n",
       "            <span style=\"font-weight: bold\">{</span>\n",
       "                <span style=\"color: #008000; text-decoration-color: #008000\">'column'</span>: <span style=\"color: #008000; text-decoration-color: #008000\">'atemp'</span>,\n",
       "                <span style=\"color: #008000; text-decoration-color: #008000\">'mean'</span>: <span style=\"color: #008080; text-decoration-color: #008080; font-weight: bold\">0.48</span>,\n",
       "                <span style=\"color: #008000; text-decoration-color: #008000\">'median'</span>: <span style=\"color: #008080; text-decoration-color: #008080; font-weight: bold\">0.48</span>,\n",
       "                <span style=\"color: #008000; text-decoration-color: #008000\">'mode'</span>: <span style=\"font-weight: bold\">[</span><span style=\"color: #008080; text-decoration-color: #008080; font-weight: bold\">0.6212</span><span style=\"font-weight: bold\">]</span>,\n",
       "                <span style=\"color: #008000; text-decoration-color: #008000\">'std'</span>: <span style=\"color: #008080; text-decoration-color: #008080; font-weight: bold\">0.18</span>,\n",
       "                <span style=\"color: #008000; text-decoration-color: #008000\">'variance'</span>: <span style=\"color: #008080; text-decoration-color: #008080; font-weight: bold\">0.03</span>,\n",
       "                <span style=\"color: #008000; text-decoration-color: #008000\">'range'</span>: <span style=\"color: #008080; text-decoration-color: #008080; font-weight: bold\">1.0</span>,\n",
       "                <span style=\"color: #008000; text-decoration-color: #008000\">'min'</span>: <span style=\"color: #008080; text-decoration-color: #008080; font-weight: bold\">0.0</span>,\n",
       "                <span style=\"color: #008000; text-decoration-color: #008000\">'max'</span>: <span style=\"color: #008080; text-decoration-color: #008080; font-weight: bold\">1.0</span>,\n",
       "                <span style=\"color: #008000; text-decoration-color: #008000\">'count'</span>: <span style=\"color: #008080; text-decoration-color: #008080; font-weight: bold\">13903</span>,\n",
       "                <span style=\"color: #008000; text-decoration-color: #008000\">'missing_values'</span>: <span style=\"color: #008080; text-decoration-color: #008080; font-weight: bold\">0</span>,\n",
       "                <span style=\"color: #008000; text-decoration-color: #008000\">'missing_pct'</span>: <span style=\"color: #008080; text-decoration-color: #008080; font-weight: bold\">0.0</span>,\n",
       "                <span style=\"color: #008000; text-decoration-color: #008000\">'unique_values'</span>: <span style=\"color: #008080; text-decoration-color: #008080; font-weight: bold\">65</span>\n",
       "            <span style=\"font-weight: bold\">}</span>,\n",
       "            <span style=\"font-weight: bold\">{</span>\n",
       "                <span style=\"color: #008000; text-decoration-color: #008000\">'column'</span>: <span style=\"color: #008000; text-decoration-color: #008000\">'hum'</span>,\n",
       "                <span style=\"color: #008000; text-decoration-color: #008000\">'mean'</span>: <span style=\"color: #008080; text-decoration-color: #008080; font-weight: bold\">0.62</span>,\n",
       "                <span style=\"color: #008000; text-decoration-color: #008000\">'median'</span>: <span style=\"color: #008080; text-decoration-color: #008080; font-weight: bold\">0.62</span>,\n",
       "                <span style=\"color: #008000; text-decoration-color: #008000\">'mode'</span>: <span style=\"font-weight: bold\">[</span><span style=\"color: #008080; text-decoration-color: #008080; font-weight: bold\">0.88</span><span style=\"font-weight: bold\">]</span>,\n",
       "                <span style=\"color: #008000; text-decoration-color: #008000\">'std'</span>: <span style=\"color: #008080; text-decoration-color: #008080; font-weight: bold\">0.2</span>,\n",
       "                <span style=\"color: #008000; text-decoration-color: #008000\">'variance'</span>: <span style=\"color: #008080; text-decoration-color: #008080; font-weight: bold\">0.04</span>,\n",
       "                <span style=\"color: #008000; text-decoration-color: #008000\">'range'</span>: <span style=\"color: #008080; text-decoration-color: #008080; font-weight: bold\">1.0</span>,\n",
       "                <span style=\"color: #008000; text-decoration-color: #008000\">'min'</span>: <span style=\"color: #008080; text-decoration-color: #008080; font-weight: bold\">0.0</span>,\n",
       "                <span style=\"color: #008000; text-decoration-color: #008000\">'max'</span>: <span style=\"color: #008080; text-decoration-color: #008080; font-weight: bold\">1.0</span>,\n",
       "                <span style=\"color: #008000; text-decoration-color: #008000\">'count'</span>: <span style=\"color: #008080; text-decoration-color: #008080; font-weight: bold\">13903</span>,\n",
       "                <span style=\"color: #008000; text-decoration-color: #008000\">'missing_values'</span>: <span style=\"color: #008080; text-decoration-color: #008080; font-weight: bold\">0</span>,\n",
       "                <span style=\"color: #008000; text-decoration-color: #008000\">'missing_pct'</span>: <span style=\"color: #008080; text-decoration-color: #008080; font-weight: bold\">0.0</span>,\n",
       "                <span style=\"color: #008000; text-decoration-color: #008000\">'unique_values'</span>: <span style=\"color: #008080; text-decoration-color: #008080; font-weight: bold\">88</span>\n",
       "            <span style=\"font-weight: bold\">}</span>,\n",
       "            <span style=\"font-weight: bold\">{</span>\n",
       "                <span style=\"color: #008000; text-decoration-color: #008000\">'column'</span>: <span style=\"color: #008000; text-decoration-color: #008000\">'windspeed'</span>,\n",
       "                <span style=\"color: #008000; text-decoration-color: #008000\">'mean'</span>: <span style=\"color: #008080; text-decoration-color: #008080; font-weight: bold\">0.19</span>,\n",
       "                <span style=\"color: #008000; text-decoration-color: #008000\">'median'</span>: <span style=\"color: #008080; text-decoration-color: #008080; font-weight: bold\">0.19</span>,\n",
       "                <span style=\"color: #008000; text-decoration-color: #008000\">'mode'</span>: <span style=\"font-weight: bold\">[</span><span style=\"color: #008080; text-decoration-color: #008080; font-weight: bold\">0.0</span><span style=\"font-weight: bold\">]</span>,\n",
       "                <span style=\"color: #008000; text-decoration-color: #008000\">'std'</span>: <span style=\"color: #008080; text-decoration-color: #008080; font-weight: bold\">0.12</span>,\n",
       "                <span style=\"color: #008000; text-decoration-color: #008000\">'variance'</span>: <span style=\"color: #008080; text-decoration-color: #008080; font-weight: bold\">0.02</span>,\n",
       "                <span style=\"color: #008000; text-decoration-color: #008000\">'range'</span>: <span style=\"color: #008080; text-decoration-color: #008080; font-weight: bold\">0.85</span>,\n",
       "                <span style=\"color: #008000; text-decoration-color: #008000\">'min'</span>: <span style=\"color: #008080; text-decoration-color: #008080; font-weight: bold\">0.0</span>,\n",
       "                <span style=\"color: #008000; text-decoration-color: #008000\">'max'</span>: <span style=\"color: #008080; text-decoration-color: #008080; font-weight: bold\">0.8507</span>,\n",
       "                <span style=\"color: #008000; text-decoration-color: #008000\">'count'</span>: <span style=\"color: #008080; text-decoration-color: #008080; font-weight: bold\">13903</span>,\n",
       "                <span style=\"color: #008000; text-decoration-color: #008000\">'missing_values'</span>: <span style=\"color: #008080; text-decoration-color: #008080; font-weight: bold\">0</span>,\n",
       "                <span style=\"color: #008000; text-decoration-color: #008000\">'missing_pct'</span>: <span style=\"color: #008080; text-decoration-color: #008080; font-weight: bold\">0.0</span>,\n",
       "                <span style=\"color: #008000; text-decoration-color: #008000\">'unique_values'</span>: <span style=\"color: #008080; text-decoration-color: #008080; font-weight: bold\">30</span>\n",
       "            <span style=\"font-weight: bold\">}</span>,\n",
       "            <span style=\"font-weight: bold\">{</span>\n",
       "                <span style=\"color: #008000; text-decoration-color: #008000\">'column'</span>: <span style=\"color: #008000; text-decoration-color: #008000\">'casual'</span>,\n",
       "                <span style=\"color: #008000; text-decoration-color: #008000\">'mean'</span>: <span style=\"color: #008080; text-decoration-color: #008080; font-weight: bold\">34.04</span>,\n",
       "                <span style=\"color: #008000; text-decoration-color: #008000\">'median'</span>: <span style=\"color: #008080; text-decoration-color: #008080; font-weight: bold\">15.0</span>,\n",
       "                <span style=\"color: #008000; text-decoration-color: #008000\">'mode'</span>: <span style=\"font-weight: bold\">[</span><span style=\"color: #008080; text-decoration-color: #008080; font-weight: bold\">0</span><span style=\"font-weight: bold\">]</span>,\n",
       "                <span style=\"color: #008000; text-decoration-color: #008000\">'std'</span>: <span style=\"color: #008080; text-decoration-color: #008080; font-weight: bold\">47.34</span>,\n",
       "                <span style=\"color: #008000; text-decoration-color: #008000\">'variance'</span>: <span style=\"color: #008080; text-decoration-color: #008080; font-weight: bold\">2241.19</span>,\n",
       "                <span style=\"color: #008000; text-decoration-color: #008000\">'range'</span>: <span style=\"color: #008080; text-decoration-color: #008080; font-weight: bold\">367</span>,\n",
       "                <span style=\"color: #008000; text-decoration-color: #008000\">'min'</span>: <span style=\"color: #008080; text-decoration-color: #008080; font-weight: bold\">0</span>,\n",
       "                <span style=\"color: #008000; text-decoration-color: #008000\">'max'</span>: <span style=\"color: #008080; text-decoration-color: #008080; font-weight: bold\">367</span>,\n",
       "                <span style=\"color: #008000; text-decoration-color: #008000\">'count'</span>: <span style=\"color: #008080; text-decoration-color: #008080; font-weight: bold\">13903</span>,\n",
       "                <span style=\"color: #008000; text-decoration-color: #008000\">'missing_values'</span>: <span style=\"color: #008080; text-decoration-color: #008080; font-weight: bold\">0</span>,\n",
       "                <span style=\"color: #008000; text-decoration-color: #008000\">'missing_pct'</span>: <span style=\"color: #008080; text-decoration-color: #008080; font-weight: bold\">0.0</span>,\n",
       "                <span style=\"color: #008000; text-decoration-color: #008000\">'unique_values'</span>: <span style=\"color: #008080; text-decoration-color: #008080; font-weight: bold\">303</span>\n",
       "            <span style=\"font-weight: bold\">}</span>,\n",
       "            <span style=\"font-weight: bold\">{</span>\n",
       "                <span style=\"color: #008000; text-decoration-color: #008000\">'column'</span>: <span style=\"color: #008000; text-decoration-color: #008000\">'registered'</span>,\n",
       "                <span style=\"color: #008000; text-decoration-color: #008000\">'mean'</span>: <span style=\"color: #008080; text-decoration-color: #008080; font-weight: bold\">140.6</span>,\n",
       "                <span style=\"color: #008000; text-decoration-color: #008000\">'median'</span>: <span style=\"color: #008080; text-decoration-color: #008080; font-weight: bold\">107.0</span>,\n",
       "                <span style=\"color: #008000; text-decoration-color: #008000\">'mode'</span>: <span style=\"font-weight: bold\">[</span><span style=\"color: #008080; text-decoration-color: #008080; font-weight: bold\">4</span><span style=\"font-weight: bold\">]</span>,\n",
       "                <span style=\"color: #008000; text-decoration-color: #008000\">'std'</span>: <span style=\"color: #008080; text-decoration-color: #008080; font-weight: bold\">137.51</span>,\n",
       "                <span style=\"color: #008000; text-decoration-color: #008000\">'variance'</span>: <span style=\"color: #008080; text-decoration-color: #008080; font-weight: bold\">18909.65</span>,\n",
       "                <span style=\"color: #008000; text-decoration-color: #008000\">'range'</span>: <span style=\"color: #008080; text-decoration-color: #008080; font-weight: bold\">796</span>,\n",
       "                <span style=\"color: #008000; text-decoration-color: #008000\">'min'</span>: <span style=\"color: #008080; text-decoration-color: #008080; font-weight: bold\">0</span>,\n",
       "                <span style=\"color: #008000; text-decoration-color: #008000\">'max'</span>: <span style=\"color: #008080; text-decoration-color: #008080; font-weight: bold\">796</span>,\n",
       "                <span style=\"color: #008000; text-decoration-color: #008000\">'count'</span>: <span style=\"color: #008080; text-decoration-color: #008080; font-weight: bold\">13903</span>,\n",
       "                <span style=\"color: #008000; text-decoration-color: #008000\">'missing_values'</span>: <span style=\"color: #008080; text-decoration-color: #008080; font-weight: bold\">0</span>,\n",
       "                <span style=\"color: #008000; text-decoration-color: #008000\">'missing_pct'</span>: <span style=\"color: #008080; text-decoration-color: #008080; font-weight: bold\">0.0</span>,\n",
       "                <span style=\"color: #008000; text-decoration-color: #008000\">'unique_values'</span>: <span style=\"color: #008080; text-decoration-color: #008080; font-weight: bold\">701</span>\n",
       "            <span style=\"font-weight: bold\">}</span>,\n",
       "            <span style=\"font-weight: bold\">{</span>\n",
       "                <span style=\"color: #008000; text-decoration-color: #008000\">'column'</span>: <span style=\"color: #008000; text-decoration-color: #008000\">'cnt'</span>,\n",
       "                <span style=\"color: #008000; text-decoration-color: #008000\">'mean'</span>: <span style=\"color: #008080; text-decoration-color: #008080; font-weight: bold\">174.64</span>,\n",
       "                <span style=\"color: #008000; text-decoration-color: #008000\">'median'</span>: <span style=\"color: #008080; text-decoration-color: #008080; font-weight: bold\">130.0</span>,\n",
       "                <span style=\"color: #008000; text-decoration-color: #008000\">'mode'</span>: <span style=\"font-weight: bold\">[</span><span style=\"color: #008080; text-decoration-color: #008080; font-weight: bold\">5</span><span style=\"font-weight: bold\">]</span>,\n",
       "                <span style=\"color: #008000; text-decoration-color: #008000\">'std'</span>: <span style=\"color: #008080; text-decoration-color: #008080; font-weight: bold\">166.96</span>,\n",
       "                <span style=\"color: #008000; text-decoration-color: #008000\">'variance'</span>: <span style=\"color: #008080; text-decoration-color: #008080; font-weight: bold\">27874.11</span>,\n",
       "                <span style=\"color: #008000; text-decoration-color: #008000\">'range'</span>: <span style=\"color: #008080; text-decoration-color: #008080; font-weight: bold\">956</span>,\n",
       "                <span style=\"color: #008000; text-decoration-color: #008000\">'min'</span>: <span style=\"color: #008080; text-decoration-color: #008080; font-weight: bold\">1</span>,\n",
       "                <span style=\"color: #008000; text-decoration-color: #008000\">'max'</span>: <span style=\"color: #008080; text-decoration-color: #008080; font-weight: bold\">957</span>,\n",
       "                <span style=\"color: #008000; text-decoration-color: #008000\">'count'</span>: <span style=\"color: #008080; text-decoration-color: #008080; font-weight: bold\">13903</span>,\n",
       "                <span style=\"color: #008000; text-decoration-color: #008000\">'missing_values'</span>: <span style=\"color: #008080; text-decoration-color: #008080; font-weight: bold\">0</span>,\n",
       "                <span style=\"color: #008000; text-decoration-color: #008000\">'missing_pct'</span>: <span style=\"color: #008080; text-decoration-color: #008080; font-weight: bold\">0.0</span>,\n",
       "                <span style=\"color: #008000; text-decoration-color: #008000\">'unique_values'</span>: <span style=\"color: #008080; text-decoration-color: #008080; font-weight: bold\">789</span>\n",
       "            <span style=\"font-weight: bold\">}</span>\n",
       "        <span style=\"font-weight: bold\">]</span>,\n",
       "        <span style=\"color: #008000; text-decoration-color: #008000\">'categorical'</span>: <span style=\"font-weight: bold\">[</span>\n",
       "            <span style=\"font-weight: bold\">{</span>\n",
       "                <span style=\"color: #008000; text-decoration-color: #008000\">'column'</span>: <span style=\"color: #008000; text-decoration-color: #008000\">'datetime'</span>,\n",
       "                <span style=\"color: #008000; text-decoration-color: #008000\">'total_count'</span>: <span style=\"color: #008080; text-decoration-color: #008080; font-weight: bold\">13903</span>,\n",
       "                <span style=\"color: #008000; text-decoration-color: #008000\">'unique_values'</span>: <span style=\"color: #008080; text-decoration-color: #008080; font-weight: bold\">13903</span>,\n",
       "                <span style=\"color: #008000; text-decoration-color: #008000\">'value_counts'</span>: <span style=\"font-weight: bold\">[</span>\n",
       "                    <span style=\"font-weight: bold\">[</span><span style=\"color: #008000; text-decoration-color: #008000\">'2011-01-01 00:00:00'</span>, <span style=\"color: #008080; text-decoration-color: #008080; font-weight: bold\">1</span><span style=\"font-weight: bold\">]</span>,\n",
       "                    <span style=\"font-weight: bold\">[</span><span style=\"color: #008000; text-decoration-color: #008000\">'2011-01-01 01:00:00'</span>, <span style=\"color: #008080; text-decoration-color: #008080; font-weight: bold\">1</span><span style=\"font-weight: bold\">]</span>,\n",
       "                    <span style=\"font-weight: bold\">[</span><span style=\"color: #008000; text-decoration-color: #008000\">'2011-01-01 02:00:00'</span>, <span style=\"color: #008080; text-decoration-color: #008080; font-weight: bold\">1</span><span style=\"font-weight: bold\">]</span>,\n",
       "                    <span style=\"font-weight: bold\">[</span><span style=\"color: #008000; text-decoration-color: #008000\">'2011-01-01 03:00:00'</span>, <span style=\"color: #008080; text-decoration-color: #008080; font-weight: bold\">1</span><span style=\"font-weight: bold\">]</span>,\n",
       "                    <span style=\"font-weight: bold\">[</span><span style=\"color: #008000; text-decoration-color: #008000\">'2011-01-01 04:00:00'</span>, <span style=\"color: #008080; text-decoration-color: #008080; font-weight: bold\">1</span><span style=\"font-weight: bold\">]</span>,\n",
       "                    <span style=\"font-weight: bold\">[</span><span style=\"color: #008000; text-decoration-color: #008000\">'2011-01-01 05:00:00'</span>, <span style=\"color: #008080; text-decoration-color: #008080; font-weight: bold\">1</span><span style=\"font-weight: bold\">]</span>,\n",
       "                    <span style=\"font-weight: bold\">[</span><span style=\"color: #008000; text-decoration-color: #008000\">'2011-01-01 06:00:00'</span>, <span style=\"color: #008080; text-decoration-color: #008080; font-weight: bold\">1</span><span style=\"font-weight: bold\">]</span>,\n",
       "                    <span style=\"font-weight: bold\">[</span><span style=\"color: #008000; text-decoration-color: #008000\">'2011-01-01 07:00:00'</span>, <span style=\"color: #008080; text-decoration-color: #008080; font-weight: bold\">1</span><span style=\"font-weight: bold\">]</span>,\n",
       "                    <span style=\"font-weight: bold\">[</span><span style=\"color: #008000; text-decoration-color: #008000\">'2011-01-01 08:00:00'</span>, <span style=\"color: #008080; text-decoration-color: #008080; font-weight: bold\">1</span><span style=\"font-weight: bold\">]</span>,\n",
       "                    <span style=\"font-weight: bold\">[</span><span style=\"color: #008000; text-decoration-color: #008000\">'2011-01-01 09:00:00'</span>, <span style=\"color: #008080; text-decoration-color: #008080; font-weight: bold\">1</span><span style=\"font-weight: bold\">]</span>\n",
       "                <span style=\"font-weight: bold\">]</span>,\n",
       "                <span style=\"color: #008000; text-decoration-color: #008000\">'missing_values'</span>: <span style=\"color: #008080; text-decoration-color: #008080; font-weight: bold\">0</span>,\n",
       "                <span style=\"color: #008000; text-decoration-color: #008000\">'missing_pct'</span>: <span style=\"color: #008080; text-decoration-color: #008080; font-weight: bold\">0.0</span>\n",
       "            <span style=\"font-weight: bold\">}</span>\n",
       "        <span style=\"font-weight: bold\">]</span>\n",
       "    <span style=\"font-weight: bold\">}</span>,\n",
       "    <span style=\"color: #008000; text-decoration-color: #008000\">'other_info'</span>: <span style=\"font-weight: bold\">{</span>\n",
       "        <span style=\"color: #008000; text-decoration-color: #008000\">'num_unique_numeric_rows'</span>: <span style=\"font-weight: bold\">{</span>\n",
       "            <span style=\"color: #008000; text-decoration-color: #008000\">'season'</span>: <span style=\"color: #008080; text-decoration-color: #008080; font-weight: bold\">4</span>,\n",
       "            <span style=\"color: #008000; text-decoration-color: #008000\">'yr'</span>: <span style=\"color: #008080; text-decoration-color: #008080; font-weight: bold\">2</span>,\n",
       "            <span style=\"color: #008000; text-decoration-color: #008000\">'mnth'</span>: <span style=\"color: #008080; text-decoration-color: #008080; font-weight: bold\">12</span>,\n",
       "            <span style=\"color: #008000; text-decoration-color: #008000\">'hr'</span>: <span style=\"color: #008080; text-decoration-color: #008080; font-weight: bold\">24</span>,\n",
       "            <span style=\"color: #008000; text-decoration-color: #008000\">'holiday'</span>: <span style=\"color: #008080; text-decoration-color: #008080; font-weight: bold\">2</span>,\n",
       "            <span style=\"color: #008000; text-decoration-color: #008000\">'weekday'</span>: <span style=\"color: #008080; text-decoration-color: #008080; font-weight: bold\">7</span>,\n",
       "            <span style=\"color: #008000; text-decoration-color: #008000\">'workingday'</span>: <span style=\"color: #008080; text-decoration-color: #008080; font-weight: bold\">2</span>,\n",
       "            <span style=\"color: #008000; text-decoration-color: #008000\">'weathersit'</span>: <span style=\"color: #008080; text-decoration-color: #008080; font-weight: bold\">4</span>,\n",
       "            <span style=\"color: #008000; text-decoration-color: #008000\">'temp'</span>: <span style=\"color: #008080; text-decoration-color: #008080; font-weight: bold\">50</span>,\n",
       "            <span style=\"color: #008000; text-decoration-color: #008000\">'atemp'</span>: <span style=\"color: #008080; text-decoration-color: #008080; font-weight: bold\">65</span>,\n",
       "            <span style=\"color: #008000; text-decoration-color: #008000\">'hum'</span>: <span style=\"color: #008080; text-decoration-color: #008080; font-weight: bold\">88</span>,\n",
       "            <span style=\"color: #008000; text-decoration-color: #008000\">'windspeed'</span>: <span style=\"color: #008080; text-decoration-color: #008080; font-weight: bold\">30</span>,\n",
       "            <span style=\"color: #008000; text-decoration-color: #008000\">'casual'</span>: <span style=\"color: #008080; text-decoration-color: #008080; font-weight: bold\">303</span>,\n",
       "            <span style=\"color: #008000; text-decoration-color: #008000\">'registered'</span>: <span style=\"color: #008080; text-decoration-color: #008080; font-weight: bold\">701</span>,\n",
       "            <span style=\"color: #008000; text-decoration-color: #008000\">'cnt'</span>: <span style=\"color: #008080; text-decoration-color: #008080; font-weight: bold\">789</span>\n",
       "        <span style=\"font-weight: bold\">}</span>,\n",
       "        <span style=\"color: #008000; text-decoration-color: #008000\">'num_unique_string_rows'</span>: <span style=\"font-weight: bold\">{</span><span style=\"color: #008000; text-decoration-color: #008000\">'datetime'</span>: <span style=\"color: #008080; text-decoration-color: #008080; font-weight: bold\">13903</span><span style=\"font-weight: bold\">}</span>,\n",
       "        <span style=\"color: #008000; text-decoration-color: #008000\">'data_nulls'</span>: <span style=\"font-weight: bold\">{</span>\n",
       "            <span style=\"color: #008000; text-decoration-color: #008000\">'datetime'</span>: <span style=\"color: #008080; text-decoration-color: #008080; font-weight: bold\">0</span>,\n",
       "            <span style=\"color: #008000; text-decoration-color: #008000\">'season'</span>: <span style=\"color: #008080; text-decoration-color: #008080; font-weight: bold\">0</span>,\n",
       "            <span style=\"color: #008000; text-decoration-color: #008000\">'yr'</span>: <span style=\"color: #008080; text-decoration-color: #008080; font-weight: bold\">0</span>,\n",
       "            <span style=\"color: #008000; text-decoration-color: #008000\">'mnth'</span>: <span style=\"color: #008080; text-decoration-color: #008080; font-weight: bold\">0</span>,\n",
       "            <span style=\"color: #008000; text-decoration-color: #008000\">'hr'</span>: <span style=\"color: #008080; text-decoration-color: #008080; font-weight: bold\">0</span>,\n",
       "            <span style=\"color: #008000; text-decoration-color: #008000\">'holiday'</span>: <span style=\"color: #008080; text-decoration-color: #008080; font-weight: bold\">0</span>,\n",
       "            <span style=\"color: #008000; text-decoration-color: #008000\">'weekday'</span>: <span style=\"color: #008080; text-decoration-color: #008080; font-weight: bold\">0</span>,\n",
       "            <span style=\"color: #008000; text-decoration-color: #008000\">'workingday'</span>: <span style=\"color: #008080; text-decoration-color: #008080; font-weight: bold\">0</span>,\n",
       "            <span style=\"color: #008000; text-decoration-color: #008000\">'weathersit'</span>: <span style=\"color: #008080; text-decoration-color: #008080; font-weight: bold\">0</span>,\n",
       "            <span style=\"color: #008000; text-decoration-color: #008000\">'temp'</span>: <span style=\"color: #008080; text-decoration-color: #008080; font-weight: bold\">0</span>,\n",
       "            <span style=\"color: #008000; text-decoration-color: #008000\">'atemp'</span>: <span style=\"color: #008080; text-decoration-color: #008080; font-weight: bold\">0</span>,\n",
       "            <span style=\"color: #008000; text-decoration-color: #008000\">'hum'</span>: <span style=\"color: #008080; text-decoration-color: #008080; font-weight: bold\">0</span>,\n",
       "            <span style=\"color: #008000; text-decoration-color: #008000\">'windspeed'</span>: <span style=\"color: #008080; text-decoration-color: #008080; font-weight: bold\">0</span>,\n",
       "            <span style=\"color: #008000; text-decoration-color: #008000\">'casual'</span>: <span style=\"color: #008080; text-decoration-color: #008080; font-weight: bold\">0</span>,\n",
       "            <span style=\"color: #008000; text-decoration-color: #008000\">'registered'</span>: <span style=\"color: #008080; text-decoration-color: #008080; font-weight: bold\">0</span>,\n",
       "            <span style=\"color: #008000; text-decoration-color: #008000\">'cnt'</span>: <span style=\"color: #008080; text-decoration-color: #008080; font-weight: bold\">0</span>\n",
       "        <span style=\"font-weight: bold\">}</span>,\n",
       "        <span style=\"color: #008000; text-decoration-color: #008000\">'total_nulls'</span>: <span style=\"color: #008080; text-decoration-color: #008080; font-weight: bold\">0</span>,\n",
       "        <span style=\"color: #008000; text-decoration-color: #008000\">'num_duplicated_rows'</span>: <span style=\"color: #008080; text-decoration-color: #008080; font-weight: bold\">0</span>,\n",
       "        <span style=\"color: #008000; text-decoration-color: #008000\">'memory_usage_MB'</span>: <span style=\"color: #008080; text-decoration-color: #008080; font-weight: bold\">1.84</span>,\n",
       "        <span style=\"color: #008000; text-decoration-color: #008000\">'validation_timestamp'</span>: <span style=\"color: #008000; text-decoration-color: #008000\">'2025-09-28T19:36:59+01:00'</span>\n",
       "    <span style=\"font-weight: bold\">}</span>\n",
       "<span style=\"font-weight: bold\">}</span>\n",
       "</pre>\n"
      ],
      "text/plain": [
       "\u001b[1m{\u001b[0m\n",
       "    \u001b[32m'data_schema'\u001b[0m: \u001b[1m{\u001b[0m\n",
       "        \u001b[32m'numeric'\u001b[0m: \u001b[1m{\u001b[0m\n",
       "            \u001b[32m'season'\u001b[0m: \u001b[32m'Int64'\u001b[0m,\n",
       "            \u001b[32m'yr'\u001b[0m: \u001b[32m'Int64'\u001b[0m,\n",
       "            \u001b[32m'mnth'\u001b[0m: \u001b[32m'Int64'\u001b[0m,\n",
       "            \u001b[32m'hr'\u001b[0m: \u001b[32m'Int64'\u001b[0m,\n",
       "            \u001b[32m'holiday'\u001b[0m: \u001b[32m'Int64'\u001b[0m,\n",
       "            \u001b[32m'weekday'\u001b[0m: \u001b[32m'Int64'\u001b[0m,\n",
       "            \u001b[32m'workingday'\u001b[0m: \u001b[32m'Int64'\u001b[0m,\n",
       "            \u001b[32m'weathersit'\u001b[0m: \u001b[32m'Int64'\u001b[0m,\n",
       "            \u001b[32m'temp'\u001b[0m: \u001b[32m'Float64'\u001b[0m,\n",
       "            \u001b[32m'atemp'\u001b[0m: \u001b[32m'Float64'\u001b[0m,\n",
       "            \u001b[32m'hum'\u001b[0m: \u001b[32m'Float64'\u001b[0m,\n",
       "            \u001b[32m'windspeed'\u001b[0m: \u001b[32m'Float64'\u001b[0m,\n",
       "            \u001b[32m'casual'\u001b[0m: \u001b[32m'Int64'\u001b[0m,\n",
       "            \u001b[32m'registered'\u001b[0m: \u001b[32m'Int64'\u001b[0m,\n",
       "            \u001b[32m'cnt'\u001b[0m: \u001b[32m'Int64'\u001b[0m\n",
       "        \u001b[1m}\u001b[0m,\n",
       "        \u001b[32m'string'\u001b[0m: \u001b[1m{\u001b[0m\u001b[32m'datetime'\u001b[0m: \u001b[32m'String'\u001b[0m\u001b[1m}\u001b[0m\n",
       "    \u001b[1m}\u001b[0m,\n",
       "    \u001b[32m'data_shape'\u001b[0m: \u001b[1m{\u001b[0m\n",
       "        \u001b[32m'total_rows'\u001b[0m: \u001b[1;36m13903\u001b[0m,\n",
       "        \u001b[32m'total_columns'\u001b[0m: \u001b[1;36m16\u001b[0m,\n",
       "        \u001b[32m'number_of_numeric_columns'\u001b[0m: \u001b[1;36m15\u001b[0m,\n",
       "        \u001b[32m'number_of_string_columns'\u001b[0m: \u001b[1;36m1\u001b[0m\n",
       "    \u001b[1m}\u001b[0m,\n",
       "    \u001b[32m'summary_statistics'\u001b[0m: \u001b[1m{\u001b[0m\n",
       "        \u001b[32m'numeric'\u001b[0m: \u001b[1m[\u001b[0m\n",
       "            \u001b[1m{\u001b[0m\n",
       "                \u001b[32m'column'\u001b[0m: \u001b[32m'season'\u001b[0m,\n",
       "                \u001b[32m'mean'\u001b[0m: \u001b[1;36m2.26\u001b[0m,\n",
       "                \u001b[32m'median'\u001b[0m: \u001b[1;36m2.0\u001b[0m,\n",
       "                \u001b[32m'mode'\u001b[0m: \u001b[1m[\u001b[0m\u001b[1;36m2\u001b[0m\u001b[1m]\u001b[0m,\n",
       "                \u001b[32m'std'\u001b[0m: \u001b[1;36m1.04\u001b[0m,\n",
       "                \u001b[32m'variance'\u001b[0m: \u001b[1;36m1.07\u001b[0m,\n",
       "                \u001b[32m'range'\u001b[0m: \u001b[1;36m3\u001b[0m,\n",
       "                \u001b[32m'min'\u001b[0m: \u001b[1;36m1\u001b[0m,\n",
       "                \u001b[32m'max'\u001b[0m: \u001b[1;36m4\u001b[0m,\n",
       "                \u001b[32m'count'\u001b[0m: \u001b[1;36m13903\u001b[0m,\n",
       "                \u001b[32m'missing_values'\u001b[0m: \u001b[1;36m0\u001b[0m,\n",
       "                \u001b[32m'missing_pct'\u001b[0m: \u001b[1;36m0.0\u001b[0m,\n",
       "                \u001b[32m'unique_values'\u001b[0m: \u001b[1;36m4\u001b[0m\n",
       "            \u001b[1m}\u001b[0m,\n",
       "            \u001b[1m{\u001b[0m\n",
       "                \u001b[32m'column'\u001b[0m: \u001b[32m'yr'\u001b[0m,\n",
       "                \u001b[32m'mean'\u001b[0m: \u001b[1;36m0.38\u001b[0m,\n",
       "                \u001b[32m'median'\u001b[0m: \u001b[1;36m0.0\u001b[0m,\n",
       "                \u001b[32m'mode'\u001b[0m: \u001b[1m[\u001b[0m\u001b[1;36m0\u001b[0m\u001b[1m]\u001b[0m,\n",
       "                \u001b[32m'std'\u001b[0m: \u001b[1;36m0.48\u001b[0m,\n",
       "                \u001b[32m'variance'\u001b[0m: \u001b[1;36m0.24\u001b[0m,\n",
       "                \u001b[32m'range'\u001b[0m: \u001b[1;36m1\u001b[0m,\n",
       "                \u001b[32m'min'\u001b[0m: \u001b[1;36m0\u001b[0m,\n",
       "                \u001b[32m'max'\u001b[0m: \u001b[1;36m1\u001b[0m,\n",
       "                \u001b[32m'count'\u001b[0m: \u001b[1;36m13903\u001b[0m,\n",
       "                \u001b[32m'missing_values'\u001b[0m: \u001b[1;36m0\u001b[0m,\n",
       "                \u001b[32m'missing_pct'\u001b[0m: \u001b[1;36m0.0\u001b[0m,\n",
       "                \u001b[32m'unique_values'\u001b[0m: \u001b[1;36m2\u001b[0m\n",
       "            \u001b[1m}\u001b[0m,\n",
       "            \u001b[1m{\u001b[0m\n",
       "                \u001b[32m'column'\u001b[0m: \u001b[32m'mnth'\u001b[0m,\n",
       "                \u001b[32m'mean'\u001b[0m: \u001b[1;36m5.65\u001b[0m,\n",
       "                \u001b[32m'median'\u001b[0m: \u001b[1;36m5.0\u001b[0m,\n",
       "                \u001b[32m'mode'\u001b[0m: \u001b[1m[\u001b[0m\u001b[1;36m7\u001b[0m, \u001b[1;36m5\u001b[0m\u001b[1m]\u001b[0m,\n",
       "                \u001b[32m'std'\u001b[0m: \u001b[1;36m3.22\u001b[0m,\n",
       "                \u001b[32m'variance'\u001b[0m: \u001b[1;36m10.36\u001b[0m,\n",
       "                \u001b[32m'range'\u001b[0m: \u001b[1;36m11\u001b[0m,\n",
       "                \u001b[32m'min'\u001b[0m: \u001b[1;36m1\u001b[0m,\n",
       "                \u001b[32m'max'\u001b[0m: \u001b[1;36m12\u001b[0m,\n",
       "                \u001b[32m'count'\u001b[0m: \u001b[1;36m13903\u001b[0m,\n",
       "                \u001b[32m'missing_values'\u001b[0m: \u001b[1;36m0\u001b[0m,\n",
       "                \u001b[32m'missing_pct'\u001b[0m: \u001b[1;36m0.0\u001b[0m,\n",
       "                \u001b[32m'unique_values'\u001b[0m: \u001b[1;36m12\u001b[0m\n",
       "            \u001b[1m}\u001b[0m,\n",
       "            \u001b[1m{\u001b[0m\n",
       "                \u001b[32m'column'\u001b[0m: \u001b[32m'hr'\u001b[0m,\n",
       "                \u001b[32m'mean'\u001b[0m: \u001b[1;36m11.55\u001b[0m,\n",
       "                \u001b[32m'median'\u001b[0m: \u001b[1;36m12.0\u001b[0m,\n",
       "                \u001b[32m'mode'\u001b[0m: \u001b[1m[\u001b[0m\u001b[1;36m16\u001b[0m, \u001b[1;36m17\u001b[0m\u001b[1m]\u001b[0m,\n",
       "                \u001b[32m'std'\u001b[0m: \u001b[1;36m6.91\u001b[0m,\n",
       "                \u001b[32m'variance'\u001b[0m: \u001b[1;36m47.78\u001b[0m,\n",
       "                \u001b[32m'range'\u001b[0m: \u001b[1;36m23\u001b[0m,\n",
       "                \u001b[32m'min'\u001b[0m: \u001b[1;36m0\u001b[0m,\n",
       "                \u001b[32m'max'\u001b[0m: \u001b[1;36m23\u001b[0m,\n",
       "                \u001b[32m'count'\u001b[0m: \u001b[1;36m13903\u001b[0m,\n",
       "                \u001b[32m'missing_values'\u001b[0m: \u001b[1;36m0\u001b[0m,\n",
       "                \u001b[32m'missing_pct'\u001b[0m: \u001b[1;36m0.0\u001b[0m,\n",
       "                \u001b[32m'unique_values'\u001b[0m: \u001b[1;36m24\u001b[0m\n",
       "            \u001b[1m}\u001b[0m,\n",
       "            \u001b[1m{\u001b[0m\n",
       "                \u001b[32m'column'\u001b[0m: \u001b[32m'holiday'\u001b[0m,\n",
       "                \u001b[32m'mean'\u001b[0m: \u001b[1;36m0.03\u001b[0m,\n",
       "                \u001b[32m'median'\u001b[0m: \u001b[1;36m0.0\u001b[0m,\n",
       "                \u001b[32m'mode'\u001b[0m: \u001b[1m[\u001b[0m\u001b[1;36m0\u001b[0m\u001b[1m]\u001b[0m,\n",
       "                \u001b[32m'std'\u001b[0m: \u001b[1;36m0.16\u001b[0m,\n",
       "                \u001b[32m'variance'\u001b[0m: \u001b[1;36m0.03\u001b[0m,\n",
       "                \u001b[32m'range'\u001b[0m: \u001b[1;36m1\u001b[0m,\n",
       "                \u001b[32m'min'\u001b[0m: \u001b[1;36m0\u001b[0m,\n",
       "                \u001b[32m'max'\u001b[0m: \u001b[1;36m1\u001b[0m,\n",
       "                \u001b[32m'count'\u001b[0m: \u001b[1;36m13903\u001b[0m,\n",
       "                \u001b[32m'missing_values'\u001b[0m: \u001b[1;36m0\u001b[0m,\n",
       "                \u001b[32m'missing_pct'\u001b[0m: \u001b[1;36m0.0\u001b[0m,\n",
       "                \u001b[32m'unique_values'\u001b[0m: \u001b[1;36m2\u001b[0m\n",
       "            \u001b[1m}\u001b[0m,\n",
       "            \u001b[1m{\u001b[0m\n",
       "                \u001b[32m'column'\u001b[0m: \u001b[32m'weekday'\u001b[0m,\n",
       "                \u001b[32m'mean'\u001b[0m: \u001b[1;36m3.0\u001b[0m,\n",
       "                \u001b[32m'median'\u001b[0m: \u001b[1;36m3.0\u001b[0m,\n",
       "                \u001b[32m'mode'\u001b[0m: \u001b[1m[\u001b[0m\u001b[1;36m6\u001b[0m\u001b[1m]\u001b[0m,\n",
       "                \u001b[32m'std'\u001b[0m: \u001b[1;36m2.01\u001b[0m,\n",
       "                \u001b[32m'variance'\u001b[0m: \u001b[1;36m4.02\u001b[0m,\n",
       "                \u001b[32m'range'\u001b[0m: \u001b[1;36m6\u001b[0m,\n",
       "                \u001b[32m'min'\u001b[0m: \u001b[1;36m0\u001b[0m,\n",
       "                \u001b[32m'max'\u001b[0m: \u001b[1;36m6\u001b[0m,\n",
       "                \u001b[32m'count'\u001b[0m: \u001b[1;36m13903\u001b[0m,\n",
       "                \u001b[32m'missing_values'\u001b[0m: \u001b[1;36m0\u001b[0m,\n",
       "                \u001b[32m'missing_pct'\u001b[0m: \u001b[1;36m0.0\u001b[0m,\n",
       "                \u001b[32m'unique_values'\u001b[0m: \u001b[1;36m7\u001b[0m\n",
       "            \u001b[1m}\u001b[0m,\n",
       "            \u001b[1m{\u001b[0m\n",
       "                \u001b[32m'column'\u001b[0m: \u001b[32m'workingday'\u001b[0m,\n",
       "                \u001b[32m'mean'\u001b[0m: \u001b[1;36m0.68\u001b[0m,\n",
       "                \u001b[32m'median'\u001b[0m: \u001b[1;36m1.0\u001b[0m,\n",
       "                \u001b[32m'mode'\u001b[0m: \u001b[1m[\u001b[0m\u001b[1;36m1\u001b[0m\u001b[1m]\u001b[0m,\n",
       "                \u001b[32m'std'\u001b[0m: \u001b[1;36m0.46\u001b[0m,\n",
       "                \u001b[32m'variance'\u001b[0m: \u001b[1;36m0.22\u001b[0m,\n",
       "                \u001b[32m'range'\u001b[0m: \u001b[1;36m1\u001b[0m,\n",
       "                \u001b[32m'min'\u001b[0m: \u001b[1;36m0\u001b[0m,\n",
       "                \u001b[32m'max'\u001b[0m: \u001b[1;36m1\u001b[0m,\n",
       "                \u001b[32m'count'\u001b[0m: \u001b[1;36m13903\u001b[0m,\n",
       "                \u001b[32m'missing_values'\u001b[0m: \u001b[1;36m0\u001b[0m,\n",
       "                \u001b[32m'missing_pct'\u001b[0m: \u001b[1;36m0.0\u001b[0m,\n",
       "                \u001b[32m'unique_values'\u001b[0m: \u001b[1;36m2\u001b[0m\n",
       "            \u001b[1m}\u001b[0m,\n",
       "            \u001b[1m{\u001b[0m\n",
       "                \u001b[32m'column'\u001b[0m: \u001b[32m'weathersit'\u001b[0m,\n",
       "                \u001b[32m'mean'\u001b[0m: \u001b[1;36m1.42\u001b[0m,\n",
       "                \u001b[32m'median'\u001b[0m: \u001b[1;36m1.0\u001b[0m,\n",
       "                \u001b[32m'mode'\u001b[0m: \u001b[1m[\u001b[0m\u001b[1;36m1\u001b[0m\u001b[1m]\u001b[0m,\n",
       "                \u001b[32m'std'\u001b[0m: \u001b[1;36m0.64\u001b[0m,\n",
       "                \u001b[32m'variance'\u001b[0m: \u001b[1;36m0.41\u001b[0m,\n",
       "                \u001b[32m'range'\u001b[0m: \u001b[1;36m3\u001b[0m,\n",
       "                \u001b[32m'min'\u001b[0m: \u001b[1;36m1\u001b[0m,\n",
       "                \u001b[32m'max'\u001b[0m: \u001b[1;36m4\u001b[0m,\n",
       "                \u001b[32m'count'\u001b[0m: \u001b[1;36m13903\u001b[0m,\n",
       "                \u001b[32m'missing_values'\u001b[0m: \u001b[1;36m0\u001b[0m,\n",
       "                \u001b[32m'missing_pct'\u001b[0m: \u001b[1;36m0.0\u001b[0m,\n",
       "                \u001b[32m'unique_values'\u001b[0m: \u001b[1;36m4\u001b[0m\n",
       "            \u001b[1m}\u001b[0m,\n",
       "            \u001b[1m{\u001b[0m\n",
       "                \u001b[32m'column'\u001b[0m: \u001b[32m'temp'\u001b[0m,\n",
       "                \u001b[32m'mean'\u001b[0m: \u001b[1;36m0.5\u001b[0m,\n",
       "                \u001b[32m'median'\u001b[0m: \u001b[1;36m0.5\u001b[0m,\n",
       "                \u001b[32m'mode'\u001b[0m: \u001b[1m[\u001b[0m\u001b[1;36m0.62\u001b[0m\u001b[1m]\u001b[0m,\n",
       "                \u001b[32m'std'\u001b[0m: \u001b[1;36m0.2\u001b[0m,\n",
       "                \u001b[32m'variance'\u001b[0m: \u001b[1;36m0.04\u001b[0m,\n",
       "                \u001b[32m'range'\u001b[0m: \u001b[1;36m0.98\u001b[0m,\n",
       "                \u001b[32m'min'\u001b[0m: \u001b[1;36m0.02\u001b[0m,\n",
       "                \u001b[32m'max'\u001b[0m: \u001b[1;36m1.0\u001b[0m,\n",
       "                \u001b[32m'count'\u001b[0m: \u001b[1;36m13903\u001b[0m,\n",
       "                \u001b[32m'missing_values'\u001b[0m: \u001b[1;36m0\u001b[0m,\n",
       "                \u001b[32m'missing_pct'\u001b[0m: \u001b[1;36m0.0\u001b[0m,\n",
       "                \u001b[32m'unique_values'\u001b[0m: \u001b[1;36m50\u001b[0m\n",
       "            \u001b[1m}\u001b[0m,\n",
       "            \u001b[1m{\u001b[0m\n",
       "                \u001b[32m'column'\u001b[0m: \u001b[32m'atemp'\u001b[0m,\n",
       "                \u001b[32m'mean'\u001b[0m: \u001b[1;36m0.48\u001b[0m,\n",
       "                \u001b[32m'median'\u001b[0m: \u001b[1;36m0.48\u001b[0m,\n",
       "                \u001b[32m'mode'\u001b[0m: \u001b[1m[\u001b[0m\u001b[1;36m0.6212\u001b[0m\u001b[1m]\u001b[0m,\n",
       "                \u001b[32m'std'\u001b[0m: \u001b[1;36m0.18\u001b[0m,\n",
       "                \u001b[32m'variance'\u001b[0m: \u001b[1;36m0.03\u001b[0m,\n",
       "                \u001b[32m'range'\u001b[0m: \u001b[1;36m1.0\u001b[0m,\n",
       "                \u001b[32m'min'\u001b[0m: \u001b[1;36m0.0\u001b[0m,\n",
       "                \u001b[32m'max'\u001b[0m: \u001b[1;36m1.0\u001b[0m,\n",
       "                \u001b[32m'count'\u001b[0m: \u001b[1;36m13903\u001b[0m,\n",
       "                \u001b[32m'missing_values'\u001b[0m: \u001b[1;36m0\u001b[0m,\n",
       "                \u001b[32m'missing_pct'\u001b[0m: \u001b[1;36m0.0\u001b[0m,\n",
       "                \u001b[32m'unique_values'\u001b[0m: \u001b[1;36m65\u001b[0m\n",
       "            \u001b[1m}\u001b[0m,\n",
       "            \u001b[1m{\u001b[0m\n",
       "                \u001b[32m'column'\u001b[0m: \u001b[32m'hum'\u001b[0m,\n",
       "                \u001b[32m'mean'\u001b[0m: \u001b[1;36m0.62\u001b[0m,\n",
       "                \u001b[32m'median'\u001b[0m: \u001b[1;36m0.62\u001b[0m,\n",
       "                \u001b[32m'mode'\u001b[0m: \u001b[1m[\u001b[0m\u001b[1;36m0.88\u001b[0m\u001b[1m]\u001b[0m,\n",
       "                \u001b[32m'std'\u001b[0m: \u001b[1;36m0.2\u001b[0m,\n",
       "                \u001b[32m'variance'\u001b[0m: \u001b[1;36m0.04\u001b[0m,\n",
       "                \u001b[32m'range'\u001b[0m: \u001b[1;36m1.0\u001b[0m,\n",
       "                \u001b[32m'min'\u001b[0m: \u001b[1;36m0.0\u001b[0m,\n",
       "                \u001b[32m'max'\u001b[0m: \u001b[1;36m1.0\u001b[0m,\n",
       "                \u001b[32m'count'\u001b[0m: \u001b[1;36m13903\u001b[0m,\n",
       "                \u001b[32m'missing_values'\u001b[0m: \u001b[1;36m0\u001b[0m,\n",
       "                \u001b[32m'missing_pct'\u001b[0m: \u001b[1;36m0.0\u001b[0m,\n",
       "                \u001b[32m'unique_values'\u001b[0m: \u001b[1;36m88\u001b[0m\n",
       "            \u001b[1m}\u001b[0m,\n",
       "            \u001b[1m{\u001b[0m\n",
       "                \u001b[32m'column'\u001b[0m: \u001b[32m'windspeed'\u001b[0m,\n",
       "                \u001b[32m'mean'\u001b[0m: \u001b[1;36m0.19\u001b[0m,\n",
       "                \u001b[32m'median'\u001b[0m: \u001b[1;36m0.19\u001b[0m,\n",
       "                \u001b[32m'mode'\u001b[0m: \u001b[1m[\u001b[0m\u001b[1;36m0.0\u001b[0m\u001b[1m]\u001b[0m,\n",
       "                \u001b[32m'std'\u001b[0m: \u001b[1;36m0.12\u001b[0m,\n",
       "                \u001b[32m'variance'\u001b[0m: \u001b[1;36m0.02\u001b[0m,\n",
       "                \u001b[32m'range'\u001b[0m: \u001b[1;36m0.85\u001b[0m,\n",
       "                \u001b[32m'min'\u001b[0m: \u001b[1;36m0.0\u001b[0m,\n",
       "                \u001b[32m'max'\u001b[0m: \u001b[1;36m0.8507\u001b[0m,\n",
       "                \u001b[32m'count'\u001b[0m: \u001b[1;36m13903\u001b[0m,\n",
       "                \u001b[32m'missing_values'\u001b[0m: \u001b[1;36m0\u001b[0m,\n",
       "                \u001b[32m'missing_pct'\u001b[0m: \u001b[1;36m0.0\u001b[0m,\n",
       "                \u001b[32m'unique_values'\u001b[0m: \u001b[1;36m30\u001b[0m\n",
       "            \u001b[1m}\u001b[0m,\n",
       "            \u001b[1m{\u001b[0m\n",
       "                \u001b[32m'column'\u001b[0m: \u001b[32m'casual'\u001b[0m,\n",
       "                \u001b[32m'mean'\u001b[0m: \u001b[1;36m34.04\u001b[0m,\n",
       "                \u001b[32m'median'\u001b[0m: \u001b[1;36m15.0\u001b[0m,\n",
       "                \u001b[32m'mode'\u001b[0m: \u001b[1m[\u001b[0m\u001b[1;36m0\u001b[0m\u001b[1m]\u001b[0m,\n",
       "                \u001b[32m'std'\u001b[0m: \u001b[1;36m47.34\u001b[0m,\n",
       "                \u001b[32m'variance'\u001b[0m: \u001b[1;36m2241.19\u001b[0m,\n",
       "                \u001b[32m'range'\u001b[0m: \u001b[1;36m367\u001b[0m,\n",
       "                \u001b[32m'min'\u001b[0m: \u001b[1;36m0\u001b[0m,\n",
       "                \u001b[32m'max'\u001b[0m: \u001b[1;36m367\u001b[0m,\n",
       "                \u001b[32m'count'\u001b[0m: \u001b[1;36m13903\u001b[0m,\n",
       "                \u001b[32m'missing_values'\u001b[0m: \u001b[1;36m0\u001b[0m,\n",
       "                \u001b[32m'missing_pct'\u001b[0m: \u001b[1;36m0.0\u001b[0m,\n",
       "                \u001b[32m'unique_values'\u001b[0m: \u001b[1;36m303\u001b[0m\n",
       "            \u001b[1m}\u001b[0m,\n",
       "            \u001b[1m{\u001b[0m\n",
       "                \u001b[32m'column'\u001b[0m: \u001b[32m'registered'\u001b[0m,\n",
       "                \u001b[32m'mean'\u001b[0m: \u001b[1;36m140.6\u001b[0m,\n",
       "                \u001b[32m'median'\u001b[0m: \u001b[1;36m107.0\u001b[0m,\n",
       "                \u001b[32m'mode'\u001b[0m: \u001b[1m[\u001b[0m\u001b[1;36m4\u001b[0m\u001b[1m]\u001b[0m,\n",
       "                \u001b[32m'std'\u001b[0m: \u001b[1;36m137.51\u001b[0m,\n",
       "                \u001b[32m'variance'\u001b[0m: \u001b[1;36m18909.65\u001b[0m,\n",
       "                \u001b[32m'range'\u001b[0m: \u001b[1;36m796\u001b[0m,\n",
       "                \u001b[32m'min'\u001b[0m: \u001b[1;36m0\u001b[0m,\n",
       "                \u001b[32m'max'\u001b[0m: \u001b[1;36m796\u001b[0m,\n",
       "                \u001b[32m'count'\u001b[0m: \u001b[1;36m13903\u001b[0m,\n",
       "                \u001b[32m'missing_values'\u001b[0m: \u001b[1;36m0\u001b[0m,\n",
       "                \u001b[32m'missing_pct'\u001b[0m: \u001b[1;36m0.0\u001b[0m,\n",
       "                \u001b[32m'unique_values'\u001b[0m: \u001b[1;36m701\u001b[0m\n",
       "            \u001b[1m}\u001b[0m,\n",
       "            \u001b[1m{\u001b[0m\n",
       "                \u001b[32m'column'\u001b[0m: \u001b[32m'cnt'\u001b[0m,\n",
       "                \u001b[32m'mean'\u001b[0m: \u001b[1;36m174.64\u001b[0m,\n",
       "                \u001b[32m'median'\u001b[0m: \u001b[1;36m130.0\u001b[0m,\n",
       "                \u001b[32m'mode'\u001b[0m: \u001b[1m[\u001b[0m\u001b[1;36m5\u001b[0m\u001b[1m]\u001b[0m,\n",
       "                \u001b[32m'std'\u001b[0m: \u001b[1;36m166.96\u001b[0m,\n",
       "                \u001b[32m'variance'\u001b[0m: \u001b[1;36m27874.11\u001b[0m,\n",
       "                \u001b[32m'range'\u001b[0m: \u001b[1;36m956\u001b[0m,\n",
       "                \u001b[32m'min'\u001b[0m: \u001b[1;36m1\u001b[0m,\n",
       "                \u001b[32m'max'\u001b[0m: \u001b[1;36m957\u001b[0m,\n",
       "                \u001b[32m'count'\u001b[0m: \u001b[1;36m13903\u001b[0m,\n",
       "                \u001b[32m'missing_values'\u001b[0m: \u001b[1;36m0\u001b[0m,\n",
       "                \u001b[32m'missing_pct'\u001b[0m: \u001b[1;36m0.0\u001b[0m,\n",
       "                \u001b[32m'unique_values'\u001b[0m: \u001b[1;36m789\u001b[0m\n",
       "            \u001b[1m}\u001b[0m\n",
       "        \u001b[1m]\u001b[0m,\n",
       "        \u001b[32m'categorical'\u001b[0m: \u001b[1m[\u001b[0m\n",
       "            \u001b[1m{\u001b[0m\n",
       "                \u001b[32m'column'\u001b[0m: \u001b[32m'datetime'\u001b[0m,\n",
       "                \u001b[32m'total_count'\u001b[0m: \u001b[1;36m13903\u001b[0m,\n",
       "                \u001b[32m'unique_values'\u001b[0m: \u001b[1;36m13903\u001b[0m,\n",
       "                \u001b[32m'value_counts'\u001b[0m: \u001b[1m[\u001b[0m\n",
       "                    \u001b[1m[\u001b[0m\u001b[32m'2011-01-01 00:00:00'\u001b[0m, \u001b[1;36m1\u001b[0m\u001b[1m]\u001b[0m,\n",
       "                    \u001b[1m[\u001b[0m\u001b[32m'2011-01-01 01:00:00'\u001b[0m, \u001b[1;36m1\u001b[0m\u001b[1m]\u001b[0m,\n",
       "                    \u001b[1m[\u001b[0m\u001b[32m'2011-01-01 02:00:00'\u001b[0m, \u001b[1;36m1\u001b[0m\u001b[1m]\u001b[0m,\n",
       "                    \u001b[1m[\u001b[0m\u001b[32m'2011-01-01 03:00:00'\u001b[0m, \u001b[1;36m1\u001b[0m\u001b[1m]\u001b[0m,\n",
       "                    \u001b[1m[\u001b[0m\u001b[32m'2011-01-01 04:00:00'\u001b[0m, \u001b[1;36m1\u001b[0m\u001b[1m]\u001b[0m,\n",
       "                    \u001b[1m[\u001b[0m\u001b[32m'2011-01-01 05:00:00'\u001b[0m, \u001b[1;36m1\u001b[0m\u001b[1m]\u001b[0m,\n",
       "                    \u001b[1m[\u001b[0m\u001b[32m'2011-01-01 06:00:00'\u001b[0m, \u001b[1;36m1\u001b[0m\u001b[1m]\u001b[0m,\n",
       "                    \u001b[1m[\u001b[0m\u001b[32m'2011-01-01 07:00:00'\u001b[0m, \u001b[1;36m1\u001b[0m\u001b[1m]\u001b[0m,\n",
       "                    \u001b[1m[\u001b[0m\u001b[32m'2011-01-01 08:00:00'\u001b[0m, \u001b[1;36m1\u001b[0m\u001b[1m]\u001b[0m,\n",
       "                    \u001b[1m[\u001b[0m\u001b[32m'2011-01-01 09:00:00'\u001b[0m, \u001b[1;36m1\u001b[0m\u001b[1m]\u001b[0m\n",
       "                \u001b[1m]\u001b[0m,\n",
       "                \u001b[32m'missing_values'\u001b[0m: \u001b[1;36m0\u001b[0m,\n",
       "                \u001b[32m'missing_pct'\u001b[0m: \u001b[1;36m0.0\u001b[0m\n",
       "            \u001b[1m}\u001b[0m\n",
       "        \u001b[1m]\u001b[0m\n",
       "    \u001b[1m}\u001b[0m,\n",
       "    \u001b[32m'other_info'\u001b[0m: \u001b[1m{\u001b[0m\n",
       "        \u001b[32m'num_unique_numeric_rows'\u001b[0m: \u001b[1m{\u001b[0m\n",
       "            \u001b[32m'season'\u001b[0m: \u001b[1;36m4\u001b[0m,\n",
       "            \u001b[32m'yr'\u001b[0m: \u001b[1;36m2\u001b[0m,\n",
       "            \u001b[32m'mnth'\u001b[0m: \u001b[1;36m12\u001b[0m,\n",
       "            \u001b[32m'hr'\u001b[0m: \u001b[1;36m24\u001b[0m,\n",
       "            \u001b[32m'holiday'\u001b[0m: \u001b[1;36m2\u001b[0m,\n",
       "            \u001b[32m'weekday'\u001b[0m: \u001b[1;36m7\u001b[0m,\n",
       "            \u001b[32m'workingday'\u001b[0m: \u001b[1;36m2\u001b[0m,\n",
       "            \u001b[32m'weathersit'\u001b[0m: \u001b[1;36m4\u001b[0m,\n",
       "            \u001b[32m'temp'\u001b[0m: \u001b[1;36m50\u001b[0m,\n",
       "            \u001b[32m'atemp'\u001b[0m: \u001b[1;36m65\u001b[0m,\n",
       "            \u001b[32m'hum'\u001b[0m: \u001b[1;36m88\u001b[0m,\n",
       "            \u001b[32m'windspeed'\u001b[0m: \u001b[1;36m30\u001b[0m,\n",
       "            \u001b[32m'casual'\u001b[0m: \u001b[1;36m303\u001b[0m,\n",
       "            \u001b[32m'registered'\u001b[0m: \u001b[1;36m701\u001b[0m,\n",
       "            \u001b[32m'cnt'\u001b[0m: \u001b[1;36m789\u001b[0m\n",
       "        \u001b[1m}\u001b[0m,\n",
       "        \u001b[32m'num_unique_string_rows'\u001b[0m: \u001b[1m{\u001b[0m\u001b[32m'datetime'\u001b[0m: \u001b[1;36m13903\u001b[0m\u001b[1m}\u001b[0m,\n",
       "        \u001b[32m'data_nulls'\u001b[0m: \u001b[1m{\u001b[0m\n",
       "            \u001b[32m'datetime'\u001b[0m: \u001b[1;36m0\u001b[0m,\n",
       "            \u001b[32m'season'\u001b[0m: \u001b[1;36m0\u001b[0m,\n",
       "            \u001b[32m'yr'\u001b[0m: \u001b[1;36m0\u001b[0m,\n",
       "            \u001b[32m'mnth'\u001b[0m: \u001b[1;36m0\u001b[0m,\n",
       "            \u001b[32m'hr'\u001b[0m: \u001b[1;36m0\u001b[0m,\n",
       "            \u001b[32m'holiday'\u001b[0m: \u001b[1;36m0\u001b[0m,\n",
       "            \u001b[32m'weekday'\u001b[0m: \u001b[1;36m0\u001b[0m,\n",
       "            \u001b[32m'workingday'\u001b[0m: \u001b[1;36m0\u001b[0m,\n",
       "            \u001b[32m'weathersit'\u001b[0m: \u001b[1;36m0\u001b[0m,\n",
       "            \u001b[32m'temp'\u001b[0m: \u001b[1;36m0\u001b[0m,\n",
       "            \u001b[32m'atemp'\u001b[0m: \u001b[1;36m0\u001b[0m,\n",
       "            \u001b[32m'hum'\u001b[0m: \u001b[1;36m0\u001b[0m,\n",
       "            \u001b[32m'windspeed'\u001b[0m: \u001b[1;36m0\u001b[0m,\n",
       "            \u001b[32m'casual'\u001b[0m: \u001b[1;36m0\u001b[0m,\n",
       "            \u001b[32m'registered'\u001b[0m: \u001b[1;36m0\u001b[0m,\n",
       "            \u001b[32m'cnt'\u001b[0m: \u001b[1;36m0\u001b[0m\n",
       "        \u001b[1m}\u001b[0m,\n",
       "        \u001b[32m'total_nulls'\u001b[0m: \u001b[1;36m0\u001b[0m,\n",
       "        \u001b[32m'num_duplicated_rows'\u001b[0m: \u001b[1;36m0\u001b[0m,\n",
       "        \u001b[32m'memory_usage_MB'\u001b[0m: \u001b[1;36m1.84\u001b[0m,\n",
       "        \u001b[32m'validation_timestamp'\u001b[0m: \u001b[32m'2025-09-28T19:36:59+01:00'\u001b[0m\n",
       "    \u001b[1m}\u001b[0m\n",
       "\u001b[1m}\u001b[0m\n"
      ]
     },
     "metadata": {},
     "output_type": "display_data"
    }
   ],
   "source": [
    "# Validate the data\n",
    "data_report: dict[str, Any] = data_validator(data)\n",
    "console.print(data_report)"
   ]
  },
  {
   "cell_type": "code",
   "execution_count": 7,
   "id": "72eea5119410473aa328ad9291626812",
   "metadata": {},
   "outputs": [
    {
     "data": {
      "text/html": [
       "<div><style>\n",
       ".dataframe > thead > tr,\n",
       ".dataframe > tbody > tr {\n",
       "  text-align: right;\n",
       "  white-space: pre-wrap;\n",
       "}\n",
       "</style>\n",
       "<small>shape: (5, 16)</small><table border=\"1\" class=\"dataframe\"><thead><tr><th>datetime</th><th>season</th><th>yr</th><th>mnth</th><th>hr</th><th>holiday</th><th>weekday</th><th>workingday</th><th>weathersit</th><th>temp</th><th>atemp</th><th>hum</th><th>windspeed</th><th>casual</th><th>registered</th><th>cnt</th></tr><tr><td>str</td><td>i64</td><td>i64</td><td>i64</td><td>i64</td><td>i64</td><td>i64</td><td>i64</td><td>i64</td><td>f64</td><td>f64</td><td>f64</td><td>f64</td><td>i64</td><td>i64</td><td>i64</td></tr></thead><tbody><tr><td>&quot;2011-01-01 00:00:00&quot;</td><td>1</td><td>0</td><td>1</td><td>0</td><td>0</td><td>6</td><td>0</td><td>1</td><td>0.24</td><td>0.2879</td><td>0.81</td><td>0.0</td><td>3</td><td>13</td><td>16</td></tr><tr><td>&quot;2011-01-01 01:00:00&quot;</td><td>1</td><td>0</td><td>1</td><td>1</td><td>0</td><td>6</td><td>0</td><td>1</td><td>0.22</td><td>0.2727</td><td>0.8</td><td>0.0</td><td>8</td><td>32</td><td>40</td></tr><tr><td>&quot;2011-01-01 02:00:00&quot;</td><td>1</td><td>0</td><td>1</td><td>2</td><td>0</td><td>6</td><td>0</td><td>1</td><td>0.22</td><td>0.2727</td><td>0.8</td><td>0.0</td><td>5</td><td>27</td><td>32</td></tr><tr><td>&quot;2011-01-01 03:00:00&quot;</td><td>1</td><td>0</td><td>1</td><td>3</td><td>0</td><td>6</td><td>0</td><td>1</td><td>0.24</td><td>0.2879</td><td>0.75</td><td>0.0</td><td>3</td><td>10</td><td>13</td></tr><tr><td>&quot;2011-01-01 04:00:00&quot;</td><td>1</td><td>0</td><td>1</td><td>4</td><td>0</td><td>6</td><td>0</td><td>1</td><td>0.24</td><td>0.2879</td><td>0.75</td><td>0.0</td><td>0</td><td>1</td><td>1</td></tr></tbody></table></div>"
      ],
      "text/plain": [
       "shape: (5, 16)\n",
       "┌─────┬─────┬─────┬─────┬─────┬─────┬─────┬─────┬─────┬─────┬─────┬─────┬─────┬─────┬────────┬─────┐\n",
       "│ dat ┆ sea ┆ yr  ┆ mnt ┆ hr  ┆ hol ┆ wee ┆ wor ┆ wea ┆ tem ┆ ate ┆ hum ┆ win ┆ cas ┆ regist ┆ cnt │\n",
       "│ eti ┆ son ┆ --- ┆ h   ┆ --- ┆ ida ┆ kda ┆ kin ┆ the ┆ p   ┆ mp  ┆ --- ┆ dsp ┆ ual ┆ ered   ┆ --- │\n",
       "│ me  ┆ --- ┆ i64 ┆ --- ┆ i64 ┆ y   ┆ y   ┆ gda ┆ rsi ┆ --- ┆ --- ┆ f64 ┆ eed ┆ --- ┆ ---    ┆ i64 │\n",
       "│ --- ┆ i64 ┆     ┆ i64 ┆     ┆ --- ┆ --- ┆ y   ┆ t   ┆ f64 ┆ f64 ┆     ┆ --- ┆ i64 ┆ i64    ┆     │\n",
       "│ str ┆     ┆     ┆     ┆     ┆ i64 ┆ i64 ┆ --- ┆ --- ┆     ┆     ┆     ┆ f64 ┆     ┆        ┆     │\n",
       "│     ┆     ┆     ┆     ┆     ┆     ┆     ┆ i64 ┆ i64 ┆     ┆     ┆     ┆     ┆     ┆        ┆     │\n",
       "╞═════╪═════╪═════╪═════╪═════╪═════╪═════╪═════╪═════╪═════╪═════╪═════╪═════╪═════╪════════╪═════╡\n",
       "│ 201 ┆ 1   ┆ 0   ┆ 1   ┆ 0   ┆ 0   ┆ 6   ┆ 0   ┆ 1   ┆ 0.2 ┆ 0.2 ┆ 0.8 ┆ 0.0 ┆ 3   ┆ 13     ┆ 16  │\n",
       "│ 1-0 ┆     ┆     ┆     ┆     ┆     ┆     ┆     ┆     ┆ 4   ┆ 879 ┆ 1   ┆     ┆     ┆        ┆     │\n",
       "│ 1-0 ┆     ┆     ┆     ┆     ┆     ┆     ┆     ┆     ┆     ┆     ┆     ┆     ┆     ┆        ┆     │\n",
       "│ 1   ┆     ┆     ┆     ┆     ┆     ┆     ┆     ┆     ┆     ┆     ┆     ┆     ┆     ┆        ┆     │\n",
       "│ 00: ┆     ┆     ┆     ┆     ┆     ┆     ┆     ┆     ┆     ┆     ┆     ┆     ┆     ┆        ┆     │\n",
       "│ 00: ┆     ┆     ┆     ┆     ┆     ┆     ┆     ┆     ┆     ┆     ┆     ┆     ┆     ┆        ┆     │\n",
       "│ 00  ┆     ┆     ┆     ┆     ┆     ┆     ┆     ┆     ┆     ┆     ┆     ┆     ┆     ┆        ┆     │\n",
       "│ 201 ┆ 1   ┆ 0   ┆ 1   ┆ 1   ┆ 0   ┆ 6   ┆ 0   ┆ 1   ┆ 0.2 ┆ 0.2 ┆ 0.8 ┆ 0.0 ┆ 8   ┆ 32     ┆ 40  │\n",
       "│ 1-0 ┆     ┆     ┆     ┆     ┆     ┆     ┆     ┆     ┆ 2   ┆ 727 ┆     ┆     ┆     ┆        ┆     │\n",
       "│ 1-0 ┆     ┆     ┆     ┆     ┆     ┆     ┆     ┆     ┆     ┆     ┆     ┆     ┆     ┆        ┆     │\n",
       "│ 1   ┆     ┆     ┆     ┆     ┆     ┆     ┆     ┆     ┆     ┆     ┆     ┆     ┆     ┆        ┆     │\n",
       "│ 01: ┆     ┆     ┆     ┆     ┆     ┆     ┆     ┆     ┆     ┆     ┆     ┆     ┆     ┆        ┆     │\n",
       "│ 00: ┆     ┆     ┆     ┆     ┆     ┆     ┆     ┆     ┆     ┆     ┆     ┆     ┆     ┆        ┆     │\n",
       "│ 00  ┆     ┆     ┆     ┆     ┆     ┆     ┆     ┆     ┆     ┆     ┆     ┆     ┆     ┆        ┆     │\n",
       "│ 201 ┆ 1   ┆ 0   ┆ 1   ┆ 2   ┆ 0   ┆ 6   ┆ 0   ┆ 1   ┆ 0.2 ┆ 0.2 ┆ 0.8 ┆ 0.0 ┆ 5   ┆ 27     ┆ 32  │\n",
       "│ 1-0 ┆     ┆     ┆     ┆     ┆     ┆     ┆     ┆     ┆ 2   ┆ 727 ┆     ┆     ┆     ┆        ┆     │\n",
       "│ 1-0 ┆     ┆     ┆     ┆     ┆     ┆     ┆     ┆     ┆     ┆     ┆     ┆     ┆     ┆        ┆     │\n",
       "│ 1   ┆     ┆     ┆     ┆     ┆     ┆     ┆     ┆     ┆     ┆     ┆     ┆     ┆     ┆        ┆     │\n",
       "│ 02: ┆     ┆     ┆     ┆     ┆     ┆     ┆     ┆     ┆     ┆     ┆     ┆     ┆     ┆        ┆     │\n",
       "│ 00: ┆     ┆     ┆     ┆     ┆     ┆     ┆     ┆     ┆     ┆     ┆     ┆     ┆     ┆        ┆     │\n",
       "│ 00  ┆     ┆     ┆     ┆     ┆     ┆     ┆     ┆     ┆     ┆     ┆     ┆     ┆     ┆        ┆     │\n",
       "│ 201 ┆ 1   ┆ 0   ┆ 1   ┆ 3   ┆ 0   ┆ 6   ┆ 0   ┆ 1   ┆ 0.2 ┆ 0.2 ┆ 0.7 ┆ 0.0 ┆ 3   ┆ 10     ┆ 13  │\n",
       "│ 1-0 ┆     ┆     ┆     ┆     ┆     ┆     ┆     ┆     ┆ 4   ┆ 879 ┆ 5   ┆     ┆     ┆        ┆     │\n",
       "│ 1-0 ┆     ┆     ┆     ┆     ┆     ┆     ┆     ┆     ┆     ┆     ┆     ┆     ┆     ┆        ┆     │\n",
       "│ 1   ┆     ┆     ┆     ┆     ┆     ┆     ┆     ┆     ┆     ┆     ┆     ┆     ┆     ┆        ┆     │\n",
       "│ 03: ┆     ┆     ┆     ┆     ┆     ┆     ┆     ┆     ┆     ┆     ┆     ┆     ┆     ┆        ┆     │\n",
       "│ 00: ┆     ┆     ┆     ┆     ┆     ┆     ┆     ┆     ┆     ┆     ┆     ┆     ┆     ┆        ┆     │\n",
       "│ 00  ┆     ┆     ┆     ┆     ┆     ┆     ┆     ┆     ┆     ┆     ┆     ┆     ┆     ┆        ┆     │\n",
       "│ 201 ┆ 1   ┆ 0   ┆ 1   ┆ 4   ┆ 0   ┆ 6   ┆ 0   ┆ 1   ┆ 0.2 ┆ 0.2 ┆ 0.7 ┆ 0.0 ┆ 0   ┆ 1      ┆ 1   │\n",
       "│ 1-0 ┆     ┆     ┆     ┆     ┆     ┆     ┆     ┆     ┆ 4   ┆ 879 ┆ 5   ┆     ┆     ┆        ┆     │\n",
       "│ 1-0 ┆     ┆     ┆     ┆     ┆     ┆     ┆     ┆     ┆     ┆     ┆     ┆     ┆     ┆        ┆     │\n",
       "│ 1   ┆     ┆     ┆     ┆     ┆     ┆     ┆     ┆     ┆     ┆     ┆     ┆     ┆     ┆        ┆     │\n",
       "│ 04: ┆     ┆     ┆     ┆     ┆     ┆     ┆     ┆     ┆     ┆     ┆     ┆     ┆     ┆        ┆     │\n",
       "│ 00: ┆     ┆     ┆     ┆     ┆     ┆     ┆     ┆     ┆     ┆     ┆     ┆     ┆     ┆        ┆     │\n",
       "│ 00  ┆     ┆     ┆     ┆     ┆     ┆     ┆     ┆     ┆     ┆     ┆     ┆     ┆     ┆        ┆     │\n",
       "└─────┴─────┴─────┴─────┴─────┴─────┴─────┴─────┴─────┴─────┴─────┴─────┴─────┴─────┴────────┴─────┘"
      ]
     },
     "execution_count": 7,
     "metadata": {},
     "output_type": "execute_result"
    }
   ],
   "source": [
    "data.head()"
   ]
  },
  {
   "cell_type": "markdown",
   "id": "436b0cf9",
   "metadata": {},
   "source": [
    "### Comment\n",
    "\n",
    "- Drop the columns with high cardinality\n",
    "    - `datetime`\n",
    "\n",
    "- Drop irrelevant columns\n",
    "    - `casual` (used to create the target)\n",
    "    - `registered` (used to create the target)\n",
    "    - `atemp` (highly correlated with `temp`) \n",
    "    - `yr` (not relevant)\n"
   ]
  },
  {
   "cell_type": "code",
   "execution_count": null,
   "id": "b17c2d49",
   "metadata": {},
   "outputs": [
    {
     "data": {
      "text/html": [
       "<pre style=\"white-space:pre;overflow-x:auto;line-height:normal;font-family:Menlo,'DejaVu Sans Mono',consolas,'Courier New',monospace\">Numeric:\n",
       "<span style=\"font-weight: bold\">{</span><span style=\"color: #008000; text-decoration-color: #008000\">'column'</span>: <span style=\"color: #008000; text-decoration-color: #008000\">'yr'</span>, <span style=\"color: #008000; text-decoration-color: #008000\">'mean'</span>: <span style=\"color: #008080; text-decoration-color: #008080; font-weight: bold\">0.38</span>, <span style=\"color: #008000; text-decoration-color: #008000\">'median'</span>: <span style=\"color: #008080; text-decoration-color: #008080; font-weight: bold\">0.0</span>, <span style=\"color: #008000; text-decoration-color: #008000\">'mode'</span>: <span style=\"font-weight: bold\">[</span><span style=\"color: #008080; text-decoration-color: #008080; font-weight: bold\">0</span><span style=\"font-weight: bold\">]</span>, <span style=\"color: #008000; text-decoration-color: #008000\">'std'</span>: <span style=\"color: #008080; text-decoration-color: #008080; font-weight: bold\">0.48</span>, <span style=\"color: #008000; text-decoration-color: #008000\">'variance'</span>: <span style=\"color: #008080; text-decoration-color: #008080; font-weight: bold\">0.24</span>, <span style=\"color: #008000; text-decoration-color: #008000\">'range'</span>: <span style=\"color: #008080; text-decoration-color: #008080; font-weight: bold\">1</span>, <span style=\"color: #008000; text-decoration-color: #008000\">'min'</span>: <span style=\"color: #008080; text-decoration-color: #008080; font-weight: bold\">0</span>, \n",
       "<span style=\"color: #008000; text-decoration-color: #008000\">'max'</span>: <span style=\"color: #008080; text-decoration-color: #008080; font-weight: bold\">1</span>, <span style=\"color: #008000; text-decoration-color: #008000\">'count'</span>: <span style=\"color: #008080; text-decoration-color: #008080; font-weight: bold\">13903</span>, <span style=\"color: #008000; text-decoration-color: #008000\">'missing_values'</span>: <span style=\"color: #008080; text-decoration-color: #008080; font-weight: bold\">0</span>, <span style=\"color: #008000; text-decoration-color: #008000\">'missing_pct'</span>: <span style=\"color: #008080; text-decoration-color: #008080; font-weight: bold\">0.0</span>, <span style=\"color: #008000; text-decoration-color: #008000\">'unique_values'</span>: <span style=\"color: #008080; text-decoration-color: #008080; font-weight: bold\">2</span><span style=\"font-weight: bold\">}</span>\n",
       "\n",
       "<span style=\"font-weight: bold\">{</span><span style=\"color: #008000; text-decoration-color: #008000\">'column'</span>: <span style=\"color: #008000; text-decoration-color: #008000\">'atemp'</span>, <span style=\"color: #008000; text-decoration-color: #008000\">'mean'</span>: <span style=\"color: #008080; text-decoration-color: #008080; font-weight: bold\">0.48</span>, <span style=\"color: #008000; text-decoration-color: #008000\">'median'</span>: <span style=\"color: #008080; text-decoration-color: #008080; font-weight: bold\">0.48</span>, <span style=\"color: #008000; text-decoration-color: #008000\">'mode'</span>: <span style=\"font-weight: bold\">[</span><span style=\"color: #008080; text-decoration-color: #008080; font-weight: bold\">0.6212</span><span style=\"font-weight: bold\">]</span>, <span style=\"color: #008000; text-decoration-color: #008000\">'std'</span>: <span style=\"color: #008080; text-decoration-color: #008080; font-weight: bold\">0.18</span>, <span style=\"color: #008000; text-decoration-color: #008000\">'variance'</span>: <span style=\"color: #008080; text-decoration-color: #008080; font-weight: bold\">0.03</span>, <span style=\"color: #008000; text-decoration-color: #008000\">'range'</span>: <span style=\"color: #008080; text-decoration-color: #008080; font-weight: bold\">1.0</span>, \n",
       "<span style=\"color: #008000; text-decoration-color: #008000\">'min'</span>: <span style=\"color: #008080; text-decoration-color: #008080; font-weight: bold\">0.0</span>, <span style=\"color: #008000; text-decoration-color: #008000\">'max'</span>: <span style=\"color: #008080; text-decoration-color: #008080; font-weight: bold\">1.0</span>, <span style=\"color: #008000; text-decoration-color: #008000\">'count'</span>: <span style=\"color: #008080; text-decoration-color: #008080; font-weight: bold\">13903</span>, <span style=\"color: #008000; text-decoration-color: #008000\">'missing_values'</span>: <span style=\"color: #008080; text-decoration-color: #008080; font-weight: bold\">0</span>, <span style=\"color: #008000; text-decoration-color: #008000\">'missing_pct'</span>: <span style=\"color: #008080; text-decoration-color: #008080; font-weight: bold\">0.0</span>, <span style=\"color: #008000; text-decoration-color: #008000\">'unique_values'</span>: <span style=\"color: #008080; text-decoration-color: #008080; font-weight: bold\">65</span><span style=\"font-weight: bold\">}</span>\n",
       "\n",
       "<span style=\"font-weight: bold\">{</span><span style=\"color: #008000; text-decoration-color: #008000\">'column'</span>: <span style=\"color: #008000; text-decoration-color: #008000\">'registered'</span>, <span style=\"color: #008000; text-decoration-color: #008000\">'mean'</span>: <span style=\"color: #008080; text-decoration-color: #008080; font-weight: bold\">140.6</span>, <span style=\"color: #008000; text-decoration-color: #008000\">'median'</span>: <span style=\"color: #008080; text-decoration-color: #008080; font-weight: bold\">107.0</span>, <span style=\"color: #008000; text-decoration-color: #008000\">'mode'</span>: <span style=\"font-weight: bold\">[</span><span style=\"color: #008080; text-decoration-color: #008080; font-weight: bold\">4</span><span style=\"font-weight: bold\">]</span>, <span style=\"color: #008000; text-decoration-color: #008000\">'std'</span>: <span style=\"color: #008080; text-decoration-color: #008080; font-weight: bold\">137.51</span>, <span style=\"color: #008000; text-decoration-color: #008000\">'variance'</span>: <span style=\"color: #008080; text-decoration-color: #008080; font-weight: bold\">18909.65</span>, <span style=\"color: #008000; text-decoration-color: #008000\">'range'</span>:\n",
       "<span style=\"color: #008080; text-decoration-color: #008080; font-weight: bold\">796</span>, <span style=\"color: #008000; text-decoration-color: #008000\">'min'</span>: <span style=\"color: #008080; text-decoration-color: #008080; font-weight: bold\">0</span>, <span style=\"color: #008000; text-decoration-color: #008000\">'max'</span>: <span style=\"color: #008080; text-decoration-color: #008080; font-weight: bold\">796</span>, <span style=\"color: #008000; text-decoration-color: #008000\">'count'</span>: <span style=\"color: #008080; text-decoration-color: #008080; font-weight: bold\">13903</span>, <span style=\"color: #008000; text-decoration-color: #008000\">'missing_values'</span>: <span style=\"color: #008080; text-decoration-color: #008080; font-weight: bold\">0</span>, <span style=\"color: #008000; text-decoration-color: #008000\">'missing_pct'</span>: <span style=\"color: #008080; text-decoration-color: #008080; font-weight: bold\">0.0</span>, <span style=\"color: #008000; text-decoration-color: #008000\">'unique_values'</span>: <span style=\"color: #008080; text-decoration-color: #008080; font-weight: bold\">701</span><span style=\"font-weight: bold\">}</span>\n",
       "\n",
       "<span style=\"font-weight: bold\">{</span><span style=\"color: #008000; text-decoration-color: #008000\">'column'</span>: <span style=\"color: #008000; text-decoration-color: #008000\">'cnt'</span>, <span style=\"color: #008000; text-decoration-color: #008000\">'mean'</span>: <span style=\"color: #008080; text-decoration-color: #008080; font-weight: bold\">174.64</span>, <span style=\"color: #008000; text-decoration-color: #008000\">'median'</span>: <span style=\"color: #008080; text-decoration-color: #008080; font-weight: bold\">130.0</span>, <span style=\"color: #008000; text-decoration-color: #008000\">'mode'</span>: <span style=\"font-weight: bold\">[</span><span style=\"color: #008080; text-decoration-color: #008080; font-weight: bold\">5</span><span style=\"font-weight: bold\">]</span>, <span style=\"color: #008000; text-decoration-color: #008000\">'std'</span>: <span style=\"color: #008080; text-decoration-color: #008080; font-weight: bold\">166.96</span>, <span style=\"color: #008000; text-decoration-color: #008000\">'variance'</span>: <span style=\"color: #008080; text-decoration-color: #008080; font-weight: bold\">27874.11</span>, <span style=\"color: #008000; text-decoration-color: #008000\">'range'</span>: <span style=\"color: #008080; text-decoration-color: #008080; font-weight: bold\">956</span>, \n",
       "<span style=\"color: #008000; text-decoration-color: #008000\">'min'</span>: <span style=\"color: #008080; text-decoration-color: #008080; font-weight: bold\">1</span>, <span style=\"color: #008000; text-decoration-color: #008000\">'max'</span>: <span style=\"color: #008080; text-decoration-color: #008080; font-weight: bold\">957</span>, <span style=\"color: #008000; text-decoration-color: #008000\">'count'</span>: <span style=\"color: #008080; text-decoration-color: #008080; font-weight: bold\">13903</span>, <span style=\"color: #008000; text-decoration-color: #008000\">'missing_values'</span>: <span style=\"color: #008080; text-decoration-color: #008080; font-weight: bold\">0</span>, <span style=\"color: #008000; text-decoration-color: #008000\">'missing_pct'</span>: <span style=\"color: #008080; text-decoration-color: #008080; font-weight: bold\">0.0</span>, <span style=\"color: #008000; text-decoration-color: #008000\">'unique_values'</span>: <span style=\"color: #008080; text-decoration-color: #008080; font-weight: bold\">789</span><span style=\"font-weight: bold\">}</span>\n",
       "\n",
       "Categorical: \n",
       "<span style=\"font-weight: bold\">{</span><span style=\"color: #008000; text-decoration-color: #008000\">'column'</span>: <span style=\"color: #008000; text-decoration-color: #008000\">'datetime'</span>, <span style=\"color: #008000; text-decoration-color: #008000\">'total_count'</span>: <span style=\"color: #008080; text-decoration-color: #008080; font-weight: bold\">13903</span>, <span style=\"color: #008000; text-decoration-color: #008000\">'unique_values'</span>: <span style=\"color: #008080; text-decoration-color: #008080; font-weight: bold\">13903</span>, <span style=\"color: #008000; text-decoration-color: #008000\">'value_counts'</span>: <span style=\"font-weight: bold\">[[</span><span style=\"color: #008000; text-decoration-color: #008000\">'2011-01-01 00:00:00'</span>, <span style=\"color: #008080; text-decoration-color: #008080; font-weight: bold\">1</span><span style=\"font-weight: bold\">]</span>, \n",
       "<span style=\"font-weight: bold\">[</span><span style=\"color: #008000; text-decoration-color: #008000\">'2011-01-01 01:00:00'</span>, <span style=\"color: #008080; text-decoration-color: #008080; font-weight: bold\">1</span><span style=\"font-weight: bold\">]</span>, <span style=\"font-weight: bold\">[</span><span style=\"color: #008000; text-decoration-color: #008000\">'2011-01-01 02:00:00'</span>, <span style=\"color: #008080; text-decoration-color: #008080; font-weight: bold\">1</span><span style=\"font-weight: bold\">]</span>, <span style=\"font-weight: bold\">[</span><span style=\"color: #008000; text-decoration-color: #008000\">'2011-01-01 03:00:00'</span>, <span style=\"color: #008080; text-decoration-color: #008080; font-weight: bold\">1</span><span style=\"font-weight: bold\">]</span>, <span style=\"font-weight: bold\">[</span><span style=\"color: #008000; text-decoration-color: #008000\">'2011-01-01 04:00:00'</span>, <span style=\"color: #008080; text-decoration-color: #008080; font-weight: bold\">1</span><span style=\"font-weight: bold\">]</span>, \n",
       "<span style=\"font-weight: bold\">[</span><span style=\"color: #008000; text-decoration-color: #008000\">'2011-01-01 05:00:00'</span>, <span style=\"color: #008080; text-decoration-color: #008080; font-weight: bold\">1</span><span style=\"font-weight: bold\">]</span>, <span style=\"font-weight: bold\">[</span><span style=\"color: #008000; text-decoration-color: #008000\">'2011-01-01 06:00:00'</span>, <span style=\"color: #008080; text-decoration-color: #008080; font-weight: bold\">1</span><span style=\"font-weight: bold\">]</span>, <span style=\"font-weight: bold\">[</span><span style=\"color: #008000; text-decoration-color: #008000\">'2011-01-01 07:00:00'</span>, <span style=\"color: #008080; text-decoration-color: #008080; font-weight: bold\">1</span><span style=\"font-weight: bold\">]</span>, <span style=\"font-weight: bold\">[</span><span style=\"color: #008000; text-decoration-color: #008000\">'2011-01-01 08:00:00'</span>, <span style=\"color: #008080; text-decoration-color: #008080; font-weight: bold\">1</span><span style=\"font-weight: bold\">]</span>, \n",
       "<span style=\"font-weight: bold\">[</span><span style=\"color: #008000; text-decoration-color: #008000\">'2011-01-01 09:00:00'</span>, <span style=\"color: #008080; text-decoration-color: #008080; font-weight: bold\">1</span><span style=\"font-weight: bold\">]]</span>, <span style=\"color: #008000; text-decoration-color: #008000\">'missing_values'</span>: <span style=\"color: #008080; text-decoration-color: #008080; font-weight: bold\">0</span>, <span style=\"color: #008000; text-decoration-color: #008000\">'missing_pct'</span>: <span style=\"color: #008080; text-decoration-color: #008080; font-weight: bold\">0.0</span><span style=\"font-weight: bold\">}</span>\n",
       "</pre>\n"
      ],
      "text/plain": [
       "Numeric:\n",
       "\u001b[1m{\u001b[0m\u001b[32m'column'\u001b[0m: \u001b[32m'yr'\u001b[0m, \u001b[32m'mean'\u001b[0m: \u001b[1;36m0.38\u001b[0m, \u001b[32m'median'\u001b[0m: \u001b[1;36m0.0\u001b[0m, \u001b[32m'mode'\u001b[0m: \u001b[1m[\u001b[0m\u001b[1;36m0\u001b[0m\u001b[1m]\u001b[0m, \u001b[32m'std'\u001b[0m: \u001b[1;36m0.48\u001b[0m, \u001b[32m'variance'\u001b[0m: \u001b[1;36m0.24\u001b[0m, \u001b[32m'range'\u001b[0m: \u001b[1;36m1\u001b[0m, \u001b[32m'min'\u001b[0m: \u001b[1;36m0\u001b[0m, \n",
       "\u001b[32m'max'\u001b[0m: \u001b[1;36m1\u001b[0m, \u001b[32m'count'\u001b[0m: \u001b[1;36m13903\u001b[0m, \u001b[32m'missing_values'\u001b[0m: \u001b[1;36m0\u001b[0m, \u001b[32m'missing_pct'\u001b[0m: \u001b[1;36m0.0\u001b[0m, \u001b[32m'unique_values'\u001b[0m: \u001b[1;36m2\u001b[0m\u001b[1m}\u001b[0m\n",
       "\n",
       "\u001b[1m{\u001b[0m\u001b[32m'column'\u001b[0m: \u001b[32m'atemp'\u001b[0m, \u001b[32m'mean'\u001b[0m: \u001b[1;36m0.48\u001b[0m, \u001b[32m'median'\u001b[0m: \u001b[1;36m0.48\u001b[0m, \u001b[32m'mode'\u001b[0m: \u001b[1m[\u001b[0m\u001b[1;36m0.6212\u001b[0m\u001b[1m]\u001b[0m, \u001b[32m'std'\u001b[0m: \u001b[1;36m0.18\u001b[0m, \u001b[32m'variance'\u001b[0m: \u001b[1;36m0.03\u001b[0m, \u001b[32m'range'\u001b[0m: \u001b[1;36m1.0\u001b[0m, \n",
       "\u001b[32m'min'\u001b[0m: \u001b[1;36m0.0\u001b[0m, \u001b[32m'max'\u001b[0m: \u001b[1;36m1.0\u001b[0m, \u001b[32m'count'\u001b[0m: \u001b[1;36m13903\u001b[0m, \u001b[32m'missing_values'\u001b[0m: \u001b[1;36m0\u001b[0m, \u001b[32m'missing_pct'\u001b[0m: \u001b[1;36m0.0\u001b[0m, \u001b[32m'unique_values'\u001b[0m: \u001b[1;36m65\u001b[0m\u001b[1m}\u001b[0m\n",
       "\n",
       "\u001b[1m{\u001b[0m\u001b[32m'column'\u001b[0m: \u001b[32m'registered'\u001b[0m, \u001b[32m'mean'\u001b[0m: \u001b[1;36m140.6\u001b[0m, \u001b[32m'median'\u001b[0m: \u001b[1;36m107.0\u001b[0m, \u001b[32m'mode'\u001b[0m: \u001b[1m[\u001b[0m\u001b[1;36m4\u001b[0m\u001b[1m]\u001b[0m, \u001b[32m'std'\u001b[0m: \u001b[1;36m137.51\u001b[0m, \u001b[32m'variance'\u001b[0m: \u001b[1;36m18909.65\u001b[0m, \u001b[32m'range'\u001b[0m:\n",
       "\u001b[1;36m796\u001b[0m, \u001b[32m'min'\u001b[0m: \u001b[1;36m0\u001b[0m, \u001b[32m'max'\u001b[0m: \u001b[1;36m796\u001b[0m, \u001b[32m'count'\u001b[0m: \u001b[1;36m13903\u001b[0m, \u001b[32m'missing_values'\u001b[0m: \u001b[1;36m0\u001b[0m, \u001b[32m'missing_pct'\u001b[0m: \u001b[1;36m0.0\u001b[0m, \u001b[32m'unique_values'\u001b[0m: \u001b[1;36m701\u001b[0m\u001b[1m}\u001b[0m\n",
       "\n",
       "\u001b[1m{\u001b[0m\u001b[32m'column'\u001b[0m: \u001b[32m'cnt'\u001b[0m, \u001b[32m'mean'\u001b[0m: \u001b[1;36m174.64\u001b[0m, \u001b[32m'median'\u001b[0m: \u001b[1;36m130.0\u001b[0m, \u001b[32m'mode'\u001b[0m: \u001b[1m[\u001b[0m\u001b[1;36m5\u001b[0m\u001b[1m]\u001b[0m, \u001b[32m'std'\u001b[0m: \u001b[1;36m166.96\u001b[0m, \u001b[32m'variance'\u001b[0m: \u001b[1;36m27874.11\u001b[0m, \u001b[32m'range'\u001b[0m: \u001b[1;36m956\u001b[0m, \n",
       "\u001b[32m'min'\u001b[0m: \u001b[1;36m1\u001b[0m, \u001b[32m'max'\u001b[0m: \u001b[1;36m957\u001b[0m, \u001b[32m'count'\u001b[0m: \u001b[1;36m13903\u001b[0m, \u001b[32m'missing_values'\u001b[0m: \u001b[1;36m0\u001b[0m, \u001b[32m'missing_pct'\u001b[0m: \u001b[1;36m0.0\u001b[0m, \u001b[32m'unique_values'\u001b[0m: \u001b[1;36m789\u001b[0m\u001b[1m}\u001b[0m\n",
       "\n",
       "Categorical: \n",
       "\u001b[1m{\u001b[0m\u001b[32m'column'\u001b[0m: \u001b[32m'datetime'\u001b[0m, \u001b[32m'total_count'\u001b[0m: \u001b[1;36m13903\u001b[0m, \u001b[32m'unique_values'\u001b[0m: \u001b[1;36m13903\u001b[0m, \u001b[32m'value_counts'\u001b[0m: \u001b[1m[\u001b[0m\u001b[1m[\u001b[0m\u001b[32m'2011-01-01 00:00:00'\u001b[0m, \u001b[1;36m1\u001b[0m\u001b[1m]\u001b[0m, \n",
       "\u001b[1m[\u001b[0m\u001b[32m'2011-01-01 01:00:00'\u001b[0m, \u001b[1;36m1\u001b[0m\u001b[1m]\u001b[0m, \u001b[1m[\u001b[0m\u001b[32m'2011-01-01 02:00:00'\u001b[0m, \u001b[1;36m1\u001b[0m\u001b[1m]\u001b[0m, \u001b[1m[\u001b[0m\u001b[32m'2011-01-01 03:00:00'\u001b[0m, \u001b[1;36m1\u001b[0m\u001b[1m]\u001b[0m, \u001b[1m[\u001b[0m\u001b[32m'2011-01-01 04:00:00'\u001b[0m, \u001b[1;36m1\u001b[0m\u001b[1m]\u001b[0m, \n",
       "\u001b[1m[\u001b[0m\u001b[32m'2011-01-01 05:00:00'\u001b[0m, \u001b[1;36m1\u001b[0m\u001b[1m]\u001b[0m, \u001b[1m[\u001b[0m\u001b[32m'2011-01-01 06:00:00'\u001b[0m, \u001b[1;36m1\u001b[0m\u001b[1m]\u001b[0m, \u001b[1m[\u001b[0m\u001b[32m'2011-01-01 07:00:00'\u001b[0m, \u001b[1;36m1\u001b[0m\u001b[1m]\u001b[0m, \u001b[1m[\u001b[0m\u001b[32m'2011-01-01 08:00:00'\u001b[0m, \u001b[1;36m1\u001b[0m\u001b[1m]\u001b[0m, \n",
       "\u001b[1m[\u001b[0m\u001b[32m'2011-01-01 09:00:00'\u001b[0m, \u001b[1;36m1\u001b[0m\u001b[1m]\u001b[0m\u001b[1m]\u001b[0m, \u001b[32m'missing_values'\u001b[0m: \u001b[1;36m0\u001b[0m, \u001b[32m'missing_pct'\u001b[0m: \u001b[1;36m0.0\u001b[0m\u001b[1m}\u001b[0m\n"
      ]
     },
     "metadata": {},
     "output_type": "display_data"
    }
   ],
   "source": [
    "year: dict[str, Any] = data_report.get(\"summary_statistics\").get(\"numeric\")[1]\n",
    "atemp: dict[str, Any] = data_report.get(\"summary_statistics\").get(\"numeric\")[9]\n",
    "casual: dict[str, Any] = data_report.get(\"summary_statistics\").get(\"numeric\")[-2]\n",
    "registered: dict[str, Any] = data_report.get(\"summary_statistics\").get(\"numeric\")[-1]\n",
    "datetime: dict[str, Any] = data_report.get(\"summary_statistics\").get(\"categorical\")[0]\n",
    "\n",
    "console.print(\n",
    "    f\"Numeric:\\n{year}\\n\\n{atemp}\\n\\n{casual}\\n\\n{registered}\\n\\nCategorical: \\n{datetime}\"\n",
    ")"
   ]
  },
  {
   "cell_type": "code",
   "execution_count": 9,
   "id": "8edb47106e1a46a883d545849b8ab81b",
   "metadata": {},
   "outputs": [
    {
     "data": {
      "text/html": [
       "<div><style>\n",
       ".dataframe > thead > tr,\n",
       ".dataframe > tbody > tr {\n",
       "  text-align: right;\n",
       "  white-space: pre-wrap;\n",
       "}\n",
       "</style>\n",
       "<small>shape: (3, 11)</small><table border=\"1\" class=\"dataframe\"><thead><tr><th>season</th><th>mnth</th><th>hr</th><th>holiday</th><th>weekday</th><th>workingday</th><th>weathersit</th><th>temp</th><th>hum</th><th>windspeed</th><th>cnt</th></tr><tr><td>i64</td><td>i64</td><td>i64</td><td>i64</td><td>i64</td><td>i64</td><td>i64</td><td>f64</td><td>f64</td><td>f64</td><td>i64</td></tr></thead><tbody><tr><td>1</td><td>1</td><td>0</td><td>0</td><td>6</td><td>0</td><td>1</td><td>0.24</td><td>0.81</td><td>0.0</td><td>16</td></tr><tr><td>1</td><td>1</td><td>1</td><td>0</td><td>6</td><td>0</td><td>1</td><td>0.22</td><td>0.8</td><td>0.0</td><td>40</td></tr><tr><td>1</td><td>1</td><td>2</td><td>0</td><td>6</td><td>0</td><td>1</td><td>0.22</td><td>0.8</td><td>0.0</td><td>32</td></tr></tbody></table></div>"
      ],
      "text/plain": [
       "shape: (3, 11)\n",
       "┌────────┬──────┬─────┬─────────┬─────────┬────────────┬───────────┬──────┬──────┬───────────┬─────┐\n",
       "│ season ┆ mnth ┆ hr  ┆ holiday ┆ weekday ┆ workingday ┆ weathersi ┆ temp ┆ hum  ┆ windspeed ┆ cnt │\n",
       "│ ---    ┆ ---  ┆ --- ┆ ---     ┆ ---     ┆ ---        ┆ t         ┆ ---  ┆ ---  ┆ ---       ┆ --- │\n",
       "│ i64    ┆ i64  ┆ i64 ┆ i64     ┆ i64     ┆ i64        ┆ ---       ┆ f64  ┆ f64  ┆ f64       ┆ i64 │\n",
       "│        ┆      ┆     ┆         ┆         ┆            ┆ i64       ┆      ┆      ┆           ┆     │\n",
       "╞════════╪══════╪═════╪═════════╪═════════╪════════════╪═══════════╪══════╪══════╪═══════════╪═════╡\n",
       "│ 1      ┆ 1    ┆ 0   ┆ 0       ┆ 6       ┆ 0          ┆ 1         ┆ 0.24 ┆ 0.81 ┆ 0.0       ┆ 16  │\n",
       "│ 1      ┆ 1    ┆ 1   ┆ 0       ┆ 6       ┆ 0          ┆ 1         ┆ 0.22 ┆ 0.8  ┆ 0.0       ┆ 40  │\n",
       "│ 1      ┆ 1    ┆ 2   ┆ 0       ┆ 6       ┆ 0          ┆ 1         ┆ 0.22 ┆ 0.8  ┆ 0.0       ┆ 32  │\n",
       "└────────┴──────┴─────┴─────────┴─────────┴────────────┴───────────┴──────┴──────┴───────────┴─────┘"
      ]
     },
     "execution_count": 9,
     "metadata": {},
     "output_type": "execute_result"
    }
   ],
   "source": [
    "columns_to_drop: list[str] = [\"yr\", \"atemp\", \"casual\", \"registered\", \"datetime\"]\n",
    "df: pl.DataFrame = data.clone().drop(columns_to_drop)\n",
    "\n",
    "df.head(3)"
   ]
  },
  {
   "cell_type": "code",
   "execution_count": 10,
   "id": "e38d823f",
   "metadata": {},
   "outputs": [
    {
     "data": {
      "text/plain": [
       "((12512, 11), (1391, 11))"
      ]
     },
     "execution_count": 10,
     "metadata": {},
     "output_type": "execute_result"
    }
   ],
   "source": [
    "# Since we want to maintain the temporal order, we'll\n",
    "# use a custom function for splitting the data\n",
    "\n",
    "# it's assumed the data has been sorted in ascending order of time\n",
    "# get the train, val, test ratios\n",
    "# -10% of the training data is used for validation\n",
    "train_size: float = 0.9\n",
    "data_array: np.ndarray = df.to_numpy()\n",
    "train_array: np.ndarray = data_array[: int(train_size * data_array.shape[0])]\n",
    "test_array: np.ndarray = data_array[train_array.shape[0] :]\n",
    "\n",
    "train_array.shape, test_array.shape\n",
    "# convert the ratios to int values and select a slice of the data corresponding to the ratio"
   ]
  },
  {
   "cell_type": "code",
   "execution_count": null,
   "id": "7cfbd853",
   "metadata": {},
   "outputs": [],
   "source": [
    "from sklearn.metrics._regression import mean_absolute_error, root_mean_squared_error\n",
    "\n",
    "\n",
    "def split_temporal_data(\n",
    "    data: pl.DataFrame, test_size: float = 0.2\n",
    ") -> tuple[pl.DataFrame, pl.DataFrame]:\n",
    "    \"\"\"Split data into training and testing sets while maintaining temporal order.\"\"\"\n",
    "    feature_names: list[str] = data.columns\n",
    "    data_array: np.ndarray = data.to_numpy()\n",
    "    train_size: float = int((1 - test_size) * data_array.shape[0])\n",
    "\n",
    "    train_array: np.ndarray = data_array[:train_size]\n",
    "    test_array: np.ndarray = data_array[train_size:]\n",
    "\n",
    "    return pl.DataFrame(train_array, schema=feature_names), pl.DataFrame(\n",
    "        test_array, schema=feature_names\n",
    "    )\n",
    "\n",
    "\n",
    "def compute_metrics(\n",
    "    y_true: np.ndarray | list, y_pred: np.ndarray | list\n",
    ") -> dict[str, float]:\n",
    "    \"\"\"\n",
    "    Compute evaluation metrics between true and predicted values.\n",
    "\n",
    "    Metrics returned:\n",
    "    - MAPE: Mean Absolute Percentage Error (in %)\n",
    "    - MAE: Mean Absolute Error\n",
    "    - RMSE: Root Mean Squared Error\n",
    "\n",
    "    Parameters:\n",
    "    ----------\n",
    "    y_true : array-like\n",
    "        Ground truth values.\n",
    "    y_pred : array-like\n",
    "        Predicted values.\n",
    "\n",
    "    Returns:\n",
    "    -------\n",
    "    dict\n",
    "        Dictionary with keys 'MAPE', 'MAE', and 'RMSE' and their float values.\n",
    "    \"\"\"\n",
    "    mae = mean_absolute_error(y_true, y_pred)\n",
    "    rmse = root_mean_squared_error(y_true, y_pred)\n",
    "\n",
    "    y_true = np.array(y_true)\n",
    "    y_pred = np.array(y_pred)\n",
    "\n",
    "    mape: float = (\n",
    "        np.mean(np.abs((y_true - y_pred) / np.where(y_true == 0, 0.01, y_true))) * 100\n",
    "    ).item()\n",
    "\n",
    "    return {\n",
    "        \"MAE\": round(mae, 2),\n",
    "        \"RMSE\": round(rmse, 2),\n",
    "        \"MAPE\": round(mape, 2),\n",
    "    }"
   ]
  },
  {
   "cell_type": "markdown",
   "id": "f62ae101",
   "metadata": {},
   "source": [
    "### Target Definition\n",
    "\n",
    "- We'll use the next hour `cnt` as the target variable to predict bike rentals.\n",
    "- This is because bike rental services typically operate on an hourly basis, and predicting the next hour's demand can help in resource allocation and planning.\n",
    "- We'll shift the `cnt` column by one hour to create the target variable, ensuring that our model learns to predict future demand based on current and past data.\n",
    "- i.e. `df[\"target\"] = df[\"cnt\"].shift(-1)` if `cnt`=[5, 10, 15, 20] then `target`=[10, 15, 20, NaN]\n",
    "  - i.e. instead of predicting the current hour's demand, we are training the model to predict the demand for the next hour based on the current and past data."
   ]
  },
  {
   "cell_type": "code",
   "execution_count": null,
   "id": "4b2b4b3b",
   "metadata": {},
   "outputs": [
    {
     "data": {
      "text/html": [
       "<div><style>\n",
       ".dataframe > thead > tr,\n",
       ".dataframe > tbody > tr {\n",
       "  text-align: right;\n",
       "  white-space: pre-wrap;\n",
       "}\n",
       "</style>\n",
       "<small>shape: (1, 12)</small><table border=\"1\" class=\"dataframe\"><thead><tr><th>season</th><th>mnth</th><th>hr</th><th>holiday</th><th>weekday</th><th>workingday</th><th>weathersit</th><th>temp</th><th>hum</th><th>windspeed</th><th>cnt</th><th>target</th></tr><tr><td>u32</td><td>u32</td><td>u32</td><td>u32</td><td>u32</td><td>u32</td><td>u32</td><td>u32</td><td>u32</td><td>u32</td><td>u32</td><td>u32</td></tr></thead><tbody><tr><td>0</td><td>0</td><td>0</td><td>0</td><td>0</td><td>0</td><td>0</td><td>0</td><td>0</td><td>0</td><td>0</td><td>0</td></tr></tbody></table></div>"
      ],
      "text/plain": [
       "shape: (1, 12)\n",
       "┌────────┬──────┬─────┬─────────┬─────────┬─────────┬─────────┬──────┬─────┬────────┬─────┬────────┐\n",
       "│ season ┆ mnth ┆ hr  ┆ holiday ┆ weekday ┆ working ┆ weather ┆ temp ┆ hum ┆ windsp ┆ cnt ┆ target │\n",
       "│ ---    ┆ ---  ┆ --- ┆ ---     ┆ ---     ┆ day     ┆ sit     ┆ ---  ┆ --- ┆ eed    ┆ --- ┆ ---    │\n",
       "│ u32    ┆ u32  ┆ u32 ┆ u32     ┆ u32     ┆ ---     ┆ ---     ┆ u32  ┆ u32 ┆ ---    ┆ u32 ┆ u32    │\n",
       "│        ┆      ┆     ┆         ┆         ┆ u32     ┆ u32     ┆      ┆     ┆ u32    ┆     ┆        │\n",
       "╞════════╪══════╪═════╪═════════╪═════════╪═════════╪═════════╪══════╪═════╪════════╪═════╪════════╡\n",
       "│ 0      ┆ 0    ┆ 0   ┆ 0       ┆ 0       ┆ 0       ┆ 0       ┆ 0    ┆ 0   ┆ 0      ┆ 0   ┆ 0      │\n",
       "└────────┴──────┴─────┴─────────┴─────────┴─────────┴─────────┴──────┴─────┴────────┴─────┴────────┘"
      ]
     },
     "metadata": {},
     "output_type": "display_data"
    },
    {
     "data": {
      "text/html": [
       "<div><style>\n",
       ".dataframe > thead > tr,\n",
       ".dataframe > tbody > tr {\n",
       "  text-align: right;\n",
       "  white-space: pre-wrap;\n",
       "}\n",
       "</style>\n",
       "<small>shape: (3, 12)</small><table border=\"1\" class=\"dataframe\"><thead><tr><th>season</th><th>mnth</th><th>hr</th><th>holiday</th><th>weekday</th><th>workingday</th><th>weathersit</th><th>temp</th><th>hum</th><th>windspeed</th><th>cnt</th><th>target</th></tr><tr><td>i64</td><td>i64</td><td>i64</td><td>i64</td><td>i64</td><td>i64</td><td>i64</td><td>f64</td><td>f64</td><td>f64</td><td>i64</td><td>i64</td></tr></thead><tbody><tr><td>1</td><td>1</td><td>0</td><td>0</td><td>6</td><td>0</td><td>1</td><td>0.24</td><td>0.81</td><td>0.0</td><td>16</td><td>40</td></tr><tr><td>1</td><td>1</td><td>1</td><td>0</td><td>6</td><td>0</td><td>1</td><td>0.22</td><td>0.8</td><td>0.0</td><td>40</td><td>32</td></tr><tr><td>1</td><td>1</td><td>2</td><td>0</td><td>6</td><td>0</td><td>1</td><td>0.22</td><td>0.8</td><td>0.0</td><td>32</td><td>13</td></tr></tbody></table></div>"
      ],
      "text/plain": [
       "shape: (3, 12)\n",
       "┌────────┬──────┬─────┬─────────┬─────────┬─────────┬────────┬──────┬──────┬────────┬─────┬────────┐\n",
       "│ season ┆ mnth ┆ hr  ┆ holiday ┆ weekday ┆ working ┆ weathe ┆ temp ┆ hum  ┆ windsp ┆ cnt ┆ target │\n",
       "│ ---    ┆ ---  ┆ --- ┆ ---     ┆ ---     ┆ day     ┆ rsit   ┆ ---  ┆ ---  ┆ eed    ┆ --- ┆ ---    │\n",
       "│ i64    ┆ i64  ┆ i64 ┆ i64     ┆ i64     ┆ ---     ┆ ---    ┆ f64  ┆ f64  ┆ ---    ┆ i64 ┆ i64    │\n",
       "│        ┆      ┆     ┆         ┆         ┆ i64     ┆ i64    ┆      ┆      ┆ f64    ┆     ┆        │\n",
       "╞════════╪══════╪═════╪═════════╪═════════╪═════════╪════════╪══════╪══════╪════════╪═════╪════════╡\n",
       "│ 1      ┆ 1    ┆ 0   ┆ 0       ┆ 6       ┆ 0       ┆ 1      ┆ 0.24 ┆ 0.81 ┆ 0.0    ┆ 16  ┆ 40     │\n",
       "│ 1      ┆ 1    ┆ 1   ┆ 0       ┆ 6       ┆ 0       ┆ 1      ┆ 0.22 ┆ 0.8  ┆ 0.0    ┆ 40  ┆ 32     │\n",
       "│ 1      ┆ 1    ┆ 2   ┆ 0       ┆ 6       ┆ 0       ┆ 1      ┆ 0.22 ┆ 0.8  ┆ 0.0    ┆ 32  ┆ 13     │\n",
       "└────────┴──────┴─────┴─────────┴─────────┴─────────┴────────┴──────┴──────┴────────┴─────┴────────┘"
      ]
     },
     "execution_count": 12,
     "metadata": {},
     "output_type": "execute_result"
    }
   ],
   "source": [
    "df = df.with_columns(pl.col(\"cnt\").shift(-1).alias(\"target\")).with_columns(\n",
    "    pl.col(\"target\").fill_null(strategy=\"forward\")\n",
    ")\n",
    "display(df.null_count())\n",
    "df.head(3)"
   ]
  },
  {
   "cell_type": "code",
   "execution_count": 13,
   "id": "6d9b5b19",
   "metadata": {},
   "outputs": [
    {
     "data": {
      "text/plain": [
       "((11122, 10), (11122,), (2781, 10), (2781,))"
      ]
     },
     "execution_count": 13,
     "metadata": {},
     "output_type": "execute_result"
    }
   ],
   "source": [
    "df = df.drop(\"cnt\")\n",
    "\n",
    "train_df, test_df = split_temporal_data(df)\n",
    "\n",
    "x_train = train_df.drop(\"target\").to_numpy()\n",
    "y_train = train_df[\"target\"].to_numpy()\n",
    "\n",
    "x_test = test_df.drop(\"target\").to_numpy()\n",
    "y_test = test_df[\"target\"].to_numpy()\n",
    "\n",
    "x_train.shape, y_train.shape, x_test.shape, y_test.shape"
   ]
  },
  {
   "cell_type": "code",
   "execution_count": null,
   "id": "f913bcf2",
   "metadata": {},
   "outputs": [],
   "source": []
  },
  {
   "cell_type": "markdown",
   "id": "0ca48ef3",
   "metadata": {},
   "source": [
    "<br>\n",
    "\n",
    "# Baseline Model\n",
    "\n",
    "- Create a simple and basic ML model to be used as reference.\n",
    "- I used a `RandomForestRegressor` because it requires little tuning."
   ]
  },
  {
   "cell_type": "code",
   "execution_count": 14,
   "id": "58dfe155",
   "metadata": {},
   "outputs": [],
   "source": [
    "from sklearn.ensemble import RandomForestRegressor\n",
    "\n",
    "rf_reg = RandomForestRegressor(random_state=123)\n",
    "rf_reg.fit(x_train, y_train)\n",
    "rf_reg.score(x_test, y_test)\n",
    "\n",
    "y_pred = rf_reg.predict(x_test)"
   ]
  },
  {
   "cell_type": "code",
   "execution_count": 15,
   "id": "ce193524",
   "metadata": {},
   "outputs": [
    {
     "data": {
      "text/plain": [
       "{'MAE': 84.78, 'RMSE': 116.41, 'MAPE': 34.11}"
      ]
     },
     "execution_count": 15,
     "metadata": {},
     "output_type": "execute_result"
    }
   ],
   "source": [
    "metrics_base = compute_metrics(y_test, y_pred)\n",
    "metrics_base"
   ]
  },
  {
   "cell_type": "markdown",
   "id": "86d5b998",
   "metadata": {},
   "source": [
    "### Comment\n",
    "\n",
    "- The model tends to underpredict during most of the high-peak periods.\n",
    "- This suggests that the model is underestimating the number of bike rentals."
   ]
  },
  {
   "cell_type": "code",
   "execution_count": 81,
   "id": "757ab72c",
   "metadata": {},
   "outputs": [],
   "source": [
    "import plotly.graph_objects as go\n",
    "\n",
    "\n",
    "def plot_actual_vs_predicted(\n",
    "    y_true: np.ndarray | list,\n",
    "    y_pred: np.ndarray | list,\n",
    "    n: int = 300,\n",
    "    title: str = \"Actual vs Predicted\",\n",
    ") -> None:\n",
    "    \"\"\"Plot actual vs predicted values using Plotly.\"\"\"\n",
    "\n",
    "    fig = go.Figure()\n",
    "\n",
    "    # Add actual values trace\n",
    "    fig.add_trace(\n",
    "        go.Scatter(\n",
    "            x=list(range(n)),\n",
    "            y=y_true[:n],\n",
    "            mode=\"lines\",\n",
    "            name=\"y_true (Actual)\",\n",
    "            line={\"color\": \"blue\", \"width\": 2},\n",
    "        )\n",
    "    )\n",
    "\n",
    "    # Add predicted values trace\n",
    "    fig.add_trace(\n",
    "        go.Scatter(\n",
    "            x=list(range(n)),\n",
    "            y=y_pred[:n],\n",
    "            mode=\"lines\",\n",
    "            name=\"y_pred (Predicted with Optimized Model)\",\n",
    "            line={\"color\": \"red\", \"width\": 2},\n",
    "        )\n",
    "    )\n",
    "\n",
    "    # Update layout for better visualization\n",
    "    fig.update_layout(\n",
    "        title=title,\n",
    "        xaxis_title=\"Time Steps\",\n",
    "        yaxis_title=\"Bike Rental Count\",\n",
    "        hovermode=\"x unified\",\n",
    "        template=\"plotly_white\",\n",
    "        width=800,\n",
    "        height=500,\n",
    "    )\n",
    "\n",
    "    # Show the interactive plot\n",
    "    fig.show()"
   ]
  },
  {
   "cell_type": "code",
   "execution_count": null,
   "id": "7dd9d494",
   "metadata": {},
   "outputs": [],
   "source": [
    "n: int = 300\n",
    "plot_actual_vs_predicted(\n",
    "    y_true=y_test,\n",
    "    y_pred=y_pred,\n",
    "    n=n,\n",
    "    title=\"Actual vs Predicted Bike Rental Counts (Base Model)\",\n",
    ")"
   ]
  },
  {
   "cell_type": "markdown",
   "id": "10185d26023b46108eb7d9f57d49d2b3",
   "metadata": {},
   "source": [
    "### Dummy Model\n",
    "\n",
    "- Let's create a dummy model that predicts the next hour's bike rentals based on exactly the same hour of the previous day."
   ]
  },
  {
   "cell_type": "code",
   "execution_count": 17,
   "id": "b22321e2",
   "metadata": {},
   "outputs": [
    {
     "data": {
      "text/plain": [
       "array([463., 463., 738., ..., 327., 250., 214.], shape=(2781,))"
      ]
     },
     "execution_count": 17,
     "metadata": {},
     "output_type": "execute_result"
    }
   ],
   "source": [
    "y_dummy = pl.Series(y_test).shift(1).fill_null(strategy=\"backward\").to_numpy()\n",
    "y_dummy"
   ]
  },
  {
   "cell_type": "code",
   "execution_count": 18,
   "id": "d469c703",
   "metadata": {},
   "outputs": [
    {
     "data": {
      "text/html": [
       "<pre style=\"white-space:pre;overflow-x:auto;line-height:normal;font-family:Menlo,'DejaVu Sans Mono',consolas,'Courier New',monospace\"><span style=\"color: #00ff00; text-decoration-color: #00ff00\">Metrics </span><span style=\"color: #00ff00; text-decoration-color: #00ff00; font-weight: bold\">(</span><span style=\"color: #00ff00; text-decoration-color: #00ff00\">Base Model</span><span style=\"color: #00ff00; text-decoration-color: #00ff00; font-weight: bold\">)</span><span style=\"color: #00ff00; text-decoration-color: #00ff00\">: </span><span style=\"color: #00ff00; text-decoration-color: #00ff00; font-weight: bold\">{</span><span style=\"color: #008000; text-decoration-color: #008000\">'MAE'</span><span style=\"color: #00ff00; text-decoration-color: #00ff00\">: </span><span style=\"color: #008080; text-decoration-color: #008080; font-weight: bold\">84.78</span><span style=\"color: #00ff00; text-decoration-color: #00ff00\">, </span><span style=\"color: #008000; text-decoration-color: #008000\">'RMSE'</span><span style=\"color: #00ff00; text-decoration-color: #00ff00\">: </span><span style=\"color: #008080; text-decoration-color: #008080; font-weight: bold\">116.41</span><span style=\"color: #00ff00; text-decoration-color: #00ff00\">, </span><span style=\"color: #008000; text-decoration-color: #008000\">'MAPE'</span><span style=\"color: #00ff00; text-decoration-color: #00ff00\">: </span><span style=\"color: #008080; text-decoration-color: #008080; font-weight: bold\">34.11</span><span style=\"color: #00ff00; text-decoration-color: #00ff00; font-weight: bold\">}</span>\n",
       "</pre>\n"
      ],
      "text/plain": [
       "\u001b[38;2;0;255;0mMetrics \u001b[0m\u001b[1;38;2;0;255;0m(\u001b[0m\u001b[38;2;0;255;0mBase Model\u001b[0m\u001b[1;38;2;0;255;0m)\u001b[0m\u001b[38;2;0;255;0m: \u001b[0m\u001b[1;38;2;0;255;0m{\u001b[0m\u001b[32m'MAE'\u001b[0m\u001b[38;2;0;255;0m: \u001b[0m\u001b[1;36m84.78\u001b[0m\u001b[38;2;0;255;0m, \u001b[0m\u001b[32m'RMSE'\u001b[0m\u001b[38;2;0;255;0m: \u001b[0m\u001b[1;36m116.41\u001b[0m\u001b[38;2;0;255;0m, \u001b[0m\u001b[32m'MAPE'\u001b[0m\u001b[38;2;0;255;0m: \u001b[0m\u001b[1;36m34.11\u001b[0m\u001b[1;38;2;0;255;0m}\u001b[0m\n"
      ]
     },
     "metadata": {},
     "output_type": "display_data"
    },
    {
     "data": {
      "text/html": [
       "<pre style=\"white-space:pre;overflow-x:auto;line-height:normal;font-family:Menlo,'DejaVu Sans Mono',consolas,'Courier New',monospace\"><span style=\"color: #00ff00; text-decoration-color: #00ff00\">Metrics </span><span style=\"color: #00ff00; text-decoration-color: #00ff00; font-weight: bold\">(</span><span style=\"color: #00ff00; text-decoration-color: #00ff00\">Dummy Model</span><span style=\"color: #00ff00; text-decoration-color: #00ff00; font-weight: bold\">)</span><span style=\"color: #00ff00; text-decoration-color: #00ff00\">: </span><span style=\"color: #00ff00; text-decoration-color: #00ff00; font-weight: bold\">{</span><span style=\"color: #008000; text-decoration-color: #008000\">'MAE'</span><span style=\"color: #00ff00; text-decoration-color: #00ff00\">: </span><span style=\"color: #008080; text-decoration-color: #008080; font-weight: bold\">87.01</span><span style=\"color: #00ff00; text-decoration-color: #00ff00\">, </span><span style=\"color: #008000; text-decoration-color: #008000\">'RMSE'</span><span style=\"color: #00ff00; text-decoration-color: #00ff00\">: </span><span style=\"color: #008080; text-decoration-color: #008080; font-weight: bold\">128.17</span><span style=\"color: #00ff00; text-decoration-color: #00ff00\">, </span><span style=\"color: #008000; text-decoration-color: #008000\">'MAPE'</span><span style=\"color: #00ff00; text-decoration-color: #00ff00\">: </span><span style=\"color: #008080; text-decoration-color: #008080; font-weight: bold\">55.4</span><span style=\"color: #00ff00; text-decoration-color: #00ff00; font-weight: bold\">}</span>\n",
       "</pre>\n"
      ],
      "text/plain": [
       "\u001b[38;2;0;255;0mMetrics \u001b[0m\u001b[1;38;2;0;255;0m(\u001b[0m\u001b[38;2;0;255;0mDummy Model\u001b[0m\u001b[1;38;2;0;255;0m)\u001b[0m\u001b[38;2;0;255;0m: \u001b[0m\u001b[1;38;2;0;255;0m{\u001b[0m\u001b[32m'MAE'\u001b[0m\u001b[38;2;0;255;0m: \u001b[0m\u001b[1;36m87.01\u001b[0m\u001b[38;2;0;255;0m, \u001b[0m\u001b[32m'RMSE'\u001b[0m\u001b[38;2;0;255;0m: \u001b[0m\u001b[1;36m128.17\u001b[0m\u001b[38;2;0;255;0m, \u001b[0m\u001b[32m'MAPE'\u001b[0m\u001b[38;2;0;255;0m: \u001b[0m\u001b[1;36m55.4\u001b[0m\u001b[1;38;2;0;255;0m}\u001b[0m\n"
      ]
     },
     "metadata": {},
     "output_type": "display_data"
    }
   ],
   "source": [
    "metrics_dummy: dict[str, float] = compute_metrics(y_test, y_dummy)\n",
    "\n",
    "console.print(f\"Metrics (Base Model): {metrics_base}\", style=\"info\")\n",
    "console.print(f\"Metrics (Dummy Model): {metrics_dummy}\", style=\"info\")"
   ]
  },
  {
   "cell_type": "markdown",
   "id": "c204b8b1",
   "metadata": {},
   "source": [
    "### Comment\n",
    "\n",
    "- The baseline model's performance is not a significant improvement over the dummy model. \n",
    "\n",
    "- While the Mean Absolute Percentage Error (`MAPE`) improved notably, the Mean Absolute Error (`MAE`) and other metrics show little change, suggesting that feature engineering is necessary to improve the model."
   ]
  },
  {
   "cell_type": "code",
   "execution_count": null,
   "id": "fbb52e8e",
   "metadata": {},
   "outputs": [
    {
     "data": {
      "text/html": [
       "<pre style=\"white-space:pre;overflow-x:auto;line-height:normal;font-family:Menlo,'DejaVu Sans Mono',consolas,'Courier New',monospace\"><span style=\"color: #ff4500; text-decoration-color: #ff4500\">MAE Change: </span><span style=\"color: #008080; text-decoration-color: #008080; font-weight: bold\">-2.56</span><span style=\"color: #ff4500; text-decoration-color: #ff4500\">%</span>\n",
       "</pre>\n"
      ],
      "text/plain": [
       "\u001b[38;2;255;69;0mMAE Change: \u001b[0m\u001b[1;36m-2.56\u001b[0m\u001b[38;2;255;69;0m%\u001b[0m\n"
      ]
     },
     "metadata": {},
     "output_type": "display_data"
    },
    {
     "data": {
      "text/html": [
       "<pre style=\"white-space:pre;overflow-x:auto;line-height:normal;font-family:Menlo,'DejaVu Sans Mono',consolas,'Courier New',monospace\"><span style=\"color: #ff4500; text-decoration-color: #ff4500\">RMSE Change: </span><span style=\"color: #008080; text-decoration-color: #008080; font-weight: bold\">-9.18</span><span style=\"color: #ff4500; text-decoration-color: #ff4500\">%</span>\n",
       "</pre>\n"
      ],
      "text/plain": [
       "\u001b[38;2;255;69;0mRMSE Change: \u001b[0m\u001b[1;36m-9.18\u001b[0m\u001b[38;2;255;69;0m%\u001b[0m\n"
      ]
     },
     "metadata": {},
     "output_type": "display_data"
    },
    {
     "data": {
      "text/html": [
       "<pre style=\"white-space:pre;overflow-x:auto;line-height:normal;font-family:Menlo,'DejaVu Sans Mono',consolas,'Courier New',monospace\"><span style=\"color: #ff4500; text-decoration-color: #ff4500\">MAPE Change: </span><span style=\"color: #008080; text-decoration-color: #008080; font-weight: bold\">-38.43</span><span style=\"color: #ff4500; text-decoration-color: #ff4500\">%</span>\n",
       "</pre>\n"
      ],
      "text/plain": [
       "\u001b[38;2;255;69;0mMAPE Change: \u001b[0m\u001b[1;36m-38.43\u001b[0m\u001b[38;2;255;69;0m%\u001b[0m\n"
      ]
     },
     "metadata": {},
     "output_type": "display_data"
    }
   ],
   "source": [
    "def pct_change(old: float, new: float) -> float:\n",
    "    \"\"\"Calculate the percentage change from old to new value.\"\"\"\n",
    "    if old == 0:\n",
    "        return float(\"inf\")  # Avoid division by zero\n",
    "    return ((new - old) / old) * 100\n",
    "\n",
    "\n",
    "mae_base, mae_dummy = metrics_base.get(\"MAE\"), metrics_dummy.get(\"MAE\")\n",
    "rmse_base, rmse_dummy = metrics_base.get(\"RMSE\"), metrics_dummy.get(\"RMSE\")\n",
    "mape_base, mape_dummy = metrics_base.get(\"MAPE\"), metrics_dummy.get(\"MAPE\")\n",
    "\n",
    "console.print(\n",
    "    f\"MAE Change: {pct_change(old=mae_dummy, new=mae_base):.2f}%\", style=\"highlight\"\n",
    ")\n",
    "console.print(\n",
    "    f\"RMSE Change: {pct_change(old=rmse_dummy, new=rmse_base):.2f}%\", style=\"highlight\"\n",
    ")\n",
    "console.print(\n",
    "    f\"MAPE Change: {pct_change(old=mape_dummy, new=mape_base):.2f}%\", style=\"highlight\"\n",
    ")"
   ]
  },
  {
   "cell_type": "code",
   "execution_count": null,
   "id": "fe60c14b",
   "metadata": {},
   "outputs": [],
   "source": []
  },
  {
   "cell_type": "markdown",
   "id": "7ee873cb",
   "metadata": {},
   "source": [
    "# Baseline Model With Lagged Target Features\n",
    "\n",
    "- Lagged features are past values of a time series used to capture autocorrelation (i.e. the relationship between a data point and its previous values). \n",
    "\n",
    "- This is based on the idea that the past influences the future.\n",
    "\n",
    "- By including lagged features, the model gains a historical context that helps it identify:\n",
    "\n",
    "  - `Trends`: Long-term upward or downward movements.\n",
    "\n",
    "  - `Seasonality`: Regular, repeating patterns, such as daily or weekly cycles.\n",
    "\n",
    "  - `Temporal dependencies`: How a value at one time step is directly related to its value at a previous time step."
   ]
  },
  {
   "cell_type": "code",
   "execution_count": 20,
   "id": "b4bad795",
   "metadata": {},
   "outputs": [],
   "source": [
    "import narwhals as nw\n",
    "\n",
    "\n",
    "def _calculate_corr(x: list[float] | np.ndarray, y: list[float] | np.ndarray) -> float:\n",
    "    return np.corrcoef(x, y)[0][1].item()\n",
    "\n",
    "\n",
    "def compute_autocorrelation(series: nw.Series, max_lag: int = 24) -> dict[int, float]:\n",
    "    \"\"\"\n",
    "    Compute autocorrelation for a time series using Polars.\n",
    "\n",
    "    Parameters\n",
    "    ----------\n",
    "    series : pl.Series\n",
    "        The time series data.\n",
    "    max_lag : int, default=24\n",
    "        Maximum lag to compute autocorrelation for.\n",
    "\n",
    "    Returns\n",
    "    -------\n",
    "    dict[int, float]\n",
    "        Dictionary mapping lag to autocorrelation value.\n",
    "    \"\"\"\n",
    "    autocorr_values: dict[int, float] = {}\n",
    "\n",
    "    for lag in range(1, max_lag + 1):\n",
    "        try:\n",
    "            # Create a DataFrame with original and lagged series\n",
    "            df_corr: nw.DataFrame = nw.from_native(\n",
    "                pl.DataFrame({\"original\": series, \"lagged\": series.shift(lag)})\n",
    "            ).drop_nulls()\n",
    "\n",
    "            # Compute correlation if we have sufficient data\n",
    "            if df_corr.shape[0] > 1:\n",
    "                correlation = _calculate_corr(df_corr[\"original\"], df_corr[\"lagged\"])\n",
    "                autocorr_values[lag] = correlation\n",
    "            else:\n",
    "                autocorr_values[lag] = None\n",
    "\n",
    "        except Exception as e:\n",
    "            console.print(f\"Error computing lag {lag}: {e}\", style=\"error\")\n",
    "            autocorr_values[lag] = None\n",
    "\n",
    "    return autocorr_values"
   ]
  },
  {
   "cell_type": "code",
   "execution_count": null,
   "id": "d5e2a4ef",
   "metadata": {},
   "outputs": [
    {
     "data": {
      "text/html": [
       "<pre style=\"white-space:pre;overflow-x:auto;line-height:normal;font-family:Menlo,'DejaVu Sans Mono',consolas,'Courier New',monospace\"><span style=\"color: #00ff00; text-decoration-color: #00ff00\">Lag </span><span style=\"color: #008080; text-decoration-color: #008080; font-weight: bold\">1</span><span style=\"color: #00ff00; text-decoration-color: #00ff00\">: Autocorrelation = </span><span style=\"color: #008080; text-decoration-color: #008080; font-weight: bold\">0.845</span>\n",
       "</pre>\n"
      ],
      "text/plain": [
       "\u001b[38;2;0;255;0mLag \u001b[0m\u001b[1;36m1\u001b[0m\u001b[38;2;0;255;0m: Autocorrelation = \u001b[0m\u001b[1;36m0.845\u001b[0m\n"
      ]
     },
     "metadata": {},
     "output_type": "display_data"
    },
    {
     "data": {
      "text/html": [
       "<pre style=\"white-space:pre;overflow-x:auto;line-height:normal;font-family:Menlo,'DejaVu Sans Mono',consolas,'Courier New',monospace\"><span style=\"color: #00ff00; text-decoration-color: #00ff00\">Lag </span><span style=\"color: #008080; text-decoration-color: #008080; font-weight: bold\">2</span><span style=\"color: #00ff00; text-decoration-color: #00ff00\">: Autocorrelation = </span><span style=\"color: #008080; text-decoration-color: #008080; font-weight: bold\">0.597</span>\n",
       "</pre>\n"
      ],
      "text/plain": [
       "\u001b[38;2;0;255;0mLag \u001b[0m\u001b[1;36m2\u001b[0m\u001b[38;2;0;255;0m: Autocorrelation = \u001b[0m\u001b[1;36m0.597\u001b[0m\n"
      ]
     },
     "metadata": {},
     "output_type": "display_data"
    },
    {
     "data": {
      "text/html": [
       "<pre style=\"white-space:pre;overflow-x:auto;line-height:normal;font-family:Menlo,'DejaVu Sans Mono',consolas,'Courier New',monospace\"><span style=\"color: #00ff00; text-decoration-color: #00ff00\">Lag </span><span style=\"color: #008080; text-decoration-color: #008080; font-weight: bold\">3</span><span style=\"color: #00ff00; text-decoration-color: #00ff00\">: Autocorrelation = </span><span style=\"color: #008080; text-decoration-color: #008080; font-weight: bold\">0.407</span>\n",
       "</pre>\n"
      ],
      "text/plain": [
       "\u001b[38;2;0;255;0mLag \u001b[0m\u001b[1;36m3\u001b[0m\u001b[38;2;0;255;0m: Autocorrelation = \u001b[0m\u001b[1;36m0.407\u001b[0m\n"
      ]
     },
     "metadata": {},
     "output_type": "display_data"
    },
    {
     "data": {
      "text/html": [
       "<pre style=\"white-space:pre;overflow-x:auto;line-height:normal;font-family:Menlo,'DejaVu Sans Mono',consolas,'Courier New',monospace\"><span style=\"color: #00ff00; text-decoration-color: #00ff00\">Lag </span><span style=\"color: #008080; text-decoration-color: #008080; font-weight: bold\">4</span><span style=\"color: #00ff00; text-decoration-color: #00ff00\">: Autocorrelation = </span><span style=\"color: #008080; text-decoration-color: #008080; font-weight: bold\">0.274</span>\n",
       "</pre>\n"
      ],
      "text/plain": [
       "\u001b[38;2;0;255;0mLag \u001b[0m\u001b[1;36m4\u001b[0m\u001b[38;2;0;255;0m: Autocorrelation = \u001b[0m\u001b[1;36m0.274\u001b[0m\n"
      ]
     },
     "metadata": {},
     "output_type": "display_data"
    },
    {
     "data": {
      "text/html": [
       "<pre style=\"white-space:pre;overflow-x:auto;line-height:normal;font-family:Menlo,'DejaVu Sans Mono',consolas,'Courier New',monospace\"><span style=\"color: #00ff00; text-decoration-color: #00ff00\">Lag </span><span style=\"color: #008080; text-decoration-color: #008080; font-weight: bold\">5</span><span style=\"color: #00ff00; text-decoration-color: #00ff00\">: Autocorrelation = </span><span style=\"color: #008080; text-decoration-color: #008080; font-weight: bold\">0.146</span>\n",
       "</pre>\n"
      ],
      "text/plain": [
       "\u001b[38;2;0;255;0mLag \u001b[0m\u001b[1;36m5\u001b[0m\u001b[38;2;0;255;0m: Autocorrelation = \u001b[0m\u001b[1;36m0.146\u001b[0m\n"
      ]
     },
     "metadata": {},
     "output_type": "display_data"
    },
    {
     "data": {
      "text/html": [
       "<pre style=\"white-space:pre;overflow-x:auto;line-height:normal;font-family:Menlo,'DejaVu Sans Mono',consolas,'Courier New',monospace\"><span style=\"color: #00ff00; text-decoration-color: #00ff00\">Lag </span><span style=\"color: #008080; text-decoration-color: #008080; font-weight: bold\">6</span><span style=\"color: #00ff00; text-decoration-color: #00ff00\">: Autocorrelation = </span><span style=\"color: #008080; text-decoration-color: #008080; font-weight: bold\">0.010</span>\n",
       "</pre>\n"
      ],
      "text/plain": [
       "\u001b[38;2;0;255;0mLag \u001b[0m\u001b[1;36m6\u001b[0m\u001b[38;2;0;255;0m: Autocorrelation = \u001b[0m\u001b[1;36m0.010\u001b[0m\n"
      ]
     },
     "metadata": {},
     "output_type": "display_data"
    },
    {
     "data": {
      "text/html": [
       "<pre style=\"white-space:pre;overflow-x:auto;line-height:normal;font-family:Menlo,'DejaVu Sans Mono',consolas,'Courier New',monospace\"><span style=\"color: #00ff00; text-decoration-color: #00ff00\">Lag </span><span style=\"color: #008080; text-decoration-color: #008080; font-weight: bold\">7</span><span style=\"color: #00ff00; text-decoration-color: #00ff00\">: Autocorrelation = </span><span style=\"color: #008080; text-decoration-color: #008080; font-weight: bold\">-0.094</span>\n",
       "</pre>\n"
      ],
      "text/plain": [
       "\u001b[38;2;0;255;0mLag \u001b[0m\u001b[1;36m7\u001b[0m\u001b[38;2;0;255;0m: Autocorrelation = \u001b[0m\u001b[1;36m-0.094\u001b[0m\n"
      ]
     },
     "metadata": {},
     "output_type": "display_data"
    },
    {
     "data": {
      "text/html": [
       "<pre style=\"white-space:pre;overflow-x:auto;line-height:normal;font-family:Menlo,'DejaVu Sans Mono',consolas,'Courier New',monospace\"><span style=\"color: #00ff00; text-decoration-color: #00ff00\">Lag </span><span style=\"color: #008080; text-decoration-color: #008080; font-weight: bold\">8</span><span style=\"color: #00ff00; text-decoration-color: #00ff00\">: Autocorrelation = </span><span style=\"color: #008080; text-decoration-color: #008080; font-weight: bold\">-0.114</span>\n",
       "</pre>\n"
      ],
      "text/plain": [
       "\u001b[38;2;0;255;0mLag \u001b[0m\u001b[1;36m8\u001b[0m\u001b[38;2;0;255;0m: Autocorrelation = \u001b[0m\u001b[1;36m-0.114\u001b[0m\n"
      ]
     },
     "metadata": {},
     "output_type": "display_data"
    },
    {
     "data": {
      "text/html": [
       "<pre style=\"white-space:pre;overflow-x:auto;line-height:normal;font-family:Menlo,'DejaVu Sans Mono',consolas,'Courier New',monospace\"><span style=\"color: #00ff00; text-decoration-color: #00ff00\">Lag </span><span style=\"color: #008080; text-decoration-color: #008080; font-weight: bold\">9</span><span style=\"color: #00ff00; text-decoration-color: #00ff00\">: Autocorrelation = </span><span style=\"color: #008080; text-decoration-color: #008080; font-weight: bold\">-0.058</span>\n",
       "</pre>\n"
      ],
      "text/plain": [
       "\u001b[38;2;0;255;0mLag \u001b[0m\u001b[1;36m9\u001b[0m\u001b[38;2;0;255;0m: Autocorrelation = \u001b[0m\u001b[1;36m-0.058\u001b[0m\n"
      ]
     },
     "metadata": {},
     "output_type": "display_data"
    },
    {
     "data": {
      "text/html": [
       "<pre style=\"white-space:pre;overflow-x:auto;line-height:normal;font-family:Menlo,'DejaVu Sans Mono',consolas,'Courier New',monospace\"><span style=\"color: #00ff00; text-decoration-color: #00ff00\">Lag </span><span style=\"color: #008080; text-decoration-color: #008080; font-weight: bold\">10</span><span style=\"color: #00ff00; text-decoration-color: #00ff00\">: Autocorrelation = </span><span style=\"color: #008080; text-decoration-color: #008080; font-weight: bold\">-0.049</span>\n",
       "</pre>\n"
      ],
      "text/plain": [
       "\u001b[38;2;0;255;0mLag \u001b[0m\u001b[1;36m10\u001b[0m\u001b[38;2;0;255;0m: Autocorrelation = \u001b[0m\u001b[1;36m-0.049\u001b[0m\n"
      ]
     },
     "metadata": {},
     "output_type": "display_data"
    },
    {
     "data": {
      "text/html": [
       "<pre style=\"white-space:pre;overflow-x:auto;line-height:normal;font-family:Menlo,'DejaVu Sans Mono',consolas,'Courier New',monospace\"><span style=\"color: #00ff00; text-decoration-color: #00ff00\">Lag </span><span style=\"color: #008080; text-decoration-color: #008080; font-weight: bold\">11</span><span style=\"color: #00ff00; text-decoration-color: #00ff00\">: Autocorrelation = </span><span style=\"color: #008080; text-decoration-color: #008080; font-weight: bold\">-0.100</span>\n",
       "</pre>\n"
      ],
      "text/plain": [
       "\u001b[38;2;0;255;0mLag \u001b[0m\u001b[1;36m11\u001b[0m\u001b[38;2;0;255;0m: Autocorrelation = \u001b[0m\u001b[1;36m-0.100\u001b[0m\n"
      ]
     },
     "metadata": {},
     "output_type": "display_data"
    },
    {
     "data": {
      "text/html": [
       "<pre style=\"white-space:pre;overflow-x:auto;line-height:normal;font-family:Menlo,'DejaVu Sans Mono',consolas,'Courier New',monospace\"><span style=\"color: #00ff00; text-decoration-color: #00ff00\">Lag </span><span style=\"color: #008080; text-decoration-color: #008080; font-weight: bold\">12</span><span style=\"color: #00ff00; text-decoration-color: #00ff00\">: Autocorrelation = </span><span style=\"color: #008080; text-decoration-color: #008080; font-weight: bold\">-0.131</span>\n",
       "</pre>\n"
      ],
      "text/plain": [
       "\u001b[38;2;0;255;0mLag \u001b[0m\u001b[1;36m12\u001b[0m\u001b[38;2;0;255;0m: Autocorrelation = \u001b[0m\u001b[1;36m-0.131\u001b[0m\n"
      ]
     },
     "metadata": {},
     "output_type": "display_data"
    },
    {
     "data": {
      "text/html": [
       "<pre style=\"white-space:pre;overflow-x:auto;line-height:normal;font-family:Menlo,'DejaVu Sans Mono',consolas,'Courier New',monospace\"><span style=\"color: #00ff00; text-decoration-color: #00ff00\">Lag </span><span style=\"color: #008080; text-decoration-color: #008080; font-weight: bold\">13</span><span style=\"color: #00ff00; text-decoration-color: #00ff00\">: Autocorrelation = </span><span style=\"color: #008080; text-decoration-color: #008080; font-weight: bold\">-0.105</span>\n",
       "</pre>\n"
      ],
      "text/plain": [
       "\u001b[38;2;0;255;0mLag \u001b[0m\u001b[1;36m13\u001b[0m\u001b[38;2;0;255;0m: Autocorrelation = \u001b[0m\u001b[1;36m-0.105\u001b[0m\n"
      ]
     },
     "metadata": {},
     "output_type": "display_data"
    },
    {
     "data": {
      "text/html": [
       "<pre style=\"white-space:pre;overflow-x:auto;line-height:normal;font-family:Menlo,'DejaVu Sans Mono',consolas,'Courier New',monospace\"><span style=\"color: #00ff00; text-decoration-color: #00ff00\">Lag </span><span style=\"color: #008080; text-decoration-color: #008080; font-weight: bold\">14</span><span style=\"color: #00ff00; text-decoration-color: #00ff00\">: Autocorrelation = </span><span style=\"color: #008080; text-decoration-color: #008080; font-weight: bold\">-0.057</span>\n",
       "</pre>\n"
      ],
      "text/plain": [
       "\u001b[38;2;0;255;0mLag \u001b[0m\u001b[1;36m14\u001b[0m\u001b[38;2;0;255;0m: Autocorrelation = \u001b[0m\u001b[1;36m-0.057\u001b[0m\n"
      ]
     },
     "metadata": {},
     "output_type": "display_data"
    },
    {
     "data": {
      "text/html": [
       "<pre style=\"white-space:pre;overflow-x:auto;line-height:normal;font-family:Menlo,'DejaVu Sans Mono',consolas,'Courier New',monospace\"><span style=\"color: #00ff00; text-decoration-color: #00ff00\">Lag </span><span style=\"color: #008080; text-decoration-color: #008080; font-weight: bold\">15</span><span style=\"color: #00ff00; text-decoration-color: #00ff00\">: Autocorrelation = </span><span style=\"color: #008080; text-decoration-color: #008080; font-weight: bold\">-0.058</span>\n",
       "</pre>\n"
      ],
      "text/plain": [
       "\u001b[38;2;0;255;0mLag \u001b[0m\u001b[1;36m15\u001b[0m\u001b[38;2;0;255;0m: Autocorrelation = \u001b[0m\u001b[1;36m-0.058\u001b[0m\n"
      ]
     },
     "metadata": {},
     "output_type": "display_data"
    },
    {
     "data": {
      "text/html": [
       "<pre style=\"white-space:pre;overflow-x:auto;line-height:normal;font-family:Menlo,'DejaVu Sans Mono',consolas,'Courier New',monospace\"><span style=\"color: #00ff00; text-decoration-color: #00ff00\">Lag </span><span style=\"color: #008080; text-decoration-color: #008080; font-weight: bold\">16</span><span style=\"color: #00ff00; text-decoration-color: #00ff00\">: Autocorrelation = </span><span style=\"color: #008080; text-decoration-color: #008080; font-weight: bold\">-0.094</span>\n",
       "</pre>\n"
      ],
      "text/plain": [
       "\u001b[38;2;0;255;0mLag \u001b[0m\u001b[1;36m16\u001b[0m\u001b[38;2;0;255;0m: Autocorrelation = \u001b[0m\u001b[1;36m-0.094\u001b[0m\n"
      ]
     },
     "metadata": {},
     "output_type": "display_data"
    },
    {
     "data": {
      "text/html": [
       "<pre style=\"white-space:pre;overflow-x:auto;line-height:normal;font-family:Menlo,'DejaVu Sans Mono',consolas,'Courier New',monospace\"><span style=\"color: #00ff00; text-decoration-color: #00ff00\">Lag </span><span style=\"color: #008080; text-decoration-color: #008080; font-weight: bold\">17</span><span style=\"color: #00ff00; text-decoration-color: #00ff00\">: Autocorrelation = </span><span style=\"color: #008080; text-decoration-color: #008080; font-weight: bold\">-0.065</span>\n",
       "</pre>\n"
      ],
      "text/plain": [
       "\u001b[38;2;0;255;0mLag \u001b[0m\u001b[1;36m17\u001b[0m\u001b[38;2;0;255;0m: Autocorrelation = \u001b[0m\u001b[1;36m-0.065\u001b[0m\n"
      ]
     },
     "metadata": {},
     "output_type": "display_data"
    },
    {
     "data": {
      "text/html": [
       "<pre style=\"white-space:pre;overflow-x:auto;line-height:normal;font-family:Menlo,'DejaVu Sans Mono',consolas,'Courier New',monospace\"><span style=\"color: #00ff00; text-decoration-color: #00ff00\">Lag </span><span style=\"color: #008080; text-decoration-color: #008080; font-weight: bold\">18</span><span style=\"color: #00ff00; text-decoration-color: #00ff00\">: Autocorrelation = </span><span style=\"color: #008080; text-decoration-color: #008080; font-weight: bold\">0.033</span>\n",
       "</pre>\n"
      ],
      "text/plain": [
       "\u001b[38;2;0;255;0mLag \u001b[0m\u001b[1;36m18\u001b[0m\u001b[38;2;0;255;0m: Autocorrelation = \u001b[0m\u001b[1;36m0.033\u001b[0m\n"
      ]
     },
     "metadata": {},
     "output_type": "display_data"
    },
    {
     "data": {
      "text/html": [
       "<pre style=\"white-space:pre;overflow-x:auto;line-height:normal;font-family:Menlo,'DejaVu Sans Mono',consolas,'Courier New',monospace\"><span style=\"color: #00ff00; text-decoration-color: #00ff00\">Lag </span><span style=\"color: #008080; text-decoration-color: #008080; font-weight: bold\">19</span><span style=\"color: #00ff00; text-decoration-color: #00ff00\">: Autocorrelation = </span><span style=\"color: #008080; text-decoration-color: #008080; font-weight: bold\">0.153</span>\n",
       "</pre>\n"
      ],
      "text/plain": [
       "\u001b[38;2;0;255;0mLag \u001b[0m\u001b[1;36m19\u001b[0m\u001b[38;2;0;255;0m: Autocorrelation = \u001b[0m\u001b[1;36m0.153\u001b[0m\n"
      ]
     },
     "metadata": {},
     "output_type": "display_data"
    },
    {
     "data": {
      "text/html": [
       "<pre style=\"white-space:pre;overflow-x:auto;line-height:normal;font-family:Menlo,'DejaVu Sans Mono',consolas,'Courier New',monospace\"><span style=\"color: #00ff00; text-decoration-color: #00ff00\">Lag </span><span style=\"color: #008080; text-decoration-color: #008080; font-weight: bold\">20</span><span style=\"color: #00ff00; text-decoration-color: #00ff00\">: Autocorrelation = </span><span style=\"color: #008080; text-decoration-color: #008080; font-weight: bold\">0.262</span>\n",
       "</pre>\n"
      ],
      "text/plain": [
       "\u001b[38;2;0;255;0mLag \u001b[0m\u001b[1;36m20\u001b[0m\u001b[38;2;0;255;0m: Autocorrelation = \u001b[0m\u001b[1;36m0.262\u001b[0m\n"
      ]
     },
     "metadata": {},
     "output_type": "display_data"
    },
    {
     "data": {
      "text/html": [
       "<pre style=\"white-space:pre;overflow-x:auto;line-height:normal;font-family:Menlo,'DejaVu Sans Mono',consolas,'Courier New',monospace\"><span style=\"color: #00ff00; text-decoration-color: #00ff00\">Lag </span><span style=\"color: #008080; text-decoration-color: #008080; font-weight: bold\">21</span><span style=\"color: #00ff00; text-decoration-color: #00ff00\">: Autocorrelation = </span><span style=\"color: #008080; text-decoration-color: #008080; font-weight: bold\">0.371</span>\n",
       "</pre>\n"
      ],
      "text/plain": [
       "\u001b[38;2;0;255;0mLag \u001b[0m\u001b[1;36m21\u001b[0m\u001b[38;2;0;255;0m: Autocorrelation = \u001b[0m\u001b[1;36m0.371\u001b[0m\n"
      ]
     },
     "metadata": {},
     "output_type": "display_data"
    },
    {
     "data": {
      "text/html": [
       "<pre style=\"white-space:pre;overflow-x:auto;line-height:normal;font-family:Menlo,'DejaVu Sans Mono',consolas,'Courier New',monospace\"><span style=\"color: #00ff00; text-decoration-color: #00ff00\">Lag </span><span style=\"color: #008080; text-decoration-color: #008080; font-weight: bold\">22</span><span style=\"color: #00ff00; text-decoration-color: #00ff00\">: Autocorrelation = </span><span style=\"color: #008080; text-decoration-color: #008080; font-weight: bold\">0.520</span>\n",
       "</pre>\n"
      ],
      "text/plain": [
       "\u001b[38;2;0;255;0mLag \u001b[0m\u001b[1;36m22\u001b[0m\u001b[38;2;0;255;0m: Autocorrelation = \u001b[0m\u001b[1;36m0.520\u001b[0m\n"
      ]
     },
     "metadata": {},
     "output_type": "display_data"
    },
    {
     "data": {
      "text/html": [
       "<pre style=\"white-space:pre;overflow-x:auto;line-height:normal;font-family:Menlo,'DejaVu Sans Mono',consolas,'Courier New',monospace\"><span style=\"color: #00ff00; text-decoration-color: #00ff00\">Lag </span><span style=\"color: #008080; text-decoration-color: #008080; font-weight: bold\">23</span><span style=\"color: #00ff00; text-decoration-color: #00ff00\">: Autocorrelation = </span><span style=\"color: #008080; text-decoration-color: #008080; font-weight: bold\">0.705</span>\n",
       "</pre>\n"
      ],
      "text/plain": [
       "\u001b[38;2;0;255;0mLag \u001b[0m\u001b[1;36m23\u001b[0m\u001b[38;2;0;255;0m: Autocorrelation = \u001b[0m\u001b[1;36m0.705\u001b[0m\n"
      ]
     },
     "metadata": {},
     "output_type": "display_data"
    },
    {
     "data": {
      "text/html": [
       "<pre style=\"white-space:pre;overflow-x:auto;line-height:normal;font-family:Menlo,'DejaVu Sans Mono',consolas,'Courier New',monospace\"><span style=\"color: #00ff00; text-decoration-color: #00ff00\">Lag </span><span style=\"color: #008080; text-decoration-color: #008080; font-weight: bold\">24</span><span style=\"color: #00ff00; text-decoration-color: #00ff00\">: Autocorrelation = </span><span style=\"color: #008080; text-decoration-color: #008080; font-weight: bold\">0.809</span>\n",
       "</pre>\n"
      ],
      "text/plain": [
       "\u001b[38;2;0;255;0mLag \u001b[0m\u001b[1;36m24\u001b[0m\u001b[38;2;0;255;0m: Autocorrelation = \u001b[0m\u001b[1;36m0.809\u001b[0m\n"
      ]
     },
     "metadata": {},
     "output_type": "display_data"
    }
   ],
   "source": [
    "# Compute autocorrelation of the target variable\n",
    "auto_correlation: dict[int, float] = compute_autocorrelation(\n",
    "    series=df[\"target\"], max_lag=24\n",
    ")\n",
    "for lag, autocorr in auto_correlation.items():\n",
    "    console.print(f\"Lag {lag}: Autocorrelation = {autocorr:.3f}\", style=\"info\")"
   ]
  },
  {
   "cell_type": "markdown",
   "id": "cb51c13a",
   "metadata": {},
   "source": [
    "### Comment\n",
    "\n",
    "- **Strong Hourly Dependency**: The high correlation at Lag 1 (r=0.845) shows that bike rentals are highly dependent on the previous hour's count.\n",
    "\n",
    "- **Clear Daily Seasonality**: The strong correlation at Lag 24 (r=0.809) confirms a predictable daily pattern in bike usage.\n",
    "\n",
    "- **Inverse Peak/Off-Peak Relationship**: The negative correlations between 6 and 18 hours apart indicate that peak and off-peak periods are inversely related.\n",
    "\n",
    "- **Modeling Strategy**: Lagged features (especially 1, 2, 23, and 24 hours) and time-of-day features will be essential for building an effective model."
   ]
  },
  {
   "cell_type": "code",
   "execution_count": 22,
   "id": "f52638a3",
   "metadata": {},
   "outputs": [
    {
     "data": {
      "text/html": [
       "<div><style>\n",
       ".dataframe > thead > tr,\n",
       ".dataframe > tbody > tr {\n",
       "  text-align: right;\n",
       "  white-space: pre-wrap;\n",
       "}\n",
       "</style>\n",
       "<small>shape: (3, 11)</small><table border=\"1\" class=\"dataframe\"><thead><tr><th>season</th><th>mnth</th><th>hr</th><th>holiday</th><th>weekday</th><th>workingday</th><th>weathersit</th><th>temp</th><th>hum</th><th>windspeed</th><th>cnt</th></tr><tr><td>i64</td><td>i64</td><td>i64</td><td>i64</td><td>i64</td><td>i64</td><td>i64</td><td>f64</td><td>f64</td><td>f64</td><td>i64</td></tr></thead><tbody><tr><td>1</td><td>1</td><td>0</td><td>0</td><td>6</td><td>0</td><td>1</td><td>0.24</td><td>0.81</td><td>0.0</td><td>16</td></tr><tr><td>1</td><td>1</td><td>1</td><td>0</td><td>6</td><td>0</td><td>1</td><td>0.22</td><td>0.8</td><td>0.0</td><td>40</td></tr><tr><td>1</td><td>1</td><td>2</td><td>0</td><td>6</td><td>0</td><td>1</td><td>0.22</td><td>0.8</td><td>0.0</td><td>32</td></tr></tbody></table></div>"
      ],
      "text/plain": [
       "shape: (3, 11)\n",
       "┌────────┬──────┬─────┬─────────┬─────────┬────────────┬───────────┬──────┬──────┬───────────┬─────┐\n",
       "│ season ┆ mnth ┆ hr  ┆ holiday ┆ weekday ┆ workingday ┆ weathersi ┆ temp ┆ hum  ┆ windspeed ┆ cnt │\n",
       "│ ---    ┆ ---  ┆ --- ┆ ---     ┆ ---     ┆ ---        ┆ t         ┆ ---  ┆ ---  ┆ ---       ┆ --- │\n",
       "│ i64    ┆ i64  ┆ i64 ┆ i64     ┆ i64     ┆ i64        ┆ ---       ┆ f64  ┆ f64  ┆ f64       ┆ i64 │\n",
       "│        ┆      ┆     ┆         ┆         ┆            ┆ i64       ┆      ┆      ┆           ┆     │\n",
       "╞════════╪══════╪═════╪═════════╪═════════╪════════════╪═══════════╪══════╪══════╪═══════════╪═════╡\n",
       "│ 1      ┆ 1    ┆ 0   ┆ 0       ┆ 6       ┆ 0          ┆ 1         ┆ 0.24 ┆ 0.81 ┆ 0.0       ┆ 16  │\n",
       "│ 1      ┆ 1    ┆ 1   ┆ 0       ┆ 6       ┆ 0          ┆ 1         ┆ 0.22 ┆ 0.8  ┆ 0.0       ┆ 40  │\n",
       "│ 1      ┆ 1    ┆ 2   ┆ 0       ┆ 6       ┆ 0          ┆ 1         ┆ 0.22 ┆ 0.8  ┆ 0.0       ┆ 32  │\n",
       "└────────┴──────┴─────┴─────────┴─────────┴────────────┴───────────┴──────┴──────┴───────────┴─────┘"
      ]
     },
     "execution_count": 22,
     "metadata": {},
     "output_type": "execute_result"
    }
   ],
   "source": [
    "columns_to_drop: list[str] = [\"yr\", \"atemp\", \"casual\", \"registered\", \"datetime\"]\n",
    "df: pl.DataFrame = data.clone().drop(columns_to_drop)\n",
    "\n",
    "df.head(3)"
   ]
  },
  {
   "cell_type": "code",
   "execution_count": null,
   "id": "55e674f0",
   "metadata": {},
   "outputs": [
    {
     "data": {
      "text/html": [
       "<div><style>\n",
       ".dataframe > thead > tr,\n",
       ".dataframe > tbody > tr {\n",
       "  text-align: right;\n",
       "  white-space: pre-wrap;\n",
       "}\n",
       "</style>\n",
       "<small>shape: (1, 12)</small><table border=\"1\" class=\"dataframe\"><thead><tr><th>season</th><th>mnth</th><th>hr</th><th>holiday</th><th>weekday</th><th>workingday</th><th>weathersit</th><th>temp</th><th>hum</th><th>windspeed</th><th>cnt</th><th>target</th></tr><tr><td>u32</td><td>u32</td><td>u32</td><td>u32</td><td>u32</td><td>u32</td><td>u32</td><td>u32</td><td>u32</td><td>u32</td><td>u32</td><td>u32</td></tr></thead><tbody><tr><td>0</td><td>0</td><td>0</td><td>0</td><td>0</td><td>0</td><td>0</td><td>0</td><td>0</td><td>0</td><td>0</td><td>0</td></tr></tbody></table></div>"
      ],
      "text/plain": [
       "shape: (1, 12)\n",
       "┌────────┬──────┬─────┬─────────┬─────────┬─────────┬─────────┬──────┬─────┬────────┬─────┬────────┐\n",
       "│ season ┆ mnth ┆ hr  ┆ holiday ┆ weekday ┆ working ┆ weather ┆ temp ┆ hum ┆ windsp ┆ cnt ┆ target │\n",
       "│ ---    ┆ ---  ┆ --- ┆ ---     ┆ ---     ┆ day     ┆ sit     ┆ ---  ┆ --- ┆ eed    ┆ --- ┆ ---    │\n",
       "│ u32    ┆ u32  ┆ u32 ┆ u32     ┆ u32     ┆ ---     ┆ ---     ┆ u32  ┆ u32 ┆ ---    ┆ u32 ┆ u32    │\n",
       "│        ┆      ┆     ┆         ┆         ┆ u32     ┆ u32     ┆      ┆     ┆ u32    ┆     ┆        │\n",
       "╞════════╪══════╪═════╪═════════╪═════════╪═════════╪═════════╪══════╪═════╪════════╪═════╪════════╡\n",
       "│ 0      ┆ 0    ┆ 0   ┆ 0       ┆ 0       ┆ 0       ┆ 0       ┆ 0    ┆ 0   ┆ 0      ┆ 0   ┆ 0      │\n",
       "└────────┴──────┴─────┴─────────┴─────────┴─────────┴─────────┴──────┴─────┴────────┴─────┴────────┘"
      ]
     },
     "metadata": {},
     "output_type": "display_data"
    },
    {
     "data": {
      "text/html": [
       "<div><style>\n",
       ".dataframe > thead > tr,\n",
       ".dataframe > tbody > tr {\n",
       "  text-align: right;\n",
       "  white-space: pre-wrap;\n",
       "}\n",
       "</style>\n",
       "<small>shape: (5, 12)</small><table border=\"1\" class=\"dataframe\"><thead><tr><th>season</th><th>mnth</th><th>hr</th><th>holiday</th><th>weekday</th><th>workingday</th><th>weathersit</th><th>temp</th><th>hum</th><th>windspeed</th><th>cnt</th><th>target</th></tr><tr><td>i64</td><td>i64</td><td>i64</td><td>i64</td><td>i64</td><td>i64</td><td>i64</td><td>f64</td><td>f64</td><td>f64</td><td>i64</td><td>i64</td></tr></thead><tbody><tr><td>1</td><td>1</td><td>0</td><td>0</td><td>6</td><td>0</td><td>1</td><td>0.24</td><td>0.81</td><td>0.0</td><td>16</td><td>40</td></tr><tr><td>1</td><td>1</td><td>1</td><td>0</td><td>6</td><td>0</td><td>1</td><td>0.22</td><td>0.8</td><td>0.0</td><td>40</td><td>32</td></tr><tr><td>1</td><td>1</td><td>2</td><td>0</td><td>6</td><td>0</td><td>1</td><td>0.22</td><td>0.8</td><td>0.0</td><td>32</td><td>13</td></tr><tr><td>1</td><td>1</td><td>3</td><td>0</td><td>6</td><td>0</td><td>1</td><td>0.24</td><td>0.75</td><td>0.0</td><td>13</td><td>1</td></tr><tr><td>1</td><td>1</td><td>4</td><td>0</td><td>6</td><td>0</td><td>1</td><td>0.24</td><td>0.75</td><td>0.0</td><td>1</td><td>1</td></tr></tbody></table></div>"
      ],
      "text/plain": [
       "shape: (5, 12)\n",
       "┌────────┬──────┬─────┬─────────┬─────────┬─────────┬────────┬──────┬──────┬────────┬─────┬────────┐\n",
       "│ season ┆ mnth ┆ hr  ┆ holiday ┆ weekday ┆ working ┆ weathe ┆ temp ┆ hum  ┆ windsp ┆ cnt ┆ target │\n",
       "│ ---    ┆ ---  ┆ --- ┆ ---     ┆ ---     ┆ day     ┆ rsit   ┆ ---  ┆ ---  ┆ eed    ┆ --- ┆ ---    │\n",
       "│ i64    ┆ i64  ┆ i64 ┆ i64     ┆ i64     ┆ ---     ┆ ---    ┆ f64  ┆ f64  ┆ ---    ┆ i64 ┆ i64    │\n",
       "│        ┆      ┆     ┆         ┆         ┆ i64     ┆ i64    ┆      ┆      ┆ f64    ┆     ┆        │\n",
       "╞════════╪══════╪═════╪═════════╪═════════╪═════════╪════════╪══════╪══════╪════════╪═════╪════════╡\n",
       "│ 1      ┆ 1    ┆ 0   ┆ 0       ┆ 6       ┆ 0       ┆ 1      ┆ 0.24 ┆ 0.81 ┆ 0.0    ┆ 16  ┆ 40     │\n",
       "│ 1      ┆ 1    ┆ 1   ┆ 0       ┆ 6       ┆ 0       ┆ 1      ┆ 0.22 ┆ 0.8  ┆ 0.0    ┆ 40  ┆ 32     │\n",
       "│ 1      ┆ 1    ┆ 2   ┆ 0       ┆ 6       ┆ 0       ┆ 1      ┆ 0.22 ┆ 0.8  ┆ 0.0    ┆ 32  ┆ 13     │\n",
       "│ 1      ┆ 1    ┆ 3   ┆ 0       ┆ 6       ┆ 0       ┆ 1      ┆ 0.24 ┆ 0.75 ┆ 0.0    ┆ 13  ┆ 1      │\n",
       "│ 1      ┆ 1    ┆ 4   ┆ 0       ┆ 6       ┆ 0       ┆ 1      ┆ 0.24 ┆ 0.75 ┆ 0.0    ┆ 1   ┆ 1      │\n",
       "└────────┴──────┴─────┴─────────┴─────────┴─────────┴────────┴──────┴──────┴────────┴─────┴────────┘"
      ]
     },
     "execution_count": 23,
     "metadata": {},
     "output_type": "execute_result"
    }
   ],
   "source": [
    "# Shift the `cnt` column by one hour to create the target variable\n",
    "# i.e. predict the next hour's demand based on current and past data\n",
    "df = df.with_columns(pl.col(\"cnt\").shift(-1).alias(\"target\")).with_columns(\n",
    "    pl.col(\"target\").fill_null(strategy=\"forward\")\n",
    ")\n",
    "display(df.null_count())\n",
    "df.head()"
   ]
  },
  {
   "cell_type": "code",
   "execution_count": 24,
   "id": "607a8f8e",
   "metadata": {},
   "outputs": [
    {
     "name": "stdout",
     "output_type": "stream",
     "text": [
      "Check for null values after adding lag features:\n"
     ]
    },
    {
     "data": {
      "text/html": [
       "<div><style>\n",
       ".dataframe > thead > tr,\n",
       ".dataframe > tbody > tr {\n",
       "  text-align: right;\n",
       "  white-space: pre-wrap;\n",
       "}\n",
       "</style>\n",
       "<small>shape: (1, 17)</small><table border=\"1\" class=\"dataframe\"><thead><tr><th>season</th><th>mnth</th><th>hr</th><th>holiday</th><th>weekday</th><th>workingday</th><th>weathersit</th><th>temp</th><th>hum</th><th>windspeed</th><th>cnt</th><th>target</th><th>current</th><th>cnt_lag_1</th><th>cnt_lag_2</th><th>cnt_lag_23</th><th>cnt_lag_24</th></tr><tr><td>u32</td><td>u32</td><td>u32</td><td>u32</td><td>u32</td><td>u32</td><td>u32</td><td>u32</td><td>u32</td><td>u32</td><td>u32</td><td>u32</td><td>u32</td><td>u32</td><td>u32</td><td>u32</td><td>u32</td></tr></thead><tbody><tr><td>0</td><td>0</td><td>0</td><td>0</td><td>0</td><td>0</td><td>0</td><td>0</td><td>0</td><td>0</td><td>0</td><td>0</td><td>0</td><td>0</td><td>0</td><td>0</td><td>0</td></tr></tbody></table></div>"
      ],
      "text/plain": [
       "shape: (1, 17)\n",
       "┌─────┬─────┬─────┬─────┬─────┬─────┬─────┬─────┬─────┬─────┬─────┬─────┬─────┬─────┬─────┬─────┬─────┐\n",
       "│ sea ┆ mnt ┆ hr  ┆ hol ┆ wee ┆ wor ┆ wea ┆ tem ┆ hum ┆ win ┆ cnt ┆ tar ┆ cur ┆ cnt ┆ cnt ┆ cnt ┆ cnt │\n",
       "│ son ┆ h   ┆ --- ┆ ida ┆ kda ┆ kin ┆ the ┆ p   ┆ --- ┆ dsp ┆ --- ┆ get ┆ ren ┆ _la ┆ _la ┆ _la ┆ _la │\n",
       "│ --- ┆ --- ┆ u32 ┆ y   ┆ y   ┆ gda ┆ rsi ┆ --- ┆ u32 ┆ eed ┆ u32 ┆ --- ┆ t   ┆ g_1 ┆ g_2 ┆ g_2 ┆ g_2 │\n",
       "│ u32 ┆ u32 ┆     ┆ --- ┆ --- ┆ y   ┆ t   ┆ u32 ┆     ┆ --- ┆     ┆ u32 ┆ --- ┆ --- ┆ --- ┆ 3   ┆ 4   │\n",
       "│     ┆     ┆     ┆ u32 ┆ u32 ┆ --- ┆ --- ┆     ┆     ┆ u32 ┆     ┆     ┆ u32 ┆ u32 ┆ u32 ┆ --- ┆ --- │\n",
       "│     ┆     ┆     ┆     ┆     ┆ u32 ┆ u32 ┆     ┆     ┆     ┆     ┆     ┆     ┆     ┆     ┆ u32 ┆ u32 │\n",
       "╞═════╪═════╪═════╪═════╪═════╪═════╪═════╪═════╪═════╪═════╪═════╪═════╪═════╪═════╪═════╪═════╪═════╡\n",
       "│ 0   ┆ 0   ┆ 0   ┆ 0   ┆ 0   ┆ 0   ┆ 0   ┆ 0   ┆ 0   ┆ 0   ┆ 0   ┆ 0   ┆ 0   ┆ 0   ┆ 0   ┆ 0   ┆ 0   │\n",
       "└─────┴─────┴─────┴─────┴─────┴─────┴─────┴─────┴─────┴─────┴─────┴─────┴─────┴─────┴─────┴─────┴─────┘"
      ]
     },
     "metadata": {},
     "output_type": "display_data"
    },
    {
     "data": {
      "text/html": [
       "<div><style>\n",
       ".dataframe > thead > tr,\n",
       ".dataframe > tbody > tr {\n",
       "  text-align: right;\n",
       "  white-space: pre-wrap;\n",
       "}\n",
       "</style>\n",
       "<small>shape: (5, 17)</small><table border=\"1\" class=\"dataframe\"><thead><tr><th>season</th><th>mnth</th><th>hr</th><th>holiday</th><th>weekday</th><th>workingday</th><th>weathersit</th><th>temp</th><th>hum</th><th>windspeed</th><th>cnt</th><th>target</th><th>current</th><th>cnt_lag_1</th><th>cnt_lag_2</th><th>cnt_lag_23</th><th>cnt_lag_24</th></tr><tr><td>i64</td><td>i64</td><td>i64</td><td>i64</td><td>i64</td><td>i64</td><td>i64</td><td>f64</td><td>f64</td><td>f64</td><td>i64</td><td>i64</td><td>i64</td><td>i64</td><td>i64</td><td>i64</td><td>i64</td></tr></thead><tbody><tr><td>1</td><td>1</td><td>0</td><td>0</td><td>6</td><td>0</td><td>1</td><td>0.24</td><td>0.81</td><td>0.0</td><td>16</td><td>40</td><td>16</td><td>16</td><td>16</td><td>16</td><td>16</td></tr><tr><td>1</td><td>1</td><td>1</td><td>0</td><td>6</td><td>0</td><td>1</td><td>0.22</td><td>0.8</td><td>0.0</td><td>40</td><td>32</td><td>40</td><td>16</td><td>16</td><td>16</td><td>16</td></tr><tr><td>1</td><td>1</td><td>2</td><td>0</td><td>6</td><td>0</td><td>1</td><td>0.22</td><td>0.8</td><td>0.0</td><td>32</td><td>13</td><td>32</td><td>40</td><td>16</td><td>16</td><td>16</td></tr><tr><td>1</td><td>1</td><td>3</td><td>0</td><td>6</td><td>0</td><td>1</td><td>0.24</td><td>0.75</td><td>0.0</td><td>13</td><td>1</td><td>13</td><td>32</td><td>40</td><td>16</td><td>16</td></tr><tr><td>1</td><td>1</td><td>4</td><td>0</td><td>6</td><td>0</td><td>1</td><td>0.24</td><td>0.75</td><td>0.0</td><td>1</td><td>1</td><td>1</td><td>13</td><td>32</td><td>16</td><td>16</td></tr></tbody></table></div>"
      ],
      "text/plain": [
       "shape: (5, 17)\n",
       "┌─────┬─────┬─────┬─────┬─────┬─────┬─────┬─────┬─────┬─────┬─────┬─────┬─────┬─────┬─────┬─────┬─────┐\n",
       "│ sea ┆ mnt ┆ hr  ┆ hol ┆ wee ┆ wor ┆ wea ┆ tem ┆ hum ┆ win ┆ cnt ┆ tar ┆ cur ┆ cnt ┆ cnt ┆ cnt ┆ cnt │\n",
       "│ son ┆ h   ┆ --- ┆ ida ┆ kda ┆ kin ┆ the ┆ p   ┆ --- ┆ dsp ┆ --- ┆ get ┆ ren ┆ _la ┆ _la ┆ _la ┆ _la │\n",
       "│ --- ┆ --- ┆ i64 ┆ y   ┆ y   ┆ gda ┆ rsi ┆ --- ┆ f64 ┆ eed ┆ i64 ┆ --- ┆ t   ┆ g_1 ┆ g_2 ┆ g_2 ┆ g_2 │\n",
       "│ i64 ┆ i64 ┆     ┆ --- ┆ --- ┆ y   ┆ t   ┆ f64 ┆     ┆ --- ┆     ┆ i64 ┆ --- ┆ --- ┆ --- ┆ 3   ┆ 4   │\n",
       "│     ┆     ┆     ┆ i64 ┆ i64 ┆ --- ┆ --- ┆     ┆     ┆ f64 ┆     ┆     ┆ i64 ┆ i64 ┆ i64 ┆ --- ┆ --- │\n",
       "│     ┆     ┆     ┆     ┆     ┆ i64 ┆ i64 ┆     ┆     ┆     ┆     ┆     ┆     ┆     ┆     ┆ i64 ┆ i64 │\n",
       "╞═════╪═════╪═════╪═════╪═════╪═════╪═════╪═════╪═════╪═════╪═════╪═════╪═════╪═════╪═════╪═════╪═════╡\n",
       "│ 1   ┆ 1   ┆ 0   ┆ 0   ┆ 6   ┆ 0   ┆ 1   ┆ 0.2 ┆ 0.8 ┆ 0.0 ┆ 16  ┆ 40  ┆ 16  ┆ 16  ┆ 16  ┆ 16  ┆ 16  │\n",
       "│     ┆     ┆     ┆     ┆     ┆     ┆     ┆ 4   ┆ 1   ┆     ┆     ┆     ┆     ┆     ┆     ┆     ┆     │\n",
       "│ 1   ┆ 1   ┆ 1   ┆ 0   ┆ 6   ┆ 0   ┆ 1   ┆ 0.2 ┆ 0.8 ┆ 0.0 ┆ 40  ┆ 32  ┆ 40  ┆ 16  ┆ 16  ┆ 16  ┆ 16  │\n",
       "│     ┆     ┆     ┆     ┆     ┆     ┆     ┆ 2   ┆     ┆     ┆     ┆     ┆     ┆     ┆     ┆     ┆     │\n",
       "│ 1   ┆ 1   ┆ 2   ┆ 0   ┆ 6   ┆ 0   ┆ 1   ┆ 0.2 ┆ 0.8 ┆ 0.0 ┆ 32  ┆ 13  ┆ 32  ┆ 40  ┆ 16  ┆ 16  ┆ 16  │\n",
       "│     ┆     ┆     ┆     ┆     ┆     ┆     ┆ 2   ┆     ┆     ┆     ┆     ┆     ┆     ┆     ┆     ┆     │\n",
       "│ 1   ┆ 1   ┆ 3   ┆ 0   ┆ 6   ┆ 0   ┆ 1   ┆ 0.2 ┆ 0.7 ┆ 0.0 ┆ 13  ┆ 1   ┆ 13  ┆ 32  ┆ 40  ┆ 16  ┆ 16  │\n",
       "│     ┆     ┆     ┆     ┆     ┆     ┆     ┆ 4   ┆ 5   ┆     ┆     ┆     ┆     ┆     ┆     ┆     ┆     │\n",
       "│ 1   ┆ 1   ┆ 4   ┆ 0   ┆ 6   ┆ 0   ┆ 1   ┆ 0.2 ┆ 0.7 ┆ 0.0 ┆ 1   ┆ 1   ┆ 1   ┆ 13  ┆ 32  ┆ 16  ┆ 16  │\n",
       "│     ┆     ┆     ┆     ┆     ┆     ┆     ┆ 4   ┆ 5   ┆     ┆     ┆     ┆     ┆     ┆     ┆     ┆     │\n",
       "└─────┴─────┴─────┴─────┴─────┴─────┴─────┴─────┴─────┴─────┴─────┴─────┴─────┴─────┴─────┴─────┴─────┘"
      ]
     },
     "execution_count": 24,
     "metadata": {},
     "output_type": "execute_result"
    }
   ],
   "source": [
    "# Add lags 1, 23 and 24 hours\n",
    "df = df.with_columns(\n",
    "    [\n",
    "        pl.col(\"cnt\").alias(\"current\"),\n",
    "        pl.col(\"cnt\").shift(1).alias(\"cnt_lag_1\"),\n",
    "        pl.col(\"cnt\").shift(2).alias(\"cnt_lag_2\"),\n",
    "        pl.col(\"cnt\").shift(23).alias(\"cnt_lag_23\"),\n",
    "        pl.col(\"cnt\").shift(24).alias(\"cnt_lag_24\"),\n",
    "    ]\n",
    ").fill_null(strategy=\"backward\")\n",
    "print(\"Check for null values after adding lag features:\")\n",
    "display(df.null_count())\n",
    "df.head()"
   ]
  },
  {
   "cell_type": "code",
   "execution_count": 25,
   "id": "c9901ebe",
   "metadata": {},
   "outputs": [
    {
     "data": {
      "text/plain": [
       "((11122, 15), (11122,), (2781, 15), (2781,))"
      ]
     },
     "execution_count": 25,
     "metadata": {},
     "output_type": "execute_result"
    }
   ],
   "source": [
    "df = df.drop([\"cnt\"])\n",
    "\n",
    "train_df, test_df = split_temporal_data(df)\n",
    "\n",
    "x_train = train_df.drop(\"target\").to_numpy()\n",
    "y_train = train_df[\"target\"].to_numpy()\n",
    "\n",
    "x_test = test_df.drop(\"target\").to_numpy()\n",
    "y_test = test_df[\"target\"].to_numpy()\n",
    "\n",
    "x_train.shape, y_train.shape, x_test.shape, y_test.shape"
   ]
  },
  {
   "cell_type": "code",
   "execution_count": 26,
   "id": "b919e9dd",
   "metadata": {},
   "outputs": [],
   "source": [
    "rf_reg = RandomForestRegressor(random_state=123)\n",
    "rf_reg.fit(x_train, y_train)\n",
    "rf_reg.score(x_test, y_test)\n",
    "\n",
    "y_pred = rf_reg.predict(x_test)"
   ]
  },
  {
   "cell_type": "code",
   "execution_count": 27,
   "id": "96b8bf42",
   "metadata": {},
   "outputs": [
    {
     "data": {
      "text/plain": [
       "{'MAE': 43.48, 'RMSE': 71.07, 'MAPE': 24.61}"
      ]
     },
     "execution_count": 27,
     "metadata": {},
     "output_type": "execute_result"
    }
   ],
   "source": [
    "metrics_base_with_lagged_feats = compute_metrics(y_test, y_pred)\n",
    "metrics_base_with_lagged_feats"
   ]
  },
  {
   "cell_type": "code",
   "execution_count": null,
   "id": "1b1c03a9",
   "metadata": {},
   "outputs": [
    {
     "data": {
      "application/vnd.plotly.v1+json": {
       "config": {
        "plotlyServerURL": "https://plot.ly"
       },
       "data": [
        {
         "line": {
          "color": "blue",
          "width": 2
         },
         "mode": "lines",
         "name": "y_test (Actual)",
         "type": "scatter",
         "x": [
          0,
          1,
          2,
          3,
          4,
          5,
          6,
          7,
          8,
          9,
          10,
          11,
          12,
          13,
          14,
          15,
          16,
          17,
          18,
          19,
          20,
          21,
          22,
          23,
          24,
          25,
          26,
          27,
          28,
          29,
          30,
          31,
          32,
          33,
          34,
          35,
          36,
          37,
          38,
          39,
          40,
          41,
          42,
          43,
          44,
          45,
          46,
          47,
          48,
          49,
          50,
          51,
          52,
          53,
          54,
          55,
          56,
          57,
          58,
          59,
          60,
          61,
          62,
          63,
          64,
          65,
          66,
          67,
          68,
          69,
          70,
          71,
          72,
          73,
          74,
          75,
          76,
          77,
          78,
          79,
          80,
          81,
          82,
          83,
          84,
          85,
          86,
          87,
          88,
          89,
          90,
          91,
          92,
          93,
          94,
          95,
          96,
          97,
          98,
          99,
          100,
          101,
          102,
          103,
          104,
          105,
          106,
          107,
          108,
          109,
          110,
          111,
          112,
          113,
          114,
          115,
          116,
          117,
          118,
          119,
          120,
          121,
          122,
          123,
          124,
          125,
          126,
          127,
          128,
          129,
          130,
          131,
          132,
          133,
          134,
          135,
          136,
          137,
          138,
          139,
          140,
          141,
          142,
          143,
          144,
          145,
          146,
          147,
          148,
          149,
          150,
          151,
          152,
          153,
          154,
          155,
          156,
          157,
          158,
          159,
          160,
          161,
          162,
          163,
          164,
          165,
          166,
          167,
          168,
          169,
          170,
          171,
          172,
          173,
          174,
          175,
          176,
          177,
          178,
          179,
          180,
          181,
          182,
          183,
          184,
          185,
          186,
          187,
          188,
          189,
          190,
          191,
          192,
          193,
          194,
          195,
          196,
          197,
          198,
          199,
          200,
          201,
          202,
          203,
          204,
          205,
          206,
          207,
          208,
          209,
          210,
          211,
          212,
          213,
          214,
          215,
          216,
          217,
          218,
          219,
          220,
          221,
          222,
          223,
          224,
          225,
          226,
          227,
          228,
          229,
          230,
          231,
          232,
          233,
          234,
          235,
          236,
          237,
          238,
          239,
          240,
          241,
          242,
          243,
          244,
          245,
          246,
          247,
          248,
          249,
          250,
          251,
          252,
          253,
          254,
          255,
          256,
          257,
          258,
          259,
          260,
          261,
          262,
          263,
          264,
          265,
          266,
          267,
          268,
          269,
          270,
          271,
          272,
          273,
          274,
          275,
          276,
          277,
          278,
          279,
          280,
          281,
          282,
          283,
          284,
          285,
          286,
          287,
          288,
          289,
          290,
          291,
          292,
          293,
          294,
          295,
          296,
          297,
          298,
          299
         ],
         "y": {
          "bdata": "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",
          "dtype": "f8"
         }
        },
        {
         "line": {
          "color": "red",
          "width": 2
         },
         "mode": "lines",
         "name": "y_pred (Predicted with Lagged Features)",
         "type": "scatter",
         "x": [
          0,
          1,
          2,
          3,
          4,
          5,
          6,
          7,
          8,
          9,
          10,
          11,
          12,
          13,
          14,
          15,
          16,
          17,
          18,
          19,
          20,
          21,
          22,
          23,
          24,
          25,
          26,
          27,
          28,
          29,
          30,
          31,
          32,
          33,
          34,
          35,
          36,
          37,
          38,
          39,
          40,
          41,
          42,
          43,
          44,
          45,
          46,
          47,
          48,
          49,
          50,
          51,
          52,
          53,
          54,
          55,
          56,
          57,
          58,
          59,
          60,
          61,
          62,
          63,
          64,
          65,
          66,
          67,
          68,
          69,
          70,
          71,
          72,
          73,
          74,
          75,
          76,
          77,
          78,
          79,
          80,
          81,
          82,
          83,
          84,
          85,
          86,
          87,
          88,
          89,
          90,
          91,
          92,
          93,
          94,
          95,
          96,
          97,
          98,
          99,
          100,
          101,
          102,
          103,
          104,
          105,
          106,
          107,
          108,
          109,
          110,
          111,
          112,
          113,
          114,
          115,
          116,
          117,
          118,
          119,
          120,
          121,
          122,
          123,
          124,
          125,
          126,
          127,
          128,
          129,
          130,
          131,
          132,
          133,
          134,
          135,
          136,
          137,
          138,
          139,
          140,
          141,
          142,
          143,
          144,
          145,
          146,
          147,
          148,
          149,
          150,
          151,
          152,
          153,
          154,
          155,
          156,
          157,
          158,
          159,
          160,
          161,
          162,
          163,
          164,
          165,
          166,
          167,
          168,
          169,
          170,
          171,
          172,
          173,
          174,
          175,
          176,
          177,
          178,
          179,
          180,
          181,
          182,
          183,
          184,
          185,
          186,
          187,
          188,
          189,
          190,
          191,
          192,
          193,
          194,
          195,
          196,
          197,
          198,
          199,
          200,
          201,
          202,
          203,
          204,
          205,
          206,
          207,
          208,
          209,
          210,
          211,
          212,
          213,
          214,
          215,
          216,
          217,
          218,
          219,
          220,
          221,
          222,
          223,
          224,
          225,
          226,
          227,
          228,
          229,
          230,
          231,
          232,
          233,
          234,
          235,
          236,
          237,
          238,
          239,
          240,
          241,
          242,
          243,
          244,
          245,
          246,
          247,
          248,
          249,
          250,
          251,
          252,
          253,
          254,
          255,
          256,
          257,
          258,
          259,
          260,
          261,
          262,
          263,
          264,
          265,
          266,
          267,
          268,
          269,
          270,
          271,
          272,
          273,
          274,
          275,
          276,
          277,
          278,
          279,
          280,
          281,
          282,
          283,
          284,
          285,
          286,
          287,
          288,
          289,
          290,
          291,
          292,
          293,
          294,
          295,
          296,
          297,
          298,
          299
         ],
         "y": {
          "bdata": "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",
          "dtype": "f8"
         }
        }
       ],
       "layout": {
        "height": 500,
        "hovermode": "x unified",
        "template": {
         "data": {
          "bar": [
           {
            "error_x": {
             "color": "#2a3f5f"
            },
            "error_y": {
             "color": "#2a3f5f"
            },
            "marker": {
             "line": {
              "color": "white",
              "width": 0.5
             },
             "pattern": {
              "fillmode": "overlay",
              "size": 10,
              "solidity": 0.2
             }
            },
            "type": "bar"
           }
          ],
          "barpolar": [
           {
            "marker": {
             "line": {
              "color": "white",
              "width": 0.5
             },
             "pattern": {
              "fillmode": "overlay",
              "size": 10,
              "solidity": 0.2
             }
            },
            "type": "barpolar"
           }
          ],
          "carpet": [
           {
            "aaxis": {
             "endlinecolor": "#2a3f5f",
             "gridcolor": "#C8D4E3",
             "linecolor": "#C8D4E3",
             "minorgridcolor": "#C8D4E3",
             "startlinecolor": "#2a3f5f"
            },
            "baxis": {
             "endlinecolor": "#2a3f5f",
             "gridcolor": "#C8D4E3",
             "linecolor": "#C8D4E3",
             "minorgridcolor": "#C8D4E3",
             "startlinecolor": "#2a3f5f"
            },
            "type": "carpet"
           }
          ],
          "choropleth": [
           {
            "colorbar": {
             "outlinewidth": 0,
             "ticks": ""
            },
            "type": "choropleth"
           }
          ],
          "contour": [
           {
            "colorbar": {
             "outlinewidth": 0,
             "ticks": ""
            },
            "colorscale": [
             [
              0,
              "#0d0887"
             ],
             [
              0.1111111111111111,
              "#46039f"
             ],
             [
              0.2222222222222222,
              "#7201a8"
             ],
             [
              0.3333333333333333,
              "#9c179e"
             ],
             [
              0.4444444444444444,
              "#bd3786"
             ],
             [
              0.5555555555555556,
              "#d8576b"
             ],
             [
              0.6666666666666666,
              "#ed7953"
             ],
             [
              0.7777777777777778,
              "#fb9f3a"
             ],
             [
              0.8888888888888888,
              "#fdca26"
             ],
             [
              1,
              "#f0f921"
             ]
            ],
            "type": "contour"
           }
          ],
          "contourcarpet": [
           {
            "colorbar": {
             "outlinewidth": 0,
             "ticks": ""
            },
            "type": "contourcarpet"
           }
          ],
          "heatmap": [
           {
            "colorbar": {
             "outlinewidth": 0,
             "ticks": ""
            },
            "colorscale": [
             [
              0,
              "#0d0887"
             ],
             [
              0.1111111111111111,
              "#46039f"
             ],
             [
              0.2222222222222222,
              "#7201a8"
             ],
             [
              0.3333333333333333,
              "#9c179e"
             ],
             [
              0.4444444444444444,
              "#bd3786"
             ],
             [
              0.5555555555555556,
              "#d8576b"
             ],
             [
              0.6666666666666666,
              "#ed7953"
             ],
             [
              0.7777777777777778,
              "#fb9f3a"
             ],
             [
              0.8888888888888888,
              "#fdca26"
             ],
             [
              1,
              "#f0f921"
             ]
            ],
            "type": "heatmap"
           }
          ],
          "histogram": [
           {
            "marker": {
             "pattern": {
              "fillmode": "overlay",
              "size": 10,
              "solidity": 0.2
             }
            },
            "type": "histogram"
           }
          ],
          "histogram2d": [
           {
            "colorbar": {
             "outlinewidth": 0,
             "ticks": ""
            },
            "colorscale": [
             [
              0,
              "#0d0887"
             ],
             [
              0.1111111111111111,
              "#46039f"
             ],
             [
              0.2222222222222222,
              "#7201a8"
             ],
             [
              0.3333333333333333,
              "#9c179e"
             ],
             [
              0.4444444444444444,
              "#bd3786"
             ],
             [
              0.5555555555555556,
              "#d8576b"
             ],
             [
              0.6666666666666666,
              "#ed7953"
             ],
             [
              0.7777777777777778,
              "#fb9f3a"
             ],
             [
              0.8888888888888888,
              "#fdca26"
             ],
             [
              1,
              "#f0f921"
             ]
            ],
            "type": "histogram2d"
           }
          ],
          "histogram2dcontour": [
           {
            "colorbar": {
             "outlinewidth": 0,
             "ticks": ""
            },
            "colorscale": [
             [
              0,
              "#0d0887"
             ],
             [
              0.1111111111111111,
              "#46039f"
             ],
             [
              0.2222222222222222,
              "#7201a8"
             ],
             [
              0.3333333333333333,
              "#9c179e"
             ],
             [
              0.4444444444444444,
              "#bd3786"
             ],
             [
              0.5555555555555556,
              "#d8576b"
             ],
             [
              0.6666666666666666,
              "#ed7953"
             ],
             [
              0.7777777777777778,
              "#fb9f3a"
             ],
             [
              0.8888888888888888,
              "#fdca26"
             ],
             [
              1,
              "#f0f921"
             ]
            ],
            "type": "histogram2dcontour"
           }
          ],
          "mesh3d": [
           {
            "colorbar": {
             "outlinewidth": 0,
             "ticks": ""
            },
            "type": "mesh3d"
           }
          ],
          "parcoords": [
           {
            "line": {
             "colorbar": {
              "outlinewidth": 0,
              "ticks": ""
             }
            },
            "type": "parcoords"
           }
          ],
          "pie": [
           {
            "automargin": true,
            "type": "pie"
           }
          ],
          "scatter": [
           {
            "fillpattern": {
             "fillmode": "overlay",
             "size": 10,
             "solidity": 0.2
            },
            "type": "scatter"
           }
          ],
          "scatter3d": [
           {
            "line": {
             "colorbar": {
              "outlinewidth": 0,
              "ticks": ""
             }
            },
            "marker": {
             "colorbar": {
              "outlinewidth": 0,
              "ticks": ""
             }
            },
            "type": "scatter3d"
           }
          ],
          "scattercarpet": [
           {
            "marker": {
             "colorbar": {
              "outlinewidth": 0,
              "ticks": ""
             }
            },
            "type": "scattercarpet"
           }
          ],
          "scattergeo": [
           {
            "marker": {
             "colorbar": {
              "outlinewidth": 0,
              "ticks": ""
             }
            },
            "type": "scattergeo"
           }
          ],
          "scattergl": [
           {
            "marker": {
             "colorbar": {
              "outlinewidth": 0,
              "ticks": ""
             }
            },
            "type": "scattergl"
           }
          ],
          "scattermap": [
           {
            "marker": {
             "colorbar": {
              "outlinewidth": 0,
              "ticks": ""
             }
            },
            "type": "scattermap"
           }
          ],
          "scattermapbox": [
           {
            "marker": {
             "colorbar": {
              "outlinewidth": 0,
              "ticks": ""
             }
            },
            "type": "scattermapbox"
           }
          ],
          "scatterpolar": [
           {
            "marker": {
             "colorbar": {
              "outlinewidth": 0,
              "ticks": ""
             }
            },
            "type": "scatterpolar"
           }
          ],
          "scatterpolargl": [
           {
            "marker": {
             "colorbar": {
              "outlinewidth": 0,
              "ticks": ""
             }
            },
            "type": "scatterpolargl"
           }
          ],
          "scatterternary": [
           {
            "marker": {
             "colorbar": {
              "outlinewidth": 0,
              "ticks": ""
             }
            },
            "type": "scatterternary"
           }
          ],
          "surface": [
           {
            "colorbar": {
             "outlinewidth": 0,
             "ticks": ""
            },
            "colorscale": [
             [
              0,
              "#0d0887"
             ],
             [
              0.1111111111111111,
              "#46039f"
             ],
             [
              0.2222222222222222,
              "#7201a8"
             ],
             [
              0.3333333333333333,
              "#9c179e"
             ],
             [
              0.4444444444444444,
              "#bd3786"
             ],
             [
              0.5555555555555556,
              "#d8576b"
             ],
             [
              0.6666666666666666,
              "#ed7953"
             ],
             [
              0.7777777777777778,
              "#fb9f3a"
             ],
             [
              0.8888888888888888,
              "#fdca26"
             ],
             [
              1,
              "#f0f921"
             ]
            ],
            "type": "surface"
           }
          ],
          "table": [
           {
            "cells": {
             "fill": {
              "color": "#EBF0F8"
             },
             "line": {
              "color": "white"
             }
            },
            "header": {
             "fill": {
              "color": "#C8D4E3"
             },
             "line": {
              "color": "white"
             }
            },
            "type": "table"
           }
          ]
         },
         "layout": {
          "annotationdefaults": {
           "arrowcolor": "#2a3f5f",
           "arrowhead": 0,
           "arrowwidth": 1
          },
          "autotypenumbers": "strict",
          "coloraxis": {
           "colorbar": {
            "outlinewidth": 0,
            "ticks": ""
           }
          },
          "colorscale": {
           "diverging": [
            [
             0,
             "#8e0152"
            ],
            [
             0.1,
             "#c51b7d"
            ],
            [
             0.2,
             "#de77ae"
            ],
            [
             0.3,
             "#f1b6da"
            ],
            [
             0.4,
             "#fde0ef"
            ],
            [
             0.5,
             "#f7f7f7"
            ],
            [
             0.6,
             "#e6f5d0"
            ],
            [
             0.7,
             "#b8e186"
            ],
            [
             0.8,
             "#7fbc41"
            ],
            [
             0.9,
             "#4d9221"
            ],
            [
             1,
             "#276419"
            ]
           ],
           "sequential": [
            [
             0,
             "#0d0887"
            ],
            [
             0.1111111111111111,
             "#46039f"
            ],
            [
             0.2222222222222222,
             "#7201a8"
            ],
            [
             0.3333333333333333,
             "#9c179e"
            ],
            [
             0.4444444444444444,
             "#bd3786"
            ],
            [
             0.5555555555555556,
             "#d8576b"
            ],
            [
             0.6666666666666666,
             "#ed7953"
            ],
            [
             0.7777777777777778,
             "#fb9f3a"
            ],
            [
             0.8888888888888888,
             "#fdca26"
            ],
            [
             1,
             "#f0f921"
            ]
           ],
           "sequentialminus": [
            [
             0,
             "#0d0887"
            ],
            [
             0.1111111111111111,
             "#46039f"
            ],
            [
             0.2222222222222222,
             "#7201a8"
            ],
            [
             0.3333333333333333,
             "#9c179e"
            ],
            [
             0.4444444444444444,
             "#bd3786"
            ],
            [
             0.5555555555555556,
             "#d8576b"
            ],
            [
             0.6666666666666666,
             "#ed7953"
            ],
            [
             0.7777777777777778,
             "#fb9f3a"
            ],
            [
             0.8888888888888888,
             "#fdca26"
            ],
            [
             1,
             "#f0f921"
            ]
           ]
          },
          "colorway": [
           "#636efa",
           "#EF553B",
           "#00cc96",
           "#ab63fa",
           "#FFA15A",
           "#19d3f3",
           "#FF6692",
           "#B6E880",
           "#FF97FF",
           "#FECB52"
          ],
          "font": {
           "color": "#2a3f5f"
          },
          "geo": {
           "bgcolor": "white",
           "lakecolor": "white",
           "landcolor": "white",
           "showlakes": true,
           "showland": true,
           "subunitcolor": "#C8D4E3"
          },
          "hoverlabel": {
           "align": "left"
          },
          "hovermode": "closest",
          "mapbox": {
           "style": "light"
          },
          "paper_bgcolor": "white",
          "plot_bgcolor": "white",
          "polar": {
           "angularaxis": {
            "gridcolor": "#EBF0F8",
            "linecolor": "#EBF0F8",
            "ticks": ""
           },
           "bgcolor": "white",
           "radialaxis": {
            "gridcolor": "#EBF0F8",
            "linecolor": "#EBF0F8",
            "ticks": ""
           }
          },
          "scene": {
           "xaxis": {
            "backgroundcolor": "white",
            "gridcolor": "#DFE8F3",
            "gridwidth": 2,
            "linecolor": "#EBF0F8",
            "showbackground": true,
            "ticks": "",
            "zerolinecolor": "#EBF0F8"
           },
           "yaxis": {
            "backgroundcolor": "white",
            "gridcolor": "#DFE8F3",
            "gridwidth": 2,
            "linecolor": "#EBF0F8",
            "showbackground": true,
            "ticks": "",
            "zerolinecolor": "#EBF0F8"
           },
           "zaxis": {
            "backgroundcolor": "white",
            "gridcolor": "#DFE8F3",
            "gridwidth": 2,
            "linecolor": "#EBF0F8",
            "showbackground": true,
            "ticks": "",
            "zerolinecolor": "#EBF0F8"
           }
          },
          "shapedefaults": {
           "line": {
            "color": "#2a3f5f"
           }
          },
          "ternary": {
           "aaxis": {
            "gridcolor": "#DFE8F3",
            "linecolor": "#A2B1C6",
            "ticks": ""
           },
           "baxis": {
            "gridcolor": "#DFE8F3",
            "linecolor": "#A2B1C6",
            "ticks": ""
           },
           "bgcolor": "white",
           "caxis": {
            "gridcolor": "#DFE8F3",
            "linecolor": "#A2B1C6",
            "ticks": ""
           }
          },
          "title": {
           "x": 0.05
          },
          "xaxis": {
           "automargin": true,
           "gridcolor": "#EBF0F8",
           "linecolor": "#EBF0F8",
           "ticks": "",
           "title": {
            "standoff": 15
           },
           "zerolinecolor": "#EBF0F8",
           "zerolinewidth": 2
          },
          "yaxis": {
           "automargin": true,
           "gridcolor": "#EBF0F8",
           "linecolor": "#EBF0F8",
           "ticks": "",
           "title": {
            "standoff": 15
           },
           "zerolinecolor": "#EBF0F8",
           "zerolinewidth": 2
          }
         }
        },
        "title": {
         "text": "Actual vs Predicted Bike Rental Counts"
        },
        "width": 800,
        "xaxis": {
         "title": {
          "text": "Time Steps"
         }
        },
        "yaxis": {
         "title": {
          "text": "Bike Rental Count"
         }
        }
       }
      }
     },
     "metadata": {},
     "output_type": "display_data"
    }
   ],
   "source": [
    "plot_actual_vs_predicted(\n",
    "    y_true=y_test,\n",
    "    y_pred=y_pred,\n",
    "    n=n,\n",
    "    title=\"Actual vs Predicted Bike Rental Counts (Base Model with Lagged Features)\",\n",
    ")"
   ]
  },
  {
   "cell_type": "code",
   "execution_count": 29,
   "id": "abad636c",
   "metadata": {},
   "outputs": [
    {
     "data": {
      "text/html": [
       "<pre style=\"white-space:pre;overflow-x:auto;line-height:normal;font-family:Menlo,'DejaVu Sans Mono',consolas,'Courier New',monospace\"><span style=\"color: #00ff00; text-decoration-color: #00ff00\">Metrics </span><span style=\"color: #00ff00; text-decoration-color: #00ff00; font-weight: bold\">(</span><span style=\"color: #00ff00; text-decoration-color: #00ff00\">Base Model</span><span style=\"color: #00ff00; text-decoration-color: #00ff00; font-weight: bold\">)</span><span style=\"color: #00ff00; text-decoration-color: #00ff00\">: </span><span style=\"color: #00ff00; text-decoration-color: #00ff00; font-weight: bold\">{</span><span style=\"color: #008000; text-decoration-color: #008000\">'MAE'</span><span style=\"color: #00ff00; text-decoration-color: #00ff00\">: </span><span style=\"color: #008080; text-decoration-color: #008080; font-weight: bold\">84.78</span><span style=\"color: #00ff00; text-decoration-color: #00ff00\">, </span><span style=\"color: #008000; text-decoration-color: #008000\">'RMSE'</span><span style=\"color: #00ff00; text-decoration-color: #00ff00\">: </span><span style=\"color: #008080; text-decoration-color: #008080; font-weight: bold\">116.41</span><span style=\"color: #00ff00; text-decoration-color: #00ff00\">, </span><span style=\"color: #008000; text-decoration-color: #008000\">'MAPE'</span><span style=\"color: #00ff00; text-decoration-color: #00ff00\">: </span><span style=\"color: #008080; text-decoration-color: #008080; font-weight: bold\">34.11</span><span style=\"color: #00ff00; text-decoration-color: #00ff00; font-weight: bold\">}</span>\n",
       "</pre>\n"
      ],
      "text/plain": [
       "\u001b[38;2;0;255;0mMetrics \u001b[0m\u001b[1;38;2;0;255;0m(\u001b[0m\u001b[38;2;0;255;0mBase Model\u001b[0m\u001b[1;38;2;0;255;0m)\u001b[0m\u001b[38;2;0;255;0m: \u001b[0m\u001b[1;38;2;0;255;0m{\u001b[0m\u001b[32m'MAE'\u001b[0m\u001b[38;2;0;255;0m: \u001b[0m\u001b[1;36m84.78\u001b[0m\u001b[38;2;0;255;0m, \u001b[0m\u001b[32m'RMSE'\u001b[0m\u001b[38;2;0;255;0m: \u001b[0m\u001b[1;36m116.41\u001b[0m\u001b[38;2;0;255;0m, \u001b[0m\u001b[32m'MAPE'\u001b[0m\u001b[38;2;0;255;0m: \u001b[0m\u001b[1;36m34.11\u001b[0m\u001b[1;38;2;0;255;0m}\u001b[0m\n"
      ]
     },
     "metadata": {},
     "output_type": "display_data"
    },
    {
     "data": {
      "text/html": [
       "<pre style=\"white-space:pre;overflow-x:auto;line-height:normal;font-family:Menlo,'DejaVu Sans Mono',consolas,'Courier New',monospace\"><span style=\"color: #00ff00; text-decoration-color: #00ff00\">Metrics </span><span style=\"color: #00ff00; text-decoration-color: #00ff00; font-weight: bold\">(</span><span style=\"color: #00ff00; text-decoration-color: #00ff00\">Dummy Model</span><span style=\"color: #00ff00; text-decoration-color: #00ff00; font-weight: bold\">)</span><span style=\"color: #00ff00; text-decoration-color: #00ff00\">: </span><span style=\"color: #00ff00; text-decoration-color: #00ff00; font-weight: bold\">{</span><span style=\"color: #008000; text-decoration-color: #008000\">'MAE'</span><span style=\"color: #00ff00; text-decoration-color: #00ff00\">: </span><span style=\"color: #008080; text-decoration-color: #008080; font-weight: bold\">87.01</span><span style=\"color: #00ff00; text-decoration-color: #00ff00\">, </span><span style=\"color: #008000; text-decoration-color: #008000\">'RMSE'</span><span style=\"color: #00ff00; text-decoration-color: #00ff00\">: </span><span style=\"color: #008080; text-decoration-color: #008080; font-weight: bold\">128.17</span><span style=\"color: #00ff00; text-decoration-color: #00ff00\">, </span><span style=\"color: #008000; text-decoration-color: #008000\">'MAPE'</span><span style=\"color: #00ff00; text-decoration-color: #00ff00\">: </span><span style=\"color: #008080; text-decoration-color: #008080; font-weight: bold\">55.4</span><span style=\"color: #00ff00; text-decoration-color: #00ff00; font-weight: bold\">}</span>\n",
       "</pre>\n"
      ],
      "text/plain": [
       "\u001b[38;2;0;255;0mMetrics \u001b[0m\u001b[1;38;2;0;255;0m(\u001b[0m\u001b[38;2;0;255;0mDummy Model\u001b[0m\u001b[1;38;2;0;255;0m)\u001b[0m\u001b[38;2;0;255;0m: \u001b[0m\u001b[1;38;2;0;255;0m{\u001b[0m\u001b[32m'MAE'\u001b[0m\u001b[38;2;0;255;0m: \u001b[0m\u001b[1;36m87.01\u001b[0m\u001b[38;2;0;255;0m, \u001b[0m\u001b[32m'RMSE'\u001b[0m\u001b[38;2;0;255;0m: \u001b[0m\u001b[1;36m128.17\u001b[0m\u001b[38;2;0;255;0m, \u001b[0m\u001b[32m'MAPE'\u001b[0m\u001b[38;2;0;255;0m: \u001b[0m\u001b[1;36m55.4\u001b[0m\u001b[1;38;2;0;255;0m}\u001b[0m\n"
      ]
     },
     "metadata": {},
     "output_type": "display_data"
    },
    {
     "data": {
      "text/html": [
       "<pre style=\"white-space:pre;overflow-x:auto;line-height:normal;font-family:Menlo,'DejaVu Sans Mono',consolas,'Courier New',monospace\"><span style=\"color: #00ff00; text-decoration-color: #00ff00\">Metrics </span><span style=\"color: #00ff00; text-decoration-color: #00ff00; font-weight: bold\">(</span><span style=\"color: #00ff00; text-decoration-color: #00ff00\">Base Model with Lagged Features</span><span style=\"color: #00ff00; text-decoration-color: #00ff00; font-weight: bold\">)</span><span style=\"color: #00ff00; text-decoration-color: #00ff00\">: </span><span style=\"color: #00ff00; text-decoration-color: #00ff00; font-weight: bold\">{</span><span style=\"color: #008000; text-decoration-color: #008000\">'MAE'</span><span style=\"color: #00ff00; text-decoration-color: #00ff00\">: </span><span style=\"color: #008080; text-decoration-color: #008080; font-weight: bold\">43.48</span><span style=\"color: #00ff00; text-decoration-color: #00ff00\">, </span><span style=\"color: #008000; text-decoration-color: #008000\">'RMSE'</span><span style=\"color: #00ff00; text-decoration-color: #00ff00\">: </span><span style=\"color: #008080; text-decoration-color: #008080; font-weight: bold\">71.07</span><span style=\"color: #00ff00; text-decoration-color: #00ff00\">, </span><span style=\"color: #008000; text-decoration-color: #008000\">'MAPE'</span><span style=\"color: #00ff00; text-decoration-color: #00ff00\">: </span><span style=\"color: #008080; text-decoration-color: #008080; font-weight: bold\">24.61</span><span style=\"color: #00ff00; text-decoration-color: #00ff00; font-weight: bold\">}</span>\n",
       "</pre>\n"
      ],
      "text/plain": [
       "\u001b[38;2;0;255;0mMetrics \u001b[0m\u001b[1;38;2;0;255;0m(\u001b[0m\u001b[38;2;0;255;0mBase Model with Lagged Features\u001b[0m\u001b[1;38;2;0;255;0m)\u001b[0m\u001b[38;2;0;255;0m: \u001b[0m\u001b[1;38;2;0;255;0m{\u001b[0m\u001b[32m'MAE'\u001b[0m\u001b[38;2;0;255;0m: \u001b[0m\u001b[1;36m43.48\u001b[0m\u001b[38;2;0;255;0m, \u001b[0m\u001b[32m'RMSE'\u001b[0m\u001b[38;2;0;255;0m: \u001b[0m\u001b[1;36m71.07\u001b[0m\u001b[38;2;0;255;0m, \u001b[0m\u001b[32m'MAPE'\u001b[0m\u001b[38;2;0;255;0m: \u001b[0m\u001b[1;36m24.61\u001b[0m\u001b[1;38;2;0;255;0m}\u001b[0m\n"
      ]
     },
     "metadata": {},
     "output_type": "display_data"
    }
   ],
   "source": [
    "console.print(f\"Metrics (Base Model): {metrics_base}\", style=\"info\")\n",
    "console.print(f\"Metrics (Dummy Model): {metrics_dummy}\", style=\"info\")\n",
    "console.print(\n",
    "    f\"Metrics (Base Model with Lagged Features): {metrics_base_with_lagged_feats}\",\n",
    "    style=\"info\",\n",
    ")"
   ]
  },
  {
   "cell_type": "code",
   "execution_count": null,
   "id": "5f24057c",
   "metadata": {},
   "outputs": [
    {
     "data": {
      "text/html": [
       "<pre style=\"white-space:pre;overflow-x:auto;line-height:normal;font-family:Menlo,'DejaVu Sans Mono',consolas,'Courier New',monospace\"><span style=\"color: #ff4500; text-decoration-color: #ff4500\">MAE Change: </span><span style=\"color: #008080; text-decoration-color: #008080; font-weight: bold\">-50.03</span><span style=\"color: #ff4500; text-decoration-color: #ff4500\">%</span>\n",
       "</pre>\n"
      ],
      "text/plain": [
       "\u001b[38;2;255;69;0mMAE Change: \u001b[0m\u001b[1;36m-50.03\u001b[0m\u001b[38;2;255;69;0m%\u001b[0m\n"
      ]
     },
     "metadata": {},
     "output_type": "display_data"
    },
    {
     "data": {
      "text/html": [
       "<pre style=\"white-space:pre;overflow-x:auto;line-height:normal;font-family:Menlo,'DejaVu Sans Mono',consolas,'Courier New',monospace\"><span style=\"color: #ff4500; text-decoration-color: #ff4500\">RMSE Change: </span><span style=\"color: #008080; text-decoration-color: #008080; font-weight: bold\">-44.55</span><span style=\"color: #ff4500; text-decoration-color: #ff4500\">%</span>\n",
       "</pre>\n"
      ],
      "text/plain": [
       "\u001b[38;2;255;69;0mRMSE Change: \u001b[0m\u001b[1;36m-44.55\u001b[0m\u001b[38;2;255;69;0m%\u001b[0m\n"
      ]
     },
     "metadata": {},
     "output_type": "display_data"
    },
    {
     "data": {
      "text/html": [
       "<pre style=\"white-space:pre;overflow-x:auto;line-height:normal;font-family:Menlo,'DejaVu Sans Mono',consolas,'Courier New',monospace\"><span style=\"color: #ff4500; text-decoration-color: #ff4500\">MAPE Change: </span><span style=\"color: #008080; text-decoration-color: #008080; font-weight: bold\">-55.58</span><span style=\"color: #ff4500; text-decoration-color: #ff4500\">%</span>\n",
       "</pre>\n"
      ],
      "text/plain": [
       "\u001b[38;2;255;69;0mMAPE Change: \u001b[0m\u001b[1;36m-55.58\u001b[0m\u001b[38;2;255;69;0m%\u001b[0m\n"
      ]
     },
     "metadata": {},
     "output_type": "display_data"
    }
   ],
   "source": [
    "mae_base, mae_dummy = (\n",
    "    metrics_base_with_lagged_feats.get(\"MAE\"),\n",
    "    metrics_dummy.get(\"MAE\"),\n",
    ")\n",
    "rmse_base, rmse_dummy = (\n",
    "    metrics_base_with_lagged_feats.get(\"RMSE\"),\n",
    "    metrics_dummy.get(\"RMSE\"),\n",
    ")\n",
    "mape_base, mape_dummy = (\n",
    "    metrics_base_with_lagged_feats.get(\"MAPE\"),\n",
    "    metrics_dummy.get(\"MAPE\"),\n",
    ")\n",
    "\n",
    "console.print(\n",
    "    f\"MAE Change: {pct_change(old=mae_dummy, new=mae_base):.2f}%\", style=\"highlight\"\n",
    ")\n",
    "console.print(\n",
    "    f\"RMSE Change: {pct_change(old=rmse_dummy, new=rmse_base):.2f}%\", style=\"highlight\"\n",
    ")\n",
    "console.print(\n",
    "    f\"MAPE Change: {pct_change(old=mape_dummy, new=mape_base):.2f}%\", style=\"highlight\"\n",
    ")"
   ]
  },
  {
   "cell_type": "code",
   "execution_count": null,
   "id": "48eb3e7b",
   "metadata": {},
   "outputs": [
    {
     "data": {
      "text/html": [
       "<pre style=\"white-space:pre;overflow-x:auto;line-height:normal;font-family:Menlo,'DejaVu Sans Mono',consolas,'Courier New',monospace\"><span style=\"color: #ff4500; text-decoration-color: #ff4500\">MAE Change: </span><span style=\"color: #008080; text-decoration-color: #008080; font-weight: bold\">-48.71</span><span style=\"color: #ff4500; text-decoration-color: #ff4500\">%</span>\n",
       "</pre>\n"
      ],
      "text/plain": [
       "\u001b[38;2;255;69;0mMAE Change: \u001b[0m\u001b[1;36m-48.71\u001b[0m\u001b[38;2;255;69;0m%\u001b[0m\n"
      ]
     },
     "metadata": {},
     "output_type": "display_data"
    },
    {
     "data": {
      "text/html": [
       "<pre style=\"white-space:pre;overflow-x:auto;line-height:normal;font-family:Menlo,'DejaVu Sans Mono',consolas,'Courier New',monospace\"><span style=\"color: #ff4500; text-decoration-color: #ff4500\">RMSE Change: </span><span style=\"color: #008080; text-decoration-color: #008080; font-weight: bold\">-38.95</span><span style=\"color: #ff4500; text-decoration-color: #ff4500\">%</span>\n",
       "</pre>\n"
      ],
      "text/plain": [
       "\u001b[38;2;255;69;0mRMSE Change: \u001b[0m\u001b[1;36m-38.95\u001b[0m\u001b[38;2;255;69;0m%\u001b[0m\n"
      ]
     },
     "metadata": {},
     "output_type": "display_data"
    },
    {
     "data": {
      "text/html": [
       "<pre style=\"white-space:pre;overflow-x:auto;line-height:normal;font-family:Menlo,'DejaVu Sans Mono',consolas,'Courier New',monospace\"><span style=\"color: #ff4500; text-decoration-color: #ff4500\">MAPE Change: </span><span style=\"color: #008080; text-decoration-color: #008080; font-weight: bold\">-27.85</span><span style=\"color: #ff4500; text-decoration-color: #ff4500\">%</span>\n",
       "</pre>\n"
      ],
      "text/plain": [
       "\u001b[38;2;255;69;0mMAPE Change: \u001b[0m\u001b[1;36m-27.85\u001b[0m\u001b[38;2;255;69;0m%\u001b[0m\n"
      ]
     },
     "metadata": {},
     "output_type": "display_data"
    }
   ],
   "source": [
    "mae_new, mae_old = (\n",
    "    metrics_base_with_lagged_feats.get(\"MAE\"),\n",
    "    metrics_base.get(\"MAE\"),\n",
    ")\n",
    "rmse_new, rmse_old = (\n",
    "    metrics_base_with_lagged_feats.get(\"RMSE\"),\n",
    "    metrics_base.get(\"RMSE\"),\n",
    ")\n",
    "mape_new, mape_old = (\n",
    "    metrics_base_with_lagged_feats.get(\"MAPE\"),\n",
    "    metrics_base.get(\"MAPE\"),\n",
    ")\n",
    "\n",
    "console.print(\n",
    "    f\"MAE Change: {pct_change(old=mae_old, new=mae_new):.2f}%\", style=\"highlight\"\n",
    ")\n",
    "console.print(\n",
    "    f\"RMSE Change: {pct_change(old=rmse_old, new=rmse_new):.2f}%\", style=\"highlight\"\n",
    ")\n",
    "console.print(\n",
    "    f\"MAPE Change: {pct_change(old=mape_old, new=mape_new):.2f}%\", style=\"highlight\"\n",
    ")"
   ]
  },
  {
   "cell_type": "code",
   "execution_count": null,
   "id": "91b38c77",
   "metadata": {},
   "outputs": [],
   "source": []
  },
  {
   "cell_type": "markdown",
   "id": "62936f7c",
   "metadata": {},
   "source": [
    "# Add More Features\n",
    "\n",
    "- Add `temporal` features\n",
    "  - `dayofweek`\n",
    "  - `month`\n",
    "  - `is_weekend`\n",
    "  - `is_holiday`\n",
    "\n",
    "- Add `seasonal` features\n",
    "  - spring, summer, fall, winter\n",
    "  - `sin_hour`, `cos_hour`, `sin_day_of_week`, `cos_day_of_week`\n",
    "\n",
    "- Add `trend` features\n",
    "  - `cnt_diff_1hr`, `cnt_diff_3hr`, `cnt_diff_6hr`, `cnt_diff_24hr`\n",
    "\n",
    "- Add `lagged` features\n",
    "  - `cnt_lag_1`, `cnt_lag_2`, `cnt_lag_23`, `cnt_lag_24`\n",
    "  - `hr_lag_1`, `hr_lag_2`\n",
    "\n",
    "- Add `exogenous` (not time-based) features\n",
    "  - `temp`, `hum`, `windspeed`, `weather`\n",
    "  - `holiday`, `event`\n",
    "  - `location` (if available)\n",
    "\n",
    "- Add `derived` features\n",
    "  - `temp_change_1hr`, `temp_change_3hr`\n",
    "  - Add `rolling` features\n",
    "    - `cnt_roll_mean_3hr`, `cnt_roll_std_3hr`\n",
    "    - `cnt_roll_mean_6hr`, `cnt_roll_std_6hr`\n",
    "    - `cnt_roll_mean_24hr`, `cnt_roll_std_24hr`\n",
    "  - Add `interaction` features\n",
    "    - `temp_hum_interaction`, `temp_wind_interaction`\n",
    "  - Add `binary` features\n",
    "    - `is_high_temp`, `is_low_hum`, `is_peak_hour`, `is_working_hour`, `is_business_hour`, `is_weekend`"
   ]
  },
  {
   "cell_type": "code",
   "execution_count": null,
   "id": "50ff5dab",
   "metadata": {},
   "outputs": [],
   "source": []
  },
  {
   "cell_type": "code",
   "execution_count": null,
   "id": "3cfc8d72",
   "metadata": {},
   "outputs": [
    {
     "data": {
      "text/html": [
       "<div><style>\n",
       ".dataframe > thead > tr,\n",
       ".dataframe > tbody > tr {\n",
       "  text-align: right;\n",
       "  white-space: pre-wrap;\n",
       "}\n",
       "</style>\n",
       "<small>shape: (5, 12)</small><table border=\"1\" class=\"dataframe\"><thead><tr><th>season</th><th>mnth</th><th>hr</th><th>holiday</th><th>weekday</th><th>workingday</th><th>weathersit</th><th>temp</th><th>hum</th><th>windspeed</th><th>cnt</th><th>target</th></tr><tr><td>i64</td><td>i64</td><td>i64</td><td>i64</td><td>i64</td><td>i64</td><td>i64</td><td>f64</td><td>f64</td><td>f64</td><td>i64</td><td>i64</td></tr></thead><tbody><tr><td>1</td><td>1</td><td>0</td><td>0</td><td>6</td><td>0</td><td>1</td><td>0.24</td><td>0.81</td><td>0.0</td><td>16</td><td>40</td></tr><tr><td>1</td><td>1</td><td>1</td><td>0</td><td>6</td><td>0</td><td>1</td><td>0.22</td><td>0.8</td><td>0.0</td><td>40</td><td>32</td></tr><tr><td>1</td><td>1</td><td>2</td><td>0</td><td>6</td><td>0</td><td>1</td><td>0.22</td><td>0.8</td><td>0.0</td><td>32</td><td>13</td></tr><tr><td>1</td><td>1</td><td>3</td><td>0</td><td>6</td><td>0</td><td>1</td><td>0.24</td><td>0.75</td><td>0.0</td><td>13</td><td>1</td></tr><tr><td>1</td><td>1</td><td>4</td><td>0</td><td>6</td><td>0</td><td>1</td><td>0.24</td><td>0.75</td><td>0.0</td><td>1</td><td>1</td></tr></tbody></table></div>"
      ],
      "text/plain": [
       "shape: (5, 12)\n",
       "┌────────┬──────┬─────┬─────────┬─────────┬─────────┬────────┬──────┬──────┬────────┬─────┬────────┐\n",
       "│ season ┆ mnth ┆ hr  ┆ holiday ┆ weekday ┆ working ┆ weathe ┆ temp ┆ hum  ┆ windsp ┆ cnt ┆ target │\n",
       "│ ---    ┆ ---  ┆ --- ┆ ---     ┆ ---     ┆ day     ┆ rsit   ┆ ---  ┆ ---  ┆ eed    ┆ --- ┆ ---    │\n",
       "│ i64    ┆ i64  ┆ i64 ┆ i64     ┆ i64     ┆ ---     ┆ ---    ┆ f64  ┆ f64  ┆ ---    ┆ i64 ┆ i64    │\n",
       "│        ┆      ┆     ┆         ┆         ┆ i64     ┆ i64    ┆      ┆      ┆ f64    ┆     ┆        │\n",
       "╞════════╪══════╪═════╪═════════╪═════════╪═════════╪════════╪══════╪══════╪════════╪═════╪════════╡\n",
       "│ 1      ┆ 1    ┆ 0   ┆ 0       ┆ 6       ┆ 0       ┆ 1      ┆ 0.24 ┆ 0.81 ┆ 0.0    ┆ 16  ┆ 40     │\n",
       "│ 1      ┆ 1    ┆ 1   ┆ 0       ┆ 6       ┆ 0       ┆ 1      ┆ 0.22 ┆ 0.8  ┆ 0.0    ┆ 40  ┆ 32     │\n",
       "│ 1      ┆ 1    ┆ 2   ┆ 0       ┆ 6       ┆ 0       ┆ 1      ┆ 0.22 ┆ 0.8  ┆ 0.0    ┆ 32  ┆ 13     │\n",
       "│ 1      ┆ 1    ┆ 3   ┆ 0       ┆ 6       ┆ 0       ┆ 1      ┆ 0.24 ┆ 0.75 ┆ 0.0    ┆ 13  ┆ 1      │\n",
       "│ 1      ┆ 1    ┆ 4   ┆ 0       ┆ 6       ┆ 0       ┆ 1      ┆ 0.24 ┆ 0.75 ┆ 0.0    ┆ 1   ┆ 1      │\n",
       "└────────┴──────┴─────┴─────────┴─────────┴─────────┴────────┴──────┴──────┴────────┴─────┴────────┘"
      ]
     },
     "execution_count": 32,
     "metadata": {},
     "output_type": "execute_result"
    }
   ],
   "source": [
    "columns_to_drop: list[str] = [\"yr\", \"atemp\", \"casual\", \"registered\", \"datetime\"]\n",
    "df: pl.DataFrame = data.clone().drop(columns_to_drop)\n",
    "\n",
    "# Shift the `cnt` column by one hour to create the target variable\n",
    "# i.e. predict the next hour's demand based on current and past data\n",
    "df = df.with_columns(pl.col(\"cnt\").shift(-1).alias(\"target\")).with_columns(\n",
    "    pl.col(\"target\").fill_null(strategy=\"forward\")\n",
    ")\n",
    "df.head()"
   ]
  },
  {
   "cell_type": "markdown",
   "id": "445a3f55",
   "metadata": {},
   "source": [
    "### Add More Temporal Features"
   ]
  },
  {
   "cell_type": "code",
   "execution_count": null,
   "id": "2d352136",
   "metadata": {},
   "outputs": [
    {
     "data": {
      "text/html": [
       "<div><style>\n",
       ".dataframe > thead > tr,\n",
       ".dataframe > tbody > tr {\n",
       "  text-align: right;\n",
       "  white-space: pre-wrap;\n",
       "}\n",
       "</style>\n",
       "<small>shape: (2, 13)</small><table border=\"1\" class=\"dataframe\"><thead><tr><th>season</th><th>mnth</th><th>hr</th><th>holiday</th><th>weekday</th><th>workingday</th><th>weathersit</th><th>temp</th><th>hum</th><th>windspeed</th><th>cnt</th><th>target</th><th>is_weekend</th></tr><tr><td>i64</td><td>i64</td><td>i64</td><td>i64</td><td>i64</td><td>i64</td><td>i64</td><td>f64</td><td>f64</td><td>f64</td><td>i64</td><td>i64</td><td>i8</td></tr></thead><tbody><tr><td>1</td><td>1</td><td>0</td><td>0</td><td>6</td><td>0</td><td>1</td><td>0.24</td><td>0.81</td><td>0.0</td><td>16</td><td>40</td><td>1</td></tr><tr><td>1</td><td>1</td><td>1</td><td>0</td><td>6</td><td>0</td><td>1</td><td>0.22</td><td>0.8</td><td>0.0</td><td>40</td><td>32</td><td>1</td></tr></tbody></table></div>"
      ],
      "text/plain": [
       "shape: (2, 13)\n",
       "┌─────┬──────┬─────┬────────┬────────┬────────┬────────┬──────┬──────┬───────┬─────┬───────┬───────┐\n",
       "│ sea ┆ mnth ┆ hr  ┆ holida ┆ weekda ┆ workin ┆ weathe ┆ temp ┆ hum  ┆ winds ┆ cnt ┆ targe ┆ is_we │\n",
       "│ son ┆ ---  ┆ --- ┆ y      ┆ y      ┆ gday   ┆ rsit   ┆ ---  ┆ ---  ┆ peed  ┆ --- ┆ t     ┆ ekend │\n",
       "│ --- ┆ i64  ┆ i64 ┆ ---    ┆ ---    ┆ ---    ┆ ---    ┆ f64  ┆ f64  ┆ ---   ┆ i64 ┆ ---   ┆ ---   │\n",
       "│ i64 ┆      ┆     ┆ i64    ┆ i64    ┆ i64    ┆ i64    ┆      ┆      ┆ f64   ┆     ┆ i64   ┆ i8    │\n",
       "╞═════╪══════╪═════╪════════╪════════╪════════╪════════╪══════╪══════╪═══════╪═════╪═══════╪═══════╡\n",
       "│ 1   ┆ 1    ┆ 0   ┆ 0      ┆ 6      ┆ 0      ┆ 1      ┆ 0.24 ┆ 0.81 ┆ 0.0   ┆ 16  ┆ 40    ┆ 1     │\n",
       "│ 1   ┆ 1    ┆ 1   ┆ 0      ┆ 6      ┆ 0      ┆ 1      ┆ 0.22 ┆ 0.8  ┆ 0.0   ┆ 40  ┆ 32    ┆ 1     │\n",
       "└─────┴──────┴─────┴────────┴────────┴────────┴────────┴──────┴──────┴───────┴─────┴───────┴───────┘"
      ]
     },
     "execution_count": 33,
     "metadata": {},
     "output_type": "execute_result"
    }
   ],
   "source": [
    "df = df.with_columns(\n",
    "    (pl.col(\"weekday\").is_in([5, 6])).cast(pl.Int8).alias(\"is_weekend\")\n",
    ")\n",
    "\n",
    "df.head(2)"
   ]
  },
  {
   "cell_type": "markdown",
   "id": "e61025fc",
   "metadata": {},
   "source": [
    "### Add More Seasonal Features\n",
    "\n",
    "- Add `sin` and `cos` transformations for cyclical features like hour of the day and day of the week.\n",
    "\n",
    "$$sin\\_hour = sin(val \\times \\frac{2\\pi}{24})$$\n",
    "$$cos\\_hour = cos(val \\times \\frac{2\\pi}{24})$$\n",
    "$$sin\\_weekday = sin(val \\times \\frac{2\\pi}{7})$$\n",
    "$$cos\\_weekday = cos(val \\times \\frac{2\\pi}{7})$$"
   ]
  },
  {
   "cell_type": "code",
   "execution_count": 34,
   "id": "f729f8e7",
   "metadata": {},
   "outputs": [
    {
     "data": {
      "text/html": [
       "<div><style>\n",
       ".dataframe > thead > tr,\n",
       ".dataframe > tbody > tr {\n",
       "  text-align: right;\n",
       "  white-space: pre-wrap;\n",
       "}\n",
       "</style>\n",
       "<small>shape: (5, 17)</small><table border=\"1\" class=\"dataframe\"><thead><tr><th>season</th><th>mnth</th><th>hr</th><th>holiday</th><th>weekday</th><th>workingday</th><th>weathersit</th><th>temp</th><th>hum</th><th>windspeed</th><th>cnt</th><th>target</th><th>is_weekend</th><th>sin_hour</th><th>cos_hour</th><th>sin_weekday</th><th>cos_weekday</th></tr><tr><td>i64</td><td>i64</td><td>i64</td><td>i64</td><td>i64</td><td>i64</td><td>i64</td><td>f64</td><td>f64</td><td>f64</td><td>i64</td><td>i64</td><td>i8</td><td>f64</td><td>f64</td><td>f64</td><td>f64</td></tr></thead><tbody><tr><td>1</td><td>1</td><td>0</td><td>0</td><td>6</td><td>0</td><td>1</td><td>0.24</td><td>0.81</td><td>0.0</td><td>16</td><td>40</td><td>1</td><td>0.0</td><td>1.0</td><td>-0.781831</td><td>0.62349</td></tr><tr><td>1</td><td>1</td><td>1</td><td>0</td><td>6</td><td>0</td><td>1</td><td>0.22</td><td>0.8</td><td>0.0</td><td>40</td><td>32</td><td>1</td><td>0.258819</td><td>0.965926</td><td>-0.781831</td><td>0.62349</td></tr><tr><td>1</td><td>1</td><td>2</td><td>0</td><td>6</td><td>0</td><td>1</td><td>0.22</td><td>0.8</td><td>0.0</td><td>32</td><td>13</td><td>1</td><td>0.5</td><td>0.866025</td><td>-0.781831</td><td>0.62349</td></tr><tr><td>1</td><td>1</td><td>3</td><td>0</td><td>6</td><td>0</td><td>1</td><td>0.24</td><td>0.75</td><td>0.0</td><td>13</td><td>1</td><td>1</td><td>0.707107</td><td>0.707107</td><td>-0.781831</td><td>0.62349</td></tr><tr><td>1</td><td>1</td><td>4</td><td>0</td><td>6</td><td>0</td><td>1</td><td>0.24</td><td>0.75</td><td>0.0</td><td>1</td><td>1</td><td>1</td><td>0.866025</td><td>0.5</td><td>-0.781831</td><td>0.62349</td></tr></tbody></table></div>"
      ],
      "text/plain": [
       "shape: (5, 17)\n",
       "┌─────┬─────┬─────┬─────┬─────┬─────┬─────┬─────┬─────┬─────┬─────┬─────┬─────┬─────┬─────┬─────┬─────┐\n",
       "│ sea ┆ mnt ┆ hr  ┆ hol ┆ wee ┆ wor ┆ wea ┆ tem ┆ hum ┆ win ┆ cnt ┆ tar ┆ is_ ┆ sin ┆ cos ┆ sin ┆ cos │\n",
       "│ son ┆ h   ┆ --- ┆ ida ┆ kda ┆ kin ┆ the ┆ p   ┆ --- ┆ dsp ┆ --- ┆ get ┆ wee ┆ _ho ┆ _ho ┆ _we ┆ _we │\n",
       "│ --- ┆ --- ┆ i64 ┆ y   ┆ y   ┆ gda ┆ rsi ┆ --- ┆ f64 ┆ eed ┆ i64 ┆ --- ┆ ken ┆ ur  ┆ ur  ┆ ekd ┆ ekd │\n",
       "│ i64 ┆ i64 ┆     ┆ --- ┆ --- ┆ y   ┆ t   ┆ f64 ┆     ┆ --- ┆     ┆ i64 ┆ d   ┆ --- ┆ --- ┆ ay  ┆ ay  │\n",
       "│     ┆     ┆     ┆ i64 ┆ i64 ┆ --- ┆ --- ┆     ┆     ┆ f64 ┆     ┆     ┆ --- ┆ f64 ┆ f64 ┆ --- ┆ --- │\n",
       "│     ┆     ┆     ┆     ┆     ┆ i64 ┆ i64 ┆     ┆     ┆     ┆     ┆     ┆ i8  ┆     ┆     ┆ f64 ┆ f64 │\n",
       "╞═════╪═════╪═════╪═════╪═════╪═════╪═════╪═════╪═════╪═════╪═════╪═════╪═════╪═════╪═════╪═════╪═════╡\n",
       "│ 1   ┆ 1   ┆ 0   ┆ 0   ┆ 6   ┆ 0   ┆ 1   ┆ 0.2 ┆ 0.8 ┆ 0.0 ┆ 16  ┆ 40  ┆ 1   ┆ 0.0 ┆ 1.0 ┆ -0. ┆ 0.6 │\n",
       "│     ┆     ┆     ┆     ┆     ┆     ┆     ┆ 4   ┆ 1   ┆     ┆     ┆     ┆     ┆     ┆     ┆ 781 ┆ 234 │\n",
       "│     ┆     ┆     ┆     ┆     ┆     ┆     ┆     ┆     ┆     ┆     ┆     ┆     ┆     ┆     ┆ 831 ┆ 9   │\n",
       "│ 1   ┆ 1   ┆ 1   ┆ 0   ┆ 6   ┆ 0   ┆ 1   ┆ 0.2 ┆ 0.8 ┆ 0.0 ┆ 40  ┆ 32  ┆ 1   ┆ 0.2 ┆ 0.9 ┆ -0. ┆ 0.6 │\n",
       "│     ┆     ┆     ┆     ┆     ┆     ┆     ┆ 2   ┆     ┆     ┆     ┆     ┆     ┆ 588 ┆ 659 ┆ 781 ┆ 234 │\n",
       "│     ┆     ┆     ┆     ┆     ┆     ┆     ┆     ┆     ┆     ┆     ┆     ┆     ┆ 19  ┆ 26  ┆ 831 ┆ 9   │\n",
       "│ 1   ┆ 1   ┆ 2   ┆ 0   ┆ 6   ┆ 0   ┆ 1   ┆ 0.2 ┆ 0.8 ┆ 0.0 ┆ 32  ┆ 13  ┆ 1   ┆ 0.5 ┆ 0.8 ┆ -0. ┆ 0.6 │\n",
       "│     ┆     ┆     ┆     ┆     ┆     ┆     ┆ 2   ┆     ┆     ┆     ┆     ┆     ┆     ┆ 660 ┆ 781 ┆ 234 │\n",
       "│     ┆     ┆     ┆     ┆     ┆     ┆     ┆     ┆     ┆     ┆     ┆     ┆     ┆     ┆ 25  ┆ 831 ┆ 9   │\n",
       "│ 1   ┆ 1   ┆ 3   ┆ 0   ┆ 6   ┆ 0   ┆ 1   ┆ 0.2 ┆ 0.7 ┆ 0.0 ┆ 13  ┆ 1   ┆ 1   ┆ 0.7 ┆ 0.7 ┆ -0. ┆ 0.6 │\n",
       "│     ┆     ┆     ┆     ┆     ┆     ┆     ┆ 4   ┆ 5   ┆     ┆     ┆     ┆     ┆ 071 ┆ 071 ┆ 781 ┆ 234 │\n",
       "│     ┆     ┆     ┆     ┆     ┆     ┆     ┆     ┆     ┆     ┆     ┆     ┆     ┆ 07  ┆ 07  ┆ 831 ┆ 9   │\n",
       "│ 1   ┆ 1   ┆ 4   ┆ 0   ┆ 6   ┆ 0   ┆ 1   ┆ 0.2 ┆ 0.7 ┆ 0.0 ┆ 1   ┆ 1   ┆ 1   ┆ 0.8 ┆ 0.5 ┆ -0. ┆ 0.6 │\n",
       "│     ┆     ┆     ┆     ┆     ┆     ┆     ┆ 4   ┆ 5   ┆     ┆     ┆     ┆     ┆ 660 ┆     ┆ 781 ┆ 234 │\n",
       "│     ┆     ┆     ┆     ┆     ┆     ┆     ┆     ┆     ┆     ┆     ┆     ┆     ┆ 25  ┆     ┆ 831 ┆ 9   │\n",
       "└─────┴─────┴─────┴─────┴─────┴─────┴─────┴─────┴─────┴─────┴─────┴─────┴─────┴─────┴─────┴─────┴─────┘"
      ]
     },
     "execution_count": 34,
     "metadata": {},
     "output_type": "execute_result"
    }
   ],
   "source": [
    "df = df.with_columns(\n",
    "    (pl.col(\"hr\") * (2 * np.pi / 24)).sin().alias(\"sin_hour\"),\n",
    "    (pl.col(\"hr\") * (2 * np.pi / 24)).cos().alias(\"cos_hour\"),\n",
    "    (pl.col(\"weekday\") * (2 * np.pi / 7)).sin().alias(\"sin_weekday\"),\n",
    "    (pl.col(\"weekday\") * (2 * np.pi / 7)).cos().alias(\"cos_weekday\"),\n",
    ")\n",
    "\n",
    "df.head()"
   ]
  },
  {
   "cell_type": "code",
   "execution_count": 35,
   "id": "606ca6d2",
   "metadata": {},
   "outputs": [
    {
     "data": {
      "application/vnd.plotly.v1+json": {
       "config": {
        "plotlyServerURL": "https://plot.ly"
       },
       "data": [
        {
         "line": {
          "color": "blue",
          "width": 2
         },
         "mode": "lines",
         "name": "Hour (sin)",
         "type": "scatter",
         "x": [
          0,
          1,
          2,
          3,
          4,
          5,
          6,
          7,
          8,
          9,
          10,
          11,
          12,
          13,
          14,
          15,
          16,
          17,
          18,
          19,
          20,
          21,
          22,
          23,
          24,
          25,
          26,
          27,
          28,
          29,
          30,
          31,
          32,
          33,
          34,
          35,
          36,
          37,
          38,
          39,
          40,
          41,
          42,
          43,
          44,
          45,
          46,
          47,
          48,
          49,
          50,
          51,
          52,
          53,
          54,
          55,
          56,
          57,
          58,
          59,
          60,
          61,
          62,
          63,
          64,
          65,
          66,
          67,
          68,
          69,
          70,
          71,
          72,
          73,
          74,
          75,
          76,
          77,
          78,
          79,
          80,
          81,
          82,
          83,
          84,
          85,
          86,
          87,
          88,
          89,
          90,
          91,
          92,
          93,
          94,
          95,
          96,
          97,
          98,
          99
         ],
         "y": {
          "bdata": "AAAAAAAAAACQBpPBfZDQP////////98/zDt/Zp6g5j+qTFjoerbrPxS/SEfd6O4/AAAAAAAA8D8Vv0hH3ejuP6tMWOh6tus/zTt/Zp6g5j8DAAAAAADgP5UGk8F9kNA/B1wUMyamoTyJBpPBfZDQv/z//////9+/yTt/Zp6g5r+oTFjoerbrvxO/SEfd6O6/AAAAAAAA8L8Wv0hH3ejuv65MWOh6tuu/zjt/Zp6g5r8EAAAAAADgv58Gk8F9kNC/AAAAAAAAAACQBpPBfZDQP////////98/zDt/Zp6g5j+qTFjoerbrPwAAAAAAAPA/Fb9IR93o7j+rTFjoerbrP807f2aeoOY/AwAAAAAA4D+VBpPBfZDQPwdcFDMmpqE8iQaTwX2Q0L/8///////fv8k7f2aeoOa/qExY6Hq2678Tv0hH3ejuvwAAAAAAAPC/Fr9IR93o7r+uTFjoerbrv847f2aeoOa/BAAAAAAA4L+fBpPBfZDQvwAAAAAAAAAAkAaTwX2Q0D+qTFjoerbrPxS/SEfd6O4/AAAAAAAA8D8Vv0hH3ejuP6tMWOh6tus/zTt/Zp6g5j8DAAAAAADgP5UGk8F9kNA/B1wUMyamoTyJBpPBfZDQv/z//////9+/yTt/Zp6g5r+oTFjoerbrvxO/SEfd6O6/AAAAAAAA8L8Wv0hH3ejuv65MWOh6tuu/zjt/Zp6g5r8EAAAAAADgv58Gk8F9kNC/AAAAAAAAAACQBpPBfZDQP////////98/qkxY6Hq26z8Uv0hH3ejuPwAAAAAAAPA/Fb9IR93o7j+rTFjoerbrP807f2aeoOY/AwAAAAAA4D+VBpPBfZDQPwdcFDMmpqE8iQaTwX2Q0L/8///////fv8k7f2aeoOa/qExY6Hq2678Tv0hH3ejuvwAAAAAAAPC/Fr9IR93o7r+uTFjoerbrv847f2aeoOa/BAAAAAAA4L+fBpPBfZDQvwAAAAAAAAAAkAaTwX2Q0D/////////fP6pMWOh6tus/FL9IR93o7j8AAAAAAADwPxW/SEfd6O4/q0xY6Hq26z8=",
          "dtype": "f8"
         }
        },
        {
         "line": {
          "color": "red",
          "width": 2
         },
         "mode": "lines",
         "name": "Hour (cos)",
         "type": "scatter",
         "x": [
          0,
          1,
          2,
          3,
          4,
          5,
          6,
          7,
          8,
          9,
          10,
          11,
          12,
          13,
          14,
          15,
          16,
          17,
          18,
          19,
          20,
          21,
          22,
          23,
          24,
          25,
          26,
          27,
          28,
          29,
          30,
          31,
          32,
          33,
          34,
          35,
          36,
          37,
          38,
          39,
          40,
          41,
          42,
          43,
          44,
          45,
          46,
          47,
          48,
          49,
          50,
          51,
          52,
          53,
          54,
          55,
          56,
          57,
          58,
          59,
          60,
          61,
          62,
          63,
          64,
          65,
          66,
          67,
          68,
          69,
          70,
          71,
          72,
          73,
          74,
          75,
          76,
          77,
          78,
          79,
          80,
          81,
          82,
          83,
          84,
          85,
          86,
          87,
          88,
          89,
          90,
          91,
          92,
          93,
          94,
          95,
          96,
          97,
          98,
          99
         ],
         "y": {
          "bdata": "AAAAAAAA8D8Vv0hH3ejuP6tMWOh6tus/zTt/Zp6g5j8BAAAAAADgP5QGk8F9kNA/B1wUMyamkTyOBpPBfZDQv/3//////9+/zDt/Zp6g5r+pTFjoerbrvxS/SEfd6O6/AAAAAAAA8L8Wv0hH3ejuv6xMWOh6tuu/0Dt/Zp6g5r8EAAAAAADgv54Gk8F9kNC/CoqeTDl5qryIBpPBfZDQP/T//////98/yzt/Zp6g5j+oTFjoerbrPxO/SEfd6O4/AAAAAAAA8D8Vv0hH3ejuP6tMWOh6tus/zTt/Zp6g5j8BAAAAAADgPwdcFDMmppE8jgaTwX2Q0L/9///////fv8w7f2aeoOa/qUxY6Hq2678Uv0hH3ejuvwAAAAAAAPC/Fr9IR93o7r+sTFjoerbrv9A7f2aeoOa/BAAAAAAA4L+eBpPBfZDQvwqKnkw5eaq8iAaTwX2Q0D/0///////fP8s7f2aeoOY/qExY6Hq26z8Tv0hH3ejuPwAAAAAAAPA/Fb9IR93o7j8BAAAAAADgP5QGk8F9kNA/B1wUMyamkTyOBpPBfZDQv/3//////9+/zDt/Zp6g5r+pTFjoerbrvxS/SEfd6O6/AAAAAAAA8L8Wv0hH3ejuv6xMWOh6tuu/0Dt/Zp6g5r8EAAAAAADgv54Gk8F9kNC/CoqeTDl5qryIBpPBfZDQP/T//////98/yzt/Zp6g5j+oTFjoerbrPxO/SEfd6O4/AAAAAAAA8D8Vv0hH3ejuP6tMWOh6tus/AQAAAAAA4D+UBpPBfZDQPwdcFDMmppE8jgaTwX2Q0L/9///////fv8w7f2aeoOa/qUxY6Hq2678Uv0hH3ejuvwAAAAAAAPC/Fr9IR93o7r+sTFjoerbrv9A7f2aeoOa/BAAAAAAA4L+eBpPBfZDQvwqKnkw5eaq8iAaTwX2Q0D/0///////fP8s7f2aeoOY/qExY6Hq26z8Tv0hH3ejuPwAAAAAAAPA/Fb9IR93o7j+rTFjoerbrPwEAAAAAAOA/lAaTwX2Q0D8HXBQzJqaRPI4Gk8F9kNC//f//////378=",
          "dtype": "f8"
         }
        }
       ],
       "layout": {
        "height": 500,
        "hovermode": "x unified",
        "template": {
         "data": {
          "bar": [
           {
            "error_x": {
             "color": "#2a3f5f"
            },
            "error_y": {
             "color": "#2a3f5f"
            },
            "marker": {
             "line": {
              "color": "white",
              "width": 0.5
             },
             "pattern": {
              "fillmode": "overlay",
              "size": 10,
              "solidity": 0.2
             }
            },
            "type": "bar"
           }
          ],
          "barpolar": [
           {
            "marker": {
             "line": {
              "color": "white",
              "width": 0.5
             },
             "pattern": {
              "fillmode": "overlay",
              "size": 10,
              "solidity": 0.2
             }
            },
            "type": "barpolar"
           }
          ],
          "carpet": [
           {
            "aaxis": {
             "endlinecolor": "#2a3f5f",
             "gridcolor": "#C8D4E3",
             "linecolor": "#C8D4E3",
             "minorgridcolor": "#C8D4E3",
             "startlinecolor": "#2a3f5f"
            },
            "baxis": {
             "endlinecolor": "#2a3f5f",
             "gridcolor": "#C8D4E3",
             "linecolor": "#C8D4E3",
             "minorgridcolor": "#C8D4E3",
             "startlinecolor": "#2a3f5f"
            },
            "type": "carpet"
           }
          ],
          "choropleth": [
           {
            "colorbar": {
             "outlinewidth": 0,
             "ticks": ""
            },
            "type": "choropleth"
           }
          ],
          "contour": [
           {
            "colorbar": {
             "outlinewidth": 0,
             "ticks": ""
            },
            "colorscale": [
             [
              0,
              "#0d0887"
             ],
             [
              0.1111111111111111,
              "#46039f"
             ],
             [
              0.2222222222222222,
              "#7201a8"
             ],
             [
              0.3333333333333333,
              "#9c179e"
             ],
             [
              0.4444444444444444,
              "#bd3786"
             ],
             [
              0.5555555555555556,
              "#d8576b"
             ],
             [
              0.6666666666666666,
              "#ed7953"
             ],
             [
              0.7777777777777778,
              "#fb9f3a"
             ],
             [
              0.8888888888888888,
              "#fdca26"
             ],
             [
              1,
              "#f0f921"
             ]
            ],
            "type": "contour"
           }
          ],
          "contourcarpet": [
           {
            "colorbar": {
             "outlinewidth": 0,
             "ticks": ""
            },
            "type": "contourcarpet"
           }
          ],
          "heatmap": [
           {
            "colorbar": {
             "outlinewidth": 0,
             "ticks": ""
            },
            "colorscale": [
             [
              0,
              "#0d0887"
             ],
             [
              0.1111111111111111,
              "#46039f"
             ],
             [
              0.2222222222222222,
              "#7201a8"
             ],
             [
              0.3333333333333333,
              "#9c179e"
             ],
             [
              0.4444444444444444,
              "#bd3786"
             ],
             [
              0.5555555555555556,
              "#d8576b"
             ],
             [
              0.6666666666666666,
              "#ed7953"
             ],
             [
              0.7777777777777778,
              "#fb9f3a"
             ],
             [
              0.8888888888888888,
              "#fdca26"
             ],
             [
              1,
              "#f0f921"
             ]
            ],
            "type": "heatmap"
           }
          ],
          "histogram": [
           {
            "marker": {
             "pattern": {
              "fillmode": "overlay",
              "size": 10,
              "solidity": 0.2
             }
            },
            "type": "histogram"
           }
          ],
          "histogram2d": [
           {
            "colorbar": {
             "outlinewidth": 0,
             "ticks": ""
            },
            "colorscale": [
             [
              0,
              "#0d0887"
             ],
             [
              0.1111111111111111,
              "#46039f"
             ],
             [
              0.2222222222222222,
              "#7201a8"
             ],
             [
              0.3333333333333333,
              "#9c179e"
             ],
             [
              0.4444444444444444,
              "#bd3786"
             ],
             [
              0.5555555555555556,
              "#d8576b"
             ],
             [
              0.6666666666666666,
              "#ed7953"
             ],
             [
              0.7777777777777778,
              "#fb9f3a"
             ],
             [
              0.8888888888888888,
              "#fdca26"
             ],
             [
              1,
              "#f0f921"
             ]
            ],
            "type": "histogram2d"
           }
          ],
          "histogram2dcontour": [
           {
            "colorbar": {
             "outlinewidth": 0,
             "ticks": ""
            },
            "colorscale": [
             [
              0,
              "#0d0887"
             ],
             [
              0.1111111111111111,
              "#46039f"
             ],
             [
              0.2222222222222222,
              "#7201a8"
             ],
             [
              0.3333333333333333,
              "#9c179e"
             ],
             [
              0.4444444444444444,
              "#bd3786"
             ],
             [
              0.5555555555555556,
              "#d8576b"
             ],
             [
              0.6666666666666666,
              "#ed7953"
             ],
             [
              0.7777777777777778,
              "#fb9f3a"
             ],
             [
              0.8888888888888888,
              "#fdca26"
             ],
             [
              1,
              "#f0f921"
             ]
            ],
            "type": "histogram2dcontour"
           }
          ],
          "mesh3d": [
           {
            "colorbar": {
             "outlinewidth": 0,
             "ticks": ""
            },
            "type": "mesh3d"
           }
          ],
          "parcoords": [
           {
            "line": {
             "colorbar": {
              "outlinewidth": 0,
              "ticks": ""
             }
            },
            "type": "parcoords"
           }
          ],
          "pie": [
           {
            "automargin": true,
            "type": "pie"
           }
          ],
          "scatter": [
           {
            "fillpattern": {
             "fillmode": "overlay",
             "size": 10,
             "solidity": 0.2
            },
            "type": "scatter"
           }
          ],
          "scatter3d": [
           {
            "line": {
             "colorbar": {
              "outlinewidth": 0,
              "ticks": ""
             }
            },
            "marker": {
             "colorbar": {
              "outlinewidth": 0,
              "ticks": ""
             }
            },
            "type": "scatter3d"
           }
          ],
          "scattercarpet": [
           {
            "marker": {
             "colorbar": {
              "outlinewidth": 0,
              "ticks": ""
             }
            },
            "type": "scattercarpet"
           }
          ],
          "scattergeo": [
           {
            "marker": {
             "colorbar": {
              "outlinewidth": 0,
              "ticks": ""
             }
            },
            "type": "scattergeo"
           }
          ],
          "scattergl": [
           {
            "marker": {
             "colorbar": {
              "outlinewidth": 0,
              "ticks": ""
             }
            },
            "type": "scattergl"
           }
          ],
          "scattermap": [
           {
            "marker": {
             "colorbar": {
              "outlinewidth": 0,
              "ticks": ""
             }
            },
            "type": "scattermap"
           }
          ],
          "scattermapbox": [
           {
            "marker": {
             "colorbar": {
              "outlinewidth": 0,
              "ticks": ""
             }
            },
            "type": "scattermapbox"
           }
          ],
          "scatterpolar": [
           {
            "marker": {
             "colorbar": {
              "outlinewidth": 0,
              "ticks": ""
             }
            },
            "type": "scatterpolar"
           }
          ],
          "scatterpolargl": [
           {
            "marker": {
             "colorbar": {
              "outlinewidth": 0,
              "ticks": ""
             }
            },
            "type": "scatterpolargl"
           }
          ],
          "scatterternary": [
           {
            "marker": {
             "colorbar": {
              "outlinewidth": 0,
              "ticks": ""
             }
            },
            "type": "scatterternary"
           }
          ],
          "surface": [
           {
            "colorbar": {
             "outlinewidth": 0,
             "ticks": ""
            },
            "colorscale": [
             [
              0,
              "#0d0887"
             ],
             [
              0.1111111111111111,
              "#46039f"
             ],
             [
              0.2222222222222222,
              "#7201a8"
             ],
             [
              0.3333333333333333,
              "#9c179e"
             ],
             [
              0.4444444444444444,
              "#bd3786"
             ],
             [
              0.5555555555555556,
              "#d8576b"
             ],
             [
              0.6666666666666666,
              "#ed7953"
             ],
             [
              0.7777777777777778,
              "#fb9f3a"
             ],
             [
              0.8888888888888888,
              "#fdca26"
             ],
             [
              1,
              "#f0f921"
             ]
            ],
            "type": "surface"
           }
          ],
          "table": [
           {
            "cells": {
             "fill": {
              "color": "#EBF0F8"
             },
             "line": {
              "color": "white"
             }
            },
            "header": {
             "fill": {
              "color": "#C8D4E3"
             },
             "line": {
              "color": "white"
             }
            },
            "type": "table"
           }
          ]
         },
         "layout": {
          "annotationdefaults": {
           "arrowcolor": "#2a3f5f",
           "arrowhead": 0,
           "arrowwidth": 1
          },
          "autotypenumbers": "strict",
          "coloraxis": {
           "colorbar": {
            "outlinewidth": 0,
            "ticks": ""
           }
          },
          "colorscale": {
           "diverging": [
            [
             0,
             "#8e0152"
            ],
            [
             0.1,
             "#c51b7d"
            ],
            [
             0.2,
             "#de77ae"
            ],
            [
             0.3,
             "#f1b6da"
            ],
            [
             0.4,
             "#fde0ef"
            ],
            [
             0.5,
             "#f7f7f7"
            ],
            [
             0.6,
             "#e6f5d0"
            ],
            [
             0.7,
             "#b8e186"
            ],
            [
             0.8,
             "#7fbc41"
            ],
            [
             0.9,
             "#4d9221"
            ],
            [
             1,
             "#276419"
            ]
           ],
           "sequential": [
            [
             0,
             "#0d0887"
            ],
            [
             0.1111111111111111,
             "#46039f"
            ],
            [
             0.2222222222222222,
             "#7201a8"
            ],
            [
             0.3333333333333333,
             "#9c179e"
            ],
            [
             0.4444444444444444,
             "#bd3786"
            ],
            [
             0.5555555555555556,
             "#d8576b"
            ],
            [
             0.6666666666666666,
             "#ed7953"
            ],
            [
             0.7777777777777778,
             "#fb9f3a"
            ],
            [
             0.8888888888888888,
             "#fdca26"
            ],
            [
             1,
             "#f0f921"
            ]
           ],
           "sequentialminus": [
            [
             0,
             "#0d0887"
            ],
            [
             0.1111111111111111,
             "#46039f"
            ],
            [
             0.2222222222222222,
             "#7201a8"
            ],
            [
             0.3333333333333333,
             "#9c179e"
            ],
            [
             0.4444444444444444,
             "#bd3786"
            ],
            [
             0.5555555555555556,
             "#d8576b"
            ],
            [
             0.6666666666666666,
             "#ed7953"
            ],
            [
             0.7777777777777778,
             "#fb9f3a"
            ],
            [
             0.8888888888888888,
             "#fdca26"
            ],
            [
             1,
             "#f0f921"
            ]
           ]
          },
          "colorway": [
           "#636efa",
           "#EF553B",
           "#00cc96",
           "#ab63fa",
           "#FFA15A",
           "#19d3f3",
           "#FF6692",
           "#B6E880",
           "#FF97FF",
           "#FECB52"
          ],
          "font": {
           "color": "#2a3f5f"
          },
          "geo": {
           "bgcolor": "white",
           "lakecolor": "white",
           "landcolor": "white",
           "showlakes": true,
           "showland": true,
           "subunitcolor": "#C8D4E3"
          },
          "hoverlabel": {
           "align": "left"
          },
          "hovermode": "closest",
          "mapbox": {
           "style": "light"
          },
          "paper_bgcolor": "white",
          "plot_bgcolor": "white",
          "polar": {
           "angularaxis": {
            "gridcolor": "#EBF0F8",
            "linecolor": "#EBF0F8",
            "ticks": ""
           },
           "bgcolor": "white",
           "radialaxis": {
            "gridcolor": "#EBF0F8",
            "linecolor": "#EBF0F8",
            "ticks": ""
           }
          },
          "scene": {
           "xaxis": {
            "backgroundcolor": "white",
            "gridcolor": "#DFE8F3",
            "gridwidth": 2,
            "linecolor": "#EBF0F8",
            "showbackground": true,
            "ticks": "",
            "zerolinecolor": "#EBF0F8"
           },
           "yaxis": {
            "backgroundcolor": "white",
            "gridcolor": "#DFE8F3",
            "gridwidth": 2,
            "linecolor": "#EBF0F8",
            "showbackground": true,
            "ticks": "",
            "zerolinecolor": "#EBF0F8"
           },
           "zaxis": {
            "backgroundcolor": "white",
            "gridcolor": "#DFE8F3",
            "gridwidth": 2,
            "linecolor": "#EBF0F8",
            "showbackground": true,
            "ticks": "",
            "zerolinecolor": "#EBF0F8"
           }
          },
          "shapedefaults": {
           "line": {
            "color": "#2a3f5f"
           }
          },
          "ternary": {
           "aaxis": {
            "gridcolor": "#DFE8F3",
            "linecolor": "#A2B1C6",
            "ticks": ""
           },
           "baxis": {
            "gridcolor": "#DFE8F3",
            "linecolor": "#A2B1C6",
            "ticks": ""
           },
           "bgcolor": "white",
           "caxis": {
            "gridcolor": "#DFE8F3",
            "linecolor": "#A2B1C6",
            "ticks": ""
           }
          },
          "title": {
           "x": 0.05
          },
          "xaxis": {
           "automargin": true,
           "gridcolor": "#EBF0F8",
           "linecolor": "#EBF0F8",
           "ticks": "",
           "title": {
            "standoff": 15
           },
           "zerolinecolor": "#EBF0F8",
           "zerolinewidth": 2
          },
          "yaxis": {
           "automargin": true,
           "gridcolor": "#EBF0F8",
           "linecolor": "#EBF0F8",
           "ticks": "",
           "title": {
            "standoff": 15
           },
           "zerolinecolor": "#EBF0F8",
           "zerolinewidth": 2
          }
         }
        },
        "title": {
         "text": "</b>Cyclical Features: Sine and Cosine Transformations of Hour of Day</b>"
        },
        "width": 800,
        "xaxis": {
         "title": {
          "text": "Time Steps"
         }
        },
        "yaxis": {
         "title": {
          "text": "Transformed Value"
         }
        }
       }
      }
     },
     "metadata": {},
     "output_type": "display_data"
    }
   ],
   "source": [
    "n: int = 100\n",
    "\n",
    "fig = go.Figure()\n",
    "\n",
    "# Add actual values trace\n",
    "fig.add_trace(\n",
    "    go.Scatter(\n",
    "        x=list(range(n)),\n",
    "        y=df[\"sin_hour\"][:n],\n",
    "        mode=\"lines\",\n",
    "        name=\"Hour (sin)\",\n",
    "        line={\"color\": \"blue\", \"width\": 2},\n",
    "    )\n",
    ")\n",
    "\n",
    "# Add predicted values trace\n",
    "fig.add_trace(\n",
    "    go.Scatter(\n",
    "        x=list(range(n)),\n",
    "        y=df[\"cos_hour\"][:n],\n",
    "        mode=\"lines\",\n",
    "        name=\"Hour (cos)\",\n",
    "        line={\"color\": \"red\", \"width\": 2},\n",
    "    )\n",
    ")\n",
    "\n",
    "# Update layout for better visualization\n",
    "fig.update_layout(\n",
    "    title=\"</b>Cyclical Features: Sine and Cosine Transformations of Hour of Day</b>\",\n",
    "    xaxis_title=\"Time Steps\",\n",
    "    yaxis_title=\"Transformed Value\",\n",
    "    hovermode=\"x unified\",\n",
    "    template=\"plotly_white\",\n",
    "    width=800,\n",
    "    height=500,\n",
    ")\n",
    "\n",
    "# Show the interactive plot\n",
    "fig.show()"
   ]
  },
  {
   "cell_type": "code",
   "execution_count": null,
   "id": "0d46808c",
   "metadata": {},
   "outputs": [
    {
     "data": {
      "text/plain": [
       "[(1, 0.9925069855541919),\n",
       " (2, 0.981283920572705),\n",
       " (3, 0.965779929192312),\n",
       " (4, 0.9472661046674967),\n",
       " (5, 0.9271454013371131),\n",
       " (23, 0.9143308473785758),\n",
       " (24, 0.9134493764203966),\n",
       " (22, 0.9104627601429008),\n",
       " (6, 0.9067865271191217),\n",
       " (21, 0.9025653925620295)]"
      ]
     },
     "execution_count": 36,
     "metadata": {},
     "output_type": "execute_result"
    }
   ],
   "source": [
    "auto_correlation: dict[int, float] = compute_autocorrelation(\n",
    "    series=df[\"temp\"], max_lag=24\n",
    ")\n",
    "\n",
    "sorted_auto_correlation = sorted(\n",
    "    auto_correlation.items(),\n",
    "    key=lambda item: item[1] if item[1] is not None else -1,\n",
    "    reverse=True,\n",
    ")\n",
    "sorted_auto_correlation[:10]"
   ]
  },
  {
   "cell_type": "code",
   "execution_count": null,
   "id": "14ac3d04",
   "metadata": {},
   "outputs": [
    {
     "data": {
      "text/plain": [
       "[(1, 0.95011035078593),\n",
       " (2, 0.8913004002293619),\n",
       " (3, 0.8192387808004927),\n",
       " (4, 0.7376664285470248),\n",
       " (5, 0.6520438180037119),\n",
       " (6, 0.567206978881164),\n",
       " (23, 0.4911800511124771),\n",
       " (24, 0.49054695336399995),\n",
       " (7, 0.4853189164438995),\n",
       " (22, 0.476470193927108)]"
      ]
     },
     "execution_count": 37,
     "metadata": {},
     "output_type": "execute_result"
    }
   ],
   "source": [
    "auto_correlation: dict[int, float] = compute_autocorrelation(\n",
    "    series=df[\"hum\"], max_lag=24\n",
    ")\n",
    "\n",
    "sorted_auto_correlation = sorted(\n",
    "    auto_correlation.items(),\n",
    "    key=lambda item: item[1] if item[1] is not None else -1,\n",
    "    reverse=True,\n",
    ")\n",
    "sorted_auto_correlation[:10]"
   ]
  },
  {
   "cell_type": "code",
   "execution_count": null,
   "id": "926daee7",
   "metadata": {},
   "outputs": [
    {
     "data": {
      "text/plain": [
       "[(24, 0.9640175659452095),\n",
       " (23, 0.7765710630489999),\n",
       " (1, 0.7584328002756796),\n",
       " (22, 0.5597192084615917),\n",
       " (2, 0.5377623840211717),\n",
       " (21, 0.35868341735813386),\n",
       " (3, 0.33836951566119616),\n",
       " (20, 0.17897499224973265),\n",
       " (4, 0.1609548142422359),\n",
       " (19, 0.021014626959614716)]"
      ]
     },
     "execution_count": 38,
     "metadata": {},
     "output_type": "execute_result"
    }
   ],
   "source": [
    "auto_correlation: dict[int, float] = compute_autocorrelation(\n",
    "    series=df[\"hr\"], max_lag=24\n",
    ")\n",
    "\n",
    "sorted_auto_correlation = sorted(\n",
    "    auto_correlation.items(),\n",
    "    key=lambda item: item[1] if item[1] is not None else -1,\n",
    "    reverse=True,\n",
    ")\n",
    "sorted_auto_correlation[:10]"
   ]
  },
  {
   "cell_type": "code",
   "execution_count": null,
   "id": "2773dbac",
   "metadata": {},
   "outputs": [],
   "source": []
  },
  {
   "cell_type": "markdown",
   "id": "1d4537a8",
   "metadata": {},
   "source": [
    "### Add Trend Features\n",
    "\n",
    "- Add `diff`/`change` transformations to capture trends over different time horizons.\n",
    "- e.g. `cnt_diff_1hr`, `cnt_diff_24hr`, `temp_diff_1hr`, `temp_diff_3hr`, `hum_diff_1hr`, `hum_diff_2hr`"
   ]
  },
  {
   "cell_type": "code",
   "execution_count": 39,
   "id": "47811dc1",
   "metadata": {},
   "outputs": [
    {
     "data": {
      "text/html": [
       "<div><style>\n",
       ".dataframe > thead > tr,\n",
       ".dataframe > tbody > tr {\n",
       "  text-align: right;\n",
       "  white-space: pre-wrap;\n",
       "}\n",
       "</style>\n",
       "<small>shape: (5, 27)</small><table border=\"1\" class=\"dataframe\"><thead><tr><th>season</th><th>mnth</th><th>hr</th><th>holiday</th><th>weekday</th><th>workingday</th><th>weathersit</th><th>temp</th><th>hum</th><th>windspeed</th><th>cnt</th><th>target</th><th>is_weekend</th><th>sin_hour</th><th>cos_hour</th><th>sin_weekday</th><th>cos_weekday</th><th>cnt_diff_1hr</th><th>cnt_diff_24hr</th><th>hr_diff_1hr</th><th>hr_diff_23hr</th><th>hr_diff_24hr</th><th>temp_diff_1hr</th><th>temp_diff_3hr</th><th>temp_diff_24hr</th><th>hum_diff_1hr</th><th>hum_diff_3hr</th></tr><tr><td>i64</td><td>i64</td><td>i64</td><td>i64</td><td>i64</td><td>i64</td><td>i64</td><td>f64</td><td>f64</td><td>f64</td><td>i64</td><td>i64</td><td>i8</td><td>f64</td><td>f64</td><td>f64</td><td>f64</td><td>i64</td><td>i64</td><td>i64</td><td>i64</td><td>i64</td><td>f64</td><td>f64</td><td>f64</td><td>f64</td><td>f64</td></tr></thead><tbody><tr><td>1</td><td>1</td><td>0</td><td>0</td><td>6</td><td>0</td><td>1</td><td>0.24</td><td>0.81</td><td>0.0</td><td>16</td><td>40</td><td>1</td><td>0.0</td><td>1.0</td><td>-0.781831</td><td>0.62349</td><td>24</td><td>1</td><td>1</td><td>23</td><td>0</td><td>-0.02</td><td>0.0</td><td>0.22</td><td>-0.01</td><td>-0.06</td></tr><tr><td>1</td><td>1</td><td>1</td><td>0</td><td>6</td><td>0</td><td>1</td><td>0.22</td><td>0.8</td><td>0.0</td><td>40</td><td>32</td><td>1</td><td>0.258819</td><td>0.965926</td><td>-0.781831</td><td>0.62349</td><td>24</td><td>1</td><td>1</td><td>23</td><td>0</td><td>-0.02</td><td>0.0</td><td>0.22</td><td>-0.01</td><td>-0.06</td></tr><tr><td>1</td><td>1</td><td>2</td><td>0</td><td>6</td><td>0</td><td>1</td><td>0.22</td><td>0.8</td><td>0.0</td><td>32</td><td>13</td><td>1</td><td>0.5</td><td>0.866025</td><td>-0.781831</td><td>0.62349</td><td>-8</td><td>1</td><td>1</td><td>23</td><td>0</td><td>0.0</td><td>0.0</td><td>0.22</td><td>0.0</td><td>-0.06</td></tr><tr><td>1</td><td>1</td><td>3</td><td>0</td><td>6</td><td>0</td><td>1</td><td>0.24</td><td>0.75</td><td>0.0</td><td>13</td><td>1</td><td>1</td><td>0.707107</td><td>0.707107</td><td>-0.781831</td><td>0.62349</td><td>-19</td><td>1</td><td>1</td><td>23</td><td>0</td><td>0.02</td><td>0.0</td><td>0.22</td><td>-0.05</td><td>-0.06</td></tr><tr><td>1</td><td>1</td><td>4</td><td>0</td><td>6</td><td>0</td><td>1</td><td>0.24</td><td>0.75</td><td>0.0</td><td>1</td><td>1</td><td>1</td><td>0.866025</td><td>0.5</td><td>-0.781831</td><td>0.62349</td><td>-12</td><td>1</td><td>1</td><td>23</td><td>0</td><td>0.0</td><td>0.02</td><td>0.22</td><td>0.0</td><td>-0.05</td></tr></tbody></table></div>"
      ],
      "text/plain": [
       "shape: (5, 27)\n",
       "┌─────┬─────┬─────┬─────┬─────┬─────┬─────┬─────┬─────┬─────┬─────┬─────┬─────┬─────┬─────┬─────┬─────┬─────┬─────┬─────┬─────┬─────┬─────┬─────┬─────┬─────┬─────┐\n",
       "│ sea ┆ mnt ┆ hr  ┆ hol ┆ wee ┆ wor ┆ wea ┆ tem ┆ hum ┆ win ┆ cnt ┆ tar ┆ is_ ┆ sin ┆ cos ┆ sin ┆ cos ┆ cnt ┆ cnt ┆ hr_ ┆ hr_ ┆ hr_ ┆ tem ┆ tem ┆ tem ┆ hum ┆ hum │\n",
       "│ son ┆ h   ┆ --- ┆ ida ┆ kda ┆ kin ┆ the ┆ p   ┆ --- ┆ dsp ┆ --- ┆ get ┆ wee ┆ _ho ┆ _ho ┆ _we ┆ _we ┆ _di ┆ _di ┆ dif ┆ dif ┆ dif ┆ p_d ┆ p_d ┆ p_d ┆ _di ┆ _di │\n",
       "│ --- ┆ --- ┆ i64 ┆ y   ┆ y   ┆ gda ┆ rsi ┆ --- ┆ f64 ┆ eed ┆ i64 ┆ --- ┆ ken ┆ ur  ┆ ur  ┆ ekd ┆ ekd ┆ ff_ ┆ ff_ ┆ f_1 ┆ f_2 ┆ f_2 ┆ iff ┆ iff ┆ iff ┆ ff_ ┆ ff_ │\n",
       "│ i64 ┆ i64 ┆     ┆ --- ┆ --- ┆ y   ┆ t   ┆ f64 ┆     ┆ --- ┆     ┆ i64 ┆ d   ┆ --- ┆ --- ┆ ay  ┆ ay  ┆ 1hr ┆ 24h ┆ hr  ┆ 3hr ┆ 4hr ┆ _1h ┆ _3h ┆ _24 ┆ 1hr ┆ 3hr │\n",
       "│     ┆     ┆     ┆ i64 ┆ i64 ┆ --- ┆ --- ┆     ┆     ┆ f64 ┆     ┆     ┆ --- ┆ f64 ┆ f64 ┆ --- ┆ --- ┆ --- ┆ r   ┆ --- ┆ --- ┆ --- ┆ r   ┆ r   ┆ hr  ┆ --- ┆ --- │\n",
       "│     ┆     ┆     ┆     ┆     ┆ i64 ┆ i64 ┆     ┆     ┆     ┆     ┆     ┆ i8  ┆     ┆     ┆ f64 ┆ f64 ┆ i64 ┆ --- ┆ i64 ┆ i64 ┆ i64 ┆ --- ┆ --- ┆ --- ┆ f64 ┆ f64 │\n",
       "│     ┆     ┆     ┆     ┆     ┆     ┆     ┆     ┆     ┆     ┆     ┆     ┆     ┆     ┆     ┆     ┆     ┆     ┆ i64 ┆     ┆     ┆     ┆ f64 ┆ f64 ┆ f64 ┆     ┆     │\n",
       "╞═════╪═════╪═════╪═════╪═════╪═════╪═════╪═════╪═════╪═════╪═════╪═════╪═════╪═════╪═════╪═════╪═════╪═════╪═════╪═════╪═════╪═════╪═════╪═════╪═════╪═════╪═════╡\n",
       "│ 1   ┆ 1   ┆ 0   ┆ 0   ┆ 6   ┆ 0   ┆ 1   ┆ 0.2 ┆ 0.8 ┆ 0.0 ┆ 16  ┆ 40  ┆ 1   ┆ 0.0 ┆ 1.0 ┆ -0. ┆ 0.6 ┆ 24  ┆ 1   ┆ 1   ┆ 23  ┆ 0   ┆ -0. ┆ 0.0 ┆ 0.2 ┆ -0. ┆ -0. │\n",
       "│     ┆     ┆     ┆     ┆     ┆     ┆     ┆ 4   ┆ 1   ┆     ┆     ┆     ┆     ┆     ┆     ┆ 781 ┆ 234 ┆     ┆     ┆     ┆     ┆     ┆ 02  ┆     ┆ 2   ┆ 01  ┆ 06  │\n",
       "│     ┆     ┆     ┆     ┆     ┆     ┆     ┆     ┆     ┆     ┆     ┆     ┆     ┆     ┆     ┆ 831 ┆ 9   ┆     ┆     ┆     ┆     ┆     ┆     ┆     ┆     ┆     ┆     │\n",
       "│ 1   ┆ 1   ┆ 1   ┆ 0   ┆ 6   ┆ 0   ┆ 1   ┆ 0.2 ┆ 0.8 ┆ 0.0 ┆ 40  ┆ 32  ┆ 1   ┆ 0.2 ┆ 0.9 ┆ -0. ┆ 0.6 ┆ 24  ┆ 1   ┆ 1   ┆ 23  ┆ 0   ┆ -0. ┆ 0.0 ┆ 0.2 ┆ -0. ┆ -0. │\n",
       "│     ┆     ┆     ┆     ┆     ┆     ┆     ┆ 2   ┆     ┆     ┆     ┆     ┆     ┆ 588 ┆ 659 ┆ 781 ┆ 234 ┆     ┆     ┆     ┆     ┆     ┆ 02  ┆     ┆ 2   ┆ 01  ┆ 06  │\n",
       "│     ┆     ┆     ┆     ┆     ┆     ┆     ┆     ┆     ┆     ┆     ┆     ┆     ┆ 19  ┆ 26  ┆ 831 ┆ 9   ┆     ┆     ┆     ┆     ┆     ┆     ┆     ┆     ┆     ┆     │\n",
       "│ 1   ┆ 1   ┆ 2   ┆ 0   ┆ 6   ┆ 0   ┆ 1   ┆ 0.2 ┆ 0.8 ┆ 0.0 ┆ 32  ┆ 13  ┆ 1   ┆ 0.5 ┆ 0.8 ┆ -0. ┆ 0.6 ┆ -8  ┆ 1   ┆ 1   ┆ 23  ┆ 0   ┆ 0.0 ┆ 0.0 ┆ 0.2 ┆ 0.0 ┆ -0. │\n",
       "│     ┆     ┆     ┆     ┆     ┆     ┆     ┆ 2   ┆     ┆     ┆     ┆     ┆     ┆     ┆ 660 ┆ 781 ┆ 234 ┆     ┆     ┆     ┆     ┆     ┆     ┆     ┆ 2   ┆     ┆ 06  │\n",
       "│     ┆     ┆     ┆     ┆     ┆     ┆     ┆     ┆     ┆     ┆     ┆     ┆     ┆     ┆ 25  ┆ 831 ┆ 9   ┆     ┆     ┆     ┆     ┆     ┆     ┆     ┆     ┆     ┆     │\n",
       "│ 1   ┆ 1   ┆ 3   ┆ 0   ┆ 6   ┆ 0   ┆ 1   ┆ 0.2 ┆ 0.7 ┆ 0.0 ┆ 13  ┆ 1   ┆ 1   ┆ 0.7 ┆ 0.7 ┆ -0. ┆ 0.6 ┆ -19 ┆ 1   ┆ 1   ┆ 23  ┆ 0   ┆ 0.0 ┆ 0.0 ┆ 0.2 ┆ -0. ┆ -0. │\n",
       "│     ┆     ┆     ┆     ┆     ┆     ┆     ┆ 4   ┆ 5   ┆     ┆     ┆     ┆     ┆ 071 ┆ 071 ┆ 781 ┆ 234 ┆     ┆     ┆     ┆     ┆     ┆ 2   ┆     ┆ 2   ┆ 05  ┆ 06  │\n",
       "│     ┆     ┆     ┆     ┆     ┆     ┆     ┆     ┆     ┆     ┆     ┆     ┆     ┆ 07  ┆ 07  ┆ 831 ┆ 9   ┆     ┆     ┆     ┆     ┆     ┆     ┆     ┆     ┆     ┆     │\n",
       "│ 1   ┆ 1   ┆ 4   ┆ 0   ┆ 6   ┆ 0   ┆ 1   ┆ 0.2 ┆ 0.7 ┆ 0.0 ┆ 1   ┆ 1   ┆ 1   ┆ 0.8 ┆ 0.5 ┆ -0. ┆ 0.6 ┆ -12 ┆ 1   ┆ 1   ┆ 23  ┆ 0   ┆ 0.0 ┆ 0.0 ┆ 0.2 ┆ 0.0 ┆ -0. │\n",
       "│     ┆     ┆     ┆     ┆     ┆     ┆     ┆ 4   ┆ 5   ┆     ┆     ┆     ┆     ┆ 660 ┆     ┆ 781 ┆ 234 ┆     ┆     ┆     ┆     ┆     ┆     ┆ 2   ┆ 2   ┆     ┆ 05  │\n",
       "│     ┆     ┆     ┆     ┆     ┆     ┆     ┆     ┆     ┆     ┆     ┆     ┆     ┆ 25  ┆     ┆ 831 ┆ 9   ┆     ┆     ┆     ┆     ┆     ┆     ┆     ┆     ┆     ┆     │\n",
       "└─────┴─────┴─────┴─────┴─────┴─────┴─────┴─────┴─────┴─────┴─────┴─────┴─────┴─────┴─────┴─────┴─────┴─────┴─────┴─────┴─────┴─────┴─────┴─────┴─────┴─────┴─────┘"
      ]
     },
     "execution_count": 39,
     "metadata": {},
     "output_type": "execute_result"
    }
   ],
   "source": [
    "df = df.with_columns(\n",
    "    pl.col(\"cnt\").diff(1).alias(\"cnt_diff_1hr\"),\n",
    "    pl.col(\"cnt\").diff(24).alias(\"cnt_diff_24hr\"),\n",
    "    pl.col(\"hr\").diff(1).alias(\"hr_diff_1hr\"),\n",
    "    pl.col(\"hr\").diff(23).alias(\"hr_diff_23hr\"),\n",
    "    pl.col(\"hr\").diff(24).alias(\"hr_diff_24hr\"),\n",
    "    pl.col(\"temp\").diff(1).alias(\"temp_diff_1hr\"),\n",
    "    pl.col(\"temp\").diff(3).alias(\"temp_diff_3hr\"),\n",
    "    pl.col(\"temp\").diff(24).alias(\"temp_diff_24hr\"),\n",
    "    pl.col(\"hum\").diff(1).alias(\"hum_diff_1hr\"),\n",
    "    pl.col(\"hum\").diff(3).alias(\"hum_diff_3hr\"),\n",
    ").fill_null(strategy=\"backward\")\n",
    "\n",
    "df.head()"
   ]
  },
  {
   "cell_type": "markdown",
   "id": "c3dd8e4e",
   "metadata": {},
   "source": [
    "### Add Lagged Features\n",
    "\n",
    "- Add lagged features for the target variable and other relevant features based on autocorrelation analysis.\n",
    "- e.g. `cnt_lag_1`, `cnt_lag_2`, `cnt_lag_23`, `cnt_lag_24`, `temp_lag_1`, `temp_lag_2`, `hum_lag_1`, `hum_lag_2`"
   ]
  },
  {
   "cell_type": "code",
   "execution_count": 40,
   "id": "cd110979",
   "metadata": {},
   "outputs": [
    {
     "data": {
      "text/html": [
       "<div><style>\n",
       ".dataframe > thead > tr,\n",
       ".dataframe > tbody > tr {\n",
       "  text-align: right;\n",
       "  white-space: pre-wrap;\n",
       "}\n",
       "</style>\n",
       "<small>shape: (5, 41)</small><table border=\"1\" class=\"dataframe\"><thead><tr><th>season</th><th>mnth</th><th>hr</th><th>holiday</th><th>weekday</th><th>workingday</th><th>weathersit</th><th>temp</th><th>hum</th><th>windspeed</th><th>cnt</th><th>target</th><th>is_weekend</th><th>sin_hour</th><th>cos_hour</th><th>sin_weekday</th><th>cos_weekday</th><th>cnt_diff_1hr</th><th>cnt_diff_24hr</th><th>hr_diff_1hr</th><th>hr_diff_23hr</th><th>hr_diff_24hr</th><th>temp_diff_1hr</th><th>temp_diff_3hr</th><th>temp_diff_24hr</th><th>hum_diff_1hr</th><th>hum_diff_3hr</th><th>current</th><th>cnt_lag_1</th><th>cnt_lag_2</th><th>cnt_lag_23</th><th>cnt_lag_24</th><th>hr_lag_1</th><th>hr_lag_23</th><th>hr_lag_24</th><th>temp_lag_1</th><th>temp_lag_2</th><th>temp_lag_3</th><th>hum_lag_1</th><th>hum_lag_2</th><th>hum_lag_3</th></tr><tr><td>i64</td><td>i64</td><td>i64</td><td>i64</td><td>i64</td><td>i64</td><td>i64</td><td>f64</td><td>f64</td><td>f64</td><td>i64</td><td>i64</td><td>i8</td><td>f64</td><td>f64</td><td>f64</td><td>f64</td><td>i64</td><td>i64</td><td>i64</td><td>i64</td><td>i64</td><td>f64</td><td>f64</td><td>f64</td><td>f64</td><td>f64</td><td>i64</td><td>i64</td><td>i64</td><td>i64</td><td>i64</td><td>i64</td><td>i64</td><td>i64</td><td>f64</td><td>f64</td><td>f64</td><td>f64</td><td>f64</td><td>f64</td></tr></thead><tbody><tr><td>1</td><td>1</td><td>0</td><td>0</td><td>6</td><td>0</td><td>1</td><td>0.24</td><td>0.81</td><td>0.0</td><td>16</td><td>40</td><td>1</td><td>0.0</td><td>1.0</td><td>-0.781831</td><td>0.62349</td><td>24</td><td>1</td><td>1</td><td>23</td><td>0</td><td>-0.02</td><td>0.0</td><td>0.22</td><td>-0.01</td><td>-0.06</td><td>16</td><td>16</td><td>16</td><td>16</td><td>16</td><td>0</td><td>0</td><td>0</td><td>0.24</td><td>0.24</td><td>0.24</td><td>0.81</td><td>0.81</td><td>0.81</td></tr><tr><td>1</td><td>1</td><td>1</td><td>0</td><td>6</td><td>0</td><td>1</td><td>0.22</td><td>0.8</td><td>0.0</td><td>40</td><td>32</td><td>1</td><td>0.258819</td><td>0.965926</td><td>-0.781831</td><td>0.62349</td><td>24</td><td>1</td><td>1</td><td>23</td><td>0</td><td>-0.02</td><td>0.0</td><td>0.22</td><td>-0.01</td><td>-0.06</td><td>40</td><td>16</td><td>16</td><td>16</td><td>16</td><td>0</td><td>0</td><td>0</td><td>0.24</td><td>0.24</td><td>0.24</td><td>0.81</td><td>0.81</td><td>0.81</td></tr><tr><td>1</td><td>1</td><td>2</td><td>0</td><td>6</td><td>0</td><td>1</td><td>0.22</td><td>0.8</td><td>0.0</td><td>32</td><td>13</td><td>1</td><td>0.5</td><td>0.866025</td><td>-0.781831</td><td>0.62349</td><td>-8</td><td>1</td><td>1</td><td>23</td><td>0</td><td>0.0</td><td>0.0</td><td>0.22</td><td>0.0</td><td>-0.06</td><td>32</td><td>40</td><td>16</td><td>16</td><td>16</td><td>1</td><td>0</td><td>0</td><td>0.22</td><td>0.24</td><td>0.24</td><td>0.8</td><td>0.81</td><td>0.81</td></tr><tr><td>1</td><td>1</td><td>3</td><td>0</td><td>6</td><td>0</td><td>1</td><td>0.24</td><td>0.75</td><td>0.0</td><td>13</td><td>1</td><td>1</td><td>0.707107</td><td>0.707107</td><td>-0.781831</td><td>0.62349</td><td>-19</td><td>1</td><td>1</td><td>23</td><td>0</td><td>0.02</td><td>0.0</td><td>0.22</td><td>-0.05</td><td>-0.06</td><td>13</td><td>32</td><td>40</td><td>16</td><td>16</td><td>2</td><td>0</td><td>0</td><td>0.22</td><td>0.22</td><td>0.24</td><td>0.8</td><td>0.8</td><td>0.81</td></tr><tr><td>1</td><td>1</td><td>4</td><td>0</td><td>6</td><td>0</td><td>1</td><td>0.24</td><td>0.75</td><td>0.0</td><td>1</td><td>1</td><td>1</td><td>0.866025</td><td>0.5</td><td>-0.781831</td><td>0.62349</td><td>-12</td><td>1</td><td>1</td><td>23</td><td>0</td><td>0.0</td><td>0.02</td><td>0.22</td><td>0.0</td><td>-0.05</td><td>1</td><td>13</td><td>32</td><td>16</td><td>16</td><td>3</td><td>0</td><td>0</td><td>0.24</td><td>0.22</td><td>0.22</td><td>0.75</td><td>0.8</td><td>0.8</td></tr></tbody></table></div>"
      ],
      "text/plain": [
       "shape: (5, 41)\n",
       "┌─────┬─────┬─────┬─────┬─────┬─────┬─────┬─────┬─────┬─────┬─────┬─────┬─────┬─────┬─────┬─────┬─────┬─────┬─────┬─────┬─────┬─────┬─────┬─────┬─────┬─────┬─────┬─────┬─────┬─────┬─────┬─────┬─────┬─────┬─────┬─────┬─────┬─────┬─────┬─────┬─────┐\n",
       "│ sea ┆ mnt ┆ hr  ┆ hol ┆ wee ┆ wor ┆ wea ┆ tem ┆ hum ┆ win ┆ cnt ┆ tar ┆ is_ ┆ sin ┆ cos ┆ sin ┆ cos ┆ cnt ┆ cnt ┆ hr_ ┆ hr_ ┆ hr_ ┆ tem ┆ tem ┆ tem ┆ hum ┆ hum ┆ cur ┆ cnt ┆ cnt ┆ cnt ┆ cnt ┆ hr_ ┆ hr_ ┆ hr_ ┆ tem ┆ tem ┆ tem ┆ hum ┆ hum ┆ hum │\n",
       "│ son ┆ h   ┆ --- ┆ ida ┆ kda ┆ kin ┆ the ┆ p   ┆ --- ┆ dsp ┆ --- ┆ get ┆ wee ┆ _ho ┆ _ho ┆ _we ┆ _we ┆ _di ┆ _di ┆ dif ┆ dif ┆ dif ┆ p_d ┆ p_d ┆ p_d ┆ _di ┆ _di ┆ ren ┆ _la ┆ _la ┆ _la ┆ _la ┆ lag ┆ lag ┆ lag ┆ p_l ┆ p_l ┆ p_l ┆ _la ┆ _la ┆ _la │\n",
       "│ --- ┆ --- ┆ i64 ┆ y   ┆ y   ┆ gda ┆ rsi ┆ --- ┆ f64 ┆ eed ┆ i64 ┆ --- ┆ ken ┆ ur  ┆ ur  ┆ ekd ┆ ekd ┆ ff_ ┆ ff_ ┆ f_1 ┆ f_2 ┆ f_2 ┆ iff ┆ iff ┆ iff ┆ ff_ ┆ ff_ ┆ t   ┆ g_1 ┆ g_2 ┆ g_2 ┆ g_2 ┆ _1  ┆ _23 ┆ _24 ┆ ag_ ┆ ag_ ┆ ag_ ┆ g_1 ┆ g_2 ┆ g_3 │\n",
       "│ i64 ┆ i64 ┆     ┆ --- ┆ --- ┆ y   ┆ t   ┆ f64 ┆     ┆ --- ┆     ┆ i64 ┆ d   ┆ --- ┆ --- ┆ ay  ┆ ay  ┆ 1hr ┆ 24h ┆ hr  ┆ 3hr ┆ 4hr ┆ _1h ┆ _3h ┆ _24 ┆ 1hr ┆ 3hr ┆ --- ┆ --- ┆ --- ┆ 3   ┆ 4   ┆ --- ┆ --- ┆ --- ┆ 1   ┆ 2   ┆ 3   ┆ --- ┆ --- ┆ --- │\n",
       "│     ┆     ┆     ┆ i64 ┆ i64 ┆ --- ┆ --- ┆     ┆     ┆ f64 ┆     ┆     ┆ --- ┆ f64 ┆ f64 ┆ --- ┆ --- ┆ --- ┆ r   ┆ --- ┆ --- ┆ --- ┆ r   ┆ r   ┆ hr  ┆ --- ┆ --- ┆ i64 ┆ i64 ┆ i64 ┆ --- ┆ --- ┆ i64 ┆ i64 ┆ i64 ┆ --- ┆ --- ┆ --- ┆ f64 ┆ f64 ┆ f64 │\n",
       "│     ┆     ┆     ┆     ┆     ┆ i64 ┆ i64 ┆     ┆     ┆     ┆     ┆     ┆ i8  ┆     ┆     ┆ f64 ┆ f64 ┆ i64 ┆ --- ┆ i64 ┆ i64 ┆ i64 ┆ --- ┆ --- ┆ --- ┆ f64 ┆ f64 ┆     ┆     ┆     ┆ i64 ┆ i64 ┆     ┆     ┆     ┆ f64 ┆ f64 ┆ f64 ┆     ┆     ┆     │\n",
       "│     ┆     ┆     ┆     ┆     ┆     ┆     ┆     ┆     ┆     ┆     ┆     ┆     ┆     ┆     ┆     ┆     ┆     ┆ i64 ┆     ┆     ┆     ┆ f64 ┆ f64 ┆ f64 ┆     ┆     ┆     ┆     ┆     ┆     ┆     ┆     ┆     ┆     ┆     ┆     ┆     ┆     ┆     ┆     │\n",
       "╞═════╪═════╪═════╪═════╪═════╪═════╪═════╪═════╪═════╪═════╪═════╪═════╪═════╪═════╪═════╪═════╪═════╪═════╪═════╪═════╪═════╪═════╪═════╪═════╪═════╪═════╪═════╪═════╪═════╪═════╪═════╪═════╪═════╪═════╪═════╪═════╪═════╪═════╪═════╪═════╪═════╡\n",
       "│ 1   ┆ 1   ┆ 0   ┆ 0   ┆ 6   ┆ 0   ┆ 1   ┆ 0.2 ┆ 0.8 ┆ 0.0 ┆ 16  ┆ 40  ┆ 1   ┆ 0.0 ┆ 1.0 ┆ -0. ┆ 0.6 ┆ 24  ┆ 1   ┆ 1   ┆ 23  ┆ 0   ┆ -0. ┆ 0.0 ┆ 0.2 ┆ -0. ┆ -0. ┆ 16  ┆ 16  ┆ 16  ┆ 16  ┆ 16  ┆ 0   ┆ 0   ┆ 0   ┆ 0.2 ┆ 0.2 ┆ 0.2 ┆ 0.8 ┆ 0.8 ┆ 0.8 │\n",
       "│     ┆     ┆     ┆     ┆     ┆     ┆     ┆ 4   ┆ 1   ┆     ┆     ┆     ┆     ┆     ┆     ┆ 781 ┆ 234 ┆     ┆     ┆     ┆     ┆     ┆ 02  ┆     ┆ 2   ┆ 01  ┆ 06  ┆     ┆     ┆     ┆     ┆     ┆     ┆     ┆     ┆ 4   ┆ 4   ┆ 4   ┆ 1   ┆ 1   ┆ 1   │\n",
       "│     ┆     ┆     ┆     ┆     ┆     ┆     ┆     ┆     ┆     ┆     ┆     ┆     ┆     ┆     ┆ 831 ┆ 9   ┆     ┆     ┆     ┆     ┆     ┆     ┆     ┆     ┆     ┆     ┆     ┆     ┆     ┆     ┆     ┆     ┆     ┆     ┆     ┆     ┆     ┆     ┆     ┆     │\n",
       "│ 1   ┆ 1   ┆ 1   ┆ 0   ┆ 6   ┆ 0   ┆ 1   ┆ 0.2 ┆ 0.8 ┆ 0.0 ┆ 40  ┆ 32  ┆ 1   ┆ 0.2 ┆ 0.9 ┆ -0. ┆ 0.6 ┆ 24  ┆ 1   ┆ 1   ┆ 23  ┆ 0   ┆ -0. ┆ 0.0 ┆ 0.2 ┆ -0. ┆ -0. ┆ 40  ┆ 16  ┆ 16  ┆ 16  ┆ 16  ┆ 0   ┆ 0   ┆ 0   ┆ 0.2 ┆ 0.2 ┆ 0.2 ┆ 0.8 ┆ 0.8 ┆ 0.8 │\n",
       "│     ┆     ┆     ┆     ┆     ┆     ┆     ┆ 2   ┆     ┆     ┆     ┆     ┆     ┆ 588 ┆ 659 ┆ 781 ┆ 234 ┆     ┆     ┆     ┆     ┆     ┆ 02  ┆     ┆ 2   ┆ 01  ┆ 06  ┆     ┆     ┆     ┆     ┆     ┆     ┆     ┆     ┆ 4   ┆ 4   ┆ 4   ┆ 1   ┆ 1   ┆ 1   │\n",
       "│     ┆     ┆     ┆     ┆     ┆     ┆     ┆     ┆     ┆     ┆     ┆     ┆     ┆ 19  ┆ 26  ┆ 831 ┆ 9   ┆     ┆     ┆     ┆     ┆     ┆     ┆     ┆     ┆     ┆     ┆     ┆     ┆     ┆     ┆     ┆     ┆     ┆     ┆     ┆     ┆     ┆     ┆     ┆     │\n",
       "│ 1   ┆ 1   ┆ 2   ┆ 0   ┆ 6   ┆ 0   ┆ 1   ┆ 0.2 ┆ 0.8 ┆ 0.0 ┆ 32  ┆ 13  ┆ 1   ┆ 0.5 ┆ 0.8 ┆ -0. ┆ 0.6 ┆ -8  ┆ 1   ┆ 1   ┆ 23  ┆ 0   ┆ 0.0 ┆ 0.0 ┆ 0.2 ┆ 0.0 ┆ -0. ┆ 32  ┆ 40  ┆ 16  ┆ 16  ┆ 16  ┆ 1   ┆ 0   ┆ 0   ┆ 0.2 ┆ 0.2 ┆ 0.2 ┆ 0.8 ┆ 0.8 ┆ 0.8 │\n",
       "│     ┆     ┆     ┆     ┆     ┆     ┆     ┆ 2   ┆     ┆     ┆     ┆     ┆     ┆     ┆ 660 ┆ 781 ┆ 234 ┆     ┆     ┆     ┆     ┆     ┆     ┆     ┆ 2   ┆     ┆ 06  ┆     ┆     ┆     ┆     ┆     ┆     ┆     ┆     ┆ 2   ┆ 4   ┆ 4   ┆     ┆ 1   ┆ 1   │\n",
       "│     ┆     ┆     ┆     ┆     ┆     ┆     ┆     ┆     ┆     ┆     ┆     ┆     ┆     ┆ 25  ┆ 831 ┆ 9   ┆     ┆     ┆     ┆     ┆     ┆     ┆     ┆     ┆     ┆     ┆     ┆     ┆     ┆     ┆     ┆     ┆     ┆     ┆     ┆     ┆     ┆     ┆     ┆     │\n",
       "│ 1   ┆ 1   ┆ 3   ┆ 0   ┆ 6   ┆ 0   ┆ 1   ┆ 0.2 ┆ 0.7 ┆ 0.0 ┆ 13  ┆ 1   ┆ 1   ┆ 0.7 ┆ 0.7 ┆ -0. ┆ 0.6 ┆ -19 ┆ 1   ┆ 1   ┆ 23  ┆ 0   ┆ 0.0 ┆ 0.0 ┆ 0.2 ┆ -0. ┆ -0. ┆ 13  ┆ 32  ┆ 40  ┆ 16  ┆ 16  ┆ 2   ┆ 0   ┆ 0   ┆ 0.2 ┆ 0.2 ┆ 0.2 ┆ 0.8 ┆ 0.8 ┆ 0.8 │\n",
       "│     ┆     ┆     ┆     ┆     ┆     ┆     ┆ 4   ┆ 5   ┆     ┆     ┆     ┆     ┆ 071 ┆ 071 ┆ 781 ┆ 234 ┆     ┆     ┆     ┆     ┆     ┆ 2   ┆     ┆ 2   ┆ 05  ┆ 06  ┆     ┆     ┆     ┆     ┆     ┆     ┆     ┆     ┆ 2   ┆ 2   ┆ 4   ┆     ┆     ┆ 1   │\n",
       "│     ┆     ┆     ┆     ┆     ┆     ┆     ┆     ┆     ┆     ┆     ┆     ┆     ┆ 07  ┆ 07  ┆ 831 ┆ 9   ┆     ┆     ┆     ┆     ┆     ┆     ┆     ┆     ┆     ┆     ┆     ┆     ┆     ┆     ┆     ┆     ┆     ┆     ┆     ┆     ┆     ┆     ┆     ┆     │\n",
       "│ 1   ┆ 1   ┆ 4   ┆ 0   ┆ 6   ┆ 0   ┆ 1   ┆ 0.2 ┆ 0.7 ┆ 0.0 ┆ 1   ┆ 1   ┆ 1   ┆ 0.8 ┆ 0.5 ┆ -0. ┆ 0.6 ┆ -12 ┆ 1   ┆ 1   ┆ 23  ┆ 0   ┆ 0.0 ┆ 0.0 ┆ 0.2 ┆ 0.0 ┆ -0. ┆ 1   ┆ 13  ┆ 32  ┆ 16  ┆ 16  ┆ 3   ┆ 0   ┆ 0   ┆ 0.2 ┆ 0.2 ┆ 0.2 ┆ 0.7 ┆ 0.8 ┆ 0.8 │\n",
       "│     ┆     ┆     ┆     ┆     ┆     ┆     ┆ 4   ┆ 5   ┆     ┆     ┆     ┆     ┆ 660 ┆     ┆ 781 ┆ 234 ┆     ┆     ┆     ┆     ┆     ┆     ┆ 2   ┆ 2   ┆     ┆ 05  ┆     ┆     ┆     ┆     ┆     ┆     ┆     ┆     ┆ 4   ┆ 2   ┆ 2   ┆ 5   ┆     ┆     │\n",
       "│     ┆     ┆     ┆     ┆     ┆     ┆     ┆     ┆     ┆     ┆     ┆     ┆     ┆ 25  ┆     ┆ 831 ┆ 9   ┆     ┆     ┆     ┆     ┆     ┆     ┆     ┆     ┆     ┆     ┆     ┆     ┆     ┆     ┆     ┆     ┆     ┆     ┆     ┆     ┆     ┆     ┆     ┆     │\n",
       "└─────┴─────┴─────┴─────┴─────┴─────┴─────┴─────┴─────┴─────┴─────┴─────┴─────┴─────┴─────┴─────┴─────┴─────┴─────┴─────┴─────┴─────┴─────┴─────┴─────┴─────┴─────┴─────┴─────┴─────┴─────┴─────┴─────┴─────┴─────┴─────┴─────┴─────┴─────┴─────┴─────┘"
      ]
     },
     "execution_count": 40,
     "metadata": {},
     "output_type": "execute_result"
    }
   ],
   "source": [
    "# Add lags\n",
    "df = df.with_columns(\n",
    "    [\n",
    "        pl.col(\"cnt\").alias(\"current\"),  # current value\n",
    "        pl.col(\"cnt\").shift(1).alias(\"cnt_lag_1\"),\n",
    "        pl.col(\"cnt\").shift(2).alias(\"cnt_lag_2\"),\n",
    "        pl.col(\"cnt\").shift(23).alias(\"cnt_lag_23\"),\n",
    "        pl.col(\"cnt\").shift(24).alias(\"cnt_lag_24\"),\n",
    "        pl.col(\"hr\").shift(1).alias(\"hr_lag_1\"),\n",
    "        pl.col(\"hr\").shift(23).alias(\"hr_lag_23\"),\n",
    "        pl.col(\"hr\").shift(24).alias(\"hr_lag_24\"),\n",
    "        pl.col(\"temp\").shift(1).alias(\"temp_lag_1\"),\n",
    "        pl.col(\"temp\").shift(2).alias(\"temp_lag_2\"),\n",
    "        pl.col(\"temp\").shift(3).alias(\"temp_lag_3\"),\n",
    "        pl.col(\"hum\").shift(1).alias(\"hum_lag_1\"),\n",
    "        pl.col(\"hum\").shift(2).alias(\"hum_lag_2\"),\n",
    "        pl.col(\"hum\").shift(3).alias(\"hum_lag_3\"),\n",
    "    ]\n",
    ").fill_null(strategy=\"backward\")\n",
    "\n",
    "df.head()"
   ]
  },
  {
   "cell_type": "markdown",
   "id": "f94d2437",
   "metadata": {},
   "source": [
    "### Add Exogenous Features\n",
    "\n",
    "- The data already includes some exogenous features like `temp`, `hum`, `windspeed`, `holidays`.\n",
    "- We don't have additional exogenous features (e.g., events, promotions, etc.) in this dataset, but if we did, we could consider adding them here."
   ]
  },
  {
   "cell_type": "markdown",
   "id": "cb671410",
   "metadata": {},
   "source": [
    "<br>\n",
    "\n",
    "### Add Derived Features\n",
    "\n",
    "- Add `derived` features based on domain knowledge and exploratory data analysis.\n",
    "- e.g. `temp_hum_interaction` (interaction between temperature and humidity), `temp_hr_interaction` (interaction between temperature and hour of the day), `hum_hr_interaction` (interaction between humidity and hour of the day), etc.\n",
    "- Add `rolling` features to capture short-term trends and variability.\n",
    "- e.g. `cnt_roll_mean_3hr`, `cnt_roll_std_3hr`, `cnt_roll_mean_6hr`, `cnt_roll_std_6hr`, `cnt_roll_mean_24hr`, `cnt_roll_std_24hr`, etc.\n",
    "- Add `binary` features to capture specific conditions.\n",
    "- e.g. `is_high_temp` (1 if temp > 25C else 0), `is_low_hum` (1 if hum < 30% else 0), `is_peak_hour` (1 if hr in [7-9, 16-18] else 0), `is_working_hour` (1 if hr in [9-17] else 0), `is_business_hour` (1 if hr in [8-20] else 0), `is_weekend` (1 if dayofweek in [5, 6] else 0), etc.\n",
    "- Add features based on interactions between different variables.."
   ]
  },
  {
   "cell_type": "code",
   "execution_count": 41,
   "id": "81d11f68",
   "metadata": {},
   "outputs": [
    {
     "data": {
      "text/html": [
       "<div><style>\n",
       ".dataframe > thead > tr,\n",
       ".dataframe > tbody > tr {\n",
       "  text-align: right;\n",
       "  white-space: pre-wrap;\n",
       "}\n",
       "</style>\n",
       "<small>shape: (9, 2)</small><table border=\"1\" class=\"dataframe\"><thead><tr><th>statistic</th><th>value</th></tr><tr><td>str</td><td>f64</td></tr></thead><tbody><tr><td>&quot;count&quot;</td><td>13903.0</td></tr><tr><td>&quot;null_count&quot;</td><td>0.0</td></tr><tr><td>&quot;mean&quot;</td><td>0.49917</td></tr><tr><td>&quot;std&quot;</td><td>0.197716</td></tr><tr><td>&quot;min&quot;</td><td>0.02</td></tr><tr><td>&quot;25%&quot;</td><td>0.34</td></tr><tr><td>&quot;50%&quot;</td><td>0.5</td></tr><tr><td>&quot;75%&quot;</td><td>0.66</td></tr><tr><td>&quot;max&quot;</td><td>1.0</td></tr></tbody></table></div>"
      ],
      "text/plain": [
       "shape: (9, 2)\n",
       "┌────────────┬──────────┐\n",
       "│ statistic  ┆ value    │\n",
       "│ ---        ┆ ---      │\n",
       "│ str        ┆ f64      │\n",
       "╞════════════╪══════════╡\n",
       "│ count      ┆ 13903.0  │\n",
       "│ null_count ┆ 0.0      │\n",
       "│ mean       ┆ 0.49917  │\n",
       "│ std        ┆ 0.197716 │\n",
       "│ min        ┆ 0.02     │\n",
       "│ 25%        ┆ 0.34     │\n",
       "│ 50%        ┆ 0.5      │\n",
       "│ 75%        ┆ 0.66     │\n",
       "│ max        ┆ 1.0      │\n",
       "└────────────┴──────────┘"
      ]
     },
     "metadata": {},
     "output_type": "display_data"
    },
    {
     "data": {
      "text/plain": [
       "0.7"
      ]
     },
     "execution_count": 41,
     "metadata": {},
     "output_type": "execute_result"
    }
   ],
   "source": [
    "display(df[\"temp\"].describe())\n",
    "np.percentile(df[\"temp\"], 80).item()"
   ]
  },
  {
   "cell_type": "code",
   "execution_count": 42,
   "id": "0f6d49c3",
   "metadata": {},
   "outputs": [
    {
     "name": "stdout",
     "output_type": "stream",
     "text": [
      "Check for null values after adding lag features:\n"
     ]
    },
    {
     "data": {
      "text/html": [
       "<div><style>\n",
       ".dataframe > thead > tr,\n",
       ".dataframe > tbody > tr {\n",
       "  text-align: right;\n",
       "  white-space: pre-wrap;\n",
       "}\n",
       "</style>\n",
       "<small>shape: (1,)</small><table border=\"1\" class=\"dataframe\"><thead><tr><th>sum</th></tr><tr><td>u32</td></tr></thead><tbody><tr><td>0</td></tr></tbody></table></div>"
      ],
      "text/plain": [
       "shape: (1,)\n",
       "Series: 'sum' [u32]\n",
       "[\n",
       "\t0\n",
       "]"
      ]
     },
     "metadata": {},
     "output_type": "display_data"
    },
    {
     "data": {
      "text/html": [
       "<div><style>\n",
       ".dataframe > thead > tr,\n",
       ".dataframe > tbody > tr {\n",
       "  text-align: right;\n",
       "  white-space: pre-wrap;\n",
       "}\n",
       "</style>\n",
       "<small>shape: (5, 53)</small><table border=\"1\" class=\"dataframe\"><thead><tr><th>season</th><th>mnth</th><th>hr</th><th>holiday</th><th>weekday</th><th>workingday</th><th>weathersit</th><th>temp</th><th>hum</th><th>windspeed</th><th>cnt</th><th>target</th><th>is_weekend</th><th>sin_hour</th><th>cos_hour</th><th>sin_weekday</th><th>cos_weekday</th><th>cnt_diff_1hr</th><th>cnt_diff_24hr</th><th>hr_diff_1hr</th><th>hr_diff_23hr</th><th>hr_diff_24hr</th><th>temp_diff_1hr</th><th>temp_diff_3hr</th><th>temp_diff_24hr</th><th>hum_diff_1hr</th><th>hum_diff_3hr</th><th>current</th><th>cnt_lag_1</th><th>cnt_lag_2</th><th>cnt_lag_23</th><th>cnt_lag_24</th><th>hr_lag_1</th><th>hr_lag_23</th><th>hr_lag_24</th><th>temp_lag_1</th><th>temp_lag_2</th><th>temp_lag_3</th><th>hum_lag_1</th><th>hum_lag_2</th><th>hum_lag_3</th><th>temp_hum_interaction</th><th>temp_hr_interaction</th><th>hum_hr_interaction</th><th>rolling_mean_temp_3hr</th><th>rolling_median_temp_3hr</th><th>rolling_mean_hum_3hr</th><th>rolling_median_hum_3hr</th><th>is_high_temp</th><th>is_high_hum</th><th>is_peak_hour</th><th>is_working_hour</th><th>is_business_hour</th></tr><tr><td>i64</td><td>i64</td><td>i64</td><td>i64</td><td>i64</td><td>i64</td><td>i64</td><td>f64</td><td>f64</td><td>f64</td><td>i64</td><td>i64</td><td>i8</td><td>f64</td><td>f64</td><td>f64</td><td>f64</td><td>i64</td><td>i64</td><td>i64</td><td>i64</td><td>i64</td><td>f64</td><td>f64</td><td>f64</td><td>f64</td><td>f64</td><td>i64</td><td>i64</td><td>i64</td><td>i64</td><td>i64</td><td>i64</td><td>i64</td><td>i64</td><td>f64</td><td>f64</td><td>f64</td><td>f64</td><td>f64</td><td>f64</td><td>f64</td><td>f64</td><td>f64</td><td>f64</td><td>f64</td><td>f64</td><td>f64</td><td>i8</td><td>i8</td><td>i8</td><td>i8</td><td>i8</td></tr></thead><tbody><tr><td>1</td><td>1</td><td>0</td><td>0</td><td>6</td><td>0</td><td>1</td><td>0.24</td><td>0.81</td><td>0.0</td><td>16</td><td>40</td><td>1</td><td>0.0</td><td>1.0</td><td>-0.781831</td><td>0.62349</td><td>24</td><td>1</td><td>1</td><td>23</td><td>0</td><td>-0.02</td><td>0.0</td><td>0.22</td><td>-0.01</td><td>-0.06</td><td>16</td><td>16</td><td>16</td><td>16</td><td>16</td><td>0</td><td>0</td><td>0</td><td>0.24</td><td>0.24</td><td>0.24</td><td>0.81</td><td>0.81</td><td>0.81</td><td>0.1944</td><td>0.0</td><td>0.0</td><td>0.226667</td><td>0.22</td><td>0.803333</td><td>0.8</td><td>0</td><td>0</td><td>0</td><td>0</td><td>0</td></tr><tr><td>1</td><td>1</td><td>1</td><td>0</td><td>6</td><td>0</td><td>1</td><td>0.22</td><td>0.8</td><td>0.0</td><td>40</td><td>32</td><td>1</td><td>0.258819</td><td>0.965926</td><td>-0.781831</td><td>0.62349</td><td>24</td><td>1</td><td>1</td><td>23</td><td>0</td><td>-0.02</td><td>0.0</td><td>0.22</td><td>-0.01</td><td>-0.06</td><td>40</td><td>16</td><td>16</td><td>16</td><td>16</td><td>0</td><td>0</td><td>0</td><td>0.24</td><td>0.24</td><td>0.24</td><td>0.81</td><td>0.81</td><td>0.81</td><td>0.176</td><td>0.22</td><td>0.8</td><td>0.226667</td><td>0.22</td><td>0.803333</td><td>0.8</td><td>0</td><td>0</td><td>0</td><td>0</td><td>0</td></tr><tr><td>1</td><td>1</td><td>2</td><td>0</td><td>6</td><td>0</td><td>1</td><td>0.22</td><td>0.8</td><td>0.0</td><td>32</td><td>13</td><td>1</td><td>0.5</td><td>0.866025</td><td>-0.781831</td><td>0.62349</td><td>-8</td><td>1</td><td>1</td><td>23</td><td>0</td><td>0.0</td><td>0.0</td><td>0.22</td><td>0.0</td><td>-0.06</td><td>32</td><td>40</td><td>16</td><td>16</td><td>16</td><td>1</td><td>0</td><td>0</td><td>0.22</td><td>0.24</td><td>0.24</td><td>0.8</td><td>0.81</td><td>0.81</td><td>0.176</td><td>0.44</td><td>1.6</td><td>0.226667</td><td>0.22</td><td>0.803333</td><td>0.8</td><td>0</td><td>0</td><td>0</td><td>0</td><td>0</td></tr><tr><td>1</td><td>1</td><td>3</td><td>0</td><td>6</td><td>0</td><td>1</td><td>0.24</td><td>0.75</td><td>0.0</td><td>13</td><td>1</td><td>1</td><td>0.707107</td><td>0.707107</td><td>-0.781831</td><td>0.62349</td><td>-19</td><td>1</td><td>1</td><td>23</td><td>0</td><td>0.02</td><td>0.0</td><td>0.22</td><td>-0.05</td><td>-0.06</td><td>13</td><td>32</td><td>40</td><td>16</td><td>16</td><td>2</td><td>0</td><td>0</td><td>0.22</td><td>0.22</td><td>0.24</td><td>0.8</td><td>0.8</td><td>0.81</td><td>0.18</td><td>0.72</td><td>2.25</td><td>0.226667</td><td>0.22</td><td>0.783333</td><td>0.8</td><td>0</td><td>0</td><td>0</td><td>0</td><td>0</td></tr><tr><td>1</td><td>1</td><td>4</td><td>0</td><td>6</td><td>0</td><td>1</td><td>0.24</td><td>0.75</td><td>0.0</td><td>1</td><td>1</td><td>1</td><td>0.866025</td><td>0.5</td><td>-0.781831</td><td>0.62349</td><td>-12</td><td>1</td><td>1</td><td>23</td><td>0</td><td>0.0</td><td>0.02</td><td>0.22</td><td>0.0</td><td>-0.05</td><td>1</td><td>13</td><td>32</td><td>16</td><td>16</td><td>3</td><td>0</td><td>0</td><td>0.24</td><td>0.22</td><td>0.22</td><td>0.75</td><td>0.8</td><td>0.8</td><td>0.18</td><td>0.96</td><td>3.0</td><td>0.233333</td><td>0.24</td><td>0.766667</td><td>0.75</td><td>0</td><td>0</td><td>0</td><td>0</td><td>0</td></tr></tbody></table></div>"
      ],
      "text/plain": [
       "shape: (5, 53)\n",
       "┌─────┬─────┬─────┬─────┬─────┬─────┬─────┬─────┬─────┬─────┬─────┬─────┬─────┬─────┬─────┬─────┬─────┬─────┬─────┬─────┬─────┬─────┬─────┬─────┬─────┬─────┬─────┬─────┬─────┬─────┬─────┬─────┬─────┬─────┬─────┬─────┬─────┬─────┬─────┬─────┬─────┬─────┬─────┬─────┬─────┬─────┬─────┬─────┬─────┬─────┬─────┬─────┬─────┐\n",
       "│ sea ┆ mnt ┆ hr  ┆ hol ┆ wee ┆ wor ┆ wea ┆ tem ┆ hum ┆ win ┆ cnt ┆ tar ┆ is_ ┆ sin ┆ cos ┆ sin ┆ cos ┆ cnt ┆ cnt ┆ hr_ ┆ hr_ ┆ hr_ ┆ tem ┆ tem ┆ tem ┆ hum ┆ hum ┆ cur ┆ cnt ┆ cnt ┆ cnt ┆ cnt ┆ hr_ ┆ hr_ ┆ hr_ ┆ tem ┆ tem ┆ tem ┆ hum ┆ hum ┆ hum ┆ tem ┆ tem ┆ hum ┆ rol ┆ rol ┆ rol ┆ rol ┆ is_ ┆ is_ ┆ is_ ┆ is_ ┆ is_ │\n",
       "│ son ┆ h   ┆ --- ┆ ida ┆ kda ┆ kin ┆ the ┆ p   ┆ --- ┆ dsp ┆ --- ┆ get ┆ wee ┆ _ho ┆ _ho ┆ _we ┆ _we ┆ _di ┆ _di ┆ dif ┆ dif ┆ dif ┆ p_d ┆ p_d ┆ p_d ┆ _di ┆ _di ┆ ren ┆ _la ┆ _la ┆ _la ┆ _la ┆ lag ┆ lag ┆ lag ┆ p_l ┆ p_l ┆ p_l ┆ _la ┆ _la ┆ _la ┆ p_h ┆ p_h ┆ _hr ┆ lin ┆ lin ┆ lin ┆ lin ┆ hig ┆ hig ┆ pea ┆ wor ┆ bus │\n",
       "│ --- ┆ --- ┆ i64 ┆ y   ┆ y   ┆ gda ┆ rsi ┆ --- ┆ f64 ┆ eed ┆ i64 ┆ --- ┆ ken ┆ ur  ┆ ur  ┆ ekd ┆ ekd ┆ ff_ ┆ ff_ ┆ f_1 ┆ f_2 ┆ f_2 ┆ iff ┆ iff ┆ iff ┆ ff_ ┆ ff_ ┆ t   ┆ g_1 ┆ g_2 ┆ g_2 ┆ g_2 ┆ _1  ┆ _23 ┆ _24 ┆ ag_ ┆ ag_ ┆ ag_ ┆ g_1 ┆ g_2 ┆ g_3 ┆ um_ ┆ r_i ┆ _in ┆ g_m ┆ g_m ┆ g_m ┆ g_m ┆ h_t ┆ h_h ┆ k_h ┆ kin ┆ ine │\n",
       "│ i64 ┆ i64 ┆     ┆ --- ┆ --- ┆ y   ┆ t   ┆ f64 ┆     ┆ --- ┆     ┆ i64 ┆ d   ┆ --- ┆ --- ┆ ay  ┆ ay  ┆ 1hr ┆ 24h ┆ hr  ┆ 3hr ┆ 4hr ┆ _1h ┆ _3h ┆ _24 ┆ 1hr ┆ 3hr ┆ --- ┆ --- ┆ --- ┆ 3   ┆ 4   ┆ --- ┆ --- ┆ --- ┆ 1   ┆ 2   ┆ 3   ┆ --- ┆ --- ┆ --- ┆ int ┆ nte ┆ ter ┆ ean ┆ edi ┆ ean ┆ edi ┆ emp ┆ um  ┆ our ┆ g_h ┆ ss_ │\n",
       "│     ┆     ┆     ┆ i64 ┆ i64 ┆ --- ┆ --- ┆     ┆     ┆ f64 ┆     ┆     ┆ --- ┆ f64 ┆ f64 ┆ --- ┆ --- ┆ --- ┆ r   ┆ --- ┆ --- ┆ --- ┆ r   ┆ r   ┆ hr  ┆ --- ┆ --- ┆ i64 ┆ i64 ┆ i64 ┆ --- ┆ --- ┆ i64 ┆ i64 ┆ i64 ┆ --- ┆ --- ┆ --- ┆ f64 ┆ f64 ┆ f64 ┆ era ┆ rac ┆ act ┆ _te ┆ an_ ┆ _hu ┆ an_ ┆ --- ┆ --- ┆ --- ┆ our ┆ hou │\n",
       "│     ┆     ┆     ┆     ┆     ┆ i64 ┆ i64 ┆     ┆     ┆     ┆     ┆     ┆ i8  ┆     ┆     ┆ f64 ┆ f64 ┆ i64 ┆ --- ┆ i64 ┆ i64 ┆ i64 ┆ --- ┆ --- ┆ --- ┆ f64 ┆ f64 ┆     ┆     ┆     ┆ i64 ┆ i64 ┆     ┆     ┆     ┆ f64 ┆ f64 ┆ f64 ┆     ┆     ┆     ┆ cti ┆ tio ┆ ion ┆ mp_ ┆ tem ┆ m_3 ┆ hum ┆ i8  ┆ i8  ┆ i8  ┆ --- ┆ r   │\n",
       "│     ┆     ┆     ┆     ┆     ┆     ┆     ┆     ┆     ┆     ┆     ┆     ┆     ┆     ┆     ┆     ┆     ┆     ┆ i64 ┆     ┆     ┆     ┆ f64 ┆ f64 ┆ f64 ┆     ┆     ┆     ┆     ┆     ┆     ┆     ┆     ┆     ┆     ┆     ┆     ┆     ┆     ┆     ┆     ┆ on  ┆ n   ┆ --- ┆ 3hr ┆ p_3 ┆ hr  ┆ _3h ┆     ┆     ┆     ┆ i8  ┆ --- │\n",
       "│     ┆     ┆     ┆     ┆     ┆     ┆     ┆     ┆     ┆     ┆     ┆     ┆     ┆     ┆     ┆     ┆     ┆     ┆     ┆     ┆     ┆     ┆     ┆     ┆     ┆     ┆     ┆     ┆     ┆     ┆     ┆     ┆     ┆     ┆     ┆     ┆     ┆     ┆     ┆     ┆     ┆ --- ┆ --- ┆ f64 ┆ --- ┆ hr  ┆ --- ┆ r   ┆     ┆     ┆     ┆     ┆ i8  │\n",
       "│     ┆     ┆     ┆     ┆     ┆     ┆     ┆     ┆     ┆     ┆     ┆     ┆     ┆     ┆     ┆     ┆     ┆     ┆     ┆     ┆     ┆     ┆     ┆     ┆     ┆     ┆     ┆     ┆     ┆     ┆     ┆     ┆     ┆     ┆     ┆     ┆     ┆     ┆     ┆     ┆     ┆ f64 ┆ f64 ┆     ┆ f64 ┆ --- ┆ f64 ┆ --- ┆     ┆     ┆     ┆     ┆     │\n",
       "│     ┆     ┆     ┆     ┆     ┆     ┆     ┆     ┆     ┆     ┆     ┆     ┆     ┆     ┆     ┆     ┆     ┆     ┆     ┆     ┆     ┆     ┆     ┆     ┆     ┆     ┆     ┆     ┆     ┆     ┆     ┆     ┆     ┆     ┆     ┆     ┆     ┆     ┆     ┆     ┆     ┆     ┆     ┆     ┆     ┆ f64 ┆     ┆ f64 ┆     ┆     ┆     ┆     ┆     │\n",
       "╞═════╪═════╪═════╪═════╪═════╪═════╪═════╪═════╪═════╪═════╪═════╪═════╪═════╪═════╪═════╪═════╪═════╪═════╪═════╪═════╪═════╪═════╪═════╪═════╪═════╪═════╪═════╪═════╪═════╪═════╪═════╪═════╪═════╪═════╪═════╪═════╪═════╪═════╪═════╪═════╪═════╪═════╪═════╪═════╪═════╪═════╪═════╪═════╪═════╪═════╪═════╪═════╪═════╡\n",
       "│ 1   ┆ 1   ┆ 0   ┆ 0   ┆ 6   ┆ 0   ┆ 1   ┆ 0.2 ┆ 0.8 ┆ 0.0 ┆ 16  ┆ 40  ┆ 1   ┆ 0.0 ┆ 1.0 ┆ -0. ┆ 0.6 ┆ 24  ┆ 1   ┆ 1   ┆ 23  ┆ 0   ┆ -0. ┆ 0.0 ┆ 0.2 ┆ -0. ┆ -0. ┆ 16  ┆ 16  ┆ 16  ┆ 16  ┆ 16  ┆ 0   ┆ 0   ┆ 0   ┆ 0.2 ┆ 0.2 ┆ 0.2 ┆ 0.8 ┆ 0.8 ┆ 0.8 ┆ 0.1 ┆ 0.0 ┆ 0.0 ┆ 0.2 ┆ 0.2 ┆ 0.8 ┆ 0.8 ┆ 0   ┆ 0   ┆ 0   ┆ 0   ┆ 0   │\n",
       "│     ┆     ┆     ┆     ┆     ┆     ┆     ┆ 4   ┆ 1   ┆     ┆     ┆     ┆     ┆     ┆     ┆ 781 ┆ 234 ┆     ┆     ┆     ┆     ┆     ┆ 02  ┆     ┆ 2   ┆ 01  ┆ 06  ┆     ┆     ┆     ┆     ┆     ┆     ┆     ┆     ┆ 4   ┆ 4   ┆ 4   ┆ 1   ┆ 1   ┆ 1   ┆ 944 ┆     ┆     ┆ 266 ┆ 2   ┆ 033 ┆     ┆     ┆     ┆     ┆     ┆     │\n",
       "│     ┆     ┆     ┆     ┆     ┆     ┆     ┆     ┆     ┆     ┆     ┆     ┆     ┆     ┆     ┆ 831 ┆ 9   ┆     ┆     ┆     ┆     ┆     ┆     ┆     ┆     ┆     ┆     ┆     ┆     ┆     ┆     ┆     ┆     ┆     ┆     ┆     ┆     ┆     ┆     ┆     ┆     ┆     ┆     ┆     ┆ 67  ┆     ┆ 33  ┆     ┆     ┆     ┆     ┆     ┆     │\n",
       "│ 1   ┆ 1   ┆ 1   ┆ 0   ┆ 6   ┆ 0   ┆ 1   ┆ 0.2 ┆ 0.8 ┆ 0.0 ┆ 40  ┆ 32  ┆ 1   ┆ 0.2 ┆ 0.9 ┆ -0. ┆ 0.6 ┆ 24  ┆ 1   ┆ 1   ┆ 23  ┆ 0   ┆ -0. ┆ 0.0 ┆ 0.2 ┆ -0. ┆ -0. ┆ 40  ┆ 16  ┆ 16  ┆ 16  ┆ 16  ┆ 0   ┆ 0   ┆ 0   ┆ 0.2 ┆ 0.2 ┆ 0.2 ┆ 0.8 ┆ 0.8 ┆ 0.8 ┆ 0.1 ┆ 0.2 ┆ 0.8 ┆ 0.2 ┆ 0.2 ┆ 0.8 ┆ 0.8 ┆ 0   ┆ 0   ┆ 0   ┆ 0   ┆ 0   │\n",
       "│     ┆     ┆     ┆     ┆     ┆     ┆     ┆ 2   ┆     ┆     ┆     ┆     ┆     ┆ 588 ┆ 659 ┆ 781 ┆ 234 ┆     ┆     ┆     ┆     ┆     ┆ 02  ┆     ┆ 2   ┆ 01  ┆ 06  ┆     ┆     ┆     ┆     ┆     ┆     ┆     ┆     ┆ 4   ┆ 4   ┆ 4   ┆ 1   ┆ 1   ┆ 1   ┆ 76  ┆ 2   ┆     ┆ 266 ┆ 2   ┆ 033 ┆     ┆     ┆     ┆     ┆     ┆     │\n",
       "│     ┆     ┆     ┆     ┆     ┆     ┆     ┆     ┆     ┆     ┆     ┆     ┆     ┆ 19  ┆ 26  ┆ 831 ┆ 9   ┆     ┆     ┆     ┆     ┆     ┆     ┆     ┆     ┆     ┆     ┆     ┆     ┆     ┆     ┆     ┆     ┆     ┆     ┆     ┆     ┆     ┆     ┆     ┆     ┆     ┆     ┆     ┆ 67  ┆     ┆ 33  ┆     ┆     ┆     ┆     ┆     ┆     │\n",
       "│ 1   ┆ 1   ┆ 2   ┆ 0   ┆ 6   ┆ 0   ┆ 1   ┆ 0.2 ┆ 0.8 ┆ 0.0 ┆ 32  ┆ 13  ┆ 1   ┆ 0.5 ┆ 0.8 ┆ -0. ┆ 0.6 ┆ -8  ┆ 1   ┆ 1   ┆ 23  ┆ 0   ┆ 0.0 ┆ 0.0 ┆ 0.2 ┆ 0.0 ┆ -0. ┆ 32  ┆ 40  ┆ 16  ┆ 16  ┆ 16  ┆ 1   ┆ 0   ┆ 0   ┆ 0.2 ┆ 0.2 ┆ 0.2 ┆ 0.8 ┆ 0.8 ┆ 0.8 ┆ 0.1 ┆ 0.4 ┆ 1.6 ┆ 0.2 ┆ 0.2 ┆ 0.8 ┆ 0.8 ┆ 0   ┆ 0   ┆ 0   ┆ 0   ┆ 0   │\n",
       "│     ┆     ┆     ┆     ┆     ┆     ┆     ┆ 2   ┆     ┆     ┆     ┆     ┆     ┆     ┆ 660 ┆ 781 ┆ 234 ┆     ┆     ┆     ┆     ┆     ┆     ┆     ┆ 2   ┆     ┆ 06  ┆     ┆     ┆     ┆     ┆     ┆     ┆     ┆     ┆ 2   ┆ 4   ┆ 4   ┆     ┆ 1   ┆ 1   ┆ 76  ┆ 4   ┆     ┆ 266 ┆ 2   ┆ 033 ┆     ┆     ┆     ┆     ┆     ┆     │\n",
       "│     ┆     ┆     ┆     ┆     ┆     ┆     ┆     ┆     ┆     ┆     ┆     ┆     ┆     ┆ 25  ┆ 831 ┆ 9   ┆     ┆     ┆     ┆     ┆     ┆     ┆     ┆     ┆     ┆     ┆     ┆     ┆     ┆     ┆     ┆     ┆     ┆     ┆     ┆     ┆     ┆     ┆     ┆     ┆     ┆     ┆     ┆ 67  ┆     ┆ 33  ┆     ┆     ┆     ┆     ┆     ┆     │\n",
       "│ 1   ┆ 1   ┆ 3   ┆ 0   ┆ 6   ┆ 0   ┆ 1   ┆ 0.2 ┆ 0.7 ┆ 0.0 ┆ 13  ┆ 1   ┆ 1   ┆ 0.7 ┆ 0.7 ┆ -0. ┆ 0.6 ┆ -19 ┆ 1   ┆ 1   ┆ 23  ┆ 0   ┆ 0.0 ┆ 0.0 ┆ 0.2 ┆ -0. ┆ -0. ┆ 13  ┆ 32  ┆ 40  ┆ 16  ┆ 16  ┆ 2   ┆ 0   ┆ 0   ┆ 0.2 ┆ 0.2 ┆ 0.2 ┆ 0.8 ┆ 0.8 ┆ 0.8 ┆ 0.1 ┆ 0.7 ┆ 2.2 ┆ 0.2 ┆ 0.2 ┆ 0.7 ┆ 0.8 ┆ 0   ┆ 0   ┆ 0   ┆ 0   ┆ 0   │\n",
       "│     ┆     ┆     ┆     ┆     ┆     ┆     ┆ 4   ┆ 5   ┆     ┆     ┆     ┆     ┆ 071 ┆ 071 ┆ 781 ┆ 234 ┆     ┆     ┆     ┆     ┆     ┆ 2   ┆     ┆ 2   ┆ 05  ┆ 06  ┆     ┆     ┆     ┆     ┆     ┆     ┆     ┆     ┆ 2   ┆ 2   ┆ 4   ┆     ┆     ┆ 1   ┆ 8   ┆ 2   ┆ 5   ┆ 266 ┆ 2   ┆ 833 ┆     ┆     ┆     ┆     ┆     ┆     │\n",
       "│     ┆     ┆     ┆     ┆     ┆     ┆     ┆     ┆     ┆     ┆     ┆     ┆     ┆ 07  ┆ 07  ┆ 831 ┆ 9   ┆     ┆     ┆     ┆     ┆     ┆     ┆     ┆     ┆     ┆     ┆     ┆     ┆     ┆     ┆     ┆     ┆     ┆     ┆     ┆     ┆     ┆     ┆     ┆     ┆     ┆     ┆     ┆ 67  ┆     ┆ 33  ┆     ┆     ┆     ┆     ┆     ┆     │\n",
       "│ 1   ┆ 1   ┆ 4   ┆ 0   ┆ 6   ┆ 0   ┆ 1   ┆ 0.2 ┆ 0.7 ┆ 0.0 ┆ 1   ┆ 1   ┆ 1   ┆ 0.8 ┆ 0.5 ┆ -0. ┆ 0.6 ┆ -12 ┆ 1   ┆ 1   ┆ 23  ┆ 0   ┆ 0.0 ┆ 0.0 ┆ 0.2 ┆ 0.0 ┆ -0. ┆ 1   ┆ 13  ┆ 32  ┆ 16  ┆ 16  ┆ 3   ┆ 0   ┆ 0   ┆ 0.2 ┆ 0.2 ┆ 0.2 ┆ 0.7 ┆ 0.8 ┆ 0.8 ┆ 0.1 ┆ 0.9 ┆ 3.0 ┆ 0.2 ┆ 0.2 ┆ 0.7 ┆ 0.7 ┆ 0   ┆ 0   ┆ 0   ┆ 0   ┆ 0   │\n",
       "│     ┆     ┆     ┆     ┆     ┆     ┆     ┆ 4   ┆ 5   ┆     ┆     ┆     ┆     ┆ 660 ┆     ┆ 781 ┆ 234 ┆     ┆     ┆     ┆     ┆     ┆     ┆ 2   ┆ 2   ┆     ┆ 05  ┆     ┆     ┆     ┆     ┆     ┆     ┆     ┆     ┆ 4   ┆ 2   ┆ 2   ┆ 5   ┆     ┆     ┆ 8   ┆ 6   ┆     ┆ 333 ┆ 4   ┆ 666 ┆ 5   ┆     ┆     ┆     ┆     ┆     │\n",
       "│     ┆     ┆     ┆     ┆     ┆     ┆     ┆     ┆     ┆     ┆     ┆     ┆     ┆ 25  ┆     ┆ 831 ┆ 9   ┆     ┆     ┆     ┆     ┆     ┆     ┆     ┆     ┆     ┆     ┆     ┆     ┆     ┆     ┆     ┆     ┆     ┆     ┆     ┆     ┆     ┆     ┆     ┆     ┆     ┆     ┆     ┆ 33  ┆     ┆ 67  ┆     ┆     ┆     ┆     ┆     ┆     │\n",
       "└─────┴─────┴─────┴─────┴─────┴─────┴─────┴─────┴─────┴─────┴─────┴─────┴─────┴─────┴─────┴─────┴─────┴─────┴─────┴─────┴─────┴─────┴─────┴─────┴─────┴─────┴─────┴─────┴─────┴─────┴─────┴─────┴─────┴─────┴─────┴─────┴─────┴─────┴─────┴─────┴─────┴─────┴─────┴─────┴─────┴─────┴─────┴─────┴─────┴─────┴─────┴─────┴─────┘"
      ]
     },
     "execution_count": 42,
     "metadata": {},
     "output_type": "execute_result"
    }
   ],
   "source": [
    "# temp_hum_interaction = temperature * humidity\n",
    "# temp_hr_interaction = temperature * hour of the day\n",
    "# hum_hr_interaction = humidity * hour of the day\n",
    "# rolling_mean_temp_3hr = rolling mean of temperature over the past 3 hours\n",
    "# rolling_mean_hum_3hr = rolling mean of humidity over the past 3 hours\n",
    "# is_high_temp = 1 if temperature > 25 else 0\n",
    "# is_high_hum = 1 if humidity > 75 else 0\n",
    "# is_peak_hour = 1 if hr in [7-9, 16-18] else 0\n",
    "# is_working_hour = 1 if hr in [9-17] else 0\n",
    "# is_business_hour = 1 if hr in [8-20] else 0\n",
    "high_percentile_temp: float = np.percentile(df[\"temp\"], 80).item()\n",
    "high_percentile_hum: float = np.percentile(df[\"hum\"], 80).item()\n",
    "working_hours: list[int] = [9, 10, 11, 12, 13, 14, 15, 16, 17]\n",
    "business_hours: list[int] = [8, 9, 10, 11, 12, 13, 14, 15, 16, 17, 18, 19, 20]\n",
    "peak_hours: list[int] = [7, 8, 9, 16, 17, 18]\n",
    "\n",
    "df = df.with_columns(\n",
    "    [\n",
    "        # Interaction features\n",
    "        (pl.col(\"temp\") * pl.col(\"hum\")).alias(\"temp_hum_interaction\"),\n",
    "        (pl.col(\"temp\") * pl.col(\"hr\")).alias(\"temp_hr_interaction\"),\n",
    "        (pl.col(\"hum\") * pl.col(\"hr\")).alias(\"hum_hr_interaction\"),\n",
    "        pl.col(\"temp\").rolling_mean(window_size=3).alias(\"rolling_mean_temp_3hr\"),\n",
    "        pl.col(\"temp\").rolling_median(window_size=3).alias(\"rolling_median_temp_3hr\"),\n",
    "        pl.col(\"hum\").rolling_mean(window_size=3).alias(\"rolling_mean_hum_3hr\"),\n",
    "        pl.col(\"hum\").rolling_median(window_size=3).alias(\"rolling_median_hum_3hr\"),\n",
    "        # Binary features\n",
    "        (pl.col(\"temp\") > high_percentile_temp).cast(pl.Int8).alias(\"is_high_temp\"),\n",
    "        (pl.col(\"hum\") > high_percentile_hum).cast(pl.Int8).alias(\"is_high_hum\"),\n",
    "        (pl.col(\"hr\").is_in(peak_hours)).cast(pl.Int8).alias(\"is_peak_hour\"),\n",
    "        (pl.col(\"hr\").is_in(working_hours)).cast(pl.Int8).alias(\"is_working_hour\"),\n",
    "        (pl.col(\"hr\").is_in(business_hours)).cast(pl.Int8).alias(\"is_business_hour\"),\n",
    "    ]\n",
    ").fill_null(strategy=\"backward\")\n",
    "print(\"Check for null values after adding lag features:\")\n",
    "display(df.null_count().sum_horizontal())\n",
    "\n",
    "df.head()"
   ]
  },
  {
   "cell_type": "code",
   "execution_count": null,
   "id": "fb5a0394",
   "metadata": {},
   "outputs": [],
   "source": []
  },
  {
   "cell_type": "code",
   "execution_count": 43,
   "id": "1748a17b",
   "metadata": {},
   "outputs": [
    {
     "data": {
      "text/plain": [
       "((11122, 51), (11122,), (2781, 51), (2781,))"
      ]
     },
     "execution_count": 43,
     "metadata": {},
     "output_type": "execute_result"
    }
   ],
   "source": [
    "df = df.drop([\"cnt\"])\n",
    "\n",
    "train_df, test_df = split_temporal_data(df)\n",
    "\n",
    "x_train = train_df.drop(\"target\").to_numpy()\n",
    "y_train = train_df[\"target\"].to_numpy()\n",
    "\n",
    "x_test = test_df.drop(\"target\").to_numpy()\n",
    "y_test = test_df[\"target\"].to_numpy()\n",
    "\n",
    "x_train.shape, y_train.shape, x_test.shape, y_test.shape"
   ]
  },
  {
   "cell_type": "code",
   "execution_count": 44,
   "id": "63bfa111",
   "metadata": {},
   "outputs": [],
   "source": [
    "rf_reg = RandomForestRegressor(random_state=123)\n",
    "rf_reg.fit(x_train, y_train)\n",
    "rf_reg.score(x_test, y_test)\n",
    "\n",
    "y_pred = rf_reg.predict(x_test)"
   ]
  },
  {
   "cell_type": "code",
   "execution_count": 45,
   "id": "6a372f3f",
   "metadata": {},
   "outputs": [
    {
     "data": {
      "text/plain": [
       "{'MAE': 41.65, 'RMSE': 65.37, 'MAPE': 24.58}"
      ]
     },
     "execution_count": 45,
     "metadata": {},
     "output_type": "execute_result"
    }
   ],
   "source": [
    "metrics_base_with_advanced_feats = compute_metrics(y_test, y_pred)\n",
    "metrics_base_with_advanced_feats"
   ]
  },
  {
   "cell_type": "code",
   "execution_count": null,
   "id": "89dad221",
   "metadata": {},
   "outputs": [
    {
     "data": {
      "text/html": [
       "<pre style=\"white-space:pre;overflow-x:auto;line-height:normal;font-family:Menlo,'DejaVu Sans Mono',consolas,'Courier New',monospace\"><span style=\"color: #ff4500; text-decoration-color: #ff4500\">MAE Change: </span><span style=\"color: #008080; text-decoration-color: #008080; font-weight: bold\">-50.87</span><span style=\"color: #ff4500; text-decoration-color: #ff4500\">%</span>\n",
       "</pre>\n"
      ],
      "text/plain": [
       "\u001b[38;2;255;69;0mMAE Change: \u001b[0m\u001b[1;36m-50.87\u001b[0m\u001b[38;2;255;69;0m%\u001b[0m\n"
      ]
     },
     "metadata": {},
     "output_type": "display_data"
    },
    {
     "data": {
      "text/html": [
       "<pre style=\"white-space:pre;overflow-x:auto;line-height:normal;font-family:Menlo,'DejaVu Sans Mono',consolas,'Courier New',monospace\"><span style=\"color: #ff4500; text-decoration-color: #ff4500\">RMSE Change: </span><span style=\"color: #008080; text-decoration-color: #008080; font-weight: bold\">-43.85</span><span style=\"color: #ff4500; text-decoration-color: #ff4500\">%</span>\n",
       "</pre>\n"
      ],
      "text/plain": [
       "\u001b[38;2;255;69;0mRMSE Change: \u001b[0m\u001b[1;36m-43.85\u001b[0m\u001b[38;2;255;69;0m%\u001b[0m\n"
      ]
     },
     "metadata": {},
     "output_type": "display_data"
    },
    {
     "data": {
      "text/html": [
       "<pre style=\"white-space:pre;overflow-x:auto;line-height:normal;font-family:Menlo,'DejaVu Sans Mono',consolas,'Courier New',monospace\"><span style=\"color: #ff4500; text-decoration-color: #ff4500\">MAPE Change: </span><span style=\"color: #008080; text-decoration-color: #008080; font-weight: bold\">-27.94</span><span style=\"color: #ff4500; text-decoration-color: #ff4500\">%</span>\n",
       "</pre>\n"
      ],
      "text/plain": [
       "\u001b[38;2;255;69;0mMAPE Change: \u001b[0m\u001b[1;36m-27.94\u001b[0m\u001b[38;2;255;69;0m%\u001b[0m\n"
      ]
     },
     "metadata": {},
     "output_type": "display_data"
    }
   ],
   "source": [
    "mae_new, mae_old = (\n",
    "    metrics_base_with_advanced_feats.get(\"MAE\"),\n",
    "    metrics_base.get(\"MAE\"),\n",
    ")\n",
    "rmse_new, rmse_old = (\n",
    "    metrics_base_with_advanced_feats.get(\"RMSE\"),\n",
    "    metrics_base.get(\"RMSE\"),\n",
    ")\n",
    "mape_new, mape_old = (\n",
    "    metrics_base_with_advanced_feats.get(\"MAPE\"),\n",
    "    metrics_base.get(\"MAPE\"),\n",
    ")\n",
    "\n",
    "console.print(\n",
    "    f\"MAE Change: {pct_change(old=mae_old, new=mae_new):.2f}%\", style=\"highlight\"\n",
    ")\n",
    "console.print(\n",
    "    f\"RMSE Change: {pct_change(old=rmse_old, new=rmse_new):.2f}%\", style=\"highlight\"\n",
    ")\n",
    "console.print(\n",
    "    f\"MAPE Change: {pct_change(old=mape_old, new=mape_new):.2f}%\", style=\"highlight\"\n",
    ")"
   ]
  },
  {
   "cell_type": "code",
   "execution_count": null,
   "id": "352f0e96",
   "metadata": {},
   "outputs": [
    {
     "data": {
      "application/vnd.plotly.v1+json": {
       "config": {
        "plotlyServerURL": "https://plot.ly"
       },
       "data": [
        {
         "line": {
          "color": "blue",
          "width": 2
         },
         "mode": "lines",
         "name": "y_test (Actual)",
         "type": "scatter",
         "x": [
          0,
          1,
          2,
          3,
          4,
          5,
          6,
          7,
          8,
          9,
          10,
          11,
          12,
          13,
          14,
          15,
          16,
          17,
          18,
          19,
          20,
          21,
          22,
          23,
          24,
          25,
          26,
          27,
          28,
          29,
          30,
          31,
          32,
          33,
          34,
          35,
          36,
          37,
          38,
          39,
          40,
          41,
          42,
          43,
          44,
          45,
          46,
          47,
          48,
          49,
          50,
          51,
          52,
          53,
          54,
          55,
          56,
          57,
          58,
          59,
          60,
          61,
          62,
          63,
          64,
          65,
          66,
          67,
          68,
          69,
          70,
          71,
          72,
          73,
          74,
          75,
          76,
          77,
          78,
          79,
          80,
          81,
          82,
          83,
          84,
          85,
          86,
          87,
          88,
          89,
          90,
          91,
          92,
          93,
          94,
          95,
          96,
          97,
          98,
          99,
          100,
          101,
          102,
          103,
          104,
          105,
          106,
          107,
          108,
          109,
          110,
          111,
          112,
          113,
          114,
          115,
          116,
          117,
          118,
          119,
          120,
          121,
          122,
          123,
          124,
          125,
          126,
          127,
          128,
          129,
          130,
          131,
          132,
          133,
          134,
          135,
          136,
          137,
          138,
          139,
          140,
          141,
          142,
          143,
          144,
          145,
          146,
          147,
          148,
          149,
          150,
          151,
          152,
          153,
          154,
          155,
          156,
          157,
          158,
          159,
          160,
          161,
          162,
          163,
          164,
          165,
          166,
          167,
          168,
          169,
          170,
          171,
          172,
          173,
          174,
          175,
          176,
          177,
          178,
          179,
          180,
          181,
          182,
          183,
          184,
          185,
          186,
          187,
          188,
          189,
          190,
          191,
          192,
          193,
          194,
          195,
          196,
          197,
          198,
          199,
          200,
          201,
          202,
          203,
          204,
          205,
          206,
          207,
          208,
          209,
          210,
          211,
          212,
          213,
          214,
          215,
          216,
          217,
          218,
          219,
          220,
          221,
          222,
          223,
          224,
          225,
          226,
          227,
          228,
          229,
          230,
          231,
          232,
          233,
          234,
          235,
          236,
          237,
          238,
          239,
          240,
          241,
          242,
          243,
          244,
          245,
          246,
          247,
          248,
          249,
          250,
          251,
          252,
          253,
          254,
          255,
          256,
          257,
          258,
          259,
          260,
          261,
          262,
          263,
          264,
          265,
          266,
          267,
          268,
          269,
          270,
          271,
          272,
          273,
          274,
          275,
          276,
          277,
          278,
          279,
          280,
          281,
          282,
          283,
          284,
          285,
          286,
          287,
          288,
          289,
          290,
          291,
          292,
          293,
          294,
          295,
          296,
          297,
          298,
          299
         ],
         "y": {
          "bdata": "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",
          "dtype": "f8"
         }
        },
        {
         "line": {
          "color": "red",
          "width": 2
         },
         "mode": "lines",
         "name": "y_pred (Predicted with Lagged Features)",
         "type": "scatter",
         "x": [
          0,
          1,
          2,
          3,
          4,
          5,
          6,
          7,
          8,
          9,
          10,
          11,
          12,
          13,
          14,
          15,
          16,
          17,
          18,
          19,
          20,
          21,
          22,
          23,
          24,
          25,
          26,
          27,
          28,
          29,
          30,
          31,
          32,
          33,
          34,
          35,
          36,
          37,
          38,
          39,
          40,
          41,
          42,
          43,
          44,
          45,
          46,
          47,
          48,
          49,
          50,
          51,
          52,
          53,
          54,
          55,
          56,
          57,
          58,
          59,
          60,
          61,
          62,
          63,
          64,
          65,
          66,
          67,
          68,
          69,
          70,
          71,
          72,
          73,
          74,
          75,
          76,
          77,
          78,
          79,
          80,
          81,
          82,
          83,
          84,
          85,
          86,
          87,
          88,
          89,
          90,
          91,
          92,
          93,
          94,
          95,
          96,
          97,
          98,
          99,
          100,
          101,
          102,
          103,
          104,
          105,
          106,
          107,
          108,
          109,
          110,
          111,
          112,
          113,
          114,
          115,
          116,
          117,
          118,
          119,
          120,
          121,
          122,
          123,
          124,
          125,
          126,
          127,
          128,
          129,
          130,
          131,
          132,
          133,
          134,
          135,
          136,
          137,
          138,
          139,
          140,
          141,
          142,
          143,
          144,
          145,
          146,
          147,
          148,
          149,
          150,
          151,
          152,
          153,
          154,
          155,
          156,
          157,
          158,
          159,
          160,
          161,
          162,
          163,
          164,
          165,
          166,
          167,
          168,
          169,
          170,
          171,
          172,
          173,
          174,
          175,
          176,
          177,
          178,
          179,
          180,
          181,
          182,
          183,
          184,
          185,
          186,
          187,
          188,
          189,
          190,
          191,
          192,
          193,
          194,
          195,
          196,
          197,
          198,
          199,
          200,
          201,
          202,
          203,
          204,
          205,
          206,
          207,
          208,
          209,
          210,
          211,
          212,
          213,
          214,
          215,
          216,
          217,
          218,
          219,
          220,
          221,
          222,
          223,
          224,
          225,
          226,
          227,
          228,
          229,
          230,
          231,
          232,
          233,
          234,
          235,
          236,
          237,
          238,
          239,
          240,
          241,
          242,
          243,
          244,
          245,
          246,
          247,
          248,
          249,
          250,
          251,
          252,
          253,
          254,
          255,
          256,
          257,
          258,
          259,
          260,
          261,
          262,
          263,
          264,
          265,
          266,
          267,
          268,
          269,
          270,
          271,
          272,
          273,
          274,
          275,
          276,
          277,
          278,
          279,
          280,
          281,
          282,
          283,
          284,
          285,
          286,
          287,
          288,
          289,
          290,
          291,
          292,
          293,
          294,
          295,
          296,
          297,
          298,
          299
         ],
         "y": {
          "bdata": "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",
          "dtype": "f8"
         }
        }
       ],
       "layout": {
        "height": 500,
        "hovermode": "x unified",
        "template": {
         "data": {
          "bar": [
           {
            "error_x": {
             "color": "#2a3f5f"
            },
            "error_y": {
             "color": "#2a3f5f"
            },
            "marker": {
             "line": {
              "color": "white",
              "width": 0.5
             },
             "pattern": {
              "fillmode": "overlay",
              "size": 10,
              "solidity": 0.2
             }
            },
            "type": "bar"
           }
          ],
          "barpolar": [
           {
            "marker": {
             "line": {
              "color": "white",
              "width": 0.5
             },
             "pattern": {
              "fillmode": "overlay",
              "size": 10,
              "solidity": 0.2
             }
            },
            "type": "barpolar"
           }
          ],
          "carpet": [
           {
            "aaxis": {
             "endlinecolor": "#2a3f5f",
             "gridcolor": "#C8D4E3",
             "linecolor": "#C8D4E3",
             "minorgridcolor": "#C8D4E3",
             "startlinecolor": "#2a3f5f"
            },
            "baxis": {
             "endlinecolor": "#2a3f5f",
             "gridcolor": "#C8D4E3",
             "linecolor": "#C8D4E3",
             "minorgridcolor": "#C8D4E3",
             "startlinecolor": "#2a3f5f"
            },
            "type": "carpet"
           }
          ],
          "choropleth": [
           {
            "colorbar": {
             "outlinewidth": 0,
             "ticks": ""
            },
            "type": "choropleth"
           }
          ],
          "contour": [
           {
            "colorbar": {
             "outlinewidth": 0,
             "ticks": ""
            },
            "colorscale": [
             [
              0,
              "#0d0887"
             ],
             [
              0.1111111111111111,
              "#46039f"
             ],
             [
              0.2222222222222222,
              "#7201a8"
             ],
             [
              0.3333333333333333,
              "#9c179e"
             ],
             [
              0.4444444444444444,
              "#bd3786"
             ],
             [
              0.5555555555555556,
              "#d8576b"
             ],
             [
              0.6666666666666666,
              "#ed7953"
             ],
             [
              0.7777777777777778,
              "#fb9f3a"
             ],
             [
              0.8888888888888888,
              "#fdca26"
             ],
             [
              1,
              "#f0f921"
             ]
            ],
            "type": "contour"
           }
          ],
          "contourcarpet": [
           {
            "colorbar": {
             "outlinewidth": 0,
             "ticks": ""
            },
            "type": "contourcarpet"
           }
          ],
          "heatmap": [
           {
            "colorbar": {
             "outlinewidth": 0,
             "ticks": ""
            },
            "colorscale": [
             [
              0,
              "#0d0887"
             ],
             [
              0.1111111111111111,
              "#46039f"
             ],
             [
              0.2222222222222222,
              "#7201a8"
             ],
             [
              0.3333333333333333,
              "#9c179e"
             ],
             [
              0.4444444444444444,
              "#bd3786"
             ],
             [
              0.5555555555555556,
              "#d8576b"
             ],
             [
              0.6666666666666666,
              "#ed7953"
             ],
             [
              0.7777777777777778,
              "#fb9f3a"
             ],
             [
              0.8888888888888888,
              "#fdca26"
             ],
             [
              1,
              "#f0f921"
             ]
            ],
            "type": "heatmap"
           }
          ],
          "histogram": [
           {
            "marker": {
             "pattern": {
              "fillmode": "overlay",
              "size": 10,
              "solidity": 0.2
             }
            },
            "type": "histogram"
           }
          ],
          "histogram2d": [
           {
            "colorbar": {
             "outlinewidth": 0,
             "ticks": ""
            },
            "colorscale": [
             [
              0,
              "#0d0887"
             ],
             [
              0.1111111111111111,
              "#46039f"
             ],
             [
              0.2222222222222222,
              "#7201a8"
             ],
             [
              0.3333333333333333,
              "#9c179e"
             ],
             [
              0.4444444444444444,
              "#bd3786"
             ],
             [
              0.5555555555555556,
              "#d8576b"
             ],
             [
              0.6666666666666666,
              "#ed7953"
             ],
             [
              0.7777777777777778,
              "#fb9f3a"
             ],
             [
              0.8888888888888888,
              "#fdca26"
             ],
             [
              1,
              "#f0f921"
             ]
            ],
            "type": "histogram2d"
           }
          ],
          "histogram2dcontour": [
           {
            "colorbar": {
             "outlinewidth": 0,
             "ticks": ""
            },
            "colorscale": [
             [
              0,
              "#0d0887"
             ],
             [
              0.1111111111111111,
              "#46039f"
             ],
             [
              0.2222222222222222,
              "#7201a8"
             ],
             [
              0.3333333333333333,
              "#9c179e"
             ],
             [
              0.4444444444444444,
              "#bd3786"
             ],
             [
              0.5555555555555556,
              "#d8576b"
             ],
             [
              0.6666666666666666,
              "#ed7953"
             ],
             [
              0.7777777777777778,
              "#fb9f3a"
             ],
             [
              0.8888888888888888,
              "#fdca26"
             ],
             [
              1,
              "#f0f921"
             ]
            ],
            "type": "histogram2dcontour"
           }
          ],
          "mesh3d": [
           {
            "colorbar": {
             "outlinewidth": 0,
             "ticks": ""
            },
            "type": "mesh3d"
           }
          ],
          "parcoords": [
           {
            "line": {
             "colorbar": {
              "outlinewidth": 0,
              "ticks": ""
             }
            },
            "type": "parcoords"
           }
          ],
          "pie": [
           {
            "automargin": true,
            "type": "pie"
           }
          ],
          "scatter": [
           {
            "fillpattern": {
             "fillmode": "overlay",
             "size": 10,
             "solidity": 0.2
            },
            "type": "scatter"
           }
          ],
          "scatter3d": [
           {
            "line": {
             "colorbar": {
              "outlinewidth": 0,
              "ticks": ""
             }
            },
            "marker": {
             "colorbar": {
              "outlinewidth": 0,
              "ticks": ""
             }
            },
            "type": "scatter3d"
           }
          ],
          "scattercarpet": [
           {
            "marker": {
             "colorbar": {
              "outlinewidth": 0,
              "ticks": ""
             }
            },
            "type": "scattercarpet"
           }
          ],
          "scattergeo": [
           {
            "marker": {
             "colorbar": {
              "outlinewidth": 0,
              "ticks": ""
             }
            },
            "type": "scattergeo"
           }
          ],
          "scattergl": [
           {
            "marker": {
             "colorbar": {
              "outlinewidth": 0,
              "ticks": ""
             }
            },
            "type": "scattergl"
           }
          ],
          "scattermap": [
           {
            "marker": {
             "colorbar": {
              "outlinewidth": 0,
              "ticks": ""
             }
            },
            "type": "scattermap"
           }
          ],
          "scattermapbox": [
           {
            "marker": {
             "colorbar": {
              "outlinewidth": 0,
              "ticks": ""
             }
            },
            "type": "scattermapbox"
           }
          ],
          "scatterpolar": [
           {
            "marker": {
             "colorbar": {
              "outlinewidth": 0,
              "ticks": ""
             }
            },
            "type": "scatterpolar"
           }
          ],
          "scatterpolargl": [
           {
            "marker": {
             "colorbar": {
              "outlinewidth": 0,
              "ticks": ""
             }
            },
            "type": "scatterpolargl"
           }
          ],
          "scatterternary": [
           {
            "marker": {
             "colorbar": {
              "outlinewidth": 0,
              "ticks": ""
             }
            },
            "type": "scatterternary"
           }
          ],
          "surface": [
           {
            "colorbar": {
             "outlinewidth": 0,
             "ticks": ""
            },
            "colorscale": [
             [
              0,
              "#0d0887"
             ],
             [
              0.1111111111111111,
              "#46039f"
             ],
             [
              0.2222222222222222,
              "#7201a8"
             ],
             [
              0.3333333333333333,
              "#9c179e"
             ],
             [
              0.4444444444444444,
              "#bd3786"
             ],
             [
              0.5555555555555556,
              "#d8576b"
             ],
             [
              0.6666666666666666,
              "#ed7953"
             ],
             [
              0.7777777777777778,
              "#fb9f3a"
             ],
             [
              0.8888888888888888,
              "#fdca26"
             ],
             [
              1,
              "#f0f921"
             ]
            ],
            "type": "surface"
           }
          ],
          "table": [
           {
            "cells": {
             "fill": {
              "color": "#EBF0F8"
             },
             "line": {
              "color": "white"
             }
            },
            "header": {
             "fill": {
              "color": "#C8D4E3"
             },
             "line": {
              "color": "white"
             }
            },
            "type": "table"
           }
          ]
         },
         "layout": {
          "annotationdefaults": {
           "arrowcolor": "#2a3f5f",
           "arrowhead": 0,
           "arrowwidth": 1
          },
          "autotypenumbers": "strict",
          "coloraxis": {
           "colorbar": {
            "outlinewidth": 0,
            "ticks": ""
           }
          },
          "colorscale": {
           "diverging": [
            [
             0,
             "#8e0152"
            ],
            [
             0.1,
             "#c51b7d"
            ],
            [
             0.2,
             "#de77ae"
            ],
            [
             0.3,
             "#f1b6da"
            ],
            [
             0.4,
             "#fde0ef"
            ],
            [
             0.5,
             "#f7f7f7"
            ],
            [
             0.6,
             "#e6f5d0"
            ],
            [
             0.7,
             "#b8e186"
            ],
            [
             0.8,
             "#7fbc41"
            ],
            [
             0.9,
             "#4d9221"
            ],
            [
             1,
             "#276419"
            ]
           ],
           "sequential": [
            [
             0,
             "#0d0887"
            ],
            [
             0.1111111111111111,
             "#46039f"
            ],
            [
             0.2222222222222222,
             "#7201a8"
            ],
            [
             0.3333333333333333,
             "#9c179e"
            ],
            [
             0.4444444444444444,
             "#bd3786"
            ],
            [
             0.5555555555555556,
             "#d8576b"
            ],
            [
             0.6666666666666666,
             "#ed7953"
            ],
            [
             0.7777777777777778,
             "#fb9f3a"
            ],
            [
             0.8888888888888888,
             "#fdca26"
            ],
            [
             1,
             "#f0f921"
            ]
           ],
           "sequentialminus": [
            [
             0,
             "#0d0887"
            ],
            [
             0.1111111111111111,
             "#46039f"
            ],
            [
             0.2222222222222222,
             "#7201a8"
            ],
            [
             0.3333333333333333,
             "#9c179e"
            ],
            [
             0.4444444444444444,
             "#bd3786"
            ],
            [
             0.5555555555555556,
             "#d8576b"
            ],
            [
             0.6666666666666666,
             "#ed7953"
            ],
            [
             0.7777777777777778,
             "#fb9f3a"
            ],
            [
             0.8888888888888888,
             "#fdca26"
            ],
            [
             1,
             "#f0f921"
            ]
           ]
          },
          "colorway": [
           "#636efa",
           "#EF553B",
           "#00cc96",
           "#ab63fa",
           "#FFA15A",
           "#19d3f3",
           "#FF6692",
           "#B6E880",
           "#FF97FF",
           "#FECB52"
          ],
          "font": {
           "color": "#2a3f5f"
          },
          "geo": {
           "bgcolor": "white",
           "lakecolor": "white",
           "landcolor": "white",
           "showlakes": true,
           "showland": true,
           "subunitcolor": "#C8D4E3"
          },
          "hoverlabel": {
           "align": "left"
          },
          "hovermode": "closest",
          "mapbox": {
           "style": "light"
          },
          "paper_bgcolor": "white",
          "plot_bgcolor": "white",
          "polar": {
           "angularaxis": {
            "gridcolor": "#EBF0F8",
            "linecolor": "#EBF0F8",
            "ticks": ""
           },
           "bgcolor": "white",
           "radialaxis": {
            "gridcolor": "#EBF0F8",
            "linecolor": "#EBF0F8",
            "ticks": ""
           }
          },
          "scene": {
           "xaxis": {
            "backgroundcolor": "white",
            "gridcolor": "#DFE8F3",
            "gridwidth": 2,
            "linecolor": "#EBF0F8",
            "showbackground": true,
            "ticks": "",
            "zerolinecolor": "#EBF0F8"
           },
           "yaxis": {
            "backgroundcolor": "white",
            "gridcolor": "#DFE8F3",
            "gridwidth": 2,
            "linecolor": "#EBF0F8",
            "showbackground": true,
            "ticks": "",
            "zerolinecolor": "#EBF0F8"
           },
           "zaxis": {
            "backgroundcolor": "white",
            "gridcolor": "#DFE8F3",
            "gridwidth": 2,
            "linecolor": "#EBF0F8",
            "showbackground": true,
            "ticks": "",
            "zerolinecolor": "#EBF0F8"
           }
          },
          "shapedefaults": {
           "line": {
            "color": "#2a3f5f"
           }
          },
          "ternary": {
           "aaxis": {
            "gridcolor": "#DFE8F3",
            "linecolor": "#A2B1C6",
            "ticks": ""
           },
           "baxis": {
            "gridcolor": "#DFE8F3",
            "linecolor": "#A2B1C6",
            "ticks": ""
           },
           "bgcolor": "white",
           "caxis": {
            "gridcolor": "#DFE8F3",
            "linecolor": "#A2B1C6",
            "ticks": ""
           }
          },
          "title": {
           "x": 0.05
          },
          "xaxis": {
           "automargin": true,
           "gridcolor": "#EBF0F8",
           "linecolor": "#EBF0F8",
           "ticks": "",
           "title": {
            "standoff": 15
           },
           "zerolinecolor": "#EBF0F8",
           "zerolinewidth": 2
          },
          "yaxis": {
           "automargin": true,
           "gridcolor": "#EBF0F8",
           "linecolor": "#EBF0F8",
           "ticks": "",
           "title": {
            "standoff": 15
           },
           "zerolinecolor": "#EBF0F8",
           "zerolinewidth": 2
          }
         }
        },
        "title": {
         "text": "Actual vs Predicted Bike Rental Counts"
        },
        "width": 800,
        "xaxis": {
         "title": {
          "text": "Time Steps"
         }
        },
        "yaxis": {
         "title": {
          "text": "Bike Rental Count"
         }
        }
       }
      }
     },
     "metadata": {},
     "output_type": "display_data"
    }
   ],
   "source": [
    "plot_actual_vs_predicted(\n",
    "    y_true=y_test,\n",
    "    y_pred=y_pred,\n",
    "    n=n,\n",
    "    title=\"Actual vs Predicted Bike Rental Counts (Model with Advanced Features)\",\n",
    ")"
   ]
  },
  {
   "cell_type": "code",
   "execution_count": 48,
   "id": "3438ed2e",
   "metadata": {},
   "outputs": [
    {
     "data": {
      "text/html": [
       "<pre style=\"white-space:pre;overflow-x:auto;line-height:normal;font-family:Menlo,'DejaVu Sans Mono',consolas,'Courier New',monospace\"><span style=\"color: #00ff00; text-decoration-color: #00ff00\">Metrics </span><span style=\"color: #00ff00; text-decoration-color: #00ff00; font-weight: bold\">(</span><span style=\"color: #00ff00; text-decoration-color: #00ff00\">Base Model</span><span style=\"color: #00ff00; text-decoration-color: #00ff00; font-weight: bold\">)</span><span style=\"color: #00ff00; text-decoration-color: #00ff00\">: </span><span style=\"color: #00ff00; text-decoration-color: #00ff00; font-weight: bold\">{</span><span style=\"color: #008000; text-decoration-color: #008000\">'MAE'</span><span style=\"color: #00ff00; text-decoration-color: #00ff00\">: </span><span style=\"color: #008080; text-decoration-color: #008080; font-weight: bold\">84.78</span><span style=\"color: #00ff00; text-decoration-color: #00ff00\">, </span><span style=\"color: #008000; text-decoration-color: #008000\">'RMSE'</span><span style=\"color: #00ff00; text-decoration-color: #00ff00\">: </span><span style=\"color: #008080; text-decoration-color: #008080; font-weight: bold\">116.41</span><span style=\"color: #00ff00; text-decoration-color: #00ff00\">, </span><span style=\"color: #008000; text-decoration-color: #008000\">'MAPE'</span><span style=\"color: #00ff00; text-decoration-color: #00ff00\">: </span><span style=\"color: #008080; text-decoration-color: #008080; font-weight: bold\">34.11</span><span style=\"color: #00ff00; text-decoration-color: #00ff00; font-weight: bold\">}</span>\n",
       "</pre>\n"
      ],
      "text/plain": [
       "\u001b[38;2;0;255;0mMetrics \u001b[0m\u001b[1;38;2;0;255;0m(\u001b[0m\u001b[38;2;0;255;0mBase Model\u001b[0m\u001b[1;38;2;0;255;0m)\u001b[0m\u001b[38;2;0;255;0m: \u001b[0m\u001b[1;38;2;0;255;0m{\u001b[0m\u001b[32m'MAE'\u001b[0m\u001b[38;2;0;255;0m: \u001b[0m\u001b[1;36m84.78\u001b[0m\u001b[38;2;0;255;0m, \u001b[0m\u001b[32m'RMSE'\u001b[0m\u001b[38;2;0;255;0m: \u001b[0m\u001b[1;36m116.41\u001b[0m\u001b[38;2;0;255;0m, \u001b[0m\u001b[32m'MAPE'\u001b[0m\u001b[38;2;0;255;0m: \u001b[0m\u001b[1;36m34.11\u001b[0m\u001b[1;38;2;0;255;0m}\u001b[0m\n"
      ]
     },
     "metadata": {},
     "output_type": "display_data"
    },
    {
     "data": {
      "text/html": [
       "<pre style=\"white-space:pre;overflow-x:auto;line-height:normal;font-family:Menlo,'DejaVu Sans Mono',consolas,'Courier New',monospace\"><span style=\"color: #00ff00; text-decoration-color: #00ff00\">Metrics </span><span style=\"color: #00ff00; text-decoration-color: #00ff00; font-weight: bold\">(</span><span style=\"color: #00ff00; text-decoration-color: #00ff00\">Dummy Model</span><span style=\"color: #00ff00; text-decoration-color: #00ff00; font-weight: bold\">)</span><span style=\"color: #00ff00; text-decoration-color: #00ff00\">: </span><span style=\"color: #00ff00; text-decoration-color: #00ff00; font-weight: bold\">{</span><span style=\"color: #008000; text-decoration-color: #008000\">'MAE'</span><span style=\"color: #00ff00; text-decoration-color: #00ff00\">: </span><span style=\"color: #008080; text-decoration-color: #008080; font-weight: bold\">87.01</span><span style=\"color: #00ff00; text-decoration-color: #00ff00\">, </span><span style=\"color: #008000; text-decoration-color: #008000\">'RMSE'</span><span style=\"color: #00ff00; text-decoration-color: #00ff00\">: </span><span style=\"color: #008080; text-decoration-color: #008080; font-weight: bold\">128.17</span><span style=\"color: #00ff00; text-decoration-color: #00ff00\">, </span><span style=\"color: #008000; text-decoration-color: #008000\">'MAPE'</span><span style=\"color: #00ff00; text-decoration-color: #00ff00\">: </span><span style=\"color: #008080; text-decoration-color: #008080; font-weight: bold\">55.4</span><span style=\"color: #00ff00; text-decoration-color: #00ff00; font-weight: bold\">}</span>\n",
       "</pre>\n"
      ],
      "text/plain": [
       "\u001b[38;2;0;255;0mMetrics \u001b[0m\u001b[1;38;2;0;255;0m(\u001b[0m\u001b[38;2;0;255;0mDummy Model\u001b[0m\u001b[1;38;2;0;255;0m)\u001b[0m\u001b[38;2;0;255;0m: \u001b[0m\u001b[1;38;2;0;255;0m{\u001b[0m\u001b[32m'MAE'\u001b[0m\u001b[38;2;0;255;0m: \u001b[0m\u001b[1;36m87.01\u001b[0m\u001b[38;2;0;255;0m, \u001b[0m\u001b[32m'RMSE'\u001b[0m\u001b[38;2;0;255;0m: \u001b[0m\u001b[1;36m128.17\u001b[0m\u001b[38;2;0;255;0m, \u001b[0m\u001b[32m'MAPE'\u001b[0m\u001b[38;2;0;255;0m: \u001b[0m\u001b[1;36m55.4\u001b[0m\u001b[1;38;2;0;255;0m}\u001b[0m\n"
      ]
     },
     "metadata": {},
     "output_type": "display_data"
    },
    {
     "data": {
      "text/html": [
       "<pre style=\"white-space:pre;overflow-x:auto;line-height:normal;font-family:Menlo,'DejaVu Sans Mono',consolas,'Courier New',monospace\"><span style=\"color: #00ff00; text-decoration-color: #00ff00\">Metrics </span><span style=\"color: #00ff00; text-decoration-color: #00ff00; font-weight: bold\">(</span><span style=\"color: #00ff00; text-decoration-color: #00ff00\">Base Model with Lagged Features</span><span style=\"color: #00ff00; text-decoration-color: #00ff00; font-weight: bold\">)</span><span style=\"color: #00ff00; text-decoration-color: #00ff00\">: </span><span style=\"color: #00ff00; text-decoration-color: #00ff00; font-weight: bold\">{</span><span style=\"color: #008000; text-decoration-color: #008000\">'MAE'</span><span style=\"color: #00ff00; text-decoration-color: #00ff00\">: </span><span style=\"color: #008080; text-decoration-color: #008080; font-weight: bold\">43.48</span><span style=\"color: #00ff00; text-decoration-color: #00ff00\">, </span><span style=\"color: #008000; text-decoration-color: #008000\">'RMSE'</span><span style=\"color: #00ff00; text-decoration-color: #00ff00\">: </span><span style=\"color: #008080; text-decoration-color: #008080; font-weight: bold\">71.07</span><span style=\"color: #00ff00; text-decoration-color: #00ff00\">, </span><span style=\"color: #008000; text-decoration-color: #008000\">'MAPE'</span><span style=\"color: #00ff00; text-decoration-color: #00ff00\">: </span><span style=\"color: #008080; text-decoration-color: #008080; font-weight: bold\">24.61</span><span style=\"color: #00ff00; text-decoration-color: #00ff00; font-weight: bold\">}</span>\n",
       "</pre>\n"
      ],
      "text/plain": [
       "\u001b[38;2;0;255;0mMetrics \u001b[0m\u001b[1;38;2;0;255;0m(\u001b[0m\u001b[38;2;0;255;0mBase Model with Lagged Features\u001b[0m\u001b[1;38;2;0;255;0m)\u001b[0m\u001b[38;2;0;255;0m: \u001b[0m\u001b[1;38;2;0;255;0m{\u001b[0m\u001b[32m'MAE'\u001b[0m\u001b[38;2;0;255;0m: \u001b[0m\u001b[1;36m43.48\u001b[0m\u001b[38;2;0;255;0m, \u001b[0m\u001b[32m'RMSE'\u001b[0m\u001b[38;2;0;255;0m: \u001b[0m\u001b[1;36m71.07\u001b[0m\u001b[38;2;0;255;0m, \u001b[0m\u001b[32m'MAPE'\u001b[0m\u001b[38;2;0;255;0m: \u001b[0m\u001b[1;36m24.61\u001b[0m\u001b[1;38;2;0;255;0m}\u001b[0m\n"
      ]
     },
     "metadata": {},
     "output_type": "display_data"
    },
    {
     "data": {
      "text/html": [
       "<pre style=\"white-space:pre;overflow-x:auto;line-height:normal;font-family:Menlo,'DejaVu Sans Mono',consolas,'Courier New',monospace\"><span style=\"color: #00ff00; text-decoration-color: #00ff00\">Metrics </span><span style=\"color: #00ff00; text-decoration-color: #00ff00; font-weight: bold\">(</span><span style=\"color: #00ff00; text-decoration-color: #00ff00\">Base Model with Advanced Features</span><span style=\"color: #00ff00; text-decoration-color: #00ff00; font-weight: bold\">)</span><span style=\"color: #00ff00; text-decoration-color: #00ff00\">: </span><span style=\"color: #00ff00; text-decoration-color: #00ff00; font-weight: bold\">{</span><span style=\"color: #008000; text-decoration-color: #008000\">'MAE'</span><span style=\"color: #00ff00; text-decoration-color: #00ff00\">: </span><span style=\"color: #008080; text-decoration-color: #008080; font-weight: bold\">41.65</span><span style=\"color: #00ff00; text-decoration-color: #00ff00\">, </span><span style=\"color: #008000; text-decoration-color: #008000\">'RMSE'</span><span style=\"color: #00ff00; text-decoration-color: #00ff00\">: </span><span style=\"color: #008080; text-decoration-color: #008080; font-weight: bold\">65.37</span><span style=\"color: #00ff00; text-decoration-color: #00ff00\">, </span><span style=\"color: #008000; text-decoration-color: #008000\">'MAPE'</span><span style=\"color: #00ff00; text-decoration-color: #00ff00\">: </span><span style=\"color: #008080; text-decoration-color: #008080; font-weight: bold\">24.58</span><span style=\"color: #00ff00; text-decoration-color: #00ff00; font-weight: bold\">}</span>\n",
       "</pre>\n"
      ],
      "text/plain": [
       "\u001b[38;2;0;255;0mMetrics \u001b[0m\u001b[1;38;2;0;255;0m(\u001b[0m\u001b[38;2;0;255;0mBase Model with Advanced Features\u001b[0m\u001b[1;38;2;0;255;0m)\u001b[0m\u001b[38;2;0;255;0m: \u001b[0m\u001b[1;38;2;0;255;0m{\u001b[0m\u001b[32m'MAE'\u001b[0m\u001b[38;2;0;255;0m: \u001b[0m\u001b[1;36m41.65\u001b[0m\u001b[38;2;0;255;0m, \u001b[0m\u001b[32m'RMSE'\u001b[0m\u001b[38;2;0;255;0m: \u001b[0m\u001b[1;36m65.37\u001b[0m\u001b[38;2;0;255;0m, \u001b[0m\u001b[32m'MAPE'\u001b[0m\u001b[38;2;0;255;0m: \u001b[0m\u001b[1;36m24.58\u001b[0m\u001b[1;38;2;0;255;0m}\u001b[0m\n"
      ]
     },
     "metadata": {},
     "output_type": "display_data"
    }
   ],
   "source": [
    "console.print(f\"Metrics (Base Model): {metrics_base}\", style=\"info\")\n",
    "console.print(f\"Metrics (Dummy Model): {metrics_dummy}\", style=\"info\")\n",
    "console.print(\n",
    "    f\"Metrics (Base Model with Lagged Features): {metrics_base_with_lagged_feats}\",\n",
    "    style=\"info\",\n",
    ")\n",
    "console.print(\n",
    "    f\"Metrics (Base Model with Advanced Features): {metrics_base_with_advanced_feats}\",\n",
    "    style=\"info\",\n",
    ")"
   ]
  },
  {
   "cell_type": "markdown",
   "id": "e8e875d1",
   "metadata": {},
   "source": [
    "<br>\n",
    "\n",
    "# Train With TimeSeriesSplit"
   ]
  },
  {
   "cell_type": "code",
   "execution_count": 49,
   "id": "2367820b",
   "metadata": {},
   "outputs": [],
   "source": [
    "from sklearn.model_selection import TimeSeriesSplit"
   ]
  },
  {
   "cell_type": "code",
   "execution_count": 51,
   "id": "5936363b",
   "metadata": {},
   "outputs": [
    {
     "name": "stdout",
     "output_type": "stream",
     "text": [
      "(11122, 51) (11122,) (2781, 51) (2781,)\n"
     ]
    }
   ],
   "source": [
    "# df = df.drop([\"cnt\"])\n",
    "\n",
    "train_df, test_df = split_temporal_data(df)\n",
    "\n",
    "x_train = train_df.drop(\"target\").to_numpy()\n",
    "y_train = train_df[\"target\"].to_numpy()\n",
    "\n",
    "x_test = test_df.drop(\"target\").to_numpy()\n",
    "y_test = test_df[\"target\"].to_numpy()\n",
    "\n",
    "print(x_train.shape, y_train.shape, x_test.shape, y_test.shape)"
   ]
  },
  {
   "cell_type": "code",
   "execution_count": 52,
   "id": "70cf967d",
   "metadata": {},
   "outputs": [
    {
     "name": "stdout",
     "output_type": "stream",
     "text": [
      "TimeSeriesSplit(gap=0, max_train_size=None, n_splits=5, test_size=168)\n",
      "Fold 1:\n",
      "Validation Metrics: {'MAE': 36.47, 'RMSE': 65.54, 'MAPE': 29.43}\n",
      "Fold 2:\n",
      "Validation Metrics: {'MAE': 53.59, 'RMSE': 83.45, 'MAPE': 25.27}\n",
      "Fold 3:\n",
      "Validation Metrics: {'MAE': 36.69, 'RMSE': 62.04, 'MAPE': 30.1}\n",
      "Fold 4:\n",
      "Validation Metrics: {'MAE': 36.13, 'RMSE': 58.41, 'MAPE': 25.88}\n",
      "Fold 5:\n",
      "Validation Metrics: {'MAE': 36.85, 'RMSE': 59.81, 'MAPE': 27.68}\n",
      "\n",
      "Cross-Validation Results:\n",
      "Average MAE over 5 folds: 39.95\n",
      "Average RMSE over 5 folds: 65.85\n",
      "Average MAPE over 5 folds: 27.67\n"
     ]
    }
   ],
   "source": [
    "n_splits: int = 5\n",
    "test_size: int = 168  # 1 week of hourly data\n",
    "\n",
    "tscv = TimeSeriesSplit(n_splits=n_splits, test_size=test_size, gap=0)\n",
    "rf_reg = RandomForestRegressor(random_state=123)\n",
    "all_rmse: list[float] = []\n",
    "all_mae: list[float] = []\n",
    "all_mape: list[float] = []\n",
    "print(tscv)\n",
    "\n",
    "for i, (train_index, test_index) in enumerate(tscv.split(x_train), start=1):\n",
    "    print(f\"Fold {i}:\")\n",
    "    x_tr, x_val = x_train[train_index], x_train[test_index]\n",
    "    y_tr, y_val = y_train[train_index], y_train[test_index]\n",
    "    # Train the model\n",
    "    rf_reg.fit(x_tr, y_tr)\n",
    "    # Evaluate the model\n",
    "    y_pred = rf_reg.predict(x_val)\n",
    "    metrics = compute_metrics(y_val, y_pred)\n",
    "    print(f\"Validation Metrics: {metrics}\")\n",
    "    all_rmse.append(metrics.get(\"RMSE\"))\n",
    "    all_mae.append(metrics.get(\"MAE\"))\n",
    "    all_mape.append(metrics.get(\"MAPE\"))\n",
    "\n",
    "print(\"\\nCross-Validation Results:\")\n",
    "print(f\"Average MAE over {n_splits} folds: {np.mean(all_mae).round(2)}\")\n",
    "print(f\"Average RMSE over {n_splits} folds: {np.mean(all_rmse).round(2)}\")\n",
    "print(f\"Average MAPE over {n_splits} folds: {np.mean(all_mape).round(2)}\")"
   ]
  },
  {
   "cell_type": "code",
   "execution_count": 53,
   "id": "01b26f31",
   "metadata": {},
   "outputs": [
    {
     "name": "stdout",
     "output_type": "stream",
     "text": [
      "\n",
      "Test Set Metrics: {'MAE': 42.23, 'RMSE': 66.45, 'MAPE': 24.84}\n"
     ]
    }
   ],
   "source": [
    "# Evaluate on the test set\n",
    "y_test_pred = rf_reg.predict(x_test)\n",
    "metrics_test = compute_metrics(y_test, y_test_pred)\n",
    "print(f\"\\nTest Set Metrics: {metrics_test}\")"
   ]
  },
  {
   "cell_type": "code",
   "execution_count": null,
   "id": "9df69b3a",
   "metadata": {},
   "outputs": [],
   "source": []
  },
  {
   "cell_type": "markdown",
   "id": "2cc4c7ff",
   "metadata": {},
   "source": [
    "# Tune Hyperparameters Using Optuna"
   ]
  },
  {
   "cell_type": "code",
   "execution_count": null,
   "id": "e451275d",
   "metadata": {},
   "outputs": [],
   "source": [
    "import optuna\n",
    "from optuna.trial import TrialState"
   ]
  },
  {
   "cell_type": "code",
   "execution_count": null,
   "id": "59d5dae2",
   "metadata": {},
   "outputs": [],
   "source": [
    "# Step 1: Define the Optuna objective with TimeSeriesSplit on x_train\n",
    "def objective(trial: optuna.Trial) -> float:\n",
    "    \"\"\"Objective function for Optuna hyperparameter optimization using TimeSeriesSplit.\"\"\"\n",
    "    np.random.seed(42)  # noqa: NPY002\n",
    "    params: dict[str, Any] = {\n",
    "        \"n_estimators\": trial.suggest_int(\"n_estimators\", 50, 300),\n",
    "        \"max_depth\": trial.suggest_int(\"max_depth\", 3, 20),\n",
    "        \"min_samples_split\": trial.suggest_int(\"min_samples_split\", 2, 20),\n",
    "        \"min_samples_leaf\": trial.suggest_int(\"min_samples_leaf\", 1, 10),\n",
    "        \"max_features\": trial.suggest_categorical(\n",
    "            \"max_features\", [\"sqrt\", \"log2\", None]\n",
    "        ),\n",
    "        \"bootstrap\": trial.suggest_categorical(\"bootstrap\", [True, False]),\n",
    "        \"random_state\": 42,\n",
    "    }\n",
    "\n",
    "    # Use TimeSeriesSplit for cross-validation\n",
    "    n_splits: int = 3\n",
    "    test_size: int = 168  # 1 week of hourly data\n",
    "    tscv = TimeSeriesSplit(n_splits=n_splits, test_size=test_size, gap=0)\n",
    "\n",
    "    cv_scores: list[float] = []\n",
    "\n",
    "    for train_idx, val_idx in tscv.split(x_train):\n",
    "        x_tr, x_val = x_train[train_idx], x_train[val_idx]\n",
    "        y_tr, y_val = y_train[train_idx], y_train[val_idx]\n",
    "\n",
    "        model = RandomForestRegressor(**params)\n",
    "        model.fit(x_tr, y_tr)\n",
    "\n",
    "        preds = model.predict(x_val)\n",
    "        rmse = np.sqrt(root_mean_squared_error(y_val, preds))\n",
    "        cv_scores.append(rmse)\n",
    "\n",
    "    # Return mean RMSE across all CV folds\n",
    "    mean_rmse = np.mean(cv_scores)\n",
    "\n",
    "    # Store additional metrics for analysis\n",
    "    trial.set_user_attr(\"cv_scores\", cv_scores)\n",
    "    trial.set_user_attr(\"cv_std\", np.std(cv_scores))\n",
    "\n",
    "    return mean_rmse"
   ]
  },
  {
   "cell_type": "code",
   "execution_count": null,
   "id": "80161a62",
   "metadata": {},
   "outputs": [
    {
     "name": "stderr",
     "output_type": "stream",
     "text": [
      "[I 2025-09-28 19:43:41,221] A new study created in memory with name: no-name-3ffc8b05-5f72-43cd-aa5c-e398fb211d6d\n"
     ]
    },
    {
     "data": {
      "application/vnd.jupyter.widget-view+json": {
       "model_id": "afaf6fcc93b74193a9f04eb0bd2a89fd",
       "version_major": 2,
       "version_minor": 0
      },
      "text/plain": [
       "  0%|          | 0/50 [00:00<?, ?it/s]"
      ]
     },
     "metadata": {},
     "output_type": "display_data"
    },
    {
     "name": "stdout",
     "output_type": "stream",
     "text": [
      "[I 2025-09-28 19:43:47,857] Trial 0 finished with value: 8.281301890044467 and parameters: {'n_estimators': 144, 'max_depth': 20, 'min_samples_split': 15, 'min_samples_leaf': 6, 'max_features': 'sqrt', 'bootstrap': True}. Best is trial 0 with value: 8.281301890044467.\n",
      "[I 2025-09-28 19:43:51,579] Trial 1 finished with value: 11.37751203819387 and parameters: {'n_estimators': 227, 'max_depth': 3, 'min_samples_split': 20, 'min_samples_leaf': 9, 'max_features': 'sqrt', 'bootstrap': False}. Best is trial 0 with value: 8.281301890044467.\n",
      "[I 2025-09-28 19:44:22,548] Trial 2 finished with value: 7.93255104971109 and parameters: {'n_estimators': 158, 'max_depth': 8, 'min_samples_split': 13, 'min_samples_leaf': 2, 'max_features': None, 'bootstrap': True}. Best is trial 2 with value: 7.93255104971109.\n",
      "[I 2025-09-28 19:45:11,158] Trial 3 finished with value: 7.811953239758073 and parameters: {'n_estimators': 179, 'max_depth': 13, 'min_samples_split': 2, 'min_samples_leaf': 7, 'max_features': None, 'bootstrap': True}. Best is trial 3 with value: 7.811953239758073.\n",
      "[I 2025-09-28 19:45:12,629] Trial 4 finished with value: 11.165060014502906 and parameters: {'n_estimators': 126, 'max_depth': 4, 'min_samples_split': 15, 'min_samples_leaf': 5, 'max_features': 'log2', 'bootstrap': True}. Best is trial 3 with value: 7.811953239758073.\n",
      "[I 2025-09-28 19:45:17,372] Trial 5 finished with value: 9.318593810144591 and parameters: {'n_estimators': 216, 'max_depth': 8, 'min_samples_split': 11, 'min_samples_leaf': 6, 'max_features': 'log2', 'bootstrap': True}. Best is trial 3 with value: 7.811953239758073.\n",
      "[I 2025-09-28 19:47:13,949] Trial 6 finished with value: 8.66205928852874 and parameters: {'n_estimators': 200, 'max_depth': 19, 'min_samples_split': 3, 'min_samples_leaf': 2, 'max_features': None, 'bootstrap': False}. Best is trial 3 with value: 7.811953239758073.\n",
      "[I 2025-09-28 19:47:41,425] Trial 7 finished with value: 7.933234877764916 and parameters: {'n_estimators': 139, 'max_depth': 8, 'min_samples_split': 12, 'min_samples_leaf': 2, 'max_features': None, 'bootstrap': True}. Best is trial 3 with value: 7.811953239758073.\n",
      "[I 2025-09-28 19:47:44,913] Trial 8 finished with value: 8.154881751085172 and parameters: {'n_estimators': 51, 'max_depth': 17, 'min_samples_split': 15, 'min_samples_leaf': 8, 'max_features': 'sqrt', 'bootstrap': False}. Best is trial 3 with value: 7.811953239758073.\n",
      "[I 2025-09-28 19:47:49,572] Trial 9 finished with value: 9.268267272399099 and parameters: {'n_estimators': 206, 'max_depth': 8, 'min_samples_split': 3, 'min_samples_leaf': 4, 'max_features': 'log2', 'bootstrap': True}. Best is trial 3 with value: 7.811953239758073.\n",
      "[I 2025-09-28 19:49:50,278] Trial 10 finished with value: 8.039563701484257 and parameters: {'n_estimators': 287, 'max_depth': 14, 'min_samples_split': 7, 'min_samples_leaf': 10, 'max_features': None, 'bootstrap': False}. Best is trial 3 with value: 7.811953239758073.\n",
      "[I 2025-09-28 19:50:14,635] Trial 11 finished with value: 7.77408365164376 and parameters: {'n_estimators': 83, 'max_depth': 12, 'min_samples_split': 8, 'min_samples_leaf': 1, 'max_features': None, 'bootstrap': True}. Best is trial 11 with value: 7.77408365164376.\n",
      "[I 2025-09-28 19:50:36,452] Trial 12 finished with value: 7.84226871071457 and parameters: {'n_estimators': 80, 'max_depth': 13, 'min_samples_split': 7, 'min_samples_leaf': 7, 'max_features': None, 'bootstrap': True}. Best is trial 11 with value: 7.77408365164376.\n",
      "[I 2025-09-28 19:51:07,709] Trial 13 finished with value: 7.76249665921033 and parameters: {'n_estimators': 99, 'max_depth': 15, 'min_samples_split': 7, 'min_samples_leaf': 4, 'max_features': None, 'bootstrap': True}. Best is trial 13 with value: 7.76249665921033.\n",
      "[I 2025-09-28 19:51:39,196] Trial 14 finished with value: 7.748620306287026 and parameters: {'n_estimators': 89, 'max_depth': 16, 'min_samples_split': 7, 'min_samples_leaf': 1, 'max_features': None, 'bootstrap': True}. Best is trial 14 with value: 7.748620306287026.\n",
      "[I 2025-09-28 19:52:10,209] Trial 15 finished with value: 7.768424923638008 and parameters: {'n_estimators': 99, 'max_depth': 16, 'min_samples_split': 9, 'min_samples_leaf': 4, 'max_features': None, 'bootstrap': True}. Best is trial 14 with value: 7.748620306287026.\n",
      "[I 2025-09-28 19:52:26,897] Trial 16 finished with value: 7.793702002830703 and parameters: {'n_estimators': 53, 'max_depth': 16, 'min_samples_split': 5, 'min_samples_leaf': 4, 'max_features': None, 'bootstrap': True}. Best is trial 14 with value: 7.748620306287026.\n",
      "[I 2025-09-28 19:53:06,400] Trial 17 finished with value: 7.729380509814336 and parameters: {'n_estimators': 106, 'max_depth': 18, 'min_samples_split': 5, 'min_samples_leaf': 1, 'max_features': None, 'bootstrap': True}. Best is trial 17 with value: 7.729380509814336.\n",
      "[I 2025-09-28 19:53:16,987] Trial 18 finished with value: 7.688346807680919 and parameters: {'n_estimators': 118, 'max_depth': 18, 'min_samples_split': 5, 'min_samples_leaf': 1, 'max_features': 'sqrt', 'bootstrap': False}. Best is trial 18 with value: 7.688346807680919.\n",
      "[I 2025-09-28 19:53:26,769] Trial 19 finished with value: 7.742507526318211 and parameters: {'n_estimators': 120, 'max_depth': 18, 'min_samples_split': 5, 'min_samples_leaf': 3, 'max_features': 'sqrt', 'bootstrap': False}. Best is trial 18 with value: 7.688346807680919.\n",
      "[I 2025-09-28 19:53:50,449] Trial 20 finished with value: 7.662072847877781 and parameters: {'n_estimators': 254, 'max_depth': 20, 'min_samples_split': 5, 'min_samples_leaf': 1, 'max_features': 'sqrt', 'bootstrap': False}. Best is trial 20 with value: 7.662072847877781.\n",
      "[I 2025-09-28 19:54:15,391] Trial 21 finished with value: 7.693489363334012 and parameters: {'n_estimators': 278, 'max_depth': 19, 'min_samples_split': 5, 'min_samples_leaf': 1, 'max_features': 'sqrt', 'bootstrap': False}. Best is trial 20 with value: 7.662072847877781.\n",
      "[I 2025-09-28 19:54:39,056] Trial 22 finished with value: 7.774782631054731 and parameters: {'n_estimators': 290, 'max_depth': 20, 'min_samples_split': 4, 'min_samples_leaf': 3, 'max_features': 'sqrt', 'bootstrap': False}. Best is trial 20 with value: 7.662072847877781.\n",
      "[I 2025-09-28 19:55:01,068] Trial 23 finished with value: 7.679435166627175 and parameters: {'n_estimators': 255, 'max_depth': 20, 'min_samples_split': 9, 'min_samples_leaf': 1, 'max_features': 'sqrt', 'bootstrap': False}. Best is trial 20 with value: 7.662072847877781.\n",
      "[I 2025-09-28 19:55:21,382] Trial 24 finished with value: 7.6991929457792665 and parameters: {'n_estimators': 252, 'max_depth': 20, 'min_samples_split': 9, 'min_samples_leaf': 2, 'max_features': 'sqrt', 'bootstrap': False}. Best is trial 20 with value: 7.662072847877781.\n",
      "[I 2025-09-28 19:55:40,690] Trial 25 finished with value: 7.787607204872373 and parameters: {'n_estimators': 253, 'max_depth': 18, 'min_samples_split': 10, 'min_samples_leaf': 3, 'max_features': 'sqrt', 'bootstrap': False}. Best is trial 20 with value: 7.662072847877781.\n",
      "[I 2025-09-28 19:56:03,896] Trial 26 finished with value: 7.640302377585179 and parameters: {'n_estimators': 249, 'max_depth': 17, 'min_samples_split': 2, 'min_samples_leaf': 1, 'max_features': 'sqrt', 'bootstrap': False}. Best is trial 26 with value: 7.640302377585179.\n",
      "[I 2025-09-28 19:56:17,767] Trial 27 finished with value: 8.159326934676217 and parameters: {'n_estimators': 253, 'max_depth': 10, 'min_samples_split': 3, 'min_samples_leaf': 2, 'max_features': 'sqrt', 'bootstrap': False}. Best is trial 26 with value: 7.640302377585179.\n",
      "[I 2025-09-28 19:56:36,911] Trial 28 finished with value: 7.784520806125065 and parameters: {'n_estimators': 235, 'max_depth': 20, 'min_samples_split': 3, 'min_samples_leaf': 3, 'max_features': 'sqrt', 'bootstrap': False}. Best is trial 26 with value: 7.640302377585179.\n",
      "[I 2025-09-28 19:56:55,462] Trial 29 finished with value: 8.01104558108134 and parameters: {'n_estimators': 270, 'max_depth': 20, 'min_samples_split': 20, 'min_samples_leaf': 5, 'max_features': 'sqrt', 'bootstrap': False}. Best is trial 26 with value: 7.640302377585179.\n",
      "[I 2025-09-28 19:57:18,574] Trial 30 finished with value: 7.841750655827173 and parameters: {'n_estimators': 300, 'max_depth': 17, 'min_samples_split': 13, 'min_samples_leaf': 1, 'max_features': 'sqrt', 'bootstrap': False}. Best is trial 26 with value: 7.640302377585179.\n",
      "[I 2025-09-28 19:57:37,173] Trial 31 finished with value: 7.629085086710053 and parameters: {'n_estimators': 187, 'max_depth': 19, 'min_samples_split': 2, 'min_samples_leaf': 1, 'max_features': 'sqrt', 'bootstrap': False}. Best is trial 31 with value: 7.629085086710053.\n",
      "[I 2025-09-28 19:57:53,763] Trial 32 finished with value: 7.708636375171106 and parameters: {'n_estimators': 188, 'max_depth': 19, 'min_samples_split': 2, 'min_samples_leaf': 2, 'max_features': 'sqrt', 'bootstrap': False}. Best is trial 31 with value: 7.629085086710053.\n",
      "[I 2025-09-28 19:58:10,950] Trial 33 finished with value: 7.875790584555051 and parameters: {'n_estimators': 234, 'max_depth': 17, 'min_samples_split': 18, 'min_samples_leaf': 1, 'max_features': 'sqrt', 'bootstrap': False}. Best is trial 31 with value: 7.629085086710053.\n",
      "[I 2025-09-28 19:58:25,531] Trial 34 finished with value: 7.704675110973629 and parameters: {'n_estimators': 166, 'max_depth': 19, 'min_samples_split': 2, 'min_samples_leaf': 2, 'max_features': 'sqrt', 'bootstrap': False}. Best is trial 31 with value: 7.629085086710053.\n",
      "[I 2025-09-28 19:58:47,854] Trial 35 finished with value: 7.7253029488954175 and parameters: {'n_estimators': 262, 'max_depth': 15, 'min_samples_split': 4, 'min_samples_leaf': 1, 'max_features': 'sqrt', 'bootstrap': False}. Best is trial 31 with value: 7.629085086710053.\n",
      "[I 2025-09-28 19:58:52,311] Trial 36 finished with value: 10.649865504451364 and parameters: {'n_estimators': 221, 'max_depth': 5, 'min_samples_split': 6, 'min_samples_leaf': 3, 'max_features': 'log2', 'bootstrap': False}. Best is trial 31 with value: 7.629085086710053.\n",
      "[I 2025-09-28 19:59:05,475] Trial 37 finished with value: 8.165412709633562 and parameters: {'n_estimators': 239, 'max_depth': 10, 'min_samples_split': 2, 'min_samples_leaf': 2, 'max_features': 'sqrt', 'bootstrap': False}. Best is trial 31 with value: 7.629085086710053.\n",
      "[I 2025-09-28 19:59:19,213] Trial 38 finished with value: 7.710245127148106 and parameters: {'n_estimators': 155, 'max_depth': 20, 'min_samples_split': 4, 'min_samples_leaf': 2, 'max_features': 'sqrt', 'bootstrap': False}. Best is trial 31 with value: 7.629085086710053.\n",
      "[I 2025-09-28 19:59:29,557] Trial 39 finished with value: 8.271959423721913 and parameters: {'n_estimators': 193, 'max_depth': 19, 'min_samples_split': 11, 'min_samples_leaf': 5, 'max_features': 'log2', 'bootstrap': False}. Best is trial 31 with value: 7.629085086710053.\n",
      "[I 2025-09-28 19:59:44,062] Trial 40 finished with value: 8.019121628907607 and parameters: {'n_estimators': 211, 'max_depth': 17, 'min_samples_split': 6, 'min_samples_leaf': 7, 'max_features': 'sqrt', 'bootstrap': False}. Best is trial 31 with value: 7.629085086710053.\n",
      "[I 2025-09-28 20:00:01,062] Trial 41 finished with value: 7.692075824050588 and parameters: {'n_estimators': 180, 'max_depth': 18, 'min_samples_split': 3, 'min_samples_leaf': 1, 'max_features': 'sqrt', 'bootstrap': False}. Best is trial 31 with value: 7.629085086710053.\n",
      "[I 2025-09-28 20:00:12,280] Trial 42 finished with value: 7.619015917956748 and parameters: {'n_estimators': 128, 'max_depth': 18, 'min_samples_split': 6, 'min_samples_leaf': 1, 'max_features': 'sqrt', 'bootstrap': False}. Best is trial 42 with value: 7.619015917956748.\n",
      "[I 2025-09-28 20:00:34,727] Trial 43 finished with value: 7.682206484966669 and parameters: {'n_estimators': 268, 'max_depth': 19, 'min_samples_split': 9, 'min_samples_leaf': 1, 'max_features': 'sqrt', 'bootstrap': False}. Best is trial 42 with value: 7.619015917956748.\n",
      "[I 2025-09-28 20:00:45,274] Trial 44 finished with value: 7.772824966677342 and parameters: {'n_estimators': 135, 'max_depth': 15, 'min_samples_split': 6, 'min_samples_leaf': 2, 'max_features': 'sqrt', 'bootstrap': False}. Best is trial 42 with value: 7.619015917956748.\n",
      "[I 2025-09-28 20:00:54,354] Trial 45 finished with value: 8.124332422733994 and parameters: {'n_estimators': 155, 'max_depth': 17, 'min_samples_split': 8, 'min_samples_leaf': 2, 'max_features': 'log2', 'bootstrap': False}. Best is trial 42 with value: 7.619015917956748.\n",
      "[I 2025-09-28 20:01:09,576] Trial 46 finished with value: 8.216974910011135 and parameters: {'n_estimators': 245, 'max_depth': 14, 'min_samples_split': 4, 'min_samples_leaf': 10, 'max_features': 'sqrt', 'bootstrap': False}. Best is trial 42 with value: 7.619015917956748.\n",
      "[I 2025-09-28 20:01:24,780] Trial 47 finished with value: 8.138561507975945 and parameters: {'n_estimators': 225, 'max_depth': 18, 'min_samples_split': 8, 'min_samples_leaf': 9, 'max_features': 'sqrt', 'bootstrap': False}. Best is trial 42 with value: 7.619015917956748.\n",
      "[I 2025-09-28 20:01:44,910] Trial 48 finished with value: 7.624789849523096 and parameters: {'n_estimators': 203, 'max_depth': 19, 'min_samples_split': 2, 'min_samples_leaf': 1, 'max_features': 'sqrt', 'bootstrap': False}. Best is trial 42 with value: 7.619015917956748.\n",
      "[I 2025-09-28 20:01:49,761] Trial 49 finished with value: 10.169196516327757 and parameters: {'n_estimators': 200, 'max_depth': 6, 'min_samples_split': 2, 'min_samples_leaf': 6, 'max_features': 'log2', 'bootstrap': False}. Best is trial 42 with value: 7.619015917956748.\n"
     ]
    }
   ],
   "source": [
    "# Step 2: Run the Optuna study\n",
    "\n",
    "n_trials = 50\n",
    "study = optuna.create_study(\n",
    "    direction=\"minimize\",\n",
    "    sampler=optuna.samplers.TPESampler(seed=42),\n",
    ")\n",
    "study.optimize(objective, n_trials=n_trials, show_progress_bar=True)\n",
    "\n",
    "best_trial: optuna.Trial = study.best_trial\n",
    "# Step 4: Train final model on full x_train with best parameters\n",
    "best_params: dict[str, Any] = best_trial.params"
   ]
  },
  {
   "cell_type": "code",
   "execution_count": 63,
   "id": "1061c811",
   "metadata": {},
   "outputs": [
    {
     "data": {
      "text/html": [
       "<pre style=\"white-space:pre;overflow-x:auto;line-height:normal;font-family:Menlo,'DejaVu Sans Mono',consolas,'Courier New',monospace\"><span style=\"color: #ff4500; text-decoration-color: #ff4500\">==================================================</span>\n",
       "</pre>\n"
      ],
      "text/plain": [
       "\u001b[38;2;255;69;0m==================================================\u001b[0m\n"
      ]
     },
     "metadata": {},
     "output_type": "display_data"
    },
    {
     "data": {
      "text/html": [
       "<pre style=\"white-space:pre;overflow-x:auto;line-height:normal;font-family:Menlo,'DejaVu Sans Mono',consolas,'Courier New',monospace\"><span style=\"color: #00ffff; text-decoration-color: #00ffff\">HYPERPARAMETER OPTIMIZATION RESULTS</span>\n",
       "</pre>\n"
      ],
      "text/plain": [
       "\u001b[38;2;0;255;255mHYPERPARAMETER OPTIMIZATION RESULTS\u001b[0m\n"
      ]
     },
     "metadata": {},
     "output_type": "display_data"
    },
    {
     "data": {
      "text/html": [
       "<pre style=\"white-space:pre;overflow-x:auto;line-height:normal;font-family:Menlo,'DejaVu Sans Mono',consolas,'Courier New',monospace\"><span style=\"color: #ff4500; text-decoration-color: #ff4500\">==================================================</span>\n",
       "</pre>\n"
      ],
      "text/plain": [
       "\u001b[38;2;255;69;0m==================================================\u001b[0m\n"
      ]
     },
     "metadata": {},
     "output_type": "display_data"
    },
    {
     "data": {
      "text/html": [
       "<pre style=\"white-space:pre;overflow-x:auto;line-height:normal;font-family:Menlo,'DejaVu Sans Mono',consolas,'Courier New',monospace\"><span style=\"color: #00ffff; text-decoration-color: #00ffff\">Best RMSE: </span><span style=\"color: #008080; text-decoration-color: #008080; font-weight: bold\">7.6190</span>\n",
       "</pre>\n"
      ],
      "text/plain": [
       "\u001b[38;2;0;255;255mBest RMSE: \u001b[0m\u001b[1;36m7.6190\u001b[0m\n"
      ]
     },
     "metadata": {},
     "output_type": "display_data"
    },
    {
     "data": {
      "text/html": [
       "<pre style=\"white-space:pre;overflow-x:auto;line-height:normal;font-family:Menlo,'DejaVu Sans Mono',consolas,'Courier New',monospace\"><span style=\"color: #00ff00; text-decoration-color: #00ff00\">Best parameters: </span><span style=\"color: #00ff00; text-decoration-color: #00ff00; font-weight: bold\">{</span><span style=\"color: #008000; text-decoration-color: #008000\">'n_estimators'</span><span style=\"color: #00ff00; text-decoration-color: #00ff00\">: </span><span style=\"color: #008080; text-decoration-color: #008080; font-weight: bold\">128</span><span style=\"color: #00ff00; text-decoration-color: #00ff00\">, </span><span style=\"color: #008000; text-decoration-color: #008000\">'max_depth'</span><span style=\"color: #00ff00; text-decoration-color: #00ff00\">: </span><span style=\"color: #008080; text-decoration-color: #008080; font-weight: bold\">18</span><span style=\"color: #00ff00; text-decoration-color: #00ff00\">, </span><span style=\"color: #008000; text-decoration-color: #008000\">'min_samples_split'</span><span style=\"color: #00ff00; text-decoration-color: #00ff00\">: </span><span style=\"color: #008080; text-decoration-color: #008080; font-weight: bold\">6</span><span style=\"color: #00ff00; text-decoration-color: #00ff00\">, </span><span style=\"color: #008000; text-decoration-color: #008000\">'min_samples_leaf'</span><span style=\"color: #00ff00; text-decoration-color: #00ff00\">: </span><span style=\"color: #008080; text-decoration-color: #008080; font-weight: bold\">1</span><span style=\"color: #00ff00; text-decoration-color: #00ff00\">, </span>\n",
       "<span style=\"color: #008000; text-decoration-color: #008000\">'max_features'</span><span style=\"color: #00ff00; text-decoration-color: #00ff00\">: </span><span style=\"color: #008000; text-decoration-color: #008000\">'sqrt'</span><span style=\"color: #00ff00; text-decoration-color: #00ff00\">, </span><span style=\"color: #008000; text-decoration-color: #008000\">'bootstrap'</span><span style=\"color: #00ff00; text-decoration-color: #00ff00\">: </span><span style=\"color: #ff0000; text-decoration-color: #ff0000; font-style: italic\">False</span><span style=\"color: #00ff00; text-decoration-color: #00ff00; font-weight: bold\">}</span>\n",
       "</pre>\n"
      ],
      "text/plain": [
       "\u001b[38;2;0;255;0mBest parameters: \u001b[0m\u001b[1;38;2;0;255;0m{\u001b[0m\u001b[32m'n_estimators'\u001b[0m\u001b[38;2;0;255;0m: \u001b[0m\u001b[1;36m128\u001b[0m\u001b[38;2;0;255;0m, \u001b[0m\u001b[32m'max_depth'\u001b[0m\u001b[38;2;0;255;0m: \u001b[0m\u001b[1;36m18\u001b[0m\u001b[38;2;0;255;0m, \u001b[0m\u001b[32m'min_samples_split'\u001b[0m\u001b[38;2;0;255;0m: \u001b[0m\u001b[1;36m6\u001b[0m\u001b[38;2;0;255;0m, \u001b[0m\u001b[32m'min_samples_leaf'\u001b[0m\u001b[38;2;0;255;0m: \u001b[0m\u001b[1;36m1\u001b[0m\u001b[38;2;0;255;0m, \u001b[0m\n",
       "\u001b[32m'max_features'\u001b[0m\u001b[38;2;0;255;0m: \u001b[0m\u001b[32m'sqrt'\u001b[0m\u001b[38;2;0;255;0m, \u001b[0m\u001b[32m'bootstrap'\u001b[0m\u001b[38;2;0;255;0m: \u001b[0m\u001b[3;91mFalse\u001b[0m\u001b[1;38;2;0;255;0m}\u001b[0m\n"
      ]
     },
     "metadata": {},
     "output_type": "display_data"
    }
   ],
   "source": [
    "# Display optimization results\n",
    "best_rmse: float = best_trial.value\n",
    "\n",
    "console.print(\"=\" * 50, style=\"highlight\")\n",
    "console.print(\"HYPERPARAMETER OPTIMIZATION RESULTS\", style=\"success\")\n",
    "console.print(\"=\" * 50, style=\"highlight\")\n",
    "\n",
    "console.print(f\"Best RMSE: {best_rmse:.4f}\", style=\"success\")\n",
    "console.print(f\"Best parameters: {best_params}\", style=\"info\")"
   ]
  },
  {
   "cell_type": "code",
   "execution_count": null,
   "id": "a1367df3",
   "metadata": {},
   "outputs": [
    {
     "data": {
      "text/html": [
       "<pre style=\"white-space:pre;overflow-x:auto;line-height:normal;font-family:Menlo,'DejaVu Sans Mono',consolas,'Courier New',monospace\"><span style=\"font-weight: bold\">{</span>\n",
       "    <span style=\"color: #008000; text-decoration-color: #008000\">'cv_scores'</span>: <span style=\"font-weight: bold\">[</span><span style=\"color: #800080; text-decoration-color: #800080; font-weight: bold\">np.float64</span><span style=\"font-weight: bold\">(</span><span style=\"color: #008080; text-decoration-color: #008080; font-weight: bold\">8.174325316824833</span><span style=\"font-weight: bold\">)</span>, <span style=\"color: #800080; text-decoration-color: #800080; font-weight: bold\">np.float64</span><span style=\"font-weight: bold\">(</span><span style=\"color: #008080; text-decoration-color: #008080; font-weight: bold\">7.740820085078239</span><span style=\"font-weight: bold\">)</span>, <span style=\"color: #800080; text-decoration-color: #800080; font-weight: bold\">np.float64</span><span style=\"font-weight: bold\">(</span><span style=\"color: #008080; text-decoration-color: #008080; font-weight: bold\">6.941902351967172</span><span style=\"font-weight: bold\">)]</span>,\n",
       "    <span style=\"color: #008000; text-decoration-color: #008000\">'cv_std'</span>: <span style=\"color: #800080; text-decoration-color: #800080; font-weight: bold\">np.float64</span><span style=\"font-weight: bold\">(</span><span style=\"color: #008080; text-decoration-color: #008080; font-weight: bold\">0.5104532511557789</span><span style=\"font-weight: bold\">)</span>\n",
       "<span style=\"font-weight: bold\">}</span>\n",
       "</pre>\n"
      ],
      "text/plain": [
       "\u001b[1m{\u001b[0m\n",
       "    \u001b[32m'cv_scores'\u001b[0m: \u001b[1m[\u001b[0m\u001b[1;35mnp.float64\u001b[0m\u001b[1m(\u001b[0m\u001b[1;36m8.174325316824833\u001b[0m\u001b[1m)\u001b[0m, \u001b[1;35mnp.float64\u001b[0m\u001b[1m(\u001b[0m\u001b[1;36m7.740820085078239\u001b[0m\u001b[1m)\u001b[0m, \u001b[1;35mnp.float64\u001b[0m\u001b[1m(\u001b[0m\u001b[1;36m6.941902351967172\u001b[0m\u001b[1m)\u001b[0m\u001b[1m]\u001b[0m,\n",
       "    \u001b[32m'cv_std'\u001b[0m: \u001b[1;35mnp.float64\u001b[0m\u001b[1m(\u001b[0m\u001b[1;36m0.5104532511557789\u001b[0m\u001b[1m)\u001b[0m\n",
       "\u001b[1m}\u001b[0m\n"
      ]
     },
     "metadata": {},
     "output_type": "display_data"
    },
    {
     "data": {
      "text/html": [
       "<pre style=\"white-space:pre;overflow-x:auto;line-height:normal;font-family:Menlo,'DejaVu Sans Mono',consolas,'Courier New',monospace\"><span style=\"font-weight: bold\">[</span>\n",
       "    <span style=\"color: #800080; text-decoration-color: #800080; font-weight: bold\">FrozenTrial</span><span style=\"font-weight: bold\">(</span><span style=\"color: #808000; text-decoration-color: #808000\">number</span>=<span style=\"color: #008080; text-decoration-color: #008080; font-weight: bold\">0</span>, <span style=\"color: #808000; text-decoration-color: #808000\">state</span>=<span style=\"color: #008080; text-decoration-color: #008080; font-weight: bold\">1</span>, <span style=\"color: #808000; text-decoration-color: #808000\">values</span>=<span style=\"font-weight: bold\">[</span><span style=\"color: #008080; text-decoration-color: #008080; font-weight: bold\">8.281301890044467</span><span style=\"font-weight: bold\">]</span>, <span style=\"color: #808000; text-decoration-color: #808000\">datetime_start</span>=<span style=\"color: #800080; text-decoration-color: #800080; font-weight: bold\">datetime</span><span style=\"color: #800080; text-decoration-color: #800080; font-weight: bold\">.datetime</span><span style=\"font-weight: bold\">(</span><span style=\"color: #008080; text-decoration-color: #008080; font-weight: bold\">2025</span>, <span style=\"color: #008080; text-decoration-color: #008080; font-weight: bold\">9</span>, <span style=\"color: #008080; text-decoration-color: #008080; font-weight: bold\">28</span>, <span style=\"color: #008080; text-decoration-color: #008080; font-weight: bold\">19</span>, \n",
       "<span style=\"color: #008080; text-decoration-color: #008080; font-weight: bold\">43</span>, <span style=\"color: #008080; text-decoration-color: #008080; font-weight: bold\">41</span>, <span style=\"color: #008080; text-decoration-color: #008080; font-weight: bold\">232997</span><span style=\"font-weight: bold\">)</span>, <span style=\"color: #808000; text-decoration-color: #808000\">datetime_complete</span>=<span style=\"color: #800080; text-decoration-color: #800080; font-weight: bold\">datetime</span><span style=\"color: #800080; text-decoration-color: #800080; font-weight: bold\">.datetime</span><span style=\"font-weight: bold\">(</span><span style=\"color: #008080; text-decoration-color: #008080; font-weight: bold\">2025</span>, <span style=\"color: #008080; text-decoration-color: #008080; font-weight: bold\">9</span>, <span style=\"color: #008080; text-decoration-color: #008080; font-weight: bold\">28</span>, <span style=\"color: #008080; text-decoration-color: #008080; font-weight: bold\">19</span>, <span style=\"color: #008080; text-decoration-color: #008080; font-weight: bold\">43</span>, <span style=\"color: #008080; text-decoration-color: #008080; font-weight: bold\">47</span>, <span style=\"color: #008080; text-decoration-color: #008080; font-weight: bold\">857659</span><span style=\"font-weight: bold\">)</span>, <span style=\"color: #808000; text-decoration-color: #808000\">params</span>=<span style=\"font-weight: bold\">{</span><span style=\"color: #008000; text-decoration-color: #008000\">'n_estimators'</span>: <span style=\"color: #008080; text-decoration-color: #008080; font-weight: bold\">144</span>,\n",
       "<span style=\"color: #008000; text-decoration-color: #008000\">'max_depth'</span>: <span style=\"color: #008080; text-decoration-color: #008080; font-weight: bold\">20</span>, <span style=\"color: #008000; text-decoration-color: #008000\">'min_samples_split'</span>: <span style=\"color: #008080; text-decoration-color: #008080; font-weight: bold\">15</span>, <span style=\"color: #008000; text-decoration-color: #008000\">'min_samples_leaf'</span>: <span style=\"color: #008080; text-decoration-color: #008080; font-weight: bold\">6</span>, <span style=\"color: #008000; text-decoration-color: #008000\">'max_features'</span>: <span style=\"color: #008000; text-decoration-color: #008000\">'sqrt'</span>, <span style=\"color: #008000; text-decoration-color: #008000\">'bootstrap'</span>: <span style=\"color: #00ff00; text-decoration-color: #00ff00; font-style: italic\">True</span><span style=\"font-weight: bold\">}</span>, \n",
       "<span style=\"color: #808000; text-decoration-color: #808000\">user_attrs</span>=<span style=\"font-weight: bold\">{</span><span style=\"color: #008000; text-decoration-color: #008000\">'cv_scores'</span>: <span style=\"font-weight: bold\">[</span><span style=\"color: #800080; text-decoration-color: #800080; font-weight: bold\">np.float64</span><span style=\"font-weight: bold\">(</span><span style=\"color: #008080; text-decoration-color: #008080; font-weight: bold\">8.767908556967384</span><span style=\"font-weight: bold\">)</span>, <span style=\"color: #800080; text-decoration-color: #800080; font-weight: bold\">np.float64</span><span style=\"font-weight: bold\">(</span><span style=\"color: #008080; text-decoration-color: #008080; font-weight: bold\">8.524275041174281</span><span style=\"font-weight: bold\">)</span>, \n",
       "<span style=\"color: #800080; text-decoration-color: #800080; font-weight: bold\">np.float64</span><span style=\"font-weight: bold\">(</span><span style=\"color: #008080; text-decoration-color: #008080; font-weight: bold\">7.551722071991739</span><span style=\"font-weight: bold\">)]</span>, <span style=\"color: #008000; text-decoration-color: #008000\">'cv_std'</span>: <span style=\"color: #800080; text-decoration-color: #800080; font-weight: bold\">np.float64</span><span style=\"font-weight: bold\">(</span><span style=\"color: #008080; text-decoration-color: #008080; font-weight: bold\">0.5253915084244748</span><span style=\"font-weight: bold\">)}</span>, <span style=\"color: #808000; text-decoration-color: #808000\">system_attrs</span>=<span style=\"font-weight: bold\">{}</span>, <span style=\"color: #808000; text-decoration-color: #808000\">intermediate_values</span>=<span style=\"font-weight: bold\">{}</span>,\n",
       "<span style=\"color: #808000; text-decoration-color: #808000\">distributions</span>=<span style=\"font-weight: bold\">{</span><span style=\"color: #008000; text-decoration-color: #008000\">'n_estimators'</span>: <span style=\"color: #800080; text-decoration-color: #800080; font-weight: bold\">IntDistribution</span><span style=\"font-weight: bold\">(</span><span style=\"color: #808000; text-decoration-color: #808000\">high</span>=<span style=\"color: #008080; text-decoration-color: #008080; font-weight: bold\">300</span>, <span style=\"color: #808000; text-decoration-color: #808000\">log</span>=<span style=\"color: #ff0000; text-decoration-color: #ff0000; font-style: italic\">False</span>, <span style=\"color: #808000; text-decoration-color: #808000\">low</span>=<span style=\"color: #008080; text-decoration-color: #008080; font-weight: bold\">50</span>, <span style=\"color: #808000; text-decoration-color: #808000\">step</span>=<span style=\"color: #008080; text-decoration-color: #008080; font-weight: bold\">1</span><span style=\"font-weight: bold\">)</span>, <span style=\"color: #008000; text-decoration-color: #008000\">'max_depth'</span>: \n",
       "<span style=\"color: #800080; text-decoration-color: #800080; font-weight: bold\">IntDistribution</span><span style=\"font-weight: bold\">(</span><span style=\"color: #808000; text-decoration-color: #808000\">high</span>=<span style=\"color: #008080; text-decoration-color: #008080; font-weight: bold\">20</span>, <span style=\"color: #808000; text-decoration-color: #808000\">log</span>=<span style=\"color: #ff0000; text-decoration-color: #ff0000; font-style: italic\">False</span>, <span style=\"color: #808000; text-decoration-color: #808000\">low</span>=<span style=\"color: #008080; text-decoration-color: #008080; font-weight: bold\">3</span>, <span style=\"color: #808000; text-decoration-color: #808000\">step</span>=<span style=\"color: #008080; text-decoration-color: #008080; font-weight: bold\">1</span><span style=\"font-weight: bold\">)</span>, <span style=\"color: #008000; text-decoration-color: #008000\">'min_samples_split'</span>: <span style=\"color: #800080; text-decoration-color: #800080; font-weight: bold\">IntDistribution</span><span style=\"font-weight: bold\">(</span><span style=\"color: #808000; text-decoration-color: #808000\">high</span>=<span style=\"color: #008080; text-decoration-color: #008080; font-weight: bold\">20</span>, <span style=\"color: #808000; text-decoration-color: #808000\">log</span>=<span style=\"color: #ff0000; text-decoration-color: #ff0000; font-style: italic\">False</span>, <span style=\"color: #808000; text-decoration-color: #808000\">low</span>=<span style=\"color: #008080; text-decoration-color: #008080; font-weight: bold\">2</span>,\n",
       "<span style=\"color: #808000; text-decoration-color: #808000\">step</span>=<span style=\"color: #008080; text-decoration-color: #008080; font-weight: bold\">1</span><span style=\"font-weight: bold\">)</span>, <span style=\"color: #008000; text-decoration-color: #008000\">'min_samples_leaf'</span>: <span style=\"color: #800080; text-decoration-color: #800080; font-weight: bold\">IntDistribution</span><span style=\"font-weight: bold\">(</span><span style=\"color: #808000; text-decoration-color: #808000\">high</span>=<span style=\"color: #008080; text-decoration-color: #008080; font-weight: bold\">10</span>, <span style=\"color: #808000; text-decoration-color: #808000\">log</span>=<span style=\"color: #ff0000; text-decoration-color: #ff0000; font-style: italic\">False</span>, <span style=\"color: #808000; text-decoration-color: #808000\">low</span>=<span style=\"color: #008080; text-decoration-color: #008080; font-weight: bold\">1</span>, <span style=\"color: #808000; text-decoration-color: #808000\">step</span>=<span style=\"color: #008080; text-decoration-color: #008080; font-weight: bold\">1</span><span style=\"font-weight: bold\">)</span>, <span style=\"color: #008000; text-decoration-color: #008000\">'max_features'</span>: \n",
       "<span style=\"color: #800080; text-decoration-color: #800080; font-weight: bold\">CategoricalDistribution</span><span style=\"font-weight: bold\">(</span><span style=\"color: #808000; text-decoration-color: #808000\">choices</span>=<span style=\"font-weight: bold\">(</span><span style=\"color: #008000; text-decoration-color: #008000\">'sqrt'</span>, <span style=\"color: #008000; text-decoration-color: #008000\">'log2'</span>, <span style=\"color: #800080; text-decoration-color: #800080; font-style: italic\">None</span><span style=\"font-weight: bold\">))</span>, <span style=\"color: #008000; text-decoration-color: #008000\">'bootstrap'</span>: <span style=\"color: #800080; text-decoration-color: #800080; font-weight: bold\">CategoricalDistribution</span><span style=\"font-weight: bold\">(</span><span style=\"color: #808000; text-decoration-color: #808000\">choices</span>=<span style=\"font-weight: bold\">(</span><span style=\"color: #00ff00; text-decoration-color: #00ff00; font-style: italic\">True</span>, \n",
       "<span style=\"color: #ff0000; text-decoration-color: #ff0000; font-style: italic\">False</span><span style=\"font-weight: bold\">))}</span>, <span style=\"color: #808000; text-decoration-color: #808000\">trial_id</span>=<span style=\"color: #008080; text-decoration-color: #008080; font-weight: bold\">0</span>, <span style=\"color: #808000; text-decoration-color: #808000\">value</span>=<span style=\"color: #800080; text-decoration-color: #800080; font-style: italic\">None</span><span style=\"font-weight: bold\">)</span>,\n",
       "    <span style=\"color: #800080; text-decoration-color: #800080; font-weight: bold\">FrozenTrial</span><span style=\"font-weight: bold\">(</span><span style=\"color: #808000; text-decoration-color: #808000\">number</span>=<span style=\"color: #008080; text-decoration-color: #008080; font-weight: bold\">1</span>, <span style=\"color: #808000; text-decoration-color: #808000\">state</span>=<span style=\"color: #008080; text-decoration-color: #008080; font-weight: bold\">1</span>, <span style=\"color: #808000; text-decoration-color: #808000\">values</span>=<span style=\"font-weight: bold\">[</span><span style=\"color: #008080; text-decoration-color: #008080; font-weight: bold\">11.37751203819387</span><span style=\"font-weight: bold\">]</span>, <span style=\"color: #808000; text-decoration-color: #808000\">datetime_start</span>=<span style=\"color: #800080; text-decoration-color: #800080; font-weight: bold\">datetime</span><span style=\"color: #800080; text-decoration-color: #800080; font-weight: bold\">.datetime</span><span style=\"font-weight: bold\">(</span><span style=\"color: #008080; text-decoration-color: #008080; font-weight: bold\">2025</span>, <span style=\"color: #008080; text-decoration-color: #008080; font-weight: bold\">9</span>, <span style=\"color: #008080; text-decoration-color: #008080; font-weight: bold\">28</span>, <span style=\"color: #008080; text-decoration-color: #008080; font-weight: bold\">19</span>, \n",
       "<span style=\"color: #008080; text-decoration-color: #008080; font-weight: bold\">43</span>, <span style=\"color: #008080; text-decoration-color: #008080; font-weight: bold\">47</span>, <span style=\"color: #008080; text-decoration-color: #008080; font-weight: bold\">860088</span><span style=\"font-weight: bold\">)</span>, <span style=\"color: #808000; text-decoration-color: #808000\">datetime_complete</span>=<span style=\"color: #800080; text-decoration-color: #800080; font-weight: bold\">datetime</span><span style=\"color: #800080; text-decoration-color: #800080; font-weight: bold\">.datetime</span><span style=\"font-weight: bold\">(</span><span style=\"color: #008080; text-decoration-color: #008080; font-weight: bold\">2025</span>, <span style=\"color: #008080; text-decoration-color: #008080; font-weight: bold\">9</span>, <span style=\"color: #008080; text-decoration-color: #008080; font-weight: bold\">28</span>, <span style=\"color: #008080; text-decoration-color: #008080; font-weight: bold\">19</span>, <span style=\"color: #008080; text-decoration-color: #008080; font-weight: bold\">43</span>, <span style=\"color: #008080; text-decoration-color: #008080; font-weight: bold\">51</span>, <span style=\"color: #008080; text-decoration-color: #008080; font-weight: bold\">579851</span><span style=\"font-weight: bold\">)</span>, <span style=\"color: #808000; text-decoration-color: #808000\">params</span>=<span style=\"font-weight: bold\">{</span><span style=\"color: #008000; text-decoration-color: #008000\">'n_estimators'</span>: <span style=\"color: #008080; text-decoration-color: #008080; font-weight: bold\">227</span>,\n",
       "<span style=\"color: #008000; text-decoration-color: #008000\">'max_depth'</span>: <span style=\"color: #008080; text-decoration-color: #008080; font-weight: bold\">3</span>, <span style=\"color: #008000; text-decoration-color: #008000\">'min_samples_split'</span>: <span style=\"color: #008080; text-decoration-color: #008080; font-weight: bold\">20</span>, <span style=\"color: #008000; text-decoration-color: #008000\">'min_samples_leaf'</span>: <span style=\"color: #008080; text-decoration-color: #008080; font-weight: bold\">9</span>, <span style=\"color: #008000; text-decoration-color: #008000\">'max_features'</span>: <span style=\"color: #008000; text-decoration-color: #008000\">'sqrt'</span>, <span style=\"color: #008000; text-decoration-color: #008000\">'bootstrap'</span>: <span style=\"color: #ff0000; text-decoration-color: #ff0000; font-style: italic\">False</span><span style=\"font-weight: bold\">}</span>, \n",
       "<span style=\"color: #808000; text-decoration-color: #808000\">user_attrs</span>=<span style=\"font-weight: bold\">{</span><span style=\"color: #008000; text-decoration-color: #008000\">'cv_scores'</span>: <span style=\"font-weight: bold\">[</span><span style=\"color: #800080; text-decoration-color: #800080; font-weight: bold\">np.float64</span><span style=\"font-weight: bold\">(</span><span style=\"color: #008080; text-decoration-color: #008080; font-weight: bold\">11.378889551653234</span><span style=\"font-weight: bold\">)</span>, <span style=\"color: #800080; text-decoration-color: #800080; font-weight: bold\">np.float64</span><span style=\"font-weight: bold\">(</span><span style=\"color: #008080; text-decoration-color: #008080; font-weight: bold\">11.749171714256088</span><span style=\"font-weight: bold\">)</span>, \n",
       "<span style=\"color: #800080; text-decoration-color: #800080; font-weight: bold\">np.float64</span><span style=\"font-weight: bold\">(</span><span style=\"color: #008080; text-decoration-color: #008080; font-weight: bold\">11.004474848672288</span><span style=\"font-weight: bold\">)]</span>, <span style=\"color: #008000; text-decoration-color: #008000\">'cv_std'</span>: <span style=\"color: #800080; text-decoration-color: #800080; font-weight: bold\">np.float64</span><span style=\"font-weight: bold\">(</span><span style=\"color: #008080; text-decoration-color: #008080; font-weight: bold\">0.30402278265516214</span><span style=\"font-weight: bold\">)}</span>, <span style=\"color: #808000; text-decoration-color: #808000\">system_attrs</span>=<span style=\"font-weight: bold\">{}</span>, \n",
       "<span style=\"color: #808000; text-decoration-color: #808000\">intermediate_values</span>=<span style=\"font-weight: bold\">{}</span>, <span style=\"color: #808000; text-decoration-color: #808000\">distributions</span>=<span style=\"font-weight: bold\">{</span><span style=\"color: #008000; text-decoration-color: #008000\">'n_estimators'</span>: <span style=\"color: #800080; text-decoration-color: #800080; font-weight: bold\">IntDistribution</span><span style=\"font-weight: bold\">(</span><span style=\"color: #808000; text-decoration-color: #808000\">high</span>=<span style=\"color: #008080; text-decoration-color: #008080; font-weight: bold\">300</span>, <span style=\"color: #808000; text-decoration-color: #808000\">log</span>=<span style=\"color: #ff0000; text-decoration-color: #ff0000; font-style: italic\">False</span>, <span style=\"color: #808000; text-decoration-color: #808000\">low</span>=<span style=\"color: #008080; text-decoration-color: #008080; font-weight: bold\">50</span>, <span style=\"color: #808000; text-decoration-color: #808000\">step</span>=<span style=\"color: #008080; text-decoration-color: #008080; font-weight: bold\">1</span><span style=\"font-weight: bold\">)</span>, \n",
       "<span style=\"color: #008000; text-decoration-color: #008000\">'max_depth'</span>: <span style=\"color: #800080; text-decoration-color: #800080; font-weight: bold\">IntDistribution</span><span style=\"font-weight: bold\">(</span><span style=\"color: #808000; text-decoration-color: #808000\">high</span>=<span style=\"color: #008080; text-decoration-color: #008080; font-weight: bold\">20</span>, <span style=\"color: #808000; text-decoration-color: #808000\">log</span>=<span style=\"color: #ff0000; text-decoration-color: #ff0000; font-style: italic\">False</span>, <span style=\"color: #808000; text-decoration-color: #808000\">low</span>=<span style=\"color: #008080; text-decoration-color: #008080; font-weight: bold\">3</span>, <span style=\"color: #808000; text-decoration-color: #808000\">step</span>=<span style=\"color: #008080; text-decoration-color: #008080; font-weight: bold\">1</span><span style=\"font-weight: bold\">)</span>, <span style=\"color: #008000; text-decoration-color: #008000\">'min_samples_split'</span>: <span style=\"color: #800080; text-decoration-color: #800080; font-weight: bold\">IntDistribution</span><span style=\"font-weight: bold\">(</span><span style=\"color: #808000; text-decoration-color: #808000\">high</span>=<span style=\"color: #008080; text-decoration-color: #008080; font-weight: bold\">20</span>, \n",
       "<span style=\"color: #808000; text-decoration-color: #808000\">log</span>=<span style=\"color: #ff0000; text-decoration-color: #ff0000; font-style: italic\">False</span>, <span style=\"color: #808000; text-decoration-color: #808000\">low</span>=<span style=\"color: #008080; text-decoration-color: #008080; font-weight: bold\">2</span>, <span style=\"color: #808000; text-decoration-color: #808000\">step</span>=<span style=\"color: #008080; text-decoration-color: #008080; font-weight: bold\">1</span><span style=\"font-weight: bold\">)</span>, <span style=\"color: #008000; text-decoration-color: #008000\">'min_samples_leaf'</span>: <span style=\"color: #800080; text-decoration-color: #800080; font-weight: bold\">IntDistribution</span><span style=\"font-weight: bold\">(</span><span style=\"color: #808000; text-decoration-color: #808000\">high</span>=<span style=\"color: #008080; text-decoration-color: #008080; font-weight: bold\">10</span>, <span style=\"color: #808000; text-decoration-color: #808000\">log</span>=<span style=\"color: #ff0000; text-decoration-color: #ff0000; font-style: italic\">False</span>, <span style=\"color: #808000; text-decoration-color: #808000\">low</span>=<span style=\"color: #008080; text-decoration-color: #008080; font-weight: bold\">1</span>, <span style=\"color: #808000; text-decoration-color: #808000\">step</span>=<span style=\"color: #008080; text-decoration-color: #008080; font-weight: bold\">1</span><span style=\"font-weight: bold\">)</span>, <span style=\"color: #008000; text-decoration-color: #008000\">'max_features'</span>: \n",
       "<span style=\"color: #800080; text-decoration-color: #800080; font-weight: bold\">CategoricalDistribution</span><span style=\"font-weight: bold\">(</span><span style=\"color: #808000; text-decoration-color: #808000\">choices</span>=<span style=\"font-weight: bold\">(</span><span style=\"color: #008000; text-decoration-color: #008000\">'sqrt'</span>, <span style=\"color: #008000; text-decoration-color: #008000\">'log2'</span>, <span style=\"color: #800080; text-decoration-color: #800080; font-style: italic\">None</span><span style=\"font-weight: bold\">))</span>, <span style=\"color: #008000; text-decoration-color: #008000\">'bootstrap'</span>: <span style=\"color: #800080; text-decoration-color: #800080; font-weight: bold\">CategoricalDistribution</span><span style=\"font-weight: bold\">(</span><span style=\"color: #808000; text-decoration-color: #808000\">choices</span>=<span style=\"font-weight: bold\">(</span><span style=\"color: #00ff00; text-decoration-color: #00ff00; font-style: italic\">True</span>, \n",
       "<span style=\"color: #ff0000; text-decoration-color: #ff0000; font-style: italic\">False</span><span style=\"font-weight: bold\">))}</span>, <span style=\"color: #808000; text-decoration-color: #808000\">trial_id</span>=<span style=\"color: #008080; text-decoration-color: #008080; font-weight: bold\">1</span>, <span style=\"color: #808000; text-decoration-color: #808000\">value</span>=<span style=\"color: #800080; text-decoration-color: #800080; font-style: italic\">None</span><span style=\"font-weight: bold\">)</span>\n",
       "<span style=\"font-weight: bold\">]</span>\n",
       "</pre>\n"
      ],
      "text/plain": [
       "\u001b[1m[\u001b[0m\n",
       "    \u001b[1;35mFrozenTrial\u001b[0m\u001b[1m(\u001b[0m\u001b[33mnumber\u001b[0m=\u001b[1;36m0\u001b[0m, \u001b[33mstate\u001b[0m=\u001b[1;36m1\u001b[0m, \u001b[33mvalues\u001b[0m=\u001b[1m[\u001b[0m\u001b[1;36m8.281301890044467\u001b[0m\u001b[1m]\u001b[0m, \u001b[33mdatetime_start\u001b[0m=\u001b[1;35mdatetime\u001b[0m\u001b[1;35m.datetime\u001b[0m\u001b[1m(\u001b[0m\u001b[1;36m2025\u001b[0m, \u001b[1;36m9\u001b[0m, \u001b[1;36m28\u001b[0m, \u001b[1;36m19\u001b[0m, \n",
       "\u001b[1;36m43\u001b[0m, \u001b[1;36m41\u001b[0m, \u001b[1;36m232997\u001b[0m\u001b[1m)\u001b[0m, \u001b[33mdatetime_complete\u001b[0m=\u001b[1;35mdatetime\u001b[0m\u001b[1;35m.datetime\u001b[0m\u001b[1m(\u001b[0m\u001b[1;36m2025\u001b[0m, \u001b[1;36m9\u001b[0m, \u001b[1;36m28\u001b[0m, \u001b[1;36m19\u001b[0m, \u001b[1;36m43\u001b[0m, \u001b[1;36m47\u001b[0m, \u001b[1;36m857659\u001b[0m\u001b[1m)\u001b[0m, \u001b[33mparams\u001b[0m=\u001b[1m{\u001b[0m\u001b[32m'n_estimators'\u001b[0m: \u001b[1;36m144\u001b[0m,\n",
       "\u001b[32m'max_depth'\u001b[0m: \u001b[1;36m20\u001b[0m, \u001b[32m'min_samples_split'\u001b[0m: \u001b[1;36m15\u001b[0m, \u001b[32m'min_samples_leaf'\u001b[0m: \u001b[1;36m6\u001b[0m, \u001b[32m'max_features'\u001b[0m: \u001b[32m'sqrt'\u001b[0m, \u001b[32m'bootstrap'\u001b[0m: \u001b[3;92mTrue\u001b[0m\u001b[1m}\u001b[0m, \n",
       "\u001b[33muser_attrs\u001b[0m=\u001b[1m{\u001b[0m\u001b[32m'cv_scores'\u001b[0m: \u001b[1m[\u001b[0m\u001b[1;35mnp.float64\u001b[0m\u001b[1m(\u001b[0m\u001b[1;36m8.767908556967384\u001b[0m\u001b[1m)\u001b[0m, \u001b[1;35mnp.float64\u001b[0m\u001b[1m(\u001b[0m\u001b[1;36m8.524275041174281\u001b[0m\u001b[1m)\u001b[0m, \n",
       "\u001b[1;35mnp.float64\u001b[0m\u001b[1m(\u001b[0m\u001b[1;36m7.551722071991739\u001b[0m\u001b[1m)\u001b[0m\u001b[1m]\u001b[0m, \u001b[32m'cv_std'\u001b[0m: \u001b[1;35mnp.float64\u001b[0m\u001b[1m(\u001b[0m\u001b[1;36m0.5253915084244748\u001b[0m\u001b[1m)\u001b[0m\u001b[1m}\u001b[0m, \u001b[33msystem_attrs\u001b[0m=\u001b[1m{\u001b[0m\u001b[1m}\u001b[0m, \u001b[33mintermediate_values\u001b[0m=\u001b[1m{\u001b[0m\u001b[1m}\u001b[0m,\n",
       "\u001b[33mdistributions\u001b[0m=\u001b[1m{\u001b[0m\u001b[32m'n_estimators'\u001b[0m: \u001b[1;35mIntDistribution\u001b[0m\u001b[1m(\u001b[0m\u001b[33mhigh\u001b[0m=\u001b[1;36m300\u001b[0m, \u001b[33mlog\u001b[0m=\u001b[3;91mFalse\u001b[0m, \u001b[33mlow\u001b[0m=\u001b[1;36m50\u001b[0m, \u001b[33mstep\u001b[0m=\u001b[1;36m1\u001b[0m\u001b[1m)\u001b[0m, \u001b[32m'max_depth'\u001b[0m: \n",
       "\u001b[1;35mIntDistribution\u001b[0m\u001b[1m(\u001b[0m\u001b[33mhigh\u001b[0m=\u001b[1;36m20\u001b[0m, \u001b[33mlog\u001b[0m=\u001b[3;91mFalse\u001b[0m, \u001b[33mlow\u001b[0m=\u001b[1;36m3\u001b[0m, \u001b[33mstep\u001b[0m=\u001b[1;36m1\u001b[0m\u001b[1m)\u001b[0m, \u001b[32m'min_samples_split'\u001b[0m: \u001b[1;35mIntDistribution\u001b[0m\u001b[1m(\u001b[0m\u001b[33mhigh\u001b[0m=\u001b[1;36m20\u001b[0m, \u001b[33mlog\u001b[0m=\u001b[3;91mFalse\u001b[0m, \u001b[33mlow\u001b[0m=\u001b[1;36m2\u001b[0m,\n",
       "\u001b[33mstep\u001b[0m=\u001b[1;36m1\u001b[0m\u001b[1m)\u001b[0m, \u001b[32m'min_samples_leaf'\u001b[0m: \u001b[1;35mIntDistribution\u001b[0m\u001b[1m(\u001b[0m\u001b[33mhigh\u001b[0m=\u001b[1;36m10\u001b[0m, \u001b[33mlog\u001b[0m=\u001b[3;91mFalse\u001b[0m, \u001b[33mlow\u001b[0m=\u001b[1;36m1\u001b[0m, \u001b[33mstep\u001b[0m=\u001b[1;36m1\u001b[0m\u001b[1m)\u001b[0m, \u001b[32m'max_features'\u001b[0m: \n",
       "\u001b[1;35mCategoricalDistribution\u001b[0m\u001b[1m(\u001b[0m\u001b[33mchoices\u001b[0m=\u001b[1m(\u001b[0m\u001b[32m'sqrt'\u001b[0m, \u001b[32m'log2'\u001b[0m, \u001b[3;35mNone\u001b[0m\u001b[1m)\u001b[0m\u001b[1m)\u001b[0m, \u001b[32m'bootstrap'\u001b[0m: \u001b[1;35mCategoricalDistribution\u001b[0m\u001b[1m(\u001b[0m\u001b[33mchoices\u001b[0m=\u001b[1m(\u001b[0m\u001b[3;92mTrue\u001b[0m, \n",
       "\u001b[3;91mFalse\u001b[0m\u001b[1m)\u001b[0m\u001b[1m)\u001b[0m\u001b[1m}\u001b[0m, \u001b[33mtrial_id\u001b[0m=\u001b[1;36m0\u001b[0m, \u001b[33mvalue\u001b[0m=\u001b[3;35mNone\u001b[0m\u001b[1m)\u001b[0m,\n",
       "    \u001b[1;35mFrozenTrial\u001b[0m\u001b[1m(\u001b[0m\u001b[33mnumber\u001b[0m=\u001b[1;36m1\u001b[0m, \u001b[33mstate\u001b[0m=\u001b[1;36m1\u001b[0m, \u001b[33mvalues\u001b[0m=\u001b[1m[\u001b[0m\u001b[1;36m11.37751203819387\u001b[0m\u001b[1m]\u001b[0m, \u001b[33mdatetime_start\u001b[0m=\u001b[1;35mdatetime\u001b[0m\u001b[1;35m.datetime\u001b[0m\u001b[1m(\u001b[0m\u001b[1;36m2025\u001b[0m, \u001b[1;36m9\u001b[0m, \u001b[1;36m28\u001b[0m, \u001b[1;36m19\u001b[0m, \n",
       "\u001b[1;36m43\u001b[0m, \u001b[1;36m47\u001b[0m, \u001b[1;36m860088\u001b[0m\u001b[1m)\u001b[0m, \u001b[33mdatetime_complete\u001b[0m=\u001b[1;35mdatetime\u001b[0m\u001b[1;35m.datetime\u001b[0m\u001b[1m(\u001b[0m\u001b[1;36m2025\u001b[0m, \u001b[1;36m9\u001b[0m, \u001b[1;36m28\u001b[0m, \u001b[1;36m19\u001b[0m, \u001b[1;36m43\u001b[0m, \u001b[1;36m51\u001b[0m, \u001b[1;36m579851\u001b[0m\u001b[1m)\u001b[0m, \u001b[33mparams\u001b[0m=\u001b[1m{\u001b[0m\u001b[32m'n_estimators'\u001b[0m: \u001b[1;36m227\u001b[0m,\n",
       "\u001b[32m'max_depth'\u001b[0m: \u001b[1;36m3\u001b[0m, \u001b[32m'min_samples_split'\u001b[0m: \u001b[1;36m20\u001b[0m, \u001b[32m'min_samples_leaf'\u001b[0m: \u001b[1;36m9\u001b[0m, \u001b[32m'max_features'\u001b[0m: \u001b[32m'sqrt'\u001b[0m, \u001b[32m'bootstrap'\u001b[0m: \u001b[3;91mFalse\u001b[0m\u001b[1m}\u001b[0m, \n",
       "\u001b[33muser_attrs\u001b[0m=\u001b[1m{\u001b[0m\u001b[32m'cv_scores'\u001b[0m: \u001b[1m[\u001b[0m\u001b[1;35mnp.float64\u001b[0m\u001b[1m(\u001b[0m\u001b[1;36m11.378889551653234\u001b[0m\u001b[1m)\u001b[0m, \u001b[1;35mnp.float64\u001b[0m\u001b[1m(\u001b[0m\u001b[1;36m11.749171714256088\u001b[0m\u001b[1m)\u001b[0m, \n",
       "\u001b[1;35mnp.float64\u001b[0m\u001b[1m(\u001b[0m\u001b[1;36m11.004474848672288\u001b[0m\u001b[1m)\u001b[0m\u001b[1m]\u001b[0m, \u001b[32m'cv_std'\u001b[0m: \u001b[1;35mnp.float64\u001b[0m\u001b[1m(\u001b[0m\u001b[1;36m0.30402278265516214\u001b[0m\u001b[1m)\u001b[0m\u001b[1m}\u001b[0m, \u001b[33msystem_attrs\u001b[0m=\u001b[1m{\u001b[0m\u001b[1m}\u001b[0m, \n",
       "\u001b[33mintermediate_values\u001b[0m=\u001b[1m{\u001b[0m\u001b[1m}\u001b[0m, \u001b[33mdistributions\u001b[0m=\u001b[1m{\u001b[0m\u001b[32m'n_estimators'\u001b[0m: \u001b[1;35mIntDistribution\u001b[0m\u001b[1m(\u001b[0m\u001b[33mhigh\u001b[0m=\u001b[1;36m300\u001b[0m, \u001b[33mlog\u001b[0m=\u001b[3;91mFalse\u001b[0m, \u001b[33mlow\u001b[0m=\u001b[1;36m50\u001b[0m, \u001b[33mstep\u001b[0m=\u001b[1;36m1\u001b[0m\u001b[1m)\u001b[0m, \n",
       "\u001b[32m'max_depth'\u001b[0m: \u001b[1;35mIntDistribution\u001b[0m\u001b[1m(\u001b[0m\u001b[33mhigh\u001b[0m=\u001b[1;36m20\u001b[0m, \u001b[33mlog\u001b[0m=\u001b[3;91mFalse\u001b[0m, \u001b[33mlow\u001b[0m=\u001b[1;36m3\u001b[0m, \u001b[33mstep\u001b[0m=\u001b[1;36m1\u001b[0m\u001b[1m)\u001b[0m, \u001b[32m'min_samples_split'\u001b[0m: \u001b[1;35mIntDistribution\u001b[0m\u001b[1m(\u001b[0m\u001b[33mhigh\u001b[0m=\u001b[1;36m20\u001b[0m, \n",
       "\u001b[33mlog\u001b[0m=\u001b[3;91mFalse\u001b[0m, \u001b[33mlow\u001b[0m=\u001b[1;36m2\u001b[0m, \u001b[33mstep\u001b[0m=\u001b[1;36m1\u001b[0m\u001b[1m)\u001b[0m, \u001b[32m'min_samples_leaf'\u001b[0m: \u001b[1;35mIntDistribution\u001b[0m\u001b[1m(\u001b[0m\u001b[33mhigh\u001b[0m=\u001b[1;36m10\u001b[0m, \u001b[33mlog\u001b[0m=\u001b[3;91mFalse\u001b[0m, \u001b[33mlow\u001b[0m=\u001b[1;36m1\u001b[0m, \u001b[33mstep\u001b[0m=\u001b[1;36m1\u001b[0m\u001b[1m)\u001b[0m, \u001b[32m'max_features'\u001b[0m: \n",
       "\u001b[1;35mCategoricalDistribution\u001b[0m\u001b[1m(\u001b[0m\u001b[33mchoices\u001b[0m=\u001b[1m(\u001b[0m\u001b[32m'sqrt'\u001b[0m, \u001b[32m'log2'\u001b[0m, \u001b[3;35mNone\u001b[0m\u001b[1m)\u001b[0m\u001b[1m)\u001b[0m, \u001b[32m'bootstrap'\u001b[0m: \u001b[1;35mCategoricalDistribution\u001b[0m\u001b[1m(\u001b[0m\u001b[33mchoices\u001b[0m=\u001b[1m(\u001b[0m\u001b[3;92mTrue\u001b[0m, \n",
       "\u001b[3;91mFalse\u001b[0m\u001b[1m)\u001b[0m\u001b[1m)\u001b[0m\u001b[1m}\u001b[0m, \u001b[33mtrial_id\u001b[0m=\u001b[1;36m1\u001b[0m, \u001b[33mvalue\u001b[0m=\u001b[3;35mNone\u001b[0m\u001b[1m)\u001b[0m\n",
       "\u001b[1m]\u001b[0m\n"
      ]
     },
     "metadata": {},
     "output_type": "display_data"
    }
   ],
   "source": [
    "# For debugging purposes\n",
    "console.print(best_trial.user_attrs)\n",
    "console.print(study.trials[:2])"
   ]
  },
  {
   "cell_type": "code",
   "execution_count": null,
   "id": "e16dffe0",
   "metadata": {},
   "outputs": [
    {
     "data": {
      "text/html": [
       "<pre style=\"white-space:pre;overflow-x:auto;line-height:normal;font-family:Menlo,'DejaVu Sans Mono',consolas,'Courier New',monospace\"><span style=\"color: #00ff00; text-decoration-color: #00ff00\">CV Scores: </span><span style=\"color: #008080; text-decoration-color: #008080; font-weight: bold\">7.6190</span>\n",
       "</pre>\n"
      ],
      "text/plain": [
       "\u001b[38;2;0;255;0mCV Scores: \u001b[0m\u001b[1;36m7.6190\u001b[0m\n"
      ]
     },
     "metadata": {},
     "output_type": "display_data"
    },
    {
     "data": {
      "text/html": [
       "<pre style=\"white-space:pre;overflow-x:auto;line-height:normal;font-family:Menlo,'DejaVu Sans Mono',consolas,'Courier New',monospace\"><span style=\"color: #00ff00; text-decoration-color: #00ff00\">CV Standard Deviation: </span><span style=\"color: #008080; text-decoration-color: #008080; font-weight: bold\">0.5105</span>\n",
       "</pre>\n"
      ],
      "text/plain": [
       "\u001b[38;2;0;255;0mCV Standard Deviation: \u001b[0m\u001b[1;36m0.5105\u001b[0m\n"
      ]
     },
     "metadata": {},
     "output_type": "display_data"
    },
    {
     "data": {
      "text/html": [
       "<pre style=\"white-space:pre;overflow-x:auto;line-height:normal;font-family:Menlo,'DejaVu Sans Mono',consolas,'Courier New',monospace\"><span style=\"color: #00ff00; text-decoration-color: #00ff00\">Total trials: </span><span style=\"color: #008080; text-decoration-color: #008080; font-weight: bold\">50</span>\n",
       "</pre>\n"
      ],
      "text/plain": [
       "\u001b[38;2;0;255;0mTotal trials: \u001b[0m\u001b[1;36m50\u001b[0m\n"
      ]
     },
     "metadata": {},
     "output_type": "display_data"
    },
    {
     "data": {
      "text/html": [
       "<pre style=\"white-space:pre;overflow-x:auto;line-height:normal;font-family:Menlo,'DejaVu Sans Mono',consolas,'Courier New',monospace\"><span style=\"color: #00ffff; text-decoration-color: #00ffff\">Complete trials: </span><span style=\"color: #008080; text-decoration-color: #008080; font-weight: bold\">50</span>\n",
       "</pre>\n"
      ],
      "text/plain": [
       "\u001b[38;2;0;255;255mComplete trials: \u001b[0m\u001b[1;36m50\u001b[0m\n"
      ]
     },
     "metadata": {},
     "output_type": "display_data"
    },
    {
     "data": {
      "text/html": [
       "<pre style=\"white-space:pre;overflow-x:auto;line-height:normal;font-family:Menlo,'DejaVu Sans Mono',consolas,'Courier New',monospace\"><span style=\"color: #00ff00; text-decoration-color: #00ff00\">Pruned trials: </span><span style=\"color: #008080; text-decoration-color: #008080; font-weight: bold\">0</span>\n",
       "</pre>\n"
      ],
      "text/plain": [
       "\u001b[38;2;0;255;0mPruned trials: \u001b[0m\u001b[1;36m0\u001b[0m\n"
      ]
     },
     "metadata": {},
     "output_type": "display_data"
    },
    {
     "data": {
      "text/html": [
       "<pre style=\"white-space:pre;overflow-x:auto;line-height:normal;font-family:Menlo,'DejaVu Sans Mono',consolas,'Courier New',monospace\"><span style=\"color: #00ff00; text-decoration-color: #00ff00\">Failed trials: </span><span style=\"color: #008080; text-decoration-color: #008080; font-weight: bold\">0</span>\n",
       "</pre>\n"
      ],
      "text/plain": [
       "\u001b[38;2;0;255;0mFailed trials: \u001b[0m\u001b[1;36m0\u001b[0m\n"
      ]
     },
     "metadata": {},
     "output_type": "display_data"
    },
    {
     "data": {
      "text/html": [
       "<pre style=\"white-space:pre;overflow-x:auto;line-height:normal;font-family:Menlo,'DejaVu Sans Mono',consolas,'Courier New',monospace\"><span style=\"color: #00ffff; text-decoration-color: #00ffff\">Success rate: </span><span style=\"color: #008080; text-decoration-color: #008080; font-weight: bold\">100.0</span><span style=\"color: #00ffff; text-decoration-color: #00ffff\">%</span>\n",
       "</pre>\n"
      ],
      "text/plain": [
       "\u001b[38;2;0;255;255mSuccess rate: \u001b[0m\u001b[1;36m100.0\u001b[0m\u001b[38;2;0;255;255m%\u001b[0m\n"
      ]
     },
     "metadata": {},
     "output_type": "display_data"
    }
   ],
   "source": [
    "# Display cross-validation statistics\n",
    "cv_scores: list[float] = best_trial.user_attrs.get(\"cv_scores\", [])\n",
    "cv_std: float = best_trial.user_attrs.get(\"cv_std\", 0.0)\n",
    "\n",
    "console.print(f\"CV Scores: {np.mean(cv_scores):.4f}\", style=\"info\")\n",
    "console.print(f\"CV Standard Deviation: {cv_std:.4f}\", style=\"info\")\n",
    "\n",
    "# Study statistics\n",
    "total_trials: int = len(study.trials)\n",
    "failed_trials: int = len([t for t in study.trials if t.state == TrialState.FAIL])\n",
    "complete_trials: int = len([t for t in study.trials if t.state == TrialState.COMPLETE])\n",
    "pruned_trials: int = len([t for t in study.trials if t.state == TrialState.PRUNED])\n",
    "\n",
    "console.print(f\"Total trials: {total_trials}\", style=\"info\")\n",
    "console.print(f\"Complete trials: {complete_trials}\", style=\"success\")\n",
    "console.print(\n",
    "    f\"Pruned trials: {pruned_trials}\", style=\"warning\" if pruned_trials > 0 else \"info\"\n",
    ")\n",
    "console.print(\n",
    "    f\"Failed trials: {failed_trials}\", style=\"error\" if failed_trials > 0 else \"info\"\n",
    ")\n",
    "\n",
    "# Display trial state distribution\n",
    "console.print(\n",
    "    f\"Success rate: {(complete_trials / total_trials) * 100:.1f}%\", style=\"success\"\n",
    ")"
   ]
  },
  {
   "cell_type": "code",
   "execution_count": null,
   "id": "35960206",
   "metadata": {},
   "outputs": [
    {
     "data": {
      "text/html": [
       "<pre style=\"white-space:pre;overflow-x:auto;line-height:normal;font-family:Menlo,'DejaVu Sans Mono',consolas,'Courier New',monospace\">\n",
       "<span style=\"color: #00ff00; text-decoration-color: #00ff00\">Training final model with optimized parameters</span><span style=\"color: #808000; text-decoration-color: #808000\">...</span>\n",
       "</pre>\n"
      ],
      "text/plain": [
       "\n",
       "\u001b[38;2;0;255;0mTraining final model with optimized parameters\u001b[0m\u001b[33m...\u001b[0m\n"
      ]
     },
     "metadata": {},
     "output_type": "display_data"
    },
    {
     "data": {
      "text/html": [
       "<pre style=\"white-space:pre;overflow-x:auto;line-height:normal;font-family:Menlo,'DejaVu Sans Mono',consolas,'Courier New',monospace\"><span style=\"color: #ff4500; text-decoration-color: #ff4500\">========================================</span>\n",
       "</pre>\n"
      ],
      "text/plain": [
       "\u001b[38;2;255;69;0m========================================\u001b[0m\n"
      ]
     },
     "metadata": {},
     "output_type": "display_data"
    },
    {
     "data": {
      "text/html": [
       "<pre style=\"white-space:pre;overflow-x:auto;line-height:normal;font-family:Menlo,'DejaVu Sans Mono',consolas,'Courier New',monospace\"><span style=\"color: #00ffff; text-decoration-color: #00ffff\">FINAL MODEL EVALUATION</span>\n",
       "</pre>\n"
      ],
      "text/plain": [
       "\u001b[38;2;0;255;255mFINAL MODEL EVALUATION\u001b[0m\n"
      ]
     },
     "metadata": {},
     "output_type": "display_data"
    },
    {
     "data": {
      "text/html": [
       "<pre style=\"white-space:pre;overflow-x:auto;line-height:normal;font-family:Menlo,'DejaVu Sans Mono',consolas,'Courier New',monospace\"><span style=\"color: #ff4500; text-decoration-color: #ff4500\">========================================</span>\n",
       "</pre>\n"
      ],
      "text/plain": [
       "\u001b[38;2;255;69;0m========================================\u001b[0m\n"
      ]
     },
     "metadata": {},
     "output_type": "display_data"
    },
    {
     "data": {
      "text/html": [
       "<pre style=\"white-space:pre;overflow-x:auto;line-height:normal;font-family:Menlo,'DejaVu Sans Mono',consolas,'Courier New',monospace\"><span style=\"color: #00ffff; text-decoration-color: #00ffff\">Optimized Test Metrics: </span><span style=\"color: #00ffff; text-decoration-color: #00ffff; font-weight: bold\">{</span><span style=\"color: #008000; text-decoration-color: #008000\">'MAE'</span><span style=\"color: #00ffff; text-decoration-color: #00ffff\">: </span><span style=\"color: #008080; text-decoration-color: #008080; font-weight: bold\">43.8</span><span style=\"color: #00ffff; text-decoration-color: #00ffff\">, </span><span style=\"color: #008000; text-decoration-color: #008000\">'RMSE'</span><span style=\"color: #00ffff; text-decoration-color: #00ffff\">: </span><span style=\"color: #008080; text-decoration-color: #008080; font-weight: bold\">67.81</span><span style=\"color: #00ffff; text-decoration-color: #00ffff\">, </span><span style=\"color: #008000; text-decoration-color: #008000\">'MAPE'</span><span style=\"color: #00ffff; text-decoration-color: #00ffff\">: </span><span style=\"color: #008080; text-decoration-color: #008080; font-weight: bold\">23.72</span><span style=\"color: #00ffff; text-decoration-color: #00ffff; font-weight: bold\">}</span>\n",
       "</pre>\n"
      ],
      "text/plain": [
       "\u001b[38;2;0;255;255mOptimized Test Metrics: \u001b[0m\u001b[1;38;2;0;255;255m{\u001b[0m\u001b[32m'MAE'\u001b[0m\u001b[38;2;0;255;255m: \u001b[0m\u001b[1;36m43.8\u001b[0m\u001b[38;2;0;255;255m, \u001b[0m\u001b[32m'RMSE'\u001b[0m\u001b[38;2;0;255;255m: \u001b[0m\u001b[1;36m67.81\u001b[0m\u001b[38;2;0;255;255m, \u001b[0m\u001b[32m'MAPE'\u001b[0m\u001b[38;2;0;255;255m: \u001b[0m\u001b[1;36m23.72\u001b[0m\u001b[1;38;2;0;255;255m}\u001b[0m\n"
      ]
     },
     "metadata": {},
     "output_type": "display_data"
    },
    {
     "data": {
      "text/html": [
       "<pre style=\"white-space:pre;overflow-x:auto;line-height:normal;font-family:Menlo,'DejaVu Sans Mono',consolas,'Courier New',monospace\"><span style=\"color: #ff4500; text-decoration-color: #ff4500\">MAE Improvement: </span><span style=\"color: #008080; text-decoration-color: #008080; font-weight: bold\">5.16</span><span style=\"color: #ff4500; text-decoration-color: #ff4500\">%</span>\n",
       "</pre>\n"
      ],
      "text/plain": [
       "\u001b[38;2;255;69;0mMAE Improvement: \u001b[0m\u001b[1;36m5.16\u001b[0m\u001b[38;2;255;69;0m%\u001b[0m\n"
      ]
     },
     "metadata": {},
     "output_type": "display_data"
    },
    {
     "data": {
      "text/html": [
       "<pre style=\"white-space:pre;overflow-x:auto;line-height:normal;font-family:Menlo,'DejaVu Sans Mono',consolas,'Courier New',monospace\"><span style=\"color: #ff4500; text-decoration-color: #ff4500\">RMSE Improvement: </span><span style=\"color: #008080; text-decoration-color: #008080; font-weight: bold\">3.73</span><span style=\"color: #ff4500; text-decoration-color: #ff4500\">%</span>\n",
       "</pre>\n"
      ],
      "text/plain": [
       "\u001b[38;2;255;69;0mRMSE Improvement: \u001b[0m\u001b[1;36m3.73\u001b[0m\u001b[38;2;255;69;0m%\u001b[0m\n"
      ]
     },
     "metadata": {},
     "output_type": "display_data"
    },
    {
     "data": {
      "text/html": [
       "<pre style=\"white-space:pre;overflow-x:auto;line-height:normal;font-family:Menlo,'DejaVu Sans Mono',consolas,'Courier New',monospace\"><span style=\"color: #ff4500; text-decoration-color: #ff4500\">MAPE Improvement: </span><span style=\"color: #008080; text-decoration-color: #008080; font-weight: bold\">-3.50</span><span style=\"color: #ff4500; text-decoration-color: #ff4500\">%</span>\n",
       "</pre>\n"
      ],
      "text/plain": [
       "\u001b[38;2;255;69;0mMAPE Improvement: \u001b[0m\u001b[1;36m-3.50\u001b[0m\u001b[38;2;255;69;0m%\u001b[0m\n"
      ]
     },
     "metadata": {},
     "output_type": "display_data"
    }
   ],
   "source": [
    "# Train final model with optimized parameters\n",
    "console.print(\"\\nTraining final model with optimized parameters...\", style=\"info\")\n",
    "\n",
    "final_rf_model = RandomForestRegressor(**best_params)\n",
    "final_rf_model.fit(x_train, y_train)\n",
    "\n",
    "# Evaluate on test set\n",
    "y_test_pred_optimized: np.ndarray = final_rf_model.predict(x_test)\n",
    "final_metrics_optimized: dict[str, float] = compute_metrics(\n",
    "    y_test, y_test_pred_optimized\n",
    ")\n",
    "\n",
    "console.print(\"=\" * 40, style=\"highlight\")\n",
    "console.print(\"FINAL MODEL EVALUATION\", style=\"success\")\n",
    "console.print(\"=\" * 40, style=\"highlight\")\n",
    "\n",
    "console.print(f\"Optimized Test Metrics: {final_metrics_optimized}\", style=\"success\")\n",
    "\n",
    "# Compare with previous best model\n",
    "if \"metrics_base_with_advanced_feats\" in locals():\n",
    "    mae_improvement: float = pct_change(\n",
    "        old=metrics_base_with_advanced_feats.get(\"MAE\", 0),\n",
    "        new=final_metrics_optimized.get(\"MAE\", 0),\n",
    "    )\n",
    "    rmse_improvement: float = pct_change(\n",
    "        old=metrics_base_with_advanced_feats.get(\"RMSE\", 0),\n",
    "        new=final_metrics_optimized.get(\"RMSE\", 0),\n",
    "    )\n",
    "    mape_improvement: float = pct_change(\n",
    "        old=metrics_base_with_advanced_feats.get(\"MAPE\", 0),\n",
    "        new=final_metrics_optimized.get(\"MAPE\", 0),\n",
    "    )\n",
    "\n",
    "    console.print(f\"MAE Improvement: {mae_improvement:.2f}%\", style=\"highlight\")\n",
    "    console.print(f\"RMSE Improvement: {rmse_improvement:.2f}%\", style=\"highlight\")\n",
    "    console.print(f\"MAPE Improvement: {mape_improvement:.2f}%\", style=\"highlight\")"
   ]
  },
  {
   "cell_type": "code",
   "execution_count": null,
   "id": "6a09c089",
   "metadata": {},
   "outputs": [
    {
     "data": {
      "text/html": [
       "<div><style>\n",
       ".dataframe > thead > tr,\n",
       ".dataframe > tbody > tr {\n",
       "  text-align: right;\n",
       "  white-space: pre-wrap;\n",
       "}\n",
       "</style>\n",
       "<small>shape: (15, 2)</small><table border=\"1\" class=\"dataframe\"><thead><tr><th>feature</th><th>importance</th></tr><tr><td>str</td><td>f64</td></tr></thead><tbody><tr><td>&quot;current&quot;</td><td>0.195268</td></tr><tr><td>&quot;cnt_lag_23&quot;</td><td>0.124939</td></tr><tr><td>&quot;cnt_diff_1hr&quot;</td><td>0.095131</td></tr><tr><td>&quot;cnt_lag_24&quot;</td><td>0.072925</td></tr><tr><td>&quot;cnt_lag_1&quot;</td><td>0.06081</td></tr><tr><td>&quot;hr&quot;</td><td>0.051454</td></tr><tr><td>&quot;cos_hour&quot;</td><td>0.049977</td></tr><tr><td>&quot;hr_lag_23&quot;</td><td>0.035376</td></tr><tr><td>&quot;hr_lag_24&quot;</td><td>0.034797</td></tr><tr><td>&quot;hr_lag_1&quot;</td><td>0.03008</td></tr><tr><td>&quot;cnt_diff_24hr&quot;</td><td>0.028451</td></tr><tr><td>&quot;cnt_lag_2&quot;</td><td>0.021948</td></tr><tr><td>&quot;temp_hr_interaction&quot;</td><td>0.021162</td></tr><tr><td>&quot;sin_hour&quot;</td><td>0.019363</td></tr><tr><td>&quot;is_business_hour&quot;</td><td>0.017766</td></tr></tbody></table></div>"
      ],
      "text/plain": [
       "shape: (15, 2)\n",
       "┌─────────────────────┬────────────┐\n",
       "│ feature             ┆ importance │\n",
       "│ ---                 ┆ ---        │\n",
       "│ str                 ┆ f64        │\n",
       "╞═════════════════════╪════════════╡\n",
       "│ current             ┆ 0.195268   │\n",
       "│ cnt_lag_23          ┆ 0.124939   │\n",
       "│ cnt_diff_1hr        ┆ 0.095131   │\n",
       "│ cnt_lag_24          ┆ 0.072925   │\n",
       "│ cnt_lag_1           ┆ 0.06081    │\n",
       "│ hr                  ┆ 0.051454   │\n",
       "│ cos_hour            ┆ 0.049977   │\n",
       "│ hr_lag_23           ┆ 0.035376   │\n",
       "│ hr_lag_24           ┆ 0.034797   │\n",
       "│ hr_lag_1            ┆ 0.03008    │\n",
       "│ cnt_diff_24hr       ┆ 0.028451   │\n",
       "│ cnt_lag_2           ┆ 0.021948   │\n",
       "│ temp_hr_interaction ┆ 0.021162   │\n",
       "│ sin_hour            ┆ 0.019363   │\n",
       "│ is_business_hour    ┆ 0.017766   │\n",
       "└─────────────────────┴────────────┘"
      ]
     },
     "execution_count": 78,
     "metadata": {},
     "output_type": "execute_result"
    }
   ],
   "source": [
    "# Display feature importance\n",
    "feature_importance: np.ndarray = final_rf_model.feature_importances_\n",
    "feature_names: list[str] = train_df.drop(\"target\").columns\n",
    "\n",
    "# Get top 10 most important features\n",
    "importance_df = pl.DataFrame(\n",
    "    {\"feature\": feature_names, \"importance\": feature_importance}\n",
    ").sort(\"importance\", descending=True)\n",
    "\n",
    "importance_df.head(15)"
   ]
  },
  {
   "cell_type": "code",
   "execution_count": null,
   "id": "540f6fd4",
   "metadata": {},
   "outputs": [],
   "source": []
  },
  {
   "cell_type": "code",
   "execution_count": null,
   "id": "6824dd79",
   "metadata": {},
   "outputs": [
    {
     "data": {
      "application/vnd.plotly.v1+json": {
       "config": {
        "plotlyServerURL": "https://plot.ly"
       },
       "data": [
        {
         "line": {
          "color": "blue",
          "width": 2
         },
         "mode": "lines",
         "name": "y_true (Actual)",
         "type": "scatter",
         "x": [
          0,
          1,
          2,
          3,
          4,
          5,
          6,
          7,
          8,
          9,
          10,
          11,
          12,
          13,
          14,
          15,
          16,
          17,
          18,
          19,
          20,
          21,
          22,
          23,
          24,
          25,
          26,
          27,
          28,
          29,
          30,
          31,
          32,
          33,
          34,
          35,
          36,
          37,
          38,
          39,
          40,
          41,
          42,
          43,
          44,
          45,
          46,
          47,
          48,
          49,
          50,
          51,
          52,
          53,
          54,
          55,
          56,
          57,
          58,
          59,
          60,
          61,
          62,
          63,
          64,
          65,
          66,
          67,
          68,
          69,
          70,
          71,
          72,
          73,
          74,
          75,
          76,
          77,
          78,
          79,
          80,
          81,
          82,
          83,
          84,
          85,
          86,
          87,
          88,
          89,
          90,
          91,
          92,
          93,
          94,
          95,
          96,
          97,
          98,
          99,
          100,
          101,
          102,
          103,
          104,
          105,
          106,
          107,
          108,
          109,
          110,
          111,
          112,
          113,
          114,
          115,
          116,
          117,
          118,
          119,
          120,
          121,
          122,
          123,
          124,
          125,
          126,
          127,
          128,
          129,
          130,
          131,
          132,
          133,
          134,
          135,
          136,
          137,
          138,
          139,
          140,
          141,
          142,
          143,
          144,
          145,
          146,
          147,
          148,
          149,
          150,
          151,
          152,
          153,
          154,
          155,
          156,
          157,
          158,
          159,
          160,
          161,
          162,
          163,
          164,
          165,
          166,
          167,
          168,
          169,
          170,
          171,
          172,
          173,
          174,
          175,
          176,
          177,
          178,
          179,
          180,
          181,
          182,
          183,
          184,
          185,
          186,
          187,
          188,
          189,
          190,
          191,
          192,
          193,
          194,
          195,
          196,
          197,
          198,
          199,
          200,
          201,
          202,
          203,
          204,
          205,
          206,
          207,
          208,
          209,
          210,
          211,
          212,
          213,
          214,
          215,
          216,
          217,
          218,
          219,
          220,
          221,
          222,
          223,
          224,
          225,
          226,
          227,
          228,
          229,
          230,
          231,
          232,
          233,
          234,
          235,
          236,
          237,
          238,
          239,
          240,
          241,
          242,
          243,
          244,
          245,
          246,
          247,
          248,
          249,
          250,
          251,
          252,
          253,
          254,
          255,
          256,
          257,
          258,
          259,
          260,
          261,
          262,
          263,
          264,
          265,
          266,
          267,
          268,
          269,
          270,
          271,
          272,
          273,
          274,
          275,
          276,
          277,
          278,
          279,
          280,
          281,
          282,
          283,
          284,
          285,
          286,
          287,
          288,
          289,
          290,
          291,
          292,
          293,
          294,
          295,
          296,
          297,
          298,
          299
         ],
         "y": {
          "bdata": "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",
          "dtype": "f8"
         }
        },
        {
         "line": {
          "color": "red",
          "width": 2
         },
         "mode": "lines",
         "name": "y_pred (Predicted with Optimized Model)",
         "type": "scatter",
         "x": [
          0,
          1,
          2,
          3,
          4,
          5,
          6,
          7,
          8,
          9,
          10,
          11,
          12,
          13,
          14,
          15,
          16,
          17,
          18,
          19,
          20,
          21,
          22,
          23,
          24,
          25,
          26,
          27,
          28,
          29,
          30,
          31,
          32,
          33,
          34,
          35,
          36,
          37,
          38,
          39,
          40,
          41,
          42,
          43,
          44,
          45,
          46,
          47,
          48,
          49,
          50,
          51,
          52,
          53,
          54,
          55,
          56,
          57,
          58,
          59,
          60,
          61,
          62,
          63,
          64,
          65,
          66,
          67,
          68,
          69,
          70,
          71,
          72,
          73,
          74,
          75,
          76,
          77,
          78,
          79,
          80,
          81,
          82,
          83,
          84,
          85,
          86,
          87,
          88,
          89,
          90,
          91,
          92,
          93,
          94,
          95,
          96,
          97,
          98,
          99,
          100,
          101,
          102,
          103,
          104,
          105,
          106,
          107,
          108,
          109,
          110,
          111,
          112,
          113,
          114,
          115,
          116,
          117,
          118,
          119,
          120,
          121,
          122,
          123,
          124,
          125,
          126,
          127,
          128,
          129,
          130,
          131,
          132,
          133,
          134,
          135,
          136,
          137,
          138,
          139,
          140,
          141,
          142,
          143,
          144,
          145,
          146,
          147,
          148,
          149,
          150,
          151,
          152,
          153,
          154,
          155,
          156,
          157,
          158,
          159,
          160,
          161,
          162,
          163,
          164,
          165,
          166,
          167,
          168,
          169,
          170,
          171,
          172,
          173,
          174,
          175,
          176,
          177,
          178,
          179,
          180,
          181,
          182,
          183,
          184,
          185,
          186,
          187,
          188,
          189,
          190,
          191,
          192,
          193,
          194,
          195,
          196,
          197,
          198,
          199,
          200,
          201,
          202,
          203,
          204,
          205,
          206,
          207,
          208,
          209,
          210,
          211,
          212,
          213,
          214,
          215,
          216,
          217,
          218,
          219,
          220,
          221,
          222,
          223,
          224,
          225,
          226,
          227,
          228,
          229,
          230,
          231,
          232,
          233,
          234,
          235,
          236,
          237,
          238,
          239,
          240,
          241,
          242,
          243,
          244,
          245,
          246,
          247,
          248,
          249,
          250,
          251,
          252,
          253,
          254,
          255,
          256,
          257,
          258,
          259,
          260,
          261,
          262,
          263,
          264,
          265,
          266,
          267,
          268,
          269,
          270,
          271,
          272,
          273,
          274,
          275,
          276,
          277,
          278,
          279,
          280,
          281,
          282,
          283,
          284,
          285,
          286,
          287,
          288,
          289,
          290,
          291,
          292,
          293,
          294,
          295,
          296,
          297,
          298,
          299
         ],
         "y": {
          "bdata": "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",
          "dtype": "f8"
         }
        }
       ],
       "layout": {
        "height": 500,
        "hovermode": "x unified",
        "template": {
         "data": {
          "bar": [
           {
            "error_x": {
             "color": "#2a3f5f"
            },
            "error_y": {
             "color": "#2a3f5f"
            },
            "marker": {
             "line": {
              "color": "white",
              "width": 0.5
             },
             "pattern": {
              "fillmode": "overlay",
              "size": 10,
              "solidity": 0.2
             }
            },
            "type": "bar"
           }
          ],
          "barpolar": [
           {
            "marker": {
             "line": {
              "color": "white",
              "width": 0.5
             },
             "pattern": {
              "fillmode": "overlay",
              "size": 10,
              "solidity": 0.2
             }
            },
            "type": "barpolar"
           }
          ],
          "carpet": [
           {
            "aaxis": {
             "endlinecolor": "#2a3f5f",
             "gridcolor": "#C8D4E3",
             "linecolor": "#C8D4E3",
             "minorgridcolor": "#C8D4E3",
             "startlinecolor": "#2a3f5f"
            },
            "baxis": {
             "endlinecolor": "#2a3f5f",
             "gridcolor": "#C8D4E3",
             "linecolor": "#C8D4E3",
             "minorgridcolor": "#C8D4E3",
             "startlinecolor": "#2a3f5f"
            },
            "type": "carpet"
           }
          ],
          "choropleth": [
           {
            "colorbar": {
             "outlinewidth": 0,
             "ticks": ""
            },
            "type": "choropleth"
           }
          ],
          "contour": [
           {
            "colorbar": {
             "outlinewidth": 0,
             "ticks": ""
            },
            "colorscale": [
             [
              0,
              "#0d0887"
             ],
             [
              0.1111111111111111,
              "#46039f"
             ],
             [
              0.2222222222222222,
              "#7201a8"
             ],
             [
              0.3333333333333333,
              "#9c179e"
             ],
             [
              0.4444444444444444,
              "#bd3786"
             ],
             [
              0.5555555555555556,
              "#d8576b"
             ],
             [
              0.6666666666666666,
              "#ed7953"
             ],
             [
              0.7777777777777778,
              "#fb9f3a"
             ],
             [
              0.8888888888888888,
              "#fdca26"
             ],
             [
              1,
              "#f0f921"
             ]
            ],
            "type": "contour"
           }
          ],
          "contourcarpet": [
           {
            "colorbar": {
             "outlinewidth": 0,
             "ticks": ""
            },
            "type": "contourcarpet"
           }
          ],
          "heatmap": [
           {
            "colorbar": {
             "outlinewidth": 0,
             "ticks": ""
            },
            "colorscale": [
             [
              0,
              "#0d0887"
             ],
             [
              0.1111111111111111,
              "#46039f"
             ],
             [
              0.2222222222222222,
              "#7201a8"
             ],
             [
              0.3333333333333333,
              "#9c179e"
             ],
             [
              0.4444444444444444,
              "#bd3786"
             ],
             [
              0.5555555555555556,
              "#d8576b"
             ],
             [
              0.6666666666666666,
              "#ed7953"
             ],
             [
              0.7777777777777778,
              "#fb9f3a"
             ],
             [
              0.8888888888888888,
              "#fdca26"
             ],
             [
              1,
              "#f0f921"
             ]
            ],
            "type": "heatmap"
           }
          ],
          "histogram": [
           {
            "marker": {
             "pattern": {
              "fillmode": "overlay",
              "size": 10,
              "solidity": 0.2
             }
            },
            "type": "histogram"
           }
          ],
          "histogram2d": [
           {
            "colorbar": {
             "outlinewidth": 0,
             "ticks": ""
            },
            "colorscale": [
             [
              0,
              "#0d0887"
             ],
             [
              0.1111111111111111,
              "#46039f"
             ],
             [
              0.2222222222222222,
              "#7201a8"
             ],
             [
              0.3333333333333333,
              "#9c179e"
             ],
             [
              0.4444444444444444,
              "#bd3786"
             ],
             [
              0.5555555555555556,
              "#d8576b"
             ],
             [
              0.6666666666666666,
              "#ed7953"
             ],
             [
              0.7777777777777778,
              "#fb9f3a"
             ],
             [
              0.8888888888888888,
              "#fdca26"
             ],
             [
              1,
              "#f0f921"
             ]
            ],
            "type": "histogram2d"
           }
          ],
          "histogram2dcontour": [
           {
            "colorbar": {
             "outlinewidth": 0,
             "ticks": ""
            },
            "colorscale": [
             [
              0,
              "#0d0887"
             ],
             [
              0.1111111111111111,
              "#46039f"
             ],
             [
              0.2222222222222222,
              "#7201a8"
             ],
             [
              0.3333333333333333,
              "#9c179e"
             ],
             [
              0.4444444444444444,
              "#bd3786"
             ],
             [
              0.5555555555555556,
              "#d8576b"
             ],
             [
              0.6666666666666666,
              "#ed7953"
             ],
             [
              0.7777777777777778,
              "#fb9f3a"
             ],
             [
              0.8888888888888888,
              "#fdca26"
             ],
             [
              1,
              "#f0f921"
             ]
            ],
            "type": "histogram2dcontour"
           }
          ],
          "mesh3d": [
           {
            "colorbar": {
             "outlinewidth": 0,
             "ticks": ""
            },
            "type": "mesh3d"
           }
          ],
          "parcoords": [
           {
            "line": {
             "colorbar": {
              "outlinewidth": 0,
              "ticks": ""
             }
            },
            "type": "parcoords"
           }
          ],
          "pie": [
           {
            "automargin": true,
            "type": "pie"
           }
          ],
          "scatter": [
           {
            "fillpattern": {
             "fillmode": "overlay",
             "size": 10,
             "solidity": 0.2
            },
            "type": "scatter"
           }
          ],
          "scatter3d": [
           {
            "line": {
             "colorbar": {
              "outlinewidth": 0,
              "ticks": ""
             }
            },
            "marker": {
             "colorbar": {
              "outlinewidth": 0,
              "ticks": ""
             }
            },
            "type": "scatter3d"
           }
          ],
          "scattercarpet": [
           {
            "marker": {
             "colorbar": {
              "outlinewidth": 0,
              "ticks": ""
             }
            },
            "type": "scattercarpet"
           }
          ],
          "scattergeo": [
           {
            "marker": {
             "colorbar": {
              "outlinewidth": 0,
              "ticks": ""
             }
            },
            "type": "scattergeo"
           }
          ],
          "scattergl": [
           {
            "marker": {
             "colorbar": {
              "outlinewidth": 0,
              "ticks": ""
             }
            },
            "type": "scattergl"
           }
          ],
          "scattermap": [
           {
            "marker": {
             "colorbar": {
              "outlinewidth": 0,
              "ticks": ""
             }
            },
            "type": "scattermap"
           }
          ],
          "scattermapbox": [
           {
            "marker": {
             "colorbar": {
              "outlinewidth": 0,
              "ticks": ""
             }
            },
            "type": "scattermapbox"
           }
          ],
          "scatterpolar": [
           {
            "marker": {
             "colorbar": {
              "outlinewidth": 0,
              "ticks": ""
             }
            },
            "type": "scatterpolar"
           }
          ],
          "scatterpolargl": [
           {
            "marker": {
             "colorbar": {
              "outlinewidth": 0,
              "ticks": ""
             }
            },
            "type": "scatterpolargl"
           }
          ],
          "scatterternary": [
           {
            "marker": {
             "colorbar": {
              "outlinewidth": 0,
              "ticks": ""
             }
            },
            "type": "scatterternary"
           }
          ],
          "surface": [
           {
            "colorbar": {
             "outlinewidth": 0,
             "ticks": ""
            },
            "colorscale": [
             [
              0,
              "#0d0887"
             ],
             [
              0.1111111111111111,
              "#46039f"
             ],
             [
              0.2222222222222222,
              "#7201a8"
             ],
             [
              0.3333333333333333,
              "#9c179e"
             ],
             [
              0.4444444444444444,
              "#bd3786"
             ],
             [
              0.5555555555555556,
              "#d8576b"
             ],
             [
              0.6666666666666666,
              "#ed7953"
             ],
             [
              0.7777777777777778,
              "#fb9f3a"
             ],
             [
              0.8888888888888888,
              "#fdca26"
             ],
             [
              1,
              "#f0f921"
             ]
            ],
            "type": "surface"
           }
          ],
          "table": [
           {
            "cells": {
             "fill": {
              "color": "#EBF0F8"
             },
             "line": {
              "color": "white"
             }
            },
            "header": {
             "fill": {
              "color": "#C8D4E3"
             },
             "line": {
              "color": "white"
             }
            },
            "type": "table"
           }
          ]
         },
         "layout": {
          "annotationdefaults": {
           "arrowcolor": "#2a3f5f",
           "arrowhead": 0,
           "arrowwidth": 1
          },
          "autotypenumbers": "strict",
          "coloraxis": {
           "colorbar": {
            "outlinewidth": 0,
            "ticks": ""
           }
          },
          "colorscale": {
           "diverging": [
            [
             0,
             "#8e0152"
            ],
            [
             0.1,
             "#c51b7d"
            ],
            [
             0.2,
             "#de77ae"
            ],
            [
             0.3,
             "#f1b6da"
            ],
            [
             0.4,
             "#fde0ef"
            ],
            [
             0.5,
             "#f7f7f7"
            ],
            [
             0.6,
             "#e6f5d0"
            ],
            [
             0.7,
             "#b8e186"
            ],
            [
             0.8,
             "#7fbc41"
            ],
            [
             0.9,
             "#4d9221"
            ],
            [
             1,
             "#276419"
            ]
           ],
           "sequential": [
            [
             0,
             "#0d0887"
            ],
            [
             0.1111111111111111,
             "#46039f"
            ],
            [
             0.2222222222222222,
             "#7201a8"
            ],
            [
             0.3333333333333333,
             "#9c179e"
            ],
            [
             0.4444444444444444,
             "#bd3786"
            ],
            [
             0.5555555555555556,
             "#d8576b"
            ],
            [
             0.6666666666666666,
             "#ed7953"
            ],
            [
             0.7777777777777778,
             "#fb9f3a"
            ],
            [
             0.8888888888888888,
             "#fdca26"
            ],
            [
             1,
             "#f0f921"
            ]
           ],
           "sequentialminus": [
            [
             0,
             "#0d0887"
            ],
            [
             0.1111111111111111,
             "#46039f"
            ],
            [
             0.2222222222222222,
             "#7201a8"
            ],
            [
             0.3333333333333333,
             "#9c179e"
            ],
            [
             0.4444444444444444,
             "#bd3786"
            ],
            [
             0.5555555555555556,
             "#d8576b"
            ],
            [
             0.6666666666666666,
             "#ed7953"
            ],
            [
             0.7777777777777778,
             "#fb9f3a"
            ],
            [
             0.8888888888888888,
             "#fdca26"
            ],
            [
             1,
             "#f0f921"
            ]
           ]
          },
          "colorway": [
           "#636efa",
           "#EF553B",
           "#00cc96",
           "#ab63fa",
           "#FFA15A",
           "#19d3f3",
           "#FF6692",
           "#B6E880",
           "#FF97FF",
           "#FECB52"
          ],
          "font": {
           "color": "#2a3f5f"
          },
          "geo": {
           "bgcolor": "white",
           "lakecolor": "white",
           "landcolor": "white",
           "showlakes": true,
           "showland": true,
           "subunitcolor": "#C8D4E3"
          },
          "hoverlabel": {
           "align": "left"
          },
          "hovermode": "closest",
          "mapbox": {
           "style": "light"
          },
          "paper_bgcolor": "white",
          "plot_bgcolor": "white",
          "polar": {
           "angularaxis": {
            "gridcolor": "#EBF0F8",
            "linecolor": "#EBF0F8",
            "ticks": ""
           },
           "bgcolor": "white",
           "radialaxis": {
            "gridcolor": "#EBF0F8",
            "linecolor": "#EBF0F8",
            "ticks": ""
           }
          },
          "scene": {
           "xaxis": {
            "backgroundcolor": "white",
            "gridcolor": "#DFE8F3",
            "gridwidth": 2,
            "linecolor": "#EBF0F8",
            "showbackground": true,
            "ticks": "",
            "zerolinecolor": "#EBF0F8"
           },
           "yaxis": {
            "backgroundcolor": "white",
            "gridcolor": "#DFE8F3",
            "gridwidth": 2,
            "linecolor": "#EBF0F8",
            "showbackground": true,
            "ticks": "",
            "zerolinecolor": "#EBF0F8"
           },
           "zaxis": {
            "backgroundcolor": "white",
            "gridcolor": "#DFE8F3",
            "gridwidth": 2,
            "linecolor": "#EBF0F8",
            "showbackground": true,
            "ticks": "",
            "zerolinecolor": "#EBF0F8"
           }
          },
          "shapedefaults": {
           "line": {
            "color": "#2a3f5f"
           }
          },
          "ternary": {
           "aaxis": {
            "gridcolor": "#DFE8F3",
            "linecolor": "#A2B1C6",
            "ticks": ""
           },
           "baxis": {
            "gridcolor": "#DFE8F3",
            "linecolor": "#A2B1C6",
            "ticks": ""
           },
           "bgcolor": "white",
           "caxis": {
            "gridcolor": "#DFE8F3",
            "linecolor": "#A2B1C6",
            "ticks": ""
           }
          },
          "title": {
           "x": 0.05
          },
          "xaxis": {
           "automargin": true,
           "gridcolor": "#EBF0F8",
           "linecolor": "#EBF0F8",
           "ticks": "",
           "title": {
            "standoff": 15
           },
           "zerolinecolor": "#EBF0F8",
           "zerolinewidth": 2
          },
          "yaxis": {
           "automargin": true,
           "gridcolor": "#EBF0F8",
           "linecolor": "#EBF0F8",
           "ticks": "",
           "title": {
            "standoff": 15
           },
           "zerolinecolor": "#EBF0F8",
           "zerolinewidth": 2
          }
         }
        },
        "title": {
         "text": "Actual vs Predicted Bike Rental Counts (Optimized Model)"
        },
        "width": 800,
        "xaxis": {
         "title": {
          "text": "Time Steps"
         }
        },
        "yaxis": {
         "title": {
          "text": "Bike Rental Count"
         }
        }
       }
      }
     },
     "metadata": {},
     "output_type": "display_data"
    }
   ],
   "source": [
    "plot_actual_vs_predicted(\n",
    "    y_true=y_test,\n",
    "    y_pred=y_test_pred_optimized,\n",
    "    n=n,\n",
    "    title=\"Actual vs Predicted Bike Rental Counts (Optimized Model)\",\n",
    ")"
   ]
  },
  {
   "cell_type": "code",
   "execution_count": null,
   "id": "477bdab6",
   "metadata": {},
   "outputs": [],
   "source": []
  },
  {
   "cell_type": "code",
   "execution_count": null,
   "id": "852fa57e",
   "metadata": {},
   "outputs": [],
   "source": []
  },
  {
   "cell_type": "code",
   "execution_count": null,
   "id": "d7988d42",
   "metadata": {},
   "outputs": [],
   "source": []
  },
  {
   "cell_type": "code",
   "execution_count": null,
   "id": "bb0007dd",
   "metadata": {},
   "outputs": [],
   "source": []
  },
  {
   "cell_type": "code",
   "execution_count": null,
   "id": "f3955426",
   "metadata": {},
   "outputs": [],
   "source": []
  },
  {
   "cell_type": "code",
   "execution_count": null,
   "id": "5428fb74",
   "metadata": {},
   "outputs": [],
   "source": []
  }
 ],
 "metadata": {
  "kernelspec": {
   "display_name": "Bike-Rental-Prediction (3.12.11)",
   "language": "python",
   "name": "python3"
  },
  "language_info": {
   "codemirror_mode": {
    "name": "ipython",
    "version": 3
   },
   "file_extension": ".py",
   "mimetype": "text/x-python",
   "name": "python",
   "nbconvert_exporter": "python",
   "pygments_lexer": "ipython3",
   "version": "3.12.11"
  }
 },
 "nbformat": 4,
 "nbformat_minor": 5
}
